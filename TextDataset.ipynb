{
 "cells": [
  {
   "cell_type": "code",
   "execution_count": 1,
   "metadata": {},
   "outputs": [
    {
     "data": {
      "application/javascript": [
       "IPython.notebook.set_autosave_interval(60000)"
      ]
     },
     "metadata": {},
     "output_type": "display_data"
    },
    {
     "name": "stdout",
     "output_type": "stream",
     "text": [
      "Autosaving every 60 seconds\n"
     ]
    }
   ],
   "source": [
    "%autosave 60"
   ]
  },
  {
   "cell_type": "code",
   "execution_count": 2,
   "metadata": {},
   "outputs": [
    {
     "data": {
      "text/plain": [
       "'0123456789abcdefghijklmnopqrstuvwxyzABCDEFGHIJKLMNOPQRSTUVWXYZ!\"#$%&\\'()*+,-./:;<=>?@[\\\\]^_`{|}~ \\t\\n\\r\\x0b\\x0c'"
      ]
     },
     "execution_count": 2,
     "metadata": {},
     "output_type": "execute_result"
    }
   ],
   "source": [
    "import string\n",
    "string.ascii_letters + string.digits\n",
    "string.printable"
   ]
  },
  {
   "cell_type": "code",
   "execution_count": 3,
   "metadata": {},
   "outputs": [],
   "source": [
    "# class for the dataset:\n",
    "import torch\n",
    "# class for text-datasets\n",
    "# Jama, NEJM and lancet\n",
    "from torch.utils.data import Dataset, DataLoader\n",
    "import unicodedata\n",
    "class TextDataset(Dataset):\n",
    "\n",
    "    SPECIAL_CHARS = [None, \"\\n\"]\n",
    "    def __len__(self):\n",
    "        return len(self.total_examples)\n",
    "        pass\n",
    " \n",
    "    # generates tensors for the vocab\n",
    "    # i.e. assigns a number to each character\n",
    "    # Q: possible to do one-pass?\n",
    "    def make_vocab(self):\n",
    "        \n",
    "        self.char2index = {}\n",
    "        self.index2char = {}\n",
    "        index = 0\n",
    "        with open(self.text_file) as file:\n",
    "            for line in file:\n",
    "                for char in line:\n",
    "                    if char not in self.char2index:\n",
    "                        self.char2index[char] = index\n",
    "                        self.index2char[index]  = char\n",
    "                        index+=1\n",
    "        \n",
    "        for char in self.SPECIAL_CHARS:\n",
    "#             print(\"this is the char\")\n",
    "            if char not in self.char2index:\n",
    "                self.char2index[char] = index\n",
    "                self.index2char[index] = char\n",
    "                index += 1\n",
    "        \n",
    "        print(self.char2index[None])\n",
    "        # potentially need to add 2 for the None and \\n characters\n",
    "        self.vocab_size = len(self.char2index)\n",
    "    \n",
    "    # this allows the model to handle all possible strings passed into it!!\n",
    "    def full_vocab(self):\n",
    "        self.char2index = {}\n",
    "        self.index2char = {}\n",
    "        index = 0\n",
    "        all_letters = string.printable \n",
    "        for char in all_letters:\n",
    "            if char not in self.char2index:\n",
    "                self.char2index[char] = index\n",
    "                self.index2char[index]  = char\n",
    "                index+=1\n",
    "                \n",
    "        for char in self.SPECIAL_CHARS:\n",
    "#             print(\"this is the char\")\n",
    "            if char not in self.char2index:\n",
    "                self.char2index[char] = index\n",
    "                self.index2char[index] = char\n",
    "                index += 1\n",
    "                \n",
    "        self.vocab_size = len(self.char2index)   \n",
    "        \n",
    "        \n",
    "    \n",
    "    \n",
    "    def generate_tensor_for_char(self, char):\n",
    "        temp = torch.zeros(1, self.vocab_size)\n",
    "        temp[0][self.char2index[char]] = 1 \n",
    "        return temp\n",
    "\n",
    "#     def generate_char_from_tensor(self, char):\n",
    "#         temp = torch.zeros(self.vocab_size, 1)\n",
    "#         temp[self.char2index[char]][0] = 1 \n",
    "#         return temp\n",
    "    def lineToTensor(self,line):\n",
    "        tensor = torch.zeros(len(line), 1, self.vocab_size)\n",
    "#         print(line)\n",
    "        for li, letter in enumerate(line):\n",
    "            tensor[li][0][self.char2index[letter]] = 1\n",
    "        return tensor\n",
    "    \n",
    "    # wrap the lines!\n",
    "    def train_example_builder(self, line):\n",
    "        tensor = torch.zeros(len(line), 1, self.vocab_size)\n",
    "        for li, letter in enumerate(line):\n",
    "            tensor[li][0][self.char2index[letter]] = 1\n",
    "        return tensor\n",
    "      \n",
    "#     could do more of a common build api\n",
    "    def get_None_tensor(self):\n",
    "        tensor = torch.zeros(1, 1, self.vocab_size)\n",
    "        tensor[0][0][self.char2index[None]] = 1\n",
    "        return tensor\n",
    "    \n",
    "    def list_to_tensor(self, input_list):\n",
    "        tensor = torch.zeros(len(input_list), 1, self.vocab_size)\n",
    "        for elt in input_list:\n",
    "            tensor[li][0][self.char2index[letter]] = 1\n",
    "            \n",
    "#     def get_training_pair(self, line):\n",
    "        \n",
    "        \n",
    "    \n",
    "    def get_new_line_tensor(self):\n",
    "        tensor = torch.zeros(1, 1, self.vocab_size)\n",
    "        tensor[0][0][self.char2index[\"\\n\"]] = 1\n",
    "        return tensor\n",
    "\n",
    "        \n",
    "#         tensor[li][0][self.char2index[letter]] \n",
    "#         temp \n",
    "    def unicodeToAscii(self,s):\n",
    "        return ''.join(\n",
    "            c for c in unicodedata.normalize('NFD', s)\n",
    "            if unicodedata.category(c) != 'Mn'\n",
    "            and c in self.char2index\n",
    "        )\n",
    "\n",
    "    def __init__(self, text_file,  convert_to_ascii = True):\n",
    "        self.string = string\n",
    "        self.text_file = text_file\n",
    "\n",
    "        self.training_examples = []\n",
    "\n",
    "        total_inputs = []\n",
    "        total_outputs = []\n",
    "        \n",
    "#         make the vocab\n",
    "        self.full_vocab()\n",
    "        \n",
    "        with open(text_file) as file:\n",
    "            for raw_line in file:\n",
    "                \n",
    "                line = self.unicodeToAscii(raw_line) if convert_to_ascii else raw_line\n",
    "                # zero pad to start\n",
    "                \n",
    "                \n",
    "#                 think about how to make this a vector or tensor line! \n",
    "#                 print()\n",
    "                \n",
    "#                 inputs = self.get_None_tensor() + line_to_tensor(line)\n",
    "#                 inputs = [None] + [x for x in line]\n",
    "                inputs = self.lineToTensor([None] + [x for x in line])\n",
    "                \n",
    "                targets = self.lineToTensor([x for x in line] + [\"\\n\"])  # we need a 0 as well!\n",
    "\n",
    "                # append: will be a list of list (of lines)\n",
    "                # extend: will be a list of lines\n",
    "                total_inputs.append(inputs)\n",
    "                total_outputs.append(targets)\n",
    "\n",
    "        assert len(total_inputs) == len(total_outputs)\n",
    "        \n",
    "        # this is now a LIST of lists!\n",
    "        self.total_examples = list(zip(total_inputs, total_outputs))\n",
    "        \n",
    "        #                 for char in line:\n",
    "        # how many chars before the target? or all chars before the target?\n",
    "        # so we simply pair up x with [x+1] i think\n",
    "        # ok, and then we iterate them in the loader?\n",
    "        #                     inputs = [x for x in ]\n",
    "        #                     targets = []\n",
    "\n",
    "        # we should also have some big list of entries \n",
    "\n",
    "        pass\n",
    "    \n",
    "    \n",
    "    # ok, now let us just try adding the transforms\n",
    "    # actually the transforms should take responsibility for all of the vocab stuff\n",
    "    \n",
    "    # number of items in the dataset. This involves a rather large computation!\n",
    "    # we can either do a feed forward cllm in the style of bengio, or we can just \n",
    "    # do the RNN approach (as specified by Sean Robertson in his tutorial)\n",
    "\n",
    "    # the indices should represent examples inside the list\n",
    "    # one strange thing is the following: we need to precompute al the indices earlier, imo, and then simply return the list\n",
    "    # at that element! (perhaps with some transforms!)\n",
    "    def __getitem__(self, index):\n",
    "        return self.total_examples[index]\n",
    "\n",
    "        # build a list, return elements from that list? we need to internally keep track of some index\n",
    "        pass\n",
    "\n",
    "\n",
    "\n",
    "# ok, so it works now!"
   ]
  },
  {
   "cell_type": "code",
   "execution_count": 4,
   "metadata": {},
   "outputs": [],
   "source": [
    "abc = TextDataset( \"data\\\\names\\\\English.txt\", False)\n"
   ]
  },
  {
   "cell_type": "code",
   "execution_count": 5,
   "metadata": {},
   "outputs": [
    {
     "name": "stdout",
     "output_type": "stream",
     "text": [
      "100\n"
     ]
    }
   ],
   "source": [
    "print(abc.char2index[None])"
   ]
  },
  {
   "cell_type": "code",
   "execution_count": 6,
   "metadata": {},
   "outputs": [
    {
     "data": {
      "text/plain": [
       "tensor([[[0., 0., 0., 0., 0., 0., 0., 0., 0., 0., 1., 0., 0., 0., 0., 0., 0.,\n",
       "          0., 0., 0., 0., 0., 0., 0., 0., 0., 0., 0., 0., 0., 0., 0., 0., 0.,\n",
       "          0., 0., 0., 0., 0., 0., 0., 0., 0., 0., 0., 0., 0., 0., 0., 0., 0.,\n",
       "          0., 0., 0., 0., 0., 0., 0., 0., 0., 0., 0., 0., 0., 0., 0., 0., 0.,\n",
       "          0., 0., 0., 0., 0., 0., 0., 0., 0., 0., 0., 0., 0., 0., 0., 0., 0.,\n",
       "          0., 0., 0., 0., 0., 0., 0., 0., 0., 0., 0., 0., 0., 0., 0., 0.]],\n",
       "\n",
       "        [[0., 0., 0., 0., 0., 0., 0., 0., 0., 0., 0., 1., 0., 0., 0., 0., 0.,\n",
       "          0., 0., 0., 0., 0., 0., 0., 0., 0., 0., 0., 0., 0., 0., 0., 0., 0.,\n",
       "          0., 0., 0., 0., 0., 0., 0., 0., 0., 0., 0., 0., 0., 0., 0., 0., 0.,\n",
       "          0., 0., 0., 0., 0., 0., 0., 0., 0., 0., 0., 0., 0., 0., 0., 0., 0.,\n",
       "          0., 0., 0., 0., 0., 0., 0., 0., 0., 0., 0., 0., 0., 0., 0., 0., 0.,\n",
       "          0., 0., 0., 0., 0., 0., 0., 0., 0., 0., 0., 0., 0., 0., 0., 0.]],\n",
       "\n",
       "        [[0., 0., 0., 0., 0., 0., 0., 0., 0., 0., 0., 0., 1., 0., 0., 0., 0.,\n",
       "          0., 0., 0., 0., 0., 0., 0., 0., 0., 0., 0., 0., 0., 0., 0., 0., 0.,\n",
       "          0., 0., 0., 0., 0., 0., 0., 0., 0., 0., 0., 0., 0., 0., 0., 0., 0.,\n",
       "          0., 0., 0., 0., 0., 0., 0., 0., 0., 0., 0., 0., 0., 0., 0., 0., 0.,\n",
       "          0., 0., 0., 0., 0., 0., 0., 0., 0., 0., 0., 0., 0., 0., 0., 0., 0.,\n",
       "          0., 0., 0., 0., 0., 0., 0., 0., 0., 0., 0., 0., 0., 0., 0., 0.]],\n",
       "\n",
       "        [[0., 0., 0., 0., 0., 0., 0., 0., 0., 0., 0., 0., 0., 1., 0., 0., 0.,\n",
       "          0., 0., 0., 0., 0., 0., 0., 0., 0., 0., 0., 0., 0., 0., 0., 0., 0.,\n",
       "          0., 0., 0., 0., 0., 0., 0., 0., 0., 0., 0., 0., 0., 0., 0., 0., 0.,\n",
       "          0., 0., 0., 0., 0., 0., 0., 0., 0., 0., 0., 0., 0., 0., 0., 0., 0.,\n",
       "          0., 0., 0., 0., 0., 0., 0., 0., 0., 0., 0., 0., 0., 0., 0., 0., 0.,\n",
       "          0., 0., 0., 0., 0., 0., 0., 0., 0., 0., 0., 0., 0., 0., 0., 0.]]])"
      ]
     },
     "execution_count": 6,
     "metadata": {},
     "output_type": "execute_result"
    }
   ],
   "source": [
    "abc.generate_tensor_for_char(\"a\")\n",
    "# abc.index2char[2]\n",
    "abc.lineToTensor(\"abcd\")\n",
    "    "
   ]
  },
  {
   "cell_type": "code",
   "execution_count": 7,
   "metadata": {},
   "outputs": [],
   "source": [
    "\n",
    "\n",
    "for (a,b) in abc:\n",
    "    pass\n",
    "#     this should give two lines/tests\n",
    "#     print(a,b)\n",
    "#     print()\n",
    "    \n",
    "#     realistically, we should also have it as tensors/vectors\n",
    "# finally, we should also have some way where we run the rnn forward and \n",
    "#  iteratoring over the set, does not consume the elements! It is not a genertor! Rather, we simply index into the elements we would like\n",
    "for(a,b) in abc:\n",
    "    pass\n",
    "#     print(\"ok\")"
   ]
  },
  {
   "cell_type": "code",
   "execution_count": 8,
   "metadata": {},
   "outputs": [],
   "source": [
    "char_x = [None] + [\"e\"]"
   ]
  },
  {
   "cell_type": "code",
   "execution_count": 9,
   "metadata": {},
   "outputs": [
    {
     "data": {
      "text/plain": [
       "2"
      ]
     },
     "execution_count": 9,
     "metadata": {},
     "output_type": "execute_result"
    }
   ],
   "source": [
    "# ok, so now let's just do the stuff\n",
    "# the RNN actually makes one-character over predictions! \n",
    "# rnn_forward is a utility function that does a lot of stuff\n",
    "len(char_x)\n"
   ]
  },
  {
   "cell_type": "code",
   "execution_count": 10,
   "metadata": {},
   "outputs": [],
   "source": [
    "# ok, so now we can start building the network that will process these!!\n",
    "# simply: iterate the dataset, and run train on it, do the log likelihood and etc.\n",
    "\n",
    "import torch.nn as nn\n",
    "\n",
    "class RNN(nn.Module):\n",
    "    def __init__(self, input_size, hidden_size, output_size):\n",
    "        super(RNN, self).__init__()\n",
    "\n",
    "        self.hidden_size = hidden_size\n",
    "\n",
    "        self.i2h = nn.Linear(input_size + hidden_size, hidden_size)\n",
    "        self.i2o = nn.Linear(input_size + hidden_size, output_size)\n",
    "        self.softmax = nn.LogSoftmax(dim=1)\n",
    "\n",
    "    def forward(self, input, hidden):\n",
    "        combined = torch.cat((input, hidden), 1)\n",
    "        hidden = self.i2h(combined)\n",
    "        output = self.i2o(combined)\n",
    "        output = self.softmax(output)\n",
    "        return output, hidden\n",
    "\n",
    "    def initHidden(self):\n",
    "        return torch.zeros(1, self.hidden_size)\n",
    "    \n",
    "n_hidden = 128\n",
    "\n",
    "\n",
    "rnn = RNN(abc.vocab_size, n_hidden, abc.vocab_size)"
   ]
  },
  {
   "cell_type": "code",
   "execution_count": 11,
   "metadata": {},
   "outputs": [
    {
     "data": {
      "text/plain": [
       "tensor([[[0., 0., 0., 0., 0., 0., 0., 0., 0., 0., 0., 0., 0., 0., 0., 0., 0.,\n",
       "          0., 0., 0., 0., 0., 0., 0., 0., 0., 0., 0., 0., 0., 0., 0., 1., 0.,\n",
       "          0., 0., 0., 0., 0., 0., 0., 0., 0., 0., 0., 0., 0., 0., 0., 0., 0.,\n",
       "          0., 0., 0., 0., 0., 0., 0., 0., 0., 0., 0., 0., 0., 0., 0., 0., 0.,\n",
       "          0., 0., 0., 0., 0., 0., 0., 0., 0., 0., 0., 0., 0., 0., 0., 0., 0.,\n",
       "          0., 0., 0., 0., 0., 0., 0., 0., 0., 0., 0., 0., 0., 0., 0., 0.]],\n",
       "\n",
       "        [[0., 0., 0., 0., 0., 0., 0., 0., 0., 0., 0., 0., 0., 0., 1., 0., 0.,\n",
       "          0., 0., 0., 0., 0., 0., 0., 0., 0., 0., 0., 0., 0., 0., 0., 0., 0.,\n",
       "          0., 0., 0., 0., 0., 0., 0., 0., 0., 0., 0., 0., 0., 0., 0., 0., 0.,\n",
       "          0., 0., 0., 0., 0., 0., 0., 0., 0., 0., 0., 0., 0., 0., 0., 0., 0.,\n",
       "          0., 0., 0., 0., 0., 0., 0., 0., 0., 0., 0., 0., 0., 0., 0., 0., 0.,\n",
       "          0., 0., 0., 0., 0., 0., 0., 0., 0., 0., 0., 0., 0., 0., 0., 0.]]])"
      ]
     },
     "execution_count": 11,
     "metadata": {},
     "output_type": "execute_result"
    }
   ],
   "source": [
    "abc.lineToTensor(\"we\")"
   ]
  },
  {
   "cell_type": "code",
   "execution_count": 12,
   "metadata": {},
   "outputs": [],
   "source": [
    "\n",
    "# WE NEED THIS LINE TO RESET THE RNN!!\n",
    "rnn = RNN(abc.vocab_size, n_hidden, abc.vocab_size)\n",
    "learning_rate = 0.0005 # If you set this too high, it might explode. If too low, it might not learn\n",
    "#  we had to set it a big lower to force convergence\n",
    "\n",
    "import torch.optim as optim\n",
    "optimizer = optim.SGD(rnn.parameters(), lr = 0.01)\n",
    "\n",
    "# returns the loss for a line\n",
    "\n",
    "def train(input_tensor, target_tensor):\n",
    "    \n",
    "        \n",
    "    \n",
    "    optimizer.zero_grad()\n",
    "    \n",
    "#     print (input_tensor)\n",
    "    \n",
    "#     print(\"changed3\")\n",
    "#     print(input_tensor[1])\n",
    "    criterion = nn.NLLLoss()    \n",
    "    hidden = rnn.initHidden()\n",
    "    loss = 0\n",
    "    rnn.zero_grad()\n",
    "#     print(input_tensor.size())\n",
    "#     print(target_tensor[0])\n",
    "#     print(target_tensor)\n",
    "    for i in range(input_tensor.size()[0]):\n",
    "        output, hidden = rnn(input_tensor[i], hidden)\n",
    "        \n",
    "        \n",
    "        \n",
    "#         find where the one is:\n",
    "# \n",
    "#         torch.tensor([all_categories.index(category)], dtype=torch.long)\n",
    "        max_tensor = torch.argmax(target_tensor[i])\n",
    "#         print(max_tensor)\n",
    "        ind = (torch.argmax(target_tensor[i])).item()\n",
    "#         print(\"this the target\")\n",
    "#         print(target_tensor[i])\n",
    "#         print(ind)\n",
    "        true_target_tensor = torch.tensor([ind], dtype=torch.long)\n",
    "    \n",
    "#     Evaluate the loss on each character!\n",
    "        loss += criterion(output, true_target_tensor)\n",
    "        \n",
    "#         expects JUST a single target class:\n",
    "\n",
    "#     print (\"loss for i \" + str(loss.item()))    \n",
    "#         print()\n",
    "# should be do the loss on each thing, or each batch! no, we should accumulate it! \n",
    "\n",
    "    loss.backward()\n",
    "    optimizer.step()\n",
    "    # Add parameters' gradients to their values, multiplied by learning rate\n",
    "#     for p in rnn.parameters():\n",
    "#         p.data.add_(-learning_rate, p.grad.data)\n",
    "\n",
    "    return output, loss.item()\n",
    "\n",
    "# why not run this just on all the tensors!! \n",
    "\n",
    "# then, we just call it with the dataset class, and then just iterate everything!!"
   ]
  },
  {
   "cell_type": "code",
   "execution_count": 13,
   "metadata": {},
   "outputs": [
    {
     "data": {
      "text/plain": [
       "36"
      ]
     },
     "execution_count": 13,
     "metadata": {},
     "output_type": "execute_result"
    }
   ],
   "source": [
    "abc.index2char[0]\n",
    "abc.index2char[1]\n",
    "\n",
    "abc.char2index[\"A\"]\n",
    "\n",
    "# ok some weird stuff here...\n"
   ]
  },
  {
   "cell_type": "code",
   "execution_count": 14,
   "metadata": {},
   "outputs": [],
   "source": [
    "# for (x,y) in abc:\n",
    "#     print(y)"
   ]
  },
  {
   "cell_type": "code",
   "execution_count": 15,
   "metadata": {},
   "outputs": [],
   "source": [
    "# del rnn\n",
    "# rnn = RNN(abc.vocab_size, n_hidden, abc.vocab_size)\n",
    "\n",
    "epoch_loss = 0\n",
    "# loss every k iters\n",
    "# \n",
    "total_loss = 0\n",
    "total_length  = 0\n",
    "epoch_length = 0\n",
    "\n",
    "\n",
    "num_epochs = 0\n",
    "for k in range(num_epochs ):\n",
    "    \n",
    "    for i,(x,y) in enumerate(abc):\n",
    "    #     print(x)\n",
    "    #     print(x)\n",
    "    #     print(y)\n",
    "        _, loss = train(x,y)\n",
    "        epoch_loss += loss\n",
    "        epoch_length += x.size()[0]\n",
    "        total_loss += loss\n",
    "        total_length += x.size()[0]\n",
    "\n",
    "    #     print(i)\n",
    "    #     abc = i\n",
    "#         if i % 100 == 0:\n",
    "#             print (\"loss for {} is {}\".format(i,other_loss/100))\n",
    "#             other_loss = 0\n",
    "    \n",
    "    print(\"epoch {} loss is {}\".format(k, epoch_loss/i))\n",
    "    print(\"per character loss is {}\".format(epoch_loss/epoch_length))\n",
    "    epoch_loss = 0\n",
    "    epoch_length = 0\n",
    "#     ideally: we would be able to compute the quintile losses\n",
    "    "
   ]
  },
  {
   "cell_type": "code",
   "execution_count": 16,
   "metadata": {},
   "outputs": [],
   "source": [
    "# Saves the entire model under the given filename\n",
    "def save_model(model,filename):\n",
    "    torch.save(model, filename)\n",
    "    \n",
    "    return\n",
    "\n",
    "# Saves the model parameters only (for maximum usability)\n",
    "\n",
    "def save_model_params(model, filename):\n",
    "\n",
    "    torch.save(model.state_dict(), filename)\n",
    "\n",
    "    return filename\n",
    "\n",
    "#  ideally, I could get per character loss, then I would also be able to get the total expected loss\n",
    "# so: we want to get total loss, then divide it by all the length of the number of examples we saw"
   ]
  },
  {
   "cell_type": "code",
   "execution_count": 17,
   "metadata": {},
   "outputs": [],
   "source": [
    "def load_model_from_params(filename):\n",
    "    model = RNN(abc.vocab_size, n_hidden, abc.vocab_size)\n",
    "    model.load_state_dict(torch.load(filename))\n",
    "    return model #vs return model.eval()??"
   ]
  },
  {
   "cell_type": "code",
   "execution_count": 18,
   "metadata": {},
   "outputs": [],
   "source": [
    "filename = \"draft.pt\"\n",
    "\n",
    "if False:\n",
    "\n",
    "    filename = save_model_params(rnn, \"draft.pt\")"
   ]
  },
  {
   "cell_type": "code",
   "execution_count": 19,
   "metadata": {},
   "outputs": [
    {
     "data": {
      "text/plain": [
       "RNN(\n",
       "  (i2h): Linear(in_features=229, out_features=128, bias=True)\n",
       "  (i2o): Linear(in_features=229, out_features=101, bias=True)\n",
       "  (softmax): LogSoftmax()\n",
       ")"
      ]
     },
     "execution_count": 19,
     "metadata": {},
     "output_type": "execute_result"
    }
   ],
   "source": [
    "eval_model = load_model_from_params(filename)\n",
    "eval_model.eval() # this is a mutating operation\n"
   ]
  },
  {
   "cell_type": "code",
   "execution_count": 20,
   "metadata": {},
   "outputs": [],
   "source": [
    "\n",
    "# returns the loss for the entire line (requires normalization for comparison)\n",
    "def get_loss_on_line(rnn, line):\n",
    "    input_tensor =  abc.lineToTensor([None] + [x for x in line])\n",
    "    target_tensor = abc.lineToTensor([x for x in line] + [\"\\n\"])\n",
    "    criterion = nn.NLLLoss()    \n",
    "    hidden = rnn.initHidden()\n",
    "    loss = 0\n",
    "    rnn.zero_grad()\n",
    "    \n",
    "    \n",
    "#     print(input_tensor.size())\n",
    "#     print(target_tensor[0])\n",
    "#     print(target_tensor)\n",
    "    for i in range(input_tensor.size()[0]):\n",
    "        output, hidden = rnn(input_tensor[i], hidden)\n",
    "        \n",
    "        \n",
    "        # had to do this simply because of how the NLLL and CrossEntropy are defined\n",
    "        max_tensor = torch.argmax(target_tensor[i])\n",
    "        ind = (torch.argmax(target_tensor[i])).item()\n",
    "        true_target_tensor = torch.tensor([ind], dtype=torch.long)\n",
    "    \n",
    "#     Evaluate the loss on each character!\n",
    "        loss += criterion(output, true_target_tensor)\n",
    "    \n",
    "    return loss.item()\n",
    "\n"
   ]
  },
  {
   "cell_type": "code",
   "execution_count": 21,
   "metadata": {},
   "outputs": [
    {
     "name": "stdout",
     "output_type": "stream",
     "text": [
      "3.155973434448242\n"
     ]
    }
   ],
   "source": [
    "# out = eval_model)\n",
    "\n",
    "# so there's a couple possibilities: we can have jim and ask to predict as well as just get the loss of the example\n",
    "# out = train()\n",
    "# ()\n",
    "#lineToTensor\n",
    "\n",
    "# get it as tensors, then run it, then do loss addition\n",
    "\n",
    "STRING_TO_TEST =  \"David\"\n",
    "print(get_loss_on_line(eval_model, STRING_TO_TEST )/len(STRING_TO_TEST ))\n",
    "\n",
    "# we now want to implement sampling:\n",
    "#  is that useful though? \n",
    "# will it be good?\n",
    "# instead, we can also try and get text for the inputs \n",
    "#  then train on that, then run it on some numerical numbers\n",
    "\n",
    "# visualization would be super useful \n",
    "# for pretty printing, we can colour the terminal output\n",
    "# otherwise, we will need to somehow encode the colour so that it is output to the file\n",
    "# \n"
   ]
  },
  {
   "cell_type": "code",
   "execution_count": 22,
   "metadata": {},
   "outputs": [],
   "source": [
    "#  print(\"\\x1b[31m\\\"red\\\"\\x1b[0m\")\n",
    "\n",
    "# if no thresholding, then we should at least like somehow graphically display?\n",
    "# no,... this is a different concern. Don't put frontend and backend together! (or visualization and etc.)\n"
   ]
  },
  {
   "cell_type": "code",
   "execution_count": null,
   "metadata": {},
   "outputs": [],
   "source": []
  },
  {
   "cell_type": "code",
   "execution_count": null,
   "metadata": {},
   "outputs": [],
   "source": []
  },
  {
   "cell_type": "code",
   "execution_count": 23,
   "metadata": {},
   "outputs": [],
   "source": [
    "from colorama import Fore"
   ]
  },
  {
   "cell_type": "code",
   "execution_count": 24,
   "metadata": {},
   "outputs": [
    {
     "name": "stdout",
     "output_type": "stream",
     "text": [
      "\u001b[34mBilly\n",
      "\n",
      "loss2.187842686971029\n",
      "\u001b[34mJoe\n",
      "\n",
      "loss2.927530288696289\n",
      "\u001b[34mBob\n",
      "\n",
      "loss3.550493001937866\n",
      "\u001b[34mThornton\n",
      "\n",
      "loss1.9199905395507812\n",
      "\u001b[34mElliot\n",
      "\n",
      "loss2.500835418701172\n",
      "\u001b[34mRandom\n",
      "\n",
      "loss2.389070783342634\n",
      "\u001b[34mderivative\n",
      "\n",
      "loss3.6175897771661933\n",
      "\u001b[31m';3[39\n",
      "\n",
      "loss8.677899496895927\n",
      "\u001b[31mj0hn_person1\n",
      "\n",
      "loss5.2926177978515625\n",
      "\u001b[34mEnglish\n",
      "\n",
      "loss2.915396213531494\n",
      "\u001b[31mwkijkq\n",
      "\n",
      "loss6.433131626674107\n",
      "\u001b[34mWord\n",
      "\n",
      "loss1.381985855102539\n",
      "\u001b[31mAdditional_names\n",
      "\n",
      "loss4.289423325482537\n",
      "\u001b[31mQuixotic\n",
      "\n",
      "loss4.087853749593099\n",
      "\u001b[31m24uirfejkfk\n",
      "\n",
      "loss6.100430170694987\n",
      "\u001b[34mJavier\n",
      "\n",
      "loss2.5835887363978793\n",
      "\u001b[34mJason\n",
      "\n",
      "loss2.2196717262268066\n",
      "\u001b[31mJiao\n",
      "\n",
      "loss4.139523696899414\n",
      "\u001b[34mChen\n",
      "\n",
      "loss2.830333137512207\n",
      "\u001b[34mAkshay\n",
      "\n",
      "loss2.998241424560547\n",
      "\u001b[34mMbaay\n",
      "\n",
      "loss3.496740976969401\n",
      "\u001b[34mGovind\n",
      "loss3.070594151814779\n"
     ]
    }
   ],
   "source": [
    "# print(Fore.RED + \"yoo\")\n",
    "\n",
    "# print(Fore.BLUE + \"haha\")\n",
    "\n",
    "# if on average more than twice as high loss on this sample, then we should flag it for further review\n",
    "THRESHOLD =  1.8332151545300774 * 2\n",
    "\n",
    "\n",
    "# some more powerful model: uses LSTM as well as additional fields and operators!\n",
    "# ok, so now let us just iterate the text file\n",
    "with open(\"data\\\\test-cases.txt\", \"r\") as file:\n",
    "    for line in file:\n",
    "        example_loss = get_loss_on_line(eval_model, line)/len(line )\n",
    "        if (example_loss > THRESHOLD):\n",
    "            print(Fore.RED + line)\n",
    "        else:\n",
    "            print(Fore.BLUE + line)\n",
    "        \n",
    "        print(\"loss\" + str(example_loss))\n",
    "    \n",
    "# perhaps we should train on google news corpus for a little while..\n",
    "# this \n",
    "    "
   ]
  },
  {
   "cell_type": "code",
   "execution_count": 25,
   "metadata": {},
   "outputs": [],
   "source": [
    "import nltk"
   ]
  },
  {
   "cell_type": "code",
   "execution_count": 26,
   "metadata": {},
   "outputs": [],
   "source": [
    "from nltk.corpus import reuters"
   ]
  },
  {
   "cell_type": "code",
   "execution_count": 27,
   "metadata": {},
   "outputs": [
    {
     "name": "stdout",
     "output_type": "stream",
     "text": [
      "ok\n"
     ]
    }
   ],
   "source": [
    "print(\"ok\")\n",
    "\n",
    "sentences = reuters.raw().splitlines()\n",
    "# print(reuters.raw())\n"
   ]
  },
  {
   "cell_type": "code",
   "execution_count": 28,
   "metadata": {},
   "outputs": [
    {
     "name": "stdout",
     "output_type": "stream",
     "text": [
      "<class 'list'>\n"
     ]
    }
   ],
   "source": [
    "print(type(sentences))\n",
    "printlen(sentences)"
   ]
  },
  {
   "cell_type": "code",
   "execution_count": 29,
   "metadata": {},
   "outputs": [],
   "source": [
    "\n",
    "# these are not exactly tokenized on sentences; but that is OK!\n",
    "sentences[:100]\n",
    "\n",
    "with open(\"reuters_news.txt\", \"w\") as file:\n",
    "    file.write(reuters.raw())"
   ]
  },
  {
   "cell_type": "code",
   "execution_count": 54,
   "metadata": {},
   "outputs": [
    {
     "name": "stdout",
     "output_type": "stream",
     "text": [
      "elapsed time is 7.854571580886841\n"
     ]
    }
   ],
   "source": [
    "# reuters dataset has umlauts and other non-standard characters, so we should try and account for that! \n",
    "# also: we should try and do a sort of full merge: merge between the train dataset and test dataset vocabs\n",
    "# other than that, we can just apply a regularizer to both sets, to get out the processed data\n",
    "# for now, let's just apply a regularization\n",
    "import time\n",
    "\n",
    "start = time.time()\n",
    "reuters_dataset = TextDataset( \"reuters_news_10000.txt\", True)\n",
    "elapsed = time.time() - start\n",
    "print(\"elapsed time is {}\".format(elapsed ))\n",
    "\n",
    "# jeez, so it takes more than 8 minutes to create the dataset!"
   ]
  },
  {
   "cell_type": "code",
   "execution_count": 55,
   "metadata": {},
   "outputs": [
    {
     "name": "stdout",
     "output_type": "stream",
     "text": [
      "file created with 10000 lines\n",
      "elapsed time is 2.272650718688965\n"
     ]
    }
   ],
   "source": [
    "# we need a smaller dataset for development\n",
    "# so, let's cut up the reuters into smaller (for example, load just the first K bytes of the file.)\n",
    "\n",
    "def make_proto_dataset(size):\n",
    "    with open(\"reuters_news_{}.txt\".format(size), \"w\") as file:\n",
    "        \n",
    "        \n",
    "        file.write('\\n'.join(reuters.raw().splitlines()[0:size]))\n",
    "    print(\"file created with {} lines\".format(size))\n",
    "        \n",
    "#     the question now is how many neurons and the architecture to use\n",
    "# we can also look into enhancement with the tqdm inside the object?\n",
    "start = time.time()\n",
    "make_proto_dataset(10000)\n",
    "elapsed = time.time() - start\n",
    "print(\"elapsed time is {}\".format(elapsed ))\n"
   ]
  },
  {
   "cell_type": "code",
   "execution_count": 56,
   "metadata": {},
   "outputs": [
    {
     "name": "stdout",
     "output_type": "stream",
     "text": [
      "9973\n"
     ]
    }
   ],
   "source": [
    "print(len(reuters_dataset))\n",
    "from tqdm import tqdm\n",
    "def general_train_function(dataset):\n",
    "# del rnn\n",
    "# rnn = RNN(abc.vocab_size, n_hidden, abc.vocab_size)\n",
    "\n",
    "    epoch_loss = 0\n",
    "    # loss every k iters\n",
    "    # \n",
    "    loss_per_k = 0\n",
    "    \n",
    "    total_loss = 0\n",
    "    total_length  = 0\n",
    "    epoch_length = 0\n",
    "\n",
    "\n",
    "    num_epochs = 10\n",
    "    \n",
    "    for k in range(num_epochs ):\n",
    "\n",
    "        for i,(x,y) in enumerate(tqdm(dataset)):\n",
    "        #     print(x)\n",
    "        #     print(x)\n",
    "        #     print(y)\n",
    "            _, loss = train(x,y)\n",
    "            epoch_loss += loss\n",
    "            epoch_length += x.size()[0]\n",
    "            total_loss += loss\n",
    "            total_length += x.size()[0]\n",
    "            loss_per_k += loss\n",
    "        #     print(i)\n",
    "        #     abc = i\n",
    "        \n",
    "            # for the first 100 iters, print the loss of every line!\n",
    "            if i < 100:\n",
    "                print (\"loss for {} is {}\".format(i,epoch_loss/(i+1)))\n",
    "                \n",
    "            \n",
    "            if i % 100 == 0 and i != 0:\n",
    "                print (\"loss for {} is {}\".format(i,loss_per_k/100))\n",
    "                loss_per_k = 0\n",
    "                \n",
    "\n",
    "        print(\"epoch {} loss is {}\".format(k, epoch_loss/i))\n",
    "        print(\"per character loss is {}\".format(epoch_loss/epoch_length))\n",
    "        epoch_loss = 0\n",
    "        epoch_length = 0\n",
    "#     ideally: we would be able to compute the quintile losses\n",
    "    "
   ]
  },
  {
   "cell_type": "code",
   "execution_count": 57,
   "metadata": {},
   "outputs": [],
   "source": [
    "\n",
    "# WE NEED THIS LINE TO RESET THE RNN!!\n",
    "rnn = RNN(abc.vocab_size, 512, reuters_dataset.vocab_size)\n",
    "learning_rate = 0.0005 # If you set this too high, it might explode. If too low, it might not learn\n",
    "#  we had to set it a big lower to force convergence\n",
    "\n",
    "import torch.optim as optim\n",
    "optimizer = optim.SGD(rnn.parameters(), lr = 0.01)\n",
    "\n",
    "# returns the loss for a line\n",
    "\n",
    "def general_train(input_tensor, target_tensor):\n",
    "    \n",
    "        \n",
    "    \n",
    "    optimizer.zero_grad()\n",
    "    \n",
    "#     print (input_tensor)\n",
    "    \n",
    "#     print(\"changed3\")\n",
    "#     print(input_tensor[1])\n",
    "    criterion = nn.NLLLoss()    \n",
    "    hidden = rnn.initHidden()\n",
    "    loss = 0\n",
    "    rnn.zero_grad()\n",
    "#     print(input_tensor.size())\n",
    "#     print(target_tensor[0])\n",
    "#     print(target_tensor)\n",
    "    for i in range(input_tensor.size()[0]):\n",
    "        output, hidden = rnn(input_tensor[i], hidden)\n",
    "        \n",
    "        \n",
    "        \n",
    "#         find where the one is:\n",
    "# \n",
    "#         torch.tensor([all_categories.index(category)], dtype=torch.long)\n",
    "        max_tensor = torch.argmax(target_tensor[i])\n",
    "#         print(max_tensor)\n",
    "        ind = (torch.argmax(target_tensor[i])).item()\n",
    "#         print(\"this the target\")\n",
    "#         print(target_tensor[i])\n",
    "#         print(ind)\n",
    "        true_target_tensor = torch.tensor([ind], dtype=torch.long)\n",
    "    \n",
    "#     Evaluate the loss on each character!\n",
    "        loss += criterion(output, true_target_tensor)\n",
    "        \n",
    "#         expects JUST a single target class:\n",
    "\n",
    "#     print (\"loss for i \" + str(loss.item()))    \n",
    "#         print()\n",
    "# should be do the loss on each thing, or each batch! no, we should accumulate it! \n",
    "\n",
    "    loss.backward()\n",
    "    optimizer.step()\n",
    "    # Add parameters' gradients to their values, multiplied by learning rate\n",
    "#     for p in rnn.parameters():\n",
    "#         p.data.add_(-learning_rate, p.grad.data)\n",
    "\n",
    "    return output, loss.item()\n",
    "\n",
    "# why not run this just on all the tensors!! \n",
    "\n",
    "# then, we just call it with the dataset class, and then just iterate everything!!"
   ]
  },
  {
   "cell_type": "code",
   "execution_count": 58,
   "metadata": {},
   "outputs": [
    {
     "name": "stderr",
     "output_type": "stream",
     "text": [
      "\n",
      "\n",
      "  0%|                                                                                         | 0/9973 [00:00<?, ?it/s]"
     ]
    },
    {
     "name": "stdout",
     "output_type": "stream",
     "text": [
      "loss for 0 is 263.56207275390625\n",
      "loss for 1 is 285.1190948486328\n",
      "loss for 2 is 282.57117716471356\n",
      "loss for 3 is 272.87296295166016\n",
      "loss for 4 is 275.4504150390625\n"
     ]
    },
    {
     "name": "stderr",
     "output_type": "stream",
     "text": [
      "\n",
      "\n",
      "  0%|                                                                                 | 5/9973 [00:00<03:31, 47.10it/s]"
     ]
    },
    {
     "name": "stdout",
     "output_type": "stream",
     "text": [
      "loss for 5 is 255.10656229654947\n",
      "loss for 6 is 258.06307547433033\n",
      "loss for 7 is 276.9327278137207\n",
      "loss for 8 is nan\n",
      "loss for 9 is nan\n"
     ]
    },
    {
     "name": "stderr",
     "output_type": "stream",
     "text": [
      "\n",
      "\n",
      "  0%|                                                                                | 10/9973 [00:00<03:42, 44.73it/s]"
     ]
    },
    {
     "name": "stdout",
     "output_type": "stream",
     "text": [
      "loss for 10 is nan\n",
      "loss for 11 is nan\n",
      "loss for 12 is nan\n",
      "loss for 13 is nan\n"
     ]
    },
    {
     "name": "stderr",
     "output_type": "stream",
     "text": [
      "\n",
      "\n",
      "  0%|                                                                                | 14/9973 [00:00<03:57, 41.92it/s]"
     ]
    },
    {
     "name": "stdout",
     "output_type": "stream",
     "text": [
      "loss for 14 is nan\n",
      "loss for 15 is nan\n",
      "loss for 16 is nan\n",
      "loss for 17 is nan\n",
      "loss for 18 is nan\n"
     ]
    },
    {
     "name": "stderr",
     "output_type": "stream",
     "text": [
      "\n",
      "\n",
      "  0%|▏                                                                               | 19/9973 [00:00<04:00, 41.33it/s]"
     ]
    },
    {
     "name": "stdout",
     "output_type": "stream",
     "text": [
      "loss for 19 is nan\n",
      "loss for 20 is nan\n",
      "loss for 21 is nan\n",
      "loss for 22 is nan\n"
     ]
    },
    {
     "name": "stderr",
     "output_type": "stream",
     "text": [
      "\n",
      "\n",
      "  0%|▏                                                                               | 23/9973 [00:00<04:12, 39.45it/s]"
     ]
    },
    {
     "name": "stdout",
     "output_type": "stream",
     "text": [
      "loss for 23 is nan\n",
      "loss for 24 is nan\n",
      "loss for 25 is nan\n",
      "loss for 26 is nan\n",
      "loss for 27 is nan\n"
     ]
    },
    {
     "name": "stderr",
     "output_type": "stream",
     "text": [
      "\n",
      "\n",
      "  0%|▏                                                                               | 28/9973 [00:00<04:12, 39.44it/s]"
     ]
    },
    {
     "name": "stdout",
     "output_type": "stream",
     "text": [
      "loss for 28 is nan\n",
      "loss for 29 is nan\n",
      "loss for 30 is nan\n",
      "loss for 31 is nan\n"
     ]
    },
    {
     "name": "stderr",
     "output_type": "stream",
     "text": [
      "\n",
      "\n",
      "  0%|▎                                                                               | 32/9973 [00:00<04:44, 34.89it/s]"
     ]
    },
    {
     "name": "stdout",
     "output_type": "stream",
     "text": [
      "loss for 32 is nan\n",
      "loss for 33 is nan\n",
      "loss for 34 is nan\n",
      "loss for 35 is nan\n"
     ]
    },
    {
     "name": "stderr",
     "output_type": "stream",
     "text": [
      "\n",
      "\n",
      "  0%|▎                                                                               | 36/9973 [00:00<04:48, 34.48it/s]"
     ]
    },
    {
     "name": "stdout",
     "output_type": "stream",
     "text": [
      "loss for 36 is nan\n",
      "loss for 37 is nan\n",
      "loss for 38 is nan\n",
      "loss for 39 is nan\n"
     ]
    },
    {
     "name": "stderr",
     "output_type": "stream",
     "text": [
      "\n",
      "\n",
      "  0%|▎                                                                               | 40/9973 [00:01<04:38, 35.68it/s]"
     ]
    },
    {
     "name": "stdout",
     "output_type": "stream",
     "text": [
      "loss for 40 is nan\n",
      "loss for 41 is nan\n",
      "loss for 42 is nan\n",
      "loss for 43 is nan\n"
     ]
    },
    {
     "name": "stderr",
     "output_type": "stream",
     "text": [
      "\n",
      "\n",
      "  0%|▎                                                                               | 44/9973 [00:01<04:50, 34.19it/s]"
     ]
    },
    {
     "name": "stdout",
     "output_type": "stream",
     "text": [
      "loss for 44 is nan\n",
      "loss for 45 is nan\n",
      "loss for 46 is nan\n",
      "loss for 47 is nan\n"
     ]
    },
    {
     "name": "stderr",
     "output_type": "stream",
     "text": [
      "\n",
      "\n",
      "  0%|▍                                                                               | 48/9973 [00:01<05:05, 32.50it/s]"
     ]
    },
    {
     "name": "stdout",
     "output_type": "stream",
     "text": [
      "loss for 48 is nan\n",
      "loss for 49 is nan\n",
      "loss for 50 is nan\n",
      "loss for 51 is nan\n"
     ]
    },
    {
     "name": "stderr",
     "output_type": "stream",
     "text": [
      "\n",
      "\n",
      "  1%|▍                                                                               | 52/9973 [00:01<04:55, 33.62it/s]"
     ]
    },
    {
     "name": "stdout",
     "output_type": "stream",
     "text": [
      "loss for 52 is nan\n",
      "loss for 53 is nan\n",
      "loss for 54 is nan\n",
      "loss for 55 is nan\n"
     ]
    },
    {
     "name": "stderr",
     "output_type": "stream",
     "text": [
      "\n",
      "\n",
      "  1%|▍                                                                               | 56/9973 [00:01<05:03, 32.63it/s]"
     ]
    },
    {
     "name": "stdout",
     "output_type": "stream",
     "text": [
      "loss for 56 is nan\n",
      "loss for 57 is nan\n",
      "loss for 58 is nan\n",
      "loss for 59 is nan\n",
      "loss for 60 is nan\n",
      "loss for 61 is nan\n"
     ]
    },
    {
     "name": "stderr",
     "output_type": "stream",
     "text": [
      "\n",
      "\n",
      "  1%|▍                                                                               | 62/9973 [00:01<04:23, 37.59it/s]"
     ]
    },
    {
     "name": "stdout",
     "output_type": "stream",
     "text": [
      "loss for 62 is nan\n",
      "loss for 63 is nan\n",
      "loss for 64 is nan\n",
      "loss for 65 is nan\n",
      "loss for 66 is nan\n"
     ]
    },
    {
     "name": "stderr",
     "output_type": "stream",
     "text": [
      "\n",
      "\n",
      "  1%|▌                                                                               | 67/9973 [00:01<04:17, 38.46it/s]"
     ]
    },
    {
     "name": "stdout",
     "output_type": "stream",
     "text": [
      "loss for 67 is nan\n",
      "loss for 68 is nan\n",
      "loss for 69 is nan\n",
      "loss for 70 is nan\n",
      "loss for 71 is nan\n"
     ]
    },
    {
     "name": "stderr",
     "output_type": "stream",
     "text": [
      "\n",
      "\n",
      "  1%|▌                                                                               | 72/9973 [00:01<04:01, 41.07it/s]"
     ]
    },
    {
     "name": "stdout",
     "output_type": "stream",
     "text": [
      "loss for 72 is nan\n",
      "loss for 73 is nan\n",
      "loss for 74 is nan\n",
      "loss for 75 is nan\n",
      "loss for 76 is nan\n"
     ]
    },
    {
     "name": "stderr",
     "output_type": "stream",
     "text": [
      "\n",
      "\n",
      "  1%|▌                                                                               | 77/9973 [00:02<04:05, 40.26it/s]"
     ]
    },
    {
     "name": "stdout",
     "output_type": "stream",
     "text": [
      "loss for 77 is nan\n",
      "loss for 78 is nan\n",
      "loss for 79 is nan\n",
      "loss for 80 is nan\n",
      "loss for 81 is nan\n"
     ]
    },
    {
     "name": "stderr",
     "output_type": "stream",
     "text": [
      "\n",
      "\n",
      "  1%|▋                                                                               | 82/9973 [00:02<04:01, 40.92it/s]"
     ]
    },
    {
     "name": "stdout",
     "output_type": "stream",
     "text": [
      "loss for 82 is nan\n",
      "loss for 83 is nan\n",
      "loss for 84 is nan\n",
      "loss for 85 is nan\n",
      "loss for 86 is nan\n"
     ]
    },
    {
     "name": "stderr",
     "output_type": "stream",
     "text": [
      "\n",
      "\n",
      "  1%|▋                                                                               | 87/9973 [00:02<04:12, 39.15it/s]"
     ]
    },
    {
     "name": "stdout",
     "output_type": "stream",
     "text": [
      "loss for 87 is nan\n",
      "loss for 88 is nan\n",
      "loss for 89 is nan\n",
      "loss for 90 is nan\n"
     ]
    },
    {
     "name": "stderr",
     "output_type": "stream",
     "text": [
      "\n",
      "\n",
      "  1%|▋                                                                               | 91/9973 [00:02<04:17, 38.34it/s]"
     ]
    },
    {
     "name": "stdout",
     "output_type": "stream",
     "text": [
      "loss for 91 is nan\n",
      "loss for 92 is nan\n",
      "loss for 93 is nan\n",
      "loss for 94 is nan\n",
      "loss for 95 is nan\n",
      "loss for 96 is nan\n",
      "loss for 97 is nan\n"
     ]
    },
    {
     "name": "stderr",
     "output_type": "stream",
     "text": [
      "\n",
      "\n",
      "  1%|▊                                                                               | 98/9973 [00:02<03:53, 42.35it/s]"
     ]
    },
    {
     "name": "stdout",
     "output_type": "stream",
     "text": [
      "loss for 98 is nan\n",
      "loss for 99 is nan\n",
      "loss for 100 is nan\n"
     ]
    },
    {
     "name": "stderr",
     "output_type": "stream",
     "text": [
      "\n",
      "\n",
      "  1%|▊                                                                              | 103/9973 [00:02<04:09, 39.56it/s]\n",
      "\n",
      "  1%|▊                                                                              | 109/9973 [00:02<03:47, 43.45it/s]\n",
      "\n",
      "  1%|▉                                                                              | 117/9973 [00:02<03:19, 49.32it/s]\n",
      "\n",
      "  1%|▉                                                                              | 123/9973 [00:03<03:33, 46.09it/s]\n",
      "\n",
      "  1%|█                                                                              | 128/9973 [00:03<03:36, 45.46it/s]\n",
      "\n",
      "  1%|█                                                                              | 133/9973 [00:03<03:36, 45.54it/s]\n",
      "\n",
      "  1%|█                                                                              | 142/9973 [00:03<03:06, 52.58it/s]\n",
      "\n",
      "  1%|█▏                                                                             | 148/9973 [00:03<03:12, 51.12it/s]\n",
      "\n",
      "  2%|█▏                                                                             | 154/9973 [00:03<03:14, 50.42it/s]\n",
      "\n",
      "  2%|█▎                                                                             | 163/9973 [00:03<02:53, 56.51it/s]\n",
      "\n",
      "  2%|█▎                                                                             | 170/9973 [00:03<03:07, 52.18it/s]\n",
      "\n",
      "  2%|█▍                                                                             | 176/9973 [00:04<03:11, 51.28it/s]\n",
      "\n",
      "  2%|█▍                                                                             | 182/9973 [00:04<03:05, 52.76it/s]\n",
      "\n",
      "  2%|█▍                                                                             | 188/9973 [00:04<03:07, 52.15it/s]\n",
      "\n",
      "  2%|█▌                                                                             | 194/9973 [00:04<03:20, 48.89it/s]\n",
      "\n",
      "  2%|█▌                                                                             | 200/9973 [00:04<04:02, 40.29it/s]"
     ]
    },
    {
     "name": "stdout",
     "output_type": "stream",
     "text": [
      "loss for 200 is nan\n"
     ]
    },
    {
     "name": "stderr",
     "output_type": "stream",
     "text": [
      "\n",
      "\n",
      "  2%|█▌                                                                             | 205/9973 [00:04<04:04, 39.92it/s]\n",
      "\n",
      "  2%|█▋                                                                             | 213/9973 [00:04<03:30, 46.37it/s]\n",
      "\n",
      "  2%|█▊                                                                             | 221/9973 [00:04<03:12, 50.69it/s]\n",
      "\n",
      "  2%|█▊                                                                             | 227/9973 [00:05<03:08, 51.76it/s]\n",
      "\n",
      "  2%|█▊                                                                             | 235/9973 [00:05<02:57, 54.92it/s]\n",
      "\n",
      "  2%|█▉                                                                             | 241/9973 [00:05<02:53, 55.97it/s]\n",
      "\n",
      "  2%|█▉                                                                             | 247/9973 [00:05<02:54, 55.63it/s]\n",
      "\n",
      "  3%|██                                                                             | 253/9973 [00:05<02:55, 55.40it/s]\n",
      "\n",
      "  3%|██                                                                             | 259/9973 [00:05<03:06, 52.15it/s]\n",
      "\n",
      "  3%|██                                                                             | 265/9973 [00:05<03:07, 51.67it/s]\n",
      "\n",
      "  3%|██▏                                                                            | 271/9973 [00:05<03:10, 50.83it/s]\n",
      "\n",
      "  3%|██▏                                                                            | 277/9973 [00:06<03:43, 43.42it/s]\n",
      "\n",
      "  3%|██▏                                                                            | 283/9973 [00:06<03:30, 45.94it/s]\n",
      "\n",
      "  3%|██▎                                                                            | 289/9973 [00:06<03:20, 48.30it/s]\n",
      "\n",
      "  3%|██▎                                                                            | 295/9973 [00:06<03:31, 45.69it/s]\n",
      "\n",
      "  3%|██▍                                                                            | 300/9973 [00:06<03:58, 40.52it/s]"
     ]
    },
    {
     "name": "stdout",
     "output_type": "stream",
     "text": [
      "loss for 300 is nan\n"
     ]
    },
    {
     "name": "stderr",
     "output_type": "stream",
     "text": [
      "\n",
      "\n",
      "  3%|██▍                                                                            | 305/9973 [00:06<04:05, 39.31it/s]\n",
      "\n",
      "  3%|██▍                                                                            | 310/9973 [00:06<03:54, 41.18it/s]\n",
      "\n",
      "  3%|██▌                                                                            | 317/9973 [00:06<03:27, 46.61it/s]\n",
      "\n",
      "  3%|██▌                                                                            | 322/9973 [00:07<03:31, 45.61it/s]\n",
      "\n",
      "  3%|██▌                                                                            | 329/9973 [00:07<03:14, 49.64it/s]\n",
      "\n",
      "  3%|██▋                                                                            | 335/9973 [00:07<03:15, 49.26it/s]\n",
      "\n",
      "  3%|██▋                                                                            | 341/9973 [00:07<03:34, 44.90it/s]\n",
      "\n",
      "  3%|██▋                                                                            | 346/9973 [00:07<03:38, 44.14it/s]\n",
      "\n",
      "  4%|██▊                                                                            | 351/9973 [00:07<03:31, 45.42it/s]\n",
      "\n",
      "  4%|██▊                                                                            | 356/9973 [00:07<03:44, 42.86it/s]\n",
      "\n",
      "  4%|██▊                                                                            | 362/9973 [00:07<03:26, 46.44it/s]\n",
      "\n",
      "  4%|██▉                                                                            | 368/9973 [00:08<03:21, 47.56it/s]\n",
      "\n",
      "  4%|██▉                                                                            | 374/9973 [00:08<03:17, 48.57it/s]\n",
      "\n",
      "  4%|███                                                                            | 379/9973 [00:08<03:27, 46.27it/s]\n",
      "\n",
      "  4%|███                                                                            | 385/9973 [00:08<03:22, 47.25it/s]\n",
      "\n",
      "  4%|███                                                                            | 393/9973 [00:08<03:02, 52.60it/s]\n",
      "\n",
      "  4%|███▏                                                                           | 399/9973 [00:08<03:12, 49.70it/s]"
     ]
    },
    {
     "name": "stdout",
     "output_type": "stream",
     "text": [
      "loss for 400 is nan\n"
     ]
    },
    {
     "name": "stderr",
     "output_type": "stream",
     "text": [
      "\n",
      "\n",
      "  4%|███▏                                                                           | 406/9973 [00:08<02:57, 53.93it/s]\n",
      "\n",
      "  4%|███▎                                                                           | 412/9973 [00:08<03:09, 50.56it/s]\n",
      "\n",
      "  4%|███▎                                                                           | 418/9973 [00:09<03:19, 47.97it/s]\n",
      "\n",
      "  4%|███▎                                                                           | 423/9973 [00:09<03:21, 47.46it/s]\n",
      "\n",
      "  4%|███▍                                                                           | 428/9973 [00:09<03:43, 42.75it/s]\n",
      "\n",
      "  4%|███▍                                                                           | 433/9973 [00:09<04:30, 35.24it/s]\n",
      "\n",
      "  4%|███▍                                                                           | 437/9973 [00:09<04:46, 33.27it/s]\n",
      "\n",
      "  4%|███▍                                                                           | 441/9973 [00:09<05:17, 29.99it/s]\n",
      "\n",
      "  4%|███▌                                                                           | 445/9973 [00:09<05:02, 31.51it/s]\n",
      "\n",
      "  5%|███▌                                                                           | 449/9973 [00:09<04:54, 32.34it/s]\n",
      "\n",
      "  5%|███▌                                                                           | 453/9973 [00:10<05:37, 28.21it/s]\n",
      "\n",
      "  5%|███▌                                                                           | 457/9973 [00:10<05:27, 29.06it/s]\n",
      "\n",
      "  5%|███▋                                                                           | 465/9973 [00:10<04:27, 35.54it/s]\n",
      "\n",
      "  5%|███▋                                                                           | 470/9973 [00:10<04:17, 36.85it/s]\n",
      "\n",
      "  5%|███▊                                                                           | 478/9973 [00:10<03:41, 42.84it/s]\n",
      "\n",
      "  5%|███▊                                                                           | 485/9973 [00:10<03:25, 46.18it/s]\n",
      "\n",
      "  5%|███▉                                                                           | 493/9973 [00:10<02:59, 52.85it/s]\n",
      "\n",
      "  5%|███▉                                                                           | 500/9973 [00:11<03:05, 51.10it/s]"
     ]
    },
    {
     "name": "stdout",
     "output_type": "stream",
     "text": [
      "loss for 500 is nan\n"
     ]
    },
    {
     "name": "stderr",
     "output_type": "stream",
     "text": [
      "\n",
      "\n",
      "  5%|████                                                                           | 507/9973 [00:11<02:55, 54.05it/s]\n",
      "\n",
      "  5%|████                                                                           | 513/9973 [00:11<02:49, 55.69it/s]\n",
      "\n",
      "  5%|████                                                                           | 519/9973 [00:11<02:59, 52.61it/s]\n",
      "\n",
      "  5%|████▏                                                                          | 525/9973 [00:11<03:19, 47.38it/s]\n",
      "\n",
      "  5%|████▏                                                                          | 531/9973 [00:11<03:27, 45.51it/s]\n",
      "\n",
      "  5%|████▏                                                                          | 536/9973 [00:11<03:22, 46.67it/s]\n",
      "\n",
      "  5%|████▎                                                                          | 542/9973 [00:11<03:14, 48.55it/s]\n",
      "\n",
      "  5%|████▎                                                                          | 548/9973 [00:11<03:06, 50.46it/s]\n",
      "\n",
      "  6%|████▍                                                                          | 556/9973 [00:12<02:47, 56.19it/s]\n",
      "\n",
      "  6%|████▍                                                                          | 562/9973 [00:12<02:53, 54.23it/s]\n",
      "\n",
      "  6%|████▍                                                                          | 568/9973 [00:12<02:56, 53.23it/s]\n",
      "\n",
      "  6%|████▌                                                                          | 574/9973 [00:12<02:54, 53.71it/s]\n",
      "\n",
      "  6%|████▌                                                                          | 580/9973 [00:12<03:01, 51.68it/s]\n",
      "\n",
      "  6%|████▋                                                                          | 588/9973 [00:12<02:46, 56.49it/s]\n",
      "\n",
      "  6%|████▋                                                                          | 594/9973 [00:12<02:50, 55.15it/s]"
     ]
    },
    {
     "name": "stdout",
     "output_type": "stream",
     "text": [
      "loss for 600 is nan\n"
     ]
    },
    {
     "name": "stderr",
     "output_type": "stream",
     "text": [
      "\n",
      "\n",
      "  6%|████▊                                                                          | 602/9973 [00:12<02:37, 59.42it/s]\n",
      "\n",
      "  6%|████▊                                                                          | 609/9973 [00:13<02:49, 55.21it/s]\n",
      "\n",
      "  6%|████▉                                                                          | 617/9973 [00:13<02:36, 59.60it/s]\n",
      "\n",
      "  6%|████▉                                                                          | 624/9973 [00:13<02:57, 52.72it/s]\n",
      "\n",
      "  6%|████▉                                                                          | 630/9973 [00:13<02:54, 53.54it/s]\n",
      "\n",
      "  6%|█████                                                                          | 638/9973 [00:13<02:42, 57.39it/s]\n",
      "\n",
      "  6%|█████                                                                          | 644/9973 [00:13<02:51, 54.35it/s]\n",
      "\n",
      "  7%|█████▏                                                                         | 650/9973 [00:13<03:09, 49.31it/s]\n",
      "\n",
      "  7%|█████▏                                                                         | 656/9973 [00:13<03:06, 50.01it/s]\n",
      "\n",
      "  7%|█████▎                                                                         | 663/9973 [00:14<02:50, 54.70it/s]\n",
      "\n",
      "  7%|█████▎                                                                         | 669/9973 [00:14<02:49, 54.95it/s]\n",
      "\n",
      "  7%|█████▎                                                                         | 675/9973 [00:14<02:48, 55.13it/s]\n",
      "\n",
      "  7%|█████▍                                                                         | 683/9973 [00:14<02:41, 57.65it/s]\n",
      "\n",
      "  7%|█████▍                                                                         | 690/9973 [00:14<02:34, 60.24it/s]\n",
      "\n",
      "  7%|█████▌                                                                         | 697/9973 [00:14<02:41, 57.31it/s]"
     ]
    },
    {
     "name": "stdout",
     "output_type": "stream",
     "text": [
      "loss for 700 is nan\n"
     ]
    },
    {
     "name": "stderr",
     "output_type": "stream",
     "text": [
      "\n",
      "\n",
      "  7%|█████▌                                                                         | 704/9973 [00:14<02:36, 59.37it/s]\n",
      "\n",
      "  7%|█████▋                                                                         | 711/9973 [00:14<03:05, 49.95it/s]\n",
      "\n",
      "  7%|█████▋                                                                         | 717/9973 [00:15<04:19, 35.70it/s]\n",
      "\n",
      "  7%|█████▋                                                                         | 722/9973 [00:15<04:16, 36.01it/s]\n",
      "\n",
      "  7%|█████▊                                                                         | 729/9973 [00:15<03:44, 41.26it/s]\n",
      "\n",
      "  7%|█████▊                                                                         | 734/9973 [00:15<04:25, 34.81it/s]\n",
      "\n",
      "  7%|█████▊                                                                         | 741/9973 [00:15<03:46, 40.72it/s]\n",
      "\n",
      "  7%|█████▉                                                                         | 746/9973 [00:15<03:36, 42.68it/s]\n",
      "\n",
      "  8%|█████▉                                                                         | 751/9973 [00:15<03:37, 42.37it/s]\n",
      "\n",
      "  8%|██████                                                                         | 763/9973 [00:16<03:02, 50.47it/s]\n",
      "\n",
      "  8%|██████                                                                         | 769/9973 [00:16<03:08, 48.88it/s]\n",
      "\n",
      "  8%|██████▏                                                                        | 775/9973 [00:16<03:21, 45.62it/s]\n",
      "\n",
      "  8%|██████▏                                                                        | 781/9973 [00:16<03:25, 44.76it/s]\n",
      "\n",
      "  8%|██████▏                                                                        | 786/9973 [00:16<03:34, 42.88it/s]\n",
      "\n",
      "  8%|██████▎                                                                        | 794/9973 [00:16<03:09, 48.53it/s]\n",
      "\n",
      "  8%|██████▎                                                                        | 800/9973 [00:16<03:29, 43.82it/s]"
     ]
    },
    {
     "name": "stdout",
     "output_type": "stream",
     "text": [
      "loss for 800 is nan\n"
     ]
    },
    {
     "name": "stderr",
     "output_type": "stream",
     "text": [
      "\n",
      "\n",
      "  8%|██████▍                                                                        | 805/9973 [00:17<03:45, 40.71it/s]\n",
      "\n",
      "  8%|██████▍                                                                        | 811/9973 [00:17<03:27, 44.25it/s]\n",
      "\n",
      "  8%|██████▍                                                                        | 816/9973 [00:17<03:33, 42.89it/s]\n",
      "\n",
      "  8%|██████▌                                                                        | 821/9973 [00:17<03:54, 38.96it/s]\n",
      "\n",
      "  8%|██████▌                                                                        | 826/9973 [00:17<03:54, 38.99it/s]\n",
      "\n",
      "  8%|██████▌                                                                        | 831/9973 [00:17<03:45, 40.53it/s]\n",
      "\n",
      "  8%|██████▌                                                                        | 836/9973 [00:17<03:44, 40.76it/s]\n",
      "\n",
      "  8%|██████▋                                                                        | 841/9973 [00:17<03:38, 41.85it/s]\n",
      "\n",
      "  8%|██████▋                                                                        | 846/9973 [00:18<03:42, 40.97it/s]\n",
      "\n",
      "  9%|██████▋                                                                        | 851/9973 [00:18<03:43, 40.78it/s]\n",
      "\n",
      "  9%|██████▊                                                                        | 856/9973 [00:18<04:06, 37.02it/s]\n",
      "\n",
      "  9%|██████▊                                                                        | 861/9973 [00:18<04:00, 37.95it/s]\n",
      "\n",
      "  9%|██████▊                                                                        | 865/9973 [00:18<04:04, 37.25it/s]\n",
      "\n",
      "  9%|██████▉                                                                        | 869/9973 [00:18<04:23, 34.49it/s]\n",
      "\n",
      "  9%|██████▉                                                                        | 873/9973 [00:18<04:23, 34.49it/s]\n",
      "\n",
      "  9%|██████▉                                                                        | 880/9973 [00:18<03:43, 40.68it/s]\n",
      "\n",
      "  9%|███████                                                                        | 885/9973 [00:19<03:47, 39.93it/s]\n",
      "\n",
      "  9%|███████                                                                        | 890/9973 [00:19<03:44, 40.37it/s]\n",
      "\n",
      "  9%|███████                                                                        | 895/9973 [00:19<03:47, 39.97it/s]\n",
      "\n",
      "  9%|███████▏                                                                       | 900/9973 [00:19<03:55, 38.59it/s]"
     ]
    },
    {
     "name": "stdout",
     "output_type": "stream",
     "text": [
      "loss for 900 is nan\n"
     ]
    },
    {
     "name": "stderr",
     "output_type": "stream",
     "text": [
      "\n",
      "\n",
      "  9%|███████▏                                                                       | 904/9973 [00:19<04:03, 37.26it/s]\n",
      "\n",
      "  9%|███████▏                                                                       | 909/9973 [00:19<03:46, 39.99it/s]\n",
      "\n",
      "  9%|███████▏                                                                       | 914/9973 [00:19<03:43, 40.48it/s]\n",
      "\n",
      "  9%|███████▎                                                                       | 919/9973 [00:19<03:54, 38.56it/s]\n",
      "\n",
      "  9%|███████▎                                                                       | 923/9973 [00:20<03:52, 38.98it/s]\n",
      "\n",
      "  9%|███████▎                                                                       | 928/9973 [00:20<03:41, 40.92it/s]\n",
      "\n",
      "  9%|███████▍                                                                       | 933/9973 [00:20<03:44, 40.35it/s]\n",
      "\n",
      "  9%|███████▍                                                                       | 938/9973 [00:20<03:33, 42.39it/s]\n",
      "\n",
      "  9%|███████▍                                                                       | 943/9973 [00:20<03:31, 42.60it/s]\n",
      "\n",
      " 10%|███████▌                                                                       | 948/9973 [00:20<03:35, 41.89it/s]\n",
      "\n",
      " 10%|███████▌                                                                       | 955/9973 [00:20<03:17, 45.76it/s]\n",
      "\n",
      " 10%|███████▌                                                                       | 961/9973 [00:20<03:02, 49.27it/s]\n",
      "\n",
      " 10%|███████▋                                                                       | 967/9973 [00:20<03:09, 47.60it/s]\n",
      "\n",
      " 10%|███████▋                                                                       | 972/9973 [00:21<03:08, 47.74it/s]\n",
      "\n",
      " 10%|███████▋                                                                       | 977/9973 [00:21<03:14, 46.25it/s]\n",
      "\n",
      " 10%|███████▊                                                                       | 982/9973 [00:21<03:16, 45.76it/s]\n",
      "\n",
      " 10%|███████▊                                                                       | 987/9973 [00:21<03:26, 43.52it/s]\n",
      "\n",
      " 10%|███████▊                                                                       | 993/9973 [00:21<03:21, 44.47it/s]\n",
      "\n",
      " 10%|███████▉                                                                       | 999/9973 [00:21<03:09, 47.30it/s]"
     ]
    },
    {
     "name": "stdout",
     "output_type": "stream",
     "text": [
      "loss for 1000 is nan\n"
     ]
    },
    {
     "name": "stderr",
     "output_type": "stream",
     "text": [
      "\n",
      "\n",
      " 10%|███████▊                                                                      | 1004/9973 [00:21<03:19, 44.97it/s]\n",
      "\n",
      " 10%|███████▉                                                                      | 1009/9973 [00:21<03:15, 45.86it/s]\n",
      "\n",
      " 10%|███████▉                                                                      | 1015/9973 [00:22<03:08, 47.47it/s]\n",
      "\n",
      " 10%|███████▉                                                                      | 1022/9973 [00:22<02:56, 50.72it/s]\n",
      "\n",
      " 10%|████████                                                                      | 1028/9973 [00:22<03:11, 46.73it/s]\n",
      "\n",
      " 10%|████████                                                                      | 1035/9973 [00:22<02:56, 50.55it/s]\n",
      "\n",
      " 10%|████████▏                                                                     | 1041/9973 [00:22<03:15, 45.77it/s]\n",
      "\n",
      " 10%|████████▏                                                                     | 1046/9973 [00:22<03:20, 44.46it/s]\n",
      "\n",
      " 11%|████████▏                                                                     | 1051/9973 [00:22<03:31, 42.26it/s]\n",
      "\n",
      " 11%|████████▎                                                                     | 1058/9973 [00:22<03:10, 46.77it/s]\n",
      "\n",
      " 11%|████████▎                                                                     | 1063/9973 [00:23<03:11, 46.62it/s]\n",
      "\n",
      " 11%|████████▎                                                                     | 1068/9973 [00:23<03:17, 45.02it/s]\n",
      "\n",
      " 11%|████████▍                                                                     | 1074/9973 [00:23<03:22, 43.96it/s]\n",
      "\n",
      " 11%|████████▍                                                                     | 1079/9973 [00:23<03:36, 41.09it/s]\n",
      "\n",
      " 11%|████████▍                                                                     | 1085/9973 [00:23<03:22, 43.95it/s]\n",
      "\n",
      " 11%|████████▌                                                                     | 1090/9973 [00:23<03:18, 44.77it/s]\n",
      "\n",
      " 11%|████████▌                                                                     | 1098/9973 [00:23<02:55, 50.53it/s]"
     ]
    },
    {
     "name": "stdout",
     "output_type": "stream",
     "text": [
      "loss for 1100 is nan\n"
     ]
    },
    {
     "name": "stderr",
     "output_type": "stream",
     "text": [
      "\n",
      "\n",
      " 11%|████████▋                                                                     | 1104/9973 [00:23<02:57, 49.93it/s]\n",
      "\n",
      " 11%|████████▋                                                                     | 1110/9973 [00:24<03:02, 48.63it/s]\n",
      "\n",
      " 11%|████████▋                                                                     | 1116/9973 [00:24<03:08, 46.93it/s]\n",
      "\n",
      " 11%|████████▊                                                                     | 1121/9973 [00:24<03:39, 40.39it/s]\n",
      "\n",
      " 11%|████████▊                                                                     | 1127/9973 [00:24<03:25, 42.96it/s]\n",
      "\n",
      " 11%|████████▊                                                                     | 1132/9973 [00:24<03:19, 44.38it/s]\n",
      "\n",
      " 11%|████████▉                                                                     | 1137/9973 [00:24<03:14, 45.43it/s]\n",
      "\n",
      " 11%|████████▉                                                                     | 1142/9973 [00:24<03:15, 45.19it/s]\n",
      "\n",
      " 12%|████████▉                                                                     | 1150/9973 [00:24<02:55, 50.40it/s]\n",
      "\n",
      " 12%|█████████                                                                     | 1156/9973 [00:24<02:50, 51.85it/s]\n",
      "\n",
      " 12%|█████████                                                                     | 1162/9973 [00:25<02:44, 53.47it/s]\n",
      "\n",
      " 12%|█████████▏                                                                    | 1168/9973 [00:25<02:46, 52.94it/s]\n",
      "\n",
      " 12%|█████████▏                                                                    | 1174/9973 [00:25<02:50, 51.48it/s]\n",
      "\n",
      " 12%|█████████▏                                                                    | 1182/9973 [00:25<02:36, 56.19it/s]\n",
      "\n",
      " 12%|█████████▎                                                                    | 1188/9973 [00:25<02:43, 53.60it/s]\n",
      "\n",
      " 12%|█████████▎                                                                    | 1194/9973 [00:25<02:47, 52.46it/s]\n",
      "\n",
      " 12%|█████████▍                                                                    | 1200/9973 [00:25<02:54, 50.14it/s]"
     ]
    },
    {
     "name": "stdout",
     "output_type": "stream",
     "text": [
      "loss for 1200 is nan\n"
     ]
    },
    {
     "name": "stderr",
     "output_type": "stream",
     "text": [
      "\n",
      "\n",
      " 12%|█████████▍                                                                    | 1206/9973 [00:25<03:00, 48.64it/s]\n",
      "\n",
      " 12%|█████████▍                                                                    | 1211/9973 [00:26<03:00, 48.47it/s]\n",
      "\n",
      " 12%|█████████▌                                                                    | 1216/9973 [00:26<03:03, 47.80it/s]\n",
      "\n",
      " 12%|█████████▌                                                                    | 1221/9973 [00:26<03:06, 46.80it/s]\n",
      "\n",
      " 12%|█████████▌                                                                    | 1226/9973 [00:26<03:05, 47.18it/s]\n",
      "\n",
      " 12%|█████████▋                                                                    | 1232/9973 [00:26<03:00, 48.46it/s]\n",
      "\n",
      " 12%|█████████▋                                                                    | 1237/9973 [00:26<03:00, 48.34it/s]\n",
      "\n",
      " 12%|█████████▋                                                                    | 1243/9973 [00:26<02:53, 50.30it/s]\n",
      "\n",
      " 13%|█████████▊                                                                    | 1249/9973 [00:26<03:05, 46.91it/s]\n",
      "\n",
      " 13%|█████████▊                                                                    | 1255/9973 [00:26<03:02, 47.80it/s]\n",
      "\n",
      " 13%|█████████▊                                                                    | 1260/9973 [00:27<03:01, 47.88it/s]\n",
      "\n",
      " 13%|█████████▉                                                                    | 1267/9973 [00:27<02:50, 51.04it/s]\n",
      "\n",
      " 13%|█████████▉                                                                    | 1273/9973 [00:27<02:58, 48.75it/s]\n",
      "\n",
      " 13%|█████████▉                                                                    | 1278/9973 [00:27<02:57, 49.12it/s]\n",
      "\n",
      " 13%|██████████                                                                    | 1283/9973 [00:27<03:12, 45.10it/s]\n",
      "\n",
      " 13%|██████████                                                                    | 1288/9973 [00:27<03:13, 44.96it/s]\n",
      "\n",
      " 13%|██████████                                                                    | 1294/9973 [00:27<03:05, 46.80it/s]\n",
      "\n",
      " 13%|██████████▏                                                                   | 1299/9973 [00:27<03:22, 42.81it/s]"
     ]
    },
    {
     "name": "stdout",
     "output_type": "stream",
     "text": [
      "loss for 1300 is nan\n"
     ]
    },
    {
     "name": "stderr",
     "output_type": "stream",
     "text": [
      "\n",
      "\n",
      " 13%|██████████▏                                                                   | 1306/9973 [00:28<03:06, 46.53it/s]\n",
      "\n",
      " 13%|██████████▎                                                                   | 1311/9973 [00:28<03:25, 42.22it/s]\n",
      "\n",
      " 13%|██████████▎                                                                   | 1318/9973 [00:28<03:05, 46.77it/s]\n",
      "\n",
      " 13%|██████████▎                                                                   | 1323/9973 [00:28<03:15, 44.16it/s]\n",
      "\n",
      " 13%|██████████▍                                                                   | 1328/9973 [00:28<04:04, 35.30it/s]\n",
      "\n",
      " 13%|██████████▍                                                                   | 1332/9973 [00:28<04:45, 30.27it/s]\n",
      "\n",
      " 13%|██████████▍                                                                   | 1336/9973 [00:29<05:39, 25.43it/s]\n",
      "\n",
      " 13%|██████████▍                                                                   | 1339/9973 [00:29<05:41, 25.30it/s]\n",
      "\n",
      " 13%|██████████▌                                                                   | 1346/9973 [00:29<04:43, 30.48it/s]\n",
      "\n",
      " 14%|██████████▌                                                                   | 1351/9973 [00:29<04:15, 33.68it/s]\n",
      "\n",
      " 14%|██████████▌                                                                   | 1358/9973 [00:29<03:38, 39.35it/s]\n",
      "\n",
      " 14%|██████████▋                                                                   | 1363/9973 [00:29<04:53, 29.32it/s]\n",
      "\n",
      " 14%|██████████▋                                                                   | 1367/9973 [00:29<04:50, 29.61it/s]\n",
      "\n",
      " 14%|██████████▋                                                                   | 1371/9973 [00:30<05:06, 28.06it/s]\n",
      "\n",
      " 14%|██████████▊                                                                   | 1375/9973 [00:30<05:09, 27.74it/s]\n",
      "\n",
      " 14%|██████████▊                                                                   | 1379/9973 [00:30<05:17, 27.08it/s]\n",
      "\n",
      " 14%|██████████▊                                                                   | 1383/9973 [00:30<04:49, 29.71it/s]\n",
      "\n",
      " 14%|██████████▊                                                                   | 1387/9973 [00:30<05:20, 26.77it/s]\n",
      "\n",
      " 14%|██████████▊                                                                   | 1390/9973 [00:30<05:20, 26.77it/s]\n",
      "\n",
      " 14%|██████████▉                                                                   | 1393/9973 [00:30<05:20, 26.78it/s]\n",
      "\n",
      " 14%|██████████▉                                                                   | 1396/9973 [00:30<05:13, 27.37it/s]"
     ]
    },
    {
     "name": "stdout",
     "output_type": "stream",
     "text": [
      "loss for 1400 is nan\n"
     ]
    },
    {
     "name": "stderr",
     "output_type": "stream",
     "text": [
      "\n",
      "\n",
      " 14%|██████████▉                                                                   | 1401/9973 [00:31<04:43, 30.29it/s]\n",
      "\n",
      " 14%|███████████                                                                   | 1407/9973 [00:31<04:09, 34.35it/s]\n",
      "\n",
      " 14%|███████████                                                                   | 1414/9973 [00:31<03:34, 39.99it/s]\n",
      "\n",
      " 14%|███████████                                                                   | 1419/9973 [00:31<03:41, 38.57it/s]\n",
      "\n",
      " 14%|███████████▏                                                                  | 1426/9973 [00:31<03:14, 43.98it/s]\n",
      "\n",
      " 14%|███████████▏                                                                  | 1431/9973 [00:31<03:09, 44.97it/s]\n",
      "\n",
      " 14%|███████████▏                                                                  | 1436/9973 [00:31<03:14, 43.93it/s]\n",
      "\n",
      " 14%|███████████▎                                                                  | 1441/9973 [00:31<03:08, 45.19it/s]\n",
      "\n",
      " 15%|███████████▎                                                                  | 1452/9973 [00:32<02:36, 54.41it/s]\n",
      "\n",
      " 15%|███████████▍                                                                  | 1459/9973 [00:32<02:44, 51.80it/s]\n",
      "\n",
      " 15%|███████████▍                                                                  | 1465/9973 [00:32<02:54, 48.74it/s]\n",
      "\n",
      " 15%|███████████▌                                                                  | 1471/9973 [00:32<02:48, 50.31it/s]\n",
      "\n",
      " 15%|███████████▌                                                                  | 1478/9973 [00:32<02:38, 53.44it/s]\n",
      "\n",
      " 15%|███████████▌                                                                  | 1484/9973 [00:32<02:55, 48.31it/s]\n",
      "\n",
      " 15%|███████████▋                                                                  | 1490/9973 [00:32<02:55, 48.33it/s]\n",
      "\n",
      " 15%|███████████▋                                                                  | 1497/9973 [00:32<02:44, 51.40it/s]"
     ]
    },
    {
     "name": "stdout",
     "output_type": "stream",
     "text": [
      "loss for 1500 is nan\n"
     ]
    },
    {
     "name": "stderr",
     "output_type": "stream",
     "text": [
      "\n",
      "\n",
      " 15%|███████████▊                                                                  | 1503/9973 [00:33<03:03, 46.26it/s]\n",
      "\n",
      " 15%|███████████▊                                                                  | 1510/9973 [00:33<02:48, 50.17it/s]\n",
      "\n",
      " 15%|███████████▉                                                                  | 1520/9973 [00:33<02:23, 58.99it/s]\n",
      "\n",
      " 15%|███████████▉                                                                  | 1527/9973 [00:33<02:43, 51.52it/s]\n",
      "\n",
      " 15%|███████████▉                                                                  | 1533/9973 [00:33<02:55, 48.11it/s]\n",
      "\n",
      " 15%|████████████                                                                  | 1542/9973 [00:33<02:33, 55.09it/s]\n",
      "\n",
      " 16%|████████████                                                                  | 1549/9973 [00:33<02:42, 51.69it/s]\n",
      "\n",
      " 16%|████████████▏                                                                 | 1555/9973 [00:33<02:40, 52.51it/s]\n",
      "\n",
      " 16%|████████████▏                                                                 | 1561/9973 [00:34<02:51, 48.95it/s]\n",
      "\n",
      " 16%|████████████▎                                                                 | 1569/9973 [00:34<02:35, 53.89it/s]\n",
      "\n",
      " 16%|████████████▎                                                                 | 1578/9973 [00:34<02:19, 59.97it/s]\n",
      "\n",
      " 16%|████████████▍                                                                 | 1589/9973 [00:34<02:04, 67.51it/s]\n",
      "\n",
      " 16%|████████████▍                                                                 | 1598/9973 [00:34<01:59, 70.25it/s]"
     ]
    },
    {
     "name": "stdout",
     "output_type": "stream",
     "text": [
      "loss for 1600 is nan\n"
     ]
    },
    {
     "name": "stderr",
     "output_type": "stream",
     "text": [
      "\n",
      "\n",
      " 16%|████████████▌                                                                 | 1606/9973 [00:34<02:21, 58.96it/s]\n",
      "\n",
      " 16%|████████████▋                                                                 | 1616/9973 [00:34<02:05, 66.38it/s]\n",
      "\n",
      " 16%|████████████▋                                                                 | 1624/9973 [00:34<02:02, 68.18it/s]\n",
      "\n",
      " 16%|████████████▊                                                                 | 1634/9973 [00:35<01:55, 72.21it/s]\n",
      "\n",
      " 16%|████████████▊                                                                 | 1645/9973 [00:35<01:44, 79.43it/s]\n",
      "\n",
      " 17%|████████████▉                                                                 | 1656/9973 [00:35<01:39, 83.81it/s]\n",
      "\n",
      " 17%|█████████████                                                                 | 1666/9973 [00:35<01:36, 85.96it/s]\n",
      "\n",
      " 17%|█████████████                                                                 | 1675/9973 [00:35<01:59, 69.71it/s]\n",
      "\n",
      " 17%|█████████████▏                                                                | 1683/9973 [00:35<02:15, 61.37it/s]\n",
      "\n",
      " 17%|█████████████▏                                                                | 1691/9973 [00:35<02:12, 62.63it/s]\n",
      "\n",
      " 17%|█████████████▎                                                                | 1698/9973 [00:36<02:23, 57.78it/s]"
     ]
    },
    {
     "name": "stdout",
     "output_type": "stream",
     "text": [
      "loss for 1700 is nan\n"
     ]
    },
    {
     "name": "stderr",
     "output_type": "stream",
     "text": [
      "\n",
      "\n",
      " 17%|█████████████▎                                                                | 1706/9973 [00:36<02:11, 62.68it/s]\n",
      "\n",
      " 17%|█████████████▍                                                                | 1715/9973 [00:36<02:00, 68.63it/s]\n",
      "\n",
      " 17%|█████████████▍                                                                | 1723/9973 [00:36<02:17, 60.09it/s]\n",
      "\n",
      " 17%|█████████████▌                                                                | 1730/9973 [00:36<02:31, 54.27it/s]\n",
      "\n",
      " 17%|█████████████▌                                                                | 1736/9973 [00:36<02:40, 51.25it/s]\n",
      "\n",
      " 17%|█████████████▌                                                                | 1742/9973 [00:36<02:41, 50.96it/s]\n",
      "\n",
      " 18%|█████████████▋                                                                | 1748/9973 [00:36<02:53, 47.52it/s]\n",
      "\n",
      " 18%|█████████████▋                                                                | 1753/9973 [00:37<03:02, 45.11it/s]\n",
      "\n",
      " 18%|█████████████▋                                                                | 1758/9973 [00:37<03:04, 44.49it/s]\n",
      "\n",
      " 18%|█████████████▊                                                                | 1763/9973 [00:37<03:16, 41.85it/s]\n",
      "\n",
      " 18%|█████████████▊                                                                | 1773/9973 [00:37<02:41, 50.69it/s]\n",
      "\n",
      " 18%|█████████████▉                                                                | 1780/9973 [00:37<02:32, 53.90it/s]\n",
      "\n",
      " 18%|█████████████▉                                                                | 1787/9973 [00:37<02:38, 51.49it/s]\n",
      "\n",
      " 18%|██████████████                                                                | 1793/9973 [00:37<02:51, 47.70it/s]\n",
      "\n",
      " 18%|██████████████                                                                | 1799/9973 [00:38<02:58, 45.91it/s]"
     ]
    },
    {
     "name": "stdout",
     "output_type": "stream",
     "text": [
      "loss for 1800 is nan\n"
     ]
    },
    {
     "name": "stderr",
     "output_type": "stream",
     "text": [
      "\n",
      "\n",
      " 18%|██████████████                                                                | 1806/9973 [00:38<02:40, 50.75it/s]\n",
      "\n",
      " 18%|██████████████▏                                                               | 1813/9973 [00:38<02:27, 55.31it/s]\n",
      "\n",
      " 18%|██████████████▏                                                               | 1819/9973 [00:38<02:28, 54.78it/s]\n",
      "\n",
      " 18%|██████████████▎                                                               | 1825/9973 [00:38<02:36, 52.10it/s]\n",
      "\n",
      " 18%|██████████████▎                                                               | 1831/9973 [00:38<02:53, 46.82it/s]\n",
      "\n",
      " 18%|██████████████▎                                                               | 1836/9973 [00:38<02:55, 46.39it/s]\n",
      "\n",
      " 18%|██████████████▍                                                               | 1842/9973 [00:38<02:47, 48.64it/s]\n",
      "\n",
      " 19%|██████████████▍                                                               | 1848/9973 [00:38<02:45, 49.22it/s]\n",
      "\n",
      " 19%|██████████████▌                                                               | 1854/9973 [00:39<02:53, 46.78it/s]\n",
      "\n",
      " 19%|██████████████▌                                                               | 1862/9973 [00:39<02:34, 52.45it/s]\n",
      "\n",
      " 19%|██████████████▌                                                               | 1868/9973 [00:39<02:32, 53.15it/s]\n",
      "\n",
      " 19%|██████████████▋                                                               | 1874/9973 [00:39<02:43, 49.51it/s]\n",
      "\n",
      " 19%|██████████████▋                                                               | 1881/9973 [00:39<02:35, 51.97it/s]\n",
      "\n",
      " 19%|██████████████▊                                                               | 1887/9973 [00:39<02:35, 52.05it/s]\n",
      "\n",
      " 19%|██████████████▊                                                               | 1893/9973 [00:39<02:41, 49.98it/s]\n",
      "\n",
      " 19%|██████████████▊                                                               | 1899/9973 [00:39<02:48, 48.05it/s]"
     ]
    },
    {
     "name": "stdout",
     "output_type": "stream",
     "text": [
      "loss for 1900 is nan\n"
     ]
    },
    {
     "name": "stderr",
     "output_type": "stream",
     "text": [
      "\n",
      "\n",
      " 19%|██████████████▉                                                               | 1906/9973 [00:40<02:34, 52.16it/s]\n",
      "\n",
      " 19%|██████████████▉                                                               | 1914/9973 [00:40<02:19, 57.84it/s]\n",
      "\n",
      " 19%|███████████████                                                               | 1923/9973 [00:40<02:04, 64.72it/s]\n",
      "\n",
      " 19%|███████████████                                                               | 1932/9973 [00:40<01:56, 68.90it/s]\n",
      "\n",
      " 19%|███████████████▏                                                              | 1942/9973 [00:40<01:47, 74.40it/s]\n",
      "\n",
      " 20%|███████████████▎                                                              | 1950/9973 [00:40<01:46, 75.23it/s]\n",
      "\n",
      " 20%|███████████████▎                                                              | 1958/9973 [00:40<01:54, 70.28it/s]\n",
      "\n",
      " 20%|███████████████▍                                                              | 1966/9973 [00:40<02:10, 61.20it/s]\n",
      "\n",
      " 20%|███████████████▍                                                              | 1974/9973 [00:41<02:04, 64.17it/s]\n",
      "\n",
      " 20%|███████████████▌                                                              | 1984/9973 [00:41<01:53, 70.33it/s]\n",
      "\n",
      " 20%|███████████████▌                                                              | 1992/9973 [00:41<01:52, 71.15it/s]\n",
      "\n",
      " 20%|███████████████▋                                                              | 2000/9973 [00:41<02:05, 63.71it/s]"
     ]
    },
    {
     "name": "stdout",
     "output_type": "stream",
     "text": [
      "loss for 2000 is nan\n"
     ]
    },
    {
     "name": "stderr",
     "output_type": "stream",
     "text": [
      "\n",
      "\n",
      " 20%|███████████████▋                                                              | 2007/9973 [00:41<02:30, 52.81it/s]\n",
      "\n",
      " 20%|███████████████▋                                                              | 2013/9973 [00:41<02:35, 51.14it/s]\n",
      "\n",
      " 20%|███████████████▊                                                              | 2020/9973 [00:41<02:27, 53.78it/s]\n",
      "\n",
      " 20%|███████████████▊                                                              | 2026/9973 [00:41<02:39, 49.91it/s]\n",
      "\n",
      " 20%|███████████████▉                                                              | 2032/9973 [00:42<02:43, 48.65it/s]\n",
      "\n",
      " 20%|███████████████▉                                                              | 2038/9973 [00:42<03:08, 42.09it/s]\n",
      "\n",
      " 20%|███████████████▉                                                              | 2043/9973 [00:42<03:34, 36.98it/s]\n",
      "\n",
      " 21%|████████████████                                                              | 2048/9973 [00:42<03:47, 34.76it/s]\n",
      "\n",
      " 21%|████████████████                                                              | 2058/9973 [00:42<03:04, 43.00it/s]\n",
      "\n",
      " 21%|████████████████▏                                                             | 2064/9973 [00:42<02:54, 45.29it/s]\n",
      "\n",
      " 21%|████████████████▏                                                             | 2072/9973 [00:42<02:35, 50.87it/s]\n",
      "\n",
      " 21%|████████████████▎                                                             | 2078/9973 [00:43<02:37, 50.10it/s]\n",
      "\n",
      " 21%|████████████████▎                                                             | 2088/9973 [00:43<02:14, 58.51it/s]\n",
      "\n",
      " 21%|████████████████▍                                                             | 2095/9973 [00:43<02:08, 61.54it/s]"
     ]
    },
    {
     "name": "stdout",
     "output_type": "stream",
     "text": [
      "loss for 2100 is nan\n"
     ]
    },
    {
     "name": "stderr",
     "output_type": "stream",
     "text": [
      "\n",
      "\n",
      " 21%|████████████████▍                                                             | 2103/9973 [00:43<02:00, 65.47it/s]\n",
      "\n",
      " 21%|████████████████▌                                                             | 2111/9973 [00:43<02:07, 61.57it/s]\n",
      "\n",
      " 21%|████████████████▌                                                             | 2118/9973 [00:43<02:17, 57.01it/s]\n",
      "\n",
      " 21%|████████████████▌                                                             | 2125/9973 [00:43<02:30, 52.26it/s]\n",
      "\n",
      " 21%|████████████████▋                                                             | 2132/9973 [00:43<02:24, 54.45it/s]\n",
      "\n",
      " 21%|████████████████▋                                                             | 2141/9973 [00:44<02:12, 59.32it/s]\n",
      "\n",
      " 22%|████████████████▊                                                             | 2148/9973 [00:44<02:21, 55.12it/s]\n",
      "\n",
      " 22%|████████████████▊                                                             | 2154/9973 [00:44<02:34, 50.76it/s]\n",
      "\n",
      " 22%|████████████████▉                                                             | 2161/9973 [00:44<02:21, 55.32it/s]\n",
      "\n",
      " 22%|████████████████▉                                                             | 2168/9973 [00:44<02:17, 56.74it/s]\n",
      "\n",
      " 22%|█████████████████                                                             | 2174/9973 [00:44<02:26, 53.37it/s]\n",
      "\n",
      " 22%|█████████████████                                                             | 2180/9973 [00:44<02:28, 52.31it/s]\n",
      "\n",
      " 22%|█████████████████                                                             | 2186/9973 [00:44<02:43, 47.66it/s]\n",
      "\n",
      " 22%|█████████████████▏                                                            | 2191/9973 [00:45<02:48, 46.20it/s]\n",
      "\n",
      " 22%|█████████████████▏                                                            | 2196/9973 [00:45<02:50, 45.72it/s]"
     ]
    },
    {
     "name": "stdout",
     "output_type": "stream",
     "text": [
      "loss for 2200 is nan\n"
     ]
    },
    {
     "name": "stderr",
     "output_type": "stream",
     "text": [
      "\n",
      "\n",
      " 22%|█████████████████▏                                                            | 2201/9973 [00:45<03:00, 43.05it/s]\n",
      "\n",
      " 22%|█████████████████▎                                                            | 2206/9973 [00:45<03:02, 42.62it/s]\n",
      "\n",
      " 22%|█████████████████▎                                                            | 2211/9973 [00:45<03:10, 40.68it/s]\n",
      "\n",
      " 22%|█████████████████▎                                                            | 2217/9973 [00:45<02:58, 43.46it/s]\n",
      "\n",
      " 22%|█████████████████▍                                                            | 2222/9973 [00:45<03:02, 42.47it/s]\n",
      "\n",
      " 22%|█████████████████▍                                                            | 2227/9973 [00:45<02:57, 43.55it/s]\n",
      "\n",
      " 22%|█████████████████▍                                                            | 2232/9973 [00:46<02:56, 43.87it/s]\n",
      "\n",
      " 22%|█████████████████▍                                                            | 2237/9973 [00:46<03:02, 42.31it/s]\n",
      "\n",
      " 22%|█████████████████▌                                                            | 2242/9973 [00:46<03:01, 42.54it/s]\n",
      "\n",
      " 23%|█████████████████▌                                                            | 2249/9973 [00:46<02:48, 45.94it/s]\n",
      "\n",
      " 23%|█████████████████▋                                                            | 2254/9973 [00:46<02:53, 44.57it/s]\n",
      "\n",
      " 23%|█████████████████▋                                                            | 2259/9973 [00:46<02:58, 43.20it/s]\n",
      "\n",
      " 23%|█████████████████▋                                                            | 2264/9973 [00:46<02:56, 43.63it/s]\n",
      "\n",
      " 23%|█████████████████▊                                                            | 2273/9973 [00:46<02:29, 51.60it/s]\n",
      "\n",
      " 23%|█████████████████▊                                                            | 2279/9973 [00:47<02:41, 47.70it/s]\n",
      "\n",
      " 23%|█████████████████▊                                                            | 2285/9973 [00:47<02:48, 45.71it/s]\n",
      "\n",
      " 23%|█████████████████▉                                                            | 2290/9973 [00:47<02:54, 43.95it/s]\n",
      "\n",
      " 23%|█████████████████▉                                                            | 2298/9973 [00:47<02:35, 49.32it/s]"
     ]
    },
    {
     "name": "stdout",
     "output_type": "stream",
     "text": [
      "loss for 2300 is nan\n"
     ]
    },
    {
     "name": "stderr",
     "output_type": "stream",
     "text": [
      "\n",
      "\n",
      " 23%|██████████████████                                                            | 2304/9973 [00:47<02:45, 46.31it/s]\n",
      "\n",
      " 23%|██████████████████                                                            | 2311/9973 [00:47<02:31, 50.65it/s]\n",
      "\n",
      " 23%|██████████████████                                                            | 2317/9973 [00:47<02:34, 49.45it/s]\n",
      "\n",
      " 23%|██████████████████▏                                                           | 2328/9973 [00:47<02:14, 57.02it/s]\n",
      "\n",
      " 23%|██████████████████▎                                                           | 2335/9973 [00:48<02:43, 46.81it/s]\n",
      "\n",
      " 23%|██████████████████▎                                                           | 2341/9973 [00:48<02:41, 47.27it/s]\n",
      "\n",
      " 24%|██████████████████▎                                                           | 2348/9973 [00:48<02:26, 51.91it/s]\n",
      "\n",
      " 24%|██████████████████▍                                                           | 2357/9973 [00:48<02:13, 57.19it/s]\n",
      "\n",
      " 24%|██████████████████▍                                                           | 2364/9973 [00:48<02:07, 59.89it/s]\n",
      "\n",
      " 24%|██████████████████▌                                                           | 2371/9973 [00:48<02:27, 51.54it/s]\n",
      "\n",
      " 24%|██████████████████▌                                                           | 2379/9973 [00:48<02:17, 55.31it/s]\n",
      "\n",
      " 24%|██████████████████▋                                                           | 2386/9973 [00:48<02:15, 56.18it/s]\n",
      "\n",
      " 24%|██████████████████▋                                                           | 2395/9973 [00:49<02:05, 60.27it/s]"
     ]
    },
    {
     "name": "stdout",
     "output_type": "stream",
     "text": [
      "loss for 2400 is nan\n"
     ]
    },
    {
     "name": "stderr",
     "output_type": "stream",
     "text": [
      "\n",
      "\n",
      " 24%|██████████████████▊                                                           | 2402/9973 [00:49<02:28, 50.83it/s]\n",
      "\n",
      " 24%|██████████████████▊                                                           | 2408/9973 [00:49<02:43, 46.36it/s]\n",
      "\n",
      " 24%|██████████████████▉                                                           | 2414/9973 [00:49<02:57, 42.55it/s]\n",
      "\n",
      " 24%|██████████████████▉                                                           | 2419/9973 [00:49<03:02, 41.44it/s]\n",
      "\n",
      " 24%|██████████████████▉                                                           | 2424/9973 [00:49<02:56, 42.79it/s]\n",
      "\n",
      " 24%|██████████████████▉                                                           | 2429/9973 [00:49<03:01, 41.60it/s]\n",
      "\n",
      " 24%|███████████████████                                                           | 2434/9973 [00:50<03:04, 40.80it/s]\n",
      "\n",
      " 24%|███████████████████                                                           | 2439/9973 [00:50<03:05, 40.66it/s]\n",
      "\n",
      " 25%|███████████████████                                                           | 2444/9973 [00:50<03:05, 40.56it/s]\n",
      "\n",
      " 25%|███████████████████▏                                                          | 2449/9973 [00:50<03:07, 40.10it/s]\n",
      "\n",
      " 25%|███████████████████▏                                                          | 2454/9973 [00:50<03:14, 38.67it/s]\n",
      "\n",
      " 25%|███████████████████▏                                                          | 2458/9973 [00:50<03:34, 34.96it/s]\n",
      "\n",
      " 25%|███████████████████▎                                                          | 2462/9973 [00:50<03:44, 33.42it/s]\n",
      "\n",
      " 25%|███████████████████▎                                                          | 2466/9973 [00:51<04:05, 30.64it/s]\n",
      "\n",
      " 25%|███████████████████▎                                                          | 2470/9973 [00:51<03:48, 32.82it/s]\n",
      "\n",
      " 25%|███████████████████▎                                                          | 2474/9973 [00:51<03:47, 32.94it/s]\n",
      "\n",
      " 25%|███████████████████▍                                                          | 2478/9973 [00:51<03:42, 33.73it/s]\n",
      "\n",
      " 25%|███████████████████▍                                                          | 2482/9973 [00:51<03:45, 33.27it/s]\n",
      "\n",
      " 25%|███████████████████▍                                                          | 2486/9973 [00:51<03:40, 33.92it/s]\n",
      "\n",
      " 25%|███████████████████▌                                                          | 2496/9973 [00:51<03:00, 41.52it/s]"
     ]
    },
    {
     "name": "stdout",
     "output_type": "stream",
     "text": [
      "loss for 2500 is nan\n"
     ]
    },
    {
     "name": "stderr",
     "output_type": "stream",
     "text": [
      "\n",
      "\n",
      " 25%|███████████████████▌                                                          | 2502/9973 [00:51<02:55, 42.68it/s]\n",
      "\n",
      " 25%|███████████████████▌                                                          | 2507/9973 [00:51<02:47, 44.56it/s]\n",
      "\n",
      " 25%|███████████████████▋                                                          | 2516/9973 [00:52<02:23, 51.96it/s]\n",
      "\n",
      " 25%|███████████████████▊                                                          | 2527/9973 [00:52<02:05, 59.24it/s]\n",
      "\n",
      " 25%|███████████████████▊                                                          | 2541/9973 [00:52<01:45, 70.63it/s]\n",
      "\n",
      " 26%|███████████████████▉                                                          | 2553/9973 [00:52<01:33, 79.08it/s]\n",
      "\n",
      " 26%|████████████████████                                                          | 2565/9973 [00:52<01:24, 87.43it/s]\n",
      "\n",
      " 26%|████████████████████▏                                                         | 2576/9973 [00:52<02:00, 61.16it/s]\n",
      "\n",
      " 26%|████████████████████▏                                                         | 2585/9973 [00:53<02:19, 52.88it/s]\n",
      "\n",
      " 26%|████████████████████▎                                                         | 2592/9973 [00:53<02:51, 43.07it/s]\n",
      "\n",
      " 26%|████████████████████▎                                                         | 2598/9973 [00:53<02:51, 42.95it/s]"
     ]
    },
    {
     "name": "stdout",
     "output_type": "stream",
     "text": [
      "loss for 2600 is nan\n"
     ]
    },
    {
     "name": "stderr",
     "output_type": "stream",
     "text": [
      "\n",
      "\n",
      " 26%|████████████████████▎                                                         | 2604/9973 [00:53<02:40, 45.95it/s]\n",
      "\n",
      " 26%|████████████████████▍                                                         | 2613/9973 [00:53<02:20, 52.49it/s]\n",
      "\n",
      " 26%|████████████████████▍                                                         | 2620/9973 [00:53<02:29, 49.17it/s]\n",
      "\n",
      " 26%|████████████████████▌                                                         | 2629/9973 [00:53<02:11, 55.69it/s]\n",
      "\n",
      " 26%|████████████████████▌                                                         | 2636/9973 [00:54<02:19, 52.53it/s]\n",
      "\n",
      " 27%|████████████████████▋                                                         | 2643/9973 [00:54<02:11, 55.86it/s]\n",
      "\n",
      " 27%|████████████████████▋                                                         | 2650/9973 [00:54<02:30, 48.62it/s]\n",
      "\n",
      " 27%|████████████████████▊                                                         | 2656/9973 [00:54<03:25, 35.68it/s]\n",
      "\n",
      " 27%|████████████████████▊                                                         | 2661/9973 [00:54<03:26, 35.44it/s]\n",
      "\n",
      " 27%|████████████████████▊                                                         | 2666/9973 [00:54<03:21, 36.28it/s]\n",
      "\n",
      " 27%|████████████████████▉                                                         | 2671/9973 [00:55<03:15, 37.41it/s]\n",
      "\n",
      " 27%|████████████████████▉                                                         | 2678/9973 [00:55<02:51, 42.55it/s]\n",
      "\n",
      " 27%|█████████████████████                                                         | 2686/9973 [00:55<02:29, 48.66it/s]\n",
      "\n",
      " 27%|█████████████████████                                                         | 2692/9973 [00:55<02:52, 42.09it/s]\n",
      "\n",
      " 27%|█████████████████████                                                         | 2697/9973 [00:55<02:54, 41.67it/s]"
     ]
    },
    {
     "name": "stdout",
     "output_type": "stream",
     "text": [
      "loss for 2700 is nan\n"
     ]
    },
    {
     "name": "stderr",
     "output_type": "stream",
     "text": [
      "\n",
      "\n",
      " 27%|█████████████████████▏                                                        | 2704/9973 [00:55<02:38, 45.94it/s]\n",
      "\n",
      " 27%|█████████████████████▏                                                        | 2710/9973 [00:55<02:44, 44.27it/s]\n",
      "\n",
      " 27%|█████████████████████▏                                                        | 2715/9973 [00:55<02:46, 43.60it/s]\n",
      "\n",
      " 27%|█████████████████████▎                                                        | 2720/9973 [00:56<03:03, 39.58it/s]\n",
      "\n",
      " 27%|█████████████████████▎                                                        | 2725/9973 [00:56<03:02, 39.70it/s]\n",
      "\n",
      " 27%|█████████████████████▎                                                        | 2730/9973 [00:56<03:02, 39.80it/s]\n",
      "\n",
      " 27%|█████████████████████▍                                                        | 2735/9973 [00:56<03:19, 36.30it/s]\n",
      "\n",
      " 27%|█████████████████████▍                                                        | 2739/9973 [00:56<03:26, 34.95it/s]\n",
      "\n",
      " 28%|█████████████████████▍                                                        | 2743/9973 [00:56<03:25, 35.15it/s]\n",
      "\n",
      " 28%|█████████████████████▍                                                        | 2747/9973 [00:56<03:19, 36.16it/s]\n",
      "\n",
      " 28%|█████████████████████▌                                                        | 2755/9973 [00:56<02:48, 42.84it/s]\n",
      "\n",
      " 28%|█████████████████████▌                                                        | 2763/9973 [00:57<02:26, 49.22it/s]\n",
      "\n",
      " 28%|█████████████████████▋                                                        | 2769/9973 [00:57<02:33, 46.99it/s]\n",
      "\n",
      " 28%|█████████████████████▋                                                        | 2775/9973 [00:57<02:26, 49.11it/s]\n",
      "\n",
      " 28%|█████████████████████▊                                                        | 2781/9973 [00:57<02:21, 50.70it/s]\n",
      "\n",
      " 28%|█████████████████████▊                                                        | 2787/9973 [00:57<02:28, 48.40it/s]\n",
      "\n",
      " 28%|█████████████████████▊                                                        | 2794/9973 [00:57<02:16, 52.50it/s]\n",
      "\n",
      " 28%|█████████████████████▉                                                        | 2800/9973 [00:57<02:19, 51.50it/s]"
     ]
    },
    {
     "name": "stdout",
     "output_type": "stream",
     "text": [
      "loss for 2800 is nan\n"
     ]
    },
    {
     "name": "stderr",
     "output_type": "stream",
     "text": [
      "\n",
      "\n",
      " 28%|█████████████████████▉                                                        | 2806/9973 [00:57<02:21, 50.74it/s]\n",
      "\n",
      " 28%|██████████████████████                                                        | 2816/9973 [00:58<02:04, 57.67it/s]\n",
      "\n",
      " 28%|██████████████████████                                                        | 2824/9973 [00:58<01:57, 60.98it/s]\n",
      "\n",
      " 28%|██████████████████████▏                                                       | 2831/9973 [00:58<02:06, 56.39it/s]\n",
      "\n",
      " 28%|██████████████████████▏                                                       | 2837/9973 [00:58<02:17, 51.73it/s]\n",
      "\n",
      " 29%|██████████████████████▏                                                       | 2843/9973 [00:58<02:24, 49.35it/s]\n",
      "\n",
      " 29%|██████████████████████▎                                                       | 2851/9973 [00:58<02:12, 53.88it/s]\n",
      "\n",
      " 29%|██████████████████████▎                                                       | 2860/9973 [00:58<01:59, 59.53it/s]\n",
      "\n",
      " 29%|██████████████████████▍                                                       | 2867/9973 [00:58<02:03, 57.61it/s]\n",
      "\n",
      " 29%|██████████████████████▍                                                       | 2874/9973 [00:59<02:12, 53.43it/s]\n",
      "\n",
      " 29%|██████████████████████▌                                                       | 2881/9973 [00:59<02:07, 55.83it/s]\n",
      "\n",
      " 29%|██████████████████████▌                                                       | 2891/9973 [00:59<01:55, 61.13it/s]\n",
      "\n",
      " 29%|██████████████████████▋                                                       | 2898/9973 [00:59<01:54, 61.97it/s]"
     ]
    },
    {
     "name": "stdout",
     "output_type": "stream",
     "text": [
      "loss for 2900 is nan\n"
     ]
    },
    {
     "name": "stderr",
     "output_type": "stream",
     "text": [
      "\n",
      "\n",
      " 29%|██████████████████████▋                                                       | 2905/9973 [00:59<01:50, 63.81it/s]\n",
      "\n",
      " 29%|██████████████████████▊                                                       | 2912/9973 [00:59<02:11, 53.80it/s]\n",
      "\n",
      " 29%|██████████████████████▊                                                       | 2918/9973 [00:59<02:20, 50.06it/s]\n",
      "\n",
      " 29%|██████████████████████▊                                                       | 2924/9973 [00:59<02:17, 51.28it/s]\n",
      "\n",
      " 29%|██████████████████████▉                                                       | 2932/9973 [01:00<02:08, 54.90it/s]\n",
      "\n",
      " 29%|██████████████████████▉                                                       | 2938/9973 [01:00<02:15, 51.74it/s]\n",
      "\n",
      " 30%|███████████████████████                                                       | 2944/9973 [01:00<02:16, 51.58it/s]\n",
      "\n",
      " 30%|███████████████████████                                                       | 2953/9973 [01:00<02:00, 58.08it/s]\n",
      "\n",
      " 30%|███████████████████████▏                                                      | 2964/9973 [01:00<01:47, 65.46it/s]\n",
      "\n",
      " 30%|███████████████████████▏                                                      | 2972/9973 [01:00<01:57, 59.34it/s]\n",
      "\n",
      " 30%|███████████████████████▎                                                      | 2979/9973 [01:00<01:53, 61.70it/s]\n",
      "\n",
      " 30%|███████████████████████▎                                                      | 2987/9973 [01:00<01:48, 64.63it/s]\n",
      "\n",
      " 30%|███████████████████████▍                                                      | 2996/9973 [01:01<01:42, 68.34it/s]"
     ]
    },
    {
     "name": "stdout",
     "output_type": "stream",
     "text": [
      "loss for 3000 is nan\n"
     ]
    },
    {
     "name": "stderr",
     "output_type": "stream",
     "text": [
      "\n",
      "\n",
      " 30%|███████████████████████▍                                                      | 3004/9973 [01:01<01:52, 62.18it/s]\n",
      "\n",
      " 30%|███████████████████████▌                                                      | 3011/9973 [01:01<01:48, 64.11it/s]\n",
      "\n",
      " 30%|███████████████████████▌                                                      | 3018/9973 [01:01<01:50, 63.14it/s]\n",
      "\n",
      " 30%|███████████████████████▋                                                      | 3027/9973 [01:01<01:42, 67.89it/s]\n",
      "\n",
      " 30%|███████████████████████▋                                                      | 3035/9973 [01:01<01:40, 68.98it/s]\n",
      "\n",
      " 31%|███████████████████████▊                                                      | 3044/9973 [01:01<01:33, 74.12it/s]\n",
      "\n",
      " 31%|███████████████████████▊                                                      | 3052/9973 [01:01<01:33, 73.89it/s]\n",
      "\n",
      " 31%|███████████████████████▉                                                      | 3060/9973 [01:01<01:37, 71.26it/s]\n",
      "\n",
      " 31%|███████████████████████▉                                                      | 3068/9973 [01:02<01:48, 63.67it/s]\n",
      "\n",
      " 31%|████████████████████████                                                      | 3075/9973 [01:02<01:48, 63.75it/s]\n",
      "\n",
      " 31%|████████████████████████                                                      | 3082/9973 [01:02<01:59, 57.82it/s]\n",
      "\n",
      " 31%|████████████████████████▏                                                     | 3089/9973 [01:02<02:14, 51.22it/s]\n",
      "\n",
      " 31%|████████████████████████▏                                                     | 3095/9973 [01:02<02:15, 50.88it/s]"
     ]
    },
    {
     "name": "stdout",
     "output_type": "stream",
     "text": [
      "loss for 3100 is nan\n"
     ]
    },
    {
     "name": "stderr",
     "output_type": "stream",
     "text": [
      "\n",
      "\n",
      " 31%|████████████████████████▎                                                     | 3101/9973 [01:02<02:23, 47.87it/s]\n",
      "\n",
      " 31%|████████████████████████▎                                                     | 3106/9973 [01:02<02:26, 46.86it/s]\n",
      "\n",
      " 31%|████████████████████████▎                                                     | 3111/9973 [01:03<02:24, 47.59it/s]\n",
      "\n",
      " 31%|████████████████████████▎                                                     | 3116/9973 [01:03<02:24, 47.46it/s]\n",
      "\n",
      " 31%|████████████████████████▍                                                     | 3122/9973 [01:03<02:19, 49.13it/s]\n",
      "\n",
      " 31%|████████████████████████▍                                                     | 3127/9973 [01:03<02:18, 49.25it/s]\n",
      "\n",
      " 31%|████████████████████████▍                                                     | 3132/9973 [01:03<02:22, 48.14it/s]\n",
      "\n",
      " 31%|████████████████████████▌                                                     | 3138/9973 [01:03<02:21, 48.38it/s]\n",
      "\n",
      " 32%|████████████████████████▌                                                     | 3146/9973 [01:03<02:06, 54.15it/s]\n",
      "\n",
      " 32%|████████████████████████▋                                                     | 3156/9973 [01:03<01:49, 62.28it/s]\n",
      "\n",
      " 32%|████████████████████████▋                                                     | 3163/9973 [01:03<01:59, 56.97it/s]\n",
      "\n",
      " 32%|████████████████████████▊                                                     | 3170/9973 [01:04<02:12, 51.26it/s]\n",
      "\n",
      " 32%|████████████████████████▊                                                     | 3176/9973 [01:04<02:15, 50.22it/s]\n",
      "\n",
      " 32%|████████████████████████▉                                                     | 3182/9973 [01:04<02:20, 48.34it/s]\n",
      "\n",
      " 32%|████████████████████████▉                                                     | 3188/9973 [01:04<02:26, 46.46it/s]\n",
      "\n",
      " 32%|████████████████████████▉                                                     | 3193/9973 [01:04<02:36, 43.20it/s]\n",
      "\n",
      " 32%|█████████████████████████                                                     | 3198/9973 [01:04<02:33, 44.02it/s]"
     ]
    },
    {
     "name": "stdout",
     "output_type": "stream",
     "text": [
      "loss for 3200 is nan\n"
     ]
    },
    {
     "name": "stderr",
     "output_type": "stream",
     "text": [
      "\n",
      "\n",
      " 32%|█████████████████████████                                                     | 3205/9973 [01:04<02:16, 49.46it/s]\n",
      "\n",
      " 32%|█████████████████████████                                                     | 3211/9973 [01:05<02:20, 48.00it/s]\n",
      "\n",
      " 32%|█████████████████████████▏                                                    | 3217/9973 [01:05<02:19, 48.37it/s]\n",
      "\n",
      " 32%|█████████████████████████▏                                                    | 3224/9973 [01:05<02:11, 51.26it/s]\n",
      "\n",
      " 32%|█████████████████████████▎                                                    | 3233/9973 [01:05<01:58, 56.72it/s]\n",
      "\n",
      " 32%|█████████████████████████▎                                                    | 3239/9973 [01:05<02:02, 54.82it/s]\n",
      "\n",
      " 33%|█████████████████████████▍                                                    | 3247/9973 [01:05<01:52, 59.69it/s]\n",
      "\n",
      " 33%|█████████████████████████▍                                                    | 3254/9973 [01:05<02:02, 54.98it/s]\n",
      "\n",
      " 33%|█████████████████████████▌                                                    | 3261/9973 [01:05<02:01, 55.42it/s]\n",
      "\n",
      " 33%|█████████████████████████▌                                                    | 3267/9973 [01:05<02:07, 52.75it/s]\n",
      "\n",
      " 33%|█████████████████████████▋                                                    | 3278/9973 [01:06<01:48, 61.86it/s]\n",
      "\n",
      " 33%|█████████████████████████▋                                                    | 3285/9973 [01:06<01:46, 62.80it/s]\n",
      "\n",
      " 33%|█████████████████████████▋                                                    | 3292/9973 [01:06<02:01, 55.11it/s]\n",
      "\n",
      " 33%|█████████████████████████▊                                                    | 3300/9973 [01:06<01:52, 59.38it/s]"
     ]
    },
    {
     "name": "stdout",
     "output_type": "stream",
     "text": [
      "loss for 3300 is nan\n"
     ]
    },
    {
     "name": "stderr",
     "output_type": "stream",
     "text": [
      "\n",
      "\n",
      " 33%|█████████████████████████▊                                                    | 3308/9973 [01:06<01:43, 64.34it/s]\n",
      "\n",
      " 33%|█████████████████████████▉                                                    | 3318/9973 [01:06<01:33, 70.82it/s]\n",
      "\n",
      " 33%|██████████████████████████                                                    | 3327/9973 [01:06<01:29, 74.66it/s]\n",
      "\n",
      " 33%|██████████████████████████                                                    | 3335/9973 [01:06<01:32, 71.48it/s]\n",
      "\n",
      " 34%|██████████████████████████▏                                                   | 3343/9973 [01:07<01:38, 67.20it/s]\n",
      "\n",
      " 34%|██████████████████████████▏                                                   | 3352/9973 [01:07<01:33, 71.11it/s]\n",
      "\n",
      " 34%|██████████████████████████▎                                                   | 3360/9973 [01:07<01:36, 68.28it/s]\n",
      "\n",
      " 34%|██████████████████████████▎                                                   | 3369/9973 [01:07<01:31, 72.36it/s]\n",
      "\n",
      " 34%|██████████████████████████▍                                                   | 3379/9973 [01:07<01:25, 77.28it/s]\n",
      "\n",
      " 34%|██████████████████████████▌                                                   | 3390/9973 [01:07<01:21, 80.40it/s]\n",
      "\n",
      " 34%|██████████████████████████▌                                                   | 3399/9973 [01:07<01:40, 65.62it/s]"
     ]
    },
    {
     "name": "stdout",
     "output_type": "stream",
     "text": [
      "loss for 3400 is nan\n"
     ]
    },
    {
     "name": "stderr",
     "output_type": "stream",
     "text": [
      "\n",
      "\n",
      " 34%|██████████████████████████▋                                                   | 3407/9973 [01:08<01:57, 56.08it/s]\n",
      "\n",
      " 34%|██████████████████████████▋                                                   | 3414/9973 [01:08<02:07, 51.59it/s]\n",
      "\n",
      " 34%|██████████████████████████▋                                                   | 3420/9973 [01:08<02:16, 47.98it/s]\n",
      "\n",
      " 34%|██████████████████████████▊                                                   | 3426/9973 [01:08<02:19, 46.82it/s]\n",
      "\n",
      " 34%|██████████████████████████▊                                                   | 3431/9973 [01:08<02:23, 45.55it/s]\n",
      "\n",
      " 34%|██████████████████████████▊                                                   | 3436/9973 [01:08<02:22, 45.95it/s]\n",
      "\n",
      " 35%|██████████████████████████▉                                                   | 3441/9973 [01:08<02:23, 45.37it/s]\n",
      "\n",
      " 35%|██████████████████████████▉                                                   | 3446/9973 [01:08<02:28, 44.00it/s]\n",
      "\n",
      " 35%|██████████████████████████▉                                                   | 3451/9973 [01:09<02:24, 45.04it/s]\n",
      "\n",
      " 35%|███████████████████████████                                                   | 3462/9973 [01:09<02:02, 53.28it/s]\n",
      "\n",
      " 35%|███████████████████████████                                                   | 3468/9973 [01:09<02:04, 52.20it/s]\n",
      "\n",
      " 35%|███████████████████████████▏                                                  | 3475/9973 [01:09<01:57, 55.26it/s]\n",
      "\n",
      " 35%|███████████████████████████▏                                                  | 3481/9973 [01:09<02:01, 53.55it/s]\n",
      "\n",
      " 35%|███████████████████████████▎                                                  | 3487/9973 [01:09<02:09, 49.96it/s]\n",
      "\n",
      " 35%|███████████████████████████▎                                                  | 3493/9973 [01:09<02:16, 47.61it/s]"
     ]
    },
    {
     "name": "stdout",
     "output_type": "stream",
     "text": [
      "loss for 3500 is nan\n"
     ]
    },
    {
     "name": "stderr",
     "output_type": "stream",
     "text": [
      "\n",
      "\n",
      " 35%|███████████████████████████▍                                                  | 3501/9973 [01:09<02:06, 51.07it/s]\n",
      "\n",
      " 35%|███████████████████████████▍                                                  | 3509/9973 [01:10<01:54, 56.29it/s]\n",
      "\n",
      " 35%|███████████████████████████▌                                                  | 3518/9973 [01:10<01:43, 62.62it/s]\n",
      "\n",
      " 35%|███████████████████████████▌                                                  | 3526/9973 [01:10<01:38, 65.45it/s]\n",
      "\n",
      " 35%|███████████████████████████▋                                                  | 3533/9973 [01:10<01:53, 56.96it/s]\n",
      "\n",
      " 35%|███████████████████████████▋                                                  | 3540/9973 [01:10<01:59, 53.82it/s]\n",
      "\n",
      " 36%|███████████████████████████▋                                                  | 3546/9973 [01:10<02:08, 50.14it/s]\n",
      "\n",
      " 36%|███████████████████████████▊                                                  | 3552/9973 [01:10<02:06, 50.77it/s]\n",
      "\n",
      " 36%|███████████████████████████▊                                                  | 3561/9973 [01:10<01:50, 58.08it/s]\n",
      "\n",
      " 36%|███████████████████████████▉                                                  | 3570/9973 [01:10<01:42, 62.44it/s]\n",
      "\n",
      " 36%|███████████████████████████▉                                                  | 3577/9973 [01:11<01:41, 63.15it/s]\n",
      "\n",
      " 36%|████████████████████████████                                                  | 3587/9973 [01:11<01:31, 69.62it/s]\n",
      "\n",
      " 36%|████████████████████████████                                                  | 3595/9973 [01:11<01:32, 68.89it/s]"
     ]
    },
    {
     "name": "stdout",
     "output_type": "stream",
     "text": [
      "loss for 3600 is nan\n"
     ]
    },
    {
     "name": "stderr",
     "output_type": "stream",
     "text": [
      "\n",
      "\n",
      " 36%|████████████████████████████▏                                                 | 3603/9973 [01:11<01:57, 54.06it/s]\n",
      "\n",
      " 36%|████████████████████████████▏                                                 | 3610/9973 [01:11<02:02, 52.01it/s]\n",
      "\n",
      " 36%|████████████████████████████▎                                                 | 3617/9973 [01:11<01:52, 56.30it/s]\n",
      "\n",
      " 36%|████████████████████████████▎                                                 | 3624/9973 [01:11<01:52, 56.63it/s]\n",
      "\n",
      " 36%|████████████████████████████▍                                                 | 3630/9973 [01:12<02:28, 42.64it/s]\n",
      "\n",
      " 36%|████████████████████████████▍                                                 | 3636/9973 [01:12<02:28, 42.62it/s]\n",
      "\n",
      " 37%|████████████████████████████▍                                                 | 3641/9973 [01:12<02:24, 43.90it/s]\n",
      "\n",
      " 37%|████████████████████████████▌                                                 | 3647/9973 [01:12<02:20, 44.90it/s]\n",
      "\n",
      " 37%|████████████████████████████▌                                                 | 3652/9973 [01:12<02:17, 45.89it/s]\n",
      "\n",
      " 37%|████████████████████████████▌                                                 | 3657/9973 [01:12<02:18, 45.72it/s]\n",
      "\n",
      " 37%|████████████████████████████▋                                                 | 3662/9973 [01:12<02:50, 36.99it/s]\n",
      "\n",
      " 37%|████████████████████████████▋                                                 | 3670/9973 [01:13<02:26, 42.97it/s]\n",
      "\n",
      " 37%|████████████████████████████▊                                                 | 3676/9973 [01:13<02:18, 45.34it/s]\n",
      "\n",
      " 37%|████████████████████████████▊                                                 | 3682/9973 [01:13<02:11, 47.83it/s]\n",
      "\n",
      " 37%|████████████████████████████▊                                                 | 3688/9973 [01:13<02:11, 47.89it/s]\n",
      "\n",
      " 37%|████████████████████████████▉                                                 | 3694/9973 [01:13<02:16, 46.08it/s]\n",
      "\n",
      " 37%|████████████████████████████▉                                                 | 3699/9973 [01:13<02:49, 37.11it/s]"
     ]
    },
    {
     "name": "stdout",
     "output_type": "stream",
     "text": [
      "loss for 3700 is nan\n"
     ]
    },
    {
     "name": "stderr",
     "output_type": "stream",
     "text": [
      "\n",
      "\n",
      " 37%|████████████████████████████▉                                                 | 3704/9973 [01:13<02:42, 38.48it/s]\n",
      "\n",
      " 37%|█████████████████████████████                                                 | 3711/9973 [01:13<02:21, 44.24it/s]\n",
      "\n",
      " 37%|█████████████████████████████                                                 | 3716/9973 [01:14<02:26, 42.72it/s]\n",
      "\n",
      " 37%|█████████████████████████████▏                                                | 3724/9973 [01:14<02:07, 49.13it/s]\n",
      "\n",
      " 37%|█████████████████████████████▏                                                | 3734/9973 [01:14<01:51, 55.75it/s]\n",
      "\n",
      " 38%|█████████████████████████████▎                                                | 3742/9973 [01:14<01:45, 59.06it/s]\n",
      "\n",
      " 38%|█████████████████████████████▎                                                | 3749/9973 [01:14<01:49, 56.82it/s]\n",
      "\n",
      " 38%|█████████████████████████████▍                                                | 3757/9973 [01:14<01:44, 59.48it/s]\n",
      "\n",
      " 38%|█████████████████████████████▍                                                | 3764/9973 [01:14<01:53, 54.66it/s]\n",
      "\n",
      " 38%|█████████████████████████████▍                                                | 3770/9973 [01:14<02:07, 48.72it/s]\n",
      "\n",
      " 38%|█████████████████████████████▌                                                | 3776/9973 [01:15<02:02, 50.57it/s]\n",
      "\n",
      " 38%|█████████████████████████████▌                                                | 3782/9973 [01:15<02:01, 51.00it/s]\n",
      "\n",
      " 38%|█████████████████████████████▋                                                | 3788/9973 [01:15<02:02, 50.31it/s]\n",
      "\n",
      " 38%|█████████████████████████████▋                                                | 3794/9973 [01:15<02:04, 49.60it/s]\n",
      "\n",
      " 38%|█████████████████████████████▋                                                | 3800/9973 [01:15<02:11, 47.03it/s]"
     ]
    },
    {
     "name": "stdout",
     "output_type": "stream",
     "text": [
      "loss for 3800 is nan\n"
     ]
    },
    {
     "name": "stderr",
     "output_type": "stream",
     "text": [
      "\n",
      "\n",
      " 38%|█████████████████████████████▊                                                | 3805/9973 [01:15<02:15, 45.37it/s]\n",
      "\n",
      " 38%|█████████████████████████████▊                                                | 3812/9973 [01:15<02:03, 49.91it/s]\n",
      "\n",
      " 38%|█████████████████████████████▊                                                | 3818/9973 [01:15<02:05, 49.16it/s]\n",
      "\n",
      " 38%|█████████████████████████████▉                                                | 3824/9973 [01:16<02:00, 51.17it/s]\n",
      "\n",
      " 38%|█████████████████████████████▉                                                | 3830/9973 [01:16<02:05, 48.97it/s]\n",
      "\n",
      " 38%|█████████████████████████████▉                                                | 3835/9973 [01:16<02:08, 47.95it/s]\n",
      "\n",
      " 39%|██████████████████████████████                                                | 3845/9973 [01:16<01:49, 56.07it/s]\n",
      "\n",
      " 39%|██████████████████████████████▏                                               | 3855/9973 [01:16<01:39, 61.55it/s]\n",
      "\n",
      " 39%|██████████████████████████████▏                                               | 3862/9973 [01:16<01:47, 56.78it/s]\n",
      "\n",
      " 39%|██████████████████████████████▎                                               | 3870/9973 [01:16<01:42, 59.58it/s]\n",
      "\n",
      " 39%|██████████████████████████████▎                                               | 3877/9973 [01:16<01:51, 54.82it/s]\n",
      "\n",
      " 39%|██████████████████████████████▍                                               | 3885/9973 [01:17<01:41, 59.72it/s]\n",
      "\n",
      " 39%|██████████████████████████████▍                                               | 3892/9973 [01:17<01:55, 52.47it/s]\n",
      "\n",
      " 39%|██████████████████████████████▍                                               | 3898/9973 [01:17<02:02, 49.61it/s]"
     ]
    },
    {
     "name": "stdout",
     "output_type": "stream",
     "text": [
      "loss for 3900 is nan\n"
     ]
    },
    {
     "name": "stderr",
     "output_type": "stream",
     "text": [
      "\n",
      "\n",
      " 39%|██████████████████████████████▌                                               | 3904/9973 [01:17<02:03, 49.12it/s]\n",
      "\n",
      " 39%|██████████████████████████████▌                                               | 3910/9973 [01:17<02:05, 48.20it/s]\n",
      "\n",
      " 39%|██████████████████████████████▋                                               | 3917/9973 [01:17<01:56, 51.79it/s]\n",
      "\n",
      " 39%|██████████████████████████████▋                                               | 3923/9973 [01:17<01:52, 53.66it/s]\n",
      "\n",
      " 39%|██████████████████████████████▋                                               | 3929/9973 [01:17<01:58, 50.85it/s]\n",
      "\n",
      " 39%|██████████████████████████████▊                                               | 3935/9973 [01:18<01:59, 50.36it/s]\n",
      "\n",
      " 40%|██████████████████████████████▊                                               | 3941/9973 [01:18<02:05, 47.95it/s]\n",
      "\n",
      " 40%|██████████████████████████████▊                                               | 3946/9973 [01:18<02:07, 47.26it/s]\n",
      "\n",
      " 40%|██████████████████████████████▉                                               | 3951/9973 [01:18<02:08, 46.84it/s]\n",
      "\n",
      " 40%|██████████████████████████████▉                                               | 3956/9973 [01:18<02:15, 44.40it/s]\n",
      "\n",
      " 40%|███████████████████████████████                                               | 3964/9973 [01:18<02:00, 49.77it/s]\n",
      "\n",
      " 40%|███████████████████████████████                                               | 3970/9973 [01:18<02:06, 47.62it/s]\n",
      "\n",
      " 40%|███████████████████████████████                                               | 3975/9973 [01:18<02:04, 48.16it/s]\n",
      "\n",
      " 40%|███████████████████████████████▏                                              | 3980/9973 [01:19<02:13, 44.77it/s]\n",
      "\n",
      " 40%|███████████████████████████████▏                                              | 3987/9973 [01:19<02:01, 49.21it/s]\n",
      "\n",
      " 40%|███████████████████████████████▎                                              | 3999/9973 [01:19<01:44, 57.15it/s]"
     ]
    },
    {
     "name": "stdout",
     "output_type": "stream",
     "text": [
      "loss for 4000 is nan\n"
     ]
    },
    {
     "name": "stderr",
     "output_type": "stream",
     "text": [
      "\n",
      "\n",
      " 40%|███████████████████████████████▎                                              | 4006/9973 [01:19<01:55, 51.73it/s]\n",
      "\n",
      " 40%|███████████████████████████████▍                                              | 4013/9973 [01:19<01:48, 54.68it/s]\n",
      "\n",
      " 40%|███████████████████████████████▍                                              | 4019/9973 [01:19<01:49, 54.53it/s]\n",
      "\n",
      " 40%|███████████████████████████████▍                                              | 4025/9973 [01:19<01:50, 53.66it/s]\n",
      "\n",
      " 40%|███████████████████████████████▌                                              | 4031/9973 [01:19<01:59, 49.77it/s]\n",
      "\n",
      " 40%|███████████████████████████████▌                                              | 4037/9973 [01:20<01:58, 50.09it/s]\n",
      "\n",
      " 41%|███████████████████████████████▌                                              | 4043/9973 [01:20<01:59, 49.45it/s]\n",
      "\n",
      " 41%|███████████████████████████████▋                                              | 4049/9973 [01:20<01:57, 50.50it/s]\n",
      "\n",
      " 41%|███████████████████████████████▋                                              | 4056/9973 [01:20<01:48, 54.63it/s]\n",
      "\n",
      " 41%|███████████████████████████████▊                                              | 4064/9973 [01:20<01:42, 57.56it/s]\n",
      "\n",
      " 41%|███████████████████████████████▊                                              | 4070/9973 [01:20<01:45, 55.86it/s]\n",
      "\n",
      " 41%|███████████████████████████████▉                                              | 4076/9973 [01:20<01:44, 56.46it/s]\n",
      "\n",
      " 41%|███████████████████████████████▉                                              | 4082/9973 [01:20<01:49, 53.89it/s]\n",
      "\n",
      " 41%|███████████████████████████████▉                                              | 4088/9973 [01:20<01:47, 54.82it/s]\n",
      "\n",
      " 41%|████████████████████████████████                                              | 4094/9973 [01:21<01:55, 50.94it/s]"
     ]
    },
    {
     "name": "stdout",
     "output_type": "stream",
     "text": [
      "loss for 4100 is nan\n"
     ]
    },
    {
     "name": "stderr",
     "output_type": "stream",
     "text": [
      "\n",
      "\n",
      " 41%|████████████████████████████████                                              | 4102/9973 [01:21<01:44, 56.05it/s]\n",
      "\n",
      " 41%|████████████████████████████████▏                                             | 4108/9973 [01:21<01:46, 55.09it/s]\n",
      "\n",
      " 41%|████████████████████████████████▏                                             | 4114/9973 [01:21<02:02, 47.93it/s]\n",
      "\n",
      " 41%|████████████████████████████████▏                                             | 4120/9973 [01:21<02:02, 47.73it/s]\n",
      "\n",
      " 41%|████████████████████████████████▎                                             | 4126/9973 [01:21<01:59, 49.06it/s]\n",
      "\n",
      " 41%|████████████████████████████████▎                                             | 4132/9973 [01:21<02:00, 48.65it/s]\n",
      "\n",
      " 41%|████████████████████████████████▎                                             | 4137/9973 [01:21<02:07, 45.86it/s]\n",
      "\n",
      " 42%|████████████████████████████████▍                                             | 4142/9973 [01:22<02:11, 44.29it/s]\n",
      "\n",
      " 42%|████████████████████████████████▍                                             | 4148/9973 [01:22<02:08, 45.19it/s]\n",
      "\n",
      " 42%|████████████████████████████████▍                                             | 4154/9973 [01:22<02:03, 47.15it/s]\n",
      "\n",
      " 42%|████████████████████████████████▌                                             | 4159/9973 [01:22<02:06, 45.90it/s]\n",
      "\n",
      " 42%|████████████████████████████████▌                                             | 4164/9973 [01:22<02:08, 45.18it/s]\n",
      "\n",
      " 42%|████████████████████████████████▌                                             | 4171/9973 [01:22<01:57, 49.39it/s]\n",
      "\n",
      " 42%|████████████████████████████████▋                                             | 4177/9973 [01:22<01:59, 48.30it/s]\n",
      "\n",
      " 42%|████████████████████████████████▋                                             | 4183/9973 [01:22<01:53, 50.82it/s]\n",
      "\n",
      " 42%|████████████████████████████████▊                                             | 4189/9973 [01:23<01:59, 48.57it/s]\n",
      "\n",
      " 42%|████████████████████████████████▊                                             | 4194/9973 [01:23<02:06, 45.64it/s]\n",
      "\n",
      " 42%|████████████████████████████████▊                                             | 4199/9973 [01:23<02:10, 44.12it/s]"
     ]
    },
    {
     "name": "stdout",
     "output_type": "stream",
     "text": [
      "loss for 4200 is nan\n"
     ]
    },
    {
     "name": "stderr",
     "output_type": "stream",
     "text": [
      "\n",
      "\n",
      " 42%|████████████████████████████████▉                                             | 4206/9973 [01:23<01:57, 49.26it/s]\n",
      "\n",
      " 42%|████████████████████████████████▉                                             | 4215/9973 [01:23<01:41, 56.47it/s]\n",
      "\n",
      " 42%|█████████████████████████████████                                             | 4224/9973 [01:23<01:31, 62.58it/s]\n",
      "\n",
      " 42%|█████████████████████████████████                                             | 4231/9973 [01:23<01:32, 62.16it/s]\n",
      "\n",
      " 42%|█████████████████████████████████▏                                            | 4238/9973 [01:23<01:42, 55.84it/s]\n",
      "\n",
      " 43%|█████████████████████████████████▏                                            | 4244/9973 [01:24<01:50, 51.99it/s]\n",
      "\n",
      " 43%|█████████████████████████████████▏                                            | 4250/9973 [01:24<01:58, 48.27it/s]\n",
      "\n",
      " 43%|█████████████████████████████████▎                                            | 4256/9973 [01:24<01:54, 50.08it/s]\n",
      "\n",
      " 43%|█████████████████████████████████▎                                            | 4262/9973 [01:24<01:48, 52.54it/s]\n",
      "\n",
      " 43%|█████████████████████████████████▍                                            | 4268/9973 [01:24<01:49, 52.30it/s]\n",
      "\n",
      " 43%|█████████████████████████████████▍                                            | 4274/9973 [01:24<01:56, 48.71it/s]\n",
      "\n",
      " 43%|█████████████████████████████████▍                                            | 4280/9973 [01:24<02:00, 47.39it/s]\n",
      "\n",
      " 43%|█████████████████████████████████▌                                            | 4285/9973 [01:24<02:00, 47.39it/s]\n",
      "\n",
      " 43%|█████████████████████████████████▌                                            | 4291/9973 [01:25<02:01, 46.92it/s]\n",
      "\n",
      " 43%|█████████████████████████████████▋                                            | 4300/9973 [01:25<01:45, 53.81it/s]"
     ]
    },
    {
     "name": "stdout",
     "output_type": "stream",
     "text": [
      "loss for 4300 is nan\n"
     ]
    },
    {
     "name": "stderr",
     "output_type": "stream",
     "text": [
      "\n",
      "\n",
      " 43%|█████████████████████████████████▋                                            | 4307/9973 [01:25<01:40, 56.52it/s]\n",
      "\n",
      " 43%|█████████████████████████████████▋                                            | 4313/9973 [01:25<01:45, 53.44it/s]\n",
      "\n",
      " 43%|█████████████████████████████████▊                                            | 4319/9973 [01:25<01:49, 51.61it/s]\n",
      "\n",
      " 43%|█████████████████████████████████▊                                            | 4326/9973 [01:25<01:42, 55.04it/s]\n",
      "\n",
      " 43%|█████████████████████████████████▉                                            | 4332/9973 [01:25<01:44, 54.23it/s]\n",
      "\n",
      " 44%|█████████████████████████████████▉                                            | 4340/9973 [01:25<01:40, 56.09it/s]\n",
      "\n",
      " 44%|█████████████████████████████████▉                                            | 4347/9973 [01:25<01:36, 58.21it/s]\n",
      "\n",
      " 44%|██████████████████████████████████                                            | 4353/9973 [01:26<01:40, 56.18it/s]\n",
      "\n",
      " 44%|██████████████████████████████████                                            | 4359/9973 [01:26<01:45, 53.45it/s]\n",
      "\n",
      " 44%|██████████████████████████████████▏                                           | 4365/9973 [01:26<01:44, 53.87it/s]\n",
      "\n",
      " 44%|██████████████████████████████████▏                                           | 4371/9973 [01:26<01:49, 50.99it/s]\n",
      "\n",
      " 44%|██████████████████████████████████▏                                           | 4379/9973 [01:26<01:41, 55.32it/s]\n",
      "\n",
      " 44%|██████████████████████████████████▎                                           | 4386/9973 [01:26<01:37, 57.29it/s]\n",
      "\n",
      " 44%|██████████████████████████████████▎                                           | 4394/9973 [01:26<01:31, 61.08it/s]"
     ]
    },
    {
     "name": "stdout",
     "output_type": "stream",
     "text": [
      "loss for 4400 is nan\n"
     ]
    },
    {
     "name": "stderr",
     "output_type": "stream",
     "text": [
      "\n",
      "\n",
      " 44%|██████████████████████████████████▍                                           | 4401/9973 [01:26<01:39, 56.27it/s]\n",
      "\n",
      " 44%|██████████████████████████████████▍                                           | 4409/9973 [01:27<01:34, 58.60it/s]\n",
      "\n",
      " 44%|██████████████████████████████████▌                                           | 4418/9973 [01:27<01:28, 63.05it/s]\n",
      "\n",
      " 44%|██████████████████████████████████▌                                           | 4425/9973 [01:27<01:35, 58.39it/s]\n",
      "\n",
      " 44%|██████████████████████████████████▋                                           | 4432/9973 [01:27<01:32, 59.75it/s]\n",
      "\n",
      " 45%|██████████████████████████████████▋                                           | 4439/9973 [01:27<01:36, 57.39it/s]\n",
      "\n",
      " 45%|██████████████████████████████████▊                                           | 4445/9973 [01:27<01:44, 52.77it/s]\n",
      "\n",
      " 45%|██████████████████████████████████▊                                           | 4453/9973 [01:27<01:37, 56.90it/s]\n",
      "\n",
      " 45%|██████████████████████████████████▊                                           | 4459/9973 [01:27<01:46, 51.96it/s]\n",
      "\n",
      " 45%|██████████████████████████████████▉                                           | 4467/9973 [01:28<01:38, 55.80it/s]\n",
      "\n",
      " 45%|██████████████████████████████████▉                                           | 4473/9973 [01:28<01:39, 55.52it/s]\n",
      "\n",
      " 45%|███████████████████████████████████                                           | 4484/9973 [01:28<01:25, 64.14it/s]\n",
      "\n",
      " 45%|███████████████████████████████████▏                                          | 4492/9973 [01:28<01:33, 58.42it/s]"
     ]
    },
    {
     "name": "stdout",
     "output_type": "stream",
     "text": [
      "loss for 4500 is nan\n"
     ]
    },
    {
     "name": "stderr",
     "output_type": "stream",
     "text": [
      "\n",
      "\n",
      " 45%|███████████████████████████████████▏                                          | 4504/9973 [01:28<01:19, 68.58it/s]\n",
      "\n",
      " 45%|███████████████████████████████████▎                                          | 4512/9973 [01:28<01:17, 70.83it/s]\n",
      "\n",
      " 45%|███████████████████████████████████▎                                          | 4520/9973 [01:28<01:30, 59.93it/s]\n",
      "\n",
      " 45%|███████████████████████████████████▍                                          | 4527/9973 [01:28<01:32, 58.91it/s]\n",
      "\n",
      " 45%|███████████████████████████████████▍                                          | 4534/9973 [01:29<01:32, 59.04it/s]\n",
      "\n",
      " 46%|███████████████████████████████████▌                                          | 4541/9973 [01:29<01:40, 53.90it/s]\n",
      "\n",
      " 46%|███████████████████████████████████▌                                          | 4550/9973 [01:29<01:30, 60.13it/s]\n",
      "\n",
      " 46%|███████████████████████████████████▋                                          | 4557/9973 [01:29<01:30, 59.87it/s]\n",
      "\n",
      " 46%|███████████████████████████████████▋                                          | 4564/9973 [01:29<01:32, 58.71it/s]\n",
      "\n",
      " 46%|███████████████████████████████████▊                                          | 4571/9973 [01:29<01:35, 56.45it/s]\n",
      "\n",
      " 46%|███████████████████████████████████▊                                          | 4577/9973 [01:29<01:46, 50.80it/s]\n",
      "\n",
      " 46%|███████████████████████████████████▊                                          | 4583/9973 [01:29<01:46, 50.77it/s]\n",
      "\n",
      " 46%|███████████████████████████████████▉                                          | 4591/9973 [01:30<01:37, 55.45it/s]\n",
      "\n",
      " 46%|███████████████████████████████████▉                                          | 4598/9973 [01:30<01:33, 57.77it/s]"
     ]
    },
    {
     "name": "stdout",
     "output_type": "stream",
     "text": [
      "loss for 4600 is nan\n"
     ]
    },
    {
     "name": "stderr",
     "output_type": "stream",
     "text": [
      "\n",
      "\n",
      " 46%|████████████████████████████████████                                          | 4604/9973 [01:30<01:42, 52.19it/s]\n",
      "\n",
      " 46%|████████████████████████████████████                                          | 4610/9973 [01:30<01:52, 47.85it/s]\n",
      "\n",
      " 46%|████████████████████████████████████                                          | 4616/9973 [01:30<02:00, 44.54it/s]\n",
      "\n",
      " 46%|████████████████████████████████████▏                                         | 4624/9973 [01:30<01:46, 50.36it/s]\n",
      "\n",
      " 46%|████████████████████████████████████▏                                         | 4632/9973 [01:30<01:37, 54.91it/s]\n",
      "\n",
      " 47%|████████████████████████████████████▎                                         | 4638/9973 [01:30<01:42, 52.29it/s]\n",
      "\n",
      " 47%|████████████████████████████████████▎                                         | 4644/9973 [01:31<01:39, 53.75it/s]\n",
      "\n",
      " 47%|████████████████████████████████████▍                                         | 4651/9973 [01:31<01:34, 56.46it/s]\n",
      "\n",
      " 47%|████████████████████████████████████▍                                         | 4657/9973 [01:31<01:39, 53.63it/s]\n",
      "\n",
      " 47%|████████████████████████████████████▍                                         | 4663/9973 [01:31<01:42, 51.81it/s]\n",
      "\n",
      " 47%|████████████████████████████████████▌                                         | 4669/9973 [01:31<01:51, 47.36it/s]\n",
      "\n",
      " 47%|████████████████████████████████████▌                                         | 4677/9973 [01:31<01:43, 51.26it/s]\n",
      "\n",
      " 47%|████████████████████████████████████▋                                         | 4683/9973 [01:31<01:49, 48.21it/s]\n",
      "\n",
      " 47%|████████████████████████████████████▋                                         | 4689/9973 [01:32<01:51, 47.52it/s]\n",
      "\n",
      " 47%|████████████████████████████████████▋                                         | 4696/9973 [01:32<01:41, 52.07it/s]"
     ]
    },
    {
     "name": "stdout",
     "output_type": "stream",
     "text": [
      "loss for 4700 is nan\n"
     ]
    },
    {
     "name": "stderr",
     "output_type": "stream",
     "text": [
      "\n",
      "\n",
      " 47%|████████████████████████████████████▊                                         | 4703/9973 [01:32<01:35, 55.16it/s]\n",
      "\n",
      " 47%|████████████████████████████████████▉                                         | 4715/9973 [01:32<01:21, 64.83it/s]\n",
      "\n",
      " 47%|████████████████████████████████████▉                                         | 4723/9973 [01:32<01:30, 58.00it/s]\n",
      "\n",
      " 47%|████████████████████████████████████▉                                         | 4730/9973 [01:32<01:34, 55.42it/s]\n",
      "\n",
      " 48%|█████████████████████████████████████                                         | 4738/9973 [01:32<01:28, 59.08it/s]\n",
      "\n",
      " 48%|█████████████████████████████████████                                         | 4745/9973 [01:32<01:36, 54.18it/s]\n",
      "\n",
      " 48%|█████████████████████████████████████▏                                        | 4752/9973 [01:33<01:31, 57.24it/s]\n",
      "\n",
      " 48%|█████████████████████████████████████▏                                        | 4759/9973 [01:33<01:39, 52.44it/s]\n",
      "\n",
      " 48%|█████████████████████████████████████▎                                        | 4765/9973 [01:33<01:42, 51.03it/s]\n",
      "\n",
      " 48%|█████████████████████████████████████▎                                        | 4771/9973 [01:33<01:47, 48.20it/s]\n",
      "\n",
      " 48%|█████████████████████████████████████▎                                        | 4777/9973 [01:33<01:56, 44.78it/s]\n",
      "\n",
      " 48%|█████████████████████████████████████▍                                        | 4782/9973 [01:33<01:59, 43.58it/s]\n",
      "\n",
      " 48%|█████████████████████████████████████▍                                        | 4791/9973 [01:33<01:41, 50.91it/s]\n",
      "\n",
      " 48%|█████████████████████████████████████▌                                        | 4797/9973 [01:33<01:41, 50.83it/s]"
     ]
    },
    {
     "name": "stdout",
     "output_type": "stream",
     "text": [
      "loss for 4800 is nan\n"
     ]
    },
    {
     "name": "stderr",
     "output_type": "stream",
     "text": [
      "\n",
      "\n",
      " 48%|█████████████████████████████████████▌                                        | 4806/9973 [01:34<01:30, 56.87it/s]\n",
      "\n",
      " 48%|█████████████████████████████████████▋                                        | 4814/9973 [01:34<01:26, 59.58it/s]\n",
      "\n",
      " 48%|█████████████████████████████████████▋                                        | 4821/9973 [01:34<01:24, 60.84it/s]\n",
      "\n",
      " 48%|█████████████████████████████████████▊                                        | 4828/9973 [01:34<01:26, 59.31it/s]\n",
      "\n",
      " 48%|█████████████████████████████████████▊                                        | 4835/9973 [01:34<01:33, 54.95it/s]\n",
      "\n",
      " 49%|█████████████████████████████████████▊                                        | 4841/9973 [01:34<01:38, 52.19it/s]\n",
      "\n",
      " 49%|█████████████████████████████████████▉                                        | 4853/9973 [01:34<01:25, 60.01it/s]\n",
      "\n",
      " 49%|██████████████████████████████████████                                        | 4861/9973 [01:34<01:22, 61.63it/s]\n",
      "\n",
      " 49%|██████████████████████████████████████                                        | 4868/9973 [01:35<01:23, 61.44it/s]\n",
      "\n",
      " 49%|██████████████████████████████████████▏                                       | 4875/9973 [01:35<01:31, 55.90it/s]\n",
      "\n",
      " 49%|██████████████████████████████████████▏                                       | 4882/9973 [01:35<01:26, 59.10it/s]\n",
      "\n",
      " 49%|██████████████████████████████████████▏                                       | 4889/9973 [01:35<01:30, 55.96it/s]\n",
      "\n",
      " 49%|██████████████████████████████████████▎                                       | 4896/9973 [01:35<01:28, 57.27it/s]"
     ]
    },
    {
     "name": "stdout",
     "output_type": "stream",
     "text": [
      "loss for 4900 is nan\n"
     ]
    },
    {
     "name": "stderr",
     "output_type": "stream",
     "text": [
      "\n",
      "\n",
      " 49%|██████████████████████████████████████▎                                       | 4902/9973 [01:35<01:32, 54.70it/s]\n",
      "\n",
      " 49%|██████████████████████████████████████▍                                       | 4908/9973 [01:35<01:37, 51.82it/s]\n",
      "\n",
      " 49%|██████████████████████████████████████▍                                       | 4914/9973 [01:35<01:43, 49.01it/s]\n",
      "\n",
      " 49%|██████████████████████████████████████▍                                       | 4920/9973 [01:36<01:43, 48.60it/s]\n",
      "\n",
      " 49%|██████████████████████████████████████▌                                       | 4930/9973 [01:36<01:29, 56.21it/s]\n",
      "\n",
      " 50%|██████████████████████████████████████▌                                       | 4937/9973 [01:36<01:26, 58.34it/s]\n",
      "\n",
      " 50%|██████████████████████████████████████▋                                       | 4944/9973 [01:36<01:30, 55.48it/s]\n",
      "\n",
      " 50%|██████████████████████████████████████▋                                       | 4950/9973 [01:36<01:33, 53.45it/s]\n",
      "\n",
      " 50%|██████████████████████████████████████▊                                       | 4956/9973 [01:36<01:36, 52.16it/s]\n",
      "\n",
      " 50%|██████████████████████████████████████▊                                       | 4962/9973 [01:36<01:39, 50.17it/s]\n",
      "\n",
      " 50%|██████████████████████████████████████▊                                       | 4969/9973 [01:36<01:32, 54.07it/s]\n",
      "\n",
      " 50%|██████████████████████████████████████▉                                       | 4975/9973 [01:37<01:35, 52.46it/s]\n",
      "\n",
      " 50%|██████████████████████████████████████▉                                       | 4981/9973 [01:37<01:39, 50.20it/s]\n",
      "\n",
      " 50%|███████████████████████████████████████                                       | 4987/9973 [01:37<01:40, 49.52it/s]\n",
      "\n",
      " 50%|███████████████████████████████████████                                       | 4994/9973 [01:37<01:37, 51.31it/s]\n",
      "\n",
      " 50%|███████████████████████████████████████                                       | 5000/9973 [01:37<01:35, 52.33it/s]"
     ]
    },
    {
     "name": "stdout",
     "output_type": "stream",
     "text": [
      "loss for 5000 is nan\n"
     ]
    },
    {
     "name": "stderr",
     "output_type": "stream",
     "text": [
      "\n",
      "\n",
      " 50%|███████████████████████████████████████▏                                      | 5006/9973 [01:37<01:43, 47.95it/s]\n",
      "\n",
      " 50%|███████████████████████████████████████▏                                      | 5011/9973 [01:37<01:47, 46.11it/s]\n",
      "\n",
      " 50%|███████████████████████████████████████▏                                      | 5016/9973 [01:37<01:45, 46.95it/s]\n",
      "\n",
      " 50%|███████████████████████████████████████▎                                      | 5021/9973 [01:38<01:52, 44.07it/s]\n",
      "\n",
      " 50%|███████████████████████████████████████▎                                      | 5026/9973 [01:38<01:51, 44.50it/s]\n",
      "\n",
      " 50%|███████████████████████████████████████▎                                      | 5031/9973 [01:38<01:50, 44.60it/s]\n",
      "\n",
      " 50%|███████████████████████████████████████▍                                      | 5036/9973 [01:38<01:49, 44.93it/s]\n",
      "\n",
      " 51%|███████████████████████████████████████▍                                      | 5041/9973 [01:38<01:50, 44.55it/s]\n",
      "\n",
      " 51%|███████████████████████████████████████▍                                      | 5046/9973 [01:38<01:55, 42.78it/s]\n",
      "\n",
      " 51%|███████████████████████████████████████▌                                      | 5051/9973 [01:38<01:53, 43.39it/s]\n",
      "\n",
      " 51%|███████████████████████████████████████▌                                      | 5057/9973 [01:38<01:47, 45.77it/s]\n",
      "\n",
      " 51%|███████████████████████████████████████▌                                      | 5062/9973 [01:38<01:46, 46.17it/s]\n",
      "\n",
      " 51%|███████████████████████████████████████▋                                      | 5067/9973 [01:39<01:54, 42.94it/s]\n",
      "\n",
      " 51%|███████████████████████████████████████▋                                      | 5072/9973 [01:39<01:53, 43.14it/s]\n",
      "\n",
      " 51%|███████████████████████████████████████▋                                      | 5078/9973 [01:39<01:51, 43.95it/s]\n",
      "\n",
      " 51%|███████████████████████████████████████▊                                      | 5088/9973 [01:39<01:33, 52.06it/s]\n",
      "\n",
      " 51%|███████████████████████████████████████▊                                      | 5097/9973 [01:39<01:23, 58.51it/s]"
     ]
    },
    {
     "name": "stdout",
     "output_type": "stream",
     "text": [
      "loss for 5100 is nan\n"
     ]
    },
    {
     "name": "stderr",
     "output_type": "stream",
     "text": [
      "\n",
      "\n",
      " 51%|███████████████████████████████████████▉                                      | 5105/9973 [01:39<01:21, 59.98it/s]\n",
      "\n",
      " 51%|███████████████████████████████████████▉                                      | 5112/9973 [01:39<01:24, 57.23it/s]\n",
      "\n",
      " 51%|████████████████████████████████████████                                      | 5119/9973 [01:39<01:29, 54.01it/s]\n",
      "\n",
      " 51%|████████████████████████████████████████                                      | 5127/9973 [01:40<01:23, 58.00it/s]\n",
      "\n",
      " 51%|████████████████████████████████████████▏                                     | 5136/9973 [01:40<01:16, 62.97it/s]\n",
      "\n",
      " 52%|████████████████████████████████████████▏                                     | 5143/9973 [01:40<01:23, 57.60it/s]\n",
      "\n",
      " 52%|████████████████████████████████████████▎                                     | 5150/9973 [01:40<01:30, 53.06it/s]\n",
      "\n",
      " 52%|████████████████████████████████████████▎                                     | 5156/9973 [01:40<01:40, 48.13it/s]\n",
      "\n",
      " 52%|████████████████████████████████████████▎                                     | 5162/9973 [01:40<01:41, 47.23it/s]\n",
      "\n",
      " 52%|████████████████████████████████████████▍                                     | 5171/9973 [01:40<01:29, 53.88it/s]\n",
      "\n",
      " 52%|████████████████████████████████████████▍                                     | 5177/9973 [01:41<01:36, 49.87it/s]\n",
      "\n",
      " 52%|████████████████████████████████████████▌                                     | 5183/9973 [01:41<01:40, 47.56it/s]\n",
      "\n",
      " 52%|████████████████████████████████████████▌                                     | 5189/9973 [01:41<01:39, 48.26it/s]\n",
      "\n",
      " 52%|████████████████████████████████████████▋                                     | 5195/9973 [01:41<01:42, 46.43it/s]\n",
      "\n",
      " 52%|████████████████████████████████████████▋                                     | 5200/9973 [01:41<01:43, 46.22it/s]"
     ]
    },
    {
     "name": "stdout",
     "output_type": "stream",
     "text": [
      "loss for 5200 is nan\n"
     ]
    },
    {
     "name": "stderr",
     "output_type": "stream",
     "text": [
      "\n",
      "\n",
      " 52%|████████████████████████████████████████▋                                     | 5205/9973 [01:41<01:52, 42.28it/s]\n",
      "\n",
      " 52%|████████████████████████████████████████▋                                     | 5210/9973 [01:41<01:51, 42.77it/s]\n",
      "\n",
      " 52%|████████████████████████████████████████▊                                     | 5216/9973 [01:41<01:47, 44.15it/s]\n",
      "\n",
      " 52%|████████████████████████████████████████▊                                     | 5221/9973 [01:42<01:44, 45.44it/s]\n",
      "\n",
      " 52%|████████████████████████████████████████▊                                     | 5226/9973 [01:42<01:45, 44.96it/s]\n",
      "\n",
      " 52%|████████████████████████████████████████▉                                     | 5231/9973 [01:42<01:53, 41.93it/s]\n",
      "\n",
      " 53%|████████████████████████████████████████▉                                     | 5238/9973 [01:42<01:41, 46.77it/s]\n",
      "\n",
      " 53%|█████████████████████████████████████████                                     | 5243/9973 [01:42<01:41, 46.45it/s]\n",
      "\n",
      " 53%|█████████████████████████████████████████                                     | 5250/9973 [01:42<01:33, 50.76it/s]\n",
      "\n",
      " 53%|█████████████████████████████████████████                                     | 5256/9973 [01:42<01:35, 49.17it/s]\n",
      "\n",
      " 53%|█████████████████████████████████████████▏                                    | 5264/9973 [01:42<01:27, 53.88it/s]\n",
      "\n",
      " 53%|█████████████████████████████████████████▏                                    | 5270/9973 [01:42<01:32, 50.73it/s]\n",
      "\n",
      " 53%|█████████████████████████████████████████▎                                    | 5276/9973 [01:43<01:33, 50.29it/s]\n",
      "\n",
      " 53%|█████████████████████████████████████████▎                                    | 5282/9973 [01:43<01:33, 50.15it/s]\n",
      "\n",
      " 53%|█████████████████████████████████████████▎                                    | 5290/9973 [01:43<01:25, 54.66it/s]\n",
      "\n",
      " 53%|█████████████████████████████████████████▍                                    | 5296/9973 [01:43<01:29, 52.48it/s]"
     ]
    },
    {
     "name": "stdout",
     "output_type": "stream",
     "text": [
      "loss for 5300 is nan\n"
     ]
    },
    {
     "name": "stderr",
     "output_type": "stream",
     "text": [
      "\n",
      "\n",
      " 53%|█████████████████████████████████████████▍                                    | 5302/9973 [01:43<01:28, 52.99it/s]\n",
      "\n",
      " 53%|█████████████████████████████████████████▌                                    | 5308/9973 [01:43<01:32, 50.45it/s]\n",
      "\n",
      " 53%|█████████████████████████████████████████▌                                    | 5314/9973 [01:43<01:28, 52.88it/s]\n",
      "\n",
      " 53%|█████████████████████████████████████████▌                                    | 5320/9973 [01:43<01:35, 48.77it/s]\n",
      "\n",
      " 53%|█████████████████████████████████████████▋                                    | 5326/9973 [01:44<01:34, 49.24it/s]\n",
      "\n",
      " 53%|█████████████████████████████████████████▋                                    | 5332/9973 [01:44<01:36, 48.29it/s]\n",
      "\n",
      " 54%|█████████████████████████████████████████▋                                    | 5337/9973 [01:44<01:38, 47.06it/s]\n",
      "\n",
      " 54%|█████████████████████████████████████████▊                                    | 5342/9973 [01:44<01:37, 47.49it/s]\n",
      "\n",
      " 54%|█████████████████████████████████████████▊                                    | 5347/9973 [01:44<01:38, 46.94it/s]\n",
      "\n",
      " 54%|█████████████████████████████████████████▊                                    | 5353/9973 [01:44<01:37, 47.36it/s]\n",
      "\n",
      " 54%|█████████████████████████████████████████▉                                    | 5358/9973 [01:44<01:43, 44.67it/s]\n",
      "\n",
      " 54%|█████████████████████████████████████████▉                                    | 5364/9973 [01:44<01:41, 45.56it/s]\n",
      "\n",
      " 54%|█████████████████████████████████████████▉                                    | 5369/9973 [01:45<01:41, 45.50it/s]\n",
      "\n",
      " 54%|██████████████████████████████████████████                                    | 5374/9973 [01:45<01:39, 45.99it/s]\n",
      "\n",
      " 54%|██████████████████████████████████████████                                    | 5379/9973 [01:45<01:47, 42.72it/s]\n",
      "\n",
      " 54%|██████████████████████████████████████████▏                                   | 5387/9973 [01:45<01:35, 48.16it/s]\n",
      "\n",
      " 54%|██████████████████████████████████████████▏                                   | 5393/9973 [01:45<01:35, 48.11it/s]\n",
      "\n",
      " 54%|██████████████████████████████████████████▏                                   | 5399/9973 [01:45<01:34, 48.25it/s]"
     ]
    },
    {
     "name": "stdout",
     "output_type": "stream",
     "text": [
      "loss for 5400 is nan\n"
     ]
    },
    {
     "name": "stderr",
     "output_type": "stream",
     "text": [
      "\n",
      "\n",
      " 54%|██████████████████████████████████████████▎                                   | 5404/9973 [01:45<01:39, 46.02it/s]\n",
      "\n",
      " 54%|██████████████████████████████████████████▎                                   | 5409/9973 [01:45<01:45, 43.20it/s]\n",
      "\n",
      " 54%|██████████████████████████████████████████▎                                   | 5414/9973 [01:45<01:47, 42.55it/s]\n",
      "\n",
      " 54%|██████████████████████████████████████████▍                                   | 5419/9973 [01:46<01:44, 43.37it/s]\n",
      "\n",
      " 54%|██████████████████████████████████████████▍                                   | 5428/9973 [01:46<01:33, 48.76it/s]\n",
      "\n",
      " 54%|██████████████████████████████████████████▌                                   | 5435/9973 [01:46<01:26, 52.30it/s]\n",
      "\n",
      " 55%|██████████████████████████████████████████▌                                   | 5446/9973 [01:46<01:13, 61.70it/s]\n",
      "\n",
      " 55%|██████████████████████████████████████████▋                                   | 5454/9973 [01:46<01:19, 56.84it/s]\n",
      "\n",
      " 55%|██████████████████████████████████████████▋                                   | 5461/9973 [01:46<01:22, 55.02it/s]\n",
      "\n",
      " 55%|██████████████████████████████████████████▊                                   | 5471/9973 [01:46<01:10, 63.57it/s]\n",
      "\n",
      " 55%|██████████████████████████████████████████▊                                   | 5479/9973 [01:47<01:16, 58.91it/s]\n",
      "\n",
      " 55%|██████████████████████████████████████████▉                                   | 5486/9973 [01:47<01:25, 52.35it/s]\n",
      "\n",
      " 55%|██████████████████████████████████████████▉                                   | 5492/9973 [01:47<01:30, 49.65it/s]\n",
      "\n",
      " 55%|███████████████████████████████████████████                                   | 5498/9973 [01:47<01:33, 47.83it/s]"
     ]
    },
    {
     "name": "stdout",
     "output_type": "stream",
     "text": [
      "loss for 5500 is nan\n"
     ]
    },
    {
     "name": "stderr",
     "output_type": "stream",
     "text": [
      "\n",
      "\n",
      " 55%|███████████████████████████████████████████                                   | 5504/9973 [01:47<01:36, 46.41it/s]\n",
      "\n",
      " 55%|███████████████████████████████████████████                                   | 5511/9973 [01:47<01:30, 49.18it/s]\n",
      "\n",
      " 55%|███████████████████████████████████████████▏                                  | 5517/9973 [01:47<01:27, 50.78it/s]\n",
      "\n",
      " 55%|███████████████████████████████████████████▏                                  | 5526/9973 [01:47<01:16, 58.19it/s]\n",
      "\n",
      " 55%|███████████████████████████████████████████▎                                  | 5533/9973 [01:48<01:17, 57.34it/s]\n",
      "\n",
      " 56%|███████████████████████████████████████████▎                                  | 5541/9973 [01:48<01:15, 58.65it/s]\n",
      "\n",
      " 56%|███████████████████████████████████████████▍                                  | 5548/9973 [01:48<01:13, 60.12it/s]\n",
      "\n",
      " 56%|███████████████████████████████████████████▍                                  | 5555/9973 [01:48<01:19, 55.57it/s]\n",
      "\n",
      " 56%|███████████████████████████████████████████▍                                  | 5561/9973 [01:48<01:26, 50.82it/s]\n",
      "\n",
      " 56%|███████████████████████████████████████████▌                                  | 5567/9973 [01:48<01:26, 50.74it/s]\n",
      "\n",
      " 56%|███████████████████████████████████████████▌                                  | 5573/9973 [01:48<01:22, 53.09it/s]\n",
      "\n",
      " 56%|███████████████████████████████████████████▊                                  | 5594/9973 [01:48<01:04, 68.19it/s]"
     ]
    },
    {
     "name": "stdout",
     "output_type": "stream",
     "text": [
      "loss for 5600 is nan\n"
     ]
    },
    {
     "name": "stderr",
     "output_type": "stream",
     "text": [
      "\n",
      "\n",
      " 56%|███████████████████████████████████████████▊                                  | 5604/9973 [01:49<01:06, 65.44it/s]\n",
      "\n",
      " 56%|███████████████████████████████████████████▉                                  | 5613/9973 [01:49<01:15, 57.59it/s]\n",
      "\n",
      " 56%|███████████████████████████████████████████▉                                  | 5621/9973 [01:49<01:16, 56.60it/s]\n",
      "\n",
      " 56%|████████████████████████████████████████████                                  | 5628/9973 [01:49<01:17, 55.80it/s]\n",
      "\n",
      " 57%|████████████████████████████████████████████                                  | 5635/9973 [01:49<01:22, 52.66it/s]\n",
      "\n",
      " 57%|████████████████████████████████████████████▏                                 | 5643/9973 [01:49<01:16, 56.35it/s]\n",
      "\n",
      " 57%|████████████████████████████████████████████▏                                 | 5650/9973 [01:49<01:12, 59.41it/s]\n",
      "\n",
      " 57%|████████████████████████████████████████████▏                                 | 5657/9973 [01:50<01:19, 54.48it/s]\n",
      "\n",
      " 57%|████████████████████████████████████████████▎                                 | 5663/9973 [01:50<01:18, 54.60it/s]\n",
      "\n",
      " 57%|████████████████████████████████████████████▎                                 | 5669/9973 [01:50<01:20, 53.75it/s]\n",
      "\n",
      " 57%|████████████████████████████████████████████▍                                 | 5676/9973 [01:50<01:15, 57.23it/s]\n",
      "\n",
      " 57%|████████████████████████████████████████████▍                                 | 5682/9973 [01:50<01:24, 50.60it/s]\n",
      "\n",
      " 57%|████████████████████████████████████████████▍                                 | 5689/9973 [01:50<01:17, 54.93it/s]\n",
      "\n",
      " 57%|████████████████████████████████████████████▌                                 | 5695/9973 [01:50<01:17, 55.37it/s]"
     ]
    },
    {
     "name": "stdout",
     "output_type": "stream",
     "text": [
      "loss for 5700 is nan\n"
     ]
    },
    {
     "name": "stderr",
     "output_type": "stream",
     "text": [
      "\n",
      "\n",
      " 57%|████████████████████████████████████████████▌                                 | 5702/9973 [01:50<01:14, 57.50it/s]\n",
      "\n",
      " 57%|████████████████████████████████████████████▋                                 | 5708/9973 [01:50<01:20, 52.95it/s]\n",
      "\n",
      " 57%|████████████████████████████████████████████▋                                 | 5715/9973 [01:51<01:19, 53.27it/s]\n",
      "\n",
      " 57%|████████████████████████████████████████████▋                                 | 5721/9973 [01:51<01:22, 51.58it/s]\n",
      "\n",
      " 57%|████████████████████████████████████████████▊                                 | 5727/9973 [01:51<01:25, 49.55it/s]\n",
      "\n",
      " 57%|████████████████████████████████████████████▊                                 | 5734/9973 [01:51<01:19, 53.35it/s]\n",
      "\n",
      " 58%|████████████████████████████████████████████▉                                 | 5742/9973 [01:51<01:12, 58.11it/s]\n",
      "\n",
      " 58%|████████████████████████████████████████████▉                                 | 5749/9973 [01:51<01:22, 51.32it/s]\n",
      "\n",
      " 58%|█████████████████████████████████████████████                                 | 5755/9973 [01:51<01:23, 50.53it/s]\n",
      "\n",
      " 58%|█████████████████████████████████████████████                                 | 5761/9973 [01:52<01:29, 47.03it/s]\n",
      "\n",
      " 58%|█████████████████████████████████████████████                                 | 5767/9973 [01:52<01:26, 48.64it/s]\n",
      "\n",
      " 58%|█████████████████████████████████████████████▏                                | 5773/9973 [01:52<01:26, 48.45it/s]\n",
      "\n",
      " 58%|█████████████████████████████████████████████▏                                | 5781/9973 [01:52<01:19, 52.42it/s]\n",
      "\n",
      " 58%|█████████████████████████████████████████████▎                                | 5789/9973 [01:52<01:14, 56.11it/s]\n",
      "\n",
      " 58%|█████████████████████████████████████████████▎                                | 5795/9973 [01:52<01:21, 50.98it/s]"
     ]
    },
    {
     "name": "stdout",
     "output_type": "stream",
     "text": [
      "loss for 5800 is nan\n"
     ]
    },
    {
     "name": "stderr",
     "output_type": "stream",
     "text": [
      "\n",
      "\n",
      " 58%|█████████████████████████████████████████████▎                                | 5801/9973 [01:52<01:22, 50.83it/s]\n",
      "\n",
      " 58%|█████████████████████████████████████████████▍                                | 5808/9973 [01:52<01:16, 54.64it/s]\n",
      "\n",
      " 58%|█████████████████████████████████████████████▍                                | 5814/9973 [01:53<01:18, 52.76it/s]\n",
      "\n",
      " 58%|█████████████████████████████████████████████▌                                | 5820/9973 [01:53<01:21, 51.10it/s]\n",
      "\n",
      " 58%|█████████████████████████████████████████████▌                                | 5826/9973 [01:53<01:22, 50.13it/s]\n",
      "\n",
      " 58%|█████████████████████████████████████████████▌                                | 5832/9973 [01:53<01:25, 48.68it/s]\n",
      "\n",
      " 59%|█████████████████████████████████████████████▋                                | 5837/9973 [01:53<01:32, 44.63it/s]\n",
      "\n",
      " 59%|█████████████████████████████████████████████▋                                | 5844/9973 [01:53<01:23, 49.34it/s]\n",
      "\n",
      " 59%|█████████████████████████████████████████████▊                                | 5852/9973 [01:53<01:17, 53.23it/s]\n",
      "\n",
      " 59%|█████████████████████████████████████████████▊                                | 5860/9973 [01:53<01:09, 58.94it/s]\n",
      "\n",
      " 59%|█████████████████████████████████████████████▉                                | 5867/9973 [01:54<01:20, 50.95it/s]\n",
      "\n",
      " 59%|█████████████████████████████████████████████▉                                | 5873/9973 [01:54<01:19, 51.74it/s]\n",
      "\n",
      " 59%|█████████████████████████████████████████████▉                                | 5879/9973 [01:54<01:26, 47.42it/s]\n",
      "\n",
      " 59%|██████████████████████████████████████████████                                | 5886/9973 [01:54<01:17, 52.49it/s]\n",
      "\n",
      " 59%|██████████████████████████████████████████████                                | 5892/9973 [01:54<01:19, 51.06it/s]\n",
      "\n",
      " 59%|██████████████████████████████████████████████▏                               | 5898/9973 [01:54<01:22, 49.34it/s]"
     ]
    },
    {
     "name": "stdout",
     "output_type": "stream",
     "text": [
      "loss for 5900 is nan\n"
     ]
    },
    {
     "name": "stderr",
     "output_type": "stream",
     "text": [
      "\n",
      "\n",
      " 59%|██████████████████████████████████████████████▏                               | 5904/9973 [01:54<01:23, 48.71it/s]\n",
      "\n",
      " 59%|██████████████████████████████████████████████▏                               | 5911/9973 [01:54<01:19, 51.39it/s]\n",
      "\n",
      " 59%|██████████████████████████████████████████████▎                               | 5917/9973 [01:55<01:22, 49.25it/s]\n",
      "\n",
      " 59%|██████████████████████████████████████████████▎                               | 5926/9973 [01:55<01:11, 56.85it/s]\n",
      "\n",
      " 59%|██████████████████████████████████████████████▍                               | 5933/9973 [01:55<01:11, 56.60it/s]\n",
      "\n",
      " 60%|██████████████████████████████████████████████▍                               | 5940/9973 [01:55<01:11, 56.41it/s]\n",
      "\n",
      " 60%|██████████████████████████████████████████████▌                               | 5952/9973 [01:55<01:00, 66.03it/s]\n",
      "\n",
      " 60%|██████████████████████████████████████████████▌                               | 5960/9973 [01:55<01:03, 63.12it/s]\n",
      "\n",
      " 60%|██████████████████████████████████████████████▋                               | 5967/9973 [01:55<01:08, 58.16it/s]\n",
      "\n",
      " 60%|██████████████████████████████████████████████▋                               | 5975/9973 [01:55<01:04, 61.87it/s]\n",
      "\n",
      " 60%|██████████████████████████████████████████████▊                               | 5982/9973 [01:56<01:11, 55.89it/s]\n",
      "\n",
      " 60%|██████████████████████████████████████████████▊                               | 5990/9973 [01:56<01:05, 60.89it/s]\n",
      "\n",
      " 60%|██████████████████████████████████████████████▉                               | 5997/9973 [01:56<01:12, 54.97it/s]"
     ]
    },
    {
     "name": "stdout",
     "output_type": "stream",
     "text": [
      "loss for 6000 is nan\n"
     ]
    },
    {
     "name": "stderr",
     "output_type": "stream",
     "text": [
      "\n",
      "\n",
      " 60%|██████████████████████████████████████████████▉                               | 6004/9973 [01:56<01:07, 58.55it/s]\n",
      "\n",
      " 60%|███████████████████████████████████████████████                               | 6011/9973 [01:56<01:05, 60.09it/s]\n",
      "\n",
      " 60%|███████████████████████████████████████████████                               | 6018/9973 [01:56<01:12, 54.33it/s]\n",
      "\n",
      " 60%|███████████████████████████████████████████████                               | 6024/9973 [01:56<01:14, 52.74it/s]\n",
      "\n",
      " 60%|███████████████████████████████████████████████▏                              | 6030/9973 [01:56<01:14, 52.92it/s]\n",
      "\n",
      " 61%|███████████████████████████████████████████████▏                              | 6036/9973 [01:57<01:17, 50.72it/s]\n",
      "\n",
      " 61%|███████████████████████████████████████████████▎                              | 6042/9973 [01:57<01:14, 52.51it/s]\n",
      "\n",
      " 61%|███████████████████████████████████████████████▎                              | 6051/9973 [01:57<01:05, 59.78it/s]\n",
      "\n",
      " 61%|███████████████████████████████████████████████▍                              | 6058/9973 [01:57<01:16, 51.51it/s]\n",
      "\n",
      " 61%|███████████████████████████████████████████████▍                              | 6064/9973 [01:57<01:25, 45.58it/s]\n",
      "\n",
      " 61%|███████████████████████████████████████████████▍                              | 6070/9973 [01:57<01:53, 34.33it/s]\n",
      "\n",
      " 61%|███████████████████████████████████████████████▌                              | 6075/9973 [01:57<01:46, 36.58it/s]\n",
      "\n",
      " 61%|███████████████████████████████████████████████▌                              | 6080/9973 [01:58<01:39, 39.15it/s]\n",
      "\n",
      " 61%|███████████████████████████████████████████████▌                              | 6086/9973 [01:58<01:34, 40.94it/s]\n",
      "\n",
      " 61%|███████████████████████████████████████████████▋                              | 6091/9973 [01:58<01:35, 40.66it/s]\n",
      "\n",
      " 61%|███████████████████████████████████████████████▋                              | 6096/9973 [01:58<01:51, 34.78it/s]\n",
      "\n",
      " 61%|███████████████████████████████████████████████▋                              | 6100/9973 [01:58<01:48, 35.84it/s]"
     ]
    },
    {
     "name": "stdout",
     "output_type": "stream",
     "text": [
      "loss for 6100 is nan\n"
     ]
    },
    {
     "name": "stderr",
     "output_type": "stream",
     "text": [
      "\n",
      "\n",
      " 61%|███████████████████████████████████████████████▋                              | 6104/9973 [01:58<01:47, 36.01it/s]\n",
      "\n",
      " 61%|███████████████████████████████████████████████▊                              | 6108/9973 [01:58<01:49, 35.28it/s]\n",
      "\n",
      " 61%|███████████████████████████████████████████████▊                              | 6112/9973 [01:58<01:51, 34.48it/s]\n",
      "\n",
      " 61%|███████████████████████████████████████████████▊                              | 6116/9973 [01:59<01:56, 33.23it/s]\n",
      "\n",
      " 61%|███████████████████████████████████████████████▊                              | 6120/9973 [01:59<01:55, 33.30it/s]\n",
      "\n",
      " 61%|███████████████████████████████████████████████▉                              | 6124/9973 [01:59<01:50, 34.72it/s]\n",
      "\n",
      " 61%|███████████████████████████████████████████████▉                              | 6129/9973 [01:59<01:42, 37.42it/s]\n",
      "\n",
      " 61%|███████████████████████████████████████████████▉                              | 6133/9973 [01:59<01:41, 37.81it/s]\n",
      "\n",
      " 62%|████████████████████████████████████████████████                              | 6140/9973 [01:59<01:29, 43.00it/s]\n",
      "\n",
      " 62%|████████████████████████████████████████████████                              | 6145/9973 [01:59<01:29, 42.91it/s]\n",
      "\n",
      " 62%|████████████████████████████████████████████████                              | 6150/9973 [01:59<01:31, 41.95it/s]\n",
      "\n",
      " 62%|████████████████████████████████████████████████▏                             | 6155/9973 [02:00<01:33, 40.72it/s]\n",
      "\n",
      " 62%|████████████████████████████████████████████████▏                             | 6160/9973 [02:00<01:42, 37.21it/s]\n",
      "\n",
      " 62%|████████████████████████████████████████████████▏                             | 6164/9973 [02:00<01:46, 35.84it/s]\n",
      "\n",
      " 62%|████████████████████████████████████████████████▏                             | 6168/9973 [02:00<01:51, 34.05it/s]\n",
      "\n",
      " 62%|████████████████████████████████████████████████▎                             | 6172/9973 [02:00<01:55, 32.91it/s]\n",
      "\n",
      " 62%|████████████████████████████████████████████████▎                             | 6177/9973 [02:00<01:49, 34.59it/s]\n",
      "\n",
      " 62%|████████████████████████████████████████████████▎                             | 6183/9973 [02:00<01:36, 39.20it/s]\n",
      "\n",
      " 62%|████████████████████████████████████████████████▍                             | 6188/9973 [02:00<01:38, 38.61it/s]\n",
      "\n",
      " 62%|████████████████████████████████████████████████▍                             | 6194/9973 [02:01<01:28, 42.64it/s]\n",
      "\n",
      " 62%|████████████████████████████████████████████████▍                             | 6199/9973 [02:01<01:30, 41.81it/s]"
     ]
    },
    {
     "name": "stdout",
     "output_type": "stream",
     "text": [
      "loss for 6200 is nan\n"
     ]
    },
    {
     "name": "stderr",
     "output_type": "stream",
     "text": [
      "\n",
      "\n",
      " 62%|████████████████████████████████████████████████▌                             | 6204/9973 [02:01<01:31, 41.23it/s]\n",
      "\n",
      " 62%|████████████████████████████████████████████████▌                             | 6209/9973 [02:01<01:38, 38.39it/s]\n",
      "\n",
      " 62%|████████████████████████████████████████████████▌                             | 6214/9973 [02:01<01:33, 40.29it/s]\n",
      "\n",
      " 62%|████████████████████████████████████████████████▋                             | 6221/9973 [02:01<01:23, 44.78it/s]\n",
      "\n",
      " 62%|████████████████████████████████████████████████▋                             | 6228/9973 [02:01<01:17, 48.60it/s]\n",
      "\n",
      " 63%|████████████████████████████████████████████████▊                             | 6234/9973 [02:01<01:29, 41.79it/s]\n",
      "\n",
      " 63%|████████████████████████████████████████████████▊                             | 6240/9973 [02:02<01:23, 44.49it/s]\n",
      "\n",
      " 63%|████████████████████████████████████████████████▊                             | 6245/9973 [02:02<01:32, 40.26it/s]\n",
      "\n",
      " 63%|████████████████████████████████████████████████▉                             | 6250/9973 [02:02<01:36, 38.49it/s]\n",
      "\n",
      " 63%|████████████████████████████████████████████████▉                             | 6255/9973 [02:02<01:48, 34.31it/s]\n",
      "\n",
      " 63%|████████████████████████████████████████████████▉                             | 6259/9973 [02:02<01:44, 35.51it/s]\n",
      "\n",
      " 63%|████████████████████████████████████████████████▉                             | 6263/9973 [02:02<01:46, 34.97it/s]\n",
      "\n",
      " 63%|█████████████████████████████████████████████████                             | 6268/9973 [02:02<01:42, 35.98it/s]\n",
      "\n",
      " 63%|█████████████████████████████████████████████████                             | 6272/9973 [02:03<01:42, 36.25it/s]\n",
      "\n",
      " 63%|█████████████████████████████████████████████████                             | 6276/9973 [02:03<01:41, 36.35it/s]\n",
      "\n",
      " 63%|█████████████████████████████████████████████████                             | 6280/9973 [02:03<01:44, 35.18it/s]\n",
      "\n",
      " 63%|█████████████████████████████████████████████████▏                            | 6286/9973 [02:03<01:36, 38.06it/s]\n",
      "\n",
      " 63%|█████████████████████████████████████████████████▏                            | 6293/9973 [02:03<01:23, 43.90it/s]\n",
      "\n",
      " 63%|█████████████████████████████████████████████████▎                            | 6298/9973 [02:03<01:27, 41.94it/s]"
     ]
    },
    {
     "name": "stdout",
     "output_type": "stream",
     "text": [
      "loss for 6300 is nan\n"
     ]
    },
    {
     "name": "stderr",
     "output_type": "stream",
     "text": [
      "\n",
      "\n",
      " 63%|█████████████████████████████████████████████████▎                            | 6303/9973 [02:03<01:37, 37.82it/s]\n",
      "\n",
      " 63%|█████████████████████████████████████████████████▎                            | 6308/9973 [02:03<01:34, 38.79it/s]\n",
      "\n",
      " 63%|█████████████████████████████████████████████████▎                            | 6313/9973 [02:04<01:33, 39.26it/s]\n",
      "\n",
      " 63%|█████████████████████████████████████████████████▍                            | 6318/9973 [02:04<01:29, 41.00it/s]\n",
      "\n",
      " 63%|█████████████████████████████████████████████████▍                            | 6323/9973 [02:04<01:26, 42.31it/s]\n",
      "\n",
      " 63%|█████████████████████████████████████████████████▍                            | 6328/9973 [02:04<01:24, 42.98it/s]\n",
      "\n",
      " 64%|█████████████████████████████████████████████████▌                            | 6333/9973 [02:04<01:21, 44.80it/s]\n",
      "\n",
      " 64%|█████████████████████████████████████████████████▌                            | 6340/9973 [02:04<01:14, 48.67it/s]\n",
      "\n",
      " 64%|█████████████████████████████████████████████████▋                            | 6346/9973 [02:04<01:25, 42.65it/s]\n",
      "\n",
      " 64%|█████████████████████████████████████████████████▋                            | 6351/9973 [02:04<01:24, 42.77it/s]\n",
      "\n",
      " 64%|█████████████████████████████████████████████████▋                            | 6356/9973 [02:05<01:25, 42.11it/s]\n",
      "\n",
      " 64%|█████████████████████████████████████████████████▊                            | 6361/9973 [02:05<01:30, 39.84it/s]\n",
      "\n",
      " 64%|█████████████████████████████████████████████████▊                            | 6366/9973 [02:05<01:30, 39.76it/s]\n",
      "\n",
      " 64%|█████████████████████████████████████████████████▊                            | 6371/9973 [02:05<01:31, 39.49it/s]\n",
      "\n",
      " 64%|█████████████████████████████████████████████████▉                            | 6377/9973 [02:05<01:25, 42.26it/s]\n",
      "\n",
      " 64%|█████████████████████████████████████████████████▉                            | 6382/9973 [02:05<01:29, 40.25it/s]\n",
      "\n",
      " 64%|█████████████████████████████████████████████████▉                            | 6387/9973 [02:05<01:31, 39.24it/s]\n",
      "\n",
      " 64%|█████████████████████████████████████████████████▉                            | 6391/9973 [02:05<01:33, 38.26it/s]\n",
      "\n",
      " 64%|██████████████████████████████████████████████████                            | 6396/9973 [02:06<01:33, 38.07it/s]"
     ]
    },
    {
     "name": "stdout",
     "output_type": "stream",
     "text": [
      "loss for 6400 is nan\n"
     ]
    },
    {
     "name": "stderr",
     "output_type": "stream",
     "text": [
      "\n",
      "\n",
      " 64%|██████████████████████████████████████████████████                            | 6401/9973 [02:06<01:29, 40.08it/s]\n",
      "\n",
      " 64%|██████████████████████████████████████████████████                            | 6406/9973 [02:06<01:25, 41.62it/s]\n",
      "\n",
      " 64%|██████████████████████████████████████████████████▏                           | 6411/9973 [02:06<01:27, 40.64it/s]\n",
      "\n",
      " 64%|██████████████████████████████████████████████████▏                           | 6418/9973 [02:06<01:18, 45.19it/s]\n",
      "\n",
      " 64%|██████████████████████████████████████████████████▏                           | 6423/9973 [02:06<01:18, 44.95it/s]\n",
      "\n",
      " 64%|██████████████████████████████████████████████████▎                           | 6428/9973 [02:06<01:19, 44.56it/s]\n",
      "\n",
      " 65%|██████████████████████████████████████████████████▎                           | 6433/9973 [02:06<01:22, 42.87it/s]\n",
      "\n",
      " 65%|██████████████████████████████████████████████████▎                           | 6438/9973 [02:06<01:20, 43.94it/s]\n",
      "\n",
      " 65%|██████████████████████████████████████████████████▍                           | 6443/9973 [02:07<01:22, 43.02it/s]\n",
      "\n",
      " 65%|██████████████████████████████████████████████████▍                           | 6448/9973 [02:07<01:23, 42.07it/s]\n",
      "\n",
      " 65%|██████████████████████████████████████████████████▍                           | 6453/9973 [02:07<01:24, 41.43it/s]\n",
      "\n",
      " 65%|██████████████████████████████████████████████████▌                           | 6464/9973 [02:07<01:10, 49.89it/s]\n",
      "\n",
      " 65%|██████████████████████████████████████████████████▌                           | 6470/9973 [02:07<01:15, 46.21it/s]\n",
      "\n",
      " 65%|██████████████████████████████████████████████████▋                           | 6476/9973 [02:07<01:15, 46.61it/s]\n",
      "\n",
      " 65%|██████████████████████████████████████████████████▋                           | 6482/9973 [02:07<01:14, 46.66it/s]\n",
      "\n",
      " 65%|██████████████████████████████████████████████████▋                           | 6488/9973 [02:07<01:10, 49.19it/s]\n",
      "\n",
      " 65%|██████████████████████████████████████████████████▊                           | 6498/9973 [02:08<01:00, 57.21it/s]"
     ]
    },
    {
     "name": "stdout",
     "output_type": "stream",
     "text": [
      "loss for 6500 is nan\n"
     ]
    },
    {
     "name": "stderr",
     "output_type": "stream",
     "text": [
      "\n",
      "\n",
      " 65%|██████████████████████████████████████████████████▉                           | 6505/9973 [02:08<01:01, 56.85it/s]\n",
      "\n",
      " 65%|██████████████████████████████████████████████████▉                           | 6512/9973 [02:08<01:05, 52.61it/s]\n",
      "\n",
      " 65%|██████████████████████████████████████████████████▉                           | 6518/9973 [02:08<01:13, 47.32it/s]\n",
      "\n",
      " 65%|███████████████████████████████████████████████████                           | 6524/9973 [02:08<01:12, 47.75it/s]\n",
      "\n",
      " 65%|███████████████████████████████████████████████████                           | 6530/9973 [02:08<01:15, 45.52it/s]\n",
      "\n",
      " 66%|███████████████████████████████████████████████████                           | 6535/9973 [02:08<01:19, 43.09it/s]\n",
      "\n",
      " 66%|███████████████████████████████████████████████████▏                          | 6540/9973 [02:09<01:19, 42.96it/s]\n",
      "\n",
      " 66%|███████████████████████████████████████████████████▏                          | 6545/9973 [02:09<01:20, 42.41it/s]\n",
      "\n",
      " 66%|███████████████████████████████████████████████████▏                          | 6550/9973 [02:09<01:22, 41.66it/s]\n",
      "\n",
      " 66%|███████████████████████████████████████████████████▎                          | 6555/9973 [02:09<01:23, 41.15it/s]\n",
      "\n",
      " 66%|███████████████████████████████████████████████████▎                          | 6560/9973 [02:09<01:24, 40.36it/s]\n",
      "\n",
      " 66%|███████████████████████████████████████████████████▎                          | 6565/9973 [02:09<01:20, 42.08it/s]\n",
      "\n",
      " 66%|███████████████████████████████████████████████████▍                          | 6572/9973 [02:09<01:12, 46.69it/s]\n",
      "\n",
      " 66%|███████████████████████████████████████████████████▍                          | 6577/9973 [02:09<01:13, 46.18it/s]\n",
      "\n",
      " 66%|███████████████████████████████████████████████████▍                          | 6584/9973 [02:09<01:06, 51.01it/s]\n",
      "\n",
      " 66%|███████████████████████████████████████████████████▌                          | 6592/9973 [02:10<01:02, 54.21it/s]\n",
      "\n",
      " 66%|███████████████████████████████████████████████████▌                          | 6598/9973 [02:10<01:04, 52.19it/s]"
     ]
    },
    {
     "name": "stdout",
     "output_type": "stream",
     "text": [
      "loss for 6600 is nan\n"
     ]
    },
    {
     "name": "stderr",
     "output_type": "stream",
     "text": [
      "\n",
      "\n",
      " 66%|███████████████████████████████████████████████████▋                          | 6604/9973 [02:10<01:03, 52.96it/s]\n",
      "\n",
      " 66%|███████████████████████████████████████████████████▋                          | 6610/9973 [02:10<01:09, 48.08it/s]\n",
      "\n",
      " 66%|███████████████████████████████████████████████████▋                          | 6615/9973 [02:10<01:15, 44.31it/s]\n",
      "\n",
      " 66%|███████████████████████████████████████████████████▊                          | 6622/9973 [02:10<01:10, 47.56it/s]\n",
      "\n",
      " 66%|███████████████████████████████████████████████████▊                          | 6627/9973 [02:10<01:12, 46.32it/s]\n",
      "\n",
      " 67%|███████████████████████████████████████████████████▉                          | 6634/9973 [02:10<01:05, 50.84it/s]\n",
      "\n",
      " 67%|███████████████████████████████████████████████████▉                          | 6640/9973 [02:11<01:14, 45.03it/s]\n",
      "\n",
      " 67%|███████████████████████████████████████████████████▉                          | 6645/9973 [02:11<01:16, 43.39it/s]\n",
      "\n",
      " 67%|████████████████████████████████████████████████████                          | 6650/9973 [02:11<01:15, 44.07it/s]\n",
      "\n",
      " 67%|████████████████████████████████████████████████████                          | 6656/9973 [02:11<01:13, 45.43it/s]\n",
      "\n",
      " 67%|████████████████████████████████████████████████████                          | 6662/9973 [02:11<01:08, 48.35it/s]\n",
      "\n",
      " 67%|████████████████████████████████████████████████████▏                         | 6669/9973 [02:11<01:02, 53.20it/s]\n",
      "\n",
      " 67%|████████████████████████████████████████████████████▏                         | 6676/9973 [02:11<00:59, 55.38it/s]\n",
      "\n",
      " 67%|████████████████████████████████████████████████████▎                         | 6682/9973 [02:11<01:04, 51.04it/s]\n",
      "\n",
      " 67%|████████████████████████████████████████████████████▎                         | 6690/9973 [02:12<00:59, 55.26it/s]\n",
      "\n",
      " 67%|████████████████████████████████████████████████████▍                         | 6700/9973 [02:12<00:54, 60.26it/s]"
     ]
    },
    {
     "name": "stdout",
     "output_type": "stream",
     "text": [
      "loss for 6700 is nan\n"
     ]
    },
    {
     "name": "stderr",
     "output_type": "stream",
     "text": [
      "\n",
      "\n",
      " 67%|████████████████████████████████████████████████████▍                         | 6707/9973 [02:12<01:01, 52.68it/s]\n",
      "\n",
      " 67%|████████████████████████████████████████████████████▌                         | 6715/9973 [02:12<00:56, 57.51it/s]\n",
      "\n",
      " 67%|████████████████████████████████████████████████████▌                         | 6723/9973 [02:12<00:52, 62.26it/s]\n",
      "\n",
      " 67%|████████████████████████████████████████████████████▋                         | 6730/9973 [02:12<01:02, 52.09it/s]\n",
      "\n",
      " 68%|████████████████████████████████████████████████████▋                         | 6737/9973 [02:12<00:57, 56.03it/s]\n",
      "\n",
      " 68%|████████████████████████████████████████████████████▋                         | 6744/9973 [02:13<01:03, 50.77it/s]\n",
      "\n",
      " 68%|████████████████████████████████████████████████████▊                         | 6750/9973 [02:13<01:10, 46.01it/s]\n",
      "\n",
      " 68%|████████████████████████████████████████████████████▊                         | 6758/9973 [02:13<01:03, 50.25it/s]\n",
      "\n",
      " 68%|████████████████████████████████████████████████████▉                         | 6765/9973 [02:13<00:58, 54.60it/s]\n",
      "\n",
      " 68%|████████████████████████████████████████████████████▉                         | 6774/9973 [02:13<00:52, 61.47it/s]\n",
      "\n",
      " 68%|█████████████████████████████████████████████████████                         | 6781/9973 [02:13<00:59, 53.70it/s]\n",
      "\n",
      " 68%|█████████████████████████████████████████████████████                         | 6788/9973 [02:13<00:57, 55.62it/s]\n",
      "\n",
      " 68%|█████████████████████████████████████████████████████▏                        | 6796/9973 [02:13<00:52, 60.38it/s]"
     ]
    },
    {
     "name": "stdout",
     "output_type": "stream",
     "text": [
      "loss for 6800 is nan\n"
     ]
    },
    {
     "name": "stderr",
     "output_type": "stream",
     "text": [
      "\n",
      "\n",
      " 68%|█████████████████████████████████████████████████████▏                        | 6806/9973 [02:14<00:46, 67.47it/s]\n",
      "\n",
      " 68%|█████████████████████████████████████████████████████▎                        | 6814/9973 [02:14<00:45, 69.11it/s]\n",
      "\n",
      " 68%|█████████████████████████████████████████████████████▎                        | 6822/9973 [02:14<00:54, 58.28it/s]\n",
      "\n",
      " 68%|█████████████████████████████████████████████████████▍                        | 6829/9973 [02:14<00:52, 59.89it/s]\n",
      "\n",
      " 69%|█████████████████████████████████████████████████████▍                        | 6836/9973 [02:14<00:59, 53.12it/s]\n",
      "\n",
      " 69%|█████████████████████████████████████████████████████▌                        | 6842/9973 [02:14<01:06, 46.78it/s]\n",
      "\n",
      " 69%|█████████████████████████████████████████████████████▌                        | 6849/9973 [02:14<01:03, 49.40it/s]\n",
      "\n",
      " 69%|█████████████████████████████████████████████████████▌                        | 6855/9973 [02:15<01:06, 47.08it/s]\n",
      "\n",
      " 69%|█████████████████████████████████████████████████████▋                        | 6860/9973 [02:15<01:10, 44.00it/s]\n",
      "\n",
      " 69%|█████████████████████████████████████████████████████▋                        | 6868/9973 [02:15<01:03, 48.56it/s]\n",
      "\n",
      " 69%|█████████████████████████████████████████████████████▊                        | 6874/9973 [02:15<01:04, 48.39it/s]\n",
      "\n",
      " 69%|█████████████████████████████████████████████████████▊                        | 6882/9973 [02:15<00:57, 53.86it/s]\n",
      "\n",
      " 69%|█████████████████████████████████████████████████████▊                        | 6888/9973 [02:15<01:04, 47.67it/s]\n",
      "\n",
      " 69%|█████████████████████████████████████████████████████▉                        | 6894/9973 [02:15<01:03, 48.48it/s]\n",
      "\n",
      " 69%|█████████████████████████████████████████████████████▉                        | 6900/9973 [02:15<01:09, 43.98it/s]"
     ]
    },
    {
     "name": "stdout",
     "output_type": "stream",
     "text": [
      "loss for 6900 is nan\n"
     ]
    },
    {
     "name": "stderr",
     "output_type": "stream",
     "text": [
      "\n",
      "\n",
      " 69%|██████████████████████████████████████████████████████                        | 6905/9973 [02:16<01:12, 42.59it/s]\n",
      "\n",
      " 69%|██████████████████████████████████████████████████████                        | 6910/9973 [02:16<01:10, 43.20it/s]\n",
      "\n",
      " 69%|██████████████████████████████████████████████████████                        | 6918/9973 [02:16<01:02, 49.25it/s]\n",
      "\n",
      " 69%|██████████████████████████████████████████████████████▏                       | 6927/9973 [02:16<00:54, 56.00it/s]\n",
      "\n",
      " 70%|██████████████████████████████████████████████████████▏                       | 6934/9973 [02:16<00:57, 52.93it/s]\n",
      "\n",
      " 70%|██████████████████████████████████████████████████████▎                       | 6940/9973 [02:16<01:01, 48.93it/s]\n",
      "\n",
      " 70%|██████████████████████████████████████████████████████▎                       | 6949/9973 [02:16<00:54, 55.19it/s]\n",
      "\n",
      " 70%|██████████████████████████████████████████████████████▍                       | 6957/9973 [02:16<00:50, 60.02it/s]\n",
      "\n",
      " 70%|██████████████████████████████████████████████████████▍                       | 6964/9973 [02:17<00:49, 60.34it/s]\n",
      "\n",
      " 70%|██████████████████████████████████████████████████████▌                       | 6971/9973 [02:17<00:49, 61.05it/s]\n",
      "\n",
      " 70%|██████████████████████████████████████████████████████▌                       | 6978/9973 [02:17<00:53, 55.76it/s]\n",
      "\n",
      " 70%|██████████████████████████████████████████████████████▌                       | 6984/9973 [02:17<00:53, 55.49it/s]\n",
      "\n",
      " 70%|██████████████████████████████████████████████████████▋                       | 6993/9973 [02:17<00:48, 61.50it/s]\n",
      "\n",
      " 70%|██████████████████████████████████████████████████████▋                       | 7000/9973 [02:17<00:55, 53.72it/s]"
     ]
    },
    {
     "name": "stdout",
     "output_type": "stream",
     "text": [
      "loss for 7000 is nan\n"
     ]
    },
    {
     "name": "stderr",
     "output_type": "stream",
     "text": [
      "\n",
      "\n",
      " 70%|██████████████████████████████████████████████████████▊                       | 7006/9973 [02:17<01:03, 46.96it/s]\n",
      "\n",
      " 70%|██████████████████████████████████████████████████████▊                       | 7012/9973 [02:17<01:03, 46.32it/s]\n",
      "\n",
      " 70%|██████████████████████████████████████████████████████▉                       | 7017/9973 [02:18<01:03, 46.48it/s]\n",
      "\n",
      " 70%|██████████████████████████████████████████████████████▉                       | 7025/9973 [02:18<00:58, 50.27it/s]\n",
      "\n",
      " 71%|███████████████████████████████████████████████████████                       | 7036/9973 [02:18<00:49, 59.04it/s]\n",
      "\n",
      " 71%|███████████████████████████████████████████████████████                       | 7043/9973 [02:18<00:52, 55.93it/s]\n",
      "\n",
      " 71%|███████████████████████████████████████████████████████▏                      | 7050/9973 [02:18<01:00, 48.69it/s]\n",
      "\n",
      " 71%|███████████████████████████████████████████████████████▏                      | 7056/9973 [02:18<01:04, 45.06it/s]\n",
      "\n",
      " 71%|███████████████████████████████████████████████████████▏                      | 7061/9973 [02:18<01:07, 43.26it/s]\n",
      "\n",
      " 71%|███████████████████████████████████████████████████████▎                      | 7066/9973 [02:19<01:07, 43.28it/s]\n",
      "\n",
      " 71%|███████████████████████████████████████████████████████▎                      | 7071/9973 [02:19<01:07, 42.76it/s]\n",
      "\n",
      " 71%|███████████████████████████████████████████████████████▎                      | 7076/9973 [02:19<01:11, 40.31it/s]\n",
      "\n",
      " 71%|███████████████████████████████████████████████████████▍                      | 7081/9973 [02:19<01:11, 40.22it/s]\n",
      "\n",
      " 71%|███████████████████████████████████████████████████████▍                      | 7089/9973 [02:19<01:03, 45.43it/s]\n",
      "\n",
      " 71%|███████████████████████████████████████████████████████▌                      | 7097/9973 [02:19<00:57, 49.91it/s]"
     ]
    },
    {
     "name": "stdout",
     "output_type": "stream",
     "text": [
      "loss for 7100 is nan\n"
     ]
    },
    {
     "name": "stderr",
     "output_type": "stream",
     "text": [
      "\n",
      "\n",
      " 71%|███████████████████████████████████████████████████████▌                      | 7104/9973 [02:19<00:53, 53.30it/s]\n",
      "\n",
      " 71%|███████████████████████████████████████████████████████▌                      | 7110/9973 [02:19<00:59, 48.06it/s]\n",
      "\n",
      " 71%|███████████████████████████████████████████████████████▋                      | 7117/9973 [02:20<00:56, 50.57it/s]\n",
      "\n",
      " 71%|███████████████████████████████████████████████████████▋                      | 7126/9973 [02:20<00:49, 57.42it/s]\n",
      "\n",
      " 72%|███████████████████████████████████████████████████████▊                      | 7133/9973 [02:20<00:54, 51.78it/s]\n",
      "\n",
      " 72%|███████████████████████████████████████████████████████▊                      | 7140/9973 [02:20<00:53, 52.98it/s]\n",
      "\n",
      " 72%|███████████████████████████████████████████████████████▉                      | 7146/9973 [02:20<00:58, 48.63it/s]\n",
      "\n",
      " 72%|███████████████████████████████████████████████████████▉                      | 7156/9973 [02:20<00:49, 57.02it/s]\n",
      "\n",
      " 72%|████████████████████████████████████████████████████████                      | 7163/9973 [02:20<00:54, 51.63it/s]\n",
      "\n",
      " 72%|████████████████████████████████████████████████████████                      | 7169/9973 [02:21<01:01, 45.42it/s]\n",
      "\n",
      " 72%|████████████████████████████████████████████████████████                      | 7175/9973 [02:21<01:05, 42.44it/s]\n",
      "\n",
      " 72%|████████████████████████████████████████████████████████▏                     | 7180/9973 [02:21<01:09, 40.11it/s]\n",
      "\n",
      " 72%|████████████████████████████████████████████████████████▏                     | 7185/9973 [02:21<01:12, 38.63it/s]\n",
      "\n",
      " 72%|████████████████████████████████████████████████████████▏                     | 7190/9973 [02:21<01:13, 37.79it/s]\n",
      "\n",
      " 72%|████████████████████████████████████████████████████████▎                     | 7194/9973 [02:21<01:16, 36.38it/s]\n",
      "\n",
      " 72%|████████████████████████████████████████████████████████▎                     | 7199/9973 [02:21<01:12, 38.27it/s]"
     ]
    },
    {
     "name": "stdout",
     "output_type": "stream",
     "text": [
      "loss for 7200 is nan\n"
     ]
    },
    {
     "name": "stderr",
     "output_type": "stream",
     "text": [
      "\n",
      "\n",
      " 72%|████████████████████████████████████████████████████████▎                     | 7203/9973 [02:21<01:12, 38.06it/s]\n",
      "\n",
      " 72%|████████████████████████████████████████████████████████▎                     | 7207/9973 [02:22<01:12, 37.96it/s]\n",
      "\n",
      " 72%|████████████████████████████████████████████████████████▍                     | 7211/9973 [02:22<01:13, 37.78it/s]\n",
      "\n",
      " 72%|████████████████████████████████████████████████████████▍                     | 7216/9973 [02:22<01:08, 40.06it/s]\n",
      "\n",
      " 72%|████████████████████████████████████████████████████████▍                     | 7221/9973 [02:22<01:11, 38.60it/s]\n",
      "\n",
      " 72%|████████████████████████████████████████████████████████▌                     | 7225/9973 [02:22<01:13, 37.20it/s]\n",
      "\n",
      " 72%|████████████████████████████████████████████████████████▌                     | 7229/9973 [02:22<01:14, 36.65it/s]\n",
      "\n",
      " 73%|████████████████████████████████████████████████████████▌                     | 7233/9973 [02:22<01:15, 36.17it/s]\n",
      "\n",
      " 73%|████████████████████████████████████████████████████████▌                     | 7238/9973 [02:22<01:09, 39.17it/s]\n",
      "\n",
      " 73%|████████████████████████████████████████████████████████▋                     | 7243/9973 [02:23<01:09, 39.36it/s]\n",
      "\n",
      " 73%|████████████████████████████████████████████████████████▋                     | 7248/9973 [02:23<01:11, 38.19it/s]\n",
      "\n",
      " 73%|████████████████████████████████████████████████████████▋                     | 7255/9973 [02:23<01:03, 42.71it/s]\n",
      "\n",
      " 73%|████████████████████████████████████████████████████████▊                     | 7260/9973 [02:23<01:02, 43.57it/s]\n",
      "\n",
      " 73%|████████████████████████████████████████████████████████▊                     | 7266/9973 [02:23<00:58, 46.44it/s]\n",
      "\n",
      " 73%|████████████████████████████████████████████████████████▉                     | 7272/9973 [02:23<00:57, 46.73it/s]\n",
      "\n",
      " 73%|████████████████████████████████████████████████████████▉                     | 7277/9973 [02:23<01:03, 42.78it/s]\n",
      "\n",
      " 73%|████████████████████████████████████████████████████████▉                     | 7282/9973 [02:23<01:02, 43.02it/s]\n",
      "\n",
      " 73%|████████████████████████████████████████████████████████▉                     | 7287/9973 [02:24<01:04, 41.97it/s]\n",
      "\n",
      " 73%|█████████████████████████████████████████████████████████                     | 7292/9973 [02:24<01:09, 38.64it/s]\n",
      "\n",
      " 73%|█████████████████████████████████████████████████████████                     | 7296/9973 [02:24<01:09, 38.54it/s]"
     ]
    },
    {
     "name": "stdout",
     "output_type": "stream",
     "text": [
      "loss for 7300 is nan\n"
     ]
    },
    {
     "name": "stderr",
     "output_type": "stream",
     "text": [
      "\n",
      "\n",
      " 73%|█████████████████████████████████████████████████████████                     | 7301/9973 [02:24<01:06, 40.30it/s]\n",
      "\n",
      " 73%|█████████████████████████████████████████████████████████▏                    | 7306/9973 [02:24<01:06, 40.21it/s]\n",
      "\n",
      " 73%|█████████████████████████████████████████████████████████▏                    | 7312/9973 [02:24<01:03, 42.07it/s]\n",
      "\n",
      " 73%|█████████████████████████████████████████████████████████▎                    | 7321/9973 [02:24<00:54, 48.85it/s]\n",
      "\n",
      " 73%|█████████████████████████████████████████████████████████▎                    | 7327/9973 [02:24<00:58, 45.56it/s]\n",
      "\n",
      " 74%|█████████████████████████████████████████████████████████▎                    | 7332/9973 [02:25<01:03, 41.90it/s]\n",
      "\n",
      " 74%|█████████████████████████████████████████████████████████▍                    | 7337/9973 [02:25<01:04, 40.79it/s]\n",
      "\n",
      " 74%|█████████████████████████████████████████████████████████▍                    | 7342/9973 [02:25<01:02, 42.36it/s]\n",
      "\n",
      " 74%|█████████████████████████████████████████████████████████▍                    | 7347/9973 [02:25<01:02, 42.13it/s]\n",
      "\n",
      " 74%|█████████████████████████████████████████████████████████▌                    | 7352/9973 [02:25<01:00, 43.15it/s]\n",
      "\n",
      " 74%|█████████████████████████████████████████████████████████▌                    | 7362/9973 [02:25<00:50, 51.34it/s]\n",
      "\n",
      " 74%|█████████████████████████████████████████████████████████▋                    | 7368/9973 [02:25<00:52, 49.31it/s]\n",
      "\n",
      " 74%|█████████████████████████████████████████████████████████▋                    | 7374/9973 [02:25<00:54, 47.61it/s]\n",
      "\n",
      " 74%|█████████████████████████████████████████████████████████▋                    | 7380/9973 [02:25<00:51, 49.97it/s]\n",
      "\n",
      " 74%|█████████████████████████████████████████████████████████▊                    | 7386/9973 [02:26<00:56, 45.77it/s]\n",
      "\n",
      " 74%|█████████████████████████████████████████████████████████▊                    | 7391/9973 [02:26<01:00, 42.86it/s]\n",
      "\n",
      " 74%|█████████████████████████████████████████████████████████▊                    | 7396/9973 [02:26<01:00, 42.83it/s]"
     ]
    },
    {
     "name": "stdout",
     "output_type": "stream",
     "text": [
      "loss for 7400 is nan\n"
     ]
    },
    {
     "name": "stderr",
     "output_type": "stream",
     "text": [
      "\n",
      "\n",
      " 74%|█████████████████████████████████████████████████████████▉                    | 7401/9973 [02:26<01:01, 41.94it/s]\n",
      "\n",
      " 74%|█████████████████████████████████████████████████████████▉                    | 7406/9973 [02:26<01:01, 41.68it/s]\n",
      "\n",
      " 74%|█████████████████████████████████████████████████████████▉                    | 7411/9973 [02:26<01:04, 39.59it/s]\n",
      "\n",
      " 74%|██████████████████████████████████████████████████████████                    | 7417/9973 [02:26<01:01, 41.45it/s]\n",
      "\n",
      " 74%|██████████████████████████████████████████████████████████                    | 7422/9973 [02:27<00:59, 42.58it/s]\n",
      "\n",
      " 74%|██████████████████████████████████████████████████████████                    | 7427/9973 [02:27<01:00, 42.13it/s]\n",
      "\n",
      " 75%|██████████████████████████████████████████████████████████▏                   | 7434/9973 [02:27<00:53, 47.80it/s]\n",
      "\n",
      " 75%|██████████████████████████████████████████████████████████▏                   | 7441/9973 [02:27<00:50, 49.87it/s]\n",
      "\n",
      " 75%|██████████████████████████████████████████████████████████▎                   | 7452/9973 [02:27<00:42, 59.31it/s]\n",
      "\n",
      " 75%|██████████████████████████████████████████████████████████▎                   | 7459/9973 [02:27<00:44, 56.33it/s]\n",
      "\n",
      " 75%|██████████████████████████████████████████████████████████▍                   | 7466/9973 [02:27<00:43, 57.38it/s]\n",
      "\n",
      " 75%|██████████████████████████████████████████████████████████▍                   | 7473/9973 [02:27<00:42, 58.91it/s]\n",
      "\n",
      " 75%|██████████████████████████████████████████████████████████▌                   | 7480/9973 [02:28<00:47, 52.71it/s]\n",
      "\n",
      " 75%|██████████████████████████████████████████████████████████▌                   | 7491/9973 [02:28<00:40, 61.83it/s]\n",
      "\n",
      " 75%|██████████████████████████████████████████████████████████▋                   | 7499/9973 [02:28<00:43, 57.25it/s]"
     ]
    },
    {
     "name": "stdout",
     "output_type": "stream",
     "text": [
      "loss for 7500 is nan\n"
     ]
    },
    {
     "name": "stderr",
     "output_type": "stream",
     "text": [
      "\n",
      "\n",
      " 75%|██████████████████████████████████████████████████████████▋                   | 7506/9973 [02:28<00:47, 51.57it/s]\n",
      "\n",
      " 75%|██████████████████████████████████████████████████████████▊                   | 7512/9973 [02:28<00:51, 47.87it/s]\n",
      "\n",
      " 75%|██████████████████████████████████████████████████████████▊                   | 7518/9973 [02:28<00:54, 44.85it/s]\n",
      "\n",
      " 75%|██████████████████████████████████████████████████████████▉                   | 7528/9973 [02:28<00:46, 52.72it/s]\n",
      "\n",
      " 76%|██████████████████████████████████████████████████████████▉                   | 7535/9973 [02:29<00:47, 50.82it/s]\n",
      "\n",
      " 76%|██████████████████████████████████████████████████████████▉                   | 7541/9973 [02:29<00:50, 47.91it/s]\n",
      "\n",
      " 76%|███████████████████████████████████████████████████████████                   | 7547/9973 [02:29<00:51, 47.45it/s]\n",
      "\n",
      " 76%|███████████████████████████████████████████████████████████                   | 7553/9973 [02:29<00:54, 44.17it/s]\n",
      "\n",
      " 76%|███████████████████████████████████████████████████████████                   | 7558/9973 [02:29<00:53, 44.90it/s]\n",
      "\n",
      " 76%|███████████████████████████████████████████████████████████▏                  | 7565/9973 [02:29<00:48, 49.91it/s]\n",
      "\n",
      " 76%|███████████████████████████████████████████████████████████▏                  | 7572/9973 [02:29<00:45, 52.76it/s]\n",
      "\n",
      " 76%|███████████████████████████████████████████████████████████▎                  | 7578/9973 [02:29<00:46, 51.49it/s]\n",
      "\n",
      " 76%|███████████████████████████████████████████████████████████▎                  | 7584/9973 [02:30<00:47, 49.92it/s]\n",
      "\n",
      " 76%|███████████████████████████████████████████████████████████▎                  | 7590/9973 [02:30<00:49, 48.29it/s]\n",
      "\n",
      " 76%|███████████████████████████████████████████████████████████▍                  | 7595/9973 [02:30<00:51, 46.20it/s]"
     ]
    },
    {
     "name": "stdout",
     "output_type": "stream",
     "text": [
      "loss for 7600 is nan\n"
     ]
    },
    {
     "name": "stderr",
     "output_type": "stream",
     "text": [
      "\n",
      "\n",
      " 76%|███████████████████████████████████████████████████████████▍                  | 7602/9973 [02:30<00:47, 50.41it/s]\n",
      "\n",
      " 76%|███████████████████████████████████████████████████████████▌                  | 7610/9973 [02:30<00:42, 56.16it/s]\n",
      "\n",
      " 76%|███████████████████████████████████████████████████████████▌                  | 7616/9973 [02:30<00:43, 54.33it/s]\n",
      "\n",
      " 76%|███████████████████████████████████████████████████████████▌                  | 7622/9973 [02:30<00:48, 48.46it/s]\n",
      "\n",
      " 76%|███████████████████████████████████████████████████████████▋                  | 7628/9973 [02:30<00:47, 49.53it/s]\n",
      "\n",
      " 77%|███████████████████████████████████████████████████████████▋                  | 7634/9973 [02:30<00:44, 52.01it/s]\n",
      "\n",
      " 77%|███████████████████████████████████████████████████████████▊                  | 7642/9973 [02:31<00:41, 56.78it/s]\n",
      "\n",
      " 77%|███████████████████████████████████████████████████████████▊                  | 7648/9973 [02:31<00:43, 53.83it/s]\n",
      "\n",
      " 77%|███████████████████████████████████████████████████████████▊                  | 7654/9973 [02:31<00:47, 48.85it/s]\n",
      "\n",
      " 77%|███████████████████████████████████████████████████████████▉                  | 7660/9973 [02:31<00:45, 50.33it/s]\n",
      "\n",
      " 77%|███████████████████████████████████████████████████████████▉                  | 7666/9973 [02:31<00:47, 48.63it/s]\n",
      "\n",
      " 77%|███████████████████████████████████████████████████████████▉                  | 7671/9973 [02:31<00:48, 47.38it/s]\n",
      "\n",
      " 77%|████████████████████████████████████████████████████████████                  | 7678/9973 [02:31<00:44, 51.05it/s]\n",
      "\n",
      " 77%|████████████████████████████████████████████████████████████                  | 7684/9973 [02:31<00:45, 49.97it/s]\n",
      "\n",
      " 77%|████████████████████████████████████████████████████████████▏                 | 7692/9973 [02:32<00:40, 55.87it/s]\n",
      "\n",
      " 77%|████████████████████████████████████████████████████████████▏                 | 7698/9973 [02:32<00:40, 55.56it/s]"
     ]
    },
    {
     "name": "stdout",
     "output_type": "stream",
     "text": [
      "loss for 7700 is nan\n"
     ]
    },
    {
     "name": "stderr",
     "output_type": "stream",
     "text": [
      "\n",
      "\n",
      " 77%|████████████████████████████████████████████████████████████▎                 | 7704/9973 [02:32<00:41, 54.49it/s]\n",
      "\n",
      " 77%|████████████████████████████████████████████████████████████▎                 | 7712/9973 [02:32<00:38, 58.33it/s]\n",
      "\n",
      " 77%|████████████████████████████████████████████████████████████▎                 | 7719/9973 [02:32<00:38, 57.90it/s]\n",
      "\n",
      " 77%|████████████████████████████████████████████████████████████▍                 | 7726/9973 [02:32<00:38, 58.58it/s]\n",
      "\n",
      " 78%|████████████████████████████████████████████████████████████▍                 | 7732/9973 [02:32<00:44, 50.92it/s]\n",
      "\n",
      " 78%|████████████████████████████████████████████████████████████▌                 | 7738/9973 [02:32<00:43, 51.41it/s]\n",
      "\n",
      " 78%|████████████████████████████████████████████████████████████▌                 | 7744/9973 [02:33<00:46, 48.13it/s]\n",
      "\n",
      " 78%|████████████████████████████████████████████████████████████▌                 | 7749/9973 [02:33<00:48, 46.31it/s]\n",
      "\n",
      " 78%|████████████████████████████████████████████████████████████▋                 | 7754/9973 [02:33<00:49, 44.75it/s]\n",
      "\n",
      " 78%|████████████████████████████████████████████████████████████▋                 | 7759/9973 [02:33<00:49, 45.04it/s]\n",
      "\n",
      " 78%|████████████████████████████████████████████████████████████▋                 | 7767/9973 [02:33<00:44, 49.32it/s]\n",
      "\n",
      " 78%|████████████████████████████████████████████████████████████▊                 | 7776/9973 [02:33<00:39, 55.96it/s]\n",
      "\n",
      " 78%|████████████████████████████████████████████████████████████▊                 | 7783/9973 [02:33<00:38, 57.38it/s]\n",
      "\n",
      " 78%|████████████████████████████████████████████████████████████▉                 | 7790/9973 [02:33<00:38, 56.70it/s]\n",
      "\n",
      " 78%|████████████████████████████████████████████████████████████▉                 | 7796/9973 [02:33<00:38, 56.64it/s]"
     ]
    },
    {
     "name": "stdout",
     "output_type": "stream",
     "text": [
      "loss for 7800 is nan\n"
     ]
    },
    {
     "name": "stderr",
     "output_type": "stream",
     "text": [
      "\n",
      "\n",
      " 78%|█████████████████████████████████████████████████████████████                 | 7803/9973 [02:34<00:36, 58.95it/s]\n",
      "\n",
      " 78%|█████████████████████████████████████████████████████████████                 | 7810/9973 [02:34<00:40, 53.85it/s]\n",
      "\n",
      " 78%|█████████████████████████████████████████████████████████████▏                | 7819/9973 [02:34<00:35, 60.71it/s]\n",
      "\n",
      " 78%|█████████████████████████████████████████████████████████████▏                | 7828/9973 [02:34<00:32, 65.90it/s]\n",
      "\n",
      " 79%|█████████████████████████████████████████████████████████████▎                | 7836/9973 [02:34<00:38, 55.80it/s]\n",
      "\n",
      " 79%|█████████████████████████████████████████████████████████████▎                | 7845/9973 [02:34<00:36, 58.67it/s]\n",
      "\n",
      " 79%|█████████████████████████████████████████████████████████████▍                | 7855/9973 [02:34<00:31, 66.64it/s]\n",
      "\n",
      " 79%|█████████████████████████████████████████████████████████████▍                | 7863/9973 [02:34<00:30, 69.05it/s]\n",
      "\n",
      " 79%|█████████████████████████████████████████████████████████████▌                | 7871/9973 [02:35<00:31, 67.66it/s]\n",
      "\n",
      " 79%|█████████████████████████████████████████████████████████████▌                | 7879/9973 [02:35<00:37, 56.27it/s]\n",
      "\n",
      " 79%|█████████████████████████████████████████████████████████████▋                | 7886/9973 [02:35<00:40, 51.13it/s]\n",
      "\n",
      " 79%|█████████████████████████████████████████████████████████████▋                | 7892/9973 [02:35<00:44, 47.04it/s]\n",
      "\n",
      " 79%|█████████████████████████████████████████████████████████████▊                | 7899/9973 [02:35<00:42, 49.04it/s]"
     ]
    },
    {
     "name": "stdout",
     "output_type": "stream",
     "text": [
      "loss for 7900 is nan\n"
     ]
    },
    {
     "name": "stderr",
     "output_type": "stream",
     "text": [
      "\n",
      "\n",
      " 79%|█████████████████████████████████████████████████████████████▊                | 7906/9973 [02:35<00:39, 52.71it/s]\n",
      "\n",
      " 79%|█████████████████████████████████████████████████████████████▉                | 7912/9973 [02:36<00:50, 41.21it/s]\n",
      "\n",
      " 79%|█████████████████████████████████████████████████████████████▉                | 7920/9973 [02:36<00:42, 48.05it/s]\n",
      "\n",
      " 79%|██████████████████████████████████████████████████████████████                | 7928/9973 [02:36<00:38, 52.46it/s]\n",
      "\n",
      " 80%|██████████████████████████████████████████████████████████████                | 7934/9973 [02:36<00:41, 48.89it/s]\n",
      "\n",
      " 80%|██████████████████████████████████████████████████████████████                | 7940/9973 [02:36<00:42, 47.36it/s]\n",
      "\n",
      " 80%|██████████████████████████████████████████████████████████████▏               | 7948/9973 [02:36<00:39, 51.46it/s]\n",
      "\n",
      " 80%|██████████████████████████████████████████████████████████████▏               | 7955/9973 [02:36<00:38, 52.86it/s]\n",
      "\n",
      " 80%|██████████████████████████████████████████████████████████████▎               | 7961/9973 [02:36<00:42, 47.08it/s]\n",
      "\n",
      " 80%|██████████████████████████████████████████████████████████████▎               | 7967/9973 [02:37<00:43, 46.58it/s]\n",
      "\n",
      " 80%|██████████████████████████████████████████████████████████████▎               | 7972/9973 [02:37<00:45, 43.93it/s]\n",
      "\n",
      " 80%|██████████████████████████████████████████████████████████████▍               | 7977/9973 [02:37<00:46, 43.32it/s]\n",
      "\n",
      " 80%|██████████████████████████████████████████████████████████████▍               | 7984/9973 [02:37<00:40, 48.58it/s]\n",
      "\n",
      " 80%|██████████████████████████████████████████████████████████████▍               | 7990/9973 [02:37<00:38, 51.16it/s]\n",
      "\n",
      " 80%|██████████████████████████████████████████████████████████████▌               | 7999/9973 [02:37<00:34, 57.11it/s]"
     ]
    },
    {
     "name": "stdout",
     "output_type": "stream",
     "text": [
      "loss for 8000 is nan\n"
     ]
    },
    {
     "name": "stderr",
     "output_type": "stream",
     "text": [
      "\n",
      "\n",
      " 80%|██████████████████████████████████████████████████████████████▌               | 8006/9973 [02:37<00:38, 51.23it/s]\n",
      "\n",
      " 80%|██████████████████████████████████████████████████████████████▋               | 8014/9973 [02:37<00:34, 56.19it/s]\n",
      "\n",
      " 80%|██████████████████████████████████████████████████████████████▋               | 8021/9973 [02:38<00:35, 54.53it/s]\n",
      "\n",
      " 80%|██████████████████████████████████████████████████████████████▊               | 8027/9973 [02:38<01:00, 32.12it/s]\n",
      "\n",
      " 81%|██████████████████████████████████████████████████████████████▊               | 8032/9973 [02:38<01:13, 26.37it/s]\n",
      "\n",
      " 81%|██████████████████████████████████████████████████████████████▊               | 8036/9973 [02:38<01:16, 25.35it/s]\n",
      "\n",
      " 81%|██████████████████████████████████████████████████████████████▉               | 8040/9973 [02:39<01:19, 24.32it/s]\n",
      "\n",
      " 81%|██████████████████████████████████████████████████████████████▉               | 8043/9973 [02:39<01:21, 23.82it/s]\n",
      "\n",
      " 81%|██████████████████████████████████████████████████████████████▉               | 8046/9973 [02:39<01:16, 25.13it/s]\n",
      "\n",
      " 81%|██████████████████████████████████████████████████████████████▉               | 8050/9973 [02:39<01:10, 27.36it/s]\n",
      "\n",
      " 81%|██████████████████████████████████████████████████████████████▉               | 8053/9973 [02:39<01:08, 28.10it/s]\n",
      "\n",
      " 81%|███████████████████████████████████████████████████████████████               | 8056/9973 [02:39<01:07, 28.32it/s]\n",
      "\n",
      " 81%|███████████████████████████████████████████████████████████████               | 8060/9973 [02:39<01:03, 30.13it/s]\n",
      "\n",
      " 81%|███████████████████████████████████████████████████████████████               | 8065/9973 [02:39<00:57, 33.21it/s]\n",
      "\n",
      " 81%|███████████████████████████████████████████████████████████████               | 8071/9973 [02:40<00:50, 37.59it/s]\n",
      "\n",
      " 81%|███████████████████████████████████████████████████████████████▏              | 8079/9973 [02:40<00:44, 42.53it/s]\n",
      "\n",
      " 81%|███████████████████████████████████████████████████████████████▏              | 8084/9973 [02:40<00:42, 44.02it/s]\n",
      "\n",
      " 81%|███████████████████████████████████████████████████████████████▎              | 8089/9973 [02:40<00:43, 43.02it/s]\n",
      "\n",
      " 81%|███████████████████████████████████████████████████████████████▎              | 8098/9973 [02:40<00:38, 48.89it/s]"
     ]
    },
    {
     "name": "stdout",
     "output_type": "stream",
     "text": [
      "loss for 8100 is nan\n"
     ]
    },
    {
     "name": "stderr",
     "output_type": "stream",
     "text": [
      "\n",
      "\n",
      " 81%|███████████████████████████████████████████████████████████████▍              | 8104/9973 [02:40<00:40, 45.61it/s]\n",
      "\n",
      " 81%|███████████████████████████████████████████████████████████████▍              | 8109/9973 [02:40<00:43, 43.11it/s]\n",
      "\n",
      " 81%|███████████████████████████████████████████████████████████████▍              | 8114/9973 [02:40<00:44, 41.32it/s]\n",
      "\n",
      " 81%|███████████████████████████████████████████████████████████████▍              | 8119/9973 [02:41<00:44, 41.46it/s]\n",
      "\n",
      " 81%|███████████████████████████████████████████████████████████████▌              | 8124/9973 [02:41<00:44, 41.88it/s]\n",
      "\n",
      " 82%|███████████████████████████████████████████████████████████████▌              | 8130/9973 [02:41<00:40, 45.84it/s]\n",
      "\n",
      " 82%|███████████████████████████████████████████████████████████████▌              | 8135/9973 [02:41<00:41, 43.92it/s]\n",
      "\n",
      " 82%|███████████████████████████████████████████████████████████████▋              | 8140/9973 [02:41<00:46, 39.38it/s]\n",
      "\n",
      " 82%|███████████████████████████████████████████████████████████████▋              | 8146/9973 [02:41<00:41, 43.61it/s]\n",
      "\n",
      " 82%|███████████████████████████████████████████████████████████████▊              | 8153/9973 [02:41<00:39, 46.62it/s]\n",
      "\n",
      " 82%|███████████████████████████████████████████████████████████████▊              | 8159/9973 [02:41<00:36, 49.72it/s]\n",
      "\n",
      " 82%|███████████████████████████████████████████████████████████████▊              | 8165/9973 [02:41<00:36, 50.00it/s]\n",
      "\n",
      " 82%|███████████████████████████████████████████████████████████████▉              | 8171/9973 [02:42<00:37, 47.90it/s]\n",
      "\n",
      " 82%|███████████████████████████████████████████████████████████████▉              | 8178/9973 [02:42<00:34, 51.81it/s]\n",
      "\n",
      " 82%|████████████████████████████████████████████████████████████████              | 8184/9973 [02:42<00:36, 48.99it/s]\n",
      "\n",
      " 82%|████████████████████████████████████████████████████████████████              | 8190/9973 [02:42<00:35, 50.62it/s]\n",
      "\n",
      " 82%|████████████████████████████████████████████████████████████████              | 8196/9973 [02:42<00:36, 48.21it/s]"
     ]
    },
    {
     "name": "stdout",
     "output_type": "stream",
     "text": [
      "loss for 8200 is nan\n"
     ]
    },
    {
     "name": "stderr",
     "output_type": "stream",
     "text": [
      "\n",
      "\n",
      " 82%|████████████████████████████████████████████████████████████████▏             | 8202/9973 [02:42<00:35, 49.30it/s]\n",
      "\n",
      " 82%|████████████████████████████████████████████████████████████████▏             | 8208/9973 [02:42<00:38, 45.61it/s]\n",
      "\n",
      " 82%|████████████████████████████████████████████████████████████████▏             | 8213/9973 [02:42<00:38, 45.54it/s]\n",
      "\n",
      " 82%|████████████████████████████████████████████████████████████████▎             | 8218/9973 [02:43<00:38, 46.01it/s]\n",
      "\n",
      " 82%|████████████████████████████████████████████████████████████████▎             | 8226/9973 [02:43<00:33, 51.78it/s]\n",
      "\n",
      " 83%|████████████████████████████████████████████████████████████████▍             | 8234/9973 [02:43<00:31, 54.93it/s]\n",
      "\n",
      " 83%|████████████████████████████████████████████████████████████████▍             | 8245/9973 [02:43<00:27, 63.03it/s]\n",
      "\n",
      " 83%|████████████████████████████████████████████████████████████████▌             | 8258/9973 [02:43<00:23, 73.37it/s]\n",
      "\n",
      " 83%|████████████████████████████████████████████████████████████████▋             | 8267/9973 [02:43<00:25, 67.90it/s]\n",
      "\n",
      " 83%|████████████████████████████████████████████████████████████████▋             | 8277/9973 [02:43<00:23, 72.14it/s]\n",
      "\n",
      " 83%|████████████████████████████████████████████████████████████████▊             | 8285/9973 [02:44<00:28, 59.03it/s]\n",
      "\n",
      " 83%|████████████████████████████████████████████████████████████████▊             | 8292/9973 [02:44<00:38, 43.48it/s]\n",
      "\n",
      " 83%|████████████████████████████████████████████████████████████████▉             | 8298/9973 [02:44<00:42, 39.84it/s]"
     ]
    },
    {
     "name": "stdout",
     "output_type": "stream",
     "text": [
      "loss for 8300 is nan\n"
     ]
    },
    {
     "name": "stderr",
     "output_type": "stream",
     "text": [
      "\n",
      "\n",
      " 83%|████████████████████████████████████████████████████████████████▉             | 8303/9973 [02:44<00:42, 39.10it/s]\n",
      "\n",
      " 83%|████████████████████████████████████████████████████████████████▉             | 8308/9973 [02:44<00:42, 39.20it/s]\n",
      "\n",
      " 83%|█████████████████████████████████████████████████████████████████             | 8314/9973 [02:44<00:39, 42.13it/s]\n",
      "\n",
      " 83%|█████████████████████████████████████████████████████████████████             | 8319/9973 [02:44<00:38, 42.95it/s]\n",
      "\n",
      " 83%|█████████████████████████████████████████████████████████████████             | 8324/9973 [02:45<00:38, 43.13it/s]\n",
      "\n",
      " 84%|█████████████████████████████████████████████████████████████████▏            | 8331/9973 [02:45<00:34, 46.94it/s]\n",
      "\n",
      " 84%|█████████████████████████████████████████████████████████████████▏            | 8337/9973 [02:45<00:35, 46.65it/s]\n",
      "\n",
      " 84%|█████████████████████████████████████████████████████████████████▎            | 8347/9973 [02:45<00:29, 55.26it/s]\n",
      "\n",
      " 84%|█████████████████████████████████████████████████████████████████▎            | 8354/9973 [02:45<00:28, 57.52it/s]\n",
      "\n",
      " 84%|█████████████████████████████████████████████████████████████████▍            | 8361/9973 [02:45<00:27, 57.81it/s]\n",
      "\n",
      " 84%|█████████████████████████████████████████████████████████████████▍            | 8368/9973 [02:45<00:30, 52.43it/s]\n",
      "\n",
      " 84%|█████████████████████████████████████████████████████████████████▌            | 8376/9973 [02:45<00:27, 57.56it/s]\n",
      "\n",
      " 84%|█████████████████████████████████████████████████████████████████▌            | 8383/9973 [02:46<00:28, 55.53it/s]\n",
      "\n",
      " 84%|█████████████████████████████████████████████████████████████████▋            | 8391/9973 [02:46<00:26, 59.81it/s]\n",
      "\n",
      " 84%|█████████████████████████████████████████████████████████████████▋            | 8398/9973 [02:46<00:31, 50.46it/s]"
     ]
    },
    {
     "name": "stdout",
     "output_type": "stream",
     "text": [
      "loss for 8400 is nan\n"
     ]
    },
    {
     "name": "stderr",
     "output_type": "stream",
     "text": [
      "\n",
      "\n",
      " 84%|█████████████████████████████████████████████████████████████████▋            | 8404/9973 [02:46<00:30, 51.49it/s]\n",
      "\n",
      " 84%|█████████████████████████████████████████████████████████████████▊            | 8410/9973 [02:46<00:30, 51.37it/s]\n",
      "\n",
      " 84%|█████████████████████████████████████████████████████████████████▊            | 8417/9973 [02:46<00:30, 51.83it/s]\n",
      "\n",
      " 84%|█████████████████████████████████████████████████████████████████▉            | 8427/9973 [02:46<00:26, 57.44it/s]\n",
      "\n",
      " 85%|█████████████████████████████████████████████████████████████████▉            | 8434/9973 [02:47<00:34, 44.09it/s]\n",
      "\n",
      " 85%|██████████████████████████████████████████████████████████████████            | 8440/9973 [02:47<00:42, 35.87it/s]\n",
      "\n",
      " 85%|██████████████████████████████████████████████████████████████████            | 8445/9973 [02:47<00:43, 34.92it/s]\n",
      "\n",
      " 85%|██████████████████████████████████████████████████████████████████            | 8450/9973 [02:47<00:44, 34.01it/s]\n",
      "\n",
      " 85%|██████████████████████████████████████████████████████████████████▏           | 8456/9973 [02:47<00:39, 38.49it/s]\n",
      "\n",
      " 85%|██████████████████████████████████████████████████████████████████▏           | 8461/9973 [02:47<00:44, 33.94it/s]\n",
      "\n",
      " 85%|██████████████████████████████████████████████████████████████████▏           | 8465/9973 [02:48<00:51, 29.05it/s]\n",
      "\n",
      " 85%|██████████████████████████████████████████████████████████████████▏           | 8469/9973 [02:48<00:48, 30.91it/s]\n",
      "\n",
      " 85%|██████████████████████████████████████████████████████████████████▎           | 8473/9973 [02:48<00:45, 32.62it/s]\n",
      "\n",
      " 85%|██████████████████████████████████████████████████████████████████▎           | 8478/9973 [02:48<00:42, 35.31it/s]\n",
      "\n",
      " 85%|██████████████████████████████████████████████████████████████████▍           | 8487/9973 [02:48<00:34, 42.73it/s]\n",
      "\n",
      " 85%|██████████████████████████████████████████████████████████████████▍           | 8493/9973 [02:48<00:32, 45.27it/s]\n",
      "\n",
      " 85%|██████████████████████████████████████████████████████████████████▍           | 8499/9973 [02:48<00:31, 46.34it/s]"
     ]
    },
    {
     "name": "stdout",
     "output_type": "stream",
     "text": [
      "loss for 8500 is nan\n"
     ]
    },
    {
     "name": "stderr",
     "output_type": "stream",
     "text": [
      "\n",
      "\n",
      " 85%|██████████████████████████████████████████████████████████████████▌           | 8505/9973 [02:48<00:33, 43.43it/s]\n",
      "\n",
      " 85%|██████████████████████████████████████████████████████████████████▌           | 8512/9973 [02:49<00:29, 49.01it/s]\n",
      "\n",
      " 85%|██████████████████████████████████████████████████████████████████▋           | 8519/9973 [02:49<00:28, 50.59it/s]\n",
      "\n",
      " 86%|██████████████████████████████████████████████████████████████████▋           | 8528/9973 [02:49<00:25, 57.35it/s]\n",
      "\n",
      " 86%|██████████████████████████████████████████████████████████████████▊           | 8538/9973 [02:49<00:22, 63.46it/s]\n",
      "\n",
      " 86%|██████████████████████████████████████████████████████████████████▊           | 8545/9973 [02:49<00:22, 64.57it/s]\n",
      "\n",
      " 86%|██████████████████████████████████████████████████████████████████▉           | 8552/9973 [02:49<00:23, 60.61it/s]\n",
      "\n",
      " 86%|██████████████████████████████████████████████████████████████████▉           | 8559/9973 [02:49<00:24, 58.70it/s]\n",
      "\n",
      " 86%|██████████████████████████████████████████████████████████████████▉           | 8566/9973 [02:49<00:25, 54.23it/s]\n",
      "\n",
      " 86%|███████████████████████████████████████████████████████████████████           | 8572/9973 [02:50<00:29, 47.52it/s]\n",
      "\n",
      " 86%|███████████████████████████████████████████████████████████████████           | 8578/9973 [02:50<00:30, 46.45it/s]\n",
      "\n",
      " 86%|███████████████████████████████████████████████████████████████████▏          | 8583/9973 [02:50<00:31, 44.23it/s]\n",
      "\n",
      " 86%|███████████████████████████████████████████████████████████████████▏          | 8590/9973 [02:50<00:28, 48.73it/s]\n",
      "\n",
      " 86%|███████████████████████████████████████████████████████████████████▏          | 8596/9973 [02:50<00:28, 48.17it/s]"
     ]
    },
    {
     "name": "stdout",
     "output_type": "stream",
     "text": [
      "loss for 8600 is nan\n"
     ]
    },
    {
     "name": "stderr",
     "output_type": "stream",
     "text": [
      "\n",
      "\n",
      " 86%|███████████████████████████████████████████████████████████████████▎          | 8602/9973 [02:50<00:28, 47.52it/s]\n",
      "\n",
      " 86%|███████████████████████████████████████████████████████████████████▎          | 8608/9973 [02:50<00:27, 49.68it/s]\n",
      "\n",
      " 86%|███████████████████████████████████████████████████████████████████▍          | 8616/9973 [02:50<00:25, 53.79it/s]\n",
      "\n",
      " 86%|███████████████████████████████████████████████████████████████████▍          | 8625/9973 [02:51<00:22, 60.72it/s]\n",
      "\n",
      " 87%|███████████████████████████████████████████████████████████████████▌          | 8635/9973 [02:51<00:19, 67.71it/s]\n",
      "\n",
      " 87%|███████████████████████████████████████████████████████████████████▌          | 8643/9973 [02:51<00:20, 66.48it/s]\n",
      "\n",
      " 87%|███████████████████████████████████████████████████████████████████▋          | 8651/9973 [02:51<00:19, 66.54it/s]\n",
      "\n",
      " 87%|███████████████████████████████████████████████████████████████████▋          | 8658/9973 [02:51<00:24, 54.33it/s]\n",
      "\n",
      " 87%|███████████████████████████████████████████████████████████████████▊          | 8664/9973 [02:51<00:25, 51.64it/s]\n",
      "\n",
      " 87%|███████████████████████████████████████████████████████████████████▊          | 8670/9973 [02:51<00:25, 50.48it/s]\n",
      "\n",
      " 87%|███████████████████████████████████████████████████████████████████▊          | 8676/9973 [02:51<00:26, 48.58it/s]\n",
      "\n",
      " 87%|███████████████████████████████████████████████████████████████████▉          | 8686/9973 [02:52<00:23, 54.84it/s]\n",
      "\n",
      " 87%|███████████████████████████████████████████████████████████████████▉          | 8692/9973 [02:52<00:37, 34.05it/s]\n",
      "\n",
      " 87%|████████████████████████████████████████████████████████████████████          | 8697/9973 [02:52<00:35, 36.03it/s]"
     ]
    },
    {
     "name": "stdout",
     "output_type": "stream",
     "text": [
      "loss for 8700 is nan\n"
     ]
    },
    {
     "name": "stderr",
     "output_type": "stream",
     "text": [
      "\n",
      "\n",
      " 87%|████████████████████████████████████████████████████████████████████          | 8702/9973 [02:52<00:34, 36.57it/s]\n",
      "\n",
      " 87%|████████████████████████████████████████████████████████████████████          | 8707/9973 [02:52<00:35, 35.68it/s]\n",
      "\n",
      " 87%|████████████████████████████████████████████████████████████████████▏         | 8712/9973 [02:52<00:33, 37.63it/s]\n",
      "\n",
      " 87%|████████████████████████████████████████████████████████████████████▏         | 8719/9973 [02:53<00:29, 42.73it/s]\n",
      "\n",
      " 87%|████████████████████████████████████████████████████████████████████▏         | 8724/9973 [02:53<00:28, 43.74it/s]\n",
      "\n",
      " 88%|████████████████████████████████████████████████████████████████████▎         | 8730/9973 [02:53<00:27, 45.86it/s]\n",
      "\n",
      " 88%|████████████████████████████████████████████████████████████████████▎         | 8735/9973 [02:53<00:32, 37.68it/s]\n",
      "\n",
      " 88%|████████████████████████████████████████████████████████████████████▎         | 8740/9973 [02:53<00:33, 36.74it/s]\n",
      "\n",
      " 88%|████████████████████████████████████████████████████████████████████▍         | 8749/9973 [02:53<00:28, 43.63it/s]\n",
      "\n",
      " 88%|████████████████████████████████████████████████████████████████████▍         | 8755/9973 [02:53<00:31, 38.40it/s]\n",
      "\n",
      " 88%|████████████████████████████████████████████████████████████████████▌         | 8760/9973 [02:54<00:39, 30.42it/s]\n",
      "\n",
      " 88%|████████████████████████████████████████████████████████████████████▌         | 8764/9973 [02:54<00:38, 31.24it/s]\n",
      "\n",
      " 88%|████████████████████████████████████████████████████████████████████▌         | 8770/9973 [02:54<00:34, 35.20it/s]\n",
      "\n",
      " 88%|████████████████████████████████████████████████████████████████████▋         | 8775/9973 [02:54<00:33, 35.96it/s]\n",
      "\n",
      " 88%|████████████████████████████████████████████████████████████████████▋         | 8782/9973 [02:54<00:28, 41.51it/s]\n",
      "\n",
      " 88%|████████████████████████████████████████████████████████████████████▋         | 8788/9973 [02:54<00:26, 44.91it/s]\n",
      "\n",
      " 88%|████████████████████████████████████████████████████████████████████▊         | 8793/9973 [02:54<00:26, 43.89it/s]\n",
      "\n",
      " 88%|████████████████████████████████████████████████████████████████████▊         | 8798/9973 [02:54<00:27, 42.75it/s]"
     ]
    },
    {
     "name": "stdout",
     "output_type": "stream",
     "text": [
      "loss for 8800 is nan\n"
     ]
    },
    {
     "name": "stderr",
     "output_type": "stream",
     "text": [
      "\n",
      "\n",
      " 88%|████████████████████████████████████████████████████████████████████▊         | 8803/9973 [02:55<00:30, 38.86it/s]\n",
      "\n",
      " 88%|████████████████████████████████████████████████████████████████████▉         | 8808/9973 [02:55<00:29, 38.92it/s]\n",
      "\n",
      " 88%|████████████████████████████████████████████████████████████████████▉         | 8814/9973 [02:55<00:26, 43.13it/s]\n",
      "\n",
      " 88%|████████████████████████████████████████████████████████████████████▉         | 8819/9973 [02:55<00:26, 43.57it/s]\n",
      "\n",
      " 88%|█████████████████████████████████████████████████████████████████████         | 8824/9973 [02:55<00:29, 39.33it/s]\n",
      "\n",
      " 89%|█████████████████████████████████████████████████████████████████████         | 8833/9973 [02:55<00:24, 47.03it/s]\n",
      "\n",
      " 89%|█████████████████████████████████████████████████████████████████████▏        | 8841/9973 [02:55<00:21, 53.23it/s]\n",
      "\n",
      " 89%|█████████████████████████████████████████████████████████████████████▏        | 8848/9973 [02:55<00:20, 54.67it/s]\n",
      "\n",
      " 89%|█████████████████████████████████████████████████████████████████████▎        | 8855/9973 [02:56<00:21, 53.18it/s]\n",
      "\n",
      " 89%|█████████████████████████████████████████████████████████████████████▎        | 8861/9973 [02:56<00:21, 52.18it/s]\n",
      "\n",
      " 89%|█████████████████████████████████████████████████████████████████████▎        | 8867/9973 [02:56<00:20, 53.72it/s]\n",
      "\n",
      " 89%|█████████████████████████████████████████████████████████████████████▍        | 8873/9973 [02:56<00:23, 47.55it/s]\n",
      "\n",
      " 89%|█████████████████████████████████████████████████████████████████████▍        | 8879/9973 [02:56<00:23, 46.47it/s]\n",
      "\n",
      " 89%|█████████████████████████████████████████████████████████████████████▌        | 8889/9973 [02:56<00:19, 54.63it/s]\n",
      "\n",
      " 89%|█████████████████████████████████████████████████████████████████████▌        | 8896/9973 [02:56<00:19, 55.16it/s]"
     ]
    },
    {
     "name": "stdout",
     "output_type": "stream",
     "text": [
      "loss for 8900 is nan\n"
     ]
    },
    {
     "name": "stderr",
     "output_type": "stream",
     "text": [
      "\n",
      "\n",
      " 89%|█████████████████████████████████████████████████████████████████████▋        | 8904/9973 [02:56<00:17, 60.28it/s]\n",
      "\n",
      " 89%|█████████████████████████████████████████████████████████████████████▋        | 8911/9973 [02:57<00:19, 53.64it/s]\n",
      "\n",
      " 89%|█████████████████████████████████████████████████████████████████████▋        | 8917/9973 [02:57<00:21, 49.88it/s]\n",
      "\n",
      " 89%|█████████████████████████████████████████████████████████████████████▊        | 8924/9973 [02:57<00:19, 53.58it/s]\n",
      "\n",
      " 90%|█████████████████████████████████████████████████████████████████████▊        | 8933/9973 [02:57<00:17, 59.53it/s]\n",
      "\n",
      " 90%|█████████████████████████████████████████████████████████████████████▉        | 8940/9973 [02:57<00:17, 58.57it/s]\n",
      "\n",
      " 90%|█████████████████████████████████████████████████████████████████████▉        | 8947/9973 [02:57<00:19, 52.69it/s]\n",
      "\n",
      " 90%|██████████████████████████████████████████████████████████████████████        | 8955/9973 [02:57<00:17, 56.70it/s]\n",
      "\n",
      " 90%|██████████████████████████████████████████████████████████████████████        | 8961/9973 [02:58<00:22, 45.57it/s]\n",
      "\n",
      " 90%|██████████████████████████████████████████████████████████████████████▏       | 8968/9973 [02:58<00:20, 49.60it/s]\n",
      "\n",
      " 90%|██████████████████████████████████████████████████████████████████████▏       | 8974/9973 [02:58<00:21, 46.48it/s]\n",
      "\n",
      " 90%|██████████████████████████████████████████████████████████████████████▏       | 8982/9973 [02:58<00:18, 52.75it/s]\n",
      "\n",
      " 90%|██████████████████████████████████████████████████████████████████████▎       | 8988/9973 [02:58<00:19, 50.84it/s]\n",
      "\n",
      " 90%|██████████████████████████████████████████████████████████████████████▎       | 8996/9973 [02:58<00:17, 56.12it/s]"
     ]
    },
    {
     "name": "stdout",
     "output_type": "stream",
     "text": [
      "loss for 9000 is nan\n"
     ]
    },
    {
     "name": "stderr",
     "output_type": "stream",
     "text": [
      "\n",
      "\n",
      " 90%|██████████████████████████████████████████████████████████████████████▍       | 9003/9973 [02:58<00:16, 57.89it/s]\n",
      "\n",
      " 90%|██████████████████████████████████████████████████████████████████████▍       | 9011/9973 [02:58<00:15, 61.95it/s]\n",
      "\n",
      " 90%|██████████████████████████████████████████████████████████████████████▌       | 9018/9973 [02:59<00:16, 59.58it/s]\n",
      "\n",
      " 90%|██████████████████████████████████████████████████████████████████████▌       | 9025/9973 [02:59<00:15, 61.70it/s]\n",
      "\n",
      " 91%|██████████████████████████████████████████████████████████████████████▋       | 9032/9973 [02:59<00:16, 58.02it/s]\n",
      "\n",
      " 91%|██████████████████████████████████████████████████████████████████████▋       | 9038/9973 [02:59<00:17, 54.17it/s]\n",
      "\n",
      " 91%|██████████████████████████████████████████████████████████████████████▋       | 9044/9973 [02:59<00:17, 54.38it/s]\n",
      "\n",
      " 91%|██████████████████████████████████████████████████████████████████████▊       | 9052/9973 [02:59<00:15, 58.66it/s]\n",
      "\n",
      " 91%|██████████████████████████████████████████████████████████████████████▊       | 9059/9973 [02:59<00:17, 53.45it/s]\n",
      "\n",
      " 91%|██████████████████████████████████████████████████████████████████████▉       | 9067/9973 [02:59<00:16, 55.66it/s]\n",
      "\n",
      " 91%|██████████████████████████████████████████████████████████████████████▉       | 9074/9973 [03:00<00:16, 55.48it/s]\n",
      "\n",
      " 91%|███████████████████████████████████████████████████████████████████████       | 9082/9973 [03:00<00:14, 60.85it/s]\n",
      "\n",
      " 91%|███████████████████████████████████████████████████████████████████████       | 9089/9973 [03:00<00:15, 55.33it/s]\n",
      "\n",
      " 91%|███████████████████████████████████████████████████████████████████████▏      | 9095/9973 [03:00<00:16, 52.91it/s]"
     ]
    },
    {
     "name": "stdout",
     "output_type": "stream",
     "text": [
      "loss for 9100 is nan\n"
     ]
    },
    {
     "name": "stderr",
     "output_type": "stream",
     "text": [
      "\n",
      "\n",
      " 91%|███████████████████████████████████████████████████████████████████████▏      | 9101/9973 [03:00<00:16, 51.34it/s]\n",
      "\n",
      " 91%|███████████████████████████████████████████████████████████████████████▏      | 9107/9973 [03:00<00:17, 49.46it/s]\n",
      "\n",
      " 91%|███████████████████████████████████████████████████████████████████████▎      | 9113/9973 [03:00<00:18, 46.49it/s]\n",
      "\n",
      " 91%|███████████████████████████████████████████████████████████████████████▎      | 9118/9973 [03:00<00:19, 43.07it/s]\n",
      "\n",
      " 91%|███████████████████████████████████████████████████████████████████████▎      | 9123/9973 [03:01<00:18, 44.94it/s]\n",
      "\n",
      " 92%|███████████████████████████████████████████████████████████████████████▍      | 9128/9973 [03:01<00:18, 45.34it/s]\n",
      "\n",
      " 92%|███████████████████████████████████████████████████████████████████████▍      | 9133/9973 [03:01<00:18, 44.64it/s]\n",
      "\n",
      " 92%|███████████████████████████████████████████████████████████████████████▍      | 9138/9973 [03:01<00:18, 44.64it/s]\n",
      "\n",
      " 92%|███████████████████████████████████████████████████████████████████████▌      | 9144/9973 [03:01<00:17, 46.13it/s]\n",
      "\n",
      " 92%|███████████████████████████████████████████████████████████████████████▌      | 9149/9973 [03:01<00:17, 46.15it/s]\n",
      "\n",
      " 92%|███████████████████████████████████████████████████████████████████████▌      | 9156/9973 [03:01<00:16, 49.12it/s]\n",
      "\n",
      " 92%|███████████████████████████████████████████████████████████████████████▋      | 9163/9973 [03:01<00:15, 53.73it/s]\n",
      "\n",
      " 92%|███████████████████████████████████████████████████████████████████████▋      | 9171/9973 [03:01<00:13, 58.55it/s]\n",
      "\n",
      " 92%|███████████████████████████████████████████████████████████████████████▊      | 9179/9973 [03:02<00:13, 59.99it/s]\n",
      "\n",
      " 92%|███████████████████████████████████████████████████████████████████████▉      | 9192/9973 [03:02<00:11, 70.29it/s]\n",
      "\n",
      " 92%|███████████████████████████████████████████████████████████████████████▉      | 9200/9973 [03:02<00:11, 64.93it/s]"
     ]
    },
    {
     "name": "stdout",
     "output_type": "stream",
     "text": [
      "loss for 9200 is nan\n"
     ]
    },
    {
     "name": "stderr",
     "output_type": "stream",
     "text": [
      "\n",
      "\n",
      " 92%|████████████████████████████████████████████████████████████████████████      | 9208/9973 [03:02<00:13, 56.15it/s]\n",
      "\n",
      " 92%|████████████████████████████████████████████████████████████████████████      | 9215/9973 [03:02<00:12, 59.17it/s]\n",
      "\n",
      " 92%|████████████████████████████████████████████████████████████████████████▏     | 9222/9973 [03:02<00:12, 60.27it/s]\n",
      "\n",
      " 93%|████████████████████████████████████████████████████████████████████████▏     | 9229/9973 [03:02<00:12, 58.62it/s]\n",
      "\n",
      " 93%|████████████████████████████████████████████████████████████████████████▏     | 9236/9973 [03:02<00:13, 56.11it/s]\n",
      "\n",
      " 93%|████████████████████████████████████████████████████████████████████████▎     | 9247/9973 [03:03<00:11, 64.61it/s]\n",
      "\n",
      " 93%|████████████████████████████████████████████████████████████████████████▍     | 9256/9973 [03:03<00:10, 69.07it/s]\n",
      "\n",
      " 93%|████████████████████████████████████████████████████████████████████████▍     | 9266/9973 [03:03<00:09, 74.54it/s]\n",
      "\n",
      " 93%|████████████████████████████████████████████████████████████████████████▌     | 9278/9973 [03:03<00:08, 81.72it/s]\n",
      "\n",
      " 93%|████████████████████████████████████████████████████████████████████████▋     | 9287/9973 [03:03<00:08, 79.89it/s]\n",
      "\n",
      " 93%|████████████████████████████████████████████████████████████████████████▋     | 9296/9973 [03:03<00:08, 79.40it/s]"
     ]
    },
    {
     "name": "stdout",
     "output_type": "stream",
     "text": [
      "loss for 9300 is nan\n"
     ]
    },
    {
     "name": "stderr",
     "output_type": "stream",
     "text": [
      "\n",
      "\n",
      " 93%|████████████████████████████████████████████████████████████████████████▊     | 9305/9973 [03:03<00:08, 76.09it/s]\n",
      "\n",
      " 93%|████████████████████████████████████████████████████████████████████████▊     | 9313/9973 [03:03<00:10, 64.92it/s]\n",
      "\n",
      " 93%|████████████████████████████████████████████████████████████████████████▉     | 9321/9973 [03:04<00:09, 67.71it/s]\n",
      "\n",
      " 94%|████████████████████████████████████████████████████████████████████████▉     | 9329/9973 [03:04<00:09, 66.56it/s]\n",
      "\n",
      " 94%|█████████████████████████████████████████████████████████████████████████     | 9336/9973 [03:04<00:11, 55.75it/s]\n",
      "\n",
      " 94%|█████████████████████████████████████████████████████████████████████████     | 9343/9973 [03:04<00:11, 53.82it/s]\n",
      "\n",
      " 94%|█████████████████████████████████████████████████████████████████████████     | 9349/9973 [03:04<00:11, 52.15it/s]\n",
      "\n",
      " 94%|█████████████████████████████████████████████████████████████████████████▏    | 9355/9973 [03:04<00:12, 50.68it/s]\n",
      "\n",
      " 94%|█████████████████████████████████████████████████████████████████████████▏    | 9365/9973 [03:04<00:10, 56.71it/s]\n",
      "\n",
      " 94%|█████████████████████████████████████████████████████████████████████████▎    | 9373/9973 [03:05<00:10, 59.05it/s]\n",
      "\n",
      " 94%|█████████████████████████████████████████████████████████████████████████▎    | 9381/9973 [03:05<00:09, 62.59it/s]\n",
      "\n",
      " 94%|█████████████████████████████████████████████████████████████████████████▍    | 9388/9973 [03:05<00:10, 56.94it/s]\n",
      "\n",
      " 94%|█████████████████████████████████████████████████████████████████████████▍    | 9395/9973 [03:05<00:09, 58.89it/s]"
     ]
    },
    {
     "name": "stdout",
     "output_type": "stream",
     "text": [
      "loss for 9400 is nan\n"
     ]
    },
    {
     "name": "stderr",
     "output_type": "stream",
     "text": [
      "\n",
      "\n",
      " 94%|█████████████████████████████████████████████████████████████████████████▌    | 9402/9973 [03:05<00:09, 58.00it/s]\n",
      "\n",
      " 94%|█████████████████████████████████████████████████████████████████████████▌    | 9408/9973 [03:05<00:10, 53.71it/s]\n",
      "\n",
      " 94%|█████████████████████████████████████████████████████████████████████████▋    | 9417/9973 [03:05<00:09, 59.84it/s]\n",
      "\n",
      " 95%|█████████████████████████████████████████████████████████████████████████▋    | 9427/9973 [03:05<00:08, 66.60it/s]\n",
      "\n",
      " 95%|█████████████████████████████████████████████████████████████████████████▊    | 9435/9973 [03:06<00:09, 58.37it/s]\n",
      "\n",
      " 95%|█████████████████████████████████████████████████████████████████████████▊    | 9442/9973 [03:06<00:08, 61.13it/s]\n",
      "\n",
      " 95%|█████████████████████████████████████████████████████████████████████████▉    | 9449/9973 [03:06<00:09, 57.22it/s]\n",
      "\n",
      " 95%|█████████████████████████████████████████████████████████████████████████▉    | 9456/9973 [03:06<00:08, 59.10it/s]\n",
      "\n",
      " 95%|██████████████████████████████████████████████████████████████████████████    | 9463/9973 [03:06<00:09, 52.02it/s]\n",
      "\n",
      " 95%|██████████████████████████████████████████████████████████████████████████    | 9471/9973 [03:06<00:08, 56.49it/s]\n",
      "\n",
      " 95%|██████████████████████████████████████████████████████████████████████████    | 9477/9973 [03:06<00:09, 52.85it/s]\n",
      "\n",
      " 95%|██████████████████████████████████████████████████████████████████████████▏   | 9483/9973 [03:06<00:09, 49.72it/s]\n",
      "\n",
      " 95%|██████████████████████████████████████████████████████████████████████████▏   | 9491/9973 [03:07<00:08, 55.79it/s]\n",
      "\n",
      " 95%|██████████████████████████████████████████████████████████████████████████▎   | 9497/9973 [03:07<00:09, 51.08it/s]"
     ]
    },
    {
     "name": "stdout",
     "output_type": "stream",
     "text": [
      "loss for 9500 is nan\n"
     ]
    },
    {
     "name": "stderr",
     "output_type": "stream",
     "text": [
      "\n",
      "\n",
      " 95%|██████████████████████████████████████████████████████████████████████████▎   | 9503/9973 [03:07<00:09, 48.98it/s]\n",
      "\n",
      " 95%|██████████████████████████████████████████████████████████████████████████▍   | 9510/9973 [03:07<00:08, 52.69it/s]\n",
      "\n",
      " 95%|██████████████████████████████████████████████████████████████████████████▍   | 9519/9973 [03:07<00:07, 59.45it/s]\n",
      "\n",
      " 96%|██████████████████████████████████████████████████████████████████████████▌   | 9526/9973 [03:07<00:07, 57.54it/s]\n",
      "\n",
      " 96%|██████████████████████████████████████████████████████████████████████████▌   | 9537/9973 [03:07<00:06, 65.37it/s]\n",
      "\n",
      " 96%|██████████████████████████████████████████████████████████████████████████▋   | 9546/9973 [03:07<00:06, 68.90it/s]\n",
      "\n",
      " 96%|██████████████████████████████████████████████████████████████████████████▋   | 9554/9973 [03:08<00:05, 70.74it/s]\n",
      "\n",
      " 96%|██████████████████████████████████████████████████████████████████████████▊   | 9562/9973 [03:08<00:05, 72.09it/s]\n",
      "\n",
      " 96%|██████████████████████████████████████████████████████████████████████████▊   | 9570/9973 [03:08<00:05, 72.41it/s]\n",
      "\n",
      " 96%|██████████████████████████████████████████████████████████████████████████▉   | 9578/9973 [03:08<00:05, 70.25it/s]\n",
      "\n",
      " 96%|██████████████████████████████████████████████████████████████████████████▉   | 9586/9973 [03:08<00:05, 70.22it/s]\n",
      "\n",
      " 96%|███████████████████████████████████████████████████████████████████████████   | 9594/9973 [03:08<00:06, 55.53it/s]"
     ]
    },
    {
     "name": "stdout",
     "output_type": "stream",
     "text": [
      "loss for 9600 is nan\n"
     ]
    },
    {
     "name": "stderr",
     "output_type": "stream",
     "text": [
      "\n",
      "\n",
      " 96%|███████████████████████████████████████████████████████████████████████████   | 9602/9973 [03:08<00:06, 58.63it/s]\n",
      "\n",
      " 96%|███████████████████████████████████████████████████████████████████████████▏  | 9609/9973 [03:08<00:07, 51.59it/s]\n",
      "\n",
      " 96%|███████████████████████████████████████████████████████████████████████████▏  | 9615/9973 [03:09<00:07, 48.62it/s]\n",
      "\n",
      " 96%|███████████████████████████████████████████████████████████████████████████▏  | 9621/9973 [03:09<00:07, 45.05it/s]\n",
      "\n",
      " 97%|███████████████████████████████████████████████████████████████████████████▎  | 9626/9973 [03:09<00:08, 42.63it/s]\n",
      "\n",
      " 97%|███████████████████████████████████████████████████████████████████████████▎  | 9633/9973 [03:09<00:07, 48.18it/s]\n",
      "\n",
      " 97%|███████████████████████████████████████████████████████████████████████████▍  | 9639/9973 [03:09<00:07, 46.47it/s]\n",
      "\n",
      " 97%|███████████████████████████████████████████████████████████████████████████▍  | 9644/9973 [03:09<00:07, 46.26it/s]\n",
      "\n",
      " 97%|███████████████████████████████████████████████████████████████████████████▍  | 9650/9973 [03:09<00:07, 45.26it/s]\n",
      "\n",
      " 97%|███████████████████████████████████████████████████████████████████████████▌  | 9655/9973 [03:09<00:07, 44.06it/s]\n",
      "\n",
      " 97%|███████████████████████████████████████████████████████████████████████████▌  | 9660/9973 [03:10<00:07, 41.17it/s]\n",
      "\n",
      " 97%|███████████████████████████████████████████████████████████████████████████▌  | 9665/9973 [03:10<00:07, 40.52it/s]\n",
      "\n",
      " 97%|███████████████████████████████████████████████████████████████████████████▋  | 9670/9973 [03:10<00:07, 39.31it/s]\n",
      "\n",
      " 97%|███████████████████████████████████████████████████████████████████████████▋  | 9675/9973 [03:10<00:07, 39.61it/s]\n",
      "\n",
      " 97%|███████████████████████████████████████████████████████████████████████████▋  | 9680/9973 [03:10<00:07, 39.82it/s]\n",
      "\n",
      " 97%|███████████████████████████████████████████████████████████████████████████▋  | 9685/9973 [03:10<00:07, 40.36it/s]\n",
      "\n",
      " 97%|███████████████████████████████████████████████████████████████████████████▊  | 9690/9973 [03:10<00:06, 41.14it/s]\n",
      "\n",
      " 97%|███████████████████████████████████████████████████████████████████████████▊  | 9695/9973 [03:11<00:07, 39.35it/s]"
     ]
    },
    {
     "name": "stdout",
     "output_type": "stream",
     "text": [
      "loss for 9700 is nan\n"
     ]
    },
    {
     "name": "stderr",
     "output_type": "stream",
     "text": [
      "\n",
      "\n",
      " 97%|███████████████████████████████████████████████████████████████████████████▉  | 9702/9973 [03:11<00:06, 43.61it/s]\n",
      "\n",
      " 97%|███████████████████████████████████████████████████████████████████████████▉  | 9707/9973 [03:11<00:06, 42.57it/s]\n",
      "\n",
      " 97%|███████████████████████████████████████████████████████████████████████████▉  | 9712/9973 [03:11<00:06, 42.74it/s]\n",
      "\n",
      " 97%|███████████████████████████████████████████████████████████████████████████▉  | 9717/9973 [03:11<00:05, 43.59it/s]\n",
      "\n",
      " 98%|████████████████████████████████████████████████████████████████████████████  | 9727/9973 [03:11<00:04, 50.05it/s]\n",
      "\n",
      " 98%|████████████████████████████████████████████████████████████████████████████▏ | 9734/9973 [03:11<00:04, 51.44it/s]\n",
      "\n",
      " 98%|████████████████████████████████████████████████████████████████████████████▏ | 9742/9973 [03:11<00:04, 56.66it/s]\n",
      "\n",
      " 98%|████████████████████████████████████████████████████████████████████████████▎ | 9750/9973 [03:11<00:03, 60.75it/s]\n",
      "\n",
      " 98%|████████████████████████████████████████████████████████████████████████████▎ | 9757/9973 [03:12<00:04, 46.84it/s]\n",
      "\n",
      " 98%|████████████████████████████████████████████████████████████████████████████▎ | 9765/9973 [03:12<00:03, 52.06it/s]\n",
      "\n",
      " 98%|████████████████████████████████████████████████████████████████████████████▍ | 9773/9973 [03:12<00:03, 56.44it/s]\n",
      "\n",
      " 98%|████████████████████████████████████████████████████████████████████████████▍ | 9780/9973 [03:12<00:03, 52.20it/s]\n",
      "\n",
      " 98%|████████████████████████████████████████████████████████████████████████████▌ | 9786/9973 [03:12<00:03, 48.55it/s]\n",
      "\n",
      " 98%|████████████████████████████████████████████████████████████████████████████▌ | 9792/9973 [03:12<00:03, 48.11it/s]\n",
      "\n",
      " 98%|████████████████████████████████████████████████████████████████████████████▋ | 9798/9973 [03:12<00:03, 47.53it/s]"
     ]
    },
    {
     "name": "stdout",
     "output_type": "stream",
     "text": [
      "loss for 9800 is nan\n"
     ]
    },
    {
     "name": "stderr",
     "output_type": "stream",
     "text": [
      "\n",
      "\n",
      " 98%|████████████████████████████████████████████████████████████████████████████▋ | 9803/9973 [03:13<00:04, 38.22it/s]\n",
      "\n",
      " 98%|████████████████████████████████████████████████████████████████████████████▋ | 9808/9973 [03:13<00:04, 40.73it/s]\n",
      "\n",
      " 98%|████████████████████████████████████████████████████████████████████████████▋ | 9813/9973 [03:13<00:03, 40.21it/s]\n",
      "\n",
      " 98%|████████████████████████████████████████████████████████████████████████████▊ | 9818/9973 [03:13<00:04, 35.21it/s]\n",
      "\n",
      " 99%|████████████████████████████████████████████████████████████████████████████▊ | 9825/9973 [03:13<00:03, 41.38it/s]\n",
      "\n",
      " 99%|████████████████████████████████████████████████████████████████████████████▉ | 9830/9973 [03:13<00:03, 39.88it/s]\n",
      "\n",
      " 99%|████████████████████████████████████████████████████████████████████████████▉ | 9836/9973 [03:13<00:03, 43.18it/s]\n",
      "\n",
      " 99%|████████████████████████████████████████████████████████████████████████████▉ | 9841/9973 [03:14<00:03, 37.95it/s]\n",
      "\n",
      " 99%|█████████████████████████████████████████████████████████████████████████████ | 9846/9973 [03:14<00:03, 37.20it/s]\n",
      "\n",
      " 99%|█████████████████████████████████████████████████████████████████████████████ | 9854/9973 [03:14<00:02, 43.49it/s]\n",
      "\n",
      " 99%|█████████████████████████████████████████████████████████████████████████████ | 9859/9973 [03:14<00:02, 44.14it/s]\n",
      "\n",
      " 99%|█████████████████████████████████████████████████████████████████████████████▏| 9865/9973 [03:14<00:02, 47.92it/s]\n",
      "\n",
      " 99%|█████████████████████████████████████████████████████████████████████████████▏| 9871/9973 [03:14<00:02, 50.05it/s]\n",
      "\n",
      " 99%|█████████████████████████████████████████████████████████████████████████████▏| 9877/9973 [03:14<00:01, 52.06it/s]\n",
      "\n",
      " 99%|█████████████████████████████████████████████████████████████████████████████▎| 9883/9973 [03:14<00:01, 52.73it/s]\n",
      "\n",
      " 99%|█████████████████████████████████████████████████████████████████████████████▎| 9891/9973 [03:15<00:01, 57.47it/s]\n",
      "\n",
      " 99%|█████████████████████████████████████████████████████████████████████████████▍| 9897/9973 [03:15<00:01, 52.50it/s]"
     ]
    },
    {
     "name": "stdout",
     "output_type": "stream",
     "text": [
      "loss for 9900 is nan\n"
     ]
    },
    {
     "name": "stderr",
     "output_type": "stream",
     "text": [
      "\n",
      "\n",
      " 99%|█████████████████████████████████████████████████████████████████████████████▍| 9903/9973 [03:15<00:01, 51.07it/s]\n",
      "\n",
      " 99%|█████████████████████████████████████████████████████████████████████████████▌| 9910/9973 [03:15<00:01, 54.14it/s]\n",
      "\n",
      " 99%|█████████████████████████████████████████████████████████████████████████████▌| 9916/9973 [03:15<00:01, 52.15it/s]\n",
      "\n",
      " 99%|█████████████████████████████████████████████████████████████████████████████▌| 9922/9973 [03:15<00:01, 44.45it/s]\n",
      "\n",
      "100%|█████████████████████████████████████████████████████████████████████████████▋| 9927/9973 [03:15<00:01, 41.54it/s]\n",
      "\n",
      "100%|█████████████████████████████████████████████████████████████████████████████▋| 9933/9973 [03:15<00:00, 44.56it/s]\n",
      "\n",
      "100%|█████████████████████████████████████████████████████████████████████████████▋| 9938/9973 [03:16<00:00, 44.18it/s]\n",
      "\n",
      "100%|█████████████████████████████████████████████████████████████████████████████▊| 9943/9973 [03:16<00:00, 44.63it/s]\n",
      "\n",
      "100%|█████████████████████████████████████████████████████████████████████████████▊| 9950/9973 [03:16<00:00, 47.53it/s]\n",
      "\n",
      "100%|█████████████████████████████████████████████████████████████████████████████▊| 9956/9973 [03:16<00:00, 47.67it/s]\n",
      "\n",
      "100%|█████████████████████████████████████████████████████████████████████████████▉| 9961/9973 [03:16<00:00, 47.31it/s]\n",
      "\n",
      "100%|█████████████████████████████████████████████████████████████████████████████▉| 9966/9973 [03:16<00:00, 45.73it/s]\n",
      "\n",
      "100%|█████████████████████████████████████████████████████████████████████████████▉| 9972/9973 [03:16<00:00, 47.15it/s]\n",
      "\n",
      "100%|██████████████████████████████████████████████████████████████████████████████| 9973/9973 [03:16<00:00, 50.68it/s]"
     ]
    },
    {
     "name": "stdout",
     "output_type": "stream",
     "text": [
      "epoch 0 loss is nan\n",
      "per character loss is nan\n"
     ]
    },
    {
     "name": "stderr",
     "output_type": "stream",
     "text": [
      "\n",
      "\n",
      "  0%|                                                                                         | 0/9973 [00:00<?, ?it/s]"
     ]
    },
    {
     "name": "stdout",
     "output_type": "stream",
     "text": [
      "loss for 0 is nan\n",
      "loss for 1 is nan\n",
      "loss for 2 is nan\n",
      "loss for 3 is nan\n"
     ]
    },
    {
     "name": "stderr",
     "output_type": "stream",
     "text": [
      "\n",
      "\n",
      "  0%|                                                                                 | 4/9973 [00:00<04:44, 35.08it/s]"
     ]
    },
    {
     "name": "stdout",
     "output_type": "stream",
     "text": [
      "loss for 4 is nan\n",
      "loss for 5 is nan\n",
      "loss for 6 is nan\n",
      "loss for 7 is nan\n"
     ]
    },
    {
     "name": "stderr",
     "output_type": "stream",
     "text": [
      "\n",
      "\n",
      "  0%|                                                                                 | 8/9973 [00:00<04:53, 33.96it/s]"
     ]
    },
    {
     "name": "stdout",
     "output_type": "stream",
     "text": [
      "loss for 8 is nan\n",
      "loss for 9 is nan\n",
      "loss for 10 is nan\n"
     ]
    },
    {
     "name": "stderr",
     "output_type": "stream",
     "text": [
      "\n",
      "\n",
      "  0%|                                                                                | 11/9973 [00:00<05:27, 30.45it/s]"
     ]
    },
    {
     "name": "stdout",
     "output_type": "stream",
     "text": [
      "loss for 11 is nan\n",
      "loss for 12 is nan\n",
      "loss for 13 is nan\n"
     ]
    },
    {
     "name": "stderr",
     "output_type": "stream",
     "text": [
      "\n",
      "\n",
      "  0%|                                                                                | 14/9973 [00:00<05:37, 29.48it/s]"
     ]
    },
    {
     "name": "stdout",
     "output_type": "stream",
     "text": [
      "loss for 14 is nan\n",
      "loss for 15 is nan\n",
      "loss for 16 is nan\n",
      "loss for 17 is nan\n"
     ]
    },
    {
     "name": "stderr",
     "output_type": "stream",
     "text": [
      "\n",
      "\n",
      "  0%|▏                                                                               | 18/9973 [00:00<05:29, 30.19it/s]"
     ]
    },
    {
     "name": "stdout",
     "output_type": "stream",
     "text": [
      "loss for 18 is nan\n",
      "loss for 19 is nan\n",
      "loss for 20 is nan\n",
      "loss for 21 is nan\n"
     ]
    },
    {
     "name": "stderr",
     "output_type": "stream",
     "text": [
      "\n",
      "\n",
      "  0%|▏                                                                               | 22/9973 [00:00<05:12, 31.86it/s]"
     ]
    },
    {
     "name": "stdout",
     "output_type": "stream",
     "text": [
      "loss for 22 is nan\n",
      "loss for 23 is nan\n",
      "loss for 24 is nan\n"
     ]
    },
    {
     "name": "stderr",
     "output_type": "stream",
     "text": [
      "\n",
      "\n",
      "  0%|▏                                                                               | 25/9973 [00:00<05:25, 30.58it/s]"
     ]
    },
    {
     "name": "stdout",
     "output_type": "stream",
     "text": [
      "loss for 25 is nan\n",
      "loss for 26 is nan\n",
      "loss for 27 is nan\n",
      "loss for 28 is nan\n"
     ]
    },
    {
     "name": "stderr",
     "output_type": "stream",
     "text": [
      "\n",
      "\n",
      "  0%|▏                                                                               | 29/9973 [00:00<05:34, 29.70it/s]"
     ]
    },
    {
     "name": "stdout",
     "output_type": "stream",
     "text": [
      "loss for 29 is nan\n",
      "loss for 30 is nan\n",
      "loss for 31 is nan\n",
      "loss for 32 is nan\n"
     ]
    },
    {
     "name": "stderr",
     "output_type": "stream",
     "text": [
      "\n",
      "\n",
      "  0%|▎                                                                               | 33/9973 [00:01<05:41, 29.12it/s]"
     ]
    },
    {
     "name": "stdout",
     "output_type": "stream",
     "text": [
      "loss for 33 is nan\n",
      "loss for 34 is nan\n",
      "loss for 35 is nan\n"
     ]
    },
    {
     "name": "stderr",
     "output_type": "stream",
     "text": [
      "\n",
      "\n",
      "  0%|▎                                                                               | 36/9973 [00:01<05:44, 28.81it/s]"
     ]
    },
    {
     "name": "stdout",
     "output_type": "stream",
     "text": [
      "loss for 36 is nan\n",
      "loss for 37 is nan\n",
      "loss for 38 is nan\n"
     ]
    },
    {
     "name": "stderr",
     "output_type": "stream",
     "text": [
      "\n",
      "\n",
      "  0%|▎                                                                               | 39/9973 [00:01<05:55, 27.98it/s]"
     ]
    },
    {
     "name": "stdout",
     "output_type": "stream",
     "text": [
      "loss for 39 is nan\n",
      "loss for 40 is nan\n",
      "loss for 41 is nan\n",
      "loss for 42 is nan\n"
     ]
    },
    {
     "name": "stderr",
     "output_type": "stream",
     "text": [
      "\n",
      "\n",
      "  0%|▎                                                                               | 43/9973 [00:01<05:29, 30.10it/s]"
     ]
    },
    {
     "name": "stdout",
     "output_type": "stream",
     "text": [
      "loss for 43 is nan\n",
      "loss for 44 is nan\n",
      "loss for 45 is nan\n",
      "loss for 46 is nan\n"
     ]
    },
    {
     "name": "stderr",
     "output_type": "stream",
     "text": [
      "\n",
      "\n",
      "  0%|▍                                                                               | 47/9973 [00:01<05:30, 30.03it/s]"
     ]
    },
    {
     "name": "stdout",
     "output_type": "stream",
     "text": [
      "loss for 47 is nan\n",
      "loss for 48 is nan\n",
      "loss for 49 is nan\n",
      "loss for 50 is nan\n"
     ]
    },
    {
     "name": "stderr",
     "output_type": "stream",
     "text": [
      "\n",
      "\n",
      "  1%|▍                                                                               | 51/9973 [00:01<05:24, 30.60it/s]"
     ]
    },
    {
     "name": "stdout",
     "output_type": "stream",
     "text": [
      "loss for 51 is nan\n",
      "loss for 52 is nan\n",
      "loss for 53 is nan\n",
      "loss for 54 is nan\n"
     ]
    },
    {
     "name": "stderr",
     "output_type": "stream",
     "text": [
      "\n",
      "\n",
      "  1%|▍                                                                               | 55/9973 [00:01<05:30, 30.04it/s]"
     ]
    },
    {
     "name": "stdout",
     "output_type": "stream",
     "text": [
      "loss for 55 is nan\n",
      "loss for 56 is nan\n",
      "loss for 57 is nan\n",
      "loss for 58 is nan\n",
      "loss for 59 is nan\n",
      "loss for 60 is nan\n"
     ]
    },
    {
     "name": "stderr",
     "output_type": "stream",
     "text": [
      "\n",
      "\n",
      "  1%|▍                                                                               | 61/9973 [00:01<04:47, 34.44it/s]"
     ]
    },
    {
     "name": "stdout",
     "output_type": "stream",
     "text": [
      "loss for 61 is nan\n",
      "loss for 62 is nan\n",
      "loss for 63 is nan\n",
      "loss for 64 is nan\n"
     ]
    },
    {
     "name": "stderr",
     "output_type": "stream",
     "text": [
      "\n",
      "\n",
      "  1%|▌                                                                               | 65/9973 [00:02<05:05, 32.44it/s]"
     ]
    },
    {
     "name": "stdout",
     "output_type": "stream",
     "text": [
      "loss for 65 is nan\n",
      "loss for 66 is nan\n",
      "loss for 67 is nan\n",
      "loss for 68 is nan\n"
     ]
    },
    {
     "name": "stderr",
     "output_type": "stream",
     "text": [
      "\n",
      "\n",
      "  1%|▌                                                                               | 69/9973 [00:02<05:05, 32.40it/s]"
     ]
    },
    {
     "name": "stdout",
     "output_type": "stream",
     "text": [
      "loss for 69 is nan\n",
      "loss for 70 is nan\n",
      "loss for 71 is nan\n",
      "loss for 72 is nan\n",
      "loss for 73 is nan\n"
     ]
    },
    {
     "name": "stderr",
     "output_type": "stream",
     "text": [
      "\n",
      "\n",
      "  1%|▌                                                                               | 74/9973 [00:02<04:44, 34.85it/s]"
     ]
    },
    {
     "name": "stdout",
     "output_type": "stream",
     "text": [
      "loss for 74 is nan\n",
      "loss for 75 is nan\n",
      "loss for 76 is nan\n",
      "loss for 77 is nan\n"
     ]
    },
    {
     "name": "stderr",
     "output_type": "stream",
     "text": [
      "\n",
      "\n",
      "  1%|▋                                                                               | 78/9973 [00:02<04:39, 35.35it/s]"
     ]
    },
    {
     "name": "stdout",
     "output_type": "stream",
     "text": [
      "loss for 78 is nan\n",
      "loss for 79 is nan\n",
      "loss for 80 is nan\n",
      "loss for 81 is nan\n"
     ]
    },
    {
     "name": "stderr",
     "output_type": "stream",
     "text": [
      "\n",
      "\n",
      "  1%|▋                                                                               | 82/9973 [00:02<04:40, 35.25it/s]"
     ]
    },
    {
     "name": "stdout",
     "output_type": "stream",
     "text": [
      "loss for 82 is nan\n",
      "loss for 83 is nan\n",
      "loss for 84 is nan\n",
      "loss for 85 is nan\n"
     ]
    },
    {
     "name": "stderr",
     "output_type": "stream",
     "text": [
      "\n",
      "\n",
      "  1%|▋                                                                               | 86/9973 [00:02<05:08, 32.09it/s]"
     ]
    },
    {
     "name": "stdout",
     "output_type": "stream",
     "text": [
      "loss for 86 is nan\n",
      "loss for 87 is nan\n",
      "loss for 88 is nan\n",
      "loss for 89 is nan\n"
     ]
    },
    {
     "name": "stderr",
     "output_type": "stream",
     "text": [
      "\n",
      "\n",
      "  1%|▋                                                                               | 90/9973 [00:02<05:24, 30.50it/s]"
     ]
    },
    {
     "name": "stdout",
     "output_type": "stream",
     "text": [
      "loss for 90 is nan\n",
      "loss for 91 is nan\n",
      "loss for 92 is nan\n",
      "loss for 93 is nan\n",
      "loss for 94 is nan\n"
     ]
    },
    {
     "name": "stderr",
     "output_type": "stream",
     "text": [
      "\n",
      "\n",
      "  1%|▊                                                                               | 95/9973 [00:02<04:52, 33.82it/s]"
     ]
    },
    {
     "name": "stdout",
     "output_type": "stream",
     "text": [
      "loss for 95 is nan\n",
      "loss for 96 is nan\n",
      "loss for 97 is nan\n",
      "loss for 98 is nan\n",
      "loss for 99 is nan\n"
     ]
    },
    {
     "name": "stderr",
     "output_type": "stream",
     "text": [
      "\n",
      "\n",
      "  1%|▊                                                                              | 100/9973 [00:03<04:50, 33.95it/s]"
     ]
    },
    {
     "name": "stdout",
     "output_type": "stream",
     "text": [
      "loss for 100 is nan\n"
     ]
    },
    {
     "name": "stderr",
     "output_type": "stream",
     "text": [
      "\n",
      "\n",
      "  1%|▊                                                                              | 104/9973 [00:03<04:41, 35.00it/s]\n",
      "\n",
      "  1%|▊                                                                              | 109/9973 [00:03<04:28, 36.78it/s]\n",
      "\n",
      "  1%|▉                                                                              | 116/9973 [00:03<03:53, 42.16it/s]\n",
      "\n",
      "  1%|▉                                                                              | 121/9973 [00:03<03:57, 41.49it/s]\n",
      "\n",
      "  1%|▉                                                                              | 126/9973 [00:03<04:09, 39.52it/s]\n",
      "\n",
      "  1%|█                                                                              | 131/9973 [00:03<04:27, 36.77it/s]\n",
      "\n",
      "  1%|█                                                                              | 138/9973 [00:03<03:59, 41.06it/s]\n",
      "\n",
      "  1%|█▏                                                                             | 143/9973 [00:04<04:39, 35.12it/s]\n",
      "\n",
      "  1%|█▏                                                                             | 148/9973 [00:04<04:28, 36.58it/s]\n",
      "\n",
      "  2%|█▏                                                                             | 152/9973 [00:04<04:28, 36.58it/s]\n",
      "\n",
      "  2%|█▏                                                                             | 157/9973 [00:04<04:21, 37.55it/s]\n",
      "\n",
      "  2%|█▎                                                                             | 163/9973 [00:04<03:58, 41.08it/s]\n",
      "\n",
      "  2%|█▎                                                                             | 168/9973 [00:04<04:04, 40.15it/s]\n",
      "\n",
      "  2%|█▎                                                                             | 173/9973 [00:04<04:07, 39.55it/s]\n",
      "\n",
      "  2%|█▍                                                                             | 178/9973 [00:05<04:34, 35.67it/s]\n",
      "\n",
      "  2%|█▍                                                                             | 182/9973 [00:05<04:58, 32.81it/s]\n",
      "\n",
      "  2%|█▍                                                                             | 186/9973 [00:05<04:55, 33.09it/s]\n",
      "\n",
      "  2%|█▌                                                                             | 191/9973 [00:05<04:42, 34.61it/s]\n",
      "\n",
      "  2%|█▌                                                                             | 195/9973 [00:05<04:41, 34.77it/s]\n",
      "\n",
      "  2%|█▌                                                                             | 200/9973 [00:05<04:30, 36.19it/s]"
     ]
    },
    {
     "name": "stdout",
     "output_type": "stream",
     "text": [
      "loss for 200 is nan\n"
     ]
    },
    {
     "name": "stderr",
     "output_type": "stream",
     "text": [
      "\n",
      "\n",
      "  2%|█▌                                                                             | 205/9973 [00:05<04:25, 36.77it/s]\n",
      "\n",
      "  2%|█▋                                                                             | 213/9973 [00:05<03:47, 42.87it/s]\n",
      "\n",
      "  2%|█▋                                                                             | 220/9973 [00:06<03:32, 45.95it/s]\n",
      "\n",
      "  2%|█▊                                                                             | 225/9973 [00:06<03:44, 43.35it/s]\n",
      "\n",
      "  2%|█▊                                                                             | 232/9973 [00:06<03:24, 47.53it/s]\n",
      "\n",
      "  2%|█▉                                                                             | 238/9973 [00:06<03:31, 45.96it/s]\n",
      "\n",
      "  2%|█▉                                                                             | 243/9973 [00:06<03:30, 46.33it/s]\n",
      "\n",
      "  2%|█▉                                                                             | 248/9973 [00:06<03:33, 45.55it/s]\n",
      "\n",
      "  3%|██                                                                             | 253/9973 [00:06<03:50, 42.21it/s]\n",
      "\n",
      "  3%|██                                                                             | 258/9973 [00:07<05:10, 31.29it/s]\n",
      "\n",
      "  3%|██                                                                             | 262/9973 [00:07<05:01, 32.18it/s]\n",
      "\n",
      "  3%|██                                                                             | 266/9973 [00:07<05:10, 31.30it/s]\n",
      "\n",
      "  3%|██▏                                                                            | 270/9973 [00:07<07:13, 22.40it/s]\n",
      "\n",
      "  3%|██▏                                                                            | 273/9973 [00:07<06:55, 23.34it/s]\n",
      "\n",
      "  3%|██▏                                                                            | 277/9973 [00:07<06:15, 25.84it/s]\n",
      "\n",
      "  3%|██▏                                                                            | 282/9973 [00:07<05:27, 29.58it/s]\n",
      "\n",
      "  3%|██▎                                                                            | 286/9973 [00:08<05:05, 31.75it/s]\n",
      "\n",
      "  3%|██▎                                                                            | 290/9973 [00:08<05:04, 31.76it/s]\n",
      "\n",
      "  3%|██▎                                                                            | 294/9973 [00:08<04:50, 33.35it/s]\n",
      "\n",
      "  3%|██▎                                                                            | 299/9973 [00:08<04:30, 35.81it/s]"
     ]
    },
    {
     "name": "stdout",
     "output_type": "stream",
     "text": [
      "loss for 300 is nan\n"
     ]
    },
    {
     "name": "stderr",
     "output_type": "stream",
     "text": [
      "\n",
      "\n",
      "  3%|██▍                                                                            | 303/9973 [00:08<04:39, 34.58it/s]\n",
      "\n",
      "  3%|██▍                                                                            | 308/9973 [00:08<04:19, 37.31it/s]\n",
      "\n",
      "  3%|██▍                                                                            | 315/9973 [00:08<03:49, 42.08it/s]\n",
      "\n",
      "  3%|██▌                                                                            | 320/9973 [00:08<03:49, 42.04it/s]\n",
      "\n",
      "  3%|██▌                                                                            | 325/9973 [00:09<03:45, 42.86it/s]\n",
      "\n",
      "  3%|██▌                                                                            | 331/9973 [00:09<03:27, 46.50it/s]\n",
      "\n",
      "  3%|██▋                                                                            | 336/9973 [00:09<03:35, 44.74it/s]\n",
      "\n",
      "  3%|██▋                                                                            | 341/9973 [00:09<03:34, 44.96it/s]\n",
      "\n",
      "  3%|██▋                                                                            | 346/9973 [00:09<03:42, 43.35it/s]\n",
      "\n",
      "  4%|██▊                                                                            | 351/9973 [00:09<03:38, 44.04it/s]\n",
      "\n",
      "  4%|██▊                                                                            | 356/9973 [00:09<03:44, 42.75it/s]\n",
      "\n",
      "  4%|██▊                                                                            | 362/9973 [00:09<03:29, 45.95it/s]\n",
      "\n",
      "  4%|██▉                                                                            | 367/9973 [00:09<03:32, 45.26it/s]\n",
      "\n",
      "  4%|██▉                                                                            | 372/9973 [00:10<03:43, 42.98it/s]\n",
      "\n",
      "  4%|██▉                                                                            | 377/9973 [00:10<03:53, 41.13it/s]\n",
      "\n",
      "  4%|███                                                                            | 382/9973 [00:10<04:22, 36.59it/s]\n",
      "\n",
      "  4%|███                                                                            | 387/9973 [00:10<04:15, 37.55it/s]\n",
      "\n",
      "  4%|███                                                                            | 394/9973 [00:10<03:43, 42.87it/s]\n",
      "\n",
      "  4%|███▏                                                                           | 399/9973 [00:10<03:39, 43.69it/s]"
     ]
    },
    {
     "name": "stdout",
     "output_type": "stream",
     "text": [
      "loss for 400 is nan\n"
     ]
    },
    {
     "name": "stderr",
     "output_type": "stream",
     "text": [
      "\n",
      "\n",
      "  4%|███▏                                                                           | 406/9973 [00:10<03:17, 48.46it/s]\n",
      "\n",
      "  4%|███▎                                                                           | 412/9973 [00:10<03:25, 46.46it/s]\n",
      "\n",
      "  4%|███▎                                                                           | 417/9973 [00:11<03:37, 43.95it/s]\n",
      "\n",
      "  4%|███▎                                                                           | 422/9973 [00:11<03:33, 44.78it/s]\n",
      "\n",
      "  4%|███▍                                                                           | 427/9973 [00:11<04:06, 38.79it/s]\n",
      "\n",
      "  4%|███▍                                                                           | 432/9973 [00:11<05:17, 30.07it/s]\n",
      "\n",
      "  4%|███▍                                                                           | 436/9973 [00:11<04:59, 31.87it/s]\n",
      "\n",
      "  4%|███▍                                                                           | 440/9973 [00:11<04:55, 32.30it/s]\n",
      "\n",
      "  4%|███▌                                                                           | 444/9973 [00:11<04:43, 33.59it/s]\n",
      "\n",
      "  4%|███▌                                                                           | 448/9973 [00:12<07:15, 21.86it/s]\n",
      "\n",
      "  5%|███▌                                                                           | 451/9973 [00:12<07:02, 22.51it/s]\n",
      "\n",
      "  5%|███▌                                                                           | 454/9973 [00:12<06:34, 24.10it/s]\n",
      "\n",
      "  5%|███▋                                                                           | 461/9973 [00:12<05:26, 29.10it/s]\n",
      "\n",
      "  5%|███▋                                                                           | 465/9973 [00:12<06:08, 25.81it/s]\n",
      "\n",
      "  5%|███▋                                                                           | 469/9973 [00:12<06:00, 26.37it/s]\n",
      "\n",
      "  5%|███▊                                                                           | 476/9973 [00:13<04:56, 32.07it/s]\n",
      "\n",
      "  5%|███▊                                                                           | 481/9973 [00:13<05:00, 31.58it/s]\n",
      "\n",
      "  5%|███▊                                                                           | 485/9973 [00:13<04:44, 33.37it/s]\n",
      "\n",
      "  5%|███▉                                                                           | 492/9973 [00:13<04:04, 38.76it/s]\n",
      "\n",
      "  5%|███▉                                                                           | 497/9973 [00:13<04:00, 39.34it/s]"
     ]
    },
    {
     "name": "stdout",
     "output_type": "stream",
     "text": [
      "loss for 500 is nan\n"
     ]
    },
    {
     "name": "stderr",
     "output_type": "stream",
     "text": [
      "\n",
      "\n",
      "  5%|███▉                                                                           | 502/9973 [00:13<04:01, 39.30it/s]\n",
      "\n",
      "  5%|████                                                                           | 508/9973 [00:13<03:41, 42.66it/s]\n",
      "\n",
      "  5%|████                                                                           | 513/9973 [00:13<03:51, 40.91it/s]\n",
      "\n",
      "  5%|████                                                                           | 518/9973 [00:14<03:52, 40.68it/s]\n",
      "\n",
      "  5%|████▏                                                                          | 523/9973 [00:14<04:11, 37.56it/s]\n",
      "\n",
      "  5%|████▏                                                                          | 527/9973 [00:14<04:17, 36.70it/s]\n",
      "\n",
      "  5%|████▏                                                                          | 531/9973 [00:14<04:32, 34.64it/s]\n",
      "\n",
      "  5%|████▏                                                                          | 536/9973 [00:14<04:15, 36.97it/s]\n",
      "\n",
      "  5%|████▎                                                                          | 541/9973 [00:14<03:57, 39.70it/s]\n",
      "\n",
      "  5%|████▎                                                                          | 546/9973 [00:14<03:59, 39.38it/s]\n",
      "\n",
      "  6%|████▎                                                                          | 551/9973 [00:14<03:59, 39.42it/s]\n",
      "\n",
      "  6%|████▍                                                                          | 558/9973 [00:15<03:35, 43.75it/s]\n",
      "\n",
      "  6%|████▍                                                                          | 563/9973 [00:15<03:35, 43.73it/s]\n",
      "\n",
      "  6%|████▍                                                                          | 568/9973 [00:15<03:43, 42.13it/s]\n",
      "\n",
      "  6%|████▌                                                                          | 574/9973 [00:15<03:35, 43.68it/s]\n",
      "\n",
      "  6%|████▌                                                                          | 579/9973 [00:15<04:09, 37.70it/s]\n",
      "\n",
      "  6%|████▌                                                                          | 583/9973 [00:15<05:20, 29.27it/s]\n",
      "\n",
      "  6%|████▋                                                                          | 589/9973 [00:15<04:42, 33.21it/s]\n",
      "\n",
      "  6%|████▋                                                                          | 593/9973 [00:16<04:53, 31.97it/s]\n",
      "\n",
      "  6%|████▋                                                                          | 597/9973 [00:16<05:12, 30.03it/s]"
     ]
    },
    {
     "name": "stdout",
     "output_type": "stream",
     "text": [
      "loss for 600 is nan\n"
     ]
    },
    {
     "name": "stderr",
     "output_type": "stream",
     "text": [
      "\n",
      "\n",
      "  6%|████▊                                                                          | 603/9973 [00:16<04:43, 33.00it/s]\n",
      "\n",
      "  6%|████▊                                                                          | 607/9973 [00:16<05:05, 30.66it/s]\n",
      "\n",
      "  6%|████▊                                                                          | 611/9973 [00:16<06:22, 24.49it/s]\n",
      "\n",
      "  6%|████▉                                                                          | 617/9973 [00:16<05:23, 28.92it/s]\n",
      "\n",
      "  6%|████▉                                                                          | 621/9973 [00:17<04:59, 31.24it/s]\n",
      "\n",
      "  6%|████▉                                                                          | 625/9973 [00:17<04:45, 32.78it/s]\n",
      "\n",
      "  6%|████▉                                                                          | 631/9973 [00:17<04:12, 37.05it/s]\n",
      "\n",
      "  6%|█████                                                                          | 636/9973 [00:17<03:53, 39.98it/s]\n",
      "\n",
      "  6%|█████                                                                          | 642/9973 [00:17<03:38, 42.74it/s]\n",
      "\n",
      "  6%|█████▏                                                                         | 647/9973 [00:17<03:48, 40.80it/s]\n",
      "\n",
      "  7%|█████▏                                                                         | 652/9973 [00:17<03:36, 42.96it/s]\n",
      "\n",
      "  7%|█████▏                                                                         | 657/9973 [00:17<03:40, 42.25it/s]\n",
      "\n",
      "  7%|█████▎                                                                         | 663/9973 [00:17<03:22, 45.92it/s]\n",
      "\n",
      "  7%|█████▎                                                                         | 668/9973 [00:18<03:19, 46.70it/s]\n",
      "\n",
      "  7%|█████▎                                                                         | 673/9973 [00:18<03:26, 44.93it/s]\n",
      "\n",
      "  7%|█████▍                                                                         | 681/9973 [00:18<03:03, 50.75it/s]\n",
      "\n",
      "  7%|█████▍                                                                         | 688/9973 [00:18<02:56, 52.57it/s]\n",
      "\n",
      "  7%|█████▍                                                                         | 694/9973 [00:18<03:38, 42.52it/s]\n",
      "\n",
      "  7%|█████▌                                                                         | 699/9973 [00:18<04:52, 31.66it/s]"
     ]
    },
    {
     "name": "stdout",
     "output_type": "stream",
     "text": [
      "loss for 700 is nan\n"
     ]
    },
    {
     "name": "stderr",
     "output_type": "stream",
     "text": [
      "\n",
      "\n",
      "  7%|█████▌                                                                         | 704/9973 [00:18<04:22, 35.28it/s]\n",
      "\n",
      "  7%|█████▌                                                                         | 709/9973 [00:19<04:23, 35.11it/s]\n",
      "\n",
      "  7%|█████▋                                                                         | 713/9973 [00:19<04:33, 33.85it/s]\n",
      "\n",
      "  7%|█████▋                                                                         | 717/9973 [00:19<05:02, 30.60it/s]\n",
      "\n",
      "  7%|█████▋                                                                         | 721/9973 [00:19<04:49, 31.98it/s]\n",
      "\n",
      "  7%|█████▊                                                                         | 727/9973 [00:19<04:08, 37.19it/s]\n",
      "\n",
      "  7%|█████▊                                                                         | 732/9973 [00:19<04:09, 37.06it/s]\n",
      "\n",
      "  7%|█████▊                                                                         | 737/9973 [00:19<04:16, 36.01it/s]\n",
      "\n",
      "  7%|█████▉                                                                         | 743/9973 [00:19<03:54, 39.31it/s]\n",
      "\n",
      "  8%|█████▉                                                                         | 748/9973 [00:20<04:39, 33.02it/s]\n",
      "\n",
      "  8%|█████▉                                                                         | 752/9973 [00:20<05:47, 26.52it/s]\n",
      "\n",
      "  8%|█████▉                                                                         | 757/9973 [00:20<05:09, 29.77it/s]\n",
      "\n",
      "  8%|██████                                                                         | 764/9973 [00:20<04:28, 34.28it/s]\n",
      "\n",
      "  8%|██████                                                                         | 768/9973 [00:20<04:41, 32.66it/s]\n",
      "\n",
      "  8%|██████                                                                         | 772/9973 [00:20<04:51, 31.61it/s]\n",
      "\n",
      "  8%|██████▏                                                                        | 776/9973 [00:21<05:02, 30.36it/s]\n",
      "\n",
      "  8%|██████▏                                                                        | 780/9973 [00:21<04:54, 31.19it/s]\n",
      "\n",
      "  8%|██████▏                                                                        | 784/9973 [00:21<04:57, 30.92it/s]\n",
      "\n",
      "  8%|██████▏                                                                        | 788/9973 [00:21<04:45, 32.22it/s]\n",
      "\n",
      "  8%|██████▎                                                                        | 793/9973 [00:21<04:21, 35.15it/s]\n",
      "\n",
      "  8%|██████▎                                                                        | 797/9973 [00:21<04:30, 33.88it/s]"
     ]
    },
    {
     "name": "stdout",
     "output_type": "stream",
     "text": [
      "loss for 800 is nan\n"
     ]
    },
    {
     "name": "stderr",
     "output_type": "stream",
     "text": [
      "\n",
      "\n",
      "  8%|██████▎                                                                        | 801/9973 [00:21<04:34, 33.38it/s]\n",
      "\n",
      "  8%|██████▍                                                                        | 805/9973 [00:21<04:40, 32.71it/s]\n",
      "\n",
      "  8%|██████▍                                                                        | 809/9973 [00:22<04:44, 32.26it/s]\n",
      "\n",
      "  8%|██████▍                                                                        | 813/9973 [00:22<04:38, 32.89it/s]\n",
      "\n",
      "  8%|██████▍                                                                        | 817/9973 [00:22<04:31, 33.69it/s]\n",
      "\n",
      "  8%|██████▌                                                                        | 821/9973 [00:22<04:40, 32.60it/s]\n",
      "\n",
      "  8%|██████▌                                                                        | 825/9973 [00:22<04:33, 33.47it/s]\n",
      "\n",
      "  8%|██████▌                                                                        | 829/9973 [00:22<04:28, 34.12it/s]\n",
      "\n",
      "  8%|██████▌                                                                        | 833/9973 [00:22<04:35, 33.20it/s]\n",
      "\n",
      "  8%|██████▋                                                                        | 838/9973 [00:22<04:24, 34.56it/s]\n",
      "\n",
      "  8%|██████▋                                                                        | 842/9973 [00:23<04:26, 34.25it/s]\n",
      "\n",
      "  8%|██████▋                                                                        | 846/9973 [00:23<04:25, 34.32it/s]\n",
      "\n",
      "  9%|██████▋                                                                        | 850/9973 [00:23<04:19, 35.09it/s]\n",
      "\n",
      "  9%|██████▊                                                                        | 855/9973 [00:23<04:07, 36.84it/s]\n",
      "\n",
      "  9%|██████▊                                                                        | 859/9973 [00:23<04:12, 36.10it/s]\n",
      "\n",
      "  9%|██████▊                                                                        | 864/9973 [00:23<04:02, 37.60it/s]\n",
      "\n",
      "  9%|██████▉                                                                        | 869/9973 [00:23<03:50, 39.49it/s]\n",
      "\n",
      "  9%|██████▉                                                                        | 876/9973 [00:23<03:24, 44.42it/s]\n",
      "\n",
      "  9%|██████▉                                                                        | 882/9973 [00:23<03:15, 46.56it/s]\n",
      "\n",
      "  9%|███████                                                                        | 887/9973 [00:24<03:38, 41.50it/s]\n",
      "\n",
      "  9%|███████                                                                        | 892/9973 [00:24<03:40, 41.14it/s]\n",
      "\n",
      "  9%|███████                                                                        | 897/9973 [00:24<03:50, 39.35it/s]"
     ]
    },
    {
     "name": "stdout",
     "output_type": "stream",
     "text": [
      "loss for 900 is nan\n"
     ]
    },
    {
     "name": "stderr",
     "output_type": "stream",
     "text": [
      "\n",
      "\n",
      "  9%|███████▏                                                                       | 902/9973 [00:24<04:04, 37.16it/s]\n",
      "\n",
      "  9%|███████▏                                                                       | 906/9973 [00:24<04:12, 35.92it/s]\n",
      "\n",
      "  9%|███████▏                                                                       | 911/9973 [00:24<04:01, 37.47it/s]\n",
      "\n",
      "  9%|███████▎                                                                       | 916/9973 [00:24<03:49, 39.44it/s]\n",
      "\n",
      "  9%|███████▎                                                                       | 921/9973 [00:24<03:55, 38.46it/s]\n",
      "\n",
      "  9%|███████▎                                                                       | 925/9973 [00:25<04:08, 36.36it/s]\n",
      "\n",
      "  9%|███████▎                                                                       | 930/9973 [00:25<03:54, 38.50it/s]\n",
      "\n",
      "  9%|███████▍                                                                       | 935/9973 [00:25<03:45, 40.16it/s]\n",
      "\n",
      "  9%|███████▍                                                                       | 940/9973 [00:25<03:35, 41.82it/s]\n",
      "\n",
      "  9%|███████▍                                                                       | 945/9973 [00:25<03:49, 39.41it/s]\n",
      "\n",
      " 10%|███████▌                                                                       | 950/9973 [00:25<03:45, 40.06it/s]\n",
      "\n",
      " 10%|███████▌                                                                       | 955/9973 [00:25<03:40, 40.93it/s]\n",
      "\n",
      " 10%|███████▌                                                                       | 960/9973 [00:25<03:30, 42.84it/s]\n",
      "\n",
      " 10%|███████▋                                                                       | 966/9973 [00:26<03:17, 45.58it/s]\n",
      "\n",
      " 10%|███████▋                                                                       | 971/9973 [00:26<03:18, 45.29it/s]\n",
      "\n",
      " 10%|███████▋                                                                       | 976/9973 [00:26<03:28, 43.22it/s]\n",
      "\n",
      " 10%|███████▊                                                                       | 981/9973 [00:26<03:43, 40.27it/s]\n",
      "\n",
      " 10%|███████▊                                                                       | 986/9973 [00:26<03:40, 40.68it/s]\n",
      "\n",
      " 10%|███████▊                                                                       | 992/9973 [00:26<03:28, 43.09it/s]\n",
      "\n",
      " 10%|███████▉                                                                       | 998/9973 [00:26<03:12, 46.63it/s]"
     ]
    },
    {
     "name": "stdout",
     "output_type": "stream",
     "text": [
      "loss for 1000 is nan\n"
     ]
    },
    {
     "name": "stderr",
     "output_type": "stream",
     "text": [
      "\n",
      "\n",
      " 10%|███████▊                                                                      | 1003/9973 [00:26<03:27, 43.15it/s]\n",
      "\n",
      " 10%|███████▉                                                                      | 1008/9973 [00:27<03:36, 41.42it/s]\n",
      "\n",
      " 10%|███████▉                                                                      | 1013/9973 [00:27<03:55, 38.08it/s]\n",
      "\n",
      " 10%|███████▉                                                                      | 1020/9973 [00:27<03:26, 43.46it/s]\n",
      "\n",
      " 10%|████████                                                                      | 1025/9973 [00:27<03:30, 42.47it/s]\n",
      "\n",
      " 10%|████████                                                                      | 1032/9973 [00:27<03:08, 47.37it/s]\n",
      "\n",
      " 10%|████████                                                                      | 1038/9973 [00:27<03:28, 42.78it/s]\n",
      "\n",
      " 10%|████████▏                                                                     | 1043/9973 [00:27<03:49, 38.87it/s]\n",
      "\n",
      " 11%|████████▏                                                                     | 1048/9973 [00:28<04:02, 36.86it/s]\n",
      "\n",
      " 11%|████████▏                                                                     | 1052/9973 [00:28<03:58, 37.33it/s]\n",
      "\n",
      " 11%|████████▎                                                                     | 1058/9973 [00:28<03:37, 41.06it/s]\n",
      "\n",
      " 11%|████████▎                                                                     | 1063/9973 [00:28<03:38, 40.84it/s]\n",
      "\n",
      " 11%|████████▎                                                                     | 1068/9973 [00:28<03:43, 39.87it/s]\n",
      "\n",
      " 11%|████████▍                                                                     | 1075/9973 [00:28<03:19, 44.52it/s]\n",
      "\n",
      " 11%|████████▍                                                                     | 1080/9973 [00:28<03:20, 44.38it/s]\n",
      "\n",
      " 11%|████████▍                                                                     | 1086/9973 [00:28<03:07, 47.48it/s]\n",
      "\n",
      " 11%|████████▌                                                                     | 1093/9973 [00:28<02:53, 51.33it/s]\n",
      "\n",
      " 11%|████████▌                                                                     | 1099/9973 [00:29<02:58, 49.66it/s]"
     ]
    },
    {
     "name": "stdout",
     "output_type": "stream",
     "text": [
      "loss for 1100 is nan\n"
     ]
    },
    {
     "name": "stderr",
     "output_type": "stream",
     "text": [
      "\n",
      "\n",
      " 11%|████████▋                                                                     | 1105/9973 [00:29<03:06, 47.61it/s]\n",
      "\n",
      " 11%|████████▋                                                                     | 1110/9973 [00:29<03:15, 45.43it/s]\n",
      "\n",
      " 11%|████████▋                                                                     | 1115/9973 [00:29<03:14, 45.52it/s]\n",
      "\n",
      " 11%|████████▊                                                                     | 1120/9973 [00:29<03:14, 45.58it/s]\n",
      "\n",
      " 11%|████████▊                                                                     | 1128/9973 [00:29<02:52, 51.25it/s]\n",
      "\n",
      " 11%|████████▊                                                                     | 1134/9973 [00:29<03:10, 46.40it/s]\n",
      "\n",
      " 11%|████████▉                                                                     | 1139/9973 [00:29<03:18, 44.55it/s]\n",
      "\n",
      " 11%|████████▉                                                                     | 1144/9973 [00:30<03:25, 42.91it/s]\n",
      "\n",
      " 12%|█████████                                                                     | 1153/9973 [00:30<03:01, 48.73it/s]\n",
      "\n",
      " 12%|█████████                                                                     | 1159/9973 [00:30<02:53, 50.74it/s]\n",
      "\n",
      " 12%|█████████                                                                     | 1166/9973 [00:30<02:42, 54.10it/s]\n",
      "\n",
      " 12%|█████████▏                                                                    | 1172/9973 [00:30<02:44, 53.50it/s]\n",
      "\n",
      " 12%|█████████▏                                                                    | 1181/9973 [00:30<02:31, 58.20it/s]\n",
      "\n",
      " 12%|█████████▎                                                                    | 1188/9973 [00:30<02:43, 53.74it/s]\n",
      "\n",
      " 12%|█████████▎                                                                    | 1194/9973 [00:30<02:50, 51.63it/s]\n",
      "\n",
      " 12%|█████████▍                                                                    | 1200/9973 [00:31<03:11, 45.81it/s]"
     ]
    },
    {
     "name": "stdout",
     "output_type": "stream",
     "text": [
      "loss for 1200 is nan\n"
     ]
    },
    {
     "name": "stderr",
     "output_type": "stream",
     "text": [
      "\n",
      "\n",
      " 12%|█████████▍                                                                    | 1205/9973 [00:31<03:14, 45.00it/s]\n",
      "\n",
      " 12%|█████████▍                                                                    | 1210/9973 [00:31<03:13, 45.24it/s]\n",
      "\n",
      " 12%|█████████▌                                                                    | 1215/9973 [00:31<03:14, 44.93it/s]\n",
      "\n",
      " 12%|█████████▌                                                                    | 1220/9973 [00:31<03:10, 45.88it/s]\n",
      "\n",
      " 12%|█████████▌                                                                    | 1225/9973 [00:31<03:10, 45.83it/s]\n",
      "\n",
      " 12%|█████████▌                                                                    | 1230/9973 [00:31<03:19, 43.76it/s]\n",
      "\n",
      " 12%|█████████▋                                                                    | 1235/9973 [00:31<03:28, 41.84it/s]\n",
      "\n",
      " 12%|█████████▋                                                                    | 1240/9973 [00:32<03:24, 42.78it/s]\n",
      "\n",
      " 12%|█████████▋                                                                    | 1245/9973 [00:32<03:24, 42.64it/s]\n",
      "\n",
      " 13%|█████████▊                                                                    | 1250/9973 [00:32<03:27, 42.14it/s]\n",
      "\n",
      " 13%|█████████▊                                                                    | 1255/9973 [00:32<03:55, 36.97it/s]\n",
      "\n",
      " 13%|█████████▊                                                                    | 1259/9973 [00:32<04:11, 34.68it/s]\n",
      "\n",
      " 13%|█████████▉                                                                    | 1263/9973 [00:32<04:11, 34.62it/s]\n",
      "\n",
      " 13%|█████████▉                                                                    | 1269/9973 [00:32<03:44, 38.73it/s]\n",
      "\n",
      " 13%|█████████▉                                                                    | 1274/9973 [00:32<04:04, 35.52it/s]\n",
      "\n",
      " 13%|█████████▉                                                                    | 1278/9973 [00:33<04:43, 30.67it/s]\n",
      "\n",
      " 13%|██████████                                                                    | 1282/9973 [00:33<05:05, 28.47it/s]\n",
      "\n",
      " 13%|██████████                                                                    | 1286/9973 [00:33<05:10, 28.02it/s]\n",
      "\n",
      " 13%|██████████                                                                    | 1291/9973 [00:33<04:39, 31.07it/s]\n",
      "\n",
      " 13%|██████████▏                                                                   | 1295/9973 [00:33<04:54, 29.48it/s]\n",
      "\n",
      " 13%|██████████▏                                                                   | 1299/9973 [00:33<04:59, 28.94it/s]"
     ]
    },
    {
     "name": "stdout",
     "output_type": "stream",
     "text": [
      "loss for 1300 is nan\n"
     ]
    },
    {
     "name": "stderr",
     "output_type": "stream",
     "text": [
      "\n",
      "\n",
      " 13%|██████████▏                                                                   | 1304/9973 [00:33<04:34, 31.62it/s]\n",
      "\n",
      " 13%|██████████▏                                                                   | 1308/9973 [00:34<05:03, 28.54it/s]\n",
      "\n",
      " 13%|██████████▎                                                                   | 1312/9973 [00:34<04:58, 29.05it/s]\n",
      "\n",
      " 13%|██████████▎                                                                   | 1318/9973 [00:34<04:11, 34.37it/s]\n",
      "\n",
      " 13%|██████████▎                                                                   | 1322/9973 [00:34<04:11, 34.40it/s]\n",
      "\n",
      " 13%|██████████▎                                                                   | 1326/9973 [00:34<04:08, 34.79it/s]\n",
      "\n",
      " 13%|██████████▍                                                                   | 1330/9973 [00:34<04:24, 32.65it/s]\n",
      "\n",
      " 13%|██████████▍                                                                   | 1334/9973 [00:34<04:46, 30.18it/s]\n",
      "\n",
      " 13%|██████████▍                                                                   | 1338/9973 [00:35<04:43, 30.49it/s]\n",
      "\n",
      " 13%|██████████▌                                                                   | 1344/9973 [00:35<04:04, 35.26it/s]\n",
      "\n",
      " 14%|██████████▌                                                                   | 1348/9973 [00:35<04:11, 34.31it/s]\n",
      "\n",
      " 14%|██████████▌                                                                   | 1353/9973 [00:35<03:51, 37.20it/s]\n",
      "\n",
      " 14%|██████████▋                                                                   | 1359/9973 [00:35<03:32, 40.62it/s]\n",
      "\n",
      " 14%|██████████▋                                                                   | 1364/9973 [00:35<03:38, 39.38it/s]\n",
      "\n",
      " 14%|██████████▋                                                                   | 1369/9973 [00:35<03:34, 40.04it/s]\n",
      "\n",
      " 14%|██████████▋                                                                   | 1374/9973 [00:35<04:07, 34.77it/s]\n",
      "\n",
      " 14%|██████████▊                                                                   | 1378/9973 [00:36<04:02, 35.42it/s]\n",
      "\n",
      " 14%|██████████▊                                                                   | 1383/9973 [00:36<03:42, 38.61it/s]\n",
      "\n",
      " 14%|██████████▊                                                                   | 1388/9973 [00:36<03:32, 40.43it/s]\n",
      "\n",
      " 14%|██████████▉                                                                   | 1393/9973 [00:36<03:32, 40.39it/s]\n",
      "\n",
      " 14%|██████████▉                                                                   | 1398/9973 [00:36<03:44, 38.20it/s]"
     ]
    },
    {
     "name": "stdout",
     "output_type": "stream",
     "text": [
      "loss for 1400 is nan\n"
     ]
    },
    {
     "name": "stderr",
     "output_type": "stream",
     "text": [
      "\n",
      "\n",
      " 14%|██████████▉                                                                   | 1403/9973 [00:36<03:32, 40.42it/s]\n",
      "\n",
      " 14%|███████████                                                                   | 1408/9973 [00:36<03:23, 42.02it/s]\n",
      "\n",
      " 14%|███████████                                                                   | 1414/9973 [00:36<03:13, 44.13it/s]\n",
      "\n",
      " 14%|███████████                                                                   | 1419/9973 [00:37<03:37, 39.28it/s]\n",
      "\n",
      " 14%|███████████▏                                                                  | 1425/9973 [00:37<03:20, 42.69it/s]\n",
      "\n",
      " 14%|███████████▏                                                                  | 1430/9973 [00:37<03:19, 42.82it/s]\n",
      "\n",
      " 14%|███████████▏                                                                  | 1435/9973 [00:37<03:18, 43.03it/s]\n",
      "\n",
      " 14%|███████████▎                                                                  | 1440/9973 [00:37<03:51, 36.80it/s]\n",
      "\n",
      " 15%|███████████▎                                                                  | 1451/9973 [00:37<03:10, 44.85it/s]\n",
      "\n",
      " 15%|███████████▍                                                                  | 1457/9973 [00:37<03:26, 41.31it/s]\n",
      "\n",
      " 15%|███████████▍                                                                  | 1462/9973 [00:37<03:37, 39.09it/s]\n",
      "\n",
      " 15%|███████████▍                                                                  | 1467/9973 [00:38<03:35, 39.45it/s]\n",
      "\n",
      " 15%|███████████▌                                                                  | 1473/9973 [00:38<03:16, 43.21it/s]\n",
      "\n",
      " 15%|███████████▌                                                                  | 1479/9973 [00:38<03:02, 46.54it/s]\n",
      "\n",
      " 15%|███████████▌                                                                  | 1484/9973 [00:38<03:21, 42.22it/s]\n",
      "\n",
      " 15%|███████████▋                                                                  | 1489/9973 [00:38<03:35, 39.28it/s]\n",
      "\n",
      " 15%|███████████▋                                                                  | 1496/9973 [00:38<03:13, 43.87it/s]"
     ]
    },
    {
     "name": "stdout",
     "output_type": "stream",
     "text": [
      "loss for 1500 is nan\n"
     ]
    },
    {
     "name": "stderr",
     "output_type": "stream",
     "text": [
      "\n",
      "\n",
      " 15%|███████████▋                                                                  | 1501/9973 [00:38<03:34, 39.50it/s]\n",
      "\n",
      " 15%|███████████▊                                                                  | 1506/9973 [00:39<03:37, 39.00it/s]\n",
      "\n",
      " 15%|███████████▉                                                                  | 1520/9973 [00:39<02:52, 49.12it/s]\n",
      "\n",
      " 15%|███████████▉                                                                  | 1527/9973 [00:39<03:18, 42.61it/s]\n",
      "\n",
      " 15%|███████████▉                                                                  | 1533/9973 [00:39<03:27, 40.61it/s]\n",
      "\n",
      " 15%|████████████                                                                  | 1542/9973 [00:39<02:56, 47.68it/s]\n",
      "\n",
      " 16%|████████████                                                                  | 1548/9973 [00:39<03:02, 46.12it/s]\n",
      "\n",
      " 16%|████████████▏                                                                 | 1554/9973 [00:39<03:06, 45.09it/s]\n",
      "\n",
      " 16%|████████████▏                                                                 | 1560/9973 [00:40<03:14, 43.25it/s]\n",
      "\n",
      " 16%|████████████▏                                                                 | 1565/9973 [00:40<03:16, 42.76it/s]\n",
      "\n",
      " 16%|████████████▎                                                                 | 1573/9973 [00:40<02:55, 47.91it/s]\n",
      "\n",
      " 16%|████████████▎                                                                 | 1581/9973 [00:40<02:36, 53.59it/s]\n",
      "\n",
      " 16%|████████████▍                                                                 | 1589/9973 [00:40<02:25, 57.43it/s]\n",
      "\n",
      " 16%|████████████▍                                                                 | 1597/9973 [00:40<02:15, 61.97it/s]"
     ]
    },
    {
     "name": "stdout",
     "output_type": "stream",
     "text": [
      "loss for 1600 is nan\n"
     ]
    },
    {
     "name": "stderr",
     "output_type": "stream",
     "text": [
      "\n",
      "\n",
      " 16%|████████████▌                                                                 | 1604/9973 [00:40<02:54, 47.86it/s]\n",
      "\n",
      " 16%|████████████▌                                                                 | 1610/9973 [00:40<02:50, 48.95it/s]\n",
      "\n",
      " 16%|████████████▋                                                                 | 1617/9973 [00:41<02:39, 52.39it/s]\n",
      "\n",
      " 16%|████████████▋                                                                 | 1624/9973 [00:41<02:30, 55.43it/s]\n",
      "\n",
      " 16%|████████████▊                                                                 | 1633/9973 [00:41<02:13, 62.48it/s]\n",
      "\n",
      " 16%|████████████▊                                                                 | 1641/9973 [00:41<02:07, 65.34it/s]\n",
      "\n",
      " 17%|████████████▉                                                                 | 1649/9973 [00:41<02:01, 68.76it/s]\n",
      "\n",
      " 17%|████████████▉                                                                 | 1659/9973 [00:41<01:53, 73.21it/s]\n",
      "\n",
      " 17%|█████████████                                                                 | 1667/9973 [00:41<02:09, 64.31it/s]\n",
      "\n",
      " 17%|█████████████                                                                 | 1674/9973 [00:41<02:35, 53.28it/s]\n",
      "\n",
      " 17%|█████████████▏                                                                | 1680/9973 [00:42<02:50, 48.69it/s]\n",
      "\n",
      " 17%|█████████████▏                                                                | 1686/9973 [00:42<02:58, 46.35it/s]\n",
      "\n",
      " 17%|█████████████▏                                                                | 1692/9973 [00:42<02:59, 46.07it/s]\n",
      "\n",
      " 17%|█████████████▎                                                                | 1697/9973 [00:42<03:12, 42.93it/s]"
     ]
    },
    {
     "name": "stdout",
     "output_type": "stream",
     "text": [
      "loss for 1700 is nan\n"
     ]
    },
    {
     "name": "stderr",
     "output_type": "stream",
     "text": [
      "\n",
      "\n",
      " 17%|█████████████▎                                                                | 1702/9973 [00:42<03:05, 44.60it/s]\n",
      "\n",
      " 17%|█████████████▎                                                                | 1710/9973 [00:42<02:44, 50.27it/s]\n",
      "\n",
      " 17%|█████████████▍                                                                | 1716/9973 [00:42<02:39, 51.75it/s]\n",
      "\n",
      " 17%|█████████████▍                                                                | 1722/9973 [00:42<03:00, 45.62it/s]\n",
      "\n",
      " 17%|█████████████▌                                                                | 1727/9973 [00:43<03:01, 45.45it/s]\n",
      "\n",
      " 17%|█████████████▌                                                                | 1732/9973 [00:43<03:01, 45.45it/s]\n",
      "\n",
      " 17%|█████████████▌                                                                | 1737/9973 [00:43<03:22, 40.69it/s]\n",
      "\n",
      " 17%|█████████████▌                                                                | 1742/9973 [00:43<03:30, 39.06it/s]\n",
      "\n",
      " 18%|█████████████▋                                                                | 1747/9973 [00:43<03:38, 37.65it/s]\n",
      "\n",
      " 18%|█████████████▋                                                                | 1752/9973 [00:43<03:28, 39.51it/s]\n",
      "\n",
      " 18%|█████████████▋                                                                | 1757/9973 [00:43<03:22, 40.52it/s]\n",
      "\n",
      " 18%|█████████████▊                                                                | 1762/9973 [00:44<03:22, 40.46it/s]\n",
      "\n",
      " 18%|█████████████▊                                                                | 1770/9973 [00:44<02:53, 47.17it/s]\n",
      "\n",
      " 18%|█████████████▉                                                                | 1776/9973 [00:44<02:44, 49.90it/s]\n",
      "\n",
      " 18%|█████████████▉                                                                | 1783/9973 [00:44<02:37, 52.16it/s]\n",
      "\n",
      " 18%|█████████████▉                                                                | 1789/9973 [00:44<02:48, 48.50it/s]\n",
      "\n",
      " 18%|██████████████                                                                | 1795/9973 [00:44<02:56, 46.22it/s]\n",
      "\n",
      " 18%|██████████████                                                                | 1800/9973 [00:44<03:00, 45.24it/s]"
     ]
    },
    {
     "name": "stdout",
     "output_type": "stream",
     "text": [
      "loss for 1800 is nan\n"
     ]
    },
    {
     "name": "stderr",
     "output_type": "stream",
     "text": [
      "\n",
      "\n",
      " 18%|██████████████▏                                                               | 1810/9973 [00:44<02:36, 52.10it/s]\n",
      "\n",
      " 18%|██████████████▏                                                               | 1817/9973 [00:44<02:28, 54.84it/s]\n",
      "\n",
      " 18%|██████████████▎                                                               | 1823/9973 [00:45<02:42, 50.09it/s]\n",
      "\n",
      " 18%|██████████████▎                                                               | 1829/9973 [00:45<02:45, 49.08it/s]\n",
      "\n",
      " 18%|██████████████▎                                                               | 1835/9973 [00:45<02:49, 47.93it/s]\n",
      "\n",
      " 18%|██████████████▍                                                               | 1840/9973 [00:45<02:53, 46.90it/s]\n",
      "\n",
      " 19%|██████████████▍                                                               | 1846/9973 [00:45<02:48, 48.25it/s]\n",
      "\n",
      " 19%|██████████████▍                                                               | 1851/9973 [00:45<02:54, 46.58it/s]\n",
      "\n",
      " 19%|██████████████▌                                                               | 1856/9973 [00:45<03:02, 44.51it/s]\n",
      "\n",
      " 19%|██████████████▌                                                               | 1864/9973 [00:45<02:44, 49.44it/s]\n",
      "\n",
      " 19%|██████████████▋                                                               | 1870/9973 [00:46<02:48, 48.17it/s]\n",
      "\n",
      " 19%|██████████████▋                                                               | 1875/9973 [00:46<02:50, 47.59it/s]\n",
      "\n",
      " 19%|██████████████▋                                                               | 1882/9973 [00:46<02:37, 51.26it/s]\n",
      "\n",
      " 19%|██████████████▊                                                               | 1888/9973 [00:46<02:45, 48.89it/s]\n",
      "\n",
      " 19%|██████████████▊                                                               | 1894/9973 [00:46<02:50, 47.35it/s]\n",
      "\n",
      " 19%|██████████████▊                                                               | 1899/9973 [00:46<02:57, 45.49it/s]"
     ]
    },
    {
     "name": "stdout",
     "output_type": "stream",
     "text": [
      "loss for 1900 is nan\n"
     ]
    },
    {
     "name": "stderr",
     "output_type": "stream",
     "text": [
      "\n",
      "\n",
      " 19%|██████████████▉                                                               | 1906/9973 [00:46<02:41, 49.96it/s]\n",
      "\n",
      " 19%|██████████████▉                                                               | 1915/9973 [00:46<02:22, 56.35it/s]\n",
      "\n",
      " 19%|███████████████                                                               | 1924/9973 [00:47<02:10, 61.90it/s]\n",
      "\n",
      " 19%|███████████████                                                               | 1932/9973 [00:47<02:02, 65.75it/s]\n",
      "\n",
      " 19%|███████████████▏                                                              | 1940/9973 [00:47<01:56, 68.75it/s]\n",
      "\n",
      " 20%|███████████████▎                                                              | 1950/9973 [00:47<01:49, 73.20it/s]\n",
      "\n",
      " 20%|███████████████▎                                                              | 1958/9973 [00:47<01:55, 69.62it/s]\n",
      "\n",
      " 20%|███████████████▍                                                              | 1966/9973 [00:47<02:07, 62.88it/s]\n",
      "\n",
      " 20%|███████████████▍                                                              | 1976/9973 [00:47<01:53, 70.16it/s]\n",
      "\n",
      " 20%|███████████████▌                                                              | 1985/9973 [00:47<01:47, 74.38it/s]\n",
      "\n",
      " 20%|███████████████▌                                                              | 1993/9973 [00:47<01:55, 68.91it/s]"
     ]
    },
    {
     "name": "stdout",
     "output_type": "stream",
     "text": [
      "loss for 2000 is nan\n"
     ]
    },
    {
     "name": "stderr",
     "output_type": "stream",
     "text": [
      "\n",
      "\n",
      " 20%|███████████████▋                                                              | 2001/9973 [00:48<02:12, 60.21it/s]\n",
      "\n",
      " 20%|███████████████▋                                                              | 2008/9973 [00:48<02:25, 54.61it/s]\n",
      "\n",
      " 20%|███████████████▊                                                              | 2014/9973 [00:48<02:24, 54.89it/s]\n",
      "\n",
      " 20%|███████████████▊                                                              | 2020/9973 [00:48<02:30, 52.76it/s]\n",
      "\n",
      " 20%|███████████████▊                                                              | 2026/9973 [00:48<02:58, 44.51it/s]\n",
      "\n",
      " 20%|███████████████▉                                                              | 2031/9973 [00:48<02:56, 45.03it/s]\n",
      "\n",
      " 20%|███████████████▉                                                              | 2036/9973 [00:48<03:02, 43.51it/s]\n",
      "\n",
      " 20%|███████████████▉                                                              | 2041/9973 [00:49<03:10, 41.65it/s]\n",
      "\n",
      " 21%|████████████████                                                              | 2046/9973 [00:49<03:14, 40.84it/s]\n",
      "\n",
      " 21%|████████████████                                                              | 2053/9973 [00:49<02:51, 46.30it/s]\n",
      "\n",
      " 21%|████████████████                                                              | 2061/9973 [00:49<02:30, 52.58it/s]\n",
      "\n",
      " 21%|████████████████▏                                                             | 2067/9973 [00:49<02:29, 52.87it/s]\n",
      "\n",
      " 21%|████████████████▏                                                             | 2075/9973 [00:49<02:16, 57.84it/s]\n",
      "\n",
      " 21%|████████████████▎                                                             | 2082/9973 [00:49<02:14, 58.57it/s]\n",
      "\n",
      " 21%|████████████████▎                                                             | 2092/9973 [00:49<01:59, 65.83it/s]\n",
      "\n",
      " 21%|████████████████▍                                                             | 2100/9973 [00:49<01:55, 68.10it/s]"
     ]
    },
    {
     "name": "stdout",
     "output_type": "stream",
     "text": [
      "loss for 2100 is nan\n"
     ]
    },
    {
     "name": "stderr",
     "output_type": "stream",
     "text": [
      "\n",
      "\n",
      " 21%|████████████████▍                                                             | 2108/9973 [00:50<02:02, 64.40it/s]\n",
      "\n",
      " 21%|████████████████▌                                                             | 2115/9973 [00:50<02:01, 64.52it/s]\n",
      "\n",
      " 21%|████████████████▌                                                             | 2122/9973 [00:50<02:32, 51.49it/s]\n",
      "\n",
      " 21%|████████████████▋                                                             | 2128/9973 [00:50<02:39, 49.03it/s]\n",
      "\n",
      " 21%|████████████████▋                                                             | 2136/9973 [00:50<02:27, 53.26it/s]\n",
      "\n",
      " 21%|████████████████▊                                                             | 2142/9973 [00:50<02:28, 52.79it/s]\n",
      "\n",
      " 22%|████████████████▊                                                             | 2148/9973 [00:50<02:49, 46.17it/s]\n",
      "\n",
      " 22%|████████████████▊                                                             | 2153/9973 [00:51<02:58, 43.78it/s]\n",
      "\n",
      " 22%|████████████████▉                                                             | 2158/9973 [00:51<02:57, 44.03it/s]\n",
      "\n",
      " 22%|████████████████▉                                                             | 2163/9973 [00:51<02:52, 45.17it/s]\n",
      "\n",
      " 22%|████████████████▉                                                             | 2170/9973 [00:51<02:41, 48.45it/s]\n",
      "\n",
      " 22%|█████████████████                                                             | 2177/9973 [00:51<02:28, 52.42it/s]\n",
      "\n",
      " 22%|█████████████████                                                             | 2183/9973 [00:51<02:46, 46.83it/s]\n",
      "\n",
      " 22%|█████████████████                                                             | 2188/9973 [00:51<02:56, 44.19it/s]\n",
      "\n",
      " 22%|█████████████████▏                                                            | 2193/9973 [00:51<02:59, 43.40it/s]\n",
      "\n",
      " 22%|█████████████████▏                                                            | 2198/9973 [00:52<03:01, 42.87it/s]"
     ]
    },
    {
     "name": "stdout",
     "output_type": "stream",
     "text": [
      "loss for 2200 is nan\n"
     ]
    },
    {
     "name": "stderr",
     "output_type": "stream",
     "text": [
      "\n",
      "\n",
      " 22%|█████████████████▏                                                            | 2203/9973 [00:52<03:10, 40.83it/s]\n",
      "\n",
      " 22%|█████████████████▎                                                            | 2208/9973 [00:52<03:09, 41.08it/s]\n",
      "\n",
      " 22%|█████████████████▎                                                            | 2213/9973 [00:52<03:06, 41.67it/s]\n",
      "\n",
      " 22%|█████████████████▎                                                            | 2218/9973 [00:52<02:56, 43.86it/s]\n",
      "\n",
      " 22%|█████████████████▍                                                            | 2223/9973 [00:52<02:59, 43.18it/s]\n",
      "\n",
      " 22%|█████████████████▍                                                            | 2228/9973 [00:52<02:55, 44.07it/s]\n",
      "\n",
      " 22%|█████████████████▍                                                            | 2233/9973 [00:52<02:56, 43.77it/s]\n",
      "\n",
      " 22%|█████████████████▌                                                            | 2238/9973 [00:53<02:57, 43.57it/s]\n",
      "\n",
      " 22%|█████████████████▌                                                            | 2243/9973 [00:53<02:56, 43.89it/s]\n",
      "\n",
      " 23%|█████████████████▌                                                            | 2250/9973 [00:53<02:38, 48.59it/s]\n",
      "\n",
      " 23%|█████████████████▋                                                            | 2256/9973 [00:53<02:43, 47.16it/s]\n",
      "\n",
      " 23%|█████████████████▋                                                            | 2261/9973 [00:53<02:44, 46.90it/s]\n",
      "\n",
      " 23%|█████████████████▊                                                            | 2270/9973 [00:53<02:22, 53.98it/s]\n",
      "\n",
      " 23%|█████████████████▊                                                            | 2276/9973 [00:53<02:32, 50.59it/s]\n",
      "\n",
      " 23%|█████████████████▊                                                            | 2282/9973 [00:53<02:41, 47.53it/s]\n",
      "\n",
      " 23%|█████████████████▉                                                            | 2288/9973 [00:54<02:51, 44.79it/s]\n",
      "\n",
      " 23%|█████████████████▉                                                            | 2295/9973 [00:54<02:34, 49.79it/s]"
     ]
    },
    {
     "name": "stdout",
     "output_type": "stream",
     "text": [
      "loss for 2300 is nan\n"
     ]
    },
    {
     "name": "stderr",
     "output_type": "stream",
     "text": [
      "\n",
      "\n",
      " 23%|█████████████████▉                                                            | 2301/9973 [00:54<02:36, 48.88it/s]\n",
      "\n",
      " 23%|██████████████████                                                            | 2307/9973 [00:54<02:40, 47.80it/s]\n",
      "\n",
      " 23%|██████████████████                                                            | 2314/9973 [00:54<02:30, 50.98it/s]\n",
      "\n",
      " 23%|██████████████████▏                                                           | 2322/9973 [00:54<02:14, 56.72it/s]\n",
      "\n",
      " 23%|██████████████████▏                                                           | 2329/9973 [00:54<02:08, 59.53it/s]\n",
      "\n",
      " 23%|██████████████████▎                                                           | 2336/9973 [00:54<02:23, 53.23it/s]\n",
      "\n",
      " 23%|██████████████████▎                                                           | 2342/9973 [00:54<02:33, 49.62it/s]\n",
      "\n",
      " 24%|██████████████████▎                                                           | 2349/9973 [00:55<02:20, 54.37it/s]\n",
      "\n",
      " 24%|██████████████████▍                                                           | 2357/9973 [00:55<02:11, 58.06it/s]\n",
      "\n",
      " 24%|██████████████████▍                                                           | 2365/9973 [00:55<02:04, 60.95it/s]\n",
      "\n",
      " 24%|██████████████████▌                                                           | 2372/9973 [00:55<02:16, 55.56it/s]\n",
      "\n",
      " 24%|██████████████████▌                                                           | 2380/9973 [00:55<02:07, 59.53it/s]\n",
      "\n",
      " 24%|██████████████████▋                                                           | 2388/9973 [00:55<01:58, 63.86it/s]\n",
      "\n",
      " 24%|██████████████████▋                                                           | 2396/9973 [00:55<01:57, 64.68it/s]"
     ]
    },
    {
     "name": "stdout",
     "output_type": "stream",
     "text": [
      "loss for 2400 is nan\n"
     ]
    },
    {
     "name": "stderr",
     "output_type": "stream",
     "text": [
      "\n",
      "\n",
      " 24%|██████████████████▊                                                           | 2403/9973 [00:55<02:16, 55.48it/s]\n",
      "\n",
      " 24%|██████████████████▊                                                           | 2409/9973 [00:56<02:35, 48.51it/s]\n",
      "\n",
      " 24%|██████████████████▉                                                           | 2415/9973 [00:56<02:40, 47.10it/s]\n",
      "\n",
      " 24%|██████████████████▉                                                           | 2421/9973 [00:56<02:46, 45.33it/s]\n",
      "\n",
      " 24%|██████████████████▉                                                           | 2426/9973 [00:56<02:43, 46.12it/s]\n",
      "\n",
      " 24%|███████████████████                                                           | 2431/9973 [00:56<02:43, 46.17it/s]\n",
      "\n",
      " 24%|███████████████████                                                           | 2436/9973 [00:56<02:48, 44.72it/s]\n",
      "\n",
      " 24%|███████████████████                                                           | 2441/9973 [00:56<02:57, 42.42it/s]\n",
      "\n",
      " 25%|███████████████████▏                                                          | 2446/9973 [00:57<03:00, 41.77it/s]\n",
      "\n",
      " 25%|███████████████████▏                                                          | 2451/9973 [00:57<03:02, 41.32it/s]\n",
      "\n",
      " 25%|███████████████████▏                                                          | 2456/9973 [00:57<03:05, 40.62it/s]\n",
      "\n",
      " 25%|███████████████████▏                                                          | 2461/9973 [00:57<03:10, 39.38it/s]\n",
      "\n",
      " 25%|███████████████████▎                                                          | 2465/9973 [00:57<03:14, 38.65it/s]\n",
      "\n",
      " 25%|███████████████████▎                                                          | 2470/9973 [00:57<03:09, 39.51it/s]\n",
      "\n",
      " 25%|███████████████████▎                                                          | 2474/9973 [00:57<03:15, 38.29it/s]\n",
      "\n",
      " 25%|███████████████████▍                                                          | 2478/9973 [00:57<03:15, 38.34it/s]\n",
      "\n",
      " 25%|███████████████████▍                                                          | 2482/9973 [00:57<03:17, 37.94it/s]\n",
      "\n",
      " 25%|███████████████████▍                                                          | 2486/9973 [00:58<03:16, 38.09it/s]\n",
      "\n",
      " 25%|███████████████████▌                                                          | 2495/9973 [00:58<02:44, 45.51it/s]"
     ]
    },
    {
     "name": "stdout",
     "output_type": "stream",
     "text": [
      "loss for 2500 is nan\n"
     ]
    },
    {
     "name": "stderr",
     "output_type": "stream",
     "text": [
      "\n",
      "\n",
      " 25%|███████████████████▌                                                          | 2501/9973 [00:58<02:47, 44.68it/s]\n",
      "\n",
      " 25%|███████████████████▌                                                          | 2506/9973 [00:58<02:50, 43.73it/s]\n",
      "\n",
      " 25%|███████████████████▋                                                          | 2511/9973 [00:58<02:49, 44.00it/s]\n",
      "\n",
      " 25%|███████████████████▋                                                          | 2521/9973 [00:58<02:21, 52.55it/s]\n",
      "\n",
      " 25%|███████████████████▊                                                          | 2532/9973 [00:58<02:02, 60.66it/s]\n",
      "\n",
      " 25%|███████████████████▉                                                          | 2543/9973 [00:58<01:47, 69.04it/s]\n",
      "\n",
      " 26%|███████████████████▉                                                          | 2552/9973 [00:58<01:40, 73.50it/s]\n",
      "\n",
      " 26%|████████████████████                                                          | 2562/9973 [00:59<01:34, 78.35it/s]\n",
      "\n",
      " 26%|████████████████████                                                          | 2571/9973 [00:59<01:38, 74.99it/s]\n",
      "\n",
      " 26%|████████████████████▏                                                         | 2580/9973 [00:59<01:59, 61.98it/s]\n",
      "\n",
      " 26%|████████████████████▏                                                         | 2587/9973 [00:59<02:50, 43.25it/s]\n",
      "\n",
      " 26%|████████████████████▎                                                         | 2593/9973 [00:59<03:22, 36.52it/s]\n",
      "\n",
      " 26%|████████████████████▎                                                         | 2598/9973 [01:00<03:32, 34.76it/s]"
     ]
    },
    {
     "name": "stdout",
     "output_type": "stream",
     "text": [
      "loss for 2600 is nan\n"
     ]
    },
    {
     "name": "stderr",
     "output_type": "stream",
     "text": [
      "\n",
      "\n",
      " 26%|████████████████████▎                                                         | 2603/9973 [01:00<03:40, 33.36it/s]\n",
      "\n",
      " 26%|████████████████████▍                                                         | 2611/9973 [01:00<03:06, 39.47it/s]\n",
      "\n",
      " 26%|████████████████████▍                                                         | 2616/9973 [01:00<03:06, 39.35it/s]\n",
      "\n",
      " 26%|████████████████████▍                                                         | 2621/9973 [01:00<03:19, 36.83it/s]\n",
      "\n",
      " 26%|████████████████████▌                                                         | 2629/9973 [01:00<02:50, 43.09it/s]\n",
      "\n",
      " 26%|████████████████████▌                                                         | 2635/9973 [01:00<02:40, 45.78it/s]\n",
      "\n",
      " 27%|████████████████████▋                                                         | 2643/9973 [01:00<02:23, 50.92it/s]\n",
      "\n",
      " 27%|████████████████████▋                                                         | 2649/9973 [01:01<02:37, 46.41it/s]\n",
      "\n",
      " 27%|████████████████████▊                                                         | 2655/9973 [01:01<02:44, 44.48it/s]\n",
      "\n",
      " 27%|████████████████████▊                                                         | 2661/9973 [01:01<02:38, 46.00it/s]\n",
      "\n",
      " 27%|████████████████████▊                                                         | 2666/9973 [01:01<02:45, 44.14it/s]\n",
      "\n",
      " 27%|████████████████████▉                                                         | 2671/9973 [01:01<02:44, 44.29it/s]\n",
      "\n",
      " 27%|████████████████████▉                                                         | 2678/9973 [01:01<02:31, 48.13it/s]\n",
      "\n",
      " 27%|████████████████████▉                                                         | 2684/9973 [01:01<02:34, 47.29it/s]\n",
      "\n",
      " 27%|█████████████████████                                                         | 2690/9973 [01:02<02:28, 49.02it/s]\n",
      "\n",
      " 27%|█████████████████████                                                         | 2696/9973 [01:02<02:34, 46.99it/s]"
     ]
    },
    {
     "name": "stdout",
     "output_type": "stream",
     "text": [
      "loss for 2700 is nan\n"
     ]
    },
    {
     "name": "stderr",
     "output_type": "stream",
     "text": [
      "\n",
      "\n",
      " 27%|█████████████████████                                                         | 2701/9973 [01:02<02:35, 46.78it/s]\n",
      "\n",
      " 27%|█████████████████████▏                                                        | 2707/9973 [01:02<02:26, 49.59it/s]\n",
      "\n",
      " 27%|█████████████████████▏                                                        | 2713/9973 [01:02<02:40, 45.22it/s]\n",
      "\n",
      " 27%|█████████████████████▎                                                        | 2718/9973 [01:02<02:39, 45.54it/s]\n",
      "\n",
      " 27%|█████████████████████▎                                                        | 2723/9973 [01:02<02:45, 43.84it/s]\n",
      "\n",
      " 27%|█████████████████████▎                                                        | 2728/9973 [01:02<02:47, 43.16it/s]\n",
      "\n",
      " 27%|█████████████████████▍                                                        | 2733/9973 [01:03<02:59, 40.23it/s]\n",
      "\n",
      " 27%|█████████████████████▍                                                        | 2738/9973 [01:03<03:11, 37.71it/s]\n",
      "\n",
      " 27%|█████████████████████▍                                                        | 2742/9973 [01:03<03:17, 36.68it/s]\n",
      "\n",
      " 28%|█████████████████████▍                                                        | 2746/9973 [01:03<03:20, 35.99it/s]\n",
      "\n",
      " 28%|█████████████████████▌                                                        | 2752/9973 [01:03<02:57, 40.57it/s]\n",
      "\n",
      " 28%|█████████████████████▌                                                        | 2761/9973 [01:03<02:30, 47.95it/s]\n",
      "\n",
      " 28%|█████████████████████▋                                                        | 2767/9973 [01:03<02:34, 46.73it/s]\n",
      "\n",
      " 28%|█████████████████████▋                                                        | 2773/9973 [01:03<02:29, 48.13it/s]\n",
      "\n",
      " 28%|█████████████████████▋                                                        | 2779/9973 [01:03<02:30, 47.74it/s]\n",
      "\n",
      " 28%|█████████████████████▊                                                        | 2785/9973 [01:04<02:41, 44.52it/s]\n",
      "\n",
      " 28%|█████████████████████▊                                                        | 2791/9973 [01:04<02:34, 46.46it/s]\n",
      "\n",
      " 28%|█████████████████████▉                                                        | 2797/9973 [01:04<02:26, 48.86it/s]"
     ]
    },
    {
     "name": "stdout",
     "output_type": "stream",
     "text": [
      "loss for 2800 is nan\n"
     ]
    },
    {
     "name": "stderr",
     "output_type": "stream",
     "text": [
      "\n",
      "\n",
      " 28%|█████████████████████▉                                                        | 2803/9973 [01:04<02:28, 48.25it/s]\n",
      "\n",
      " 28%|█████████████████████▉                                                        | 2808/9973 [01:04<02:35, 46.07it/s]\n",
      "\n",
      " 28%|██████████████████████                                                        | 2818/9973 [01:04<02:11, 54.60it/s]\n",
      "\n",
      " 28%|██████████████████████                                                        | 2825/9973 [01:04<02:24, 49.52it/s]\n",
      "\n",
      " 28%|██████████████████████▏                                                       | 2831/9973 [01:05<02:33, 46.44it/s]\n",
      "\n",
      " 28%|██████████████████████▏                                                       | 2837/9973 [01:05<02:38, 44.89it/s]\n",
      "\n",
      " 28%|██████████████████████▏                                                       | 2842/9973 [01:05<02:35, 45.80it/s]\n",
      "\n",
      " 29%|██████████████████████▎                                                       | 2849/9973 [01:05<02:21, 50.22it/s]\n",
      "\n",
      " 29%|██████████████████████▎                                                       | 2855/9973 [01:05<02:17, 51.71it/s]\n",
      "\n",
      " 29%|██████████████████████▍                                                       | 2861/9973 [01:05<02:16, 52.26it/s]\n",
      "\n",
      " 29%|██████████████████████▍                                                       | 2867/9973 [01:05<02:20, 50.52it/s]\n",
      "\n",
      " 29%|██████████████████████▍                                                       | 2873/9973 [01:05<02:26, 48.41it/s]\n",
      "\n",
      " 29%|██████████████████████▌                                                       | 2878/9973 [01:06<02:40, 44.21it/s]\n",
      "\n",
      " 29%|██████████████████████▌                                                       | 2888/9973 [01:06<02:15, 52.43it/s]\n",
      "\n",
      " 29%|██████████████████████▋                                                       | 2894/9973 [01:06<02:12, 53.33it/s]\n",
      "\n",
      " 29%|██████████████████████▋                                                       | 2900/9973 [01:06<02:11, 53.98it/s]"
     ]
    },
    {
     "name": "stdout",
     "output_type": "stream",
     "text": [
      "loss for 2900 is nan\n"
     ]
    },
    {
     "name": "stderr",
     "output_type": "stream",
     "text": [
      "\n",
      "\n",
      " 29%|██████████████████████▋                                                       | 2906/9973 [01:06<02:09, 54.44it/s]\n",
      "\n",
      " 29%|██████████████████████▊                                                       | 2912/9973 [01:06<02:25, 48.41it/s]\n",
      "\n",
      " 29%|██████████████████████▊                                                       | 2918/9973 [01:06<02:35, 45.33it/s]\n",
      "\n",
      " 29%|██████████████████████▊                                                       | 2923/9973 [01:06<02:36, 45.12it/s]\n",
      "\n",
      " 29%|██████████████████████▉                                                       | 2930/9973 [01:06<02:25, 48.41it/s]\n",
      "\n",
      " 29%|██████████████████████▉                                                       | 2936/9973 [01:07<02:28, 47.48it/s]\n",
      "\n",
      " 29%|███████████████████████                                                       | 2941/9973 [01:07<02:39, 44.13it/s]\n",
      "\n",
      " 30%|███████████████████████                                                       | 2948/9973 [01:07<02:26, 48.00it/s]\n",
      "\n",
      " 30%|███████████████████████▏                                                      | 2957/9973 [01:07<02:06, 55.40it/s]\n",
      "\n",
      " 30%|███████████████████████▏                                                      | 2965/9973 [01:07<01:56, 59.93it/s]\n",
      "\n",
      " 30%|███████████████████████▏                                                      | 2972/9973 [01:07<02:22, 48.96it/s]\n",
      "\n",
      " 30%|███████████████████████▎                                                      | 2978/9973 [01:07<02:24, 48.32it/s]\n",
      "\n",
      " 30%|███████████████████████▎                                                      | 2984/9973 [01:08<02:21, 49.29it/s]\n",
      "\n",
      " 30%|███████████████████████▍                                                      | 2991/9973 [01:08<02:10, 53.60it/s]\n",
      "\n",
      " 30%|███████████████████████▍                                                      | 2998/9973 [01:08<02:05, 55.46it/s]"
     ]
    },
    {
     "name": "stdout",
     "output_type": "stream",
     "text": [
      "loss for 3000 is nan\n"
     ]
    },
    {
     "name": "stderr",
     "output_type": "stream",
     "text": [
      "\n",
      "\n",
      " 30%|███████████████████████▍                                                      | 3004/9973 [01:08<02:19, 49.94it/s]\n",
      "\n",
      " 30%|███████████████████████▌                                                      | 3010/9973 [01:08<02:15, 51.50it/s]\n",
      "\n",
      " 30%|███████████████████████▌                                                      | 3016/9973 [01:08<02:17, 50.53it/s]\n",
      "\n",
      " 30%|███████████████████████▋                                                      | 3024/9973 [01:08<02:03, 56.33it/s]\n",
      "\n",
      " 30%|███████████████████████▋                                                      | 3032/9973 [01:08<01:52, 61.81it/s]\n",
      "\n",
      " 30%|███████████████████████▊                                                      | 3040/9973 [01:08<01:46, 65.04it/s]\n",
      "\n",
      " 31%|███████████████████████▊                                                      | 3047/9973 [01:09<01:44, 66.45it/s]\n",
      "\n",
      " 31%|███████████████████████▉                                                      | 3054/9973 [01:09<01:49, 63.10it/s]\n",
      "\n",
      " 31%|███████████████████████▉                                                      | 3061/9973 [01:09<01:52, 61.59it/s]\n",
      "\n",
      " 31%|███████████████████████▉                                                      | 3068/9973 [01:09<02:02, 56.47it/s]\n",
      "\n",
      " 31%|████████████████████████                                                      | 3075/9973 [01:09<01:58, 58.15it/s]\n",
      "\n",
      " 31%|████████████████████████                                                      | 3081/9973 [01:09<02:07, 54.24it/s]\n",
      "\n",
      " 31%|████████████████████████▏                                                     | 3087/9973 [01:09<02:18, 49.74it/s]\n",
      "\n",
      " 31%|████████████████████████▏                                                     | 3093/9973 [01:09<02:22, 48.37it/s]\n",
      "\n",
      " 31%|████████████████████████▏                                                     | 3098/9973 [01:10<02:25, 47.19it/s]"
     ]
    },
    {
     "name": "stdout",
     "output_type": "stream",
     "text": [
      "loss for 3100 is nan\n"
     ]
    },
    {
     "name": "stderr",
     "output_type": "stream",
     "text": [
      "\n",
      "\n",
      " 31%|████████████████████████▎                                                     | 3103/9973 [01:10<02:28, 46.39it/s]\n",
      "\n",
      " 31%|████████████████████████▎                                                     | 3108/9973 [01:10<02:44, 41.72it/s]\n",
      "\n",
      " 31%|████████████████████████▎                                                     | 3113/9973 [01:10<02:44, 41.71it/s]\n",
      "\n",
      " 31%|████████████████████████▍                                                     | 3119/9973 [01:10<02:37, 43.51it/s]\n",
      "\n",
      " 31%|████████████████████████▍                                                     | 3125/9973 [01:10<02:31, 45.27it/s]\n",
      "\n",
      " 31%|████████████████████████▍                                                     | 3130/9973 [01:10<02:40, 42.77it/s]\n",
      "\n",
      " 31%|████████████████████████▌                                                     | 3135/9973 [01:10<02:39, 42.87it/s]\n",
      "\n",
      " 31%|████████████████████████▌                                                     | 3140/9973 [01:11<02:40, 42.50it/s]\n",
      "\n",
      " 32%|████████████████████████▋                                                     | 3149/9973 [01:11<02:18, 49.17it/s]\n",
      "\n",
      " 32%|████████████████████████▋                                                     | 3156/9973 [01:11<02:10, 52.06it/s]\n",
      "\n",
      " 32%|████████████████████████▋                                                     | 3162/9973 [01:11<02:45, 41.25it/s]\n",
      "\n",
      " 32%|████████████████████████▊                                                     | 3167/9973 [01:11<02:59, 37.98it/s]\n",
      "\n",
      " 32%|████████████████████████▊                                                     | 3172/9973 [01:11<03:17, 34.49it/s]\n",
      "\n",
      " 32%|████████████████████████▊                                                     | 3176/9973 [01:11<03:15, 34.85it/s]\n",
      "\n",
      " 32%|████████████████████████▊                                                     | 3180/9973 [01:12<03:37, 31.17it/s]\n",
      "\n",
      " 32%|████████████████████████▉                                                     | 3184/9973 [01:12<03:37, 31.19it/s]\n",
      "\n",
      " 32%|████████████████████████▉                                                     | 3188/9973 [01:12<03:25, 33.07it/s]\n",
      "\n",
      " 32%|████████████████████████▉                                                     | 3192/9973 [01:12<03:28, 32.50it/s]\n",
      "\n",
      " 32%|████████████████████████▉                                                     | 3196/9973 [01:12<03:24, 33.07it/s]\n",
      "\n",
      " 32%|█████████████████████████                                                     | 3200/9973 [01:12<03:18, 34.17it/s]"
     ]
    },
    {
     "name": "stdout",
     "output_type": "stream",
     "text": [
      "loss for 3200 is nan\n"
     ]
    },
    {
     "name": "stderr",
     "output_type": "stream",
     "text": [
      "\n",
      "\n",
      " 32%|█████████████████████████                                                     | 3206/9973 [01:12<02:56, 38.33it/s]\n",
      "\n",
      " 32%|█████████████████████████                                                     | 3211/9973 [01:12<03:03, 36.84it/s]\n",
      "\n",
      " 32%|█████████████████████████▏                                                    | 3215/9973 [01:13<03:13, 34.97it/s]\n",
      "\n",
      " 32%|█████████████████████████▏                                                    | 3219/9973 [01:13<03:20, 33.76it/s]\n",
      "\n",
      " 32%|█████████████████████████▏                                                    | 3226/9973 [01:13<02:48, 39.97it/s]\n",
      "\n",
      " 32%|█████████████████████████▎                                                    | 3232/9973 [01:13<02:33, 44.03it/s]\n",
      "\n",
      " 32%|█████████████████████████▎                                                    | 3237/9973 [01:13<02:37, 42.85it/s]\n",
      "\n",
      " 33%|█████████████████████████▎                                                    | 3243/9973 [01:13<02:24, 46.43it/s]\n",
      "\n",
      " 33%|█████████████████████████▍                                                    | 3248/9973 [01:13<02:39, 42.17it/s]\n",
      "\n",
      " 33%|█████████████████████████▍                                                    | 3253/9973 [01:13<02:57, 37.82it/s]\n",
      "\n",
      " 33%|█████████████████████████▍                                                    | 3258/9973 [01:14<03:29, 32.02it/s]\n",
      "\n",
      " 33%|█████████████████████████▌                                                    | 3262/9973 [01:14<03:25, 32.72it/s]\n",
      "\n",
      " 33%|█████████████████████████▌                                                    | 3266/9973 [01:14<03:27, 32.27it/s]\n",
      "\n",
      " 33%|█████████████████████████▌                                                    | 3272/9973 [01:14<02:58, 37.46it/s]\n",
      "\n",
      " 33%|█████████████████████████▋                                                    | 3282/9973 [01:14<02:29, 44.87it/s]\n",
      "\n",
      " 33%|█████████████████████████▋                                                    | 3288/9973 [01:14<03:31, 31.65it/s]\n",
      "\n",
      " 33%|█████████████████████████▊                                                    | 3293/9973 [01:15<03:30, 31.77it/s]\n",
      "\n",
      " 33%|█████████████████████████▊                                                    | 3300/9973 [01:15<03:00, 37.03it/s]"
     ]
    },
    {
     "name": "stdout",
     "output_type": "stream",
     "text": [
      "loss for 3300 is nan\n"
     ]
    },
    {
     "name": "stderr",
     "output_type": "stream",
     "text": [
      "\n",
      "\n",
      " 33%|█████████████████████████▊                                                    | 3307/9973 [01:15<02:38, 42.18it/s]\n",
      "\n",
      " 33%|█████████████████████████▉                                                    | 3317/9973 [01:15<02:12, 50.12it/s]\n",
      "\n",
      " 33%|██████████████████████████                                                    | 3325/9973 [01:15<01:57, 56.44it/s]\n",
      "\n",
      " 33%|██████████████████████████                                                    | 3332/9973 [01:15<01:57, 56.44it/s]\n",
      "\n",
      " 33%|██████████████████████████                                                    | 3339/9973 [01:15<02:20, 47.29it/s]\n",
      "\n",
      " 34%|██████████████████████████▏                                                   | 3345/9973 [01:15<02:16, 48.54it/s]\n",
      "\n",
      " 34%|██████████████████████████▏                                                   | 3351/9973 [01:16<02:09, 50.97it/s]\n",
      "\n",
      " 34%|██████████████████████████▎                                                   | 3357/9973 [01:16<02:14, 49.18it/s]\n",
      "\n",
      " 34%|██████████████████████████▎                                                   | 3364/9973 [01:16<02:06, 52.07it/s]\n",
      "\n",
      " 34%|██████████████████████████▎                                                   | 3370/9973 [01:16<02:17, 47.98it/s]\n",
      "\n",
      " 34%|██████████████████████████▍                                                   | 3377/9973 [01:16<02:07, 51.57it/s]\n",
      "\n",
      " 34%|██████████████████████████▍                                                   | 3383/9973 [01:16<02:06, 52.16it/s]\n",
      "\n",
      " 34%|██████████████████████████▌                                                   | 3390/9973 [01:16<01:57, 55.93it/s]\n",
      "\n",
      " 34%|██████████████████████████▌                                                   | 3396/9973 [01:16<02:13, 49.22it/s]"
     ]
    },
    {
     "name": "stdout",
     "output_type": "stream",
     "text": [
      "loss for 3400 is nan\n"
     ]
    },
    {
     "name": "stderr",
     "output_type": "stream",
     "text": [
      "\n",
      "\n",
      " 34%|██████████████████████████▌                                                   | 3402/9973 [01:17<02:40, 40.95it/s]\n",
      "\n",
      " 34%|██████████████████████████▋                                                   | 3407/9973 [01:17<03:12, 34.09it/s]\n",
      "\n",
      " 34%|██████████████████████████▋                                                   | 3411/9973 [01:17<03:23, 32.22it/s]\n",
      "\n",
      " 34%|██████████████████████████▋                                                   | 3415/9973 [01:17<03:33, 30.75it/s]\n",
      "\n",
      " 34%|██████████████████████████▋                                                   | 3419/9973 [01:17<03:38, 30.06it/s]\n",
      "\n",
      " 34%|██████████████████████████▊                                                   | 3423/9973 [01:17<03:51, 28.34it/s]\n",
      "\n",
      " 34%|██████████████████████████▊                                                   | 3427/9973 [01:18<03:36, 30.21it/s]\n",
      "\n",
      " 34%|██████████████████████████▊                                                   | 3431/9973 [01:18<03:32, 30.80it/s]\n",
      "\n",
      " 34%|██████████████████████████▊                                                   | 3435/9973 [01:18<03:21, 32.44it/s]\n",
      "\n",
      " 34%|██████████████████████████▉                                                   | 3439/9973 [01:18<03:23, 32.07it/s]\n",
      "\n",
      " 35%|██████████████████████████▉                                                   | 3443/9973 [01:18<03:21, 32.44it/s]\n",
      "\n",
      " 35%|██████████████████████████▉                                                   | 3447/9973 [01:18<03:27, 31.47it/s]\n",
      "\n",
      " 35%|██████████████████████████▉                                                   | 3451/9973 [01:18<03:21, 32.32it/s]\n",
      "\n",
      " 35%|███████████████████████████                                                   | 3460/9973 [01:18<02:49, 38.37it/s]\n",
      "\n",
      " 35%|███████████████████████████                                                   | 3465/9973 [01:19<03:21, 32.30it/s]\n",
      "\n",
      " 35%|███████████████████████████▏                                                  | 3469/9973 [01:19<03:23, 31.98it/s]\n",
      "\n",
      " 35%|███████████████████████████▏                                                  | 3474/9973 [01:19<03:01, 35.85it/s]\n",
      "\n",
      " 35%|███████████████████████████▏                                                  | 3478/9973 [01:19<03:09, 34.33it/s]\n",
      "\n",
      " 35%|███████████████████████████▏                                                  | 3482/9973 [01:19<04:30, 23.99it/s]\n",
      "\n",
      " 35%|███████████████████████████▎                                                  | 3486/9973 [01:19<04:29, 24.11it/s]\n",
      "\n",
      " 35%|███████████████████████████▎                                                  | 3490/9973 [01:20<04:08, 26.08it/s]\n",
      "\n",
      " 35%|███████████████████████████▎                                                  | 3494/9973 [01:20<03:48, 28.38it/s]\n",
      "\n",
      " 35%|███████████████████████████▎                                                  | 3499/9973 [01:20<03:23, 31.86it/s]"
     ]
    },
    {
     "name": "stdout",
     "output_type": "stream",
     "text": [
      "loss for 3500 is nan\n"
     ]
    },
    {
     "name": "stderr",
     "output_type": "stream",
     "text": [
      "\n",
      "\n",
      " 35%|███████████████████████████▍                                                  | 3503/9973 [01:20<03:14, 33.26it/s]\n",
      "\n",
      " 35%|███████████████████████████▍                                                  | 3511/9973 [01:20<02:41, 40.08it/s]\n",
      "\n",
      " 35%|███████████████████████████▌                                                  | 3518/9973 [01:20<02:23, 44.92it/s]\n",
      "\n",
      " 35%|███████████████████████████▌                                                  | 3524/9973 [01:20<02:14, 48.11it/s]\n",
      "\n",
      " 35%|███████████████████████████▌                                                  | 3530/9973 [01:20<02:25, 44.35it/s]\n",
      "\n",
      " 35%|███████████████████████████▋                                                  | 3535/9973 [01:21<02:31, 42.62it/s]\n",
      "\n",
      " 35%|███████████████████████████▋                                                  | 3540/9973 [01:21<02:28, 43.21it/s]\n",
      "\n",
      " 36%|███████████████████████████▋                                                  | 3545/9973 [01:21<02:30, 42.73it/s]\n",
      "\n",
      " 36%|███████████████████████████▊                                                  | 3550/9973 [01:21<02:37, 40.75it/s]\n",
      "\n",
      " 36%|███████████████████████████▊                                                  | 3558/9973 [01:21<02:14, 47.78it/s]\n",
      "\n",
      " 36%|███████████████████████████▉                                                  | 3568/9973 [01:21<01:57, 54.44it/s]\n",
      "\n",
      " 36%|███████████████████████████▉                                                  | 3575/9973 [01:21<02:02, 52.08it/s]\n",
      "\n",
      " 36%|████████████████████████████                                                  | 3584/9973 [01:21<01:48, 58.68it/s]\n",
      "\n",
      " 36%|████████████████████████████                                                  | 3591/9973 [01:21<01:52, 56.86it/s]\n",
      "\n",
      " 36%|████████████████████████████▏                                                 | 3598/9973 [01:22<01:52, 56.74it/s]"
     ]
    },
    {
     "name": "stdout",
     "output_type": "stream",
     "text": [
      "loss for 3600 is nan\n"
     ]
    },
    {
     "name": "stderr",
     "output_type": "stream",
     "text": [
      "\n",
      "\n",
      " 36%|████████████████████████████▏                                                 | 3604/9973 [01:22<02:10, 48.69it/s]\n",
      "\n",
      " 36%|████████████████████████████▏                                                 | 3610/9973 [01:22<02:18, 45.92it/s]\n",
      "\n",
      " 36%|████████████████████████████▎                                                 | 3617/9973 [01:22<02:05, 50.76it/s]\n",
      "\n",
      " 36%|████████████████████████████▎                                                 | 3623/9973 [01:22<02:13, 47.64it/s]\n",
      "\n",
      " 36%|████████████████████████████▍                                                 | 3629/9973 [01:22<02:21, 44.86it/s]\n",
      "\n",
      " 36%|████████████████████████████▍                                                 | 3634/9973 [01:22<02:33, 41.25it/s]\n",
      "\n",
      " 36%|████████████████████████████▍                                                 | 3639/9973 [01:23<02:28, 42.64it/s]\n",
      "\n",
      " 37%|████████████████████████████▌                                                 | 3644/9973 [01:23<02:26, 43.22it/s]\n",
      "\n",
      " 37%|████████████████████████████▌                                                 | 3649/9973 [01:23<02:29, 42.31it/s]\n",
      "\n",
      " 37%|████████████████████████████▌                                                 | 3654/9973 [01:23<02:33, 41.28it/s]\n",
      "\n",
      " 37%|████████████████████████████▌                                                 | 3659/9973 [01:23<02:34, 40.99it/s]\n",
      "\n",
      " 37%|████████████████████████████▋                                                 | 3664/9973 [01:23<02:28, 42.45it/s]\n",
      "\n",
      " 37%|████████████████████████████▋                                                 | 3672/9973 [01:23<02:10, 48.33it/s]\n",
      "\n",
      " 37%|████████████████████████████▊                                                 | 3678/9973 [01:23<02:16, 46.12it/s]\n",
      "\n",
      " 37%|████████████████████████████▊                                                 | 3685/9973 [01:24<02:07, 49.21it/s]\n",
      "\n",
      " 37%|████████████████████████████▊                                                 | 3691/9973 [01:24<02:14, 46.67it/s]\n",
      "\n",
      " 37%|████████████████████████████▉                                                 | 3696/9973 [01:24<02:19, 45.05it/s]"
     ]
    },
    {
     "name": "stdout",
     "output_type": "stream",
     "text": [
      "loss for 3700 is nan\n"
     ]
    },
    {
     "name": "stderr",
     "output_type": "stream",
     "text": [
      "\n",
      "\n",
      " 37%|████████████████████████████▉                                                 | 3701/9973 [01:24<02:19, 44.93it/s]\n",
      "\n",
      " 37%|█████████████████████████████                                                 | 3708/9973 [01:24<02:07, 49.07it/s]\n",
      "\n",
      " 37%|█████████████████████████████                                                 | 3714/9973 [01:24<02:16, 45.73it/s]\n",
      "\n",
      " 37%|█████████████████████████████                                                 | 3719/9973 [01:24<02:28, 42.18it/s]\n",
      "\n",
      " 37%|█████████████████████████████▏                                                | 3729/9973 [01:24<02:05, 49.81it/s]\n",
      "\n",
      " 37%|█████████████████████████████▏                                                | 3736/9973 [01:25<01:55, 54.03it/s]\n",
      "\n",
      " 38%|█████████████████████████████▎                                                | 3743/9973 [01:25<01:48, 57.43it/s]\n",
      "\n",
      " 38%|█████████████████████████████▎                                                | 3750/9973 [01:25<02:00, 51.57it/s]\n",
      "\n",
      " 38%|█████████████████████████████▍                                                | 3757/9973 [01:25<01:54, 54.43it/s]\n",
      "\n",
      " 38%|█████████████████████████████▍                                                | 3763/9973 [01:25<02:00, 51.39it/s]\n",
      "\n",
      " 38%|█████████████████████████████▍                                                | 3769/9973 [01:25<02:09, 48.02it/s]\n",
      "\n",
      " 38%|█████████████████████████████▌                                                | 3775/9973 [01:25<02:14, 45.92it/s]\n",
      "\n",
      " 38%|█████████████████████████████▌                                                | 3781/9973 [01:25<02:05, 49.40it/s]\n",
      "\n",
      " 38%|█████████████████████████████▌                                                | 3787/9973 [01:26<02:13, 46.36it/s]\n",
      "\n",
      " 38%|█████████████████████████████▋                                                | 3792/9973 [01:26<02:23, 42.99it/s]\n",
      "\n",
      " 38%|█████████████████████████████▋                                                | 3797/9973 [01:26<02:22, 43.48it/s]"
     ]
    },
    {
     "name": "stdout",
     "output_type": "stream",
     "text": [
      "loss for 3800 is nan\n"
     ]
    },
    {
     "name": "stderr",
     "output_type": "stream",
     "text": [
      "\n",
      "\n",
      " 38%|█████████████████████████████▋                                                | 3802/9973 [01:26<02:23, 42.92it/s]\n",
      "\n",
      " 38%|█████████████████████████████▊                                                | 3807/9973 [01:26<02:24, 42.53it/s]\n",
      "\n",
      " 38%|█████████████████████████████▊                                                | 3814/9973 [01:26<02:08, 47.81it/s]\n",
      "\n",
      " 38%|█████████████████████████████▉                                                | 3820/9973 [01:26<02:14, 45.79it/s]\n",
      "\n",
      " 38%|█████████████████████████████▉                                                | 3825/9973 [01:26<02:21, 43.54it/s]\n",
      "\n",
      " 38%|█████████████████████████████▉                                                | 3830/9973 [01:27<02:27, 41.67it/s]\n",
      "\n",
      " 38%|█████████████████████████████▉                                                | 3835/9973 [01:27<02:22, 42.96it/s]\n",
      "\n",
      " 39%|██████████████████████████████                                                | 3843/9973 [01:27<02:03, 49.52it/s]\n",
      "\n",
      " 39%|██████████████████████████████                                                | 3850/9973 [01:27<01:52, 54.28it/s]\n",
      "\n",
      " 39%|██████████████████████████████▏                                               | 3858/9973 [01:27<01:47, 56.99it/s]\n",
      "\n",
      " 39%|██████████████████████████████▏                                               | 3865/9973 [01:27<01:44, 58.54it/s]\n",
      "\n",
      " 39%|██████████████████████████████▎                                               | 3872/9973 [01:27<01:55, 52.67it/s]\n",
      "\n",
      " 39%|██████████████████████████████▎                                               | 3878/9973 [01:27<01:57, 51.84it/s]\n",
      "\n",
      " 39%|██████████████████████████████▍                                               | 3884/9973 [01:28<02:30, 40.48it/s]\n",
      "\n",
      " 39%|██████████████████████████████▍                                               | 3889/9973 [01:28<02:36, 38.92it/s]\n",
      "\n",
      " 39%|██████████████████████████████▍                                               | 3894/9973 [01:28<02:40, 37.90it/s]\n",
      "\n",
      " 39%|██████████████████████████████▍                                               | 3899/9973 [01:28<02:34, 39.32it/s]"
     ]
    },
    {
     "name": "stdout",
     "output_type": "stream",
     "text": [
      "loss for 3900 is nan\n"
     ]
    },
    {
     "name": "stderr",
     "output_type": "stream",
     "text": [
      "\n",
      "\n",
      " 39%|██████████████████████████████▌                                               | 3904/9973 [01:28<02:25, 41.60it/s]\n",
      "\n",
      " 39%|██████████████████████████████▌                                               | 3909/9973 [01:28<02:27, 41.21it/s]\n",
      "\n",
      " 39%|██████████████████████████████▋                                               | 3916/9973 [01:28<02:10, 46.26it/s]\n",
      "\n",
      " 39%|██████████████████████████████▋                                               | 3921/9973 [01:29<02:25, 41.65it/s]\n",
      "\n",
      " 39%|██████████████████████████████▋                                               | 3926/9973 [01:29<02:42, 37.19it/s]\n",
      "\n",
      " 39%|██████████████████████████████▋                                               | 3931/9973 [01:29<02:51, 35.18it/s]\n",
      "\n",
      " 39%|██████████████████████████████▊                                               | 3936/9973 [01:29<02:45, 36.58it/s]\n",
      "\n",
      " 40%|██████████████████████████████▊                                               | 3940/9973 [01:29<02:49, 35.54it/s]\n",
      "\n",
      " 40%|██████████████████████████████▊                                               | 3944/9973 [01:29<02:45, 36.37it/s]\n",
      "\n",
      " 40%|██████████████████████████████▉                                               | 3948/9973 [01:29<02:53, 34.67it/s]\n",
      "\n",
      " 40%|██████████████████████████████▉                                               | 3953/9973 [01:29<02:42, 37.16it/s]\n",
      "\n",
      " 40%|██████████████████████████████▉                                               | 3957/9973 [01:30<02:40, 37.54it/s]\n",
      "\n",
      " 40%|███████████████████████████████                                               | 3965/9973 [01:30<02:16, 44.06it/s]\n",
      "\n",
      " 40%|███████████████████████████████                                               | 3970/9973 [01:30<02:20, 42.87it/s]\n",
      "\n",
      " 40%|███████████████████████████████                                               | 3975/9973 [01:30<02:13, 44.78it/s]\n",
      "\n",
      " 40%|███████████████████████████████▏                                              | 3980/9973 [01:30<02:15, 44.27it/s]\n",
      "\n",
      " 40%|███████████████████████████████▏                                              | 3985/9973 [01:30<02:13, 44.86it/s]\n",
      "\n",
      " 40%|███████████████████████████████▏                                              | 3994/9973 [01:30<01:56, 51.36it/s]\n",
      "\n",
      " 40%|███████████████████████████████▎                                              | 4000/9973 [01:30<01:54, 52.00it/s]"
     ]
    },
    {
     "name": "stdout",
     "output_type": "stream",
     "text": [
      "loss for 4000 is nan\n"
     ]
    },
    {
     "name": "stderr",
     "output_type": "stream",
     "text": [
      "\n",
      "\n",
      " 40%|███████████████████████████████▎                                              | 4006/9973 [01:31<02:11, 45.33it/s]\n",
      "\n",
      " 40%|███████████████████████████████▍                                              | 4013/9973 [01:31<01:59, 49.82it/s]\n",
      "\n",
      " 40%|███████████████████████████████▍                                              | 4019/9973 [01:31<01:58, 50.38it/s]\n",
      "\n",
      " 40%|███████████████████████████████▍                                              | 4025/9973 [01:31<01:58, 50.26it/s]\n",
      "\n",
      " 40%|███████████████████████████████▌                                              | 4031/9973 [01:31<02:04, 47.79it/s]\n",
      "\n",
      " 40%|███████████████████████████████▌                                              | 4036/9973 [01:31<02:06, 46.80it/s]\n",
      "\n",
      " 41%|███████████████████████████████▌                                              | 4041/9973 [01:31<02:05, 47.17it/s]\n",
      "\n",
      " 41%|███████████████████████████████▋                                              | 4046/9973 [01:31<02:09, 45.87it/s]\n",
      "\n",
      " 41%|███████████████████████████████▋                                              | 4054/9973 [01:31<01:53, 52.19it/s]\n",
      "\n",
      " 41%|███████████████████████████████▊                                              | 4061/9973 [01:32<01:47, 54.91it/s]\n",
      "\n",
      " 41%|███████████████████████████████▊                                              | 4067/9973 [01:32<01:53, 52.22it/s]\n",
      "\n",
      " 41%|███████████████████████████████▊                                              | 4075/9973 [01:32<01:42, 57.29it/s]\n",
      "\n",
      " 41%|███████████████████████████████▉                                              | 4082/9973 [01:32<01:48, 54.38it/s]\n",
      "\n",
      " 41%|███████████████████████████████▉                                              | 4088/9973 [01:32<01:49, 53.56it/s]\n",
      "\n",
      " 41%|████████████████████████████████                                              | 4094/9973 [01:32<01:53, 51.89it/s]"
     ]
    },
    {
     "name": "stdout",
     "output_type": "stream",
     "text": [
      "loss for 4100 is nan\n"
     ]
    },
    {
     "name": "stderr",
     "output_type": "stream",
     "text": [
      "\n",
      "\n",
      " 41%|████████████████████████████████                                              | 4102/9973 [01:32<01:41, 58.01it/s]\n",
      "\n",
      " 41%|████████████████████████████████▏                                             | 4109/9973 [01:32<01:47, 54.32it/s]\n",
      "\n",
      " 41%|████████████████████████████████▏                                             | 4115/9973 [01:33<01:55, 50.79it/s]\n",
      "\n",
      " 41%|████████████████████████████████▏                                             | 4121/9973 [01:33<02:01, 48.12it/s]\n",
      "\n",
      " 41%|████████████████████████████████▎                                             | 4127/9973 [01:33<02:03, 47.29it/s]\n",
      "\n",
      " 41%|████████████████████████████████▎                                             | 4132/9973 [01:33<02:02, 47.52it/s]\n",
      "\n",
      " 41%|████████████████████████████████▎                                             | 4137/9973 [01:33<02:02, 47.69it/s]\n",
      "\n",
      " 42%|████████████████████████████████▍                                             | 4142/9973 [01:33<02:06, 46.21it/s]\n",
      "\n",
      " 42%|████████████████████████████████▍                                             | 4147/9973 [01:33<02:10, 44.75it/s]\n",
      "\n",
      " 42%|████████████████████████████████▍                                             | 4152/9973 [01:33<02:07, 45.70it/s]\n",
      "\n",
      " 42%|████████████████████████████████▌                                             | 4157/9973 [01:33<02:12, 43.94it/s]\n",
      "\n",
      " 42%|████████████████████████████████▌                                             | 4162/9973 [01:34<02:11, 44.15it/s]\n",
      "\n",
      " 42%|████████████████████████████████▌                                             | 4169/9973 [01:34<01:56, 49.65it/s]\n",
      "\n",
      " 42%|████████████████████████████████▋                                             | 4175/9973 [01:34<02:01, 47.85it/s]\n",
      "\n",
      " 42%|████████████████████████████████▋                                             | 4181/9973 [01:34<01:58, 48.95it/s]\n",
      "\n",
      " 42%|████████████████████████████████▋                                             | 4187/9973 [01:34<02:06, 45.66it/s]\n",
      "\n",
      " 42%|████████████████████████████████▊                                             | 4192/9973 [01:34<02:15, 42.57it/s]\n",
      "\n",
      " 42%|████████████████████████████████▊                                             | 4197/9973 [01:34<02:33, 37.70it/s]"
     ]
    },
    {
     "name": "stdout",
     "output_type": "stream",
     "text": [
      "loss for 4200 is nan\n"
     ]
    },
    {
     "name": "stderr",
     "output_type": "stream",
     "text": [
      "\n",
      "\n",
      " 42%|████████████████████████████████▊                                             | 4201/9973 [01:35<02:35, 37.08it/s]\n",
      "\n",
      " 42%|████████████████████████████████▉                                             | 4211/9973 [01:35<02:06, 45.46it/s]\n",
      "\n",
      " 42%|████████████████████████████████▉                                             | 4218/9973 [01:35<01:53, 50.80it/s]\n",
      "\n",
      " 42%|█████████████████████████████████                                             | 4228/9973 [01:35<01:39, 57.54it/s]\n",
      "\n",
      " 42%|█████████████████████████████████                                             | 4235/9973 [01:35<01:47, 53.54it/s]\n",
      "\n",
      " 43%|█████████████████████████████████▏                                            | 4242/9973 [01:35<01:57, 48.91it/s]\n",
      "\n",
      " 43%|█████████████████████████████████▏                                            | 4248/9973 [01:35<02:02, 46.92it/s]\n",
      "\n",
      " 43%|█████████████████████████████████▎                                            | 4254/9973 [01:35<02:07, 44.81it/s]\n",
      "\n",
      " 43%|█████████████████████████████████▎                                            | 4259/9973 [01:36<02:10, 43.82it/s]\n",
      "\n",
      " 43%|█████████████████████████████████▎                                            | 4266/9973 [01:36<01:56, 48.94it/s]\n",
      "\n",
      " 43%|█████████████████████████████████▍                                            | 4272/9973 [01:36<02:01, 46.94it/s]\n",
      "\n",
      " 43%|█████████████████████████████████▍                                            | 4277/9973 [01:36<02:01, 46.75it/s]\n",
      "\n",
      " 43%|█████████████████████████████████▍                                            | 4282/9973 [01:36<02:07, 44.61it/s]\n",
      "\n",
      " 43%|█████████████████████████████████▌                                            | 4287/9973 [01:36<02:12, 42.79it/s]\n",
      "\n",
      " 43%|█████████████████████████████████▌                                            | 4292/9973 [01:36<02:07, 44.72it/s]\n",
      "\n",
      " 43%|█████████████████████████████████▌                                            | 4299/9973 [01:36<01:56, 48.90it/s]"
     ]
    },
    {
     "name": "stdout",
     "output_type": "stream",
     "text": [
      "loss for 4300 is nan\n"
     ]
    },
    {
     "name": "stderr",
     "output_type": "stream",
     "text": [
      "\n",
      "\n",
      " 43%|█████████████████████████████████▋                                            | 4306/9973 [01:36<01:47, 52.79it/s]\n",
      "\n",
      " 43%|█████████████████████████████████▋                                            | 4312/9973 [01:37<01:51, 50.86it/s]\n",
      "\n",
      " 43%|█████████████████████████████████▊                                            | 4318/9973 [01:37<01:52, 50.09it/s]\n",
      "\n",
      " 43%|█████████████████████████████████▊                                            | 4325/9973 [01:37<01:46, 53.27it/s]\n",
      "\n",
      " 43%|█████████████████████████████████▊                                            | 4331/9973 [01:37<01:54, 49.16it/s]\n",
      "\n",
      " 43%|█████████████████████████████████▉                                            | 4338/9973 [01:37<01:45, 53.49it/s]\n",
      "\n",
      " 44%|█████████████████████████████████▉                                            | 4344/9973 [01:37<01:49, 51.31it/s]\n",
      "\n",
      " 44%|██████████████████████████████████                                            | 4351/9973 [01:37<01:43, 54.23it/s]\n",
      "\n",
      " 44%|██████████████████████████████████                                            | 4357/9973 [01:37<01:54, 49.24it/s]\n",
      "\n",
      " 44%|██████████████████████████████████▏                                           | 4364/9973 [01:38<01:47, 52.12it/s]\n",
      "\n",
      " 44%|██████████████████████████████████▏                                           | 4370/9973 [01:38<01:52, 49.92it/s]\n",
      "\n",
      " 44%|██████████████████████████████████▏                                           | 4377/9973 [01:38<01:46, 52.65it/s]\n",
      "\n",
      " 44%|██████████████████████████████████▎                                           | 4385/9973 [01:38<01:38, 56.67it/s]\n",
      "\n",
      " 44%|██████████████████████████████████▎                                           | 4391/9973 [01:38<01:39, 56.33it/s]\n",
      "\n",
      " 44%|██████████████████████████████████▍                                           | 4397/9973 [01:38<01:44, 53.12it/s]"
     ]
    },
    {
     "name": "stdout",
     "output_type": "stream",
     "text": [
      "loss for 4400 is nan\n"
     ]
    },
    {
     "name": "stderr",
     "output_type": "stream",
     "text": [
      "\n",
      "\n",
      " 44%|██████████████████████████████████▍                                           | 4403/9973 [01:38<01:50, 50.56it/s]\n",
      "\n",
      " 44%|██████████████████████████████████▍                                           | 4410/9973 [01:38<01:41, 54.64it/s]\n",
      "\n",
      " 44%|██████████████████████████████████▌                                           | 4418/9973 [01:39<01:33, 59.31it/s]\n",
      "\n",
      " 44%|██████████████████████████████████▌                                           | 4425/9973 [01:39<01:41, 54.59it/s]\n",
      "\n",
      " 44%|██████████████████████████████████▋                                           | 4431/9973 [01:39<01:38, 56.11it/s]\n",
      "\n",
      " 44%|██████████████████████████████████▋                                           | 4437/9973 [01:39<01:44, 52.98it/s]\n",
      "\n",
      " 45%|██████████████████████████████████▋                                           | 4443/9973 [01:39<01:46, 52.05it/s]\n",
      "\n",
      " 45%|██████████████████████████████████▊                                           | 4449/9973 [01:39<01:43, 53.62it/s]\n",
      "\n",
      " 45%|██████████████████████████████████▊                                           | 4455/9973 [01:39<01:48, 50.88it/s]\n",
      "\n",
      " 45%|██████████████████████████████████▉                                           | 4461/9973 [01:39<01:55, 47.71it/s]\n",
      "\n",
      " 45%|██████████████████████████████████▉                                           | 4469/9973 [01:40<01:43, 53.42it/s]\n",
      "\n",
      " 45%|██████████████████████████████████▉                                           | 4475/9973 [01:40<01:40, 54.63it/s]\n",
      "\n",
      " 45%|███████████████████████████████████                                           | 4483/9973 [01:40<01:30, 60.38it/s]\n",
      "\n",
      " 45%|███████████████████████████████████                                           | 4490/9973 [01:40<01:36, 56.84it/s]"
     ]
    },
    {
     "name": "stdout",
     "output_type": "stream",
     "text": [
      "loss for 4500 is nan\n"
     ]
    },
    {
     "name": "stderr",
     "output_type": "stream",
     "text": [
      "\n",
      "\n",
      " 45%|███████████████████████████████████▏                                          | 4501/9973 [01:40<01:24, 65.06it/s]\n",
      "\n",
      " 45%|███████████████████████████████████▎                                          | 4509/9973 [01:40<01:24, 64.90it/s]\n",
      "\n",
      " 45%|███████████████████████████████████▎                                          | 4516/9973 [01:40<01:25, 63.46it/s]\n",
      "\n",
      " 45%|███████████████████████████████████▎                                          | 4523/9973 [01:40<01:42, 53.35it/s]\n",
      "\n",
      " 45%|███████████████████████████████████▍                                          | 4531/9973 [01:41<01:36, 56.27it/s]\n",
      "\n",
      " 46%|███████████████████████████████████▍                                          | 4538/9973 [01:41<01:50, 49.20it/s]\n",
      "\n",
      " 46%|███████████████████████████████████▌                                          | 4544/9973 [01:41<01:53, 48.01it/s]\n",
      "\n",
      " 46%|███████████████████████████████████▌                                          | 4553/9973 [01:41<01:39, 54.61it/s]\n",
      "\n",
      " 46%|███████████████████████████████████▋                                          | 4559/9973 [01:41<01:37, 55.49it/s]\n",
      "\n",
      " 46%|███████████████████████████████████▋                                          | 4565/9973 [01:41<01:44, 51.51it/s]\n",
      "\n",
      " 46%|███████████████████████████████████▊                                          | 4571/9973 [01:41<01:47, 50.03it/s]\n",
      "\n",
      " 46%|███████████████████████████████████▊                                          | 4577/9973 [01:42<02:05, 43.12it/s]\n",
      "\n",
      " 46%|███████████████████████████████████▊                                          | 4582/9973 [01:42<02:25, 36.99it/s]\n",
      "\n",
      " 46%|███████████████████████████████████▉                                          | 4588/9973 [01:42<02:10, 41.11it/s]\n",
      "\n",
      " 46%|███████████████████████████████████▉                                          | 4593/9973 [01:42<02:19, 38.60it/s]\n",
      "\n",
      " 46%|███████████████████████████████████▉                                          | 4600/9973 [01:42<02:05, 42.65it/s]"
     ]
    },
    {
     "name": "stdout",
     "output_type": "stream",
     "text": [
      "loss for 4600 is nan\n"
     ]
    },
    {
     "name": "stderr",
     "output_type": "stream",
     "text": [
      "\n",
      "\n",
      " 46%|████████████████████████████████████                                          | 4605/9973 [01:42<02:19, 38.44it/s]\n",
      "\n",
      " 46%|████████████████████████████████████                                          | 4610/9973 [01:42<02:22, 37.58it/s]\n",
      "\n",
      " 46%|████████████████████████████████████                                          | 4614/9973 [01:42<02:24, 37.00it/s]\n",
      "\n",
      " 46%|████████████████████████████████████                                          | 4618/9973 [01:43<02:23, 37.43it/s]\n",
      "\n",
      " 46%|████████████████████████████████████▏                                         | 4625/9973 [01:43<02:05, 42.55it/s]\n",
      "\n",
      " 46%|████████████████████████████████████▏                                         | 4632/9973 [01:43<01:53, 47.05it/s]\n",
      "\n",
      " 47%|████████████████████████████████████▎                                         | 4638/9973 [01:43<01:57, 45.30it/s]\n",
      "\n",
      " 47%|████████████████████████████████████▎                                         | 4643/9973 [01:43<02:03, 43.23it/s]\n",
      "\n",
      " 47%|████████████████████████████████████▎                                         | 4650/9973 [01:43<01:49, 48.83it/s]\n",
      "\n",
      " 47%|████████████████████████████████████▍                                         | 4656/9973 [01:43<01:51, 47.77it/s]\n",
      "\n",
      " 47%|████████████████████████████████████▍                                         | 4662/9973 [01:43<01:57, 45.34it/s]\n",
      "\n",
      " 47%|████████████████████████████████████▌                                         | 4667/9973 [01:44<01:57, 45.13it/s]\n",
      "\n",
      " 47%|████████████████████████████████████▌                                         | 4673/9973 [01:44<01:49, 48.28it/s]\n",
      "\n",
      " 47%|████████████████████████████████████▌                                         | 4679/9973 [01:44<01:46, 49.76it/s]\n",
      "\n",
      " 47%|████████████████████████████████████▋                                         | 4685/9973 [01:44<01:52, 47.02it/s]\n",
      "\n",
      " 47%|████████████████████████████████████▋                                         | 4690/9973 [01:44<01:54, 46.28it/s]\n",
      "\n",
      " 47%|████████████████████████████████████▋                                         | 4697/9973 [01:44<01:43, 51.07it/s]"
     ]
    },
    {
     "name": "stdout",
     "output_type": "stream",
     "text": [
      "loss for 4700 is nan\n"
     ]
    },
    {
     "name": "stderr",
     "output_type": "stream",
     "text": [
      "\n",
      "\n",
      " 47%|████████████████████████████████████▊                                         | 4705/9973 [01:44<01:31, 57.28it/s]\n",
      "\n",
      " 47%|████████████████████████████████████▊                                         | 4714/9973 [01:44<01:24, 62.16it/s]\n",
      "\n",
      " 47%|████████████████████████████████████▉                                         | 4721/9973 [01:45<01:32, 56.81it/s]\n",
      "\n",
      " 47%|████████████████████████████████████▉                                         | 4728/9973 [01:45<01:43, 50.78it/s]\n",
      "\n",
      " 47%|█████████████████████████████████████                                         | 4736/9973 [01:45<01:34, 55.60it/s]\n",
      "\n",
      " 48%|█████████████████████████████████████                                         | 4742/9973 [01:45<01:43, 50.53it/s]\n",
      "\n",
      " 48%|█████████████████████████████████████▏                                        | 4748/9973 [01:45<01:44, 49.87it/s]\n",
      "\n",
      " 48%|█████████████████████████████████████▏                                        | 4754/9973 [01:45<01:43, 50.41it/s]\n",
      "\n",
      " 48%|█████████████████████████████████████▏                                        | 4760/9973 [01:45<01:50, 46.98it/s]\n",
      "\n",
      " 48%|█████████████████████████████████████▎                                        | 4765/9973 [01:45<01:56, 44.76it/s]\n",
      "\n",
      " 48%|█████████████████████████████████████▎                                        | 4770/9973 [01:46<02:03, 42.02it/s]\n",
      "\n",
      " 48%|█████████████████████████████████████▎                                        | 4775/9973 [01:46<02:05, 41.50it/s]\n",
      "\n",
      " 48%|█████████████████████████████████████▍                                        | 4780/9973 [01:46<02:04, 41.55it/s]\n",
      "\n",
      " 48%|█████████████████████████████████████▍                                        | 4787/9973 [01:46<01:49, 47.32it/s]\n",
      "\n",
      " 48%|█████████████████████████████████████▍                                        | 4794/9973 [01:46<01:40, 51.49it/s]\n",
      "\n",
      " 48%|█████████████████████████████████████▌                                        | 4800/9973 [01:46<01:38, 52.64it/s]"
     ]
    },
    {
     "name": "stdout",
     "output_type": "stream",
     "text": [
      "loss for 4800 is nan\n"
     ]
    },
    {
     "name": "stderr",
     "output_type": "stream",
     "text": [
      "\n",
      "\n",
      " 48%|█████████████████████████████████████▌                                        | 4806/9973 [01:46<01:36, 53.48it/s]\n",
      "\n",
      " 48%|█████████████████████████████████████▋                                        | 4813/9973 [01:46<01:33, 55.37it/s]\n",
      "\n",
      " 48%|█████████████████████████████████████▋                                        | 4819/9973 [01:47<01:40, 51.44it/s]\n",
      "\n",
      " 48%|█████████████████████████████████████▊                                        | 4827/9973 [01:47<01:33, 54.77it/s]\n",
      "\n",
      " 48%|█████████████████████████████████████▊                                        | 4833/9973 [01:47<01:45, 48.59it/s]\n",
      "\n",
      " 49%|█████████████████████████████████████▊                                        | 4839/9973 [01:47<01:41, 50.49it/s]\n",
      "\n",
      " 49%|█████████████████████████████████████▉                                        | 4847/9973 [01:47<01:31, 55.82it/s]\n",
      "\n",
      " 49%|█████████████████████████████████████▉                                        | 4854/9973 [01:47<01:29, 57.10it/s]\n",
      "\n",
      " 49%|██████████████████████████████████████                                        | 4861/9973 [01:47<01:28, 57.47it/s]\n",
      "\n",
      " 49%|██████████████████████████████████████                                        | 4868/9973 [01:47<01:29, 57.16it/s]\n",
      "\n",
      " 49%|██████████████████████████████████████                                        | 4874/9973 [01:48<01:37, 52.50it/s]\n",
      "\n",
      " 49%|██████████████████████████████████████▏                                       | 4880/9973 [01:48<01:33, 54.55it/s]\n",
      "\n",
      " 49%|██████████████████████████████████████▏                                       | 4886/9973 [01:48<01:41, 49.92it/s]\n",
      "\n",
      " 49%|██████████████████████████████████████▎                                       | 4892/9973 [01:48<01:43, 48.96it/s]\n",
      "\n",
      " 49%|██████████████████████████████████████▎                                       | 4898/9973 [01:48<01:37, 51.82it/s]"
     ]
    },
    {
     "name": "stdout",
     "output_type": "stream",
     "text": [
      "loss for 4900 is nan\n"
     ]
    },
    {
     "name": "stderr",
     "output_type": "stream",
     "text": [
      "\n",
      "\n",
      " 49%|██████████████████████████████████████▎                                       | 4904/9973 [01:48<01:48, 46.93it/s]\n",
      "\n",
      " 49%|██████████████████████████████████████▍                                       | 4909/9973 [01:48<01:56, 43.34it/s]\n",
      "\n",
      " 49%|██████████████████████████████████████▍                                       | 4914/9973 [01:48<01:56, 43.27it/s]\n",
      "\n",
      " 49%|██████████████████████████████████████▍                                       | 4919/9973 [01:49<01:55, 43.67it/s]\n",
      "\n",
      " 49%|██████████████████████████████████████▌                                       | 4928/9973 [01:49<01:39, 50.94it/s]\n",
      "\n",
      " 49%|██████████████████████████████████████▌                                       | 4936/9973 [01:49<01:31, 54.82it/s]\n",
      "\n",
      " 50%|██████████████████████████████████████▋                                       | 4942/9973 [01:49<01:39, 50.59it/s]\n",
      "\n",
      " 50%|██████████████████████████████████████▋                                       | 4948/9973 [01:49<01:41, 49.41it/s]\n",
      "\n",
      " 50%|██████████████████████████████████████▋                                       | 4954/9973 [01:49<01:45, 47.70it/s]\n",
      "\n",
      " 50%|██████████████████████████████████████▊                                       | 4959/9973 [01:49<01:52, 44.73it/s]\n",
      "\n",
      " 50%|██████████████████████████████████████▊                                       | 4964/9973 [01:49<01:52, 44.70it/s]\n",
      "\n",
      " 50%|██████████████████████████████████████▊                                       | 4970/9973 [01:49<01:44, 47.94it/s]\n",
      "\n",
      " 50%|██████████████████████████████████████▉                                       | 4975/9973 [01:50<01:48, 45.87it/s]\n",
      "\n",
      " 50%|██████████████████████████████████████▉                                       | 4980/9973 [01:50<01:56, 42.70it/s]\n",
      "\n",
      " 50%|██████████████████████████████████████▉                                       | 4985/9973 [01:50<02:00, 41.54it/s]\n",
      "\n",
      " 50%|███████████████████████████████████████                                       | 4993/9973 [01:50<01:46, 46.83it/s]\n",
      "\n",
      " 50%|███████████████████████████████████████                                       | 4998/9973 [01:50<01:51, 44.67it/s]"
     ]
    },
    {
     "name": "stdout",
     "output_type": "stream",
     "text": [
      "loss for 5000 is nan\n"
     ]
    },
    {
     "name": "stderr",
     "output_type": "stream",
     "text": [
      "\n",
      "\n",
      " 50%|███████████████████████████████████████▏                                      | 5003/9973 [01:50<01:51, 44.66it/s]\n",
      "\n",
      " 50%|███████████████████████████████████████▏                                      | 5008/9973 [01:50<01:54, 43.26it/s]\n",
      "\n",
      " 50%|███████████████████████████████████████▏                                      | 5013/9973 [01:50<01:55, 42.77it/s]\n",
      "\n",
      " 50%|███████████████████████████████████████▏                                      | 5018/9973 [01:51<02:01, 40.77it/s]\n",
      "\n",
      " 50%|███████████████████████████████████████▎                                      | 5023/9973 [01:51<02:04, 39.86it/s]\n",
      "\n",
      " 50%|███████████████████████████████████████▎                                      | 5028/9973 [01:51<02:09, 38.17it/s]\n",
      "\n",
      " 50%|███████████████████████████████████████▎                                      | 5032/9973 [01:51<02:10, 37.82it/s]\n",
      "\n",
      " 51%|███████████████████████████████████████▍                                      | 5037/9973 [01:51<02:05, 39.26it/s]\n",
      "\n",
      " 51%|███████████████████████████████████████▍                                      | 5041/9973 [01:51<02:06, 39.02it/s]\n",
      "\n",
      " 51%|███████████████████████████████████████▍                                      | 5045/9973 [01:51<02:06, 38.85it/s]\n",
      "\n",
      " 51%|███████████████████████████████████████▍                                      | 5050/9973 [01:51<02:01, 40.42it/s]\n",
      "\n",
      " 51%|███████████████████████████████████████▌                                      | 5055/9973 [01:52<01:57, 42.02it/s]\n",
      "\n",
      " 51%|███████████████████████████████████████▌                                      | 5060/9973 [01:52<01:52, 43.67it/s]\n",
      "\n",
      " 51%|███████████████████████████████████████▌                                      | 5065/9973 [01:52<01:59, 40.94it/s]\n",
      "\n",
      " 51%|███████████████████████████████████████▋                                      | 5070/9973 [01:52<02:01, 40.36it/s]\n",
      "\n",
      " 51%|███████████████████████████████████████▋                                      | 5075/9973 [01:52<02:01, 40.35it/s]\n",
      "\n",
      " 51%|███████████████████████████████████████▋                                      | 5080/9973 [01:52<02:00, 40.73it/s]\n",
      "\n",
      " 51%|███████████████████████████████████████▊                                      | 5089/9973 [01:52<01:40, 48.74it/s]\n",
      "\n",
      " 51%|███████████████████████████████████████▊                                      | 5098/9973 [01:52<01:28, 55.26it/s]"
     ]
    },
    {
     "name": "stdout",
     "output_type": "stream",
     "text": [
      "loss for 5100 is nan\n"
     ]
    },
    {
     "name": "stderr",
     "output_type": "stream",
     "text": [
      "\n",
      "\n",
      " 51%|███████████████████████████████████████▉                                      | 5105/9973 [01:52<01:25, 57.25it/s]\n",
      "\n",
      " 51%|███████████████████████████████████████▉                                      | 5112/9973 [01:53<01:28, 54.86it/s]\n",
      "\n",
      " 51%|████████████████████████████████████████                                      | 5118/9973 [01:53<01:32, 52.75it/s]\n",
      "\n",
      " 51%|████████████████████████████████████████                                      | 5124/9973 [01:53<01:37, 49.82it/s]\n",
      "\n",
      " 51%|████████████████████████████████████████▏                                     | 5131/9973 [01:53<01:29, 54.03it/s]\n",
      "\n",
      " 52%|████████████████████████████████████████▏                                     | 5138/9973 [01:53<01:27, 55.26it/s]\n",
      "\n",
      " 52%|████████████████████████████████████████▏                                     | 5144/9973 [01:53<01:34, 51.37it/s]\n",
      "\n",
      " 52%|████████████████████████████████████████▎                                     | 5150/9973 [01:53<01:44, 46.24it/s]\n",
      "\n",
      " 52%|████████████████████████████████████████▎                                     | 5155/9973 [01:54<01:46, 45.25it/s]\n",
      "\n",
      " 52%|████████████████████████████████████████▎                                     | 5160/9973 [01:54<01:52, 42.75it/s]\n",
      "\n",
      " 52%|████████████████████████████████████████▍                                     | 5168/9973 [01:54<01:38, 48.96it/s]\n",
      "\n",
      " 52%|████████████████████████████████████████▍                                     | 5174/9973 [01:54<01:43, 46.52it/s]\n",
      "\n",
      " 52%|████████████████████████████████████████▌                                     | 5179/9973 [01:54<01:50, 43.54it/s]\n",
      "\n",
      " 52%|████████████████████████████████████████▌                                     | 5184/9973 [01:54<01:50, 43.41it/s]\n",
      "\n",
      " 52%|████████████████████████████████████████▌                                     | 5189/9973 [01:54<01:53, 42.01it/s]\n",
      "\n",
      " 52%|████████████████████████████████████████▌                                     | 5194/9973 [01:54<01:58, 40.28it/s]\n",
      "\n",
      " 52%|████████████████████████████████████████▋                                     | 5199/9973 [01:55<02:00, 39.53it/s]"
     ]
    },
    {
     "name": "stdout",
     "output_type": "stream",
     "text": [
      "loss for 5200 is nan\n"
     ]
    },
    {
     "name": "stderr",
     "output_type": "stream",
     "text": [
      "\n",
      "\n",
      " 52%|████████████████████████████████████████▋                                     | 5204/9973 [01:55<02:09, 36.94it/s]\n",
      "\n",
      " 52%|████████████████████████████████████████▋                                     | 5208/9973 [01:55<02:14, 35.40it/s]\n",
      "\n",
      " 52%|████████████████████████████████████████▊                                     | 5212/9973 [01:55<02:12, 35.88it/s]\n",
      "\n",
      " 52%|████████████████████████████████████████▊                                     | 5216/9973 [01:55<02:17, 34.71it/s]\n",
      "\n",
      " 52%|████████████████████████████████████████▊                                     | 5220/9973 [01:55<02:12, 35.76it/s]\n",
      "\n",
      " 52%|████████████████████████████████████████▊                                     | 5224/9973 [01:55<02:10, 36.53it/s]\n",
      "\n",
      " 52%|████████████████████████████████████████▉                                     | 5228/9973 [01:55<02:09, 36.68it/s]\n",
      "\n",
      " 52%|████████████████████████████████████████▉                                     | 5232/9973 [01:55<02:08, 36.79it/s]\n",
      "\n",
      " 53%|████████████████████████████████████████▉                                     | 5239/9973 [01:56<01:54, 41.37it/s]\n",
      "\n",
      " 53%|█████████████████████████████████████████                                     | 5244/9973 [01:56<01:58, 39.87it/s]\n",
      "\n",
      " 53%|█████████████████████████████████████████                                     | 5250/9973 [01:56<01:49, 43.18it/s]\n",
      "\n",
      " 53%|█████████████████████████████████████████                                     | 5255/9973 [01:56<01:51, 42.28it/s]\n",
      "\n",
      " 53%|█████████████████████████████████████████▏                                    | 5260/9973 [01:56<01:49, 42.97it/s]\n",
      "\n",
      " 53%|█████████████████████████████████████████▏                                    | 5266/9973 [01:56<01:40, 46.97it/s]\n",
      "\n",
      " 53%|█████████████████████████████████████████▏                                    | 5271/9973 [01:56<01:42, 45.74it/s]\n",
      "\n",
      " 53%|█████████████████████████████████████████▎                                    | 5276/9973 [01:56<01:42, 45.90it/s]\n",
      "\n",
      " 53%|█████████████████████████████████████████▎                                    | 5281/9973 [01:57<01:48, 43.16it/s]\n",
      "\n",
      " 53%|█████████████████████████████████████████▎                                    | 5288/9973 [01:57<01:39, 47.19it/s]\n",
      "\n",
      " 53%|█████████████████████████████████████████▍                                    | 5293/9973 [01:57<01:41, 45.89it/s]\n",
      "\n",
      " 53%|█████████████████████████████████████████▍                                    | 5298/9973 [01:57<01:42, 45.51it/s]"
     ]
    },
    {
     "name": "stdout",
     "output_type": "stream",
     "text": [
      "loss for 5300 is nan\n"
     ]
    },
    {
     "name": "stderr",
     "output_type": "stream",
     "text": [
      "\n",
      "\n",
      " 53%|█████████████████████████████████████████▍                                    | 5305/9973 [01:57<01:37, 47.92it/s]\n",
      "\n",
      " 53%|█████████████████████████████████████████▌                                    | 5310/9973 [01:57<01:45, 44.39it/s]\n",
      "\n",
      " 53%|█████████████████████████████████████████▌                                    | 5315/9973 [01:57<01:41, 45.94it/s]\n",
      "\n",
      " 53%|█████████████████████████████████████████▌                                    | 5320/9973 [01:57<01:43, 45.05it/s]\n",
      "\n",
      " 53%|█████████████████████████████████████████▋                                    | 5325/9973 [01:57<01:43, 44.93it/s]\n",
      "\n",
      " 53%|█████████████████████████████████████████▋                                    | 5330/9973 [01:58<01:42, 45.33it/s]\n",
      "\n",
      " 53%|█████████████████████████████████████████▋                                    | 5335/9973 [01:58<01:45, 44.16it/s]\n",
      "\n",
      " 54%|█████████████████████████████████████████▊                                    | 5340/9973 [01:58<01:43, 44.78it/s]\n",
      "\n",
      " 54%|█████████████████████████████████████████▊                                    | 5346/9973 [01:58<01:39, 46.66it/s]\n",
      "\n",
      " 54%|█████████████████████████████████████████▊                                    | 5351/9973 [01:58<01:40, 46.04it/s]\n",
      "\n",
      " 54%|█████████████████████████████████████████▉                                    | 5356/9973 [01:58<01:40, 46.11it/s]\n",
      "\n",
      " 54%|█████████████████████████████████████████▉                                    | 5361/9973 [01:58<01:43, 44.68it/s]\n",
      "\n",
      " 54%|█████████████████████████████████████████▉                                    | 5366/9973 [01:58<01:45, 43.73it/s]\n",
      "\n",
      " 54%|██████████████████████████████████████████                                    | 5372/9973 [01:58<01:41, 45.44it/s]\n",
      "\n",
      " 54%|██████████████████████████████████████████                                    | 5377/9973 [01:59<01:42, 44.71it/s]\n",
      "\n",
      " 54%|██████████████████████████████████████████                                    | 5384/9973 [01:59<01:33, 49.30it/s]\n",
      "\n",
      " 54%|██████████████████████████████████████████▏                                   | 5390/9973 [01:59<01:38, 46.30it/s]\n",
      "\n",
      " 54%|██████████████████████████████████████████▏                                   | 5395/9973 [01:59<01:45, 43.40it/s]\n",
      "\n",
      " 54%|██████████████████████████████████████████▏                                   | 5400/9973 [01:59<01:44, 43.77it/s]"
     ]
    },
    {
     "name": "stdout",
     "output_type": "stream",
     "text": [
      "loss for 5400 is nan\n"
     ]
    },
    {
     "name": "stderr",
     "output_type": "stream",
     "text": [
      "\n",
      "\n",
      " 54%|██████████████████████████████████████████▎                                   | 5405/9973 [01:59<01:45, 43.12it/s]\n",
      "\n",
      " 54%|██████████████████████████████████████████▎                                   | 5410/9973 [01:59<01:49, 41.81it/s]\n",
      "\n",
      " 54%|██████████████████████████████████████████▎                                   | 5415/9973 [01:59<01:49, 41.77it/s]\n",
      "\n",
      " 54%|██████████████████████████████████████████▍                                   | 5420/9973 [02:00<01:46, 42.59it/s]\n",
      "\n",
      " 54%|██████████████████████████████████████████▍                                   | 5428/9973 [02:00<01:33, 48.46it/s]\n",
      "\n",
      " 54%|██████████████████████████████████████████▌                                   | 5435/9973 [02:00<01:28, 51.50it/s]\n",
      "\n",
      " 55%|██████████████████████████████████████████▌                                   | 5446/9973 [02:00<01:15, 60.08it/s]\n",
      "\n",
      " 55%|██████████████████████████████████████████▋                                   | 5453/9973 [02:00<01:21, 55.57it/s]\n",
      "\n",
      " 55%|██████████████████████████████████████████▋                                   | 5460/9973 [02:00<01:24, 53.28it/s]\n",
      "\n",
      " 55%|██████████████████████████████████████████▊                                   | 5470/9973 [02:00<01:13, 61.51it/s]\n",
      "\n",
      " 55%|██████████████████████████████████████████▊                                   | 5477/9973 [02:00<01:18, 56.97it/s]\n",
      "\n",
      " 55%|██████████████████████████████████████████▉                                   | 5484/9973 [02:01<01:27, 51.32it/s]\n",
      "\n",
      " 55%|██████████████████████████████████████████▉                                   | 5490/9973 [02:01<01:34, 47.53it/s]\n",
      "\n",
      " 55%|██████████████████████████████████████████▉                                   | 5496/9973 [02:01<01:39, 45.19it/s]"
     ]
    },
    {
     "name": "stdout",
     "output_type": "stream",
     "text": [
      "loss for 5500 is nan\n"
     ]
    },
    {
     "name": "stderr",
     "output_type": "stream",
     "text": [
      "\n",
      "\n",
      " 55%|███████████████████████████████████████████                                   | 5501/9973 [02:01<01:40, 44.54it/s]\n",
      "\n",
      " 55%|███████████████████████████████████████████                                   | 5509/9973 [02:01<01:29, 49.84it/s]\n",
      "\n",
      " 55%|███████████████████████████████████████████▏                                  | 5515/9973 [02:01<01:31, 48.91it/s]\n",
      "\n",
      " 55%|███████████████████████████████████████████▏                                  | 5521/9973 [02:01<01:28, 50.22it/s]\n",
      "\n",
      " 55%|███████████████████████████████████████████▏                                  | 5527/9973 [02:02<01:25, 51.71it/s]\n",
      "\n",
      " 55%|███████████████████████████████████████████▎                                  | 5533/9973 [02:02<01:30, 49.17it/s]\n",
      "\n",
      " 56%|███████████████████████████████████████████▎                                  | 5539/9973 [02:02<01:25, 51.99it/s]\n",
      "\n",
      " 56%|███████████████████████████████████████████▎                                  | 5545/9973 [02:02<01:31, 48.39it/s]\n",
      "\n",
      " 56%|███████████████████████████████████████████▍                                  | 5552/9973 [02:02<01:23, 52.85it/s]\n",
      "\n",
      " 56%|███████████████████████████████████████████▍                                  | 5558/9973 [02:02<01:31, 48.44it/s]\n",
      "\n",
      " 56%|███████████████████████████████████████████▌                                  | 5564/9973 [02:02<01:33, 47.05it/s]\n",
      "\n",
      " 56%|███████████████████████████████████████████▌                                  | 5569/9973 [02:02<01:39, 44.33it/s]\n",
      "\n",
      " 56%|███████████████████████████████████████████▋                                  | 5592/9973 [02:03<01:15, 58.32it/s]"
     ]
    },
    {
     "name": "stdout",
     "output_type": "stream",
     "text": [
      "loss for 5600 is nan\n"
     ]
    },
    {
     "name": "stderr",
     "output_type": "stream",
     "text": [
      "\n",
      "\n",
      " 56%|███████████████████████████████████████████▊                                  | 5602/9973 [02:03<01:14, 58.68it/s]\n",
      "\n",
      " 56%|███████████████████████████████████████████▉                                  | 5611/9973 [02:03<01:25, 50.86it/s]\n",
      "\n",
      " 56%|███████████████████████████████████████████▉                                  | 5619/9973 [02:03<01:28, 49.11it/s]\n",
      "\n",
      " 56%|████████████████████████████████████████████                                  | 5626/9973 [02:03<01:24, 51.55it/s]\n",
      "\n",
      " 56%|████████████████████████████████████████████                                  | 5633/9973 [02:03<01:32, 46.96it/s]\n",
      "\n",
      " 57%|████████████████████████████████████████████▏                                 | 5642/9973 [02:04<01:20, 54.04it/s]\n",
      "\n",
      " 57%|████████████████████████████████████████████▏                                 | 5649/9973 [02:04<01:16, 56.33it/s]\n",
      "\n",
      " 57%|████████████████████████████████████████████▏                                 | 5656/9973 [02:04<01:22, 52.32it/s]\n",
      "\n",
      " 57%|████████████████████████████████████████████▎                                 | 5662/9973 [02:04<01:26, 50.05it/s]\n",
      "\n",
      " 57%|████████████████████████████████████████████▎                                 | 5668/9973 [02:04<01:25, 50.54it/s]\n",
      "\n",
      " 57%|████████████████████████████████████████████▍                                 | 5675/9973 [02:04<01:21, 52.65it/s]\n",
      "\n",
      " 57%|████████████████████████████████████████████▍                                 | 5681/9973 [02:04<01:32, 46.52it/s]\n",
      "\n",
      " 57%|████████████████████████████████████████████▍                                 | 5688/9973 [02:04<01:23, 51.27it/s]\n",
      "\n",
      " 57%|████████████████████████████████████████████▌                                 | 5694/9973 [02:05<01:26, 49.38it/s]"
     ]
    },
    {
     "name": "stdout",
     "output_type": "stream",
     "text": [
      "loss for 5700 is nan\n"
     ]
    },
    {
     "name": "stderr",
     "output_type": "stream",
     "text": [
      "\n",
      "\n",
      " 57%|████████████████████████████████████████████▌                                 | 5701/9973 [02:05<01:19, 53.67it/s]\n",
      "\n",
      " 57%|████████████████████████████████████████████▋                                 | 5707/9973 [02:05<01:30, 47.07it/s]\n",
      "\n",
      " 57%|████████████████████████████████████████████▋                                 | 5713/9973 [02:05<01:27, 48.85it/s]\n",
      "\n",
      " 57%|████████████████████████████████████████████▋                                 | 5719/9973 [02:05<01:27, 48.71it/s]\n",
      "\n",
      " 57%|████████████████████████████████████████████▊                                 | 5725/9973 [02:05<01:33, 45.52it/s]\n",
      "\n",
      " 57%|████████████████████████████████████████████▊                                 | 5732/9973 [02:05<01:24, 49.98it/s]\n",
      "\n",
      " 58%|████████████████████████████████████████████▉                                 | 5741/9973 [02:05<01:16, 55.54it/s]\n",
      "\n",
      " 58%|████████████████████████████████████████████▉                                 | 5747/9973 [02:06<01:23, 50.50it/s]\n",
      "\n",
      " 58%|████████████████████████████████████████████▉                                 | 5753/9973 [02:06<01:28, 47.93it/s]\n",
      "\n",
      " 58%|█████████████████████████████████████████████                                 | 5759/9973 [02:06<01:33, 45.04it/s]\n",
      "\n",
      " 58%|█████████████████████████████████████████████                                 | 5764/9973 [02:06<01:36, 43.51it/s]\n",
      "\n",
      " 58%|█████████████████████████████████████████████▏                                | 5770/9973 [02:06<01:33, 44.87it/s]\n",
      "\n",
      " 58%|█████████████████████████████████████████████▏                                | 5776/9973 [02:06<01:28, 47.62it/s]\n",
      "\n",
      " 58%|█████████████████████████████████████████████▏                                | 5781/9973 [02:06<01:33, 44.68it/s]\n",
      "\n",
      " 58%|█████████████████████████████████████████████▎                                | 5788/9973 [02:06<01:27, 48.05it/s]\n",
      "\n",
      " 58%|█████████████████████████████████████████████▎                                | 5793/9973 [02:07<01:34, 44.00it/s]\n",
      "\n",
      " 58%|█████████████████████████████████████████████▎                                | 5798/9973 [02:07<01:45, 39.57it/s]"
     ]
    },
    {
     "name": "stdout",
     "output_type": "stream",
     "text": [
      "loss for 5800 is nan\n"
     ]
    },
    {
     "name": "stderr",
     "output_type": "stream",
     "text": [
      "\n",
      "\n",
      " 58%|█████████████████████████████████████████████▍                                | 5803/9973 [02:07<01:43, 40.18it/s]\n",
      "\n",
      " 58%|█████████████████████████████████████████████▍                                | 5809/9973 [02:07<01:36, 43.06it/s]\n",
      "\n",
      " 58%|█████████████████████████████████████████████▍                                | 5814/9973 [02:07<01:37, 42.63it/s]\n",
      "\n",
      " 58%|█████████████████████████████████████████████▌                                | 5819/9973 [02:07<01:39, 41.91it/s]\n",
      "\n",
      " 58%|█████████████████████████████████████████████▌                                | 5824/9973 [02:07<01:42, 40.62it/s]\n",
      "\n",
      " 58%|█████████████████████████████████████████████▌                                | 5829/9973 [02:08<01:44, 39.75it/s]\n",
      "\n",
      " 58%|█████████████████████████████████████████████▋                                | 5834/9973 [02:08<01:48, 38.10it/s]\n",
      "\n",
      " 59%|█████████████████████████████████████████████▋                                | 5838/9973 [02:08<01:50, 37.35it/s]\n",
      "\n",
      " 59%|█████████████████████████████████████████████▋                                | 5845/9973 [02:08<01:37, 42.48it/s]\n",
      "\n",
      " 59%|█████████████████████████████████████████████▊                                | 5852/9973 [02:08<01:26, 47.76it/s]\n",
      "\n",
      " 59%|█████████████████████████████████████████████▊                                | 5858/9973 [02:08<01:22, 49.86it/s]\n",
      "\n",
      " 59%|█████████████████████████████████████████████▊                                | 5864/9973 [02:08<01:28, 46.64it/s]\n",
      "\n",
      " 59%|█████████████████████████████████████████████▉                                | 5869/9973 [02:08<01:32, 44.55it/s]\n",
      "\n",
      " 59%|█████████████████████████████████████████████▉                                | 5874/9973 [02:08<01:39, 41.06it/s]\n",
      "\n",
      " 59%|█████████████████████████████████████████████▉                                | 5879/9973 [02:09<01:41, 40.44it/s]\n",
      "\n",
      " 59%|██████████████████████████████████████████████                                | 5887/9973 [02:09<01:27, 46.49it/s]\n",
      "\n",
      " 59%|██████████████████████████████████████████████                                | 5893/9973 [02:09<01:38, 41.57it/s]\n",
      "\n",
      " 59%|██████████████████████████████████████████████▏                               | 5898/9973 [02:09<01:34, 43.33it/s]"
     ]
    },
    {
     "name": "stdout",
     "output_type": "stream",
     "text": [
      "loss for 5900 is nan\n"
     ]
    },
    {
     "name": "stderr",
     "output_type": "stream",
     "text": [
      "\n",
      "\n",
      " 59%|██████████████████████████████████████████████▏                               | 5903/9973 [02:09<01:37, 41.95it/s]\n",
      "\n",
      " 59%|██████████████████████████████████████████████▏                               | 5909/9973 [02:09<01:29, 45.28it/s]\n",
      "\n",
      " 59%|██████████████████████████████████████████████▎                               | 5914/9973 [02:09<01:32, 43.67it/s]\n",
      "\n",
      " 59%|██████████████████████████████████████████████▎                               | 5921/9973 [02:09<01:23, 48.41it/s]\n",
      "\n",
      " 59%|██████████████████████████████████████████████▎                               | 5928/9973 [02:10<01:17, 52.39it/s]\n",
      "\n",
      " 60%|██████████████████████████████████████████████▍                               | 5934/9973 [02:10<01:23, 48.63it/s]\n",
      "\n",
      " 60%|██████████████████████████████████████████████▍                               | 5940/9973 [02:10<01:21, 49.52it/s]\n",
      "\n",
      " 60%|██████████████████████████████████████████████▌                               | 5949/9973 [02:10<01:10, 57.24it/s]\n",
      "\n",
      " 60%|██████████████████████████████████████████████▌                               | 5956/9973 [02:10<01:13, 54.35it/s]\n",
      "\n",
      " 60%|██████████████████████████████████████████████▋                               | 5963/9973 [02:10<01:09, 57.68it/s]\n",
      "\n",
      " 60%|██████████████████████████████████████████████▋                               | 5970/9973 [02:10<01:22, 48.29it/s]\n",
      "\n",
      " 60%|██████████████████████████████████████████████▋                               | 5977/9973 [02:11<01:15, 52.76it/s]\n",
      "\n",
      " 60%|██████████████████████████████████████████████▊                               | 5983/9973 [02:11<01:20, 49.83it/s]\n",
      "\n",
      " 60%|██████████████████████████████████████████████▊                               | 5989/9973 [02:11<01:15, 52.50it/s]\n",
      "\n",
      " 60%|██████████████████████████████████████████████▉                               | 5995/9973 [02:11<01:27, 45.59it/s]\n",
      "\n",
      " 60%|██████████████████████████████████████████████▉                               | 6000/9973 [02:11<01:30, 43.87it/s]"
     ]
    },
    {
     "name": "stdout",
     "output_type": "stream",
     "text": [
      "loss for 6000 is nan\n"
     ]
    },
    {
     "name": "stderr",
     "output_type": "stream",
     "text": [
      "\n",
      "\n",
      " 60%|██████████████████████████████████████████████▉                               | 6005/9973 [02:11<01:29, 44.10it/s]\n",
      "\n",
      " 60%|███████████████████████████████████████████████                               | 6011/9973 [02:11<01:23, 47.46it/s]\n",
      "\n",
      " 60%|███████████████████████████████████████████████                               | 6016/9973 [02:11<01:31, 43.20it/s]\n",
      "\n",
      " 60%|███████████████████████████████████████████████                               | 6021/9973 [02:12<01:31, 43.17it/s]\n",
      "\n",
      " 60%|███████████████████████████████████████████████▏                              | 6026/9973 [02:12<01:33, 42.27it/s]\n",
      "\n",
      " 60%|███████████████████████████████████████████████▏                              | 6031/9973 [02:12<01:33, 42.09it/s]\n",
      "\n",
      " 61%|███████████████████████████████████████████████▏                              | 6036/9973 [02:12<01:34, 41.54it/s]\n",
      "\n",
      " 61%|███████████████████████████████████████████████▏                              | 6041/9973 [02:12<01:31, 42.86it/s]\n",
      "\n",
      " 61%|███████████████████████████████████████████████▎                              | 6051/9973 [02:12<01:15, 51.73it/s]\n",
      "\n",
      " 61%|███████████████████████████████████████████████▍                              | 6058/9973 [02:12<01:25, 45.60it/s]\n",
      "\n",
      " 61%|███████████████████████████████████████████████▍                              | 6064/9973 [02:12<01:29, 43.57it/s]\n",
      "\n",
      " 61%|███████████████████████████████████████████████▍                              | 6069/9973 [02:13<01:35, 40.87it/s]\n",
      "\n",
      " 61%|███████████████████████████████████████████████▌                              | 6074/9973 [02:13<01:33, 41.52it/s]\n",
      "\n",
      " 61%|███████████████████████████████████████████████▌                              | 6079/9973 [02:13<01:32, 41.98it/s]\n",
      "\n",
      " 61%|███████████████████████████████████████████████▌                              | 6084/9973 [02:13<01:32, 41.89it/s]\n",
      "\n",
      " 61%|███████████████████████████████████████████████▌                              | 6089/9973 [02:13<01:33, 41.40it/s]\n",
      "\n",
      " 61%|███████████████████████████████████████████████▋                              | 6094/9973 [02:13<01:41, 38.07it/s]\n",
      "\n",
      " 61%|███████████████████████████████████████████████▋                              | 6098/9973 [02:13<01:42, 37.76it/s]"
     ]
    },
    {
     "name": "stdout",
     "output_type": "stream",
     "text": [
      "loss for 6100 is nan\n"
     ]
    },
    {
     "name": "stderr",
     "output_type": "stream",
     "text": [
      "\n",
      "\n",
      " 61%|███████████████████████████████████████████████▋                              | 6102/9973 [02:13<01:43, 37.54it/s]\n",
      "\n",
      " 61%|███████████████████████████████████████████████▊                              | 6106/9973 [02:14<01:43, 37.39it/s]\n",
      "\n",
      " 61%|███████████████████████████████████████████████▊                              | 6111/9973 [02:14<01:36, 40.06it/s]\n",
      "\n",
      " 61%|███████████████████████████████████████████████▊                              | 6116/9973 [02:14<01:33, 41.33it/s]\n",
      "\n",
      " 61%|███████████████████████████████████████████████▊                              | 6121/9973 [02:14<01:31, 42.27it/s]\n",
      "\n",
      " 61%|███████████████████████████████████████████████▉                              | 6126/9973 [02:14<01:30, 42.52it/s]\n",
      "\n",
      " 61%|███████████████████████████████████████████████▉                              | 6131/9973 [02:14<01:31, 41.83it/s]\n",
      "\n",
      " 62%|███████████████████████████████████████████████▉                              | 6136/9973 [02:14<01:30, 42.21it/s]\n",
      "\n",
      " 62%|████████████████████████████████████████████████                              | 6143/9973 [02:14<01:21, 46.76it/s]\n",
      "\n",
      " 62%|████████████████████████████████████████████████                              | 6148/9973 [02:14<01:25, 44.62it/s]\n",
      "\n",
      " 62%|████████████████████████████████████████████████                              | 6153/9973 [02:15<01:28, 43.24it/s]\n",
      "\n",
      " 62%|████████████████████████████████████████████████▏                             | 6158/9973 [02:15<01:31, 41.90it/s]\n",
      "\n",
      " 62%|████████████████████████████████████████████████▏                             | 6163/9973 [02:15<01:32, 41.00it/s]\n",
      "\n",
      " 62%|████████████████████████████████████████████████▏                             | 6168/9973 [02:15<01:30, 42.03it/s]\n",
      "\n",
      " 62%|████████████████████████████████████████████████▎                             | 6173/9973 [02:15<01:33, 40.69it/s]\n",
      "\n",
      " 62%|████████████████████████████████████████████████▎                             | 6179/9973 [02:15<01:28, 42.73it/s]\n",
      "\n",
      " 62%|████████████████████████████████████████████████▍                             | 6186/9973 [02:15<01:20, 47.21it/s]\n",
      "\n",
      " 62%|████████████████████████████████████████████████▍                             | 6194/9973 [02:15<01:12, 52.15it/s]\n",
      "\n",
      " 62%|████████████████████████████████████████████████▍                             | 6200/9973 [02:16<01:16, 49.45it/s]"
     ]
    },
    {
     "name": "stdout",
     "output_type": "stream",
     "text": [
      "loss for 6200 is nan\n"
     ]
    },
    {
     "name": "stderr",
     "output_type": "stream",
     "text": [
      "\n",
      "\n",
      " 62%|████████████████████████████████████████████████▌                             | 6206/9973 [02:16<01:23, 45.13it/s]\n",
      "\n",
      " 62%|████████████████████████████████████████████████▌                             | 6212/9973 [02:16<01:21, 46.06it/s]\n",
      "\n",
      " 62%|████████████████████████████████████████████████▋                             | 6219/9973 [02:16<01:15, 50.01it/s]\n",
      "\n",
      " 62%|████████████████████████████████████████████████▋                             | 6225/9973 [02:16<01:13, 51.03it/s]\n",
      "\n",
      " 62%|████████████████████████████████████████████████▋                             | 6231/9973 [02:16<01:11, 52.31it/s]\n",
      "\n",
      " 63%|████████████████████████████████████████████████▊                             | 6237/9973 [02:16<01:16, 48.58it/s]\n",
      "\n",
      " 63%|████████████████████████████████████████████████▊                             | 6244/9973 [02:16<01:11, 52.06it/s]\n",
      "\n",
      " 63%|████████████████████████████████████████████████▉                             | 6250/9973 [02:17<01:16, 48.91it/s]\n",
      "\n",
      " 63%|████████████████████████████████████████████████▉                             | 6256/9973 [02:17<01:25, 43.65it/s]\n",
      "\n",
      " 63%|████████████████████████████████████████████████▉                             | 6261/9973 [02:17<01:28, 41.74it/s]\n",
      "\n",
      " 63%|█████████████████████████████████████████████████                             | 6266/9973 [02:17<01:27, 42.14it/s]\n",
      "\n",
      " 63%|█████████████████████████████████████████████████                             | 6271/9973 [02:17<01:31, 40.37it/s]\n",
      "\n",
      " 63%|█████████████████████████████████████████████████                             | 6276/9973 [02:17<01:32, 39.97it/s]\n",
      "\n",
      " 63%|█████████████████████████████████████████████████                             | 6281/9973 [02:17<01:28, 41.68it/s]\n",
      "\n",
      " 63%|█████████████████████████████████████████████████▏                            | 6286/9973 [02:18<01:32, 40.07it/s]\n",
      "\n",
      " 63%|█████████████████████████████████████████████████▏                            | 6293/9973 [02:18<01:22, 44.56it/s]\n",
      "\n",
      " 63%|█████████████████████████████████████████████████▎                            | 6298/9973 [02:18<01:23, 44.11it/s]"
     ]
    },
    {
     "name": "stdout",
     "output_type": "stream",
     "text": [
      "loss for 6300 is nan\n"
     ]
    },
    {
     "name": "stderr",
     "output_type": "stream",
     "text": [
      "\n",
      "\n",
      " 63%|█████████████████████████████████████████████████▎                            | 6303/9973 [02:18<01:25, 42.90it/s]\n",
      "\n",
      " 63%|█████████████████████████████████████████████████▎                            | 6308/9973 [02:18<01:26, 42.53it/s]\n",
      "\n",
      " 63%|█████████████████████████████████████████████████▎                            | 6313/9973 [02:18<01:24, 43.14it/s]\n",
      "\n",
      " 63%|█████████████████████████████████████████████████▍                            | 6318/9973 [02:18<01:22, 44.04it/s]\n",
      "\n",
      " 63%|█████████████████████████████████████████████████▍                            | 6323/9973 [02:18<01:23, 43.75it/s]\n",
      "\n",
      " 63%|█████████████████████████████████████████████████▍                            | 6328/9973 [02:18<01:22, 44.02it/s]\n",
      "\n",
      " 64%|█████████████████████████████████████████████████▌                            | 6336/9973 [02:19<01:13, 49.38it/s]\n",
      "\n",
      " 64%|█████████████████████████████████████████████████▌                            | 6342/9973 [02:19<01:14, 48.60it/s]\n",
      "\n",
      " 64%|█████████████████████████████████████████████████▋                            | 6348/9973 [02:19<01:17, 46.72it/s]\n",
      "\n",
      " 64%|█████████████████████████████████████████████████▋                            | 6353/9973 [02:19<01:22, 44.13it/s]\n",
      "\n",
      " 64%|█████████████████████████████████████████████████▋                            | 6358/9973 [02:19<01:24, 42.91it/s]\n",
      "\n",
      " 64%|█████████████████████████████████████████████████▊                            | 6363/9973 [02:19<01:29, 40.46it/s]\n",
      "\n",
      " 64%|█████████████████████████████████████████████████▊                            | 6368/9973 [02:19<01:33, 38.55it/s]\n",
      "\n",
      " 64%|█████████████████████████████████████████████████▊                            | 6372/9973 [02:19<01:34, 38.08it/s]\n",
      "\n",
      " 64%|█████████████████████████████████████████████████▉                            | 6379/9973 [02:20<01:22, 43.46it/s]\n",
      "\n",
      " 64%|█████████████████████████████████████████████████▉                            | 6384/9973 [02:20<01:24, 42.47it/s]\n",
      "\n",
      " 64%|█████████████████████████████████████████████████▉                            | 6390/9973 [02:20<01:20, 44.48it/s]\n",
      "\n",
      " 64%|██████████████████████████████████████████████████                            | 6395/9973 [02:20<01:22, 43.15it/s]\n",
      "\n",
      " 64%|██████████████████████████████████████████████████                            | 6400/9973 [02:20<01:26, 41.42it/s]"
     ]
    },
    {
     "name": "stdout",
     "output_type": "stream",
     "text": [
      "loss for 6400 is nan\n"
     ]
    },
    {
     "name": "stderr",
     "output_type": "stream",
     "text": [
      "\n",
      "\n",
      " 64%|██████████████████████████████████████████████████                            | 6405/9973 [02:20<01:26, 41.08it/s]\n",
      "\n",
      " 64%|██████████████████████████████████████████████████▏                           | 6410/9973 [02:20<01:28, 40.46it/s]\n",
      "\n",
      " 64%|██████████████████████████████████████████████████▏                           | 6417/9973 [02:20<01:19, 44.89it/s]\n",
      "\n",
      " 64%|██████████████████████████████████████████████████▏                           | 6422/9973 [02:21<01:22, 42.97it/s]\n",
      "\n",
      " 64%|██████████████████████████████████████████████████▎                           | 6427/9973 [02:21<01:24, 41.72it/s]\n",
      "\n",
      " 64%|██████████████████████████████████████████████████▎                           | 6432/9973 [02:21<01:23, 42.55it/s]\n",
      "\n",
      " 65%|██████████████████████████████████████████████████▎                           | 6437/9973 [02:21<01:24, 41.86it/s]\n",
      "\n",
      " 65%|██████████████████████████████████████████████████▍                           | 6442/9973 [02:21<01:23, 42.22it/s]\n",
      "\n",
      " 65%|██████████████████████████████████████████████████▍                           | 6447/9973 [02:21<01:23, 42.06it/s]\n",
      "\n",
      " 65%|██████████████████████████████████████████████████▍                           | 6452/9973 [02:21<01:24, 41.52it/s]\n",
      "\n",
      " 65%|██████████████████████████████████████████████████▌                           | 6457/9973 [02:21<01:22, 42.85it/s]\n",
      "\n",
      " 65%|██████████████████████████████████████████████████▌                           | 6466/9973 [02:21<01:09, 50.49it/s]\n",
      "\n",
      " 65%|██████████████████████████████████████████████████▌                           | 6472/9973 [02:22<01:13, 47.93it/s]\n",
      "\n",
      " 65%|██████████████████████████████████████████████████▋                           | 6478/9973 [02:22<01:12, 48.07it/s]\n",
      "\n",
      " 65%|██████████████████████████████████████████████████▋                           | 6484/9973 [02:22<01:12, 48.16it/s]\n",
      "\n",
      " 65%|██████████████████████████████████████████████████▊                           | 6495/9973 [02:22<01:00, 57.21it/s]"
     ]
    },
    {
     "name": "stdout",
     "output_type": "stream",
     "text": [
      "loss for 6500 is nan\n"
     ]
    },
    {
     "name": "stderr",
     "output_type": "stream",
     "text": [
      "\n",
      "\n",
      " 65%|██████████████████████████████████████████████████▊                           | 6502/9973 [02:22<00:59, 58.12it/s]\n",
      "\n",
      " 65%|██████████████████████████████████████████████████▉                           | 6509/9973 [02:22<01:03, 54.90it/s]\n",
      "\n",
      " 65%|██████████████████████████████████████████████████▉                           | 6515/9973 [02:22<01:09, 49.62it/s]\n",
      "\n",
      " 65%|███████████████████████████████████████████████████                           | 6521/9973 [02:23<01:14, 46.50it/s]\n",
      "\n",
      " 65%|███████████████████████████████████████████████████                           | 6526/9973 [02:23<01:15, 45.93it/s]\n",
      "\n",
      " 65%|███████████████████████████████████████████████████                           | 6531/9973 [02:23<01:16, 45.04it/s]\n",
      "\n",
      " 66%|███████████████████████████████████████████████████                           | 6536/9973 [02:23<01:18, 43.97it/s]\n",
      "\n",
      " 66%|███████████████████████████████████████████████████▏                          | 6541/9973 [02:23<01:18, 43.71it/s]\n",
      "\n",
      " 66%|███████████████████████████████████████████████████▏                          | 6546/9973 [02:23<01:20, 42.63it/s]\n",
      "\n",
      " 66%|███████████████████████████████████████████████████▏                          | 6551/9973 [02:23<01:24, 40.29it/s]\n",
      "\n",
      " 66%|███████████████████████████████████████████████████▎                          | 6556/9973 [02:23<01:24, 40.30it/s]\n",
      "\n",
      " 66%|███████████████████████████████████████████████████▎                          | 6561/9973 [02:24<01:24, 40.31it/s]\n",
      "\n",
      " 66%|███████████████████████████████████████████████████▎                          | 6566/9973 [02:24<01:22, 41.11it/s]\n",
      "\n",
      " 66%|███████████████████████████████████████████████████▍                          | 6573/9973 [02:24<01:14, 45.81it/s]\n",
      "\n",
      " 66%|███████████████████████████████████████████████████▍                          | 6578/9973 [02:24<01:13, 45.96it/s]\n",
      "\n",
      " 66%|███████████████████████████████████████████████████▌                          | 6585/9973 [02:24<01:07, 50.35it/s]\n",
      "\n",
      " 66%|███████████████████████████████████████████████████▌                          | 6592/9973 [02:24<01:02, 54.47it/s]\n",
      "\n",
      " 66%|███████████████████████████████████████████████████▌                          | 6598/9973 [02:24<01:03, 53.05it/s]"
     ]
    },
    {
     "name": "stdout",
     "output_type": "stream",
     "text": [
      "loss for 6600 is nan\n"
     ]
    },
    {
     "name": "stderr",
     "output_type": "stream",
     "text": [
      "\n",
      "\n",
      " 66%|███████████████████████████████████████████████████▋                          | 6604/9973 [02:24<01:03, 52.64it/s]\n",
      "\n",
      " 66%|███████████████████████████████████████████████████▋                          | 6610/9973 [02:24<01:12, 46.52it/s]\n",
      "\n",
      " 66%|███████████████████████████████████████████████████▋                          | 6615/9973 [02:25<01:19, 42.22it/s]\n",
      "\n",
      " 66%|███████████████████████████████████████████████████▊                          | 6622/9973 [02:25<01:12, 46.03it/s]\n",
      "\n",
      " 66%|███████████████████████████████████████████████████▊                          | 6627/9973 [02:25<01:15, 44.16it/s]\n",
      "\n",
      " 67%|███████████████████████████████████████████████████▉                          | 6634/9973 [02:25<01:07, 49.24it/s]\n",
      "\n",
      " 67%|███████████████████████████████████████████████████▉                          | 6640/9973 [02:25<01:23, 39.97it/s]\n",
      "\n",
      " 67%|███████████████████████████████████████████████████▉                          | 6645/9973 [02:25<01:32, 35.92it/s]\n",
      "\n",
      " 67%|████████████████████████████████████████████████████                          | 6650/9973 [02:26<01:35, 34.96it/s]\n",
      "\n",
      " 67%|████████████████████████████████████████████████████                          | 6654/9973 [02:26<01:32, 35.94it/s]\n",
      "\n",
      " 67%|████████████████████████████████████████████████████                          | 6660/9973 [02:26<01:23, 39.88it/s]\n",
      "\n",
      " 67%|████████████████████████████████████████████████████▏                         | 6666/9973 [02:26<01:15, 43.57it/s]\n",
      "\n",
      " 67%|████████████████████████████████████████████████████▏                         | 6672/9973 [02:26<01:12, 45.31it/s]\n",
      "\n",
      " 67%|████████████████████████████████████████████████████▏                         | 6677/9973 [02:26<01:30, 36.43it/s]\n",
      "\n",
      " 67%|████████████████████████████████████████████████████▎                         | 6682/9973 [02:26<01:56, 28.23it/s]\n",
      "\n",
      " 67%|████████████████████████████████████████████████████▎                         | 6688/9973 [02:27<01:42, 32.05it/s]\n",
      "\n",
      " 67%|████████████████████████████████████████████████████▎                         | 6692/9973 [02:27<01:43, 31.81it/s]\n",
      "\n",
      " 67%|████████████████████████████████████████████████████▍                         | 6699/9973 [02:27<01:26, 38.03it/s]"
     ]
    },
    {
     "name": "stdout",
     "output_type": "stream",
     "text": [
      "loss for 6700 is nan\n"
     ]
    },
    {
     "name": "stderr",
     "output_type": "stream",
     "text": [
      "\n",
      "\n",
      " 67%|████████████████████████████████████████████████████▍                         | 6704/9973 [02:27<01:25, 38.34it/s]\n",
      "\n",
      " 67%|████████████████████████████████████████████████████▍                         | 6709/9973 [02:27<01:31, 35.59it/s]\n",
      "\n",
      " 67%|████████████████████████████████████████████████████▌                         | 6717/9973 [02:27<01:17, 41.87it/s]\n",
      "\n",
      " 67%|████████████████████████████████████████████████████▌                         | 6725/9973 [02:27<01:08, 47.43it/s]\n",
      "\n",
      " 67%|████████████████████████████████████████████████████▋                         | 6731/9973 [02:27<01:13, 44.09it/s]\n",
      "\n",
      " 68%|████████████████████████████████████████████████████▋                         | 6736/9973 [02:28<01:12, 44.73it/s]\n",
      "\n",
      " 68%|████████████████████████████████████████████████████▋                         | 6741/9973 [02:28<01:11, 45.19it/s]\n",
      "\n",
      " 68%|████████████████████████████████████████████████████▊                         | 6746/9973 [02:28<01:12, 44.54it/s]\n",
      "\n",
      " 68%|████████████████████████████████████████████████████▊                         | 6752/9973 [02:28<01:07, 47.81it/s]\n",
      "\n",
      " 68%|████████████████████████████████████████████████████▊                         | 6758/9973 [02:28<01:06, 48.45it/s]\n",
      "\n",
      " 68%|████████████████████████████████████████████████████▉                         | 6765/9973 [02:28<01:01, 52.42it/s]\n",
      "\n",
      " 68%|████████████████████████████████████████████████████▉                         | 6775/9973 [02:28<00:53, 59.40it/s]\n",
      "\n",
      " 68%|█████████████████████████████████████████████████████                         | 6782/9973 [02:28<01:01, 52.21it/s]\n",
      "\n",
      " 68%|█████████████████████████████████████████████████████                         | 6788/9973 [02:29<01:01, 51.52it/s]\n",
      "\n",
      " 68%|█████████████████████████████████████████████████████▏                        | 6796/9973 [02:29<00:56, 56.70it/s]"
     ]
    },
    {
     "name": "stdout",
     "output_type": "stream",
     "text": [
      "loss for 6800 is nan\n"
     ]
    },
    {
     "name": "stderr",
     "output_type": "stream",
     "text": [
      "\n",
      "\n",
      " 68%|█████████████████████████████████████████████████████▏                        | 6805/9973 [02:29<00:49, 63.78it/s]\n",
      "\n",
      " 68%|█████████████████████████████████████████████████████▎                        | 6813/9973 [02:29<00:48, 65.25it/s]\n",
      "\n",
      " 68%|█████████████████████████████████████████████████████▎                        | 6820/9973 [02:29<00:54, 57.43it/s]\n",
      "\n",
      " 68%|█████████████████████████████████████████████████████▍                        | 6827/9973 [02:29<00:54, 57.70it/s]\n",
      "\n",
      " 69%|█████████████████████████████████████████████████████▍                        | 6834/9973 [02:29<00:53, 58.47it/s]\n",
      "\n",
      " 69%|█████████████████████████████████████████████████████▌                        | 6841/9973 [02:29<01:04, 48.27it/s]\n",
      "\n",
      " 69%|█████████████████████████████████████████████████████▌                        | 6847/9973 [02:30<01:02, 49.75it/s]\n",
      "\n",
      " 69%|█████████████████████████████████████████████████████▌                        | 6853/9973 [02:30<01:05, 47.91it/s]\n",
      "\n",
      " 69%|█████████████████████████████████████████████████████▋                        | 6859/9973 [02:30<01:06, 46.71it/s]\n",
      "\n",
      " 69%|█████████████████████████████████████████████████████▋                        | 6867/9973 [02:30<00:59, 52.12it/s]\n",
      "\n",
      " 69%|█████████████████████████████████████████████████████▊                        | 6873/9973 [02:30<01:03, 48.47it/s]\n",
      "\n",
      " 69%|█████████████████████████████████████████████████████▊                        | 6882/9973 [02:30<00:56, 54.62it/s]\n",
      "\n",
      " 69%|█████████████████████████████████████████████████████▊                        | 6888/9973 [02:30<01:02, 48.98it/s]\n",
      "\n",
      " 69%|█████████████████████████████████████████████████████▉                        | 6894/9973 [02:31<01:08, 45.27it/s]\n",
      "\n",
      " 69%|█████████████████████████████████████████████████████▉                        | 6899/9973 [02:31<01:10, 43.66it/s]"
     ]
    },
    {
     "name": "stdout",
     "output_type": "stream",
     "text": [
      "loss for 6900 is nan\n"
     ]
    },
    {
     "name": "stderr",
     "output_type": "stream",
     "text": [
      "\n",
      "\n",
      " 69%|█████████████████████████████████████████████████████▉                        | 6904/9973 [02:31<01:13, 41.75it/s]\n",
      "\n",
      " 69%|██████████████████████████████████████████████████████                        | 6909/9973 [02:31<01:14, 40.91it/s]\n",
      "\n",
      " 69%|██████████████████████████████████████████████████████                        | 6916/9973 [02:31<01:05, 46.36it/s]\n",
      "\n",
      " 69%|██████████████████████████████████████████████████████▏                       | 6925/9973 [02:31<00:56, 53.86it/s]\n",
      "\n",
      " 70%|██████████████████████████████████████████████████████▏                       | 6932/9973 [02:31<00:58, 52.17it/s]\n",
      "\n",
      " 70%|██████████████████████████████████████████████████████▎                       | 6938/9973 [02:31<01:00, 50.46it/s]\n",
      "\n",
      " 70%|██████████████████████████████████████████████████████▎                       | 6944/9973 [02:31<00:57, 52.99it/s]\n",
      "\n",
      " 70%|██████████████████████████████████████████████████████▎                       | 6950/9973 [02:32<00:57, 52.60it/s]\n",
      "\n",
      " 70%|██████████████████████████████████████████████████████▍                       | 6961/9973 [02:32<00:48, 61.94it/s]\n",
      "\n",
      " 70%|██████████████████████████████████████████████████████▍                       | 6968/9973 [02:32<00:57, 52.59it/s]\n",
      "\n",
      " 70%|██████████████████████████████████████████████████████▌                       | 6976/9973 [02:32<00:52, 56.62it/s]\n",
      "\n",
      " 70%|██████████████████████████████████████████████████████▌                       | 6983/9973 [02:32<00:56, 52.98it/s]\n",
      "\n",
      " 70%|██████████████████████████████████████████████████████▋                       | 6993/9973 [02:32<00:50, 59.48it/s]\n",
      "\n",
      " 70%|██████████████████████████████████████████████████████▋                       | 7000/9973 [02:32<00:54, 54.69it/s]"
     ]
    },
    {
     "name": "stdout",
     "output_type": "stream",
     "text": [
      "loss for 7000 is nan\n"
     ]
    },
    {
     "name": "stderr",
     "output_type": "stream",
     "text": [
      "\n",
      "\n",
      " 70%|██████████████████████████████████████████████████████▊                       | 7006/9973 [02:33<01:03, 46.73it/s]\n",
      "\n",
      " 70%|██████████████████████████████████████████████████████▊                       | 7012/9973 [02:33<01:06, 44.68it/s]\n",
      "\n",
      " 70%|██████████████████████████████████████████████████████▉                       | 7017/9973 [02:33<01:05, 45.16it/s]\n",
      "\n",
      " 70%|██████████████████████████████████████████████████████▉                       | 7024/9973 [02:33<00:59, 49.26it/s]\n",
      "\n",
      " 71%|███████████████████████████████████████████████████████                       | 7034/9973 [02:33<00:51, 57.30it/s]\n",
      "\n",
      " 71%|███████████████████████████████████████████████████████                       | 7041/9973 [02:33<00:52, 55.42it/s]\n",
      "\n",
      " 71%|███████████████████████████████████████████████████████                       | 7048/9973 [02:33<00:53, 54.17it/s]\n",
      "\n",
      " 71%|███████████████████████████████████████████████████████▏                      | 7054/9973 [02:33<00:59, 49.21it/s]\n",
      "\n",
      " 71%|███████████████████████████████████████████████████████▏                      | 7060/9973 [02:34<01:02, 46.67it/s]\n",
      "\n",
      " 71%|███████████████████████████████████████████████████████▎                      | 7065/9973 [02:34<01:05, 44.57it/s]\n",
      "\n",
      " 71%|███████████████████████████████████████████████████████▎                      | 7070/9973 [02:34<01:05, 44.12it/s]\n",
      "\n",
      " 71%|███████████████████████████████████████████████████████▎                      | 7075/9973 [02:34<01:06, 43.35it/s]\n",
      "\n",
      " 71%|███████████████████████████████████████████████████████▎                      | 7080/9973 [02:34<01:08, 42.40it/s]\n",
      "\n",
      " 71%|███████████████████████████████████████████████████████▍                      | 7088/9973 [02:34<00:58, 49.36it/s]\n",
      "\n",
      " 71%|███████████████████████████████████████████████████████▍                      | 7094/9973 [02:34<00:57, 50.04it/s]"
     ]
    },
    {
     "name": "stdout",
     "output_type": "stream",
     "text": [
      "loss for 7100 is nan\n"
     ]
    },
    {
     "name": "stderr",
     "output_type": "stream",
     "text": [
      "\n",
      "\n",
      " 71%|███████████████████████████████████████████████████████▌                      | 7102/9973 [02:34<00:50, 56.38it/s]\n",
      "\n",
      " 71%|███████████████████████████████████████████████████████▌                      | 7109/9973 [02:35<00:59, 48.04it/s]\n",
      "\n",
      " 71%|███████████████████████████████████████████████████████▋                      | 7115/9973 [02:35<00:59, 47.68it/s]\n",
      "\n",
      " 71%|███████████████████████████████████████████████████████▋                      | 7125/9973 [02:35<00:52, 54.70it/s]\n",
      "\n",
      " 72%|███████████████████████████████████████████████████████▊                      | 7132/9973 [02:35<00:56, 50.44it/s]\n",
      "\n",
      " 72%|███████████████████████████████████████████████████████▊                      | 7139/9973 [02:35<00:54, 52.11it/s]\n",
      "\n",
      " 72%|███████████████████████████████████████████████████████▉                      | 7145/9973 [02:35<00:59, 47.54it/s]\n",
      "\n",
      " 72%|███████████████████████████████████████████████████████▉                      | 7156/9973 [02:35<00:49, 56.60it/s]\n",
      "\n",
      " 72%|████████████████████████████████████████████████████████                      | 7163/9973 [02:36<00:54, 51.10it/s]\n",
      "\n",
      " 72%|████████████████████████████████████████████████████████                      | 7169/9973 [02:36<01:00, 46.09it/s]\n",
      "\n",
      " 72%|████████████████████████████████████████████████████████                      | 7175/9973 [02:36<01:02, 45.07it/s]\n",
      "\n",
      " 72%|████████████████████████████████████████████████████████▏                     | 7180/9973 [02:36<01:06, 42.21it/s]\n",
      "\n",
      " 72%|████████████████████████████████████████████████████████▏                     | 7185/9973 [02:36<01:08, 40.41it/s]\n",
      "\n",
      " 72%|████████████████████████████████████████████████████████▏                     | 7190/9973 [02:36<01:08, 40.78it/s]\n",
      "\n",
      " 72%|████████████████████████████████████████████████████████▎                     | 7195/9973 [02:36<01:11, 39.12it/s]\n",
      "\n",
      " 72%|████████████████████████████████████████████████████████▎                     | 7200/9973 [02:37<01:12, 38.03it/s]"
     ]
    },
    {
     "name": "stdout",
     "output_type": "stream",
     "text": [
      "loss for 7200 is nan\n"
     ]
    },
    {
     "name": "stderr",
     "output_type": "stream",
     "text": [
      "\n",
      "\n",
      " 72%|████████████████████████████████████████████████████████▎                     | 7204/9973 [02:37<01:12, 38.16it/s]\n",
      "\n",
      " 72%|████████████████████████████████████████████████████████▎                     | 7208/9973 [02:37<01:13, 37.39it/s]\n",
      "\n",
      " 72%|████████████████████████████████████████████████████████▍                     | 7213/9973 [02:37<01:11, 38.58it/s]\n",
      "\n",
      " 72%|████████████████████████████████████████████████████████▍                     | 7217/9973 [02:37<01:10, 38.99it/s]\n",
      "\n",
      " 72%|████████████████████████████████████████████████████████▍                     | 7221/9973 [02:37<01:14, 37.10it/s]\n",
      "\n",
      " 72%|████████████████████████████████████████████████████████▌                     | 7225/9973 [02:37<01:14, 36.68it/s]\n",
      "\n",
      " 72%|████████████████████████████████████████████████████████▌                     | 7229/9973 [02:37<01:14, 36.78it/s]\n",
      "\n",
      " 73%|████████████████████████████████████████████████████████▌                     | 7233/9973 [02:37<01:14, 36.86it/s]\n",
      "\n",
      " 73%|████████████████████████████████████████████████████████▌                     | 7237/9973 [02:38<01:14, 36.51it/s]\n",
      "\n",
      " 73%|████████████████████████████████████████████████████████▋                     | 7242/9973 [02:38<01:08, 39.72it/s]\n",
      "\n",
      " 73%|████████████████████████████████████████████████████████▋                     | 7247/9973 [02:38<01:11, 38.08it/s]\n",
      "\n",
      " 73%|████████████████████████████████████████████████████████▋                     | 7253/9973 [02:38<01:04, 42.05it/s]\n",
      "\n",
      " 73%|████████████████████████████████████████████████████████▊                     | 7258/9973 [02:38<01:06, 40.70it/s]\n",
      "\n",
      " 73%|████████████████████████████████████████████████████████▊                     | 7265/9973 [02:38<00:59, 45.46it/s]\n",
      "\n",
      " 73%|████████████████████████████████████████████████████████▊                     | 7270/9973 [02:38<01:04, 41.60it/s]\n",
      "\n",
      " 73%|████████████████████████████████████████████████████████▉                     | 7275/9973 [02:38<01:04, 42.04it/s]\n",
      "\n",
      " 73%|████████████████████████████████████████████████████████▉                     | 7280/9973 [02:39<01:05, 41.10it/s]\n",
      "\n",
      " 73%|████████████████████████████████████████████████████████▉                     | 7285/9973 [02:39<01:05, 41.27it/s]\n",
      "\n",
      " 73%|█████████████████████████████████████████████████████████                     | 7290/9973 [02:39<01:06, 40.19it/s]\n",
      "\n",
      " 73%|█████████████████████████████████████████████████████████                     | 7295/9973 [02:39<01:06, 40.23it/s]\n",
      "\n",
      " 73%|█████████████████████████████████████████████████████████                     | 7300/9973 [02:39<01:07, 39.87it/s]"
     ]
    },
    {
     "name": "stdout",
     "output_type": "stream",
     "text": [
      "loss for 7300 is nan\n"
     ]
    },
    {
     "name": "stderr",
     "output_type": "stream",
     "text": [
      "\n",
      "\n",
      " 73%|█████████████████████████████████████████████████████████▏                    | 7305/9973 [02:39<01:13, 36.18it/s]\n",
      "\n",
      " 73%|█████████████████████████████████████████████████████████▏                    | 7310/9973 [02:39<01:07, 39.45it/s]\n",
      "\n",
      " 73%|█████████████████████████████████████████████████████████▏                    | 7315/9973 [02:39<01:06, 40.09it/s]\n",
      "\n",
      " 73%|█████████████████████████████████████████████████████████▎                    | 7323/9973 [02:40<00:57, 45.85it/s]\n",
      "\n",
      " 73%|█████████████████████████████████████████████████████████▎                    | 7328/9973 [02:40<00:59, 44.51it/s]\n",
      "\n",
      " 74%|█████████████████████████████████████████████████████████▎                    | 7333/9973 [02:40<01:01, 42.72it/s]\n",
      "\n",
      " 74%|█████████████████████████████████████████████████████████▍                    | 7338/9973 [02:40<01:01, 42.84it/s]\n",
      "\n",
      " 74%|█████████████████████████████████████████████████████████▍                    | 7343/9973 [02:40<01:04, 40.81it/s]\n",
      "\n",
      " 74%|█████████████████████████████████████████████████████████▍                    | 7348/9973 [02:40<01:03, 41.07it/s]\n",
      "\n",
      " 74%|█████████████████████████████████████████████████████████▌                    | 7353/9973 [02:40<01:02, 41.66it/s]\n",
      "\n",
      " 74%|█████████████████████████████████████████████████████████▌                    | 7363/9973 [02:40<00:52, 49.59it/s]\n",
      "\n",
      " 74%|█████████████████████████████████████████████████████████▋                    | 7369/9973 [02:41<00:53, 48.27it/s]\n",
      "\n",
      " 74%|█████████████████████████████████████████████████████████▋                    | 7375/9973 [02:41<00:55, 46.51it/s]\n",
      "\n",
      " 74%|█████████████████████████████████████████████████████████▋                    | 7381/9973 [02:41<00:55, 46.62it/s]\n",
      "\n",
      " 74%|█████████████████████████████████████████████████████████▊                    | 7386/9973 [02:41<00:56, 45.51it/s]\n",
      "\n",
      " 74%|█████████████████████████████████████████████████████████▊                    | 7391/9973 [02:41<01:01, 42.05it/s]\n",
      "\n",
      " 74%|█████████████████████████████████████████████████████████▊                    | 7396/9973 [02:41<01:03, 40.70it/s]"
     ]
    },
    {
     "name": "stdout",
     "output_type": "stream",
     "text": [
      "loss for 7400 is nan\n"
     ]
    },
    {
     "name": "stderr",
     "output_type": "stream",
     "text": [
      "\n",
      "\n",
      " 74%|█████████████████████████████████████████████████████████▉                    | 7401/9973 [02:41<01:02, 40.99it/s]\n",
      "\n",
      " 74%|█████████████████████████████████████████████████████████▉                    | 7406/9973 [02:41<01:04, 39.62it/s]\n",
      "\n",
      " 74%|█████████████████████████████████████████████████████████▉                    | 7411/9973 [02:42<01:05, 39.08it/s]\n",
      "\n",
      " 74%|██████████████████████████████████████████████████████████                    | 7416/9973 [02:42<01:02, 40.60it/s]\n",
      "\n",
      " 74%|██████████████████████████████████████████████████████████                    | 7421/9973 [02:42<01:02, 40.91it/s]\n",
      "\n",
      " 74%|██████████████████████████████████████████████████████████                    | 7426/9973 [02:42<01:03, 40.34it/s]\n",
      "\n",
      " 75%|██████████████████████████████████████████████████████████                    | 7431/9973 [02:42<01:02, 40.73it/s]\n",
      "\n",
      " 75%|██████████████████████████████████████████████████████████▏                   | 7440/9973 [02:42<00:53, 47.20it/s]\n",
      "\n",
      " 75%|██████████████████████████████████████████████████████████▎                   | 7448/9973 [02:42<00:48, 52.14it/s]\n",
      "\n",
      " 75%|██████████████████████████████████████████████████████████▎                   | 7456/9973 [02:42<00:44, 56.73it/s]\n",
      "\n",
      " 75%|██████████████████████████████████████████████████████████▎                   | 7463/9973 [02:43<00:43, 58.35it/s]\n",
      "\n",
      " 75%|██████████████████████████████████████████████████████████▍                   | 7470/9973 [02:43<00:43, 57.20it/s]\n",
      "\n",
      " 75%|██████████████████████████████████████████████████████████▍                   | 7476/9973 [02:43<00:47, 53.08it/s]\n",
      "\n",
      " 75%|██████████████████████████████████████████████████████████▌                   | 7482/9973 [02:43<00:52, 47.20it/s]\n",
      "\n",
      " 75%|██████████████████████████████████████████████████████████▌                   | 7488/9973 [02:43<00:49, 50.43it/s]\n",
      "\n",
      " 75%|██████████████████████████████████████████████████████████▌                   | 7495/9973 [02:43<00:46, 53.04it/s]"
     ]
    },
    {
     "name": "stdout",
     "output_type": "stream",
     "text": [
      "loss for 7500 is nan\n"
     ]
    },
    {
     "name": "stderr",
     "output_type": "stream",
     "text": [
      "\n",
      "\n",
      " 75%|██████████████████████████████████████████████████████████▋                   | 7501/9973 [02:43<00:50, 48.55it/s]\n",
      "\n",
      " 75%|██████████████████████████████████████████████████████████▋                   | 7507/9973 [02:43<00:55, 44.21it/s]\n",
      "\n",
      " 75%|██████████████████████████████████████████████████████████▊                   | 7512/9973 [02:44<00:56, 43.42it/s]\n",
      "\n",
      " 75%|██████████████████████████████████████████████████████████▊                   | 7517/9973 [02:44<00:57, 42.88it/s]\n",
      "\n",
      " 75%|██████████████████████████████████████████████████████████▊                   | 7527/9973 [02:44<00:47, 51.42it/s]\n",
      "\n",
      " 76%|██████████████████████████████████████████████████████████▉                   | 7533/9973 [02:44<00:48, 50.06it/s]\n",
      "\n",
      " 76%|██████████████████████████████████████████████████████████▉                   | 7539/9973 [02:44<00:52, 46.65it/s]\n",
      "\n",
      " 76%|███████████████████████████████████████████████████████████                   | 7545/9973 [02:44<00:56, 42.73it/s]\n",
      "\n",
      " 76%|███████████████████████████████████████████████████████████                   | 7551/9973 [02:44<00:55, 43.89it/s]\n",
      "\n",
      " 76%|███████████████████████████████████████████████████████████                   | 7556/9973 [02:44<00:55, 43.65it/s]\n",
      "\n",
      " 76%|███████████████████████████████████████████████████████████▏                  | 7563/9973 [02:45<00:49, 48.39it/s]\n",
      "\n",
      " 76%|███████████████████████████████████████████████████████████▏                  | 7569/9973 [02:45<00:48, 49.35it/s]\n",
      "\n",
      " 76%|███████████████████████████████████████████████████████████▏                  | 7575/9973 [02:45<00:46, 51.06it/s]\n",
      "\n",
      " 76%|███████████████████████████████████████████████████████████▎                  | 7581/9973 [02:45<00:47, 50.23it/s]\n",
      "\n",
      " 76%|███████████████████████████████████████████████████████████▎                  | 7587/9973 [02:45<00:50, 46.87it/s]\n",
      "\n",
      " 76%|███████████████████████████████████████████████████████████▍                  | 7592/9973 [02:45<00:53, 44.22it/s]\n",
      "\n",
      " 76%|███████████████████████████████████████████████████████████▍                  | 7597/9973 [02:45<00:54, 43.88it/s]"
     ]
    },
    {
     "name": "stdout",
     "output_type": "stream",
     "text": [
      "loss for 7600 is nan\n"
     ]
    },
    {
     "name": "stderr",
     "output_type": "stream",
     "text": [
      "\n",
      "\n",
      " 76%|███████████████████████████████████████████████████████████▍                  | 7605/9973 [02:45<00:47, 50.37it/s]\n",
      "\n",
      " 76%|███████████████████████████████████████████████████████████▌                  | 7611/9973 [02:46<00:44, 52.92it/s]\n",
      "\n",
      " 76%|███████████████████████████████████████████████████████████▌                  | 7617/9973 [02:46<00:47, 49.93it/s]\n",
      "\n",
      " 76%|███████████████████████████████████████████████████████████▌                  | 7623/9973 [02:46<00:49, 47.57it/s]\n",
      "\n",
      " 76%|███████████████████████████████████████████████████████████▋                  | 7629/9973 [02:46<00:49, 47.82it/s]\n",
      "\n",
      " 77%|███████████████████████████████████████████████████████████▋                  | 7636/9973 [02:46<00:45, 51.90it/s]\n",
      "\n",
      " 77%|███████████████████████████████████████████████████████████▊                  | 7643/9973 [02:46<00:42, 54.68it/s]\n",
      "\n",
      " 77%|███████████████████████████████████████████████████████████▊                  | 7649/9973 [02:46<00:45, 51.54it/s]\n",
      "\n",
      " 77%|███████████████████████████████████████████████████████████▊                  | 7655/9973 [02:46<00:47, 48.59it/s]\n",
      "\n",
      " 77%|███████████████████████████████████████████████████████████▉                  | 7662/9973 [02:47<00:44, 52.07it/s]\n",
      "\n",
      " 77%|███████████████████████████████████████████████████████████▉                  | 7668/9973 [02:47<00:47, 48.44it/s]\n",
      "\n",
      " 77%|████████████████████████████████████████████████████████████                  | 7674/9973 [02:47<00:45, 50.89it/s]\n",
      "\n",
      " 77%|████████████████████████████████████████████████████████████                  | 7680/9973 [02:47<00:46, 49.13it/s]\n",
      "\n",
      " 77%|████████████████████████████████████████████████████████████                  | 7687/9973 [02:47<00:42, 53.46it/s]\n",
      "\n",
      " 77%|████████████████████████████████████████████████████████████▏                 | 7693/9973 [02:47<00:42, 54.07it/s]\n",
      "\n",
      " 77%|████████████████████████████████████████████████████████████▏                 | 7700/9973 [02:47<00:40, 55.81it/s]"
     ]
    },
    {
     "name": "stdout",
     "output_type": "stream",
     "text": [
      "loss for 7700 is nan\n"
     ]
    },
    {
     "name": "stderr",
     "output_type": "stream",
     "text": [
      "\n",
      "\n",
      " 77%|████████████████████████████████████████████████████████████▎                 | 7707/9973 [02:47<00:38, 58.24it/s]\n",
      "\n",
      " 77%|████████████████████████████████████████████████████████████▎                 | 7713/9973 [02:47<00:42, 53.14it/s]\n",
      "\n",
      " 77%|████████████████████████████████████████████████████████████▎                 | 7719/9973 [02:48<00:41, 53.84it/s]\n",
      "\n",
      " 77%|████████████████████████████████████████████████████████████▍                 | 7726/9973 [02:48<00:40, 55.11it/s]\n",
      "\n",
      " 78%|████████████████████████████████████████████████████████████▍                 | 7732/9973 [02:48<00:44, 50.25it/s]\n",
      "\n",
      " 78%|████████████████████████████████████████████████████████████▌                 | 7738/9973 [02:48<00:45, 48.71it/s]\n",
      "\n",
      " 78%|████████████████████████████████████████████████████████████▌                 | 7743/9973 [02:48<00:48, 46.36it/s]\n",
      "\n",
      " 78%|████████████████████████████████████████████████████████████▌                 | 7748/9973 [02:48<00:49, 44.84it/s]\n",
      "\n",
      " 78%|████████████████████████████████████████████████████████████▋                 | 7753/9973 [02:48<00:51, 43.38it/s]\n",
      "\n",
      " 78%|████████████████████████████████████████████████████████████▋                 | 7758/9973 [02:48<00:52, 42.42it/s]\n",
      "\n",
      " 78%|████████████████████████████████████████████████████████████▋                 | 7765/9973 [02:49<00:45, 48.10it/s]\n",
      "\n",
      " 78%|████████████████████████████████████████████████████████████▊                 | 7771/9973 [02:49<00:46, 47.73it/s]\n",
      "\n",
      " 78%|████████████████████████████████████████████████████████████▊                 | 7781/9973 [02:49<00:39, 55.11it/s]\n",
      "\n",
      " 78%|████████████████████████████████████████████████████████████▉                 | 7788/9973 [02:49<00:42, 51.58it/s]\n",
      "\n",
      " 78%|████████████████████████████████████████████████████████████▉                 | 7795/9973 [02:49<00:40, 54.43it/s]"
     ]
    },
    {
     "name": "stdout",
     "output_type": "stream",
     "text": [
      "loss for 7800 is nan\n"
     ]
    },
    {
     "name": "stderr",
     "output_type": "stream",
     "text": [
      "\n",
      "\n",
      " 78%|█████████████████████████████████████████████████████████████                 | 7802/9973 [02:49<00:37, 57.18it/s]\n",
      "\n",
      " 78%|█████████████████████████████████████████████████████████████                 | 7808/9973 [02:49<00:42, 50.91it/s]\n",
      "\n",
      " 78%|█████████████████████████████████████████████████████████████▏                | 7816/9973 [02:49<00:38, 56.66it/s]\n",
      "\n",
      " 78%|█████████████████████████████████████████████████████████████▏                | 7826/9973 [02:50<00:33, 63.15it/s]\n",
      "\n",
      " 79%|█████████████████████████████████████████████████████████████▎                | 7833/9973 [02:50<00:37, 57.38it/s]\n",
      "\n",
      " 79%|█████████████████████████████████████████████████████████████▎                | 7840/9973 [02:50<00:35, 60.66it/s]\n",
      "\n",
      " 79%|█████████████████████████████████████████████████████████████▎                | 7847/9973 [02:50<00:35, 59.33it/s]\n",
      "\n",
      " 79%|█████████████████████████████████████████████████████████████▍                | 7856/9973 [02:50<00:32, 66.09it/s]\n",
      "\n",
      " 79%|█████████████████████████████████████████████████████████████▌                | 7864/9973 [02:50<00:32, 64.97it/s]\n",
      "\n",
      " 79%|█████████████████████████████████████████████████████████████▌                | 7871/9973 [02:50<00:31, 66.40it/s]\n",
      "\n",
      " 79%|█████████████████████████████████████████████████████████████▌                | 7878/9973 [02:50<00:36, 58.05it/s]\n",
      "\n",
      " 79%|█████████████████████████████████████████████████████████████▋                | 7886/9973 [02:51<00:34, 60.94it/s]\n",
      "\n",
      " 79%|█████████████████████████████████████████████████████████████▋                | 7893/9973 [02:51<00:38, 54.01it/s]"
     ]
    },
    {
     "name": "stdout",
     "output_type": "stream",
     "text": [
      "loss for 7900 is nan\n"
     ]
    },
    {
     "name": "stderr",
     "output_type": "stream",
     "text": [
      "\n",
      "\n",
      " 79%|█████████████████████████████████████████████████████████████▊                | 7901/9973 [02:51<00:36, 57.27it/s]\n",
      "\n",
      " 79%|█████████████████████████████████████████████████████████████▊                | 7908/9973 [02:51<00:34, 59.95it/s]\n",
      "\n",
      " 79%|█████████████████████████████████████████████████████████████▉                | 7915/9973 [02:51<00:36, 56.03it/s]\n",
      "\n",
      " 79%|█████████████████████████████████████████████████████████████▉                | 7922/9973 [02:51<00:34, 59.00it/s]\n",
      "\n",
      " 80%|██████████████████████████████████████████████████████████████                | 7929/9973 [02:51<00:33, 60.63it/s]\n",
      "\n",
      " 80%|██████████████████████████████████████████████████████████████                | 7936/9973 [02:51<00:36, 55.90it/s]\n",
      "\n",
      " 80%|██████████████████████████████████████████████████████████████                | 7942/9973 [02:52<00:40, 50.20it/s]\n",
      "\n",
      " 80%|██████████████████████████████████████████████████████████████▏               | 7952/9973 [02:52<00:34, 58.60it/s]\n",
      "\n",
      " 80%|██████████████████████████████████████████████████████████████▏               | 7959/9973 [02:52<00:36, 55.20it/s]\n",
      "\n",
      " 80%|██████████████████████████████████████████████████████████████▎               | 7966/9973 [02:52<00:39, 50.73it/s]\n",
      "\n",
      " 80%|██████████████████████████████████████████████████████████████▎               | 7973/9973 [02:52<00:36, 54.27it/s]\n",
      "\n",
      " 80%|██████████████████████████████████████████████████████████████▍               | 7980/9973 [02:52<00:35, 56.50it/s]\n",
      "\n",
      " 80%|██████████████████████████████████████████████████████████████▍               | 7986/9973 [02:52<00:37, 53.22it/s]\n",
      "\n",
      " 80%|██████████████████████████████████████████████████████████████▌               | 7997/9973 [02:52<00:32, 61.29it/s]"
     ]
    },
    {
     "name": "stdout",
     "output_type": "stream",
     "text": [
      "loss for 8000 is nan\n"
     ]
    },
    {
     "name": "stderr",
     "output_type": "stream",
     "text": [
      "\n",
      "\n",
      " 80%|██████████████████████████████████████████████████████████████▌               | 8004/9973 [02:53<00:37, 53.21it/s]\n",
      "\n",
      " 80%|██████████████████████████████████████████████████████████████▋               | 8011/9973 [02:53<00:34, 56.78it/s]\n",
      "\n",
      " 80%|██████████████████████████████████████████████████████████████▋               | 8018/9973 [02:53<00:37, 52.12it/s]\n",
      "\n",
      " 80%|██████████████████████████████████████████████████████████████▊               | 8025/9973 [02:53<00:35, 55.38it/s]\n",
      "\n",
      " 81%|██████████████████████████████████████████████████████████████▊               | 8031/9973 [02:53<00:37, 51.44it/s]\n",
      "\n",
      " 81%|██████████████████████████████████████████████████████████████▊               | 8037/9973 [02:53<00:39, 48.52it/s]\n",
      "\n",
      " 81%|██████████████████████████████████████████████████████████████▉               | 8043/9973 [02:53<00:40, 47.11it/s]\n",
      "\n",
      " 81%|██████████████████████████████████████████████████████████████▉               | 8048/9973 [02:54<00:42, 44.85it/s]\n",
      "\n",
      " 81%|██████████████████████████████████████████████████████████████▉               | 8053/9973 [02:54<00:43, 43.84it/s]\n",
      "\n",
      " 81%|███████████████████████████████████████████████████████████████               | 8058/9973 [02:54<00:45, 41.87it/s]\n",
      "\n",
      " 81%|███████████████████████████████████████████████████████████████               | 8063/9973 [02:54<00:43, 43.55it/s]\n",
      "\n",
      " 81%|███████████████████████████████████████████████████████████████               | 8068/9973 [02:54<00:43, 43.87it/s]\n",
      "\n",
      " 81%|███████████████████████████████████████████████████████████████▏              | 8073/9973 [02:54<00:43, 44.10it/s]\n",
      "\n",
      " 81%|███████████████████████████████████████████████████████████████▏              | 8079/9973 [02:54<00:40, 47.01it/s]\n",
      "\n",
      " 81%|███████████████████████████████████████████████████████████████▏              | 8084/9973 [02:54<00:41, 45.77it/s]\n",
      "\n",
      " 81%|███████████████████████████████████████████████████████████████▎              | 8089/9973 [02:54<00:42, 44.45it/s]\n",
      "\n",
      " 81%|███████████████████████████████████████████████████████████████▎              | 8096/9973 [02:55<00:37, 49.50it/s]"
     ]
    },
    {
     "name": "stdout",
     "output_type": "stream",
     "text": [
      "loss for 8100 is nan\n"
     ]
    },
    {
     "name": "stderr",
     "output_type": "stream",
     "text": [
      "\n",
      "\n",
      " 81%|███████████████████████████████████████████████████████████████▎              | 8102/9973 [02:55<00:39, 47.75it/s]\n",
      "\n",
      " 81%|███████████████████████████████████████████████████████████████▍              | 8107/9973 [02:55<00:42, 44.29it/s]\n",
      "\n",
      " 81%|███████████████████████████████████████████████████████████████▍              | 8112/9973 [02:55<00:43, 42.58it/s]\n",
      "\n",
      " 81%|███████████████████████████████████████████████████████████████▍              | 8117/9973 [02:55<00:42, 43.63it/s]\n",
      "\n",
      " 81%|███████████████████████████████████████████████████████████████▌              | 8122/9973 [02:55<00:43, 43.02it/s]\n",
      "\n",
      " 82%|███████████████████████████████████████████████████████████████▌              | 8129/9973 [02:55<00:39, 47.08it/s]\n",
      "\n",
      " 82%|███████████████████████████████████████████████████████████████▌              | 8134/9973 [02:55<00:39, 46.32it/s]\n",
      "\n",
      " 82%|███████████████████████████████████████████████████████████████▋              | 8139/9973 [02:56<00:42, 43.42it/s]\n",
      "\n",
      " 82%|███████████████████████████████████████████████████████████████▋              | 8144/9973 [02:56<00:42, 42.88it/s]\n",
      "\n",
      " 82%|███████████████████████████████████████████████████████████████▊              | 8152/9973 [02:56<00:36, 49.44it/s]\n",
      "\n",
      " 82%|███████████████████████████████████████████████████████████████▊              | 8159/9973 [02:56<00:34, 52.27it/s]\n",
      "\n",
      " 82%|███████████████████████████████████████████████████████████████▊              | 8165/9973 [02:56<00:37, 48.57it/s]\n",
      "\n",
      " 82%|███████████████████████████████████████████████████████████████▉              | 8171/9973 [02:56<00:38, 46.27it/s]\n",
      "\n",
      " 82%|███████████████████████████████████████████████████████████████▉              | 8178/9973 [02:56<00:35, 50.18it/s]\n",
      "\n",
      " 82%|████████████████████████████████████████████████████████████████              | 8184/9973 [02:56<00:38, 46.40it/s]\n",
      "\n",
      " 82%|████████████████████████████████████████████████████████████████              | 8189/9973 [02:57<00:39, 44.87it/s]\n",
      "\n",
      " 82%|████████████████████████████████████████████████████████████████              | 8194/9973 [02:57<00:39, 45.29it/s]\n",
      "\n",
      " 82%|████████████████████████████████████████████████████████████████▏             | 8199/9973 [02:57<00:40, 44.14it/s]"
     ]
    },
    {
     "name": "stdout",
     "output_type": "stream",
     "text": [
      "loss for 8200 is nan\n"
     ]
    },
    {
     "name": "stderr",
     "output_type": "stream",
     "text": [
      "\n",
      "\n",
      " 82%|████████████████████████████████████████████████████████████████▏             | 8204/9973 [02:57<00:40, 43.82it/s]\n",
      "\n",
      " 82%|████████████████████████████████████████████████████████████████▏             | 8209/9973 [02:57<00:40, 43.15it/s]\n",
      "\n",
      " 82%|████████████████████████████████████████████████████████████████▏             | 8214/9973 [02:57<00:42, 41.42it/s]\n",
      "\n",
      " 82%|████████████████████████████████████████████████████████████████▎             | 8219/9973 [02:57<00:42, 41.09it/s]\n",
      "\n",
      " 83%|████████████████████████████████████████████████████████████████▎             | 8229/9973 [02:57<00:34, 49.91it/s]\n",
      "\n",
      " 83%|████████████████████████████████████████████████████████████████▍             | 8235/9973 [02:58<00:34, 50.44it/s]\n",
      "\n",
      " 83%|████████████████████████████████████████████████████████████████▍             | 8243/9973 [02:58<00:30, 56.73it/s]\n",
      "\n",
      " 83%|████████████████████████████████████████████████████████████████▌             | 8253/9973 [02:58<00:26, 64.68it/s]\n",
      "\n",
      " 83%|████████████████████████████████████████████████████████████████▌             | 8261/9973 [02:58<00:25, 65.91it/s]\n",
      "\n",
      " 83%|████████████████████████████████████████████████████████████████▋             | 8269/9973 [02:58<00:24, 68.17it/s]\n",
      "\n",
      " 83%|████████████████████████████████████████████████████████████████▋             | 8278/9973 [02:58<00:23, 72.80it/s]\n",
      "\n",
      " 83%|████████████████████████████████████████████████████████████████▊             | 8286/9973 [02:58<00:28, 60.01it/s]\n",
      "\n",
      " 83%|████████████████████████████████████████████████████████████████▊             | 8293/9973 [02:58<00:31, 53.01it/s]\n",
      "\n",
      " 83%|████████████████████████████████████████████████████████████████▉             | 8299/9973 [02:59<00:33, 49.99it/s]"
     ]
    },
    {
     "name": "stdout",
     "output_type": "stream",
     "text": [
      "loss for 8300 is nan\n"
     ]
    },
    {
     "name": "stderr",
     "output_type": "stream",
     "text": [
      "\n",
      "\n",
      " 83%|████████████████████████████████████████████████████████████████▉             | 8305/9973 [02:59<00:36, 45.86it/s]\n",
      "\n",
      " 83%|█████████████████████████████████████████████████████████████████             | 8311/9973 [02:59<00:35, 47.03it/s]\n",
      "\n",
      " 83%|█████████████████████████████████████████████████████████████████             | 8316/9973 [02:59<00:36, 45.78it/s]\n",
      "\n",
      " 83%|█████████████████████████████████████████████████████████████████             | 8321/9973 [02:59<00:35, 46.97it/s]\n",
      "\n",
      " 83%|█████████████████████████████████████████████████████████████████             | 8326/9973 [02:59<00:35, 46.25it/s]\n",
      "\n",
      " 84%|█████████████████████████████████████████████████████████████████▏            | 8331/9973 [02:59<00:35, 46.26it/s]\n",
      "\n",
      " 84%|█████████████████████████████████████████████████████████████████▏            | 8336/9973 [02:59<00:35, 45.76it/s]\n",
      "\n",
      " 84%|█████████████████████████████████████████████████████████████████▎            | 8343/9973 [02:59<00:31, 51.07it/s]\n",
      "\n",
      " 84%|█████████████████████████████████████████████████████████████████▎            | 8353/9973 [03:00<00:27, 58.18it/s]\n",
      "\n",
      " 84%|█████████████████████████████████████████████████████████████████▍            | 8360/9973 [03:00<00:29, 54.94it/s]\n",
      "\n",
      " 84%|█████████████████████████████████████████████████████████████████▍            | 8366/9973 [03:00<00:31, 51.70it/s]\n",
      "\n",
      " 84%|█████████████████████████████████████████████████████████████████▍            | 8373/9973 [03:00<00:28, 55.57it/s]\n",
      "\n",
      " 84%|█████████████████████████████████████████████████████████████████▌            | 8379/9973 [03:00<00:29, 53.77it/s]\n",
      "\n",
      " 84%|█████████████████████████████████████████████████████████████████▌            | 8385/9973 [03:00<00:28, 54.89it/s]\n",
      "\n",
      " 84%|█████████████████████████████████████████████████████████████████▋            | 8393/9973 [03:00<00:27, 58.47it/s]\n",
      "\n",
      " 84%|█████████████████████████████████████████████████████████████████▋            | 8400/9973 [03:00<00:29, 53.60it/s]"
     ]
    },
    {
     "name": "stdout",
     "output_type": "stream",
     "text": [
      "loss for 8400 is nan\n"
     ]
    },
    {
     "name": "stderr",
     "output_type": "stream",
     "text": [
      "\n",
      "\n",
      " 84%|█████████████████████████████████████████████████████████████████▊            | 8407/9973 [03:01<00:29, 53.92it/s]\n",
      "\n",
      " 84%|█████████████████████████████████████████████████████████████████▊            | 8415/9973 [03:01<00:27, 57.20it/s]\n",
      "\n",
      " 84%|█████████████████████████████████████████████████████████████████▊            | 8422/9973 [03:01<00:26, 59.29it/s]\n",
      "\n",
      " 85%|█████████████████████████████████████████████████████████████████▉            | 8429/9973 [03:01<00:25, 61.49it/s]\n",
      "\n",
      " 85%|█████████████████████████████████████████████████████████████████▉            | 8436/9973 [03:01<00:29, 52.36it/s]\n",
      "\n",
      " 85%|██████████████████████████████████████████████████████████████████            | 8442/9973 [03:01<00:30, 50.08it/s]\n",
      "\n",
      " 85%|██████████████████████████████████████████████████████████████████            | 8449/9973 [03:01<00:29, 52.30it/s]\n",
      "\n",
      " 85%|██████████████████████████████████████████████████████████████████▏           | 8457/9973 [03:01<00:26, 56.39it/s]\n",
      "\n",
      " 85%|██████████████████████████████████████████████████████████████████▏           | 8463/9973 [03:02<00:29, 50.98it/s]\n",
      "\n",
      " 85%|██████████████████████████████████████████████████████████████████▏           | 8469/9973 [03:02<00:31, 47.33it/s]\n",
      "\n",
      " 85%|██████████████████████████████████████████████████████████████████▎           | 8474/9973 [03:02<00:33, 44.98it/s]\n",
      "\n",
      " 85%|██████████████████████████████████████████████████████████████████▎           | 8480/9973 [03:02<00:30, 48.16it/s]\n",
      "\n",
      " 85%|██████████████████████████████████████████████████████████████████▍           | 8488/9973 [03:02<00:28, 52.54it/s]\n",
      "\n",
      " 85%|██████████████████████████████████████████████████████████████████▍           | 8496/9973 [03:02<00:25, 57.07it/s]"
     ]
    },
    {
     "name": "stdout",
     "output_type": "stream",
     "text": [
      "loss for 8500 is nan\n"
     ]
    },
    {
     "name": "stderr",
     "output_type": "stream",
     "text": [
      "\n",
      "\n",
      " 85%|██████████████████████████████████████████████████████████████████▍           | 8502/9973 [03:02<00:28, 51.37it/s]\n",
      "\n",
      " 85%|██████████████████████████████████████████████████████████████████▌           | 8508/9973 [03:02<00:28, 52.01it/s]\n",
      "\n",
      " 85%|██████████████████████████████████████████████████████████████████▌           | 8516/9973 [03:03<00:25, 57.61it/s]\n",
      "\n",
      " 85%|██████████████████████████████████████████████████████████████████▋           | 8523/9973 [03:03<00:24, 59.60it/s]\n",
      "\n",
      " 86%|██████████████████████████████████████████████████████████████████▋           | 8534/9973 [03:03<00:21, 67.07it/s]\n",
      "\n",
      " 86%|██████████████████████████████████████████████████████████████████▊           | 8543/9973 [03:03<00:19, 72.62it/s]\n",
      "\n",
      " 86%|██████████████████████████████████████████████████████████████████▉           | 8551/9973 [03:03<00:19, 73.05it/s]\n",
      "\n",
      " 86%|██████████████████████████████████████████████████████████████████▉           | 8559/9973 [03:03<00:20, 67.42it/s]\n",
      "\n",
      " 86%|███████████████████████████████████████████████████████████████████           | 8567/9973 [03:03<00:23, 59.94it/s]\n",
      "\n",
      " 86%|███████████████████████████████████████████████████████████████████           | 8574/9973 [03:03<00:26, 52.50it/s]\n",
      "\n",
      " 86%|███████████████████████████████████████████████████████████████████           | 8580/9973 [03:04<00:27, 50.67it/s]\n",
      "\n",
      " 86%|███████████████████████████████████████████████████████████████████▏          | 8586/9973 [03:04<00:29, 47.59it/s]\n",
      "\n",
      " 86%|███████████████████████████████████████████████████████████████████▏          | 8594/9973 [03:04<00:26, 52.47it/s]\n",
      "\n",
      " 86%|███████████████████████████████████████████████████████████████████▎          | 8600/9973 [03:04<00:27, 50.15it/s]"
     ]
    },
    {
     "name": "stdout",
     "output_type": "stream",
     "text": [
      "loss for 8600 is nan\n"
     ]
    },
    {
     "name": "stderr",
     "output_type": "stream",
     "text": [
      "\n",
      "\n",
      " 86%|███████████████████████████████████████████████████████████████████▎          | 8606/9973 [03:04<00:25, 52.74it/s]\n",
      "\n",
      " 86%|███████████████████████████████████████████████████████████████████▎          | 8612/9973 [03:04<00:26, 51.89it/s]\n",
      "\n",
      " 86%|███████████████████████████████████████████████████████████████████▍          | 8621/9973 [03:04<00:23, 57.61it/s]\n",
      "\n",
      " 87%|███████████████████████████████████████████████████████████████████▍          | 8629/9973 [03:04<00:21, 62.89it/s]\n",
      "\n",
      " 87%|███████████████████████████████████████████████████████████████████▌          | 8636/9973 [03:05<00:21, 63.46it/s]\n",
      "\n",
      " 87%|███████████████████████████████████████████████████████████████████▌          | 8643/9973 [03:05<00:21, 61.83it/s]\n",
      "\n",
      " 87%|███████████████████████████████████████████████████████████████████▋          | 8651/9973 [03:05<00:20, 64.43it/s]\n",
      "\n",
      " 87%|███████████████████████████████████████████████████████████████████▋          | 8658/9973 [03:05<00:23, 55.36it/s]\n",
      "\n",
      " 87%|███████████████████████████████████████████████████████████████████▊          | 8664/9973 [03:05<00:24, 52.51it/s]\n",
      "\n",
      " 87%|███████████████████████████████████████████████████████████████████▊          | 8670/9973 [03:05<00:26, 49.67it/s]\n",
      "\n",
      " 87%|███████████████████████████████████████████████████████████████████▊          | 8676/9973 [03:05<00:27, 47.86it/s]\n",
      "\n",
      " 87%|███████████████████████████████████████████████████████████████████▉          | 8687/9973 [03:05<00:23, 55.87it/s]\n",
      "\n",
      " 87%|███████████████████████████████████████████████████████████████████▉          | 8694/9973 [03:06<00:23, 54.48it/s]"
     ]
    },
    {
     "name": "stdout",
     "output_type": "stream",
     "text": [
      "loss for 8700 is nan\n"
     ]
    },
    {
     "name": "stderr",
     "output_type": "stream",
     "text": [
      "\n",
      "\n",
      " 87%|████████████████████████████████████████████████████████████████████          | 8701/9973 [03:06<00:22, 55.58it/s]\n",
      "\n",
      " 87%|████████████████████████████████████████████████████████████████████          | 8707/9973 [03:06<00:22, 55.57it/s]\n",
      "\n",
      " 87%|████████████████████████████████████████████████████████████████████▏         | 8713/9973 [03:06<00:22, 54.96it/s]\n",
      "\n",
      " 87%|████████████████████████████████████████████████████████████████████▏         | 8722/9973 [03:06<00:20, 60.71it/s]\n",
      "\n",
      " 88%|████████████████████████████████████████████████████████████████████▎         | 8729/9973 [03:06<00:19, 62.55it/s]\n",
      "\n",
      " 88%|████████████████████████████████████████████████████████████████████▎         | 8736/9973 [03:06<00:22, 54.38it/s]\n",
      "\n",
      " 88%|████████████████████████████████████████████████████████████████████▍         | 8743/9973 [03:06<00:21, 56.58it/s]\n",
      "\n",
      " 88%|████████████████████████████████████████████████████████████████████▍         | 8751/9973 [03:07<00:19, 61.46it/s]\n",
      "\n",
      " 88%|████████████████████████████████████████████████████████████████████▍         | 8758/9973 [03:07<00:22, 53.79it/s]\n",
      "\n",
      " 88%|████████████████████████████████████████████████████████████████████▌         | 8764/9973 [03:07<00:22, 54.31it/s]\n",
      "\n",
      " 88%|████████████████████████████████████████████████████████████████████▌         | 8771/9973 [03:07<00:22, 54.42it/s]\n",
      "\n",
      " 88%|████████████████████████████████████████████████████████████████████▋         | 8777/9973 [03:07<00:22, 53.02it/s]\n",
      "\n",
      " 88%|████████████████████████████████████████████████████████████████████▋         | 8787/9973 [03:07<00:19, 61.71it/s]\n",
      "\n",
      " 88%|████████████████████████████████████████████████████████████████████▊         | 8794/9973 [03:07<00:21, 55.47it/s]"
     ]
    },
    {
     "name": "stdout",
     "output_type": "stream",
     "text": [
      "loss for 8800 is nan\n"
     ]
    },
    {
     "name": "stderr",
     "output_type": "stream",
     "text": [
      "\n",
      "\n",
      " 88%|████████████████████████████████████████████████████████████████████▊         | 8801/9973 [03:07<00:22, 52.74it/s]\n",
      "\n",
      " 88%|████████████████████████████████████████████████████████████████████▉         | 8807/9973 [03:08<00:23, 49.32it/s]\n",
      "\n",
      " 88%|████████████████████████████████████████████████████████████████████▉         | 8815/9973 [03:08<00:20, 55.27it/s]\n",
      "\n",
      " 88%|████████████████████████████████████████████████████████████████████▉         | 8821/9973 [03:08<00:21, 53.58it/s]\n",
      "\n",
      " 89%|█████████████████████████████████████████████████████████████████████         | 8828/9973 [03:08<00:20, 55.98it/s]\n",
      "\n",
      " 89%|█████████████████████████████████████████████████████████████████████▏        | 8839/9973 [03:08<00:17, 65.18it/s]\n",
      "\n",
      " 89%|█████████████████████████████████████████████████████████████████████▏        | 8847/9973 [03:08<00:16, 69.02it/s]\n",
      "\n",
      " 89%|█████████████████████████████████████████████████████████████████████▎        | 8855/9973 [03:08<00:17, 63.12it/s]\n",
      "\n",
      " 89%|█████████████████████████████████████████████████████████████████████▎        | 8862/9973 [03:08<00:18, 59.11it/s]\n",
      "\n",
      " 89%|█████████████████████████████████████████████████████████████████████▎        | 8869/9973 [03:09<00:21, 52.51it/s]\n",
      "\n",
      " 89%|█████████████████████████████████████████████████████████████████████▍        | 8875/9973 [03:09<00:22, 48.24it/s]\n",
      "\n",
      " 89%|█████████████████████████████████████████████████████████████████████▍        | 8882/9973 [03:09<00:20, 52.25it/s]\n",
      "\n",
      " 89%|█████████████████████████████████████████████████████████████████████▌        | 8890/9973 [03:09<00:19, 56.83it/s]\n",
      "\n",
      " 89%|█████████████████████████████████████████████████████████████████████▌        | 8897/9973 [03:09<00:18, 59.61it/s]"
     ]
    },
    {
     "name": "stdout",
     "output_type": "stream",
     "text": [
      "loss for 8900 is nan\n"
     ]
    },
    {
     "name": "stderr",
     "output_type": "stream",
     "text": [
      "\n",
      "\n",
      " 89%|█████████████████████████████████████████████████████████████████████▋        | 8905/9973 [03:09<00:17, 62.72it/s]\n",
      "\n",
      " 89%|█████████████████████████████████████████████████████████████████████▋        | 8912/9973 [03:09<00:19, 53.96it/s]\n",
      "\n",
      " 89%|█████████████████████████████████████████████████████████████████████▋        | 8918/9973 [03:10<00:21, 48.61it/s]\n",
      "\n",
      " 89%|█████████████████████████████████████████████████████████████████████▊        | 8925/9973 [03:10<00:19, 52.55it/s]\n",
      "\n",
      " 90%|█████████████████████████████████████████████████████████████████████▊        | 8934/9973 [03:10<00:17, 59.10it/s]\n",
      "\n",
      " 90%|█████████████████████████████████████████████████████████████████████▉        | 8941/9973 [03:10<00:17, 59.47it/s]\n",
      "\n",
      " 90%|█████████████████████████████████████████████████████████████████████▉        | 8948/9973 [03:10<00:19, 53.19it/s]\n",
      "\n",
      " 90%|██████████████████████████████████████████████████████████████████████        | 8956/9973 [03:10<00:17, 57.11it/s]\n",
      "\n",
      " 90%|██████████████████████████████████████████████████████████████████████        | 8963/9973 [03:10<00:17, 57.47it/s]\n",
      "\n",
      " 90%|██████████████████████████████████████████████████████████████████████▏       | 8969/9973 [03:10<00:17, 56.88it/s]\n",
      "\n",
      " 90%|██████████████████████████████████████████████████████████████████████▏       | 8975/9973 [03:10<00:18, 54.04it/s]\n",
      "\n",
      " 90%|██████████████████████████████████████████████████████████████████████▎       | 8983/9973 [03:11<00:16, 59.87it/s]\n",
      "\n",
      " 90%|██████████████████████████████████████████████████████████████████████▎       | 8990/9973 [03:11<00:16, 61.27it/s]\n",
      "\n",
      " 90%|██████████████████████████████████████████████████████████████████████▎       | 8997/9973 [03:11<00:16, 59.74it/s]"
     ]
    },
    {
     "name": "stdout",
     "output_type": "stream",
     "text": [
      "loss for 9000 is nan\n"
     ]
    },
    {
     "name": "stderr",
     "output_type": "stream",
     "text": [
      "\n",
      "\n",
      " 90%|██████████████████████████████████████████████████████████████████████▍       | 9004/9973 [03:11<00:15, 62.49it/s]\n",
      "\n",
      " 90%|██████████████████████████████████████████████████████████████████████▍       | 9013/9973 [03:11<00:14, 66.36it/s]\n",
      "\n",
      " 90%|██████████████████████████████████████████████████████████████████████▌       | 9021/9973 [03:11<00:14, 67.80it/s]\n",
      "\n",
      " 91%|██████████████████████████████████████████████████████████████████████▌       | 9028/9973 [03:11<00:15, 60.62it/s]\n",
      "\n",
      " 91%|██████████████████████████████████████████████████████████████████████▋       | 9035/9973 [03:11<00:16, 57.55it/s]\n",
      "\n",
      " 91%|██████████████████████████████████████████████████████████████████████▋       | 9041/9973 [03:12<00:17, 52.74it/s]\n",
      "\n",
      " 91%|██████████████████████████████████████████████████████████████████████▊       | 9047/9973 [03:12<00:18, 50.83it/s]\n",
      "\n",
      " 91%|██████████████████████████████████████████████████████████████████████▊       | 9054/9973 [03:12<00:16, 54.86it/s]\n",
      "\n",
      " 91%|██████████████████████████████████████████████████████████████████████▊       | 9060/9973 [03:12<00:17, 52.74it/s]\n",
      "\n",
      " 91%|██████████████████████████████████████████████████████████████████████▉       | 9066/9973 [03:12<00:18, 50.32it/s]\n",
      "\n",
      " 91%|██████████████████████████████████████████████████████████████████████▉       | 9072/9973 [03:12<00:19, 46.93it/s]\n",
      "\n",
      " 91%|██████████████████████████████████████████████████████████████████████▉       | 9077/9973 [03:12<00:18, 47.27it/s]\n",
      "\n",
      " 91%|███████████████████████████████████████████████████████████████████████       | 9084/9973 [03:12<00:16, 52.37it/s]\n",
      "\n",
      " 91%|███████████████████████████████████████████████████████████████████████       | 9090/9973 [03:13<00:18, 48.15it/s]\n",
      "\n",
      " 91%|███████████████████████████████████████████████████████████████████████▏      | 9096/9973 [03:13<00:19, 46.00it/s]"
     ]
    },
    {
     "name": "stdout",
     "output_type": "stream",
     "text": [
      "loss for 9100 is nan\n"
     ]
    },
    {
     "name": "stderr",
     "output_type": "stream",
     "text": [
      "\n",
      "\n",
      " 91%|███████████████████████████████████████████████████████████████████████▏      | 9101/9973 [03:13<00:20, 42.34it/s]\n",
      "\n",
      " 91%|███████████████████████████████████████████████████████████████████████▏      | 9106/9973 [03:13<00:20, 42.14it/s]\n",
      "\n",
      " 91%|███████████████████████████████████████████████████████████████████████▎      | 9111/9973 [03:13<00:20, 41.58it/s]\n",
      "\n",
      " 91%|███████████████████████████████████████████████████████████████████████▎      | 9116/9973 [03:13<00:21, 40.39it/s]\n",
      "\n",
      " 91%|███████████████████████████████████████████████████████████████████████▎      | 9121/9973 [03:13<00:21, 40.37it/s]\n",
      "\n",
      " 92%|███████████████████████████████████████████████████████████████████████▍      | 9126/9973 [03:13<00:21, 39.97it/s]\n",
      "\n",
      " 92%|███████████████████████████████████████████████████████████████████████▍      | 9131/9973 [03:14<00:20, 40.86it/s]\n",
      "\n",
      " 92%|███████████████████████████████████████████████████████████████████████▍      | 9136/9973 [03:14<00:20, 41.10it/s]\n",
      "\n",
      " 92%|███████████████████████████████████████████████████████████████████████▌      | 9142/9973 [03:14<00:18, 44.19it/s]\n",
      "\n",
      " 92%|███████████████████████████████████████████████████████████████████████▌      | 9147/9973 [03:14<00:18, 43.86it/s]\n",
      "\n",
      " 92%|███████████████████████████████████████████████████████████████████████▌      | 9154/9973 [03:14<00:17, 47.38it/s]\n",
      "\n",
      " 92%|███████████████████████████████████████████████████████████████████████▋      | 9161/9973 [03:14<00:15, 51.54it/s]\n",
      "\n",
      " 92%|███████████████████████████████████████████████████████████████████████▋      | 9167/9973 [03:14<00:14, 53.82it/s]\n",
      "\n",
      " 92%|███████████████████████████████████████████████████████████████████████▊      | 9174/9973 [03:14<00:14, 56.16it/s]\n",
      "\n",
      " 92%|███████████████████████████████████████████████████████████████████████▊      | 9181/9973 [03:14<00:13, 59.70it/s]\n",
      "\n",
      " 92%|███████████████████████████████████████████████████████████████████████▉      | 9192/9973 [03:15<00:11, 67.66it/s]\n",
      "\n",
      " 92%|███████████████████████████████████████████████████████████████████████▉      | 9200/9973 [03:15<00:12, 60.07it/s]"
     ]
    },
    {
     "name": "stdout",
     "output_type": "stream",
     "text": [
      "loss for 9200 is nan\n"
     ]
    },
    {
     "name": "stderr",
     "output_type": "stream",
     "text": [
      "\n",
      "\n",
      " 92%|████████████████████████████████████████████████████████████████████████      | 9207/9973 [03:15<00:13, 55.05it/s]\n",
      "\n",
      " 92%|████████████████████████████████████████████████████████████████████████      | 9213/9973 [03:15<00:13, 55.81it/s]\n",
      "\n",
      " 92%|████████████████████████████████████████████████████████████████████████      | 9219/9973 [03:15<00:14, 51.17it/s]\n",
      "\n",
      " 93%|████████████████████████████████████████████████████████████████████████▏     | 9226/9973 [03:15<00:13, 55.66it/s]\n",
      "\n",
      " 93%|████████████████████████████████████████████████████████████████████████▏     | 9232/9973 [03:15<00:14, 50.06it/s]\n",
      "\n",
      " 93%|████████████████████████████████████████████████████████████████████████▎     | 9238/9973 [03:15<00:13, 52.68it/s]\n",
      "\n",
      " 93%|████████████████████████████████████████████████████████████████████████▎     | 9247/9973 [03:16<00:12, 59.69it/s]\n",
      "\n",
      " 93%|████████████████████████████████████████████████████████████████████████▍     | 9256/9973 [03:16<00:11, 64.12it/s]\n",
      "\n",
      " 93%|████████████████████████████████████████████████████████████████████████▍     | 9265/9973 [03:16<00:10, 69.53it/s]\n",
      "\n",
      " 93%|████████████████████████████████████████████████████████████████████████▌     | 9273/9973 [03:16<00:09, 70.83it/s]\n",
      "\n",
      " 93%|████████████████████████████████████████████████████████████████████████▌     | 9282/9973 [03:16<00:09, 74.17it/s]\n",
      "\n",
      " 93%|████████████████████████████████████████████████████████████████████████▋     | 9290/9973 [03:16<00:09, 69.50it/s]"
     ]
    },
    {
     "name": "stdout",
     "output_type": "stream",
     "text": [
      "loss for 9300 is nan\n"
     ]
    },
    {
     "name": "stderr",
     "output_type": "stream",
     "text": [
      "\n",
      "\n",
      " 93%|████████████████████████████████████████████████████████████████████████▋     | 9301/9973 [03:16<00:08, 75.56it/s]\n",
      "\n",
      " 93%|████████████████████████████████████████████████████████████████████████▊     | 9309/9973 [03:16<00:10, 62.44it/s]\n",
      "\n",
      " 93%|████████████████████████████████████████████████████████████████████████▊     | 9316/9973 [03:17<00:10, 61.15it/s]\n",
      "\n",
      " 94%|████████████████████████████████████████████████████████████████████████▉     | 9325/9973 [03:17<00:09, 66.46it/s]\n",
      "\n",
      " 94%|████████████████████████████████████████████████████████████████████████▉     | 9333/9973 [03:17<00:11, 55.92it/s]\n",
      "\n",
      " 94%|█████████████████████████████████████████████████████████████████████████     | 9340/9973 [03:17<00:12, 52.07it/s]\n",
      "\n",
      " 94%|█████████████████████████████████████████████████████████████████████████     | 9346/9973 [03:17<00:13, 47.52it/s]\n",
      "\n",
      " 94%|█████████████████████████████████████████████████████████████████████████▏    | 9352/9973 [03:17<00:13, 46.88it/s]\n",
      "\n",
      " 94%|█████████████████████████████████████████████████████████████████████████▏    | 9359/9973 [03:17<00:11, 51.58it/s]\n",
      "\n",
      " 94%|█████████████████████████████████████████████████████████████████████████▏    | 9365/9973 [03:18<00:11, 52.71it/s]\n",
      "\n",
      " 94%|█████████████████████████████████████████████████████████████████████████▎    | 9371/9973 [03:18<00:11, 54.11it/s]\n",
      "\n",
      " 94%|█████████████████████████████████████████████████████████████████████████▎    | 9377/9973 [03:18<00:11, 52.26it/s]\n",
      "\n",
      " 94%|█████████████████████████████████████████████████████████████████████████▍    | 9385/9973 [03:18<00:10, 57.32it/s]\n",
      "\n",
      " 94%|█████████████████████████████████████████████████████████████████████████▍    | 9391/9973 [03:18<00:11, 50.48it/s]\n",
      "\n",
      " 94%|█████████████████████████████████████████████████████████████████████████▌    | 9399/9973 [03:18<00:10, 55.48it/s]"
     ]
    },
    {
     "name": "stdout",
     "output_type": "stream",
     "text": [
      "loss for 9400 is nan\n"
     ]
    },
    {
     "name": "stderr",
     "output_type": "stream",
     "text": [
      "\n",
      "\n",
      " 94%|█████████████████████████████████████████████████████████████████████████▌    | 9405/9973 [03:18<00:11, 50.46it/s]\n",
      "\n",
      " 94%|█████████████████████████████████████████████████████████████████████████▌    | 9411/9973 [03:18<00:10, 51.35it/s]\n",
      "\n",
      " 94%|█████████████████████████████████████████████████████████████████████████▋    | 9419/9973 [03:18<00:09, 56.08it/s]\n",
      "\n",
      " 95%|█████████████████████████████████████████████████████████████████████████▋    | 9428/9973 [03:19<00:08, 61.17it/s]\n",
      "\n",
      " 95%|█████████████████████████████████████████████████████████████████████████▊    | 9435/9973 [03:19<00:10, 53.64it/s]\n",
      "\n",
      " 95%|█████████████████████████████████████████████████████████████████████████▊    | 9441/9973 [03:19<00:09, 55.40it/s]\n",
      "\n",
      " 95%|█████████████████████████████████████████████████████████████████████████▉    | 9447/9973 [03:19<00:10, 48.46it/s]\n",
      "\n",
      " 95%|█████████████████████████████████████████████████████████████████████████▉    | 9453/9973 [03:19<00:11, 43.77it/s]\n",
      "\n",
      " 95%|█████████████████████████████████████████████████████████████████████████▉    | 9460/9973 [03:19<00:11, 46.56it/s]\n",
      "\n",
      " 95%|██████████████████████████████████████████████████████████████████████████    | 9465/9973 [03:19<00:12, 42.24it/s]\n",
      "\n",
      " 95%|██████████████████████████████████████████████████████████████████████████    | 9473/9973 [03:20<00:10, 47.46it/s]\n",
      "\n",
      " 95%|██████████████████████████████████████████████████████████████████████████▏   | 9479/9973 [03:20<00:10, 45.98it/s]\n",
      "\n",
      " 95%|██████████████████████████████████████████████████████████████████████████▏   | 9484/9973 [03:20<00:11, 43.66it/s]\n",
      "\n",
      " 95%|██████████████████████████████████████████████████████████████████████████▏   | 9491/9973 [03:20<00:09, 48.80it/s]\n",
      "\n",
      " 95%|██████████████████████████████████████████████████████████████████████████▎   | 9497/9973 [03:20<00:10, 46.85it/s]"
     ]
    },
    {
     "name": "stdout",
     "output_type": "stream",
     "text": [
      "loss for 9500 is nan\n"
     ]
    },
    {
     "name": "stderr",
     "output_type": "stream",
     "text": [
      "\n",
      "\n",
      " 95%|██████████████████████████████████████████████████████████████████████████▎   | 9502/9973 [03:20<00:10, 46.68it/s]\n",
      "\n",
      " 95%|██████████████████████████████████████████████████████████████████████████▎   | 9507/9973 [03:20<00:10, 43.51it/s]\n",
      "\n",
      " 95%|██████████████████████████████████████████████████████████████████████████▍   | 9517/9973 [03:20<00:08, 51.74it/s]\n",
      "\n",
      " 95%|██████████████████████████████████████████████████████████████████████████▍   | 9524/9973 [03:21<00:08, 53.56it/s]\n",
      "\n",
      " 96%|██████████████████████████████████████████████████████████████████████████▌   | 9532/9973 [03:21<00:07, 57.90it/s]\n",
      "\n",
      " 96%|██████████████████████████████████████████████████████████████████████████▌   | 9540/9973 [03:21<00:06, 61.96it/s]\n",
      "\n",
      " 96%|██████████████████████████████████████████████████████████████████████████▋   | 9547/9973 [03:21<00:06, 62.79it/s]\n",
      "\n",
      " 96%|██████████████████████████████████████████████████████████████████████████▋   | 9555/9973 [03:21<00:06, 63.90it/s]\n",
      "\n",
      " 96%|██████████████████████████████████████████████████████████████████████████▊   | 9563/9973 [03:21<00:06, 68.01it/s]\n",
      "\n",
      " 96%|██████████████████████████████████████████████████████████████████████████▊   | 9571/9973 [03:21<00:05, 71.21it/s]\n",
      "\n",
      " 96%|██████████████████████████████████████████████████████████████████████████▉   | 9579/9973 [03:21<00:05, 70.52it/s]\n",
      "\n",
      " 96%|██████████████████████████████████████████████████████████████████████████▉   | 9587/9973 [03:21<00:05, 69.32it/s]\n",
      "\n",
      " 96%|███████████████████████████████████████████████████████████████████████████   | 9595/9973 [03:22<00:06, 58.32it/s]"
     ]
    },
    {
     "name": "stdout",
     "output_type": "stream",
     "text": [
      "loss for 9600 is nan\n"
     ]
    },
    {
     "name": "stderr",
     "output_type": "stream",
     "text": [
      "\n",
      "\n",
      " 96%|███████████████████████████████████████████████████████████████████████████   | 9602/9973 [03:22<00:06, 60.12it/s]\n",
      "\n",
      " 96%|███████████████████████████████████████████████████████████████████████████▏  | 9609/9973 [03:22<00:07, 51.21it/s]\n",
      "\n",
      " 96%|███████████████████████████████████████████████████████████████████████████▏  | 9615/9973 [03:22<00:07, 47.92it/s]\n",
      "\n",
      " 96%|███████████████████████████████████████████████████████████████████████████▏  | 9621/9973 [03:22<00:07, 45.44it/s]\n",
      "\n",
      " 97%|███████████████████████████████████████████████████████████████████████████▎  | 9626/9973 [03:22<00:08, 42.43it/s]\n",
      "\n",
      " 97%|███████████████████████████████████████████████████████████████████████████▎  | 9633/9973 [03:22<00:07, 46.58it/s]\n",
      "\n",
      " 97%|███████████████████████████████████████████████████████████████████████████▍  | 9638/9973 [03:23<00:07, 45.48it/s]\n",
      "\n",
      " 97%|███████████████████████████████████████████████████████████████████████████▍  | 9643/9973 [03:23<00:07, 44.26it/s]\n",
      "\n",
      " 97%|███████████████████████████████████████████████████████████████████████████▍  | 9648/9973 [03:23<00:07, 41.71it/s]\n",
      "\n",
      " 97%|███████████████████████████████████████████████████████████████████████████▌  | 9654/9973 [03:23<00:07, 43.89it/s]\n",
      "\n",
      " 97%|███████████████████████████████████████████████████████████████████████████▌  | 9659/9973 [03:23<00:07, 44.12it/s]\n",
      "\n",
      " 97%|███████████████████████████████████████████████████████████████████████████▌  | 9664/9973 [03:23<00:07, 42.47it/s]\n",
      "\n",
      " 97%|███████████████████████████████████████████████████████████████████████████▋  | 9670/9973 [03:23<00:06, 44.48it/s]\n",
      "\n",
      " 97%|███████████████████████████████████████████████████████████████████████████▋  | 9676/9973 [03:23<00:06, 46.43it/s]\n",
      "\n",
      " 97%|███████████████████████████████████████████████████████████████████████████▋  | 9681/9973 [03:24<00:06, 47.45it/s]\n",
      "\n",
      " 97%|███████████████████████████████████████████████████████████████████████████▊  | 9686/9973 [03:24<00:06, 44.58it/s]\n",
      "\n",
      " 97%|███████████████████████████████████████████████████████████████████████████▊  | 9691/9973 [03:24<00:06, 44.60it/s]\n",
      "\n",
      " 97%|███████████████████████████████████████████████████████████████████████████▊  | 9699/9973 [03:24<00:05, 49.88it/s]"
     ]
    },
    {
     "name": "stdout",
     "output_type": "stream",
     "text": [
      "loss for 9700 is nan\n"
     ]
    },
    {
     "name": "stderr",
     "output_type": "stream",
     "text": [
      "\n",
      "\n",
      " 97%|███████████████████████████████████████████████████████████████████████████▉  | 9705/9973 [03:24<00:05, 47.55it/s]\n",
      "\n",
      " 97%|███████████████████████████████████████████████████████████████████████████▉  | 9710/9973 [03:24<00:05, 46.12it/s]\n",
      "\n",
      " 97%|███████████████████████████████████████████████████████████████████████████▉  | 9715/9973 [03:24<00:05, 43.21it/s]\n",
      "\n",
      " 97%|████████████████████████████████████████████████████████████████████████████  | 9722/9973 [03:24<00:05, 47.62it/s]\n",
      "\n",
      " 98%|████████████████████████████████████████████████████████████████████████████  | 9729/9973 [03:25<00:04, 50.40it/s]\n",
      "\n",
      " 98%|████████████████████████████████████████████████████████████████████████████▏ | 9737/9973 [03:25<00:04, 54.83it/s]\n",
      "\n",
      " 98%|████████████████████████████████████████████████████████████████████████████▏ | 9744/9973 [03:25<00:03, 58.06it/s]\n",
      "\n",
      " 98%|████████████████████████████████████████████████████████████████████████████▎ | 9754/9973 [03:25<00:03, 64.86it/s]\n",
      "\n",
      " 98%|████████████████████████████████████████████████████████████████████████████▎ | 9761/9973 [03:25<00:03, 61.43it/s]\n",
      "\n",
      " 98%|████████████████████████████████████████████████████████████████████████████▍ | 9771/9973 [03:25<00:03, 66.69it/s]\n",
      "\n",
      " 98%|████████████████████████████████████████████████████████████████████████████▍ | 9779/9973 [03:25<00:03, 61.18it/s]\n",
      "\n",
      " 98%|████████████████████████████████████████████████████████████████████████████▌ | 9786/9973 [03:25<00:03, 55.69it/s]\n",
      "\n",
      " 98%|████████████████████████████████████████████████████████████████████████████▌ | 9792/9973 [03:26<00:03, 52.17it/s]\n",
      "\n",
      " 98%|████████████████████████████████████████████████████████████████████████████▋ | 9798/9973 [03:26<00:03, 49.95it/s]"
     ]
    },
    {
     "name": "stdout",
     "output_type": "stream",
     "text": [
      "loss for 9800 is nan\n"
     ]
    },
    {
     "name": "stderr",
     "output_type": "stream",
     "text": [
      "\n",
      "\n",
      " 98%|████████████████████████████████████████████████████████████████████████████▋ | 9804/9973 [03:26<00:03, 47.14it/s]\n",
      "\n",
      " 98%|████████████████████████████████████████████████████████████████████████████▋ | 9812/9973 [03:26<00:03, 53.01it/s]\n",
      "\n",
      " 98%|████████████████████████████████████████████████████████████████████████████▊ | 9818/9973 [03:26<00:03, 49.42it/s]\n",
      "\n",
      " 99%|████████████████████████████████████████████████████████████████████████████▊ | 9827/9973 [03:26<00:02, 55.87it/s]\n",
      "\n",
      " 99%|████████████████████████████████████████████████████████████████████████████▉ | 9834/9973 [03:26<00:02, 55.18it/s]\n",
      "\n",
      " 99%|████████████████████████████████████████████████████████████████████████████▉ | 9840/9973 [03:26<00:02, 49.30it/s]\n",
      "\n",
      " 99%|█████████████████████████████████████████████████████████████████████████████ | 9846/9973 [03:27<00:02, 48.08it/s]\n",
      "\n",
      " 99%|█████████████████████████████████████████████████████████████████████████████ | 9855/9973 [03:27<00:02, 54.27it/s]\n",
      "\n",
      " 99%|█████████████████████████████████████████████████████████████████████████████▏| 9862/9973 [03:27<00:01, 57.62it/s]\n",
      "\n",
      " 99%|█████████████████████████████████████████████████████████████████████████████▏| 9869/9973 [03:27<00:01, 55.10it/s]\n",
      "\n",
      " 99%|█████████████████████████████████████████████████████████████████████████████▏| 9876/9973 [03:27<00:01, 57.13it/s]\n",
      "\n",
      " 99%|█████████████████████████████████████████████████████████████████████████████▎| 9882/9973 [03:27<00:01, 54.79it/s]\n",
      "\n",
      " 99%|█████████████████████████████████████████████████████████████████████████████▎| 9889/9973 [03:27<00:01, 58.61it/s]\n",
      "\n",
      " 99%|█████████████████████████████████████████████████████████████████████████████▍| 9896/9973 [03:27<00:01, 53.68it/s]"
     ]
    },
    {
     "name": "stdout",
     "output_type": "stream",
     "text": [
      "loss for 9900 is nan\n"
     ]
    },
    {
     "name": "stderr",
     "output_type": "stream",
     "text": [
      "\n",
      "\n",
      " 99%|█████████████████████████████████████████████████████████████████████████████▍| 9902/9973 [03:28<00:01, 49.41it/s]\n",
      "\n",
      " 99%|█████████████████████████████████████████████████████████████████████████████▍| 9908/9973 [03:28<00:01, 51.63it/s]\n",
      "\n",
      " 99%|█████████████████████████████████████████████████████████████████████████████▌| 9914/9973 [03:28<00:01, 49.61it/s]\n",
      "\n",
      " 99%|█████████████████████████████████████████████████████████████████████████████▌| 9920/9973 [03:28<00:01, 46.06it/s]\n",
      "\n",
      "100%|█████████████████████████████████████████████████████████████████████████████▌| 9925/9973 [03:28<00:01, 43.26it/s]\n",
      "\n",
      "100%|█████████████████████████████████████████████████████████████████████████████▋| 9930/9973 [03:28<00:01, 42.77it/s]\n",
      "\n",
      "100%|█████████████████████████████████████████████████████████████████████████████▋| 9937/9973 [03:28<00:00, 48.02it/s]\n",
      "\n",
      "100%|█████████████████████████████████████████████████████████████████████████████▊| 9943/9973 [03:28<00:00, 46.78it/s]\n",
      "\n",
      "100%|█████████████████████████████████████████████████████████████████████████████▊| 9948/9973 [03:29<00:00, 44.64it/s]\n",
      "\n",
      "100%|█████████████████████████████████████████████████████████████████████████████▊| 9953/9973 [03:29<00:00, 45.61it/s]\n",
      "\n",
      "100%|█████████████████████████████████████████████████████████████████████████████▉| 9958/9973 [03:29<00:00, 45.82it/s]\n",
      "\n",
      "100%|█████████████████████████████████████████████████████████████████████████████▉| 9964/9973 [03:29<00:00, 48.36it/s]\n",
      "\n",
      "100%|█████████████████████████████████████████████████████████████████████████████▉| 9969/9973 [03:29<00:00, 48.27it/s]\n",
      "\n",
      "100%|██████████████████████████████████████████████████████████████████████████████| 9973/9973 [03:29<00:00, 47.59it/s]"
     ]
    },
    {
     "name": "stdout",
     "output_type": "stream",
     "text": [
      "epoch 1 loss is nan\n",
      "per character loss is nan\n"
     ]
    },
    {
     "name": "stderr",
     "output_type": "stream",
     "text": [
      "\n",
      "\n",
      "  0%|                                                                                         | 0/9973 [00:00<?, ?it/s]"
     ]
    },
    {
     "name": "stdout",
     "output_type": "stream",
     "text": [
      "loss for 0 is nan\n",
      "loss for 1 is nan\n",
      "loss for 2 is nan\n",
      "loss for 3 is nan\n"
     ]
    },
    {
     "name": "stderr",
     "output_type": "stream",
     "text": [
      "\n",
      "\n",
      "  0%|                                                                                 | 4/9973 [00:00<04:49, 34.48it/s]"
     ]
    },
    {
     "name": "stdout",
     "output_type": "stream",
     "text": [
      "loss for 4 is nan\n",
      "loss for 5 is nan\n",
      "loss for 6 is nan\n",
      "loss for 7 is nan\n"
     ]
    },
    {
     "name": "stderr",
     "output_type": "stream",
     "text": [
      "\n",
      "\n",
      "  0%|                                                                                 | 8/9973 [00:00<04:45, 34.84it/s]"
     ]
    },
    {
     "name": "stdout",
     "output_type": "stream",
     "text": [
      "loss for 8 is nan\n",
      "loss for 9 is nan\n",
      "loss for 10 is nan\n",
      "loss for 11 is nan\n"
     ]
    },
    {
     "name": "stderr",
     "output_type": "stream",
     "text": [
      "\n",
      "\n",
      "  0%|                                                                                | 12/9973 [00:00<04:55, 33.68it/s]"
     ]
    },
    {
     "name": "stdout",
     "output_type": "stream",
     "text": [
      "loss for 12 is nan\n",
      "loss for 13 is nan\n",
      "loss for 14 is nan\n",
      "loss for 15 is nan\n"
     ]
    },
    {
     "name": "stderr",
     "output_type": "stream",
     "text": [
      "\n",
      "\n",
      "  0%|▏                                                                               | 16/9973 [00:00<04:53, 33.92it/s]"
     ]
    },
    {
     "name": "stdout",
     "output_type": "stream",
     "text": [
      "loss for 16 is nan\n",
      "loss for 17 is nan\n",
      "loss for 18 is nan\n",
      "loss for 19 is nan\n"
     ]
    },
    {
     "name": "stderr",
     "output_type": "stream",
     "text": [
      "\n",
      "\n",
      "  0%|▏                                                                               | 20/9973 [00:00<04:49, 34.44it/s]"
     ]
    },
    {
     "name": "stdout",
     "output_type": "stream",
     "text": [
      "loss for 20 is nan\n",
      "loss for 21 is nan\n",
      "loss for 22 is nan\n",
      "loss for 23 is nan\n"
     ]
    },
    {
     "name": "stderr",
     "output_type": "stream",
     "text": [
      "\n",
      "\n",
      "  0%|▏                                                                               | 24/9973 [00:00<04:39, 35.55it/s]"
     ]
    },
    {
     "name": "stdout",
     "output_type": "stream",
     "text": [
      "loss for 24 is nan\n",
      "loss for 25 is nan\n",
      "loss for 26 is nan\n",
      "loss for 27 is nan\n"
     ]
    },
    {
     "name": "stderr",
     "output_type": "stream",
     "text": [
      "\n",
      "\n",
      "  0%|▏                                                                               | 28/9973 [00:00<04:42, 35.23it/s]"
     ]
    },
    {
     "name": "stdout",
     "output_type": "stream",
     "text": [
      "loss for 28 is nan\n",
      "loss for 29 is nan\n",
      "loss for 30 is nan\n",
      "loss for 31 is nan\n"
     ]
    },
    {
     "name": "stderr",
     "output_type": "stream",
     "text": [
      "\n",
      "\n",
      "  0%|▎                                                                               | 32/9973 [00:01<05:58, 27.72it/s]"
     ]
    },
    {
     "name": "stdout",
     "output_type": "stream",
     "text": [
      "loss for 32 is nan\n",
      "loss for 33 is nan\n",
      "loss for 34 is nan\n",
      "loss for 35 is nan\n"
     ]
    },
    {
     "name": "stderr",
     "output_type": "stream",
     "text": [
      "\n",
      "\n",
      "  0%|▎                                                                               | 36/9973 [00:01<05:46, 28.69it/s]"
     ]
    },
    {
     "name": "stdout",
     "output_type": "stream",
     "text": [
      "loss for 36 is nan\n",
      "loss for 37 is nan\n",
      "loss for 38 is nan\n"
     ]
    },
    {
     "name": "stderr",
     "output_type": "stream",
     "text": [
      "\n",
      "\n",
      "  0%|▎                                                                               | 39/9973 [00:01<07:08, 23.19it/s]"
     ]
    },
    {
     "name": "stdout",
     "output_type": "stream",
     "text": [
      "loss for 39 is nan\n",
      "loss for 40 is nan\n",
      "loss for 41 is nan\n"
     ]
    },
    {
     "name": "stderr",
     "output_type": "stream",
     "text": [
      "\n",
      "\n",
      "  0%|▎                                                                               | 42/9973 [00:01<06:45, 24.50it/s]"
     ]
    },
    {
     "name": "stdout",
     "output_type": "stream",
     "text": [
      "loss for 42 is nan\n",
      "loss for 43 is nan\n",
      "loss for 44 is nan\n",
      "loss for 45 is nan\n",
      "loss for 46 is nan\n"
     ]
    },
    {
     "name": "stderr",
     "output_type": "stream",
     "text": [
      "\n",
      "\n",
      "  0%|▍                                                                               | 47/9973 [00:01<05:57, 27.77it/s]"
     ]
    },
    {
     "name": "stdout",
     "output_type": "stream",
     "text": [
      "loss for 47 is nan\n",
      "loss for 48 is nan\n",
      "loss for 49 is nan\n",
      "loss for 50 is nan\n"
     ]
    },
    {
     "name": "stderr",
     "output_type": "stream",
     "text": [
      "\n",
      "\n",
      "  1%|▍                                                                               | 51/9973 [00:01<05:24, 30.57it/s]"
     ]
    },
    {
     "name": "stdout",
     "output_type": "stream",
     "text": [
      "loss for 51 is nan\n",
      "loss for 52 is nan\n",
      "loss for 53 is nan\n",
      "loss for 54 is nan\n"
     ]
    },
    {
     "name": "stderr",
     "output_type": "stream",
     "text": [
      "\n",
      "\n",
      "  1%|▍                                                                               | 55/9973 [00:01<05:07, 32.26it/s]"
     ]
    },
    {
     "name": "stdout",
     "output_type": "stream",
     "text": [
      "loss for 55 is nan\n",
      "loss for 56 is nan\n",
      "loss for 57 is nan\n",
      "loss for 58 is nan\n"
     ]
    },
    {
     "name": "stderr",
     "output_type": "stream",
     "text": [
      "\n",
      "\n",
      "  1%|▍                                                                               | 59/9973 [00:01<04:49, 34.25it/s]"
     ]
    },
    {
     "name": "stdout",
     "output_type": "stream",
     "text": [
      "loss for 59 is nan\n",
      "loss for 60 is nan\n",
      "loss for 61 is nan\n",
      "loss for 62 is nan\n"
     ]
    },
    {
     "name": "stderr",
     "output_type": "stream",
     "text": [
      "\n",
      "\n",
      "  1%|▌                                                                               | 63/9973 [00:01<04:38, 35.58it/s]"
     ]
    },
    {
     "name": "stdout",
     "output_type": "stream",
     "text": [
      "loss for 63 is nan\n",
      "loss for 64 is nan\n",
      "loss for 65 is nan\n",
      "loss for 66 is nan\n"
     ]
    },
    {
     "name": "stderr",
     "output_type": "stream",
     "text": [
      "\n",
      "\n",
      "  1%|▌                                                                               | 67/9973 [00:02<04:36, 35.88it/s]"
     ]
    },
    {
     "name": "stdout",
     "output_type": "stream",
     "text": [
      "loss for 67 is nan\n",
      "loss for 68 is nan\n",
      "loss for 69 is nan\n",
      "loss for 70 is nan\n"
     ]
    },
    {
     "name": "stderr",
     "output_type": "stream",
     "text": [
      "\n",
      "\n",
      "  1%|▌                                                                               | 71/9973 [00:02<04:54, 33.65it/s]"
     ]
    },
    {
     "name": "stdout",
     "output_type": "stream",
     "text": [
      "loss for 71 is nan\n",
      "loss for 72 is nan\n",
      "loss for 73 is nan\n",
      "loss for 74 is nan\n",
      "loss for 75 is nan\n",
      "loss for 76 is nan\n"
     ]
    },
    {
     "name": "stderr",
     "output_type": "stream",
     "text": [
      "\n",
      "\n",
      "  1%|▌                                                                               | 77/9973 [00:02<04:22, 37.69it/s]"
     ]
    },
    {
     "name": "stdout",
     "output_type": "stream",
     "text": [
      "loss for 77 is nan\n",
      "loss for 78 is nan\n",
      "loss for 79 is nan\n",
      "loss for 80 is nan\n",
      "loss for 81 is nan\n"
     ]
    },
    {
     "name": "stderr",
     "output_type": "stream",
     "text": [
      "\n",
      "\n",
      "  1%|▋                                                                               | 82/9973 [00:02<04:21, 37.82it/s]"
     ]
    },
    {
     "name": "stdout",
     "output_type": "stream",
     "text": [
      "loss for 82 is nan\n",
      "loss for 83 is nan\n",
      "loss for 84 is nan\n",
      "loss for 85 is nan\n"
     ]
    },
    {
     "name": "stderr",
     "output_type": "stream",
     "text": [
      "\n",
      "\n",
      "  1%|▋                                                                               | 86/9973 [00:02<04:42, 34.96it/s]"
     ]
    },
    {
     "name": "stdout",
     "output_type": "stream",
     "text": [
      "loss for 86 is nan\n",
      "loss for 87 is nan\n",
      "loss for 88 is nan\n",
      "loss for 89 is nan\n"
     ]
    },
    {
     "name": "stderr",
     "output_type": "stream",
     "text": [
      "\n",
      "\n",
      "  1%|▋                                                                               | 90/9973 [00:02<04:36, 35.72it/s]"
     ]
    },
    {
     "name": "stdout",
     "output_type": "stream",
     "text": [
      "loss for 90 is nan\n",
      "loss for 91 is nan\n",
      "loss for 92 is nan\n",
      "loss for 93 is nan\n",
      "loss for 94 is nan\n",
      "loss for 95 is nan\n"
     ]
    },
    {
     "name": "stderr",
     "output_type": "stream",
     "text": [
      "\n",
      "\n",
      "  1%|▊                                                                               | 96/9973 [00:02<04:15, 38.67it/s]"
     ]
    },
    {
     "name": "stdout",
     "output_type": "stream",
     "text": [
      "loss for 96 is nan\n",
      "loss for 97 is nan\n",
      "loss for 98 is nan\n",
      "loss for 99 is nan\n",
      "loss for 100 is nan\n"
     ]
    },
    {
     "name": "stderr",
     "output_type": "stream",
     "text": [
      "\n",
      "\n",
      "  1%|▊                                                                              | 101/9973 [00:02<04:10, 39.38it/s]\n",
      "\n",
      "  1%|▊                                                                              | 106/9973 [00:03<04:09, 39.57it/s]\n",
      "\n",
      "  1%|▉                                                                              | 111/9973 [00:03<04:08, 39.76it/s]\n",
      "\n",
      "  1%|▉                                                                              | 118/9973 [00:03<03:42, 44.37it/s]\n",
      "\n",
      "  1%|▉                                                                              | 123/9973 [00:03<03:54, 42.00it/s]\n",
      "\n",
      "  1%|█                                                                              | 128/9973 [00:03<04:21, 37.58it/s]\n",
      "\n",
      "  1%|█                                                                              | 132/9973 [00:03<04:21, 37.62it/s]\n",
      "\n",
      "  1%|█                                                                              | 139/9973 [00:03<03:55, 41.73it/s]\n",
      "\n",
      "  1%|█▏                                                                             | 144/9973 [00:03<04:03, 40.31it/s]\n",
      "\n",
      "  1%|█▏                                                                             | 149/9973 [00:04<04:01, 40.69it/s]\n",
      "\n",
      "  2%|█▏                                                                             | 154/9973 [00:04<04:17, 38.09it/s]\n",
      "\n",
      "  2%|█▎                                                                             | 161/9973 [00:04<03:55, 41.67it/s]\n",
      "\n",
      "  2%|█▎                                                                             | 166/9973 [00:04<03:48, 42.91it/s]\n",
      "\n",
      "  2%|█▎                                                                             | 171/9973 [00:04<03:51, 42.35it/s]\n",
      "\n",
      "  2%|█▍                                                                             | 176/9973 [00:04<04:14, 38.54it/s]\n",
      "\n",
      "  2%|█▍                                                                             | 180/9973 [00:04<04:29, 36.32it/s]\n",
      "\n",
      "  2%|█▍                                                                             | 185/9973 [00:05<04:22, 37.35it/s]\n",
      "\n",
      "  2%|█▌                                                                             | 190/9973 [00:05<04:07, 39.52it/s]\n",
      "\n",
      "  2%|█▌                                                                             | 195/9973 [00:05<04:29, 36.33it/s]\n",
      "\n",
      "  2%|█▌                                                                             | 199/9973 [00:05<04:33, 35.77it/s]"
     ]
    },
    {
     "name": "stdout",
     "output_type": "stream",
     "text": [
      "loss for 200 is nan\n"
     ]
    },
    {
     "name": "stderr",
     "output_type": "stream",
     "text": [
      "\n",
      "\n",
      "  2%|█▌                                                                             | 203/9973 [00:05<04:36, 35.35it/s]\n",
      "\n",
      "  2%|█▋                                                                             | 210/9973 [00:05<03:57, 41.04it/s]\n",
      "\n",
      "  2%|█▋                                                                             | 215/9973 [00:05<03:57, 41.07it/s]\n",
      "\n",
      "  2%|█▋                                                                             | 220/9973 [00:05<04:00, 40.48it/s]\n",
      "\n",
      "  2%|█▊                                                                             | 225/9973 [00:06<04:17, 37.80it/s]\n",
      "\n",
      "  2%|█▊                                                                             | 231/9973 [00:06<03:53, 41.69it/s]\n",
      "\n",
      "  2%|█▊                                                                             | 236/9973 [00:06<03:57, 40.93it/s]\n",
      "\n",
      "  2%|█▉                                                                             | 241/9973 [00:06<03:58, 40.87it/s]\n",
      "\n",
      "  2%|█▉                                                                             | 246/9973 [00:06<04:02, 40.05it/s]\n",
      "\n",
      "  3%|█▉                                                                             | 251/9973 [00:06<04:12, 38.44it/s]\n",
      "\n",
      "  3%|██                                                                             | 256/9973 [00:06<04:14, 38.18it/s]\n",
      "\n",
      "  3%|██                                                                             | 260/9973 [00:06<04:17, 37.75it/s]\n",
      "\n",
      "  3%|██                                                                             | 265/9973 [00:07<04:12, 38.40it/s]\n",
      "\n",
      "  3%|██▏                                                                            | 269/9973 [00:07<04:27, 36.23it/s]\n",
      "\n",
      "  3%|██▏                                                                            | 273/9973 [00:07<04:39, 34.76it/s]\n",
      "\n",
      "  3%|██▏                                                                            | 277/9973 [00:07<04:35, 35.15it/s]\n",
      "\n",
      "  3%|██▏                                                                            | 283/9973 [00:07<04:14, 38.13it/s]\n",
      "\n",
      "  3%|██▎                                                                            | 288/9973 [00:07<04:10, 38.61it/s]\n",
      "\n",
      "  3%|██▎                                                                            | 292/9973 [00:07<04:13, 38.22it/s]\n",
      "\n",
      "  3%|██▎                                                                            | 296/9973 [00:07<04:16, 37.71it/s]"
     ]
    },
    {
     "name": "stdout",
     "output_type": "stream",
     "text": [
      "loss for 300 is nan\n"
     ]
    },
    {
     "name": "stderr",
     "output_type": "stream",
     "text": [
      "\n",
      "\n",
      "  3%|██▍                                                                            | 301/9973 [00:07<04:02, 39.80it/s]\n",
      "\n",
      "  3%|██▍                                                                            | 306/9973 [00:08<04:02, 39.87it/s]\n",
      "\n",
      "  3%|██▍                                                                            | 313/9973 [00:08<03:35, 44.73it/s]\n",
      "\n",
      "  3%|██▌                                                                            | 318/9973 [00:08<03:30, 45.84it/s]\n",
      "\n",
      "  3%|██▌                                                                            | 323/9973 [00:08<03:43, 43.22it/s]\n",
      "\n",
      "  3%|██▌                                                                            | 330/9973 [00:08<03:29, 45.95it/s]\n",
      "\n",
      "  3%|██▋                                                                            | 335/9973 [00:08<03:26, 46.74it/s]\n",
      "\n",
      "  3%|██▋                                                                            | 340/9973 [00:08<03:27, 46.43it/s]\n",
      "\n",
      "  3%|██▋                                                                            | 345/9973 [00:08<03:37, 44.30it/s]\n",
      "\n",
      "  4%|██▊                                                                            | 350/9973 [00:09<03:53, 41.26it/s]\n",
      "\n",
      "  4%|██▊                                                                            | 355/9973 [00:09<04:03, 39.52it/s]\n",
      "\n",
      "  4%|██▊                                                                            | 362/9973 [00:09<03:39, 43.86it/s]\n",
      "\n",
      "  4%|██▉                                                                            | 367/9973 [00:09<03:46, 42.45it/s]\n",
      "\n",
      "  4%|██▉                                                                            | 372/9973 [00:09<03:46, 42.37it/s]\n",
      "\n",
      "  4%|██▉                                                                            | 377/9973 [00:09<03:47, 42.27it/s]\n",
      "\n",
      "  4%|███                                                                            | 382/9973 [00:09<03:44, 42.79it/s]\n",
      "\n",
      "  4%|███                                                                            | 387/9973 [00:09<03:48, 41.92it/s]\n",
      "\n",
      "  4%|███                                                                            | 394/9973 [00:10<03:25, 46.63it/s]\n",
      "\n",
      "  4%|███▏                                                                           | 399/9973 [00:10<03:35, 44.43it/s]"
     ]
    },
    {
     "name": "stdout",
     "output_type": "stream",
     "text": [
      "loss for 400 is nan\n"
     ]
    },
    {
     "name": "stderr",
     "output_type": "stream",
     "text": [
      "\n",
      "\n",
      "  4%|███▏                                                                           | 406/9973 [00:10<03:14, 49.13it/s]\n",
      "\n",
      "  4%|███▎                                                                           | 412/9973 [00:10<03:28, 45.94it/s]\n",
      "\n",
      "  4%|███▎                                                                           | 417/9973 [00:10<03:33, 44.75it/s]\n",
      "\n",
      "  4%|███▎                                                                           | 422/9973 [00:10<03:41, 43.14it/s]\n",
      "\n",
      "  4%|███▍                                                                           | 427/9973 [00:10<03:44, 42.50it/s]\n",
      "\n",
      "  4%|███▍                                                                           | 432/9973 [00:10<03:39, 43.42it/s]\n",
      "\n",
      "  4%|███▍                                                                           | 437/9973 [00:11<03:45, 42.34it/s]\n",
      "\n",
      "  4%|███▌                                                                           | 442/9973 [00:11<03:57, 40.05it/s]\n",
      "\n",
      "  4%|███▌                                                                           | 447/9973 [00:11<04:06, 38.71it/s]\n",
      "\n",
      "  5%|███▌                                                                           | 451/9973 [00:11<04:08, 38.33it/s]\n",
      "\n",
      "  5%|███▌                                                                           | 456/9973 [00:11<03:59, 39.75it/s]\n",
      "\n",
      "  5%|███▋                                                                           | 463/9973 [00:11<03:32, 44.71it/s]\n",
      "\n",
      "  5%|███▋                                                                           | 468/9973 [00:11<03:36, 43.82it/s]\n",
      "\n",
      "  5%|███▊                                                                           | 474/9973 [00:11<03:23, 46.64it/s]\n",
      "\n",
      "  5%|███▊                                                                           | 481/9973 [00:11<03:13, 48.97it/s]\n",
      "\n",
      "  5%|███▊                                                                           | 487/9973 [00:12<03:14, 48.68it/s]\n",
      "\n",
      "  5%|███▉                                                                           | 492/9973 [00:12<03:21, 47.17it/s]\n",
      "\n",
      "  5%|███▉                                                                           | 497/9973 [00:12<03:31, 44.90it/s]"
     ]
    },
    {
     "name": "stdout",
     "output_type": "stream",
     "text": [
      "loss for 500 is nan\n"
     ]
    },
    {
     "name": "stderr",
     "output_type": "stream",
     "text": [
      "\n",
      "\n",
      "  5%|███▉                                                                           | 502/9973 [00:12<03:33, 44.41it/s]"
     ]
    },
    {
     "ename": "KeyboardInterrupt",
     "evalue": "",
     "output_type": "error",
     "traceback": [
      "\u001b[1;31m---------------------------------------------------------------------------\u001b[0m",
      "\u001b[1;31mKeyboardInterrupt\u001b[0m                         Traceback (most recent call last)",
      "\u001b[1;32m<ipython-input-58-c12f4bd2563c>\u001b[0m in \u001b[0;36m<module>\u001b[1;34m()\u001b[0m\n\u001b[1;32m----> 1\u001b[1;33m \u001b[0mgeneral_train_function\u001b[0m\u001b[1;33m(\u001b[0m\u001b[0mreuters_dataset\u001b[0m\u001b[1;33m)\u001b[0m\u001b[1;33m\u001b[0m\u001b[0m\n\u001b[0m",
      "\u001b[1;32m<ipython-input-56-a97d9bd6307f>\u001b[0m in \u001b[0;36mgeneral_train_function\u001b[1;34m(dataset)\u001b[0m\n\u001b[0;32m     23\u001b[0m         \u001b[1;31m#     print(x)\u001b[0m\u001b[1;33m\u001b[0m\u001b[1;33m\u001b[0m\u001b[0m\n\u001b[0;32m     24\u001b[0m         \u001b[1;31m#     print(y)\u001b[0m\u001b[1;33m\u001b[0m\u001b[1;33m\u001b[0m\u001b[0m\n\u001b[1;32m---> 25\u001b[1;33m             \u001b[0m_\u001b[0m\u001b[1;33m,\u001b[0m \u001b[0mloss\u001b[0m \u001b[1;33m=\u001b[0m \u001b[0mtrain\u001b[0m\u001b[1;33m(\u001b[0m\u001b[0mx\u001b[0m\u001b[1;33m,\u001b[0m\u001b[0my\u001b[0m\u001b[1;33m)\u001b[0m\u001b[1;33m\u001b[0m\u001b[0m\n\u001b[0m\u001b[0;32m     26\u001b[0m             \u001b[0mepoch_loss\u001b[0m \u001b[1;33m+=\u001b[0m \u001b[0mloss\u001b[0m\u001b[1;33m\u001b[0m\u001b[0m\n\u001b[0;32m     27\u001b[0m             \u001b[0mepoch_length\u001b[0m \u001b[1;33m+=\u001b[0m \u001b[0mx\u001b[0m\u001b[1;33m.\u001b[0m\u001b[0msize\u001b[0m\u001b[1;33m(\u001b[0m\u001b[1;33m)\u001b[0m\u001b[1;33m[\u001b[0m\u001b[1;36m0\u001b[0m\u001b[1;33m]\u001b[0m\u001b[1;33m\u001b[0m\u001b[0m\n",
      "\u001b[1;32m<ipython-input-12-b3ce4af2b6f3>\u001b[0m in \u001b[0;36mtrain\u001b[1;34m(input_tensor, target_tensor)\u001b[0m\n\u001b[0;32m     52\u001b[0m \u001b[1;31m# should be do the loss on each thing, or each batch! no, we should accumulate it!\u001b[0m\u001b[1;33m\u001b[0m\u001b[1;33m\u001b[0m\u001b[0m\n\u001b[0;32m     53\u001b[0m \u001b[1;33m\u001b[0m\u001b[0m\n\u001b[1;32m---> 54\u001b[1;33m     \u001b[0mloss\u001b[0m\u001b[1;33m.\u001b[0m\u001b[0mbackward\u001b[0m\u001b[1;33m(\u001b[0m\u001b[1;33m)\u001b[0m\u001b[1;33m\u001b[0m\u001b[0m\n\u001b[0m\u001b[0;32m     55\u001b[0m     \u001b[0moptimizer\u001b[0m\u001b[1;33m.\u001b[0m\u001b[0mstep\u001b[0m\u001b[1;33m(\u001b[0m\u001b[1;33m)\u001b[0m\u001b[1;33m\u001b[0m\u001b[0m\n\u001b[0;32m     56\u001b[0m     \u001b[1;31m# Add parameters' gradients to their values, multiplied by learning rate\u001b[0m\u001b[1;33m\u001b[0m\u001b[1;33m\u001b[0m\u001b[0m\n",
      "\u001b[1;32m~\\AppData\\Local\\conda\\conda\\envs\\def\\lib\\site-packages\\torch\\tensor.py\u001b[0m in \u001b[0;36mbackward\u001b[1;34m(self, gradient, retain_graph, create_graph)\u001b[0m\n\u001b[0;32m     91\u001b[0m                 \u001b[0mproducts\u001b[0m\u001b[1;33m.\u001b[0m \u001b[0mDefaults\u001b[0m \u001b[0mto\u001b[0m\u001b[0;31m \u001b[0m\u001b[0;31m`\u001b[0m\u001b[0;31m`\u001b[0m\u001b[1;32mFalse\u001b[0m\u001b[0;31m`\u001b[0m\u001b[0;31m`\u001b[0m\u001b[1;33m.\u001b[0m\u001b[1;33m\u001b[0m\u001b[0m\n\u001b[0;32m     92\u001b[0m         \"\"\"\n\u001b[1;32m---> 93\u001b[1;33m         \u001b[0mtorch\u001b[0m\u001b[1;33m.\u001b[0m\u001b[0mautograd\u001b[0m\u001b[1;33m.\u001b[0m\u001b[0mbackward\u001b[0m\u001b[1;33m(\u001b[0m\u001b[0mself\u001b[0m\u001b[1;33m,\u001b[0m \u001b[0mgradient\u001b[0m\u001b[1;33m,\u001b[0m \u001b[0mretain_graph\u001b[0m\u001b[1;33m,\u001b[0m \u001b[0mcreate_graph\u001b[0m\u001b[1;33m)\u001b[0m\u001b[1;33m\u001b[0m\u001b[0m\n\u001b[0m\u001b[0;32m     94\u001b[0m \u001b[1;33m\u001b[0m\u001b[0m\n\u001b[0;32m     95\u001b[0m     \u001b[1;32mdef\u001b[0m \u001b[0mregister_hook\u001b[0m\u001b[1;33m(\u001b[0m\u001b[0mself\u001b[0m\u001b[1;33m,\u001b[0m \u001b[0mhook\u001b[0m\u001b[1;33m)\u001b[0m\u001b[1;33m:\u001b[0m\u001b[1;33m\u001b[0m\u001b[0m\n",
      "\u001b[1;32m~\\AppData\\Local\\conda\\conda\\envs\\def\\lib\\site-packages\\torch\\autograd\\__init__.py\u001b[0m in \u001b[0;36mbackward\u001b[1;34m(tensors, grad_tensors, retain_graph, create_graph, grad_variables)\u001b[0m\n\u001b[0;32m     88\u001b[0m     Variable._execution_engine.run_backward(\n\u001b[0;32m     89\u001b[0m         \u001b[0mtensors\u001b[0m\u001b[1;33m,\u001b[0m \u001b[0mgrad_tensors\u001b[0m\u001b[1;33m,\u001b[0m \u001b[0mretain_graph\u001b[0m\u001b[1;33m,\u001b[0m \u001b[0mcreate_graph\u001b[0m\u001b[1;33m,\u001b[0m\u001b[1;33m\u001b[0m\u001b[0m\n\u001b[1;32m---> 90\u001b[1;33m         allow_unreachable=True)  # allow_unreachable flag\n\u001b[0m\u001b[0;32m     91\u001b[0m \u001b[1;33m\u001b[0m\u001b[0m\n\u001b[0;32m     92\u001b[0m \u001b[1;33m\u001b[0m\u001b[0m\n",
      "\u001b[1;31mKeyboardInterrupt\u001b[0m: "
     ]
    },
    {
     "name": "stderr",
     "output_type": "stream",
     "text": [
      "\n",
      "\n",
      "  5%|███▉                                                                           | 502/9973 [00:28<03:33, 44.41it/s]"
     ]
    }
   ],
   "source": [
    "general_train_function(reuters_dataset)\n",
    "# perhaps: examine the gradient instead!\n",
    "\n"
   ]
  },
  {
   "cell_type": "code",
   "execution_count": null,
   "metadata": {},
   "outputs": [],
   "source": [
    "\n",
    "# returns the loss for a line, evaluating on a BASIC rnn, and using the provided optimizer\n",
    "def prototype_general_train(input_tensor, target_tensor, basic_rnn, optimizer):\n",
    "    \n",
    "        \n",
    "    \n",
    "    optimizer.zero_grad()\n",
    "    \n",
    "    criterion = nn.NLLLoss()    \n",
    "    hidden = rnn.initHidden()\n",
    "    loss = 0\n",
    "    basic_rnn.zero_grad()\n",
    "    for i in range(input_tensor.size()[0]):\n",
    "        output, hidden = basic_rnn(input_tensor[i], hidden)\n",
    "        \n",
    "        max_tensor = torch.argmax(target_tensor[i])\n",
    "        ind = (torch.argmax(target_tensor[i])).item()\n",
    "        true_target_tensor = torch.tensor([ind], dtype=torch.long)\n",
    "        #     Evaluate the loss on each character!\n",
    "        loss += criterion(output, true_target_tensor)\n",
    "        \n",
    "    loss.backward()\n",
    "    optimizer.step()\n",
    "\n",
    "    return output, loss.item()\n"
   ]
  },
  {
   "cell_type": "code",
   "execution_count": null,
   "metadata": {},
   "outputs": [],
   "source": []
  }
 ],
 "metadata": {
  "kernelspec": {
   "display_name": "def",
   "language": "python",
   "name": "def"
  },
  "language_info": {
   "codemirror_mode": {
    "name": "ipython",
    "version": 3
   },
   "file_extension": ".py",
   "mimetype": "text/x-python",
   "name": "python",
   "nbconvert_exporter": "python",
   "pygments_lexer": "ipython3",
   "version": "3.6.6"
  }
 },
 "nbformat": 4,
 "nbformat_minor": 2
}
