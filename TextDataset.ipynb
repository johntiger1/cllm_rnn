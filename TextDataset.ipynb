{
 "cells": [
  {
   "cell_type": "code",
   "execution_count": 1,
   "metadata": {},
   "outputs": [
    {
     "data": {
      "application/javascript": [
       "IPython.notebook.set_autosave_interval(60000)"
      ]
     },
     "metadata": {},
     "output_type": "display_data"
    },
    {
     "name": "stdout",
     "output_type": "stream",
     "text": [
      "Autosaving every 60 seconds\n"
     ]
    }
   ],
   "source": [
    "%autosave 60"
   ]
  },
  {
   "cell_type": "code",
   "execution_count": 2,
   "metadata": {},
   "outputs": [
    {
     "data": {
      "text/plain": [
       "'0123456789abcdefghijklmnopqrstuvwxyzABCDEFGHIJKLMNOPQRSTUVWXYZ!\"#$%&\\'()*+,-./:;<=>?@[\\\\]^_`{|}~ \\t\\n\\r\\x0b\\x0c'"
      ]
     },
     "execution_count": 2,
     "metadata": {},
     "output_type": "execute_result"
    }
   ],
   "source": [
    "import string\n",
    "string.ascii_letters + string.digits\n",
    "string.printable"
   ]
  },
  {
   "cell_type": "code",
   "execution_count": 3,
   "metadata": {},
   "outputs": [],
   "source": [
    "# class for the dataset:\n",
    "import torch\n",
    "# class for text-datasets\n",
    "# Jama, NEJM and lancet\n",
    "from torch.utils.data import Dataset, DataLoader\n",
    "import unicodedata\n",
    "class TextDataset(Dataset):\n",
    "\n",
    "    SPECIAL_CHARS = [None, \"\\n\"]\n",
    "    def __len__(self):\n",
    "        return len(self.total_examples)\n",
    "        pass\n",
    " \n",
    "    # generates tensors for the vocab\n",
    "    # i.e. assigns a number to each character\n",
    "    # Q: possible to do one-pass?\n",
    "    def make_vocab(self):\n",
    "        \n",
    "        self.char2index = {}\n",
    "        self.index2char = {}\n",
    "        index = 0\n",
    "        with open(self.text_file) as file:\n",
    "            for line in file:\n",
    "                for char in line:\n",
    "                    if char not in self.char2index:\n",
    "                        self.char2index[char] = index\n",
    "                        self.index2char[index]  = char\n",
    "                        index+=1\n",
    "        \n",
    "        for char in self.SPECIAL_CHARS:\n",
    "#             print(\"this is the char\")\n",
    "            if char not in self.char2index:\n",
    "                self.char2index[char] = index\n",
    "                self.index2char[index] = char\n",
    "                index += 1\n",
    "        \n",
    "        print(self.char2index[None])\n",
    "        # potentially need to add 2 for the None and \\n characters\n",
    "        self.vocab_size = len(self.char2index)\n",
    "    \n",
    "    # this allows the model to handle all possible strings passed into it!!\n",
    "    def full_vocab(self):\n",
    "        self.char2index = {}\n",
    "        self.index2char = {}\n",
    "        index = 0\n",
    "        all_letters = string.printable \n",
    "        for char in all_letters:\n",
    "            if char not in self.char2index:\n",
    "                self.char2index[char] = index\n",
    "                self.index2char[index]  = char\n",
    "                index+=1\n",
    "                \n",
    "        for char in self.SPECIAL_CHARS:\n",
    "#             print(\"this is the char\")\n",
    "            if char not in self.char2index:\n",
    "                self.char2index[char] = index\n",
    "                self.index2char[index] = char\n",
    "                index += 1\n",
    "                \n",
    "        self.vocab_size = len(self.char2index)   \n",
    "        \n",
    "        \n",
    "    \n",
    "    \n",
    "    def generate_tensor_for_char(self, char):\n",
    "        temp = torch.zeros(1, self.vocab_size)\n",
    "        temp[0][self.char2index[char]] = 1 \n",
    "        return temp\n",
    "\n",
    "#     def generate_char_from_tensor(self, char):\n",
    "#         temp = torch.zeros(self.vocab_size, 1)\n",
    "#         temp[self.char2index[char]][0] = 1 \n",
    "#         return temp\n",
    "    def lineToTensor(self,line):\n",
    "        tensor = torch.zeros(len(line), 1, self.vocab_size)\n",
    "#         print(line)\n",
    "        for li, letter in enumerate(line):\n",
    "            tensor[li][0][self.char2index[letter]] = 1\n",
    "        return tensor\n",
    "    \n",
    "    # wrap the lines!\n",
    "    def train_example_builder(self, line):\n",
    "        tensor = torch.zeros(len(line), 1, self.vocab_size)\n",
    "        for li, letter in enumerate(line):\n",
    "            tensor[li][0][self.char2index[letter]] = 1\n",
    "        return tensor\n",
    "      \n",
    "#     could do more of a common build api\n",
    "    def get_None_tensor(self):\n",
    "        tensor = torch.zeros(1, 1, self.vocab_size)\n",
    "        tensor[0][0][self.char2index[None]] = 1\n",
    "        return tensor\n",
    "    \n",
    "    def list_to_tensor(self, input_list):\n",
    "        tensor = torch.zeros(len(input_list), 1, self.vocab_size)\n",
    "        for elt in input_list:\n",
    "            tensor[li][0][self.char2index[letter]] = 1\n",
    "            \n",
    "#     def get_training_pair(self, line):\n",
    "        \n",
    "        \n",
    "    \n",
    "    def get_new_line_tensor(self):\n",
    "        tensor = torch.zeros(1, 1, self.vocab_size)\n",
    "        tensor[0][0][self.char2index[\"\\n\"]] = 1\n",
    "        return tensor\n",
    "\n",
    "        \n",
    "#         tensor[li][0][self.char2index[letter]] \n",
    "#         temp \n",
    "    def unicodeToAscii(self,s):\n",
    "        return ''.join(\n",
    "            c for c in unicodedata.normalize('NFD', s)\n",
    "            if unicodedata.category(c) != 'Mn'\n",
    "            and c in self.char2index\n",
    "        )\n",
    "\n",
    "    def __init__(self, text_file,  convert_to_ascii = True):\n",
    "        self.string = string\n",
    "        self.text_file = text_file\n",
    "\n",
    "        self.training_examples = []\n",
    "\n",
    "        total_inputs = []\n",
    "        total_outputs = []\n",
    "        \n",
    "#         make the vocab\n",
    "        self.full_vocab()\n",
    "        \n",
    "        with open(text_file) as file:\n",
    "            for raw_line in file:\n",
    "                \n",
    "                line = self.unicodeToAscii(raw_line) if convert_to_ascii else raw_line\n",
    "                # zero pad to start\n",
    "                \n",
    "                \n",
    "#                 think about how to make this a vector or tensor line! \n",
    "#                 print()\n",
    "                \n",
    "#                 inputs = self.get_None_tensor() + line_to_tensor(line)\n",
    "#                 inputs = [None] + [x for x in line]\n",
    "                inputs = self.lineToTensor([None] + [x for x in line])\n",
    "                \n",
    "                targets = self.lineToTensor([x for x in line] + [\"\\n\"])  # we need a 0 as well!\n",
    "\n",
    "                # append: will be a list of list (of lines)\n",
    "                # extend: will be a list of lines\n",
    "                total_inputs.append(inputs)\n",
    "                total_outputs.append(targets)\n",
    "\n",
    "        assert len(total_inputs) == len(total_outputs)\n",
    "        \n",
    "        # this is now a LIST of lists!\n",
    "        self.total_examples = list(zip(total_inputs, total_outputs))\n",
    "        \n",
    "        #                 for char in line:\n",
    "        # how many chars before the target? or all chars before the target?\n",
    "        # so we simply pair up x with [x+1] i think\n",
    "        # ok, and then we iterate them in the loader?\n",
    "        #                     inputs = [x for x in ]\n",
    "        #                     targets = []\n",
    "\n",
    "        # we should also have some big list of entries \n",
    "\n",
    "        pass\n",
    "    \n",
    "    \n",
    "    # ok, now let us just try adding the transforms\n",
    "    # actually the transforms should take responsibility for all of the vocab stuff\n",
    "    \n",
    "    # number of items in the dataset. This involves a rather large computation!\n",
    "    # we can either do a feed forward cllm in the style of bengio, or we can just \n",
    "    # do the RNN approach (as specified by Sean Robertson in his tutorial)\n",
    "\n",
    "    # the indices should represent examples inside the list\n",
    "    # one strange thing is the following: we need to precompute al the indices earlier, imo, and then simply return the list\n",
    "    # at that element! (perhaps with some transforms!)\n",
    "    def __getitem__(self, index):\n",
    "        return self.total_examples[index]\n",
    "\n",
    "        # build a list, return elements from that list? we need to internally keep track of some index\n",
    "        pass\n",
    "\n",
    "\n",
    "\n",
    "# ok, so it works now!"
   ]
  },
  {
   "cell_type": "code",
   "execution_count": 4,
   "metadata": {},
   "outputs": [],
   "source": [
    "abc = TextDataset( \"data\\\\names\\\\English.txt\", False)\n"
   ]
  },
  {
   "cell_type": "code",
   "execution_count": 5,
   "metadata": {},
   "outputs": [
    {
     "name": "stdout",
     "output_type": "stream",
     "text": [
      "100\n"
     ]
    }
   ],
   "source": [
    "print(abc.char2index[None])"
   ]
  },
  {
   "cell_type": "code",
   "execution_count": 6,
   "metadata": {},
   "outputs": [
    {
     "data": {
      "text/plain": [
       "tensor([[[0., 0., 0., 0., 0., 0., 0., 0., 0., 0., 1., 0., 0., 0., 0., 0., 0.,\n",
       "          0., 0., 0., 0., 0., 0., 0., 0., 0., 0., 0., 0., 0., 0., 0., 0., 0.,\n",
       "          0., 0., 0., 0., 0., 0., 0., 0., 0., 0., 0., 0., 0., 0., 0., 0., 0.,\n",
       "          0., 0., 0., 0., 0., 0., 0., 0., 0., 0., 0., 0., 0., 0., 0., 0., 0.,\n",
       "          0., 0., 0., 0., 0., 0., 0., 0., 0., 0., 0., 0., 0., 0., 0., 0., 0.,\n",
       "          0., 0., 0., 0., 0., 0., 0., 0., 0., 0., 0., 0., 0., 0., 0., 0.]],\n",
       "\n",
       "        [[0., 0., 0., 0., 0., 0., 0., 0., 0., 0., 0., 1., 0., 0., 0., 0., 0.,\n",
       "          0., 0., 0., 0., 0., 0., 0., 0., 0., 0., 0., 0., 0., 0., 0., 0., 0.,\n",
       "          0., 0., 0., 0., 0., 0., 0., 0., 0., 0., 0., 0., 0., 0., 0., 0., 0.,\n",
       "          0., 0., 0., 0., 0., 0., 0., 0., 0., 0., 0., 0., 0., 0., 0., 0., 0.,\n",
       "          0., 0., 0., 0., 0., 0., 0., 0., 0., 0., 0., 0., 0., 0., 0., 0., 0.,\n",
       "          0., 0., 0., 0., 0., 0., 0., 0., 0., 0., 0., 0., 0., 0., 0., 0.]],\n",
       "\n",
       "        [[0., 0., 0., 0., 0., 0., 0., 0., 0., 0., 0., 0., 1., 0., 0., 0., 0.,\n",
       "          0., 0., 0., 0., 0., 0., 0., 0., 0., 0., 0., 0., 0., 0., 0., 0., 0.,\n",
       "          0., 0., 0., 0., 0., 0., 0., 0., 0., 0., 0., 0., 0., 0., 0., 0., 0.,\n",
       "          0., 0., 0., 0., 0., 0., 0., 0., 0., 0., 0., 0., 0., 0., 0., 0., 0.,\n",
       "          0., 0., 0., 0., 0., 0., 0., 0., 0., 0., 0., 0., 0., 0., 0., 0., 0.,\n",
       "          0., 0., 0., 0., 0., 0., 0., 0., 0., 0., 0., 0., 0., 0., 0., 0.]],\n",
       "\n",
       "        [[0., 0., 0., 0., 0., 0., 0., 0., 0., 0., 0., 0., 0., 1., 0., 0., 0.,\n",
       "          0., 0., 0., 0., 0., 0., 0., 0., 0., 0., 0., 0., 0., 0., 0., 0., 0.,\n",
       "          0., 0., 0., 0., 0., 0., 0., 0., 0., 0., 0., 0., 0., 0., 0., 0., 0.,\n",
       "          0., 0., 0., 0., 0., 0., 0., 0., 0., 0., 0., 0., 0., 0., 0., 0., 0.,\n",
       "          0., 0., 0., 0., 0., 0., 0., 0., 0., 0., 0., 0., 0., 0., 0., 0., 0.,\n",
       "          0., 0., 0., 0., 0., 0., 0., 0., 0., 0., 0., 0., 0., 0., 0., 0.]]])"
      ]
     },
     "execution_count": 6,
     "metadata": {},
     "output_type": "execute_result"
    }
   ],
   "source": [
    "abc.generate_tensor_for_char(\"a\")\n",
    "# abc.index2char[2]\n",
    "abc.lineToTensor(\"abcd\")\n",
    "    "
   ]
  },
  {
   "cell_type": "code",
   "execution_count": 7,
   "metadata": {},
   "outputs": [],
   "source": [
    "\n",
    "\n",
    "for (a,b) in abc:\n",
    "    pass\n",
    "#     this should give two lines/tests\n",
    "#     print(a,b)\n",
    "#     print()\n",
    "    \n",
    "#     realistically, we should also have it as tensors/vectors\n",
    "# finally, we should also have some way where we run the rnn forward and \n",
    "#  iteratoring over the set, does not consume the elements! It is not a genertor! Rather, we simply index into the elements we would like\n",
    "for(a,b) in abc:\n",
    "    pass\n",
    "#     print(\"ok\")"
   ]
  },
  {
   "cell_type": "code",
   "execution_count": 8,
   "metadata": {},
   "outputs": [],
   "source": [
    "char_x = [None] + [\"e\"]"
   ]
  },
  {
   "cell_type": "code",
   "execution_count": 9,
   "metadata": {},
   "outputs": [
    {
     "data": {
      "text/plain": [
       "2"
      ]
     },
     "execution_count": 9,
     "metadata": {},
     "output_type": "execute_result"
    }
   ],
   "source": [
    "# ok, so now let's just do the stuff\n",
    "# the RNN actually makes one-character over predictions! \n",
    "# rnn_forward is a utility function that does a lot of stuff\n",
    "len(char_x)\n"
   ]
  },
  {
   "cell_type": "code",
   "execution_count": 10,
   "metadata": {},
   "outputs": [],
   "source": [
    "# ok, so now we can start building the network that will process these!!\n",
    "# simply: iterate the dataset, and run train on it, do the log likelihood and etc.\n",
    "\n",
    "import torch.nn as nn\n",
    "\n",
    "class RNN(nn.Module):\n",
    "    def __init__(self, input_size, hidden_size, output_size):\n",
    "        super(RNN, self).__init__()\n",
    "\n",
    "        self.hidden_size = hidden_size\n",
    "\n",
    "        self.i2h = nn.Linear(input_size + hidden_size, hidden_size)\n",
    "        self.i2o = nn.Linear(input_size + hidden_size, output_size)\n",
    "        self.softmax = nn.LogSoftmax(dim=1)\n",
    "\n",
    "    def forward(self, input, hidden):\n",
    "        combined = torch.cat((input, hidden), 1)\n",
    "        hidden = self.i2h(combined)\n",
    "        output = self.i2o(combined)\n",
    "        output = self.softmax(output)\n",
    "        return output, hidden\n",
    "\n",
    "    def initHidden(self):\n",
    "        return torch.zeros(1, self.hidden_size)\n",
    "    \n",
    "n_hidden = 128\n",
    "\n",
    "\n",
    "rnn = RNN(abc.vocab_size, n_hidden, abc.vocab_size)"
   ]
  },
  {
   "cell_type": "code",
   "execution_count": 11,
   "metadata": {},
   "outputs": [
    {
     "data": {
      "text/plain": [
       "tensor([[[0., 0., 0., 0., 0., 0., 0., 0., 0., 0., 0., 0., 0., 0., 0., 0., 0.,\n",
       "          0., 0., 0., 0., 0., 0., 0., 0., 0., 0., 0., 0., 0., 0., 0., 1., 0.,\n",
       "          0., 0., 0., 0., 0., 0., 0., 0., 0., 0., 0., 0., 0., 0., 0., 0., 0.,\n",
       "          0., 0., 0., 0., 0., 0., 0., 0., 0., 0., 0., 0., 0., 0., 0., 0., 0.,\n",
       "          0., 0., 0., 0., 0., 0., 0., 0., 0., 0., 0., 0., 0., 0., 0., 0., 0.,\n",
       "          0., 0., 0., 0., 0., 0., 0., 0., 0., 0., 0., 0., 0., 0., 0., 0.]],\n",
       "\n",
       "        [[0., 0., 0., 0., 0., 0., 0., 0., 0., 0., 0., 0., 0., 0., 1., 0., 0.,\n",
       "          0., 0., 0., 0., 0., 0., 0., 0., 0., 0., 0., 0., 0., 0., 0., 0., 0.,\n",
       "          0., 0., 0., 0., 0., 0., 0., 0., 0., 0., 0., 0., 0., 0., 0., 0., 0.,\n",
       "          0., 0., 0., 0., 0., 0., 0., 0., 0., 0., 0., 0., 0., 0., 0., 0., 0.,\n",
       "          0., 0., 0., 0., 0., 0., 0., 0., 0., 0., 0., 0., 0., 0., 0., 0., 0.,\n",
       "          0., 0., 0., 0., 0., 0., 0., 0., 0., 0., 0., 0., 0., 0., 0., 0.]]])"
      ]
     },
     "execution_count": 11,
     "metadata": {},
     "output_type": "execute_result"
    }
   ],
   "source": [
    "abc.lineToTensor(\"we\")"
   ]
  },
  {
   "cell_type": "code",
   "execution_count": 12,
   "metadata": {},
   "outputs": [],
   "source": [
    "\n",
    "# WE NEED THIS LINE TO RESET THE RNN!!\n",
    "rnn = RNN(abc.vocab_size, n_hidden, abc.vocab_size)\n",
    "learning_rate = 0.0005 # If you set this too high, it might explode. If too low, it might not learn\n",
    "#  we had to set it a big lower to force convergence\n",
    "\n",
    "import torch.optim as optim\n",
    "optimizer = optim.SGD(rnn.parameters(), lr = 0.01)\n",
    "\n",
    "# returns the loss for a line\n",
    "\n",
    "def train(input_tensor, target_tensor):\n",
    "    \n",
    "        \n",
    "    \n",
    "    optimizer.zero_grad()\n",
    "    \n",
    "#     print (input_tensor)\n",
    "    \n",
    "#     print(\"changed3\")\n",
    "#     print(input_tensor[1])\n",
    "    criterion = nn.NLLLoss()    \n",
    "    hidden = rnn.initHidden()\n",
    "    loss = 0\n",
    "    rnn.zero_grad()\n",
    "#     print(input_tensor.size())\n",
    "#     print(target_tensor[0])\n",
    "#     print(target_tensor)\n",
    "    for i in range(input_tensor.size()[0]):\n",
    "        output, hidden = rnn(input_tensor[i], hidden)\n",
    "        \n",
    "        \n",
    "        \n",
    "#         find where the one is:\n",
    "# \n",
    "#         torch.tensor([all_categories.index(category)], dtype=torch.long)\n",
    "        max_tensor = torch.argmax(target_tensor[i])\n",
    "#         print(max_tensor)\n",
    "        ind = (torch.argmax(target_tensor[i])).item()\n",
    "#         print(\"this the target\")\n",
    "#         print(target_tensor[i])\n",
    "#         print(ind)\n",
    "        true_target_tensor = torch.tensor([ind], dtype=torch.long)\n",
    "    \n",
    "#     Evaluate the loss on each character!\n",
    "        loss += criterion(output, true_target_tensor)\n",
    "        \n",
    "#         expects JUST a single target class:\n",
    "\n",
    "#     print (\"loss for i \" + str(loss.item()))    \n",
    "#         print()\n",
    "# should be do the loss on each thing, or each batch! no, we should accumulate it! \n",
    "\n",
    "    loss.backward()\n",
    "    optimizer.step()\n",
    "    # Add parameters' gradients to their values, multiplied by learning rate\n",
    "#     for p in rnn.parameters():\n",
    "#         p.data.add_(-learning_rate, p.grad.data)\n",
    "\n",
    "    return output, loss.item()\n",
    "\n",
    "# why not run this just on all the tensors!! \n",
    "\n",
    "# then, we just call it with the dataset class, and then just iterate everything!!"
   ]
  },
  {
   "cell_type": "code",
   "execution_count": 13,
   "metadata": {},
   "outputs": [
    {
     "data": {
      "text/plain": [
       "36"
      ]
     },
     "execution_count": 13,
     "metadata": {},
     "output_type": "execute_result"
    }
   ],
   "source": [
    "abc.index2char[0]\n",
    "abc.index2char[1]\n",
    "\n",
    "abc.char2index[\"A\"]\n",
    "\n",
    "# ok some weird stuff here...\n"
   ]
  },
  {
   "cell_type": "code",
   "execution_count": 14,
   "metadata": {},
   "outputs": [],
   "source": [
    "# for (x,y) in abc:\n",
    "#     print(y)"
   ]
  },
  {
   "cell_type": "code",
   "execution_count": 15,
   "metadata": {},
   "outputs": [],
   "source": [
    "# del rnn\n",
    "# rnn = RNN(abc.vocab_size, n_hidden, abc.vocab_size)\n",
    "\n",
    "epoch_loss = 0\n",
    "# loss every k iters\n",
    "# \n",
    "total_loss = 0\n",
    "total_length  = 0\n",
    "epoch_length = 0\n",
    "\n",
    "\n",
    "num_epochs = 0\n",
    "for k in range(num_epochs ):\n",
    "    \n",
    "    for i,(x,y) in enumerate(abc):\n",
    "    #     print(x)\n",
    "    #     print(x)\n",
    "    #     print(y)\n",
    "        _, loss = train(x,y)\n",
    "        epoch_loss += loss\n",
    "        epoch_length += x.size()[0]\n",
    "        total_loss += loss\n",
    "        total_length += x.size()[0]\n",
    "\n",
    "    #     print(i)\n",
    "    #     abc = i\n",
    "#         if i % 100 == 0:\n",
    "#             print (\"loss for {} is {}\".format(i,other_loss/100))\n",
    "#             other_loss = 0\n",
    "    \n",
    "    print(\"epoch {} loss is {}\".format(k, epoch_loss/i))\n",
    "    print(\"per character loss is {}\".format(epoch_loss/epoch_length))\n",
    "    epoch_loss = 0\n",
    "    epoch_length = 0\n",
    "#     ideally: we would be able to compute the quintile losses\n",
    "    "
   ]
  },
  {
   "cell_type": "code",
   "execution_count": 16,
   "metadata": {},
   "outputs": [],
   "source": [
    "# Saves the entire model under the given filename\n",
    "def save_model(model,filename):\n",
    "    torch.save(model, filename)\n",
    "    \n",
    "    return\n",
    "\n",
    "# Saves the model parameters only (for maximum usability)\n",
    "\n",
    "def save_model_params(model, filename):\n",
    "\n",
    "    torch.save(model.state_dict(), filename)\n",
    "\n",
    "    return filename\n",
    "\n",
    "#  ideally, I could get per character loss, then I would also be able to get the total expected loss\n",
    "# so: we want to get total loss, then divide it by all the length of the number of examples we saw"
   ]
  },
  {
   "cell_type": "code",
   "execution_count": 17,
   "metadata": {},
   "outputs": [],
   "source": [
    "def load_model_from_params(filename):\n",
    "    model = RNN(abc.vocab_size, n_hidden, abc.vocab_size)\n",
    "    model.load_state_dict(torch.load(filename))\n",
    "    return model #vs return model.eval()??"
   ]
  },
  {
   "cell_type": "code",
   "execution_count": 18,
   "metadata": {},
   "outputs": [],
   "source": [
    "filename = \"draft.pt\"\n",
    "\n",
    "if False:\n",
    "\n",
    "    filename = save_model_params(rnn, \"draft.pt\")"
   ]
  },
  {
   "cell_type": "code",
   "execution_count": 19,
   "metadata": {},
   "outputs": [
    {
     "data": {
      "text/plain": [
       "RNN(\n",
       "  (i2h): Linear(in_features=229, out_features=128, bias=True)\n",
       "  (i2o): Linear(in_features=229, out_features=101, bias=True)\n",
       "  (softmax): LogSoftmax()\n",
       ")"
      ]
     },
     "execution_count": 19,
     "metadata": {},
     "output_type": "execute_result"
    }
   ],
   "source": [
    "eval_model = load_model_from_params(filename)\n",
    "eval_model.eval() # this is a mutating operation\n"
   ]
  },
  {
   "cell_type": "code",
   "execution_count": 20,
   "metadata": {},
   "outputs": [],
   "source": [
    "\n",
    "# returns the loss for the entire line (requires normalization for comparison)\n",
    "def get_loss_on_line(rnn, line):\n",
    "    input_tensor =  abc.lineToTensor([None] + [x for x in line])\n",
    "    target_tensor = abc.lineToTensor([x for x in line] + [\"\\n\"])\n",
    "    criterion = nn.NLLLoss()    \n",
    "    hidden = rnn.initHidden()\n",
    "    loss = 0\n",
    "    rnn.zero_grad()\n",
    "    \n",
    "    \n",
    "#     print(input_tensor.size())\n",
    "#     print(target_tensor[0])\n",
    "#     print(target_tensor)\n",
    "    for i in range(input_tensor.size()[0]):\n",
    "        output, hidden = rnn(input_tensor[i], hidden)\n",
    "        \n",
    "        \n",
    "        # had to do this simply because of how the NLLL and CrossEntropy are defined\n",
    "        max_tensor = torch.argmax(target_tensor[i])\n",
    "        ind = (torch.argmax(target_tensor[i])).item()\n",
    "        true_target_tensor = torch.tensor([ind], dtype=torch.long)\n",
    "    \n",
    "#     Evaluate the loss on each character!\n",
    "        loss += criterion(output, true_target_tensor)\n",
    "    \n",
    "    return loss.item()\n",
    "\n"
   ]
  },
  {
   "cell_type": "code",
   "execution_count": 21,
   "metadata": {},
   "outputs": [
    {
     "name": "stdout",
     "output_type": "stream",
     "text": [
      "3.155973434448242\n"
     ]
    }
   ],
   "source": [
    "# out = eval_model)\n",
    "\n",
    "# so there's a couple possibilities: we can have jim and ask to predict as well as just get the loss of the example\n",
    "# out = train()\n",
    "# ()\n",
    "#lineToTensor\n",
    "\n",
    "# get it as tensors, then run it, then do loss addition\n",
    "\n",
    "STRING_TO_TEST =  \"David\"\n",
    "print(get_loss_on_line(eval_model, STRING_TO_TEST )/len(STRING_TO_TEST ))\n",
    "\n",
    "# we now want to implement sampling:\n",
    "#  is that useful though? \n",
    "# will it be good?\n",
    "# instead, we can also try and get text for the inputs \n",
    "#  then train on that, then run it on some numerical numbers\n",
    "\n",
    "# visualization would be super useful \n",
    "# for pretty printing, we can colour the terminal output\n",
    "# otherwise, we will need to somehow encode the colour so that it is output to the file\n",
    "# \n"
   ]
  },
  {
   "cell_type": "code",
   "execution_count": 22,
   "metadata": {},
   "outputs": [],
   "source": [
    "#  print(\"\\x1b[31m\\\"red\\\"\\x1b[0m\")\n",
    "\n",
    "# if no thresholding, then we should at least like somehow graphically display?\n",
    "# no,... this is a different concern. Don't put frontend and backend together! (or visualization and etc.)\n"
   ]
  },
  {
   "cell_type": "code",
   "execution_count": null,
   "metadata": {},
   "outputs": [],
   "source": []
  },
  {
   "cell_type": "code",
   "execution_count": null,
   "metadata": {},
   "outputs": [],
   "source": []
  },
  {
   "cell_type": "code",
   "execution_count": 23,
   "metadata": {},
   "outputs": [],
   "source": [
    "from colorama import Fore"
   ]
  },
  {
   "cell_type": "code",
   "execution_count": 24,
   "metadata": {},
   "outputs": [
    {
     "name": "stdout",
     "output_type": "stream",
     "text": [
      "\u001b[34mBilly\n",
      "\n",
      "loss2.187842686971029\n",
      "\u001b[34mJoe\n",
      "\n",
      "loss2.927530288696289\n",
      "\u001b[34mBob\n",
      "\n",
      "loss3.550493001937866\n",
      "\u001b[34mThornton\n",
      "\n",
      "loss1.9199905395507812\n",
      "\u001b[34mElliot\n",
      "\n",
      "loss2.500835418701172\n",
      "\u001b[34mRandom\n",
      "\n",
      "loss2.389070783342634\n",
      "\u001b[34mderivative\n",
      "\n",
      "loss3.6175897771661933\n",
      "\u001b[31m';3[39\n",
      "\n",
      "loss8.677899496895927\n",
      "\u001b[31mj0hn_person1\n",
      "\n",
      "loss5.2926177978515625\n",
      "\u001b[34mEnglish\n",
      "\n",
      "loss2.915396213531494\n",
      "\u001b[31mwkijkq\n",
      "\n",
      "loss6.433131626674107\n",
      "\u001b[34mWord\n",
      "\n",
      "loss1.381985855102539\n",
      "\u001b[31mAdditional_names\n",
      "\n",
      "loss4.289423325482537\n",
      "\u001b[31mQuixotic\n",
      "\n",
      "loss4.087853749593099\n",
      "\u001b[31m24uirfejkfk\n",
      "\n",
      "loss6.100430170694987\n",
      "\u001b[34mJavier\n",
      "\n",
      "loss2.5835887363978793\n",
      "\u001b[34mJason\n",
      "\n",
      "loss2.2196717262268066\n",
      "\u001b[31mJiao\n",
      "\n",
      "loss4.139523696899414\n",
      "\u001b[34mChen\n",
      "\n",
      "loss2.830333137512207\n",
      "\u001b[34mAkshay\n",
      "\n",
      "loss2.998241424560547\n",
      "\u001b[34mMbaay\n",
      "\n",
      "loss3.496740976969401\n",
      "\u001b[34mGovind\n",
      "loss3.070594151814779\n"
     ]
    }
   ],
   "source": [
    "# print(Fore.RED + \"yoo\")\n",
    "\n",
    "# print(Fore.BLUE + \"haha\")\n",
    "\n",
    "# if on average more than twice as high loss on this sample, then we should flag it for further review\n",
    "THRESHOLD =  1.8332151545300774 * 2\n",
    "\n",
    "\n",
    "# some more powerful model: uses LSTM as well as additional fields and operators!\n",
    "# ok, so now let us just iterate the text file\n",
    "with open(\"data\\\\test-cases.txt\", \"r\") as file:\n",
    "    for line in file:\n",
    "        example_loss = get_loss_on_line(eval_model, line)/len(line )\n",
    "        if (example_loss > THRESHOLD):\n",
    "            print(Fore.RED + line)\n",
    "        else:\n",
    "            print(Fore.BLUE + line)\n",
    "        \n",
    "        print(\"loss\" + str(example_loss))\n",
    "    \n",
    "# perhaps we should train on google news corpus for a little while..\n",
    "# this \n",
    "    "
   ]
  },
  {
   "cell_type": "code",
   "execution_count": 25,
   "metadata": {},
   "outputs": [],
   "source": [
    "import nltk"
   ]
  },
  {
   "cell_type": "code",
   "execution_count": 26,
   "metadata": {},
   "outputs": [],
   "source": [
    "from nltk.corpus import reuters"
   ]
  },
  {
   "cell_type": "code",
   "execution_count": 27,
   "metadata": {},
   "outputs": [
    {
     "name": "stdout",
     "output_type": "stream",
     "text": [
      "ok\n"
     ]
    }
   ],
   "source": [
    "print(\"ok\")\n",
    "\n",
    "sentences = reuters.raw().splitlines()\n",
    "# print(reuters.raw())\n"
   ]
  },
  {
   "cell_type": "code",
   "execution_count": 28,
   "metadata": {},
   "outputs": [
    {
     "name": "stdout",
     "output_type": "stream",
     "text": [
      "<class 'list'>\n"
     ]
    }
   ],
   "source": [
    "print(type(sentences))\n",
    "printlen(sentences)"
   ]
  },
  {
   "cell_type": "code",
   "execution_count": 29,
   "metadata": {},
   "outputs": [],
   "source": [
    "\n",
    "# these are not exactly tokenized on sentences; but that is OK!\n",
    "sentences[:100]\n",
    "\n",
    "with open(\"reuters_news.txt\", \"w\") as file:\n",
    "    file.write(reuters.raw())"
   ]
  },
  {
   "cell_type": "code",
   "execution_count": 32,
   "metadata": {},
   "outputs": [
    {
     "name": "stdout",
     "output_type": "stream",
     "text": [
      "elapsed time is 468.82929849624634\n"
     ]
    }
   ],
   "source": [
    "# reuters dataset has umlauts and other non-standard characters, so we should try and account for that! \n",
    "# also: we should try and do a sort of full merge: merge between the train dataset and test dataset vocabs\n",
    "# other than that, we can just apply a regularizer to both sets, to get out the processed data\n",
    "# for now, let's just apply a regularization\n",
    "import time\n",
    "\n",
    "start = time.time()\n",
    "reuters_dataset = TextDataset( \"reuters_news.txt\", True)\n",
    "elapsed = time.time() - start\n",
    "print(\"elapsed time is {}\".format(elapsed ))\n",
    "\n",
    "# jeez, so it takes more than 8 minutes to create the dataset!"
   ]
  },
  {
   "cell_type": "code",
   "execution_count": 52,
   "metadata": {},
   "outputs": [
    {
     "name": "stdout",
     "output_type": "stream",
     "text": [
      "file created with 10000 lines\n",
      "elapsed time is 2.4797487258911133\n"
     ]
    }
   ],
   "source": [
    "# we need a smaller dataset for development\n",
    "# so, let's cut up the reuters into smaller (for example, load just the first K bytes of the file.)\n",
    "\n",
    "def make_proto_dataset(size):\n",
    "    with open(\"reuters_news_{}.txt\".format(size), \"w\") as file:\n",
    "        \n",
    "        \n",
    "        file.write('\\n'.join(reuters.raw().splitlines()[0:size]))\n",
    "    print(\"file created with {} lines\".format(size))\n",
    "        \n",
    "#     the question now is how many neurons and the architecture to use\n",
    "# we can also look into enhancement with the tqdm inside the object?\n",
    "start = time.time()\n",
    "make_proto_dataset(10000)\n",
    "elapsed = time.time() - start\n",
    "print(\"elapsed time is {}\".format(elapsed ))\n"
   ]
  },
  {
   "cell_type": "code",
   "execution_count": 47,
   "metadata": {},
   "outputs": [
    {
     "name": "stdout",
     "output_type": "stream",
     "text": [
      "191926\n"
     ]
    }
   ],
   "source": [
    "print(len(reuters_dataset))\n",
    "from tqdm import tqdm\n",
    "def general_train_function(dataset):\n",
    "# del rnn\n",
    "# rnn = RNN(abc.vocab_size, n_hidden, abc.vocab_size)\n",
    "\n",
    "    epoch_loss = 0\n",
    "    # loss every k iters\n",
    "    # \n",
    "    loss_per_k = 0\n",
    "    \n",
    "    total_loss = 0\n",
    "    total_length  = 0\n",
    "    epoch_length = 0\n",
    "\n",
    "\n",
    "    num_epochs = 10\n",
    "    \n",
    "    for k in range(num_epochs ):\n",
    "\n",
    "        for i,(x,y) in enumerate(tqdm(dataset)):\n",
    "        #     print(x)\n",
    "        #     print(x)\n",
    "        #     print(y)\n",
    "            _, loss = train(x,y)\n",
    "            epoch_loss += loss\n",
    "            epoch_length += x.size()[0]\n",
    "            total_loss += loss\n",
    "            total_length += x.size()[0]\n",
    "            loss_per_k += loss\n",
    "        #     print(i)\n",
    "        #     abc = i\n",
    "        \n",
    "            # for the first 100 iters, print the loss of every line!\n",
    "            if i < 100:\n",
    "                print (\"loss for {} is {}\".format(i,epoch_loss/(i+1)))\n",
    "                \n",
    "            \n",
    "            if i % 100 == 0 and i != 0:\n",
    "                print (\"loss for {} is {}\".format(i,loss_per_k/100))\n",
    "                loss_per_k = 0\n",
    "                \n",
    "\n",
    "        print(\"epoch {} loss is {}\".format(k, epoch_loss/i))\n",
    "        print(\"per character loss is {}\".format(epoch_loss/epoch_length))\n",
    "        epoch_loss = 0\n",
    "        epoch_length = 0\n",
    "#     ideally: we would be able to compute the quintile losses\n",
    "    "
   ]
  },
  {
   "cell_type": "code",
   "execution_count": 48,
   "metadata": {},
   "outputs": [],
   "source": [
    "\n",
    "# WE NEED THIS LINE TO RESET THE RNN!!\n",
    "rnn = RNN(abc.vocab_size, n_hidden, reuters_dataset.vocab_size)\n",
    "learning_rate = 0.0005 # If you set this too high, it might explode. If too low, it might not learn\n",
    "#  we had to set it a big lower to force convergence\n",
    "\n",
    "import torch.optim as optim\n",
    "optimizer = optim.SGD(rnn.parameters(), lr = 0.01)\n",
    "\n",
    "# returns the loss for a line\n",
    "\n",
    "def general_train(input_tensor, target_tensor):\n",
    "    \n",
    "        \n",
    "    \n",
    "    optimizer.zero_grad()\n",
    "    \n",
    "#     print (input_tensor)\n",
    "    \n",
    "#     print(\"changed3\")\n",
    "#     print(input_tensor[1])\n",
    "    criterion = nn.NLLLoss()    \n",
    "    hidden = rnn.initHidden()\n",
    "    loss = 0\n",
    "    rnn.zero_grad()\n",
    "#     print(input_tensor.size())\n",
    "#     print(target_tensor[0])\n",
    "#     print(target_tensor)\n",
    "    for i in range(input_tensor.size()[0]):\n",
    "        output, hidden = rnn(input_tensor[i], hidden)\n",
    "        \n",
    "        \n",
    "        \n",
    "#         find where the one is:\n",
    "# \n",
    "#         torch.tensor([all_categories.index(category)], dtype=torch.long)\n",
    "        max_tensor = torch.argmax(target_tensor[i])\n",
    "#         print(max_tensor)\n",
    "        ind = (torch.argmax(target_tensor[i])).item()\n",
    "#         print(\"this the target\")\n",
    "#         print(target_tensor[i])\n",
    "#         print(ind)\n",
    "        true_target_tensor = torch.tensor([ind], dtype=torch.long)\n",
    "    \n",
    "#     Evaluate the loss on each character!\n",
    "        loss += criterion(output, true_target_tensor)\n",
    "        \n",
    "#         expects JUST a single target class:\n",
    "\n",
    "#     print (\"loss for i \" + str(loss.item()))    \n",
    "#         print()\n",
    "# should be do the loss on each thing, or each batch! no, we should accumulate it! \n",
    "\n",
    "    loss.backward()\n",
    "    optimizer.step()\n",
    "    # Add parameters' gradients to their values, multiplied by learning rate\n",
    "#     for p in rnn.parameters():\n",
    "#         p.data.add_(-learning_rate, p.grad.data)\n",
    "\n",
    "    return output, loss.item()\n",
    "\n",
    "# why not run this just on all the tensors!! \n",
    "\n",
    "# then, we just call it with the dataset class, and then just iterate everything!!"
   ]
  },
  {
   "cell_type": "code",
   "execution_count": 49,
   "metadata": {},
   "outputs": [
    {
     "name": "stderr",
     "output_type": "stream",
     "text": [
      "\n",
      "  0%|                                                                                       | 0/191926 [00:00<?, ?it/s]"
     ]
    },
    {
     "name": "stdout",
     "output_type": "stream",
     "text": [
      "loss for 0 is 231.46107482910156\n",
      "loss for 1 is 205.70087432861328\n",
      "loss for 2 is 237.7065684000651\n",
      "loss for 3 is 245.9090690612793\n",
      "loss for 4 is 235.30933227539063\n"
     ]
    },
    {
     "name": "stderr",
     "output_type": "stream",
     "text": [
      "\n",
      "  0%|                                                                             | 5/191926 [00:00<1:08:08, 46.94it/s]"
     ]
    },
    {
     "name": "stdout",
     "output_type": "stream",
     "text": [
      "loss for 5 is 242.6979014078776\n",
      "loss for 6 is 247.1700483049665\n",
      "loss for 7 is 299.7207145690918\n",
      "loss for 8 is nan\n"
     ]
    },
    {
     "name": "stderr",
     "output_type": "stream",
     "text": [
      "\n",
      "  0%|                                                                             | 9/191926 [00:00<1:13:55, 43.26it/s]"
     ]
    },
    {
     "name": "stdout",
     "output_type": "stream",
     "text": [
      "loss for 9 is nan\n",
      "loss for 10 is nan\n",
      "loss for 11 is nan\n",
      "loss for 12 is nan\n",
      "loss for 13 is nan\n"
     ]
    },
    {
     "name": "stderr",
     "output_type": "stream",
     "text": [
      "\n",
      "  0%|                                                                            | 14/191926 [00:00<1:12:44, 43.98it/s]"
     ]
    },
    {
     "name": "stdout",
     "output_type": "stream",
     "text": [
      "loss for 14 is nan\n",
      "loss for 15 is nan\n",
      "loss for 16 is nan\n",
      "loss for 17 is nan\n"
     ]
    },
    {
     "name": "stderr",
     "output_type": "stream",
     "text": [
      "\n",
      "  0%|                                                                            | 18/191926 [00:00<1:20:53, 39.54it/s]"
     ]
    },
    {
     "name": "stdout",
     "output_type": "stream",
     "text": [
      "loss for 18 is nan\n",
      "loss for 19 is nan\n",
      "loss for 20 is nan\n",
      "loss for 21 is nan\n",
      "loss for 22 is nan\n"
     ]
    },
    {
     "name": "stderr",
     "output_type": "stream",
     "text": [
      "\n",
      "  0%|                                                                            | 23/191926 [00:00<1:17:36, 41.21it/s]"
     ]
    },
    {
     "name": "stdout",
     "output_type": "stream",
     "text": [
      "loss for 23 is nan\n",
      "loss for 24 is nan\n",
      "loss for 25 is nan\n",
      "loss for 26 is nan\n"
     ]
    },
    {
     "name": "stderr",
     "output_type": "stream",
     "text": [
      "\n",
      "  0%|                                                                            | 27/191926 [00:00<1:21:06, 39.43it/s]"
     ]
    },
    {
     "name": "stdout",
     "output_type": "stream",
     "text": [
      "loss for 27 is nan\n",
      "loss for 28 is nan\n",
      "loss for 29 is nan\n",
      "loss for 30 is nan\n"
     ]
    },
    {
     "name": "stderr",
     "output_type": "stream",
     "text": [
      "\n",
      "  0%|                                                                            | 31/191926 [00:00<1:23:27, 38.32it/s]"
     ]
    },
    {
     "name": "stdout",
     "output_type": "stream",
     "text": [
      "loss for 31 is nan\n",
      "loss for 32 is nan\n",
      "loss for 33 is nan\n",
      "loss for 34 is nan\n"
     ]
    },
    {
     "name": "stderr",
     "output_type": "stream",
     "text": [
      "\n",
      "  0%|                                                                            | 35/191926 [00:00<1:28:40, 36.07it/s]"
     ]
    },
    {
     "name": "stdout",
     "output_type": "stream",
     "text": [
      "loss for 35 is nan\n",
      "loss for 36 is nan\n",
      "loss for 37 is nan\n",
      "loss for 38 is nan\n"
     ]
    },
    {
     "name": "stderr",
     "output_type": "stream",
     "text": [
      "\n",
      "  0%|                                                                            | 39/191926 [00:01<1:35:31, 33.48it/s]"
     ]
    },
    {
     "name": "stdout",
     "output_type": "stream",
     "text": [
      "loss for 39 is nan\n",
      "loss for 40 is nan\n",
      "loss for 41 is nan\n",
      "loss for 42 is nan\n"
     ]
    },
    {
     "name": "stderr",
     "output_type": "stream",
     "text": [
      "\n",
      "  0%|                                                                            | 43/191926 [00:01<1:32:23, 34.61it/s]"
     ]
    },
    {
     "name": "stdout",
     "output_type": "stream",
     "text": [
      "loss for 43 is nan\n",
      "loss for 44 is nan\n",
      "loss for 45 is nan\n",
      "loss for 46 is nan\n"
     ]
    },
    {
     "name": "stderr",
     "output_type": "stream",
     "text": [
      "\n",
      "  0%|                                                                            | 47/191926 [00:01<1:34:39, 33.79it/s]"
     ]
    },
    {
     "name": "stdout",
     "output_type": "stream",
     "text": [
      "loss for 47 is nan\n",
      "loss for 48 is nan\n",
      "loss for 49 is nan\n",
      "loss for 50 is nan\n",
      "loss for 51 is nan\n"
     ]
    },
    {
     "name": "stderr",
     "output_type": "stream",
     "text": [
      "\n",
      "  0%|                                                                            | 52/191926 [00:01<1:30:13, 35.44it/s]"
     ]
    },
    {
     "name": "stdout",
     "output_type": "stream",
     "text": [
      "loss for 52 is nan\n",
      "loss for 53 is nan\n",
      "loss for 54 is nan\n",
      "loss for 55 is nan\n"
     ]
    },
    {
     "name": "stderr",
     "output_type": "stream",
     "text": [
      "\n",
      "  0%|                                                                            | 56/191926 [00:01<1:29:23, 35.78it/s]"
     ]
    },
    {
     "name": "stdout",
     "output_type": "stream",
     "text": [
      "loss for 56 is nan\n",
      "loss for 57 is nan\n",
      "loss for 58 is nan\n",
      "loss for 59 is nan\n"
     ]
    },
    {
     "name": "stderr",
     "output_type": "stream",
     "text": [
      "\n",
      "  0%|                                                                            | 60/191926 [00:01<1:33:02, 34.37it/s]"
     ]
    },
    {
     "name": "stdout",
     "output_type": "stream",
     "text": [
      "loss for 60 is nan\n",
      "loss for 61 is nan\n",
      "loss for 62 is nan\n",
      "loss for 63 is nan\n"
     ]
    },
    {
     "name": "stderr",
     "output_type": "stream",
     "text": [
      "\n",
      "  0%|                                                                            | 64/191926 [00:01<1:35:20, 33.54it/s]"
     ]
    },
    {
     "name": "stdout",
     "output_type": "stream",
     "text": [
      "loss for 64 is nan\n",
      "loss for 65 is nan\n",
      "loss for 66 is nan\n",
      "loss for 67 is nan\n"
     ]
    },
    {
     "name": "stderr",
     "output_type": "stream",
     "text": [
      "\n",
      "  0%|                                                                            | 68/191926 [00:01<1:34:14, 33.93it/s]"
     ]
    },
    {
     "name": "stdout",
     "output_type": "stream",
     "text": [
      "loss for 68 is nan\n",
      "loss for 69 is nan\n",
      "loss for 70 is nan\n",
      "loss for 71 is nan\n"
     ]
    },
    {
     "name": "stderr",
     "output_type": "stream",
     "text": [
      "\n",
      "  0%|                                                                            | 72/191926 [00:01<1:32:34, 34.54it/s]"
     ]
    },
    {
     "name": "stdout",
     "output_type": "stream",
     "text": [
      "loss for 72 is nan\n",
      "loss for 73 is nan\n",
      "loss for 74 is nan\n",
      "loss for 75 is nan\n"
     ]
    },
    {
     "name": "stderr",
     "output_type": "stream",
     "text": [
      "\n",
      "  0%|                                                                            | 76/191926 [00:02<1:40:15, 31.89it/s]"
     ]
    },
    {
     "name": "stdout",
     "output_type": "stream",
     "text": [
      "loss for 76 is nan\n",
      "loss for 77 is nan\n",
      "loss for 78 is nan\n",
      "loss for 79 is nan\n",
      "loss for 80 is nan\n"
     ]
    },
    {
     "name": "stderr",
     "output_type": "stream",
     "text": [
      "\n",
      "  0%|                                                                            | 81/191926 [00:02<1:34:08, 33.96it/s]"
     ]
    },
    {
     "name": "stdout",
     "output_type": "stream",
     "text": [
      "loss for 81 is nan\n",
      "loss for 82 is nan\n",
      "loss for 83 is nan\n",
      "loss for 84 is nan\n",
      "loss for 85 is nan\n",
      "loss for 86 is nan\n",
      "loss for 87 is nan\n"
     ]
    },
    {
     "name": "stderr",
     "output_type": "stream",
     "text": [
      "\n",
      "  0%|                                                                            | 88/191926 [00:02<1:21:29, 39.23it/s]"
     ]
    },
    {
     "name": "stdout",
     "output_type": "stream",
     "text": [
      "loss for 88 is nan\n",
      "loss for 89 is nan\n",
      "loss for 90 is nan\n",
      "loss for 91 is nan\n",
      "loss for 92 is nan\n"
     ]
    },
    {
     "name": "stderr",
     "output_type": "stream",
     "text": [
      "\n",
      "  0%|                                                                            | 93/191926 [00:02<1:24:00, 38.06it/s]"
     ]
    },
    {
     "name": "stdout",
     "output_type": "stream",
     "text": [
      "loss for 93 is nan\n",
      "loss for 94 is nan\n",
      "loss for 95 is nan\n",
      "loss for 96 is nan\n",
      "loss for 97 is nan\n"
     ]
    },
    {
     "name": "stderr",
     "output_type": "stream",
     "text": [
      "\n",
      "  0%|                                                                            | 98/191926 [00:02<1:21:48, 39.08it/s]"
     ]
    },
    {
     "name": "stdout",
     "output_type": "stream",
     "text": [
      "loss for 98 is nan\n",
      "loss for 99 is nan\n",
      "loss for 100 is nan\n"
     ]
    },
    {
     "name": "stderr",
     "output_type": "stream",
     "text": [
      "\n",
      "  0%|                                                                           | 104/191926 [00:02<1:14:54, 42.67it/s]\n",
      "  0%|                                                                           | 109/191926 [00:02<1:12:08, 44.31it/s]\n",
      "  0%|                                                                           | 114/191926 [00:02<1:10:09, 45.57it/s]\n",
      "  0%|                                                                           | 119/191926 [00:03<1:13:22, 43.56it/s]\n",
      "  0%|                                                                           | 127/191926 [00:03<1:04:02, 49.91it/s]\n",
      "  0%|                                                                           | 133/191926 [00:03<1:04:48, 49.33it/s]\n",
      "  0%|                                                                           | 139/191926 [00:03<1:05:20, 48.92it/s]\n",
      "  0%|                                                                             | 147/191926 [00:03<58:50, 54.32it/s]\n",
      "  0%|                                                                           | 153/191926 [00:03<1:00:52, 52.50it/s]\n",
      "  2%|█▋                                                                          | 4416/191926 [01:40<56:12, 55.60it/s]\n",
      "  0%|                                                                             | 167/191926 [00:03<57:32, 55.54it/s]\n",
      "  0%|                                                                             | 173/191926 [00:04<59:53, 53.36it/s]\n",
      "  0%|                                                                           | 179/191926 [00:04<1:01:22, 52.07it/s]\n",
      "  0%|                                                                           | 185/191926 [00:04<1:00:26, 52.88it/s]\n",
      "  0%|                                                                             | 193/191926 [00:04<55:24, 57.67it/s]\n",
      "  0%|                                                                             | 199/191926 [00:04<58:45, 54.39it/s]"
     ]
    },
    {
     "name": "stdout",
     "output_type": "stream",
     "text": [
      "loss for 200 is nan\n"
     ]
    },
    {
     "name": "stderr",
     "output_type": "stream",
     "text": [
      "\n",
      "  0%|                                                                           | 205/191926 [00:04<1:03:56, 49.98it/s]\n",
      "  0%|                                                                           | 211/191926 [00:04<1:02:27, 51.15it/s]\n",
      "  0%|                                                                           | 218/191926 [00:04<1:01:32, 51.92it/s]\n",
      "  0%|                                                                           | 224/191926 [00:04<1:02:03, 51.49it/s]\n",
      "  0%|                                                                           | 230/191926 [00:05<1:03:30, 50.31it/s]\n",
      "  0%|                                                                             | 239/191926 [00:05<56:05, 56.96it/s]\n",
      "  0%|                                                                             | 247/191926 [00:05<54:14, 58.90it/s]\n",
      "  0%|                                                                             | 254/191926 [00:05<57:12, 55.84it/s]\n",
      "  0%|                                                                             | 261/191926 [00:05<54:08, 59.00it/s]\n",
      "  0%|                                                                             | 268/191926 [00:05<54:41, 58.41it/s]\n",
      "  0%|                                                                             | 274/191926 [00:05<55:16, 57.79it/s]\n",
      "  0%|                                                                             | 280/191926 [00:05<55:44, 57.30it/s]\n",
      "  0%|                                                                             | 286/191926 [00:06<59:10, 53.97it/s]\n",
      "  0%|                                                                           | 292/191926 [00:06<1:00:50, 52.49it/s]\n",
      "  0%|                                                                           | 298/191926 [00:06<1:02:32, 51.06it/s]"
     ]
    },
    {
     "name": "stdout",
     "output_type": "stream",
     "text": [
      "loss for 300 is nan\n"
     ]
    },
    {
     "name": "stderr",
     "output_type": "stream",
     "text": [
      "\n",
      "  0%|                                                                           | 304/191926 [00:06<1:04:26, 49.56it/s]\n",
      "  0%|                                                                           | 310/191926 [00:06<1:02:34, 51.04it/s]\n",
      "  0%|                                                                           | 316/191926 [00:06<1:00:20, 52.92it/s]\n",
      "  0%|▏                                                                          | 322/191926 [00:06<1:00:30, 52.77it/s]\n",
      "  0%|▏                                                                          | 328/191926 [00:06<1:03:08, 50.57it/s]\n",
      "  0%|▏                                                                          | 334/191926 [00:07<1:00:33, 52.73it/s]\n",
      "  0%|▏                                                                            | 342/191926 [00:07<56:58, 56.05it/s]\n",
      "  0%|▏                                                                            | 348/191926 [00:07<57:20, 55.69it/s]\n",
      "  0%|▏                                                                            | 355/191926 [00:07<55:05, 57.95it/s]\n",
      "  0%|▏                                                                          | 361/191926 [00:07<1:01:00, 52.33it/s]\n",
      "  0%|▏                                                                          | 367/191926 [00:07<1:05:24, 48.81it/s]\n",
      "  0%|▏                                                                          | 373/191926 [00:07<1:05:58, 48.39it/s]\n",
      "  0%|▏                                                                          | 378/191926 [00:07<1:11:16, 44.79it/s]\n",
      "  0%|▏                                                                          | 383/191926 [00:08<1:12:54, 43.79it/s]\n",
      "  0%|▏                                                                          | 389/191926 [00:08<1:07:59, 46.96it/s]\n",
      "  0%|▏                                                                          | 394/191926 [00:08<1:08:31, 46.58it/s]\n",
      "  0%|▏                                                                          | 399/191926 [00:08<1:08:54, 46.32it/s]"
     ]
    },
    {
     "name": "stdout",
     "output_type": "stream",
     "text": [
      "loss for 400 is nan\n"
     ]
    },
    {
     "name": "stderr",
     "output_type": "stream",
     "text": [
      "\n",
      "  0%|▏                                                                          | 404/191926 [00:08<1:12:10, 44.23it/s]\n",
      "  0%|▏                                                                          | 409/191926 [00:08<1:14:27, 42.87it/s]\n",
      "  0%|▏                                                                          | 414/191926 [00:08<1:16:51, 41.53it/s]\n",
      "  0%|▏                                                                          | 421/191926 [00:08<1:07:53, 47.01it/s]\n",
      "  0%|▏                                                                          | 428/191926 [00:08<1:05:21, 48.83it/s]\n",
      "  0%|▏                                                                          | 435/191926 [00:09<1:00:51, 52.45it/s]\n",
      "  0%|▏                                                                          | 441/191926 [00:09<1:06:29, 47.99it/s]\n",
      "  0%|▏                                                                          | 447/191926 [00:09<1:06:29, 48.00it/s]\n",
      "  0%|▏                                                                          | 452/191926 [00:09<1:10:28, 45.29it/s]\n",
      "  0%|▏                                                                          | 457/191926 [00:09<1:10:15, 45.42it/s]\n",
      "  0%|▏                                                                          | 463/191926 [00:09<1:09:25, 45.97it/s]\n",
      "  0%|▏                                                                          | 468/191926 [00:09<1:12:48, 43.82it/s]\n",
      "  0%|▏                                                                          | 474/191926 [00:09<1:08:43, 46.43it/s]\n",
      "  0%|▏                                                                          | 479/191926 [00:10<1:09:13, 46.09it/s]\n",
      "  0%|▏                                                                            | 488/191926 [00:10<59:48, 53.35it/s]\n",
      "  0%|▏                                                                          | 494/191926 [00:10<1:01:47, 51.63it/s]"
     ]
    },
    {
     "name": "stdout",
     "output_type": "stream",
     "text": [
      "loss for 500 is nan\n"
     ]
    },
    {
     "name": "stderr",
     "output_type": "stream",
     "text": [
      "\n",
      "  0%|▏                                                                            | 502/191926 [00:10<56:20, 56.63it/s]\n",
      "  0%|▏                                                                            | 509/191926 [00:10<54:23, 58.66it/s]\n",
      "  0%|▏                                                                            | 516/191926 [00:10<58:34, 54.46it/s]\n",
      "  0%|▏                                                                            | 524/191926 [00:10<54:46, 58.24it/s]\n",
      "  0%|▏                                                                            | 532/191926 [00:10<51:34, 61.86it/s]\n",
      "  0%|▏                                                                            | 539/191926 [00:10<53:57, 59.12it/s]\n",
      "  0%|▏                                                                            | 546/191926 [00:11<56:02, 56.92it/s]\n",
      "  0%|▏                                                                            | 552/191926 [00:11<59:09, 53.92it/s]\n",
      "  0%|▏                                                                          | 558/191926 [00:11<1:02:01, 51.42it/s]\n",
      "  0%|▏                                                                            | 565/191926 [00:11<58:22, 54.64it/s]\n",
      "  0%|▏                                                                            | 571/191926 [00:11<59:39, 53.45it/s]\n",
      "  0%|▏                                                                            | 577/191926 [00:11<58:46, 54.25it/s]\n",
      "  0%|▏                                                                            | 585/191926 [00:11<53:55, 59.13it/s]\n",
      "  0%|▏                                                                            | 592/191926 [00:11<56:34, 56.36it/s]\n",
      "  0%|▏                                                                          | 598/191926 [00:12<1:00:18, 52.88it/s]"
     ]
    },
    {
     "name": "stdout",
     "output_type": "stream",
     "text": [
      "loss for 600 is nan\n"
     ]
    },
    {
     "name": "stderr",
     "output_type": "stream",
     "text": [
      "\n",
      "  0%|▏                                                                          | 604/191926 [00:12<1:00:23, 52.80it/s]\n",
      "  0%|▏                                                                            | 610/191926 [00:12<59:42, 53.41it/s]\n",
      "  0%|▏                                                                            | 618/191926 [00:12<54:51, 58.11it/s]\n",
      "  0%|▏                                                                          | 624/191926 [00:12<1:00:49, 52.42it/s]\n",
      "  0%|▎                                                                            | 631/191926 [00:12<56:47, 56.15it/s]\n",
      "  0%|▏                                                                          | 637/191926 [00:12<1:02:23, 51.10it/s]\n",
      "  0%|▎                                                                            | 644/191926 [00:12<57:43, 55.23it/s]\n",
      "  0%|▎                                                                          | 650/191926 [00:13<1:02:16, 51.19it/s]\n",
      "  0%|▎                                                                          | 656/191926 [00:13<1:01:07, 52.16it/s]\n",
      "  0%|▎                                                                          | 662/191926 [00:13<1:02:42, 50.84it/s]\n",
      "  0%|▎                                                                            | 669/191926 [00:13<58:49, 54.19it/s]\n",
      "  0%|▎                                                                          | 675/191926 [00:13<1:06:04, 48.24it/s]\n",
      "  0%|▎                                                                          | 681/191926 [00:13<1:03:43, 50.02it/s]\n",
      "  0%|▎                                                                          | 687/191926 [00:13<1:08:28, 46.55it/s]\n",
      "  0%|▎                                                                          | 695/191926 [00:13<1:02:14, 51.21it/s]"
     ]
    },
    {
     "name": "stdout",
     "output_type": "stream",
     "text": [
      "loss for 700 is nan\n"
     ]
    },
    {
     "name": "stderr",
     "output_type": "stream",
     "text": [
      "\n",
      "  0%|▎                                                                          | 701/191926 [00:14<1:05:32, 48.63it/s]\n",
      "  0%|▎                                                                            | 709/191926 [00:14<58:33, 54.43it/s]\n",
      "  0%|▎                                                                            | 716/191926 [00:14<55:55, 56.99it/s]\n",
      "  0%|▎                                                                          | 722/191926 [00:14<1:01:32, 51.78it/s]\n",
      "  0%|▎                                                                          | 729/191926 [00:14<1:00:08, 52.98it/s]\n",
      "  0%|▎                                                                          | 735/191926 [00:14<1:01:57, 51.43it/s]\n",
      "  0%|▎                                                                          | 741/191926 [00:14<1:05:22, 48.74it/s]\n",
      "  0%|▎                                                                          | 747/191926 [00:14<1:06:28, 47.93it/s]\n",
      "  0%|▎                                                                            | 755/191926 [00:15<59:40, 53.39it/s]\n",
      "  0%|▎                                                                          | 761/191926 [00:15<1:03:42, 50.01it/s]\n",
      "  0%|▎                                                                          | 767/191926 [00:15<1:02:00, 51.38it/s]\n",
      "  0%|▎                                                                          | 773/191926 [00:15<1:03:18, 50.32it/s]\n",
      "  0%|▎                                                                          | 779/191926 [00:15<1:11:51, 44.33it/s]\n",
      "  0%|▎                                                                          | 788/191926 [00:15<1:02:29, 50.98it/s]\n",
      "  0%|▎                                                                          | 794/191926 [00:15<1:06:29, 47.90it/s]\n",
      "  0%|▎                                                                          | 800/191926 [00:16<1:15:34, 42.15it/s]"
     ]
    },
    {
     "name": "stdout",
     "output_type": "stream",
     "text": [
      "loss for 800 is nan\n"
     ]
    },
    {
     "name": "stderr",
     "output_type": "stream",
     "text": [
      "\n",
      "  0%|▎                                                                          | 805/191926 [00:16<1:19:23, 40.12it/s]\n",
      "  0%|▎                                                                          | 810/191926 [00:16<1:19:27, 40.09it/s]\n",
      "  0%|▎                                                                          | 815/191926 [00:16<1:19:38, 40.00it/s]\n",
      "  0%|▎                                                                          | 821/191926 [00:16<1:15:38, 42.10it/s]\n",
      "  0%|▎                                                                          | 826/191926 [00:16<1:29:09, 35.72it/s]\n",
      "  0%|▎                                                                          | 830/191926 [00:16<1:33:02, 34.23it/s]\n",
      "  0%|▎                                                                          | 834/191926 [00:16<1:30:26, 35.21it/s]\n",
      "  0%|▎                                                                          | 839/191926 [00:17<1:26:42, 36.73it/s]\n",
      "  0%|▎                                                                          | 843/191926 [00:17<1:36:34, 32.98it/s]\n",
      "  0%|▎                                                                          | 847/191926 [00:17<1:33:23, 34.10it/s]\n",
      "  0%|▎                                                                          | 852/191926 [00:17<1:29:02, 35.76it/s]\n",
      "  0%|▎                                                                          | 856/191926 [00:17<1:26:12, 36.94it/s]\n",
      "  0%|▎                                                                          | 860/191926 [00:17<1:31:53, 34.65it/s]\n",
      "  0%|▎                                                                          | 864/191926 [00:17<1:30:55, 35.02it/s]\n",
      "  0%|▎                                                                          | 868/191926 [00:17<1:30:23, 35.22it/s]\n",
      "  0%|▎                                                                          | 872/191926 [00:18<1:30:01, 35.37it/s]\n",
      "  0%|▎                                                                          | 876/191926 [00:18<1:29:49, 35.45it/s]\n",
      "  0%|▎                                                                          | 880/191926 [00:18<1:27:22, 36.45it/s]\n",
      "  0%|▎                                                                          | 884/191926 [00:18<1:28:51, 35.83it/s]\n",
      "  0%|▎                                                                          | 889/191926 [00:18<1:26:39, 36.74it/s]\n",
      "  0%|▎                                                                          | 894/191926 [00:18<1:20:43, 39.44it/s]\n",
      "  0%|▎                                                                          | 899/191926 [00:18<1:20:19, 39.64it/s]"
     ]
    },
    {
     "name": "stdout",
     "output_type": "stream",
     "text": [
      "loss for 900 is nan\n"
     ]
    },
    {
     "name": "stderr",
     "output_type": "stream",
     "text": [
      "\n",
      "  0%|▎                                                                          | 905/191926 [00:18<1:12:46, 43.74it/s]\n",
      "  0%|▎                                                                          | 910/191926 [00:18<1:13:52, 43.10it/s]\n",
      "  0%|▎                                                                          | 915/191926 [00:19<1:23:47, 37.99it/s]\n",
      "  0%|▎                                                                          | 919/191926 [00:19<1:24:42, 37.58it/s]\n",
      "  0%|▎                                                                          | 924/191926 [00:19<1:23:09, 38.28it/s]\n",
      "  0%|▎                                                                          | 928/191926 [00:19<1:24:14, 37.79it/s]\n",
      "  0%|▎                                                                          | 932/191926 [00:19<1:26:39, 36.73it/s]\n",
      "  0%|▎                                                                          | 936/191926 [00:19<1:28:21, 36.03it/s]\n",
      "  0%|▎                                                                          | 940/191926 [00:19<1:27:37, 36.32it/s]\n",
      "  0%|▎                                                                          | 945/191926 [00:19<1:24:15, 37.78it/s]\n",
      "  0%|▎                                                                          | 949/191926 [00:20<1:22:51, 38.42it/s]\n",
      "  0%|▎                                                                          | 953/191926 [00:20<1:23:46, 37.99it/s]\n",
      "  0%|▎                                                                          | 958/191926 [00:20<1:18:30, 40.54it/s]\n",
      "  1%|▍                                                                          | 964/191926 [00:20<1:13:24, 43.36it/s]\n",
      "  1%|▍                                                                          | 969/191926 [00:20<1:16:35, 41.55it/s]\n",
      "  1%|▍                                                                          | 974/191926 [00:20<1:19:34, 39.99it/s]\n",
      "  1%|▍                                                                          | 980/191926 [00:20<1:12:15, 44.04it/s]\n",
      "  1%|▍                                                                          | 985/191926 [00:20<1:10:26, 45.18it/s]\n",
      "  1%|▍                                                                          | 992/191926 [00:20<1:03:11, 50.36it/s]\n",
      "  1%|▍                                                                          | 998/191926 [00:21<1:05:14, 48.78it/s]"
     ]
    },
    {
     "name": "stdout",
     "output_type": "stream",
     "text": [
      "loss for 1000 is nan\n"
     ]
    },
    {
     "name": "stderr",
     "output_type": "stream",
     "text": [
      "\n",
      "  1%|▍                                                                         | 1004/191926 [00:21<1:07:31, 47.12it/s]\n",
      "  1%|▍                                                                         | 1009/191926 [00:21<1:11:49, 44.30it/s]\n",
      "  1%|▍                                                                         | 1014/191926 [00:21<1:12:25, 43.94it/s]\n",
      "  1%|▍                                                                         | 1020/191926 [00:21<1:11:03, 44.78it/s]\n",
      "  1%|▍                                                                         | 1027/191926 [00:21<1:06:05, 48.13it/s]\n",
      "  1%|▍                                                                         | 1032/191926 [00:21<1:06:07, 48.12it/s]\n",
      "  1%|▍                                                                         | 1037/191926 [00:21<1:06:08, 48.10it/s]\n",
      "  1%|▍                                                                         | 1043/191926 [00:22<1:07:00, 47.48it/s]\n",
      "  1%|▍                                                                         | 1050/191926 [00:22<1:02:31, 50.88it/s]\n",
      "  1%|▍                                                                         | 1056/191926 [00:22<1:06:01, 48.18it/s]\n",
      "  1%|▍                                                                         | 1063/191926 [00:22<1:01:29, 51.73it/s]\n",
      "  1%|▍                                                                         | 1069/191926 [00:22<1:11:02, 44.78it/s]\n",
      "  1%|▍                                                                         | 1074/191926 [00:22<1:14:09, 42.90it/s]\n",
      "  1%|▍                                                                         | 1079/191926 [00:22<1:16:19, 41.67it/s]\n",
      "  1%|▍                                                                         | 1086/191926 [00:22<1:10:20, 45.22it/s]\n",
      "  1%|▍                                                                         | 1091/191926 [00:23<1:17:28, 41.05it/s]\n",
      "  1%|▍                                                                         | 1096/191926 [00:23<1:32:46, 34.28it/s]"
     ]
    },
    {
     "name": "stdout",
     "output_type": "stream",
     "text": [
      "loss for 1100 is nan\n"
     ]
    },
    {
     "name": "stderr",
     "output_type": "stream",
     "text": [
      "\n",
      "  1%|▍                                                                         | 1101/191926 [00:23<1:26:18, 36.85it/s]\n",
      "  1%|▍                                                                         | 1106/191926 [00:23<1:21:32, 39.01it/s]\n",
      "  1%|▍                                                                         | 1111/191926 [00:23<1:22:53, 38.37it/s]\n",
      "  1%|▍                                                                         | 1117/191926 [00:23<1:16:58, 41.31it/s]\n",
      "  1%|▍                                                                         | 1125/191926 [00:23<1:09:09, 45.98it/s]\n",
      "  1%|▍                                                                         | 1130/191926 [00:24<1:08:38, 46.33it/s]\n",
      "  1%|▍                                                                         | 1135/191926 [00:24<1:11:24, 44.53it/s]\n",
      "  1%|▍                                                                         | 1140/191926 [00:24<1:16:48, 41.40it/s]\n",
      "  1%|▍                                                                         | 1145/191926 [00:24<1:17:36, 40.97it/s]\n",
      "  1%|▍                                                                         | 1152/191926 [00:24<1:09:13, 45.93it/s]\n",
      "  1%|▍                                                                         | 1157/191926 [00:24<1:11:10, 44.67it/s]\n",
      "  1%|▍                                                                         | 1162/191926 [00:24<1:09:25, 45.79it/s]\n",
      "  1%|▍                                                                         | 1167/191926 [00:24<1:10:26, 45.14it/s]\n",
      "  1%|▍                                                                         | 1175/191926 [00:24<1:03:54, 49.75it/s]\n",
      "  1%|▍                                                                         | 1181/191926 [00:25<1:03:32, 50.04it/s]\n",
      "  1%|▍                                                                           | 1188/191926 [00:25<59:22, 53.54it/s]\n",
      "  1%|▍                                                                           | 1196/191926 [00:25<54:35, 58.23it/s]"
     ]
    },
    {
     "name": "stdout",
     "output_type": "stream",
     "text": [
      "loss for 1200 is nan\n"
     ]
    },
    {
     "name": "stderr",
     "output_type": "stream",
     "text": [
      "\n",
      "  1%|▍                                                                           | 1203/191926 [00:25<57:22, 55.41it/s]\n",
      "  1%|▍                                                                           | 1209/191926 [00:25<57:32, 55.25it/s]\n",
      "  1%|▍                                                                           | 1215/191926 [00:25<58:31, 54.31it/s]\n",
      "  1%|▍                                                                         | 1221/191926 [00:25<1:03:29, 50.07it/s]\n",
      "  1%|▍                                                                         | 1227/191926 [00:25<1:06:19, 47.93it/s]\n",
      "  1%|▍                                                                         | 1232/191926 [00:26<1:07:23, 47.16it/s]\n",
      "  1%|▍                                                                         | 1237/191926 [00:26<1:07:51, 46.83it/s]\n",
      "  1%|▍                                                                         | 1242/191926 [00:26<1:07:36, 47.01it/s]\n",
      "  1%|▍                                                                         | 1247/191926 [00:26<1:08:10, 46.62it/s]\n",
      "  1%|▍                                                                         | 1252/191926 [00:26<1:08:34, 46.35it/s]\n",
      "  1%|▍                                                                         | 1257/191926 [00:26<1:10:40, 44.96it/s]\n",
      "  1%|▍                                                                         | 1262/191926 [00:26<1:11:20, 44.54it/s]\n",
      "  1%|▍                                                                         | 1267/191926 [00:26<1:10:15, 45.23it/s]\n",
      "  1%|▍                                                                         | 1272/191926 [00:26<1:08:36, 46.31it/s]\n",
      "  1%|▍                                                                         | 1277/191926 [00:27<1:15:43, 41.96it/s]\n",
      "  1%|▍                                                                         | 1282/191926 [00:27<1:12:25, 43.88it/s]\n",
      "  1%|▍                                                                         | 1287/191926 [00:27<1:11:32, 44.41it/s]\n",
      "  1%|▍                                                                         | 1294/191926 [00:27<1:04:57, 48.91it/s]\n",
      "  1%|▌                                                                         | 1300/191926 [00:27<1:10:17, 45.20it/s]"
     ]
    },
    {
     "name": "stdout",
     "output_type": "stream",
     "text": [
      "loss for 1300 is nan\n"
     ]
    },
    {
     "name": "stderr",
     "output_type": "stream",
     "text": [
      "\n",
      "  1%|▌                                                                         | 1305/191926 [00:27<1:10:28, 45.08it/s]\n",
      "  1%|▌                                                                         | 1310/191926 [00:27<1:13:23, 43.28it/s]\n",
      "  1%|▌                                                                         | 1318/191926 [00:27<1:04:35, 49.18it/s]\n",
      "  1%|▌                                                                         | 1324/191926 [00:28<1:07:00, 47.41it/s]\n",
      "  1%|▌                                                                         | 1331/191926 [00:28<1:01:30, 51.64it/s]\n",
      "  1%|▌                                                                         | 1337/191926 [00:28<1:07:51, 46.81it/s]\n",
      "  1%|▌                                                                         | 1344/191926 [00:28<1:02:23, 50.91it/s]\n",
      "  1%|▌                                                                         | 1350/191926 [00:28<1:03:31, 50.01it/s]\n",
      "  1%|▌                                                                         | 1356/191926 [00:28<1:04:35, 49.17it/s]\n",
      "  1%|▌                                                                         | 1362/191926 [00:28<1:08:26, 46.40it/s]\n",
      "  1%|▌                                                                         | 1369/191926 [00:28<1:02:24, 50.89it/s]\n",
      "  1%|▌                                                                         | 1375/191926 [00:29<1:06:06, 48.04it/s]\n",
      "  1%|▌                                                                         | 1380/191926 [00:29<1:06:27, 47.79it/s]\n",
      "  1%|▌                                                                           | 1388/191926 [00:29<59:32, 53.34it/s]\n",
      "  1%|▌                                                                         | 1394/191926 [00:29<1:01:31, 51.62it/s]\n",
      "  1%|▌                                                                         | 1400/191926 [00:29<1:05:23, 48.57it/s]"
     ]
    },
    {
     "name": "stdout",
     "output_type": "stream",
     "text": [
      "loss for 1400 is nan\n"
     ]
    },
    {
     "name": "stderr",
     "output_type": "stream",
     "text": [
      "\n",
      "  1%|▌                                                                         | 1406/191926 [00:29<1:07:52, 46.79it/s]\n",
      "  1%|▌                                                                         | 1412/191926 [00:29<1:07:36, 46.96it/s]\n",
      "  1%|▌                                                                         | 1418/191926 [00:29<1:07:32, 47.01it/s]\n",
      "  1%|▌                                                                         | 1423/191926 [00:30<1:08:15, 46.51it/s]\n",
      "  1%|▌                                                                         | 1428/191926 [00:30<1:07:59, 46.70it/s]\n",
      "  1%|▌                                                                         | 1434/191926 [00:30<1:07:25, 47.09it/s]\n",
      "  1%|▌                                                                         | 1441/191926 [00:30<1:02:04, 51.14it/s]\n",
      "  1%|▌                                                                         | 1447/191926 [00:30<1:08:14, 46.52it/s]\n",
      "  1%|▌                                                                         | 1455/191926 [00:30<1:00:47, 52.21it/s]\n",
      "  1%|▌                                                                         | 1461/191926 [00:30<1:02:33, 50.74it/s]\n",
      "  1%|▌                                                                         | 1467/191926 [00:30<1:06:21, 47.84it/s]\n",
      "  1%|▌                                                                           | 1479/191926 [00:31<56:25, 56.25it/s]\n",
      "  1%|▌                                                                         | 1486/191926 [00:31<1:00:17, 52.65it/s]\n",
      "  1%|▌                                                                         | 1492/191926 [00:31<1:02:02, 51.16it/s]\n",
      "  1%|▌                                                                           | 1500/191926 [00:31<58:17, 54.44it/s]"
     ]
    },
    {
     "name": "stdout",
     "output_type": "stream",
     "text": [
      "loss for 1500 is nan\n"
     ]
    },
    {
     "name": "stderr",
     "output_type": "stream",
     "text": [
      "\n",
      "  1%|▌                                                                           | 1506/191926 [00:31<58:09, 54.57it/s]\n",
      "  1%|▌                                                                         | 1512/191926 [00:31<1:00:14, 52.67it/s]\n",
      "  1%|▌                                                                         | 1518/191926 [00:31<1:03:30, 49.96it/s]\n",
      "  1%|▌                                                                           | 1525/191926 [00:31<58:45, 54.01it/s]\n",
      "  1%|▌                                                                         | 1531/191926 [00:32<1:01:02, 51.98it/s]\n",
      "  1%|▌                                                                           | 1540/191926 [00:32<53:56, 58.82it/s]\n",
      "  1%|▌                                                                           | 1549/191926 [00:32<49:19, 64.32it/s]\n",
      "  1%|▌                                                                           | 1556/191926 [00:32<53:38, 59.14it/s]\n",
      "  1%|▌                                                                           | 1563/191926 [00:32<54:32, 58.17it/s]\n",
      "  1%|▌                                                                           | 1570/191926 [00:32<52:45, 60.14it/s]\n",
      "  1%|▌                                                                           | 1577/191926 [00:32<58:51, 53.90it/s]\n",
      "  1%|▌                                                                         | 1583/191926 [00:32<1:01:16, 51.78it/s]\n",
      "  1%|▌                                                                         | 1589/191926 [00:33<1:04:39, 49.06it/s]\n",
      "  1%|▋                                                                           | 1599/191926 [00:33<55:55, 56.72it/s]"
     ]
    },
    {
     "name": "stdout",
     "output_type": "stream",
     "text": [
      "loss for 1600 is nan\n"
     ]
    },
    {
     "name": "stderr",
     "output_type": "stream",
     "text": [
      "\n",
      "  1%|▋                                                                           | 1608/191926 [00:33<50:42, 62.55it/s]\n",
      "  1%|▋                                                                           | 1617/191926 [00:33<47:03, 67.40it/s]\n",
      "  1%|▋                                                                           | 1626/191926 [00:33<44:29, 71.28it/s]\n",
      "  1%|▋                                                                           | 1634/191926 [00:33<51:16, 61.86it/s]\n",
      "  1%|▋                                                                           | 1644/191926 [00:33<48:15, 65.72it/s]\n",
      "  1%|▋                                                                           | 1652/191926 [00:33<46:29, 68.21it/s]\n",
      "  1%|▋                                                                           | 1661/191926 [00:34<43:44, 72.50it/s]\n",
      "  1%|▋                                                                           | 1670/191926 [00:34<42:17, 74.98it/s]\n",
      "  1%|▋                                                                           | 1680/191926 [00:34<40:00, 79.26it/s]\n",
      "  1%|▋                                                                           | 1689/191926 [00:34<39:33, 80.15it/s]\n",
      "  1%|▋                                                                           | 1698/191926 [00:34<40:53, 77.52it/s]"
     ]
    },
    {
     "name": "stdout",
     "output_type": "stream",
     "text": [
      "loss for 1700 is nan\n"
     ]
    },
    {
     "name": "stderr",
     "output_type": "stream",
     "text": [
      "\n",
      "  1%|▋                                                                           | 1706/191926 [00:34<52:37, 60.24it/s]\n",
      "  1%|▋                                                                           | 1713/191926 [00:34<56:08, 56.47it/s]\n",
      "  1%|▋                                                                           | 1722/191926 [00:34<51:01, 62.13it/s]\n",
      "  1%|▋                                                                           | 1729/191926 [00:35<54:54, 57.73it/s]\n",
      "  1%|▋                                                                           | 1740/191926 [00:35<47:35, 66.59it/s]\n",
      "  1%|▋                                                                           | 1748/191926 [00:35<53:44, 58.98it/s]\n",
      "  1%|▋                                                                           | 1755/191926 [00:35<58:50, 53.87it/s]\n",
      "  1%|▋                                                                         | 1761/191926 [00:35<1:02:34, 50.65it/s]\n",
      "  1%|▋                                                                         | 1767/191926 [00:35<1:05:02, 48.73it/s]\n",
      "  1%|▋                                                                         | 1773/191926 [00:35<1:07:25, 47.00it/s]\n",
      "  1%|▋                                                                         | 1778/191926 [00:36<1:08:09, 46.49it/s]\n",
      "  1%|▋                                                                         | 1783/191926 [00:36<1:11:00, 44.63it/s]\n",
      "  1%|▋                                                                         | 1788/191926 [00:36<1:13:28, 43.13it/s]\n",
      "  1%|▋                                                                         | 1797/191926 [00:36<1:02:58, 50.32it/s]"
     ]
    },
    {
     "name": "stdout",
     "output_type": "stream",
     "text": [
      "loss for 1800 is nan\n"
     ]
    },
    {
     "name": "stderr",
     "output_type": "stream",
     "text": [
      "\n",
      "  1%|▋                                                                         | 1803/191926 [00:36<1:03:53, 49.60it/s]\n",
      "  1%|▋                                                                         | 1809/191926 [00:36<1:02:57, 50.33it/s]\n",
      "  1%|▋                                                                         | 1815/191926 [00:36<1:06:00, 48.00it/s]\n",
      "  1%|▋                                                                         | 1821/191926 [00:36<1:15:38, 41.89it/s]\n",
      "  1%|▋                                                                         | 1826/191926 [00:37<1:16:49, 41.24it/s]\n",
      "  1%|▋                                                                         | 1834/191926 [00:37<1:06:22, 47.73it/s]\n",
      "  1%|▋                                                                           | 1843/191926 [00:37<58:00, 54.61it/s]\n",
      "  1%|▋                                                                         | 1850/191926 [00:37<1:06:03, 47.96it/s]\n",
      "  1%|▋                                                                         | 1856/191926 [00:37<1:08:43, 46.09it/s]\n",
      "  1%|▋                                                                         | 1862/191926 [00:37<1:10:37, 44.85it/s]\n",
      "  1%|▋                                                                         | 1867/191926 [00:37<1:13:27, 43.12it/s]\n",
      "  1%|▋                                                                         | 1872/191926 [00:37<1:12:20, 43.79it/s]\n",
      "  1%|▋                                                                         | 1877/191926 [00:38<1:13:19, 43.20it/s]\n",
      "  1%|▋                                                                         | 1882/191926 [00:38<1:15:04, 42.19it/s]\n",
      "  1%|▋                                                                         | 1889/191926 [00:38<1:07:23, 47.00it/s]\n",
      "  1%|▋                                                                         | 1894/191926 [00:38<1:07:57, 46.61it/s]\n",
      "  1%|▋                                                                         | 1899/191926 [00:38<1:14:16, 42.64it/s]"
     ]
    },
    {
     "name": "stdout",
     "output_type": "stream",
     "text": [
      "loss for 1900 is nan\n"
     ]
    },
    {
     "name": "stderr",
     "output_type": "stream",
     "text": [
      "\n",
      "  1%|▋                                                                         | 1904/191926 [00:38<1:18:34, 40.30it/s]\n",
      "  1%|▋                                                                         | 1911/191926 [00:38<1:09:07, 45.82it/s]\n",
      "  1%|▋                                                                         | 1916/191926 [00:38<1:11:44, 44.14it/s]\n",
      "  1%|▋                                                                         | 1921/191926 [00:39<1:15:43, 41.82it/s]\n",
      "  1%|▋                                                                         | 1926/191926 [00:39<1:17:40, 40.77it/s]\n",
      "  1%|▋                                                                         | 1933/191926 [00:39<1:09:12, 45.75it/s]\n",
      "  1%|▋                                                                         | 1941/191926 [00:39<1:01:25, 51.54it/s]\n",
      "  1%|▊                                                                           | 1949/191926 [00:39<57:50, 54.74it/s]\n",
      "  1%|▊                                                                           | 1956/191926 [00:39<54:30, 58.08it/s]\n",
      "  1%|▊                                                                           | 1965/191926 [00:39<50:14, 63.01it/s]\n",
      "  1%|▊                                                                           | 1975/191926 [00:39<46:48, 67.63it/s]\n",
      "  1%|▊                                                                           | 1983/191926 [00:40<49:33, 63.88it/s]\n",
      "  1%|▊                                                                           | 1990/191926 [00:40<55:27, 57.09it/s]\n",
      "  1%|▊                                                                           | 1997/191926 [00:40<53:39, 59.00it/s]"
     ]
    },
    {
     "name": "stdout",
     "output_type": "stream",
     "text": [
      "loss for 2000 is nan\n"
     ]
    },
    {
     "name": "stderr",
     "output_type": "stream",
     "text": [
      "\n",
      "  1%|▊                                                                           | 2004/191926 [00:40<54:30, 58.07it/s]\n",
      "  1%|▊                                                                           | 2014/191926 [00:40<48:32, 65.21it/s]\n",
      "  1%|▊                                                                           | 2021/191926 [00:40<55:34, 56.94it/s]\n",
      "  1%|▊                                                                         | 2028/191926 [00:40<1:03:04, 50.17it/s]\n",
      "  1%|▊                                                                         | 2034/191926 [00:41<1:10:36, 44.83it/s]\n",
      "  1%|▊                                                                         | 2040/191926 [00:41<1:06:23, 47.67it/s]\n",
      "  1%|▊                                                                         | 2047/191926 [00:41<1:01:18, 51.62it/s]\n",
      "  1%|▊                                                                         | 2053/191926 [00:41<1:00:12, 52.56it/s]\n",
      "  1%|▊                                                                         | 2059/191926 [00:41<1:00:50, 52.00it/s]\n",
      "  1%|▊                                                                         | 2065/191926 [00:41<1:05:47, 48.09it/s]\n",
      "  1%|▊                                                                         | 2070/191926 [00:41<1:09:58, 45.22it/s]\n",
      "  1%|▊                                                                         | 2075/191926 [00:41<1:13:48, 42.87it/s]\n",
      "  1%|▊                                                                         | 2085/191926 [00:41<1:01:27, 51.49it/s]\n",
      "  1%|▊                                                                         | 2092/191926 [00:42<1:00:02, 52.70it/s]\n",
      "  1%|▊                                                                           | 2100/191926 [00:42<55:00, 57.52it/s]"
     ]
    },
    {
     "name": "stdout",
     "output_type": "stream",
     "text": [
      "loss for 2100 is nan\n"
     ]
    },
    {
     "name": "stderr",
     "output_type": "stream",
     "text": [
      "\n",
      "  1%|▊                                                                           | 2107/191926 [00:42<57:33, 54.96it/s]\n",
      "  1%|▊                                                                           | 2117/191926 [00:42<50:40, 62.44it/s]\n",
      "  1%|▊                                                                           | 2124/191926 [00:42<51:31, 61.40it/s]\n",
      "  1%|▊                                                                           | 2131/191926 [00:42<52:14, 60.55it/s]\n",
      "  1%|▊                                                                           | 2138/191926 [00:42<53:43, 58.87it/s]\n",
      "  1%|▊                                                                           | 2145/191926 [00:42<57:19, 55.17it/s]\n",
      "  1%|▊                                                                         | 2151/191926 [00:43<1:00:37, 52.17it/s]\n",
      "  1%|▊                                                                           | 2157/191926 [00:43<59:44, 52.95it/s]\n",
      "  1%|▊                                                                           | 2164/191926 [00:43<56:38, 55.84it/s]\n",
      "  1%|▊                                                                           | 2171/191926 [00:43<56:34, 55.90it/s]\n",
      "  1%|▊                                                                         | 2177/191926 [00:43<1:06:34, 47.51it/s]\n",
      "  1%|▊                                                                         | 2183/191926 [00:43<1:09:37, 45.43it/s]\n",
      "  1%|▊                                                                         | 2190/191926 [00:43<1:04:24, 49.09it/s]\n",
      "  1%|▊                                                                           | 2197/191926 [00:44<58:57, 53.63it/s]"
     ]
    },
    {
     "name": "stdout",
     "output_type": "stream",
     "text": [
      "loss for 2200 is nan\n"
     ]
    },
    {
     "name": "stderr",
     "output_type": "stream",
     "text": [
      "\n",
      "  1%|▊                                                                           | 2203/191926 [00:44<58:06, 54.41it/s]\n",
      "  1%|▊                                                                         | 2209/191926 [00:44<1:07:50, 46.61it/s]\n",
      "  1%|▊                                                                         | 2215/191926 [00:44<1:12:11, 43.80it/s]\n",
      "  1%|▊                                                                         | 2220/191926 [00:44<1:14:14, 42.59it/s]\n",
      "  1%|▊                                                                         | 2225/191926 [00:44<1:15:26, 41.91it/s]\n",
      "  1%|▊                                                                         | 2230/191926 [00:44<1:17:34, 40.75it/s]\n",
      "  1%|▊                                                                         | 2235/191926 [00:44<1:14:34, 42.39it/s]\n",
      "  1%|▊                                                                         | 2240/191926 [00:45<1:16:01, 41.58it/s]\n",
      "  1%|▊                                                                         | 2246/191926 [00:45<1:12:26, 43.64it/s]\n",
      "  1%|▊                                                                         | 2251/191926 [00:45<1:11:26, 44.25it/s]\n",
      "  1%|▊                                                                         | 2256/191926 [00:45<1:13:42, 42.88it/s]\n",
      "  1%|▊                                                                         | 2261/191926 [00:45<1:12:20, 43.70it/s]\n",
      "  1%|▊                                                                         | 2266/191926 [00:45<1:13:14, 43.16it/s]\n",
      "  1%|▉                                                                         | 2273/191926 [00:45<1:05:11, 48.48it/s]\n",
      "  1%|▉                                                                         | 2279/191926 [00:45<1:07:31, 46.81it/s]\n",
      "  1%|▉                                                                         | 2285/191926 [00:46<1:06:44, 47.35it/s]\n",
      "  1%|▉                                                                         | 2290/191926 [00:46<1:07:43, 46.67it/s]\n",
      "  1%|▉                                                                           | 2299/191926 [00:46<58:55, 53.64it/s]"
     ]
    },
    {
     "name": "stdout",
     "output_type": "stream",
     "text": [
      "loss for 2300 is nan\n"
     ]
    },
    {
     "name": "stderr",
     "output_type": "stream",
     "text": [
      "\n",
      "  1%|▉                                                                         | 2305/191926 [00:46<1:07:20, 46.93it/s]\n",
      "  1%|▉                                                                         | 2311/191926 [00:46<1:09:21, 45.57it/s]\n",
      "  1%|▉                                                                         | 2316/191926 [00:46<1:10:19, 44.94it/s]\n",
      "  1%|▉                                                                         | 2324/191926 [00:46<1:02:46, 50.33it/s]\n",
      "  1%|▉                                                                         | 2330/191926 [00:46<1:07:43, 46.66it/s]\n",
      "  1%|▉                                                                         | 2338/191926 [00:47<1:00:59, 51.81it/s]\n",
      "  1%|▉                                                                         | 2344/191926 [00:47<1:02:01, 50.94it/s]\n",
      "  1%|▉                                                                           | 2355/191926 [00:47<52:50, 59.80it/s]\n",
      "  1%|▉                                                                         | 2362/191926 [00:47<1:00:15, 52.44it/s]\n",
      "  1%|▉                                                                           | 2368/191926 [00:47<59:26, 53.14it/s]\n",
      "  1%|▉                                                                           | 2374/191926 [00:47<58:40, 53.85it/s]\n",
      "  1%|▉                                                                           | 2382/191926 [00:47<54:42, 57.74it/s]\n",
      "  1%|▉                                                                           | 2390/191926 [00:47<51:52, 60.90it/s]\n",
      "  1%|▉                                                                           | 2397/191926 [00:48<56:10, 56.23it/s]"
     ]
    },
    {
     "name": "stdout",
     "output_type": "stream",
     "text": [
      "loss for 2400 is nan\n"
     ]
    },
    {
     "name": "stderr",
     "output_type": "stream",
     "text": [
      "\n",
      "  1%|▉                                                                           | 2405/191926 [00:48<52:22, 60.32it/s]\n",
      "  1%|▉                                                                           | 2412/191926 [00:48<53:34, 58.96it/s]\n",
      "  1%|▉                                                                           | 2421/191926 [00:48<48:40, 64.88it/s]\n",
      "  1%|▉                                                                           | 2428/191926 [00:48<59:26, 53.13it/s]\n",
      "  1%|▉                                                                         | 2434/191926 [00:48<1:09:52, 45.19it/s]\n",
      "  1%|▉                                                                         | 2440/191926 [00:48<1:11:27, 44.20it/s]\n",
      "  1%|▉                                                                         | 2445/191926 [00:49<1:18:24, 40.27it/s]\n",
      "  1%|▉                                                                         | 2450/191926 [00:49<1:15:44, 41.69it/s]\n",
      "  1%|▉                                                                         | 2455/191926 [00:49<1:16:41, 41.17it/s]\n",
      "  1%|▉                                                                         | 2460/191926 [00:49<1:17:21, 40.82it/s]\n",
      "  1%|▉                                                                         | 2465/191926 [00:49<1:17:49, 40.57it/s]\n",
      "  1%|▉                                                                         | 2470/191926 [00:49<1:18:05, 40.43it/s]\n",
      "  1%|▉                                                                         | 2475/191926 [00:49<1:21:34, 38.71it/s]\n",
      "  1%|▉                                                                         | 2479/191926 [00:49<1:24:11, 37.50it/s]\n",
      "  1%|▉                                                                         | 2483/191926 [00:49<1:26:58, 36.30it/s]\n",
      "  1%|▉                                                                         | 2487/191926 [00:50<1:26:58, 36.30it/s]\n",
      "  1%|▉                                                                         | 2491/191926 [00:50<1:28:44, 35.58it/s]\n",
      "  1%|▉                                                                         | 2496/191926 [00:50<1:26:39, 36.43it/s]\n",
      "  1%|▉                                                                         | 2500/191926 [00:50<1:30:15, 34.98it/s]"
     ]
    },
    {
     "name": "stdout",
     "output_type": "stream",
     "text": [
      "loss for 2500 is nan\n"
     ]
    },
    {
     "name": "stderr",
     "output_type": "stream",
     "text": [
      "\n",
      "  1%|▉                                                                         | 2504/191926 [00:50<1:29:18, 35.35it/s]\n",
      "  1%|▉                                                                         | 2508/191926 [00:50<1:28:44, 35.58it/s]\n",
      "  1%|▉                                                                         | 2512/191926 [00:50<1:26:27, 36.51it/s]\n",
      "  1%|▉                                                                         | 2519/191926 [00:50<1:14:25, 42.41it/s]\n",
      "  1%|▉                                                                         | 2526/191926 [00:51<1:08:50, 45.85it/s]\n",
      "  1%|▉                                                                         | 2531/191926 [00:51<1:08:18, 46.22it/s]\n",
      "  1%|▉                                                                         | 2536/191926 [00:51<1:08:31, 46.07it/s]\n",
      "  1%|▉                                                                         | 2543/191926 [00:51<1:01:30, 51.32it/s]\n",
      "  1%|█                                                                           | 2551/191926 [00:51<57:50, 54.57it/s]\n",
      "  1%|█                                                                           | 2563/191926 [00:51<49:06, 64.26it/s]\n",
      "  1%|█                                                                           | 2573/191926 [00:51<44:53, 70.29it/s]\n",
      "  1%|█                                                                           | 2583/191926 [00:51<42:09, 74.85it/s]\n",
      "  1%|█                                                                           | 2592/191926 [00:51<40:02, 78.81it/s]"
     ]
    },
    {
     "name": "stdout",
     "output_type": "stream",
     "text": [
      "loss for 2600 is nan\n"
     ]
    },
    {
     "name": "stderr",
     "output_type": "stream",
     "text": [
      "\n",
      "  1%|█                                                                           | 2601/191926 [00:52<42:53, 73.58it/s]\n",
      "  1%|█                                                                           | 2609/191926 [00:52<54:16, 58.13it/s]\n",
      "  1%|█                                                                         | 2616/191926 [00:52<1:02:25, 50.55it/s]\n",
      "  1%|█                                                                         | 2622/191926 [00:52<1:08:20, 46.17it/s]\n",
      "  1%|█                                                                         | 2628/191926 [00:52<1:10:38, 44.66it/s]\n",
      "  1%|█                                                                         | 2638/191926 [00:52<1:00:16, 52.33it/s]\n",
      "  1%|█                                                                         | 2645/191926 [00:53<1:06:54, 47.15it/s]\n",
      "  1%|█                                                                         | 2651/191926 [00:53<1:03:33, 49.63it/s]\n",
      "  1%|█                                                                         | 2657/191926 [00:53<1:01:44, 51.09it/s]\n",
      "  1%|█                                                                         | 2663/191926 [00:53<1:00:27, 52.17it/s]\n",
      "  1%|█                                                                           | 2670/191926 [00:53<57:06, 55.24it/s]\n",
      "  1%|█                                                                         | 2676/191926 [00:53<1:01:43, 51.09it/s]\n",
      "  1%|█                                                                         | 2682/191926 [00:53<1:08:35, 45.98it/s]\n",
      "  1%|█                                                                         | 2687/191926 [00:53<1:07:23, 46.80it/s]\n",
      "  1%|█                                                                         | 2692/191926 [00:53<1:10:58, 44.44it/s]\n",
      "  1%|█                                                                         | 2697/191926 [00:54<1:11:15, 44.26it/s]"
     ]
    },
    {
     "name": "stdout",
     "output_type": "stream",
     "text": [
      "loss for 2700 is nan\n"
     ]
    },
    {
     "name": "stderr",
     "output_type": "stream",
     "text": [
      "\n",
      "  1%|█                                                                         | 2704/191926 [00:54<1:04:50, 48.64it/s]\n",
      "  1%|█                                                                         | 2710/191926 [00:54<1:05:05, 48.45it/s]\n",
      "  1%|█                                                                         | 2717/191926 [00:54<1:00:20, 52.26it/s]\n",
      "  1%|█                                                                         | 2723/191926 [00:54<1:07:12, 46.92it/s]\n",
      "  1%|█                                                                         | 2728/191926 [00:54<1:07:59, 46.38it/s]\n",
      "  1%|█                                                                         | 2735/191926 [00:54<1:03:05, 49.97it/s]\n",
      "  1%|█                                                                         | 2741/191926 [00:55<1:10:11, 44.92it/s]\n",
      "  1%|█                                                                         | 2746/191926 [00:55<1:12:23, 43.55it/s]\n",
      "  1%|█                                                                         | 2751/191926 [00:55<1:17:16, 40.80it/s]\n",
      "  1%|█                                                                         | 2756/191926 [00:55<1:20:41, 39.08it/s]\n",
      "  1%|█                                                                         | 2761/191926 [00:55<1:23:04, 37.95it/s]\n",
      "  1%|█                                                                         | 2765/191926 [00:55<1:24:41, 37.22it/s]\n",
      "  1%|█                                                                         | 2769/191926 [00:55<1:25:23, 36.92it/s]\n",
      "  1%|█                                                                         | 2773/191926 [00:55<1:26:49, 36.31it/s]\n",
      "  1%|█                                                                         | 2781/191926 [00:55<1:13:48, 42.71it/s]\n",
      "  1%|█                                                                         | 2790/191926 [00:56<1:03:39, 49.52it/s]\n",
      "  1%|█                                                                         | 2796/191926 [00:56<1:06:43, 47.25it/s]"
     ]
    },
    {
     "name": "stdout",
     "output_type": "stream",
     "text": [
      "loss for 2800 is nan\n"
     ]
    },
    {
     "name": "stderr",
     "output_type": "stream",
     "text": [
      "\n",
      "  1%|█                                                                         | 2802/191926 [00:56<1:06:23, 47.47it/s]\n",
      "  1%|█                                                                         | 2808/191926 [00:56<1:06:10, 47.63it/s]\n",
      "  1%|█                                                                         | 2814/191926 [00:56<1:10:44, 44.55it/s]\n",
      "  1%|█                                                                         | 2822/191926 [00:56<1:03:06, 49.94it/s]\n",
      "  1%|█                                                                         | 2828/191926 [00:56<1:04:41, 48.72it/s]\n",
      "  1%|█                                                                         | 2834/191926 [00:57<1:04:04, 49.19it/s]\n",
      "  1%|█▏                                                                          | 2842/191926 [00:57<57:23, 54.92it/s]\n",
      "  1%|█▏                                                                          | 2849/191926 [00:57<54:56, 57.36it/s]\n",
      "  1%|█▏                                                                          | 2856/191926 [00:57<59:32, 52.92it/s]\n",
      "  1%|█                                                                         | 2862/191926 [00:57<1:08:45, 45.83it/s]\n",
      "  1%|█                                                                         | 2867/191926 [00:57<1:08:43, 45.85it/s]\n",
      "  1%|█                                                                         | 2872/191926 [00:57<1:12:01, 43.75it/s]\n",
      "  1%|█                                                                         | 2878/191926 [00:57<1:07:11, 46.90it/s]\n",
      "  2%|█                                                                         | 2887/191926 [00:58<1:00:38, 51.95it/s]\n",
      "  2%|█                                                                         | 2893/191926 [00:58<1:01:37, 51.12it/s]\n",
      "  2%|█                                                                         | 2899/191926 [00:58<1:00:21, 52.19it/s]"
     ]
    },
    {
     "name": "stdout",
     "output_type": "stream",
     "text": [
      "loss for 2900 is nan\n"
     ]
    },
    {
     "name": "stderr",
     "output_type": "stream",
     "text": [
      "\n",
      "  2%|█                                                                         | 2905/191926 [00:58<1:04:23, 48.92it/s]\n",
      "  2%|█▏                                                                          | 2916/191926 [00:58<54:28, 57.83it/s]\n",
      "  2%|█▏                                                                          | 2923/191926 [00:58<54:45, 57.52it/s]\n",
      "  2%|█▏                                                                          | 2931/191926 [00:58<53:42, 58.64it/s]\n",
      "  2%|█▏                                                                          | 2938/191926 [00:58<58:57, 53.42it/s]\n",
      "  2%|█▏                                                                        | 2944/191926 [00:59<1:05:59, 47.73it/s]\n",
      "  2%|█▏                                                                        | 2950/191926 [00:59<1:04:41, 48.69it/s]\n",
      "  2%|█▏                                                                        | 2956/191926 [00:59<1:02:30, 50.39it/s]\n",
      "  2%|█▏                                                                        | 2962/191926 [00:59<1:00:58, 51.66it/s]\n",
      "  2%|█▏                                                                        | 2968/191926 [00:59<1:04:48, 48.59it/s]\n",
      "  2%|█▏                                                                        | 2975/191926 [00:59<1:00:24, 52.13it/s]\n",
      "  2%|█▏                                                                          | 2985/191926 [00:59<52:42, 59.74it/s]\n",
      "  2%|█▏                                                                          | 2993/191926 [00:59<52:05, 60.46it/s]\n",
      "  2%|█▏                                                                          | 3000/191926 [01:00<59:45, 52.69it/s]"
     ]
    },
    {
     "name": "stdout",
     "output_type": "stream",
     "text": [
      "loss for 3000 is nan\n"
     ]
    },
    {
     "name": "stderr",
     "output_type": "stream",
     "text": [
      "\n",
      "  2%|█▏                                                                          | 3006/191926 [01:00<57:52, 54.41it/s]\n",
      "  2%|█▏                                                                          | 3013/191926 [01:00<55:15, 56.97it/s]\n",
      "  2%|█▏                                                                          | 3020/191926 [01:00<53:26, 58.92it/s]\n",
      "  2%|█▏                                                                          | 3027/191926 [01:00<54:15, 58.02it/s]\n",
      "  2%|█▏                                                                        | 3033/191926 [01:00<1:00:22, 52.15it/s]\n",
      "  2%|█▏                                                                          | 3042/191926 [01:00<54:16, 58.00it/s]\n",
      "  2%|█▏                                                                          | 3050/191926 [01:00<51:34, 61.03it/s]\n",
      "  2%|█▏                                                                          | 3060/191926 [01:01<45:46, 68.77it/s]\n",
      "  2%|█▏                                                                          | 3070/191926 [01:01<42:02, 74.86it/s]\n",
      "  2%|█▏                                                                          | 3079/191926 [01:01<44:10, 71.24it/s]\n",
      "  2%|█▏                                                                          | 3087/191926 [01:01<49:21, 63.76it/s]\n",
      "  2%|█▏                                                                          | 3094/191926 [01:01<53:30, 58.81it/s]"
     ]
    },
    {
     "name": "stdout",
     "output_type": "stream",
     "text": [
      "loss for 3100 is nan\n"
     ]
    },
    {
     "name": "stderr",
     "output_type": "stream",
     "text": [
      "\n",
      "  2%|█▏                                                                          | 3101/191926 [01:01<51:58, 60.56it/s]\n",
      "  2%|█▏                                                                          | 3108/191926 [01:01<59:18, 53.06it/s]\n",
      "  2%|█▏                                                                        | 3114/191926 [01:01<1:05:01, 48.40it/s]\n",
      "  2%|█▏                                                                        | 3120/191926 [01:02<1:09:06, 45.53it/s]\n",
      "  2%|█▏                                                                        | 3125/191926 [01:02<1:14:55, 42.00it/s]\n",
      "  2%|█▏                                                                        | 3130/191926 [01:02<1:16:02, 41.38it/s]\n",
      "  2%|█▏                                                                        | 3135/191926 [01:02<1:16:49, 40.96it/s]\n",
      "  2%|█▏                                                                        | 3140/191926 [01:02<1:17:46, 40.46it/s]\n",
      "  2%|█▏                                                                        | 3145/191926 [01:02<1:15:18, 41.78it/s]\n",
      "  2%|█▏                                                                        | 3150/191926 [01:02<1:17:15, 40.73it/s]\n",
      "  2%|█▏                                                                        | 3155/191926 [01:02<1:14:53, 42.01it/s]\n",
      "  2%|█▏                                                                        | 3160/191926 [01:03<1:14:52, 42.02it/s]\n",
      "  2%|█▏                                                                        | 3165/191926 [01:03<1:16:00, 41.39it/s]\n",
      "  2%|█▏                                                                        | 3173/191926 [01:03<1:06:05, 47.59it/s]\n",
      "  2%|█▎                                                                          | 3183/191926 [01:03<56:35, 55.59it/s]\n",
      "  2%|█▏                                                                        | 3190/191926 [01:03<1:07:00, 46.94it/s]\n",
      "  2%|█▏                                                                        | 3196/191926 [01:03<1:12:59, 43.10it/s]"
     ]
    },
    {
     "name": "stdout",
     "output_type": "stream",
     "text": [
      "loss for 3200 is nan\n"
     ]
    },
    {
     "name": "stderr",
     "output_type": "stream",
     "text": [
      "\n",
      "  2%|█▏                                                                        | 3201/191926 [01:03<1:16:20, 41.21it/s]\n",
      "  2%|█▏                                                                        | 3206/191926 [01:04<1:17:10, 40.76it/s]\n",
      "  2%|█▏                                                                        | 3211/191926 [01:04<1:22:10, 38.27it/s]\n",
      "  2%|█▏                                                                        | 3216/191926 [01:04<1:19:41, 39.47it/s]\n",
      "  2%|█▏                                                                        | 3221/191926 [01:04<1:22:18, 38.21it/s]\n",
      "  2%|█▏                                                                        | 3225/191926 [01:04<1:23:41, 37.58it/s]\n",
      "  2%|█▏                                                                        | 3232/191926 [01:04<1:14:35, 42.16it/s]\n",
      "  2%|█▏                                                                        | 3237/191926 [01:04<1:13:07, 43.00it/s]\n",
      "  2%|█▎                                                                        | 3242/191926 [01:04<1:14:58, 41.95it/s]\n",
      "  2%|█▎                                                                        | 3247/191926 [01:05<1:18:30, 40.06it/s]\n",
      "  2%|█▎                                                                        | 3258/191926 [01:05<1:04:19, 48.88it/s]\n",
      "  2%|█▎                                                                        | 3264/191926 [01:05<1:04:40, 48.62it/s]\n",
      "  2%|█▎                                                                        | 3271/191926 [01:05<1:00:00, 52.40it/s]\n",
      "  2%|█▎                                                                        | 3277/191926 [01:05<1:09:33, 45.20it/s]\n",
      "  2%|█▎                                                                        | 3283/191926 [01:05<1:06:06, 47.56it/s]\n",
      "  2%|█▎                                                                        | 3289/191926 [01:05<1:06:13, 47.47it/s]\n",
      "  2%|█▎                                                                        | 3295/191926 [01:05<1:09:19, 45.35it/s]"
     ]
    },
    {
     "name": "stdout",
     "output_type": "stream",
     "text": [
      "loss for 3300 is nan\n"
     ]
    },
    {
     "name": "stderr",
     "output_type": "stream",
     "text": [
      "\n",
      "  2%|█▎                                                                          | 3305/191926 [01:06<58:12, 54.00it/s]\n",
      "  2%|█▎                                                                          | 3312/191926 [01:06<55:28, 56.66it/s]\n",
      "  2%|█▎                                                                          | 3319/191926 [01:06<59:52, 52.50it/s]\n",
      "  2%|█▎                                                                          | 3327/191926 [01:06<56:38, 55.49it/s]\n",
      "  2%|█▎                                                                          | 3339/191926 [01:06<48:58, 64.18it/s]\n",
      "  2%|█▎                                                                          | 3348/191926 [01:06<45:34, 68.97it/s]\n",
      "  2%|█▎                                                                          | 3357/191926 [01:06<42:40, 73.66it/s]\n",
      "  2%|█▎                                                                          | 3365/191926 [01:06<47:39, 65.95it/s]\n",
      "  2%|█▎                                                                          | 3373/191926 [01:07<47:46, 65.77it/s]\n",
      "  2%|█▎                                                                          | 3380/191926 [01:07<52:22, 59.99it/s]\n",
      "  2%|█▎                                                                          | 3388/191926 [01:07<49:33, 63.42it/s]\n",
      "  2%|█▎                                                                          | 3396/191926 [01:07<47:34, 66.06it/s]"
     ]
    },
    {
     "name": "stdout",
     "output_type": "stream",
     "text": [
      "loss for 3400 is nan\n"
     ]
    },
    {
     "name": "stderr",
     "output_type": "stream",
     "text": [
      "\n",
      "  2%|█▎                                                                          | 3404/191926 [01:07<46:10, 68.04it/s]\n",
      "  2%|█▎                                                                          | 3415/191926 [01:07<41:32, 75.63it/s]\n",
      "  2%|█▎                                                                          | 3423/191926 [01:07<48:40, 64.55it/s]\n",
      "  2%|█▎                                                                          | 3431/191926 [01:08<57:16, 54.86it/s]\n",
      "  2%|█▎                                                                        | 3438/191926 [01:08<1:02:46, 50.04it/s]\n",
      "  2%|█▎                                                                        | 3444/191926 [01:08<1:08:28, 45.87it/s]\n",
      "  2%|█▎                                                                        | 3450/191926 [01:08<1:10:00, 44.86it/s]\n",
      "  2%|█▎                                                                        | 3455/191926 [01:08<1:11:19, 44.04it/s]\n",
      "  2%|█▎                                                                        | 3460/191926 [01:08<1:18:16, 40.13it/s]\n",
      "  2%|█▎                                                                        | 3465/191926 [01:08<1:16:21, 41.14it/s]\n",
      "  2%|█▎                                                                        | 3470/191926 [01:09<1:16:28, 41.08it/s]\n",
      "  2%|█▎                                                                        | 3475/191926 [01:09<1:14:17, 42.28it/s]\n",
      "  2%|█▎                                                                        | 3482/191926 [01:09<1:06:43, 47.07it/s]\n",
      "  2%|█▍                                                                          | 3490/191926 [01:09<59:34, 52.71it/s]\n",
      "  2%|█▎                                                                        | 3496/191926 [01:09<1:06:14, 47.41it/s]"
     ]
    },
    {
     "name": "stdout",
     "output_type": "stream",
     "text": [
      "loss for 3500 is nan\n"
     ]
    },
    {
     "name": "stderr",
     "output_type": "stream",
     "text": [
      "\n",
      "  2%|█▎                                                                        | 3503/191926 [01:09<1:03:22, 49.55it/s]\n",
      "  2%|█▎                                                                        | 3509/191926 [01:09<1:11:00, 44.22it/s]\n",
      "  2%|█▎                                                                        | 3514/191926 [01:09<1:24:37, 37.11it/s]\n",
      "  2%|█▎                                                                        | 3519/191926 [01:10<1:22:27, 38.08it/s]\n",
      "  2%|█▎                                                                        | 3524/191926 [01:10<1:18:19, 40.09it/s]\n",
      "  2%|█▎                                                                        | 3530/191926 [01:10<1:14:26, 42.18it/s]\n",
      "  2%|█▎                                                                        | 3538/191926 [01:10<1:04:40, 48.54it/s]\n",
      "  2%|█▎                                                                        | 3544/191926 [01:10<1:09:30, 45.17it/s]\n",
      "  2%|█▎                                                                        | 3550/191926 [01:10<1:04:53, 48.38it/s]\n",
      "  2%|█▎                                                                        | 3556/191926 [01:10<1:12:37, 43.23it/s]\n",
      "  2%|█▎                                                                        | 3561/191926 [01:11<1:25:42, 36.63it/s]\n",
      "  2%|█▎                                                                        | 3566/191926 [01:11<1:22:32, 38.03it/s]\n",
      "  2%|█▍                                                                        | 3571/191926 [01:11<1:24:15, 37.26it/s]\n",
      "  2%|█▍                                                                        | 3576/191926 [01:11<1:19:34, 39.45it/s]\n",
      "  2%|█▍                                                                        | 3583/191926 [01:11<1:10:24, 44.58it/s]\n",
      "  2%|█▍                                                                          | 3593/191926 [01:11<59:54, 52.40it/s]\n",
      "  2%|█▍                                                                        | 3600/191926 [01:11<1:01:03, 51.40it/s]"
     ]
    },
    {
     "name": "stdout",
     "output_type": "stream",
     "text": [
      "loss for 3600 is nan\n"
     ]
    },
    {
     "name": "stderr",
     "output_type": "stream",
     "text": [
      "\n",
      "  2%|█▍                                                                          | 3608/191926 [01:11<57:11, 54.88it/s]\n",
      "  2%|█▍                                                                          | 3615/191926 [01:12<54:24, 57.69it/s]\n",
      "  2%|█▍                                                                          | 3622/191926 [01:12<53:07, 59.08it/s]\n",
      "  2%|█▍                                                                        | 3629/191926 [01:12<1:04:29, 48.66it/s]\n",
      "  2%|█▍                                                                        | 3635/191926 [01:12<1:09:39, 45.05it/s]\n",
      "  2%|█▍                                                                        | 3640/191926 [01:12<1:11:03, 44.16it/s]\n",
      "  2%|█▍                                                                        | 3646/191926 [01:12<1:10:46, 44.34it/s]\n",
      "  2%|█▍                                                                        | 3651/191926 [01:12<1:16:00, 41.29it/s]\n",
      "  2%|█▍                                                                        | 3656/191926 [01:13<1:19:23, 39.52it/s]\n",
      "  2%|█▍                                                                        | 3661/191926 [01:13<1:18:29, 39.98it/s]\n",
      "  2%|█▍                                                                        | 3666/191926 [01:13<1:15:31, 41.55it/s]\n",
      "  2%|█▍                                                                        | 3671/191926 [01:13<1:16:23, 41.07it/s]\n",
      "  2%|█▍                                                                        | 3676/191926 [01:13<1:14:03, 42.37it/s]\n",
      "  2%|█▍                                                                        | 3681/191926 [01:13<1:16:33, 40.98it/s]\n",
      "  2%|█▍                                                                        | 3686/191926 [01:13<1:15:56, 41.31it/s]\n",
      "  2%|█▍                                                                        | 3691/191926 [01:13<1:12:31, 43.26it/s]\n",
      "  2%|█▍                                                                        | 3699/191926 [01:13<1:05:09, 48.14it/s]"
     ]
    },
    {
     "name": "stdout",
     "output_type": "stream",
     "text": [
      "loss for 3700 is nan\n"
     ]
    },
    {
     "name": "stderr",
     "output_type": "stream",
     "text": [
      "\n",
      "  2%|█▍                                                                        | 3705/191926 [01:14<1:09:04, 45.42it/s]\n",
      "  2%|█▍                                                                        | 3711/191926 [01:14<1:05:29, 47.89it/s]\n",
      "  2%|█▍                                                                        | 3717/191926 [01:14<1:05:26, 47.93it/s]\n",
      "  2%|█▍                                                                        | 3722/191926 [01:14<1:06:23, 47.25it/s]\n",
      "  2%|█▍                                                                        | 3727/191926 [01:14<1:18:57, 39.73it/s]\n",
      "  2%|█▍                                                                        | 3734/191926 [01:14<1:10:10, 44.70it/s]\n",
      "  2%|█▍                                                                        | 3739/191926 [01:14<1:08:22, 45.87it/s]\n",
      "  2%|█▍                                                                        | 3744/191926 [01:14<1:09:59, 44.81it/s]\n",
      "  2%|█▍                                                                        | 3752/191926 [01:15<1:02:05, 50.51it/s]\n",
      "  2%|█▍                                                                          | 3759/191926 [01:15<56:54, 55.11it/s]\n",
      "  2%|█▍                                                                          | 3767/191926 [01:15<52:31, 59.70it/s]\n",
      "  2%|█▍                                                                          | 3774/191926 [01:15<58:16, 53.81it/s]\n",
      "  2%|█▍                                                                          | 3780/191926 [01:15<59:36, 52.61it/s]\n",
      "  2%|█▍                                                                        | 3786/191926 [01:15<1:08:41, 45.65it/s]\n",
      "  2%|█▍                                                                        | 3791/191926 [01:15<1:15:37, 41.47it/s]\n",
      "  2%|█▍                                                                        | 3796/191926 [01:16<1:17:41, 40.36it/s]"
     ]
    },
    {
     "name": "stdout",
     "output_type": "stream",
     "text": [
      "loss for 3800 is nan\n"
     ]
    },
    {
     "name": "stderr",
     "output_type": "stream",
     "text": [
      "\n",
      "  2%|█▍                                                                        | 3801/191926 [01:16<1:18:31, 39.93it/s]\n",
      "  2%|█▍                                                                        | 3808/191926 [01:16<1:10:01, 44.78it/s]\n",
      "  2%|█▍                                                                        | 3813/191926 [01:16<1:10:49, 44.26it/s]\n",
      "  2%|█▍                                                                        | 3818/191926 [01:16<1:09:53, 44.85it/s]\n",
      "  2%|█▍                                                                        | 3823/191926 [01:16<1:08:29, 45.77it/s]\n",
      "  2%|█▍                                                                        | 3828/191926 [01:16<1:15:01, 41.78it/s]\n",
      "  2%|█▍                                                                        | 3833/191926 [01:16<1:16:35, 40.93it/s]\n",
      "  2%|█▍                                                                        | 3840/191926 [01:16<1:07:35, 46.38it/s]\n",
      "  2%|█▍                                                                        | 3845/191926 [01:17<1:09:07, 45.35it/s]\n",
      "  2%|█▍                                                                        | 3850/191926 [01:17<1:07:56, 46.13it/s]\n",
      "  2%|█▍                                                                        | 3855/191926 [01:17<1:17:39, 40.37it/s]\n",
      "  2%|█▍                                                                        | 3860/191926 [01:17<1:16:55, 40.75it/s]\n",
      "  2%|█▍                                                                        | 3867/191926 [01:17<1:08:21, 45.86it/s]\n",
      "  2%|█▍                                                                        | 3873/191926 [01:17<1:04:46, 48.39it/s]\n",
      "  2%|█▌                                                                          | 3881/191926 [01:17<58:30, 53.57it/s]\n",
      "  2%|█▍                                                                        | 3887/191926 [01:17<1:14:13, 42.22it/s]\n",
      "  2%|█▌                                                                        | 3893/191926 [01:18<1:09:30, 45.09it/s]\n",
      "  2%|█▌                                                                        | 3899/191926 [01:18<1:12:28, 43.24it/s]"
     ]
    },
    {
     "name": "stdout",
     "output_type": "stream",
     "text": [
      "loss for 3900 is nan\n"
     ]
    },
    {
     "name": "stderr",
     "output_type": "stream",
     "text": [
      "\n",
      "  2%|█▌                                                                        | 3904/191926 [01:18<1:13:17, 42.76it/s]\n",
      "  2%|█▌                                                                        | 3910/191926 [01:18<1:11:21, 43.91it/s]\n",
      "  2%|█▌                                                                        | 3915/191926 [01:18<1:15:31, 41.49it/s]\n",
      "  2%|█▌                                                                        | 3920/191926 [01:18<1:17:27, 40.45it/s]\n",
      "  2%|█▌                                                                        | 3925/191926 [01:18<1:15:43, 41.38it/s]\n",
      "  2%|█▌                                                                        | 3930/191926 [01:18<1:13:41, 42.52it/s]\n",
      "  2%|█▌                                                                        | 3935/191926 [01:19<1:10:50, 44.23it/s]\n",
      "  2%|█▌                                                                        | 3940/191926 [01:19<1:10:08, 44.67it/s]\n",
      "  2%|█▌                                                                        | 3946/191926 [01:19<1:08:40, 45.62it/s]\n",
      "  2%|█▌                                                                        | 3951/191926 [01:19<1:11:33, 43.78it/s]\n",
      "  2%|█▌                                                                        | 3956/191926 [01:19<1:13:35, 42.58it/s]\n",
      "  2%|█▌                                                                        | 3961/191926 [01:19<1:18:22, 39.97it/s]\n",
      "  2%|█▌                                                                        | 3966/191926 [01:19<1:25:26, 36.66it/s]\n",
      "  2%|█▌                                                                        | 3970/191926 [01:20<1:31:22, 34.28it/s]\n",
      "  2%|█▌                                                                        | 3974/191926 [01:20<1:32:25, 33.89it/s]\n",
      "  2%|█▌                                                                        | 3978/191926 [01:20<1:30:23, 34.66it/s]\n",
      "  2%|█▌                                                                        | 3982/191926 [01:20<1:28:57, 35.21it/s]\n",
      "  2%|█▌                                                                        | 3986/191926 [01:20<1:27:57, 35.61it/s]\n",
      "  2%|█▌                                                                        | 3993/191926 [01:20<1:18:59, 39.66it/s]\n",
      "  2%|█▌                                                                        | 3998/191926 [01:20<1:21:23, 38.48it/s]"
     ]
    },
    {
     "name": "stdout",
     "output_type": "stream",
     "text": [
      "loss for 4000 is nan\n"
     ]
    },
    {
     "name": "stderr",
     "output_type": "stream",
     "text": [
      "\n",
      "  2%|█▌                                                                        | 4002/191926 [01:20<1:28:01, 35.58it/s]\n",
      "  2%|█▌                                                                        | 4006/191926 [01:20<1:25:42, 36.54it/s]\n",
      "  2%|█▌                                                                        | 4010/191926 [01:21<1:28:45, 35.29it/s]\n",
      "  2%|█▌                                                                        | 4019/191926 [01:21<1:13:32, 42.59it/s]\n",
      "  2%|█▌                                                                        | 4027/191926 [01:21<1:06:09, 47.34it/s]\n",
      "  2%|█▌                                                                        | 4033/191926 [01:21<1:13:12, 42.77it/s]\n",
      "  2%|█▌                                                                        | 4040/191926 [01:21<1:09:17, 45.20it/s]\n",
      "  2%|█▌                                                                        | 4045/191926 [01:21<1:07:54, 46.11it/s]\n",
      "  2%|█▌                                                                        | 4050/191926 [01:21<1:12:02, 43.46it/s]\n",
      "  2%|█▌                                                                        | 4055/191926 [01:21<1:15:17, 41.59it/s]\n",
      "  2%|█▌                                                                        | 4060/191926 [01:22<1:13:21, 42.68it/s]\n",
      "  2%|█▌                                                                        | 4065/191926 [01:22<1:14:49, 41.84it/s]\n",
      "  2%|█▌                                                                        | 4070/191926 [01:22<1:15:51, 41.28it/s]\n",
      "  2%|█▌                                                                        | 4075/191926 [01:22<1:22:26, 37.98it/s]\n",
      "  2%|█▌                                                                        | 4083/191926 [01:22<1:10:45, 44.25it/s]\n",
      "  2%|█▌                                                                        | 4090/191926 [01:22<1:06:29, 47.08it/s]\n",
      "  2%|█▌                                                                        | 4096/191926 [01:22<1:09:35, 44.98it/s]"
     ]
    },
    {
     "name": "stdout",
     "output_type": "stream",
     "text": [
      "loss for 4100 is nan\n"
     ]
    },
    {
     "name": "stderr",
     "output_type": "stream",
     "text": [
      "\n",
      "  2%|█▌                                                                        | 4103/191926 [01:23<1:06:15, 47.25it/s]\n",
      "  2%|█▌                                                                        | 4108/191926 [01:23<1:09:20, 45.15it/s]\n",
      "  2%|█▌                                                                        | 4113/191926 [01:23<1:12:03, 43.44it/s]\n",
      "  2%|█▌                                                                        | 4118/191926 [01:23<1:13:27, 42.61it/s]\n",
      "  2%|█▌                                                                        | 4123/191926 [01:23<1:11:57, 43.50it/s]\n",
      "  2%|█▌                                                                        | 4129/191926 [01:23<1:07:07, 46.63it/s]\n",
      "  2%|█▌                                                                        | 4134/191926 [01:23<1:07:46, 46.18it/s]\n",
      "  2%|█▌                                                                        | 4139/191926 [01:23<1:13:23, 42.65it/s]\n",
      "  2%|█▌                                                                        | 4144/191926 [01:23<1:11:16, 43.91it/s]\n",
      "  2%|█▌                                                                        | 4149/191926 [01:24<1:15:02, 41.71it/s]\n",
      "  2%|█▌                                                                        | 4154/191926 [01:24<1:15:59, 41.18it/s]\n",
      "  2%|█▌                                                                        | 4160/191926 [01:24<1:12:44, 43.02it/s]\n",
      "  2%|█▌                                                                        | 4165/191926 [01:24<1:13:54, 42.34it/s]\n",
      "  2%|█▌                                                                        | 4170/191926 [01:24<1:18:52, 39.67it/s]\n",
      "  2%|█▌                                                                        | 4175/191926 [01:24<1:19:39, 39.29it/s]\n",
      "  2%|█▌                                                                        | 4180/191926 [01:24<1:20:09, 39.04it/s]\n",
      "  2%|█▌                                                                        | 4184/191926 [01:24<1:21:57, 38.18it/s]\n",
      "  2%|█▌                                                                        | 4189/191926 [01:25<1:18:47, 39.71it/s]\n",
      "  2%|█▌                                                                        | 4196/191926 [01:25<1:09:49, 44.81it/s]"
     ]
    },
    {
     "name": "stdout",
     "output_type": "stream",
     "text": [
      "loss for 4200 is nan\n"
     ]
    },
    {
     "name": "stderr",
     "output_type": "stream",
     "text": [
      "\n",
      "  2%|█▌                                                                        | 4201/191926 [01:25<1:12:19, 43.26it/s]\n",
      "  2%|█▌                                                                        | 4206/191926 [01:25<1:11:09, 43.97it/s]\n",
      "  2%|█▌                                                                        | 4211/191926 [01:25<1:10:20, 44.48it/s]\n",
      "  2%|█▋                                                                        | 4216/191926 [01:25<1:19:50, 39.18it/s]\n",
      "  2%|█▋                                                                        | 4221/191926 [01:25<1:19:37, 39.29it/s]\n",
      "  2%|█▋                                                                        | 4226/191926 [01:25<1:21:31, 38.38it/s]\n",
      "  2%|█▋                                                                        | 4232/191926 [01:26<1:13:05, 42.80it/s]\n",
      "  2%|█▋                                                                        | 4243/191926 [01:26<1:00:29, 51.71it/s]\n",
      "  2%|█▋                                                                          | 4251/191926 [01:26<55:10, 56.70it/s]\n",
      "  2%|█▋                                                                          | 4258/191926 [01:26<57:27, 54.43it/s]\n",
      "  2%|█▋                                                                        | 4265/191926 [01:26<1:05:42, 47.59it/s]\n",
      "  2%|█▋                                                                        | 4271/191926 [01:26<1:10:42, 44.23it/s]\n",
      "  2%|█▋                                                                        | 4276/191926 [01:26<1:13:21, 42.63it/s]\n",
      "  2%|█▋                                                                        | 4281/191926 [01:27<1:21:03, 38.58it/s]\n",
      "  2%|█▋                                                                        | 4286/191926 [01:27<1:21:54, 38.18it/s]\n",
      "  2%|█▋                                                                        | 4293/191926 [01:27<1:11:59, 43.44it/s]\n",
      "  2%|█▋                                                                        | 4298/191926 [01:27<1:13:50, 42.35it/s]"
     ]
    },
    {
     "name": "stdout",
     "output_type": "stream",
     "text": [
      "loss for 4300 is nan\n"
     ]
    },
    {
     "name": "stderr",
     "output_type": "stream",
     "text": [
      "\n",
      "  2%|█▋                                                                        | 4303/191926 [01:27<1:12:12, 43.31it/s]\n",
      "  2%|█▋                                                                        | 4308/191926 [01:27<1:14:23, 42.03it/s]\n",
      "  2%|█▋                                                                        | 4313/191926 [01:27<1:17:19, 40.44it/s]\n",
      "  2%|█▋                                                                        | 4318/191926 [01:27<1:15:55, 41.19it/s]\n",
      "  2%|█▋                                                                        | 4325/191926 [01:28<1:07:52, 46.06it/s]\n",
      "  2%|█▋                                                                        | 4332/191926 [01:28<1:01:42, 50.66it/s]\n",
      "  2%|█▋                                                                        | 4338/191926 [01:28<1:02:44, 49.84it/s]\n",
      "  2%|█▋                                                                        | 4344/191926 [01:28<1:05:53, 47.45it/s]\n",
      "  2%|█▋                                                                        | 4351/191926 [01:28<1:00:46, 51.44it/s]\n",
      "  2%|█▋                                                                        | 4357/191926 [01:28<1:06:38, 46.91it/s]\n",
      "  2%|█▋                                                                        | 4362/191926 [01:28<1:11:24, 43.78it/s]\n",
      "  2%|█▋                                                                        | 4367/191926 [01:28<1:10:29, 44.35it/s]\n",
      "  2%|█▋                                                                        | 4372/191926 [01:29<1:09:13, 45.16it/s]\n",
      "  2%|█▋                                                                        | 4377/191926 [01:29<1:09:15, 45.13it/s]\n",
      "  2%|█▋                                                                        | 4382/191926 [01:29<1:17:46, 40.19it/s]\n",
      "  2%|█▋                                                                        | 4387/191926 [01:29<1:17:52, 40.13it/s]\n",
      "  2%|█▋                                                                        | 4392/191926 [01:29<1:20:52, 38.64it/s]\n",
      "  2%|█▋                                                                        | 4396/191926 [01:29<1:25:33, 36.53it/s]\n",
      "  2%|█▋                                                                        | 4400/191926 [01:29<1:25:47, 36.43it/s]"
     ]
    },
    {
     "name": "stdout",
     "output_type": "stream",
     "text": [
      "loss for 4400 is nan\n"
     ]
    },
    {
     "name": "stderr",
     "output_type": "stream",
     "text": [
      "\n",
      "  2%|█▋                                                                        | 4406/191926 [01:29<1:17:22, 40.39it/s]\n",
      "  2%|█▋                                                                        | 4413/191926 [01:30<1:10:42, 44.20it/s]\n",
      "  2%|█▋                                                                        | 4420/191926 [01:30<1:05:51, 47.45it/s]\n",
      "  2%|█▋                                                                        | 4425/191926 [01:30<1:12:27, 43.13it/s]\n",
      "  2%|█▋                                                                        | 4430/191926 [01:30<1:11:13, 43.87it/s]\n",
      "  2%|█▋                                                                        | 4436/191926 [01:30<1:09:22, 45.04it/s]\n",
      "  2%|█▋                                                                        | 4442/191926 [01:30<1:04:35, 48.38it/s]\n",
      "  2%|█▋                                                                        | 4447/191926 [01:30<1:16:21, 40.92it/s]\n",
      "  2%|█▋                                                                        | 4452/191926 [01:30<1:23:07, 37.59it/s]\n",
      "  2%|█▋                                                                        | 4457/191926 [01:31<1:26:10, 36.26it/s]\n",
      "  2%|█▋                                                                        | 4462/191926 [01:31<1:23:15, 37.53it/s]\n",
      "  2%|█▋                                                                        | 4466/191926 [01:31<1:23:53, 37.24it/s]\n",
      "  2%|█▋                                                                        | 4470/191926 [01:31<1:24:21, 37.04it/s]\n",
      "  2%|█▋                                                                        | 4474/191926 [01:31<1:28:19, 35.37it/s]\n",
      "  2%|█▋                                                                        | 4480/191926 [01:31<1:22:16, 37.97it/s]\n",
      "  2%|█▋                                                                        | 4484/191926 [01:31<1:28:59, 35.11it/s]\n",
      "  2%|█▋                                                                        | 4488/191926 [01:32<2:01:51, 25.64it/s]\n",
      "  2%|█▋                                                                        | 4495/191926 [01:32<1:40:42, 31.02it/s]\n",
      "  2%|█▋                                                                        | 4499/191926 [01:32<1:39:46, 31.31it/s]"
     ]
    },
    {
     "name": "stdout",
     "output_type": "stream",
     "text": [
      "loss for 4500 is nan\n"
     ]
    },
    {
     "name": "stderr",
     "output_type": "stream",
     "text": [
      "\n",
      "  2%|█▋                                                                        | 4505/191926 [01:32<1:26:55, 35.94it/s]\n",
      "  2%|█▋                                                                        | 4512/191926 [01:32<1:17:34, 40.27it/s]\n",
      "  2%|█▋                                                                        | 4517/191926 [01:32<1:21:26, 38.35it/s]\n",
      "  2%|█▋                                                                        | 4523/191926 [01:32<1:14:30, 41.92it/s]\n",
      "  2%|█▋                                                                        | 4531/191926 [01:32<1:04:13, 48.62it/s]\n",
      "  2%|█▋                                                                        | 4537/191926 [01:33<1:01:44, 50.58it/s]\n",
      "  2%|█▊                                                                        | 4543/191926 [01:33<1:02:15, 50.17it/s]\n",
      "  2%|█▊                                                                        | 4549/191926 [01:33<1:10:24, 44.35it/s]\n",
      "  2%|█▊                                                                        | 4554/191926 [01:33<1:09:46, 44.76it/s]\n",
      "  2%|█▊                                                                        | 4560/191926 [01:33<1:08:21, 45.69it/s]\n",
      "  2%|█▊                                                                        | 4565/191926 [01:33<1:14:37, 41.85it/s]\n",
      "  2%|█▊                                                                        | 4570/191926 [01:33<1:13:44, 42.34it/s]\n",
      "  2%|█▊                                                                        | 4576/191926 [01:33<1:07:59, 45.93it/s]\n",
      "  2%|█▊                                                                        | 4582/191926 [01:34<1:09:39, 44.83it/s]\n",
      "  2%|█▊                                                                        | 4588/191926 [01:34<1:10:49, 44.08it/s]\n",
      "  2%|█▊                                                                        | 4593/191926 [01:34<1:19:42, 39.17it/s]\n",
      "  2%|█▊                                                                        | 4598/191926 [01:34<1:25:03, 36.70it/s]"
     ]
    },
    {
     "name": "stdout",
     "output_type": "stream",
     "text": [
      "loss for 4600 is nan\n"
     ]
    },
    {
     "name": "stderr",
     "output_type": "stream",
     "text": [
      "\n",
      "  2%|█▊                                                                        | 4602/191926 [01:34<1:33:56, 33.23it/s]\n",
      "  2%|█▊                                                                        | 4606/191926 [01:34<1:36:45, 32.26it/s]\n",
      "  2%|█▊                                                                        | 4610/191926 [01:34<1:36:51, 32.23it/s]\n",
      "  2%|█▊                                                                        | 4615/191926 [01:35<1:30:35, 34.46it/s]\n",
      "  2%|█▊                                                                        | 4619/191926 [01:35<1:34:38, 32.98it/s]\n",
      "  2%|█▊                                                                        | 4625/191926 [01:35<1:25:45, 36.40it/s]\n",
      "  2%|█▊                                                                        | 4629/191926 [01:35<1:32:38, 33.70it/s]\n",
      "  2%|█▊                                                                        | 4633/191926 [01:35<1:47:19, 29.08it/s]\n",
      "  2%|█▊                                                                        | 4637/191926 [01:35<1:42:05, 30.58it/s]\n",
      "  2%|█▊                                                                        | 4641/191926 [01:35<1:43:36, 30.13it/s]\n",
      "  2%|█▊                                                                        | 4645/191926 [01:36<1:42:32, 30.44it/s]\n",
      "  2%|█▊                                                                        | 4650/191926 [01:36<1:30:44, 34.40it/s]\n",
      "  2%|█▊                                                                        | 4656/191926 [01:36<1:20:59, 38.54it/s]\n",
      "  2%|█▊                                                                        | 4661/191926 [01:36<1:52:16, 27.80it/s]\n",
      "  2%|█▊                                                                        | 4665/191926 [01:36<1:54:01, 27.37it/s]\n",
      "  2%|█▊                                                                        | 4669/191926 [01:36<1:54:36, 27.23it/s]\n",
      "  2%|█▊                                                                        | 4675/191926 [01:36<1:36:32, 32.33it/s]\n",
      "  2%|█▊                                                                        | 4679/191926 [01:37<1:40:30, 31.05it/s]\n",
      "  2%|█▊                                                                        | 4683/191926 [01:37<1:42:35, 30.42it/s]\n",
      "  2%|█▊                                                                        | 4687/191926 [01:37<1:44:43, 29.80it/s]\n",
      "  2%|█▊                                                                        | 4691/191926 [01:37<1:38:53, 31.56it/s]\n",
      "  2%|█▊                                                                        | 4695/191926 [01:37<1:38:28, 31.69it/s]"
     ]
    },
    {
     "name": "stdout",
     "output_type": "stream",
     "text": [
      "loss for 4700 is nan\n"
     ]
    },
    {
     "name": "stderr",
     "output_type": "stream",
     "text": [
      "\n",
      "  2%|█▊                                                                        | 4702/191926 [01:37<1:25:26, 36.52it/s]\n",
      "  2%|█▊                                                                        | 4707/191926 [01:37<1:25:03, 36.68it/s]\n",
      "  2%|█▊                                                                        | 4711/191926 [01:37<1:24:22, 36.98it/s]\n",
      "  2%|█▊                                                                        | 4716/191926 [01:38<1:21:51, 38.12it/s]\n",
      "  2%|█▊                                                                        | 4720/191926 [01:38<1:22:17, 37.92it/s]\n",
      "  2%|█▊                                                                        | 4728/191926 [01:38<1:10:23, 44.32it/s]\n",
      "  2%|█▊                                                                        | 4735/191926 [01:38<1:03:53, 48.83it/s]\n",
      "  2%|█▉                                                                          | 4742/191926 [01:38<59:20, 52.57it/s]\n",
      "  2%|█▊                                                                        | 4748/191926 [01:38<1:03:54, 48.81it/s]\n",
      "  2%|█▊                                                                        | 4754/191926 [01:38<1:10:37, 44.17it/s]\n",
      "  2%|█▊                                                                        | 4759/191926 [01:38<1:11:36, 43.56it/s]\n",
      "  2%|█▊                                                                        | 4766/191926 [01:39<1:04:18, 48.51it/s]\n",
      "  2%|█▊                                                                        | 4772/191926 [01:39<1:11:16, 43.76it/s]\n",
      "  2%|█▊                                                                        | 4779/191926 [01:39<1:06:35, 46.83it/s]\n",
      "  2%|█▊                                                                        | 4784/191926 [01:39<1:10:00, 44.55it/s]\n",
      "  2%|█▊                                                                        | 4789/191926 [01:39<1:09:27, 44.90it/s]\n",
      "  2%|█▊                                                                        | 4794/191926 [01:39<1:17:35, 40.19it/s]\n",
      "  3%|█▊                                                                        | 4799/191926 [01:39<1:17:13, 40.39it/s]"
     ]
    },
    {
     "name": "stdout",
     "output_type": "stream",
     "text": [
      "loss for 4800 is nan\n"
     ]
    },
    {
     "name": "stderr",
     "output_type": "stream",
     "text": [
      "\n",
      "  3%|█▊                                                                        | 4804/191926 [01:39<1:22:00, 38.03it/s]\n",
      "  3%|█▊                                                                        | 4808/191926 [01:40<1:22:18, 37.89it/s]\n",
      "  3%|█▊                                                                        | 4816/191926 [01:40<1:10:23, 44.30it/s]\n",
      "  3%|█▊                                                                        | 4823/191926 [01:40<1:05:58, 47.26it/s]\n",
      "  3%|█▊                                                                        | 4830/191926 [01:40<1:00:47, 51.29it/s]\n",
      "  3%|█▉                                                                          | 4839/191926 [01:40<55:32, 56.14it/s]\n",
      "  3%|█▊                                                                        | 4846/191926 [01:40<1:01:58, 50.31it/s]\n",
      "  3%|█▉                                                                          | 4853/191926 [01:40<57:35, 54.14it/s]\n",
      "  3%|█▊                                                                        | 4859/191926 [01:40<1:04:21, 48.44it/s]\n",
      "  3%|█▉                                                                        | 4865/191926 [01:41<1:02:50, 49.61it/s]\n",
      "  3%|█▉                                                                          | 4872/191926 [01:41<58:36, 53.20it/s]\n",
      "  3%|█▉                                                                          | 4880/191926 [01:41<55:37, 56.04it/s]\n",
      "  3%|█▉                                                                          | 4888/191926 [01:41<53:32, 58.21it/s]\n",
      "  3%|█▉                                                                          | 4894/191926 [01:41<54:31, 57.17it/s]\n",
      "  3%|█▉                                                                        | 4900/191926 [01:41<1:00:45, 51.30it/s]"
     ]
    },
    {
     "name": "stdout",
     "output_type": "stream",
     "text": [
      "loss for 4900 is nan\n"
     ]
    },
    {
     "name": "stderr",
     "output_type": "stream",
     "text": [
      "\n",
      "  3%|█▉                                                                          | 4906/191926 [01:41<59:06, 52.73it/s]\n",
      "  3%|█▉                                                                        | 4912/191926 [01:41<1:03:41, 48.93it/s]\n",
      "  3%|█▉                                                                        | 4918/191926 [01:42<1:06:05, 47.16it/s]\n",
      "  3%|█▉                                                                        | 4926/191926 [01:42<1:00:52, 51.20it/s]\n",
      "  3%|█▉                                                                        | 4932/191926 [01:42<1:04:30, 48.31it/s]\n",
      "  3%|█▉                                                                        | 4937/191926 [01:42<1:05:36, 47.50it/s]\n",
      "  3%|█▉                                                                        | 4942/191926 [01:42<1:15:16, 41.40it/s]\n",
      "  3%|█▉                                                                        | 4947/191926 [01:42<1:15:40, 41.18it/s]\n",
      "  3%|█▉                                                                        | 4954/191926 [01:42<1:06:19, 46.98it/s]\n",
      "  3%|█▉                                                                        | 4961/191926 [01:42<1:00:34, 51.44it/s]\n",
      "  3%|█▉                                                                        | 4967/191926 [01:43<1:08:46, 45.31it/s]\n",
      "  3%|█▉                                                                        | 4972/191926 [01:43<1:11:30, 43.58it/s]\n",
      "  3%|█▉                                                                        | 4977/191926 [01:43<1:10:29, 44.20it/s]\n",
      "  3%|█▉                                                                        | 4982/191926 [01:43<1:12:42, 42.85it/s]\n",
      "  3%|█▉                                                                        | 4987/191926 [01:43<1:16:03, 40.96it/s]\n",
      "  3%|█▉                                                                        | 4992/191926 [01:43<1:12:08, 43.19it/s]\n",
      "  3%|█▉                                                                        | 4997/191926 [01:43<1:09:12, 45.01it/s]"
     ]
    },
    {
     "name": "stdout",
     "output_type": "stream",
     "text": [
      "loss for 5000 is nan\n"
     ]
    },
    {
     "name": "stderr",
     "output_type": "stream",
     "text": [
      "\n",
      "  3%|█▉                                                                        | 5002/191926 [01:43<1:08:15, 45.64it/s]\n",
      "  3%|█▉                                                                        | 5007/191926 [01:44<1:14:12, 41.98it/s]\n",
      "  3%|█▉                                                                        | 5012/191926 [01:44<1:14:14, 41.96it/s]\n",
      "  3%|█▉                                                                        | 5019/191926 [01:44<1:06:33, 46.80it/s]\n",
      "  3%|█▉                                                                        | 5024/191926 [01:44<1:09:56, 44.53it/s]\n",
      "  3%|█▉                                                                        | 5029/191926 [01:44<1:09:23, 44.88it/s]\n",
      "  3%|█▉                                                                        | 5034/191926 [01:44<1:10:54, 43.93it/s]\n",
      "  3%|█▉                                                                        | 5039/191926 [01:44<1:16:14, 40.86it/s]\n",
      "  3%|█▉                                                                        | 5044/191926 [01:45<1:46:02, 29.37it/s]\n",
      "  3%|█▉                                                                        | 5048/191926 [01:45<1:47:03, 29.09it/s]\n",
      "  3%|█▉                                                                        | 5052/191926 [01:45<1:44:08, 29.91it/s]\n",
      "  3%|█▉                                                                        | 5056/191926 [01:45<1:38:26, 31.64it/s]\n",
      "  3%|█▉                                                                        | 5060/191926 [01:45<1:38:05, 31.75it/s]\n",
      "  3%|█▉                                                                        | 5065/191926 [01:45<1:31:14, 34.14it/s]\n",
      "  3%|█▉                                                                        | 5069/191926 [01:45<1:29:38, 34.74it/s]\n",
      "  3%|█▉                                                                        | 5073/191926 [01:45<1:35:44, 32.53it/s]\n",
      "  3%|█▉                                                                        | 5077/191926 [01:46<1:36:34, 32.24it/s]\n",
      "  3%|█▉                                                                        | 5081/191926 [01:46<1:34:06, 33.09it/s]\n",
      "  3%|█▉                                                                        | 5085/191926 [01:46<1:31:25, 34.06it/s]\n",
      "  3%|█▉                                                                        | 5090/191926 [01:46<1:27:20, 35.65it/s]\n",
      "  3%|█▉                                                                        | 5094/191926 [01:46<1:26:40, 35.93it/s]\n",
      "  3%|█▉                                                                        | 5098/191926 [01:46<1:26:43, 35.91it/s]"
     ]
    },
    {
     "name": "stdout",
     "output_type": "stream",
     "text": [
      "loss for 5100 is nan\n"
     ]
    },
    {
     "name": "stderr",
     "output_type": "stream",
     "text": [
      "\n",
      "  3%|█▉                                                                        | 5102/191926 [01:46<1:26:46, 35.88it/s]\n",
      "  3%|█▉                                                                        | 5106/191926 [01:46<1:27:28, 35.60it/s]\n",
      "  3%|█▉                                                                        | 5113/191926 [01:46<1:16:29, 40.71it/s]\n",
      "  3%|█▉                                                                        | 5122/191926 [01:47<1:04:58, 47.92it/s]\n",
      "  3%|█▉                                                                        | 5128/191926 [01:47<1:04:55, 47.95it/s]\n",
      "  3%|█▉                                                                        | 5134/191926 [01:47<1:02:28, 49.83it/s]\n",
      "  3%|█▉                                                                        | 5140/191926 [01:47<1:03:00, 49.40it/s]\n",
      "  3%|█▉                                                                        | 5146/191926 [01:47<1:10:02, 44.45it/s]\n",
      "  3%|█▉                                                                        | 5151/191926 [01:47<1:08:37, 45.37it/s]\n",
      "  3%|█▉                                                                        | 5159/191926 [01:47<1:00:57, 51.06it/s]\n",
      "  3%|██                                                                          | 5166/191926 [01:47<57:22, 54.25it/s]\n",
      "  3%|█▉                                                                        | 5172/191926 [01:48<1:05:53, 47.23it/s]\n",
      "  3%|█▉                                                                        | 5178/191926 [01:48<1:08:00, 45.77it/s]\n",
      "  3%|█▉                                                                        | 5183/191926 [01:48<1:08:01, 45.76it/s]\n",
      "  3%|██                                                                        | 5188/191926 [01:48<1:10:57, 43.87it/s]\n",
      "  3%|██                                                                        | 5196/191926 [01:48<1:02:36, 49.71it/s]"
     ]
    },
    {
     "name": "stdout",
     "output_type": "stream",
     "text": [
      "loss for 5200 is nan\n"
     ]
    },
    {
     "name": "stderr",
     "output_type": "stream",
     "text": [
      "\n",
      "  3%|██                                                                        | 5202/191926 [01:48<1:08:24, 45.49it/s]\n",
      "  3%|██                                                                        | 5207/191926 [01:48<1:13:22, 42.41it/s]\n",
      "  3%|██                                                                        | 5212/191926 [01:49<1:12:41, 42.81it/s]\n",
      "  3%|██                                                                        | 5217/191926 [01:49<1:16:30, 40.67it/s]\n",
      "  3%|██                                                                        | 5222/191926 [01:49<1:19:48, 38.99it/s]\n",
      "  3%|██                                                                        | 5227/191926 [01:49<1:19:11, 39.29it/s]\n",
      "  3%|██                                                                        | 5232/191926 [01:49<1:18:45, 39.51it/s]\n",
      "  3%|██                                                                        | 5237/191926 [01:49<1:18:05, 39.85it/s]\n",
      "  3%|██                                                                        | 5242/191926 [01:49<1:18:58, 39.40it/s]\n",
      "  3%|██                                                                        | 5246/191926 [01:49<1:19:16, 39.25it/s]\n",
      "  3%|██                                                                        | 5251/191926 [01:50<1:19:42, 39.03it/s]\n",
      "  3%|██                                                                        | 5255/191926 [01:50<1:21:41, 38.09it/s]\n",
      "  3%|██                                                                        | 5259/191926 [01:50<1:29:59, 34.57it/s]\n",
      "  3%|██                                                                        | 5266/191926 [01:50<1:21:43, 38.06it/s]\n",
      "  3%|██                                                                        | 5270/191926 [01:50<1:22:43, 37.61it/s]\n",
      "  3%|██                                                                        | 5274/191926 [01:50<1:23:00, 37.48it/s]\n",
      "  3%|██                                                                        | 5281/191926 [01:50<1:15:00, 41.48it/s]\n",
      "  3%|██                                                                        | 5286/191926 [01:50<1:13:51, 42.12it/s]\n",
      "  3%|██                                                                        | 5291/191926 [01:50<1:11:46, 43.34it/s]\n",
      "  3%|██                                                                        | 5296/191926 [01:51<1:12:22, 42.98it/s]"
     ]
    },
    {
     "name": "stdout",
     "output_type": "stream",
     "text": [
      "loss for 5300 is nan\n"
     ]
    },
    {
     "name": "stderr",
     "output_type": "stream",
     "text": [
      "\n",
      "  3%|██                                                                        | 5301/191926 [01:51<1:13:59, 42.04it/s]\n",
      "  3%|██                                                                        | 5306/191926 [01:51<1:15:06, 41.41it/s]\n",
      "  3%|██                                                                        | 5311/191926 [01:51<1:15:53, 40.98it/s]\n",
      "  3%|██                                                                        | 5317/191926 [01:51<1:14:04, 41.99it/s]\n",
      "  3%|██                                                                        | 5322/191926 [01:51<1:17:03, 40.36it/s]\n",
      "  3%|██                                                                        | 5329/191926 [01:51<1:09:15, 44.90it/s]\n",
      "  3%|██                                                                        | 5334/191926 [01:52<1:13:27, 42.34it/s]\n",
      "  3%|██                                                                        | 5339/191926 [01:52<1:11:10, 43.69it/s]\n",
      "  3%|██                                                                        | 5345/191926 [01:52<1:09:15, 44.90it/s]\n",
      "  3%|██                                                                        | 5350/191926 [01:52<1:14:42, 41.62it/s]\n",
      "  3%|██                                                                        | 5355/191926 [01:52<1:15:36, 41.13it/s]\n",
      "  3%|██                                                                        | 5360/191926 [01:52<1:18:13, 39.75it/s]\n",
      "  3%|██                                                                        | 5365/191926 [01:52<1:19:47, 38.97it/s]\n",
      "  3%|██                                                                        | 5369/191926 [01:52<1:26:31, 35.94it/s]\n",
      "  3%|██                                                                        | 5373/191926 [01:53<1:24:41, 36.71it/s]\n",
      "  3%|██                                                                        | 5377/191926 [01:53<1:31:18, 34.05it/s]\n",
      "  3%|██                                                                        | 5381/191926 [01:53<1:33:03, 33.41it/s]\n",
      "  3%|██                                                                        | 5385/191926 [01:53<1:30:38, 34.30it/s]\n",
      "  3%|██                                                                        | 5389/191926 [01:53<1:28:56, 34.95it/s]\n",
      "  3%|██                                                                        | 5393/191926 [01:53<1:30:53, 34.21it/s]\n",
      "  3%|██                                                                        | 5398/191926 [01:53<1:25:11, 36.49it/s]"
     ]
    },
    {
     "name": "stdout",
     "output_type": "stream",
     "text": [
      "loss for 5400 is nan\n"
     ]
    },
    {
     "name": "stderr",
     "output_type": "stream",
     "text": [
      "\n",
      "  3%|██                                                                        | 5402/191926 [01:53<1:32:58, 33.44it/s]\n",
      "  3%|██                                                                        | 5406/191926 [01:53<1:34:31, 32.89it/s]\n",
      "  3%|██                                                                        | 5413/191926 [01:54<1:23:34, 37.19it/s]\n",
      "  3%|██                                                                        | 5418/191926 [01:54<1:21:48, 38.00it/s]\n",
      "  3%|██                                                                        | 5422/191926 [01:54<1:26:24, 35.98it/s]\n",
      "  3%|██                                                                        | 5426/191926 [01:54<1:29:36, 34.69it/s]\n",
      "  3%|██                                                                        | 5430/191926 [01:54<1:34:39, 32.84it/s]\n",
      "  3%|██                                                                        | 5434/191926 [01:54<1:30:25, 34.37it/s]\n",
      "  3%|██                                                                        | 5438/191926 [01:54<1:31:55, 33.81it/s]\n",
      "  3%|██                                                                        | 5442/191926 [01:54<1:29:58, 34.54it/s]\n",
      "  3%|██                                                                        | 5446/191926 [01:55<1:31:40, 33.90it/s]\n",
      "  3%|██                                                                        | 5452/191926 [01:55<1:21:28, 38.15it/s]\n",
      "  3%|██                                                                        | 5457/191926 [01:55<1:19:26, 39.12it/s]\n",
      "  3%|██                                                                        | 5465/191926 [01:55<1:09:21, 44.81it/s]\n",
      "  3%|██                                                                        | 5473/191926 [01:55<1:01:17, 50.70it/s]\n",
      "  3%|██                                                                        | 5479/191926 [01:55<1:11:18, 43.57it/s]\n",
      "  3%|██                                                                        | 5484/191926 [01:55<1:11:15, 43.61it/s]\n",
      "  3%|██                                                                        | 5489/191926 [01:55<1:12:43, 42.73it/s]\n",
      "  3%|██                                                                        | 5498/191926 [01:56<1:03:10, 49.18it/s]"
     ]
    },
    {
     "name": "stdout",
     "output_type": "stream",
     "text": [
      "loss for 5500 is nan\n"
     ]
    },
    {
     "name": "stderr",
     "output_type": "stream",
     "text": [
      "\n",
      "  3%|██                                                                        | 5504/191926 [01:56<1:06:03, 47.03it/s]\n",
      "  3%|██                                                                        | 5510/191926 [01:56<1:12:56, 42.60it/s]\n",
      "  3%|██▏                                                                       | 5515/191926 [01:56<1:17:15, 40.21it/s]\n",
      "  3%|██▏                                                                       | 5520/191926 [01:56<1:17:39, 40.01it/s]\n",
      "  3%|██▏                                                                       | 5525/191926 [01:56<1:17:52, 39.89it/s]\n",
      "  3%|██▏                                                                       | 5530/191926 [01:56<1:18:03, 39.80it/s]\n",
      "  3%|██▏                                                                       | 5538/191926 [01:57<1:11:08, 43.67it/s]\n",
      "  3%|██▏                                                                       | 5543/191926 [01:57<1:09:33, 44.66it/s]\n",
      "  3%|██▏                                                                       | 5548/191926 [01:57<1:09:04, 44.98it/s]\n",
      "  3%|██▏                                                                       | 5555/191926 [01:57<1:04:58, 47.80it/s]\n",
      "  3%|██▏                                                                       | 5560/191926 [01:57<1:08:46, 45.16it/s]\n",
      "  3%|██▏                                                                       | 5565/191926 [01:57<1:08:42, 45.20it/s]\n",
      "  3%|██▏                                                                       | 5570/191926 [01:57<1:14:32, 41.66it/s]\n",
      "  3%|██▏                                                                       | 5575/191926 [01:57<1:11:42, 43.31it/s]\n",
      "  3%|██▏                                                                       | 5580/191926 [01:58<1:20:26, 38.61it/s]\n",
      "  3%|██▏                                                                       | 5585/191926 [01:58<1:30:36, 34.28it/s]\n",
      "  3%|██▏                                                                       | 5589/191926 [01:58<1:36:10, 32.29it/s]\n",
      "  3%|██▏                                                                       | 5593/191926 [01:58<1:32:47, 33.47it/s]\n",
      "  3%|██▏                                                                       | 5597/191926 [01:58<1:30:37, 34.27it/s]"
     ]
    },
    {
     "name": "stdout",
     "output_type": "stream",
     "text": [
      "loss for 5600 is nan\n"
     ]
    },
    {
     "name": "stderr",
     "output_type": "stream",
     "text": [
      "\n",
      "  3%|██▏                                                                       | 5618/191926 [01:58<1:08:21, 45.43it/s]\n",
      "  3%|██▏                                                                       | 5627/191926 [01:58<1:04:41, 48.00it/s]\n",
      "  3%|██▏                                                                       | 5635/191926 [01:59<1:06:21, 46.79it/s]\n",
      "  3%|██▏                                                                       | 5642/191926 [01:59<1:13:06, 42.47it/s]\n",
      "  3%|██▏                                                                       | 5648/191926 [01:59<1:08:08, 45.56it/s]\n",
      "  3%|██▏                                                                       | 5654/191926 [01:59<1:11:56, 43.15it/s]\n",
      "  3%|██▏                                                                       | 5660/191926 [01:59<1:11:57, 43.14it/s]\n",
      "  3%|██▏                                                                       | 5669/191926 [01:59<1:02:13, 49.89it/s]\n",
      "  3%|██▏                                                                       | 5675/191926 [01:59<1:01:18, 50.63it/s]\n",
      "  3%|██▏                                                                       | 5681/191926 [02:00<1:01:16, 50.65it/s]\n",
      "  3%|██▏                                                                       | 5687/191926 [02:00<1:04:12, 48.34it/s]\n",
      "  3%|██▏                                                                       | 5693/191926 [02:00<1:04:20, 48.24it/s]\n",
      "  3%|██▏                                                                       | 5699/191926 [02:00<1:02:00, 50.06it/s]"
     ]
    },
    {
     "name": "stdout",
     "output_type": "stream",
     "text": [
      "loss for 5700 is nan\n"
     ]
    },
    {
     "name": "stderr",
     "output_type": "stream",
     "text": [
      "\n",
      "  3%|██▏                                                                       | 5705/191926 [02:00<1:05:13, 47.59it/s]\n",
      "  3%|██▏                                                                       | 5710/191926 [02:00<1:09:19, 44.77it/s]\n",
      "  3%|██▏                                                                       | 5717/191926 [02:00<1:03:14, 49.07it/s]\n",
      "  3%|██▏                                                                       | 5723/191926 [02:00<1:02:01, 50.03it/s]\n",
      "  3%|██▏                                                                       | 5729/191926 [02:00<1:00:08, 51.60it/s]\n",
      "  3%|██▏                                                                       | 5735/191926 [02:01<1:05:22, 47.46it/s]\n",
      "  3%|██▏                                                                       | 5741/191926 [02:01<1:02:43, 49.47it/s]\n",
      "  3%|██▏                                                                       | 5747/191926 [02:01<1:05:43, 47.21it/s]\n",
      "  3%|██▏                                                                       | 5752/191926 [02:01<1:09:16, 44.79it/s]\n",
      "  3%|██▏                                                                       | 5757/191926 [02:01<1:08:21, 45.39it/s]\n",
      "  3%|██▏                                                                       | 5763/191926 [02:01<1:03:47, 48.64it/s]\n",
      "  3%|██▎                                                                         | 5770/191926 [02:01<58:18, 53.21it/s]\n",
      "  3%|██▏                                                                       | 5776/191926 [02:01<1:03:31, 48.84it/s]\n",
      "  3%|██▏                                                                       | 5782/191926 [02:02<1:07:43, 45.80it/s]\n",
      "  3%|██▏                                                                       | 5787/191926 [02:02<1:10:40, 43.90it/s]\n",
      "  3%|██▏                                                                       | 5792/191926 [02:02<1:12:43, 42.65it/s]\n",
      "  3%|██▏                                                                       | 5797/191926 [02:02<1:11:15, 43.53it/s]"
     ]
    },
    {
     "name": "stdout",
     "output_type": "stream",
     "text": [
      "loss for 5800 is nan\n"
     ]
    },
    {
     "name": "stderr",
     "output_type": "stream",
     "text": [
      "\n",
      "  3%|██▏                                                                       | 5802/191926 [02:02<1:10:14, 44.17it/s]\n",
      "  3%|██▏                                                                       | 5807/191926 [02:02<1:12:47, 42.62it/s]\n",
      "  3%|██▏                                                                       | 5815/191926 [02:02<1:04:43, 47.92it/s]\n",
      "  3%|██▏                                                                       | 5821/191926 [02:02<1:08:39, 45.18it/s]\n",
      "  3%|██▏                                                                       | 5826/191926 [02:03<1:17:10, 40.19it/s]\n",
      "  3%|██▏                                                                       | 5833/191926 [02:03<1:10:37, 43.91it/s]\n",
      "  3%|██▎                                                                       | 5838/191926 [02:03<1:12:41, 42.67it/s]\n",
      "  3%|██▎                                                                       | 5843/191926 [02:03<1:11:13, 43.54it/s]\n",
      "  3%|██▎                                                                       | 5848/191926 [02:03<1:11:04, 43.64it/s]\n",
      "  3%|██▎                                                                       | 5853/191926 [02:03<1:15:06, 41.29it/s]\n",
      "  3%|██▎                                                                       | 5858/191926 [02:03<1:16:45, 40.40it/s]\n",
      "  3%|██▎                                                                       | 5863/191926 [02:04<1:21:32, 38.03it/s]\n",
      "  3%|██▎                                                                       | 5867/191926 [02:04<1:25:21, 36.33it/s]\n",
      "  3%|██▎                                                                       | 5873/191926 [02:04<1:16:42, 40.42it/s]\n",
      "  3%|██▎                                                                       | 5883/191926 [02:04<1:03:51, 48.55it/s]\n",
      "  3%|██▎                                                                       | 5889/191926 [02:04<1:08:55, 44.99it/s]\n",
      "  3%|██▎                                                                       | 5895/191926 [02:04<1:07:53, 45.66it/s]"
     ]
    },
    {
     "name": "stdout",
     "output_type": "stream",
     "text": [
      "loss for 5900 is nan\n"
     ]
    },
    {
     "name": "stderr",
     "output_type": "stream",
     "text": [
      "\n",
      "  3%|██▎                                                                       | 5901/191926 [02:04<1:14:59, 41.34it/s]\n",
      "  3%|██▎                                                                       | 5906/191926 [02:04<1:15:11, 41.23it/s]\n",
      "  3%|██▎                                                                       | 5913/191926 [02:05<1:07:20, 46.04it/s]\n",
      "  3%|██▎                                                                       | 5918/191926 [02:05<1:09:46, 44.43it/s]\n",
      "  3%|██▎                                                                       | 5923/191926 [02:05<1:14:59, 41.34it/s]\n",
      "  3%|██▎                                                                       | 5929/191926 [02:05<1:11:51, 43.14it/s]\n",
      "  3%|██▎                                                                       | 5934/191926 [02:05<1:10:38, 43.88it/s]\n",
      "  3%|██▎                                                                       | 5940/191926 [02:05<1:08:45, 45.08it/s]\n",
      "  3%|██▎                                                                       | 5945/191926 [02:05<1:08:47, 45.06it/s]\n",
      "  3%|██▎                                                                       | 5954/191926 [02:05<1:00:48, 50.97it/s]\n",
      "  3%|██▎                                                                         | 5960/191926 [02:06<59:45, 51.86it/s]\n",
      "  3%|██▎                                                                       | 5966/191926 [02:06<1:01:18, 50.56it/s]\n",
      "  3%|██▎                                                                         | 5977/191926 [02:06<52:09, 59.43it/s]\n",
      "  3%|██▎                                                                         | 5984/191926 [02:06<53:06, 58.36it/s]\n",
      "  3%|██▎                                                                         | 5991/191926 [02:06<53:46, 57.64it/s]\n",
      "  3%|██▍                                                                         | 5998/191926 [02:06<58:07, 53.32it/s]"
     ]
    },
    {
     "name": "stdout",
     "output_type": "stream",
     "text": [
      "loss for 6000 is nan\n"
     ]
    },
    {
     "name": "stderr",
     "output_type": "stream",
     "text": [
      "\n",
      "  3%|██▍                                                                         | 6005/191926 [02:06<57:37, 53.78it/s]\n",
      "  3%|██▍                                                                         | 6011/191926 [02:06<59:41, 51.91it/s]\n",
      "  3%|██▍                                                                         | 6018/191926 [02:07<56:28, 54.86it/s]\n",
      "  3%|██▎                                                                       | 6024/191926 [02:07<1:00:57, 50.82it/s]\n",
      "  3%|██▍                                                                         | 6031/191926 [02:07<57:11, 54.17it/s]\n",
      "  3%|██▍                                                                         | 6037/191926 [02:07<59:23, 52.16it/s]\n",
      "  3%|██▎                                                                       | 6043/191926 [02:07<1:03:21, 48.90it/s]\n",
      "  3%|██▎                                                                       | 6049/191926 [02:07<1:08:14, 45.40it/s]\n",
      "  3%|██▎                                                                       | 6054/191926 [02:07<1:11:18, 43.44it/s]\n",
      "  3%|██▎                                                                       | 6059/191926 [02:07<1:13:53, 41.92it/s]\n",
      "  3%|██▎                                                                       | 6064/191926 [02:08<1:14:19, 41.67it/s]\n",
      "  3%|██▎                                                                       | 6069/191926 [02:08<1:14:55, 41.34it/s]\n",
      "  3%|██▎                                                                       | 6079/191926 [02:08<1:04:03, 48.35it/s]\n",
      "  3%|██▎                                                                       | 6085/191926 [02:08<1:09:02, 44.87it/s]\n",
      "  3%|██▎                                                                       | 6090/191926 [02:08<1:15:27, 41.05it/s]\n",
      "  3%|██▎                                                                       | 6095/191926 [02:08<1:18:33, 39.43it/s]\n",
      "  3%|██▎                                                                       | 6100/191926 [02:08<1:18:29, 39.46it/s]"
     ]
    },
    {
     "name": "stdout",
     "output_type": "stream",
     "text": [
      "loss for 6100 is nan\n"
     ]
    },
    {
     "name": "stderr",
     "output_type": "stream",
     "text": [
      "\n",
      "  3%|██▎                                                                       | 6105/191926 [02:09<1:17:43, 39.84it/s]\n",
      "  3%|██▎                                                                       | 6110/191926 [02:09<1:17:12, 40.12it/s]\n",
      "  3%|██▎                                                                       | 6115/191926 [02:09<1:20:09, 38.63it/s]\n",
      "  3%|██▎                                                                       | 6119/191926 [02:09<1:21:30, 37.99it/s]\n",
      "  3%|██▎                                                                       | 6123/191926 [02:09<1:26:04, 35.97it/s]\n",
      "  3%|██▎                                                                       | 6127/191926 [02:09<1:30:41, 34.14it/s]\n",
      "  3%|██▎                                                                       | 6131/191926 [02:09<1:28:36, 34.95it/s]\n",
      "  3%|██▎                                                                       | 6136/191926 [02:09<1:26:16, 35.89it/s]\n",
      "  3%|██▎                                                                       | 6141/191926 [02:09<1:19:25, 38.98it/s]\n",
      "  3%|██▎                                                                       | 6146/191926 [02:10<1:18:18, 39.54it/s]\n",
      "  3%|██▎                                                                       | 6151/191926 [02:10<1:18:01, 39.68it/s]\n",
      "  3%|██▎                                                                       | 6156/191926 [02:10<1:14:55, 41.32it/s]\n",
      "  3%|██▍                                                                       | 6161/191926 [02:10<1:15:39, 40.92it/s]\n",
      "  3%|██▍                                                                       | 6168/191926 [02:10<1:07:28, 45.88it/s]\n",
      "  3%|██▍                                                                       | 6173/191926 [02:10<1:10:46, 43.75it/s]\n",
      "  3%|██▍                                                                       | 6178/191926 [02:10<1:16:50, 40.29it/s]\n",
      "  3%|██▍                                                                       | 6183/191926 [02:10<1:16:23, 40.52it/s]\n",
      "  3%|██▍                                                                       | 6188/191926 [02:11<1:16:06, 40.68it/s]\n",
      "  3%|██▍                                                                       | 6193/191926 [02:11<1:16:45, 40.33it/s]\n",
      "  3%|██▍                                                                       | 6198/191926 [02:11<1:19:50, 38.77it/s]"
     ]
    },
    {
     "name": "stdout",
     "output_type": "stream",
     "text": [
      "loss for 6200 is nan\n"
     ]
    },
    {
     "name": "stderr",
     "output_type": "stream",
     "text": [
      "\n",
      "  3%|██▍                                                                       | 6203/191926 [02:11<1:16:11, 40.62it/s]\n",
      "  3%|██▍                                                                       | 6208/191926 [02:11<1:13:38, 42.03it/s]\n",
      "  3%|██▍                                                                       | 6213/191926 [02:11<1:11:33, 43.26it/s]\n",
      "  3%|██▍                                                                       | 6221/191926 [02:11<1:02:53, 49.21it/s]\n",
      "  3%|██▍                                                                       | 6227/191926 [02:11<1:06:07, 46.80it/s]\n",
      "  3%|██▍                                                                       | 6232/191926 [02:12<1:08:54, 44.91it/s]\n",
      "  3%|██▍                                                                       | 6237/191926 [02:12<1:11:35, 43.23it/s]\n",
      "  3%|██▍                                                                       | 6244/191926 [02:12<1:04:36, 47.90it/s]\n",
      "  3%|██▍                                                                       | 6250/191926 [02:12<1:06:58, 46.20it/s]\n",
      "  3%|██▍                                                                       | 6257/191926 [02:12<1:01:23, 50.41it/s]\n",
      "  3%|██▍                                                                       | 6263/191926 [02:12<1:07:03, 46.15it/s]\n",
      "  3%|██▍                                                                       | 6270/191926 [02:12<1:05:19, 47.36it/s]\n",
      "  3%|██▍                                                                       | 6275/191926 [02:13<1:21:22, 38.02it/s]\n",
      "  3%|██▍                                                                       | 6280/191926 [02:13<1:19:36, 38.87it/s]\n",
      "  3%|██▍                                                                       | 6285/191926 [02:13<1:19:09, 39.09it/s]\n",
      "  3%|██▍                                                                       | 6290/191926 [02:13<1:34:47, 32.64it/s]\n",
      "  3%|██▍                                                                       | 6294/191926 [02:13<1:34:11, 32.85it/s]\n",
      "  3%|██▍                                                                       | 6298/191926 [02:13<1:31:55, 33.66it/s]"
     ]
    },
    {
     "name": "stdout",
     "output_type": "stream",
     "text": [
      "loss for 6300 is nan\n"
     ]
    },
    {
     "name": "stderr",
     "output_type": "stream",
     "text": [
      "\n",
      "  3%|██▍                                                                       | 6302/191926 [02:13<1:29:24, 34.60it/s]\n",
      "  3%|██▍                                                                       | 6306/191926 [02:13<1:26:21, 35.82it/s]\n",
      "  3%|██▍                                                                       | 6311/191926 [02:14<1:19:00, 39.15it/s]\n",
      "  3%|██▍                                                                       | 6316/191926 [02:14<1:14:36, 41.46it/s]\n",
      "  3%|██▍                                                                       | 6321/191926 [02:14<1:20:33, 38.40it/s]\n",
      "  3%|██▍                                                                       | 6325/191926 [02:14<1:25:45, 36.07it/s]\n",
      "  3%|██▍                                                                       | 6329/191926 [02:14<1:25:23, 36.22it/s]\n",
      "  3%|██▍                                                                       | 6333/191926 [02:14<1:32:53, 33.30it/s]\n",
      "  3%|██▍                                                                       | 6337/191926 [02:14<1:46:25, 29.07it/s]\n",
      "  3%|██▍                                                                       | 6341/191926 [02:14<1:39:07, 31.21it/s]\n",
      "  3%|██▍                                                                       | 6346/191926 [02:15<1:29:04, 34.72it/s]\n",
      "  3%|██▍                                                                       | 6351/191926 [02:15<1:22:00, 37.72it/s]\n",
      "  3%|██▍                                                                       | 6356/191926 [02:15<1:21:45, 37.83it/s]\n",
      "  3%|██▍                                                                       | 6364/191926 [02:15<1:11:08, 43.47it/s]\n",
      "  3%|██▍                                                                       | 6369/191926 [02:15<1:08:21, 45.24it/s]\n",
      "  3%|██▍                                                                       | 6374/191926 [02:15<1:08:37, 45.06it/s]\n",
      "  3%|██▍                                                                       | 6379/191926 [02:15<1:08:04, 45.43it/s]\n",
      "  3%|██▍                                                                       | 6384/191926 [02:15<1:11:24, 43.31it/s]\n",
      "  3%|██▍                                                                       | 6389/191926 [02:15<1:12:59, 42.37it/s]\n",
      "  3%|██▍                                                                       | 6394/191926 [02:16<1:14:05, 41.73it/s]\n",
      "  3%|██▍                                                                       | 6399/191926 [02:16<1:11:09, 43.45it/s]"
     ]
    },
    {
     "name": "stdout",
     "output_type": "stream",
     "text": [
      "loss for 6400 is nan\n"
     ]
    },
    {
     "name": "stderr",
     "output_type": "stream",
     "text": [
      "\n",
      "  3%|██▍                                                                       | 6405/191926 [02:16<1:05:53, 46.93it/s]\n",
      "  3%|██▍                                                                       | 6410/191926 [02:16<1:12:50, 42.45it/s]\n",
      "  3%|██▍                                                                       | 6415/191926 [02:16<1:13:14, 42.21it/s]\n",
      "  3%|██▍                                                                       | 6420/191926 [02:16<1:20:12, 38.55it/s]\n",
      "  3%|██▍                                                                       | 6424/191926 [02:16<1:20:15, 38.52it/s]\n",
      "  3%|██▍                                                                       | 6429/191926 [02:16<1:15:28, 40.96it/s]\n",
      "  3%|██▍                                                                       | 6434/191926 [02:17<1:22:30, 37.47it/s]\n",
      "  3%|██▍                                                                       | 6438/191926 [02:17<1:28:21, 34.99it/s]\n",
      "  3%|██▍                                                                       | 6445/191926 [02:17<1:17:44, 39.76it/s]\n",
      "  3%|██▍                                                                       | 6450/191926 [02:17<1:23:21, 37.08it/s]\n",
      "  3%|██▍                                                                       | 6454/191926 [02:17<1:23:23, 37.07it/s]\n",
      "  3%|██▍                                                                       | 6458/191926 [02:17<1:24:20, 36.65it/s]\n",
      "  3%|██▍                                                                       | 6462/191926 [02:17<1:23:08, 37.18it/s]\n",
      "  3%|██▍                                                                       | 6467/191926 [02:17<1:20:27, 38.42it/s]\n",
      "  3%|██▍                                                                       | 6471/191926 [02:18<1:20:25, 38.43it/s]\n",
      "  3%|██▍                                                                       | 6475/191926 [02:18<1:20:24, 38.44it/s]\n",
      "  3%|██▍                                                                       | 6480/191926 [02:18<1:18:32, 39.35it/s]\n",
      "  3%|██▌                                                                       | 6490/191926 [02:18<1:04:59, 47.56it/s]\n",
      "  3%|██▌                                                                       | 6496/191926 [02:18<1:09:35, 44.41it/s]"
     ]
    },
    {
     "name": "stdout",
     "output_type": "stream",
     "text": [
      "loss for 6500 is nan\n"
     ]
    },
    {
     "name": "stderr",
     "output_type": "stream",
     "text": [
      "\n",
      "  3%|██▌                                                                       | 6502/191926 [02:18<1:12:12, 42.80it/s]\n",
      "  3%|██▌                                                                       | 6507/191926 [02:18<1:11:18, 43.34it/s]\n",
      "  3%|██▌                                                                       | 6512/191926 [02:18<1:12:54, 42.39it/s]\n",
      "  3%|██▌                                                                       | 6523/191926 [02:19<1:00:07, 51.39it/s]\n",
      "  3%|██▌                                                                         | 6530/191926 [02:19<57:58, 53.29it/s]\n",
      "  3%|██▌                                                                       | 6537/191926 [02:19<1:06:00, 46.81it/s]\n",
      "  3%|██▌                                                                       | 6543/191926 [02:19<1:13:23, 42.10it/s]\n",
      "  3%|██▌                                                                       | 6548/191926 [02:19<1:21:02, 38.13it/s]\n",
      "  3%|██▌                                                                       | 6553/191926 [02:19<1:19:42, 38.76it/s]\n",
      "  3%|██▌                                                                       | 6558/191926 [02:19<1:23:58, 36.79it/s]\n",
      "  3%|██▌                                                                       | 6562/191926 [02:20<1:26:35, 35.68it/s]\n",
      "  3%|██▌                                                                       | 6567/191926 [02:20<1:23:35, 36.96it/s]\n",
      "  3%|██▌                                                                       | 6571/191926 [02:20<1:21:40, 37.82it/s]\n",
      "  3%|██▌                                                                       | 6575/191926 [02:20<1:21:16, 38.01it/s]\n",
      "  3%|██▌                                                                       | 6579/191926 [02:20<1:22:50, 37.29it/s]\n",
      "  3%|██▌                                                                       | 6584/191926 [02:20<1:20:13, 38.50it/s]\n",
      "  3%|██▌                                                                       | 6588/191926 [02:20<1:19:19, 38.94it/s]\n",
      "  3%|██▌                                                                       | 6593/191926 [02:20<1:18:30, 39.35it/s]\n",
      "  3%|██▌                                                                       | 6600/191926 [02:20<1:09:14, 44.60it/s]"
     ]
    },
    {
     "name": "stdout",
     "output_type": "stream",
     "text": [
      "loss for 6600 is nan\n"
     ]
    },
    {
     "name": "stderr",
     "output_type": "stream",
     "text": [
      "\n",
      "  3%|██▌                                                                       | 6605/191926 [02:21<1:09:58, 44.14it/s]\n",
      "  3%|██▌                                                                       | 6612/191926 [02:21<1:03:48, 48.41it/s]\n",
      "  3%|██▌                                                                         | 6619/191926 [02:21<57:53, 53.34it/s]\n",
      "  3%|██▌                                                                         | 6625/191926 [02:21<57:49, 53.41it/s]\n",
      "  3%|██▋                                                                         | 6631/191926 [02:21<57:08, 54.04it/s]\n",
      "  3%|██▌                                                                       | 6637/191926 [02:21<1:01:00, 50.62it/s]\n",
      "  3%|██▋                                                                         | 6643/191926 [02:21<58:45, 52.56it/s]\n",
      "  3%|██▋                                                                         | 6649/191926 [02:21<57:48, 53.42it/s]\n",
      "  3%|██▌                                                                       | 6655/191926 [02:22<1:01:27, 50.24it/s]\n",
      "  3%|██▋                                                                         | 6662/191926 [02:22<57:18, 53.88it/s]\n",
      "  3%|██▌                                                                       | 6668/191926 [02:22<1:04:12, 48.09it/s]\n",
      "  3%|██▌                                                                       | 6674/191926 [02:22<1:05:56, 46.83it/s]\n",
      "  3%|██▌                                                                       | 6679/191926 [02:22<1:09:07, 44.67it/s]\n",
      "  3%|██▌                                                                       | 6687/191926 [02:22<1:03:39, 48.49it/s]\n",
      "  3%|██▋                                                                         | 6694/191926 [02:22<58:19, 52.93it/s]"
     ]
    },
    {
     "name": "stdout",
     "output_type": "stream",
     "text": [
      "loss for 6700 is nan\n"
     ]
    },
    {
     "name": "stderr",
     "output_type": "stream",
     "text": [
      "\n",
      "  3%|██▋                                                                         | 6701/191926 [02:22<55:38, 55.48it/s]\n",
      "  3%|██▌                                                                       | 6707/191926 [02:23<1:04:15, 48.04it/s]\n",
      "  3%|██▌                                                                       | 6713/191926 [02:23<1:01:02, 50.58it/s]\n",
      "  4%|██▌                                                                       | 6719/191926 [02:23<1:03:05, 48.92it/s]\n",
      "  4%|██▋                                                                         | 6727/191926 [02:23<57:07, 54.03it/s]\n",
      "  4%|██▌                                                                       | 6733/191926 [02:23<1:00:21, 51.13it/s]\n",
      "  4%|██▋                                                                         | 6740/191926 [02:23<56:00, 55.11it/s]\n",
      "  4%|██▋                                                                         | 6749/191926 [02:23<49:54, 61.85it/s]\n",
      "  4%|██▋                                                                         | 6756/191926 [02:23<55:33, 55.54it/s]\n",
      "  4%|██▋                                                                         | 6763/191926 [02:23<53:10, 58.03it/s]\n",
      "  4%|██▋                                                                         | 6770/191926 [02:24<55:44, 55.36it/s]\n",
      "  4%|██▌                                                                       | 6776/191926 [02:24<1:03:05, 48.92it/s]\n",
      "  4%|██▋                                                                         | 6783/191926 [02:24<57:54, 53.28it/s]\n",
      "  4%|██▋                                                                         | 6789/191926 [02:24<58:25, 52.81it/s]\n",
      "  4%|██▋                                                                         | 6799/191926 [02:24<51:16, 60.18it/s]"
     ]
    },
    {
     "name": "stdout",
     "output_type": "stream",
     "text": [
      "loss for 6800 is nan\n"
     ]
    },
    {
     "name": "stderr",
     "output_type": "stream",
     "text": [
      "\n",
      "  4%|██▋                                                                         | 6806/191926 [02:24<55:27, 55.64it/s]\n",
      "  4%|██▋                                                                         | 6813/191926 [02:24<52:34, 58.69it/s]\n",
      "  4%|██▋                                                                         | 6820/191926 [02:24<51:04, 60.40it/s]\n",
      "  4%|██▋                                                                         | 6828/191926 [02:25<47:47, 64.56it/s]\n",
      "  4%|██▋                                                                         | 6835/191926 [02:25<47:11, 65.36it/s]\n",
      "  4%|██▋                                                                         | 6843/191926 [02:25<45:31, 67.75it/s]\n",
      "  4%|██▋                                                                         | 6850/191926 [02:25<50:22, 61.23it/s]\n",
      "  4%|██▋                                                                         | 6858/191926 [02:25<48:13, 63.97it/s]\n",
      "  4%|██▋                                                                         | 6865/191926 [02:25<52:47, 58.43it/s]\n",
      "  4%|██▋                                                                         | 6872/191926 [02:25<57:02, 54.07it/s]\n",
      "  4%|██▋                                                                         | 6878/191926 [02:25<56:34, 54.51it/s]\n",
      "  4%|██▋                                                                         | 6884/191926 [02:26<59:57, 51.43it/s]\n",
      "  4%|██▋                                                                         | 6892/191926 [02:26<53:59, 57.11it/s]\n",
      "  4%|██▋                                                                         | 6899/191926 [02:26<56:49, 54.27it/s]"
     ]
    },
    {
     "name": "stdout",
     "output_type": "stream",
     "text": [
      "loss for 6900 is nan\n"
     ]
    },
    {
     "name": "stderr",
     "output_type": "stream",
     "text": [
      "\n",
      "  4%|██▋                                                                         | 6905/191926 [02:26<55:11, 55.87it/s]\n",
      "  4%|██▋                                                                         | 6912/191926 [02:26<54:29, 56.58it/s]\n",
      "  4%|██▋                                                                         | 6918/191926 [02:26<59:43, 51.62it/s]\n",
      "  4%|██▋                                                                       | 6924/191926 [02:26<1:02:09, 49.60it/s]\n",
      "  4%|██▋                                                                       | 6930/191926 [02:26<1:06:19, 46.49it/s]\n",
      "  4%|██▋                                                                       | 6935/191926 [02:27<1:08:37, 44.93it/s]\n",
      "  4%|██▋                                                                       | 6942/191926 [02:27<1:01:46, 49.91it/s]\n",
      "  4%|██▊                                                                         | 6950/191926 [02:27<55:43, 55.32it/s]\n",
      "  4%|██▊                                                                         | 6958/191926 [02:27<52:52, 58.30it/s]\n",
      "  4%|██▋                                                                       | 6965/191926 [02:27<1:01:51, 49.84it/s]\n",
      "  4%|██▋                                                                       | 6971/191926 [02:27<1:11:04, 43.37it/s]\n",
      "  4%|██▋                                                                       | 6977/191926 [02:27<1:07:28, 45.68it/s]\n",
      "  4%|██▊                                                                         | 6988/191926 [02:28<56:31, 54.54it/s]\n",
      "  4%|██▋                                                                       | 6995/191926 [02:28<1:01:48, 49.86it/s]"
     ]
    },
    {
     "name": "stdout",
     "output_type": "stream",
     "text": [
      "loss for 7000 is nan\n"
     ]
    },
    {
     "name": "stderr",
     "output_type": "stream",
     "text": [
      "\n",
      "  4%|██▊                                                                         | 7002/191926 [02:28<57:42, 53.41it/s]\n",
      "  4%|██▋                                                                       | 7008/191926 [02:28<1:02:03, 49.66it/s]\n",
      "  4%|██▊                                                                         | 7016/191926 [02:28<57:52, 53.24it/s]\n",
      "  4%|██▊                                                                         | 7025/191926 [02:28<53:08, 57.98it/s]\n",
      "  4%|██▊                                                                         | 7032/191926 [02:28<57:06, 53.96it/s]\n",
      "  4%|██▋                                                                       | 7038/191926 [02:28<1:04:46, 47.57it/s]\n",
      "  4%|██▋                                                                       | 7044/191926 [02:29<1:04:43, 47.61it/s]\n",
      "  4%|██▋                                                                       | 7050/191926 [02:29<1:04:33, 47.73it/s]\n",
      "  4%|██▋                                                                       | 7055/191926 [02:29<1:19:28, 38.77it/s]\n",
      "  4%|██▋                                                                       | 7063/191926 [02:29<1:08:15, 45.13it/s]\n",
      "  4%|██▋                                                                       | 7070/191926 [02:29<1:02:59, 48.91it/s]\n",
      "  4%|██▋                                                                       | 7076/191926 [02:29<1:06:33, 46.28it/s]\n",
      "  4%|██▋                                                                       | 7082/191926 [02:29<1:08:09, 45.20it/s]\n",
      "  4%|██▋                                                                       | 7087/191926 [02:30<1:07:40, 45.52it/s]\n",
      "  4%|██▋                                                                       | 7092/191926 [02:30<1:14:43, 41.22it/s]\n",
      "  4%|██▋                                                                       | 7097/191926 [02:30<1:15:13, 40.95it/s]"
     ]
    },
    {
     "name": "stdout",
     "output_type": "stream",
     "text": [
      "loss for 7100 is nan\n"
     ]
    },
    {
     "name": "stderr",
     "output_type": "stream",
     "text": [
      "\n",
      "  4%|██▋                                                                       | 7102/191926 [02:30<1:16:18, 40.37it/s]\n",
      "  4%|██▋                                                                       | 7107/191926 [02:30<1:19:17, 38.85it/s]\n",
      "  4%|██▋                                                                       | 7115/191926 [02:30<1:07:30, 45.62it/s]\n",
      "  4%|██▋                                                                       | 7121/191926 [02:30<1:03:53, 48.21it/s]\n",
      "  4%|██▊                                                                         | 7130/191926 [02:30<57:02, 53.99it/s]\n",
      "  4%|██▊                                                                       | 7136/191926 [02:31<1:04:33, 47.70it/s]\n",
      "  4%|██▊                                                                       | 7142/191926 [02:31<1:04:54, 47.45it/s]\n",
      "  4%|██▊                                                                         | 7152/191926 [02:31<56:08, 54.85it/s]\n",
      "  4%|██▊                                                                       | 7159/191926 [02:31<1:00:56, 50.53it/s]\n",
      "  4%|██▊                                                                         | 7166/191926 [02:31<57:58, 53.12it/s]\n",
      "  4%|██▊                                                                       | 7172/191926 [02:31<1:03:21, 48.60it/s]\n",
      "  4%|██▊                                                                         | 7183/191926 [02:31<53:45, 57.28it/s]\n",
      "  4%|██▊                                                                       | 7190/191926 [02:32<1:09:34, 44.25it/s]\n",
      "  4%|██▊                                                                       | 7196/191926 [02:32<1:20:43, 38.14it/s]"
     ]
    },
    {
     "name": "stdout",
     "output_type": "stream",
     "text": [
      "loss for 7200 is nan\n"
     ]
    },
    {
     "name": "stderr",
     "output_type": "stream",
     "text": [
      "\n",
      "  4%|██▊                                                                       | 7201/191926 [02:32<1:20:09, 38.41it/s]\n",
      "  4%|██▊                                                                       | 7206/191926 [02:32<1:21:13, 37.90it/s]\n",
      "  4%|██▊                                                                       | 7211/191926 [02:32<1:20:33, 38.21it/s]\n",
      "  4%|██▊                                                                       | 7216/191926 [02:32<1:19:55, 38.52it/s]\n",
      "  4%|██▊                                                                       | 7221/191926 [02:32<1:17:39, 39.64it/s]\n",
      "  4%|██▊                                                                       | 7226/191926 [02:33<1:17:58, 39.48it/s]\n",
      "  4%|██▊                                                                       | 7231/191926 [02:33<1:17:00, 39.97it/s]\n",
      "  4%|██▊                                                                       | 7236/191926 [02:33<1:16:58, 39.98it/s]\n",
      "  4%|██▊                                                                       | 7241/191926 [02:33<1:14:04, 41.55it/s]\n",
      "  4%|██▊                                                                       | 7246/191926 [02:33<1:21:55, 37.57it/s]\n",
      "  4%|██▊                                                                       | 7250/191926 [02:33<1:25:42, 35.91it/s]\n",
      "  4%|██▊                                                                       | 7254/191926 [02:33<1:29:39, 34.33it/s]\n",
      "  4%|██▊                                                                       | 7258/191926 [02:33<1:26:18, 35.66it/s]\n",
      "  4%|██▊                                                                       | 7262/191926 [02:34<1:32:13, 33.37it/s]\n",
      "  4%|██▊                                                                       | 7266/191926 [02:34<1:29:48, 34.27it/s]\n",
      "  4%|██▊                                                                       | 7271/191926 [02:34<1:25:56, 35.81it/s]\n",
      "  4%|██▊                                                                       | 7275/191926 [02:34<1:28:59, 34.58it/s]\n",
      "  4%|██▊                                                                       | 7280/191926 [02:34<1:22:29, 37.31it/s]\n",
      "  4%|██▊                                                                       | 7284/191926 [02:34<1:22:54, 37.12it/s]\n",
      "  4%|██▊                                                                       | 7288/191926 [02:34<1:24:00, 36.63it/s]\n",
      "  4%|██▊                                                                       | 7294/191926 [02:34<1:18:35, 39.16it/s]\n",
      "  4%|██▊                                                                       | 7298/191926 [02:35<1:19:28, 38.72it/s]"
     ]
    },
    {
     "name": "stdout",
     "output_type": "stream",
     "text": [
      "loss for 7300 is nan\n"
     ]
    },
    {
     "name": "stderr",
     "output_type": "stream",
     "text": [
      "\n",
      "  4%|██▊                                                                       | 7302/191926 [02:35<1:26:58, 35.38it/s]\n",
      "  4%|██▊                                                                       | 7306/191926 [02:35<1:26:07, 35.73it/s]\n",
      "  4%|██▊                                                                       | 7310/191926 [02:35<1:29:07, 34.52it/s]\n",
      "  4%|██▊                                                                       | 7315/191926 [02:35<1:25:27, 36.01it/s]\n",
      "  4%|██▊                                                                       | 7319/191926 [02:35<1:27:20, 35.23it/s]\n",
      "  4%|██▊                                                                       | 7324/191926 [02:35<1:20:13, 38.35it/s]\n",
      "  4%|██▊                                                                       | 7328/191926 [02:35<1:38:32, 31.22it/s]\n",
      "  4%|██▊                                                                       | 7332/191926 [02:36<1:56:02, 26.51it/s]\n",
      "  4%|██▊                                                                       | 7338/191926 [02:36<1:38:02, 31.38it/s]\n",
      "  4%|██▊                                                                       | 7342/191926 [02:36<1:33:51, 32.78it/s]\n",
      "  4%|██▊                                                                       | 7350/191926 [02:36<1:18:58, 38.95it/s]\n",
      "  4%|██▊                                                                       | 7355/191926 [02:36<1:21:07, 37.92it/s]\n",
      "  4%|██▊                                                                       | 7360/191926 [02:36<1:18:56, 38.97it/s]\n",
      "  4%|██▊                                                                       | 7365/191926 [02:36<1:15:11, 40.91it/s]\n",
      "  4%|██▊                                                                       | 7370/191926 [02:36<1:16:15, 40.34it/s]\n",
      "  4%|██▊                                                                       | 7375/191926 [02:37<1:16:15, 40.33it/s]\n",
      "  4%|██▊                                                                       | 7380/191926 [02:37<1:14:02, 41.54it/s]\n",
      "  4%|██▊                                                                       | 7391/191926 [02:37<1:02:13, 49.42it/s]\n",
      "  4%|██▊                                                                       | 7397/191926 [02:37<1:03:14, 48.63it/s]"
     ]
    },
    {
     "name": "stdout",
     "output_type": "stream",
     "text": [
      "loss for 7400 is nan\n"
     ]
    },
    {
     "name": "stderr",
     "output_type": "stream",
     "text": [
      "\n",
      "  4%|██▊                                                                       | 7403/191926 [02:37<1:08:52, 44.65it/s]\n",
      "  4%|██▊                                                                       | 7409/191926 [02:37<1:07:16, 45.71it/s]\n",
      "  4%|██▊                                                                       | 7414/191926 [02:37<1:08:29, 44.90it/s]\n",
      "  4%|██▊                                                                       | 7419/191926 [02:37<1:12:18, 42.53it/s]\n",
      "  4%|██▊                                                                       | 7424/191926 [02:38<1:14:13, 41.43it/s]\n",
      "  4%|██▊                                                                       | 7429/191926 [02:38<1:16:18, 40.30it/s]\n",
      "  4%|██▊                                                                       | 7434/191926 [02:38<1:16:17, 40.30it/s]\n",
      "  4%|██▊                                                                       | 7439/191926 [02:38<1:17:01, 39.92it/s]\n",
      "  4%|██▊                                                                       | 7444/191926 [02:38<1:15:18, 40.83it/s]\n",
      "  4%|██▊                                                                       | 7449/191926 [02:38<1:14:51, 41.08it/s]\n",
      "  4%|██▊                                                                       | 7454/191926 [02:38<1:18:13, 39.31it/s]\n",
      "  4%|██▉                                                                       | 7462/191926 [02:38<1:07:12, 45.75it/s]\n",
      "  4%|██▉                                                                       | 7468/191926 [02:39<1:04:52, 47.39it/s]\n",
      "  4%|██▉                                                                         | 7476/191926 [02:39<57:23, 53.56it/s]\n",
      "  4%|██▉                                                                         | 7483/191926 [02:39<54:55, 55.96it/s]\n",
      "  4%|██▉                                                                         | 7490/191926 [02:39<54:15, 56.65it/s]\n",
      "  4%|██▉                                                                         | 7496/191926 [02:39<57:39, 53.32it/s]"
     ]
    },
    {
     "name": "stdout",
     "output_type": "stream",
     "text": [
      "loss for 7500 is nan\n"
     ]
    },
    {
     "name": "stderr",
     "output_type": "stream",
     "text": [
      "\n",
      "  4%|██▉                                                                         | 7502/191926 [02:39<57:34, 53.39it/s]\n",
      "  4%|██▉                                                                       | 7508/191926 [02:39<1:02:25, 49.24it/s]\n",
      "  4%|██▉                                                                         | 7516/191926 [02:39<55:41, 55.20it/s]\n",
      "  4%|██▉                                                                         | 7522/191926 [02:40<56:11, 54.70it/s]\n",
      "  4%|██▉                                                                       | 7528/191926 [02:40<1:02:04, 49.51it/s]\n",
      "  4%|██▉                                                                       | 7534/191926 [02:40<1:05:34, 46.86it/s]\n",
      "  4%|██▉                                                                       | 7539/191926 [02:40<1:08:45, 44.69it/s]\n",
      "  4%|██▉                                                                       | 7544/191926 [02:40<1:13:12, 41.97it/s]\n",
      "  4%|██▉                                                                       | 7553/191926 [02:40<1:01:53, 49.64it/s]\n",
      "  4%|██▉                                                                       | 7559/191926 [02:40<1:04:50, 47.39it/s]\n",
      "  4%|██▉                                                                       | 7565/191926 [02:40<1:06:53, 45.93it/s]\n",
      "  4%|██▉                                                                       | 7570/191926 [02:41<1:13:22, 41.88it/s]\n",
      "  4%|██▉                                                                       | 7575/191926 [02:41<1:10:31, 43.56it/s]\n",
      "  4%|██▉                                                                       | 7580/191926 [02:41<1:12:57, 42.11it/s]\n",
      "  4%|██▉                                                                       | 7585/191926 [02:41<1:12:27, 42.40it/s]\n",
      "  4%|██▉                                                                       | 7592/191926 [02:41<1:05:27, 46.93it/s]\n",
      "  4%|██▉                                                                       | 7598/191926 [02:41<1:02:24, 49.22it/s]"
     ]
    },
    {
     "name": "stdout",
     "output_type": "stream",
     "text": [
      "loss for 7600 is nan\n"
     ]
    },
    {
     "name": "stderr",
     "output_type": "stream",
     "text": [
      "\n",
      "  4%|██▉                                                                       | 7604/191926 [02:41<1:07:02, 45.83it/s]\n",
      "  4%|██▉                                                                       | 7610/191926 [02:41<1:05:58, 46.57it/s]\n",
      "  4%|██▉                                                                       | 7615/191926 [02:42<1:07:33, 45.47it/s]\n",
      "  4%|██▉                                                                       | 7620/191926 [02:42<1:09:24, 44.26it/s]\n",
      "  4%|██▉                                                                       | 7625/191926 [02:42<1:12:54, 42.13it/s]\n",
      "  4%|██▉                                                                       | 7636/191926 [02:42<1:00:24, 50.84it/s]\n",
      "  4%|██▉                                                                       | 7642/191926 [02:42<1:03:47, 48.15it/s]\n",
      "  4%|██▉                                                                       | 7648/191926 [02:42<1:11:03, 43.22it/s]\n",
      "  4%|██▉                                                                       | 7653/191926 [02:42<1:08:10, 45.05it/s]\n",
      "  4%|██▉                                                                       | 7660/191926 [02:42<1:02:59, 48.76it/s]\n",
      "  4%|███                                                                         | 7667/191926 [02:43<57:46, 53.15it/s]\n",
      "  4%|██▉                                                                       | 7673/191926 [02:43<1:01:56, 49.58it/s]\n",
      "  4%|██▉                                                                       | 7679/191926 [02:43<1:04:14, 47.80it/s]\n",
      "  4%|██▉                                                                       | 7685/191926 [02:43<1:07:41, 45.37it/s]\n",
      "  4%|██▉                                                                       | 7692/191926 [02:43<1:02:07, 49.43it/s]\n",
      "  4%|██▉                                                                       | 7698/191926 [02:43<1:07:25, 45.54it/s]"
     ]
    },
    {
     "name": "stdout",
     "output_type": "stream",
     "text": [
      "loss for 7700 is nan\n"
     ]
    },
    {
     "name": "stderr",
     "output_type": "stream",
     "text": [
      "\n",
      "  4%|██▉                                                                       | 7705/191926 [02:43<1:04:02, 47.94it/s]\n",
      "  4%|██▉                                                                       | 7710/191926 [02:44<1:08:24, 44.88it/s]\n",
      "  4%|██▉                                                                       | 7718/191926 [02:44<1:00:46, 50.51it/s]\n",
      "  4%|██▉                                                                       | 7724/191926 [02:44<1:01:34, 49.86it/s]\n",
      "  4%|███                                                                         | 7731/191926 [02:44<58:21, 52.60it/s]\n",
      "  4%|███                                                                         | 7738/191926 [02:44<54:32, 56.29it/s]\n",
      "  4%|███                                                                         | 7744/191926 [02:44<58:26, 52.53it/s]\n",
      "  4%|███                                                                         | 7751/191926 [02:44<55:38, 55.17it/s]\n",
      "  4%|██▉                                                                       | 7757/191926 [02:44<1:01:02, 50.28it/s]\n",
      "  4%|██▉                                                                       | 7763/191926 [02:44<1:06:03, 46.47it/s]\n",
      "  4%|██▉                                                                       | 7768/191926 [02:45<1:12:01, 42.62it/s]\n",
      "  4%|██▉                                                                       | 7773/191926 [02:45<1:29:32, 34.28it/s]\n",
      "  4%|██▉                                                                       | 7777/191926 [02:45<1:29:22, 34.34it/s]\n",
      "  4%|███                                                                       | 7781/191926 [02:45<1:28:20, 34.74it/s]\n",
      "  4%|███                                                                       | 7785/191926 [02:45<1:26:41, 35.40it/s]\n",
      "  4%|███                                                                       | 7792/191926 [02:45<1:14:16, 41.31it/s]\n",
      "  4%|███                                                                       | 7797/191926 [02:45<1:13:50, 41.56it/s]"
     ]
    },
    {
     "name": "stdout",
     "output_type": "stream",
     "text": [
      "loss for 7800 is nan\n"
     ]
    },
    {
     "name": "stderr",
     "output_type": "stream",
     "text": [
      "\n",
      "  4%|███                                                                       | 7807/191926 [02:46<1:01:27, 49.92it/s]\n",
      "  4%|███                                                                       | 7813/191926 [02:46<1:07:40, 45.34it/s]\n",
      "  4%|███                                                                       | 7820/191926 [02:46<1:01:44, 49.69it/s]\n",
      "  4%|███                                                                       | 7826/191926 [02:46<1:02:23, 49.18it/s]\n",
      "  4%|███                                                                         | 7833/191926 [02:46<58:03, 52.85it/s]\n",
      "  4%|███                                                                         | 7839/191926 [02:46<58:15, 52.66it/s]\n",
      "  4%|███                                                                         | 7847/191926 [02:46<52:17, 58.67it/s]\n",
      "  4%|███                                                                         | 7856/191926 [02:46<49:58, 61.38it/s]\n",
      "  4%|███                                                                         | 7863/191926 [02:47<54:40, 56.12it/s]\n",
      "  4%|███                                                                         | 7870/191926 [02:47<52:11, 58.77it/s]\n",
      "  4%|███                                                                         | 7879/191926 [02:47<47:42, 64.29it/s]\n",
      "  4%|███                                                                         | 7888/191926 [02:47<44:34, 68.81it/s]\n",
      "  4%|███▏                                                                        | 7896/191926 [02:47<45:34, 67.29it/s]"
     ]
    },
    {
     "name": "stdout",
     "output_type": "stream",
     "text": [
      "loss for 7900 is nan\n"
     ]
    },
    {
     "name": "stderr",
     "output_type": "stream",
     "text": [
      "\n",
      "  4%|███▏                                                                        | 7903/191926 [02:47<51:51, 59.13it/s]\n",
      "  4%|███▏                                                                        | 7910/191926 [02:47<51:55, 59.07it/s]\n",
      "  4%|███▏                                                                        | 7917/191926 [02:47<59:09, 51.84it/s]\n",
      "  4%|███                                                                       | 7923/191926 [02:48<1:00:15, 50.89it/s]\n",
      "  4%|███                                                                       | 7929/191926 [02:48<1:03:15, 48.48it/s]\n",
      "  4%|███                                                                       | 7936/191926 [02:48<1:00:41, 50.52it/s]\n",
      "  4%|███                                                                       | 7942/191926 [02:48<1:08:49, 44.55it/s]\n",
      "  4%|███                                                                       | 7948/191926 [02:48<1:08:03, 45.06it/s]\n",
      "  4%|███                                                                       | 7954/191926 [02:48<1:03:27, 48.32it/s]\n",
      "  4%|███                                                                       | 7960/191926 [02:48<1:12:30, 42.28it/s]\n",
      "  4%|███                                                                       | 7965/191926 [02:49<1:20:43, 37.98it/s]\n",
      "  4%|███                                                                       | 7970/191926 [02:49<1:16:26, 40.11it/s]\n",
      "  4%|███                                                                       | 7976/191926 [02:49<1:10:16, 43.63it/s]\n",
      "  4%|███                                                                       | 7982/191926 [02:49<1:05:56, 46.49it/s]\n",
      "  4%|███                                                                       | 7987/191926 [02:49<1:23:07, 36.88it/s]\n",
      "  4%|███                                                                       | 7992/191926 [02:49<1:33:23, 32.82it/s]\n",
      "  4%|███                                                                       | 7998/191926 [02:49<1:22:55, 36.97it/s]"
     ]
    },
    {
     "name": "stdout",
     "output_type": "stream",
     "text": [
      "loss for 8000 is nan\n"
     ]
    },
    {
     "name": "stderr",
     "output_type": "stream",
     "text": [
      "\n",
      "  4%|███                                                                       | 8003/191926 [02:50<1:26:21, 35.50it/s]\n",
      "  4%|███                                                                       | 8009/191926 [02:50<1:16:51, 39.88it/s]\n",
      "  4%|███                                                                       | 8014/191926 [02:50<1:16:47, 39.92it/s]\n",
      "  4%|███                                                                       | 8024/191926 [02:50<1:05:24, 46.86it/s]\n",
      "  4%|███                                                                       | 8030/191926 [02:50<1:12:06, 42.50it/s]\n",
      "  4%|███                                                                       | 8035/191926 [02:50<1:09:36, 44.02it/s]\n",
      "  4%|███                                                                       | 8040/191926 [02:50<1:09:45, 43.93it/s]\n",
      "  4%|███                                                                       | 8045/191926 [02:50<1:14:26, 41.17it/s]\n",
      "  4%|███                                                                       | 8051/191926 [02:51<1:09:08, 44.32it/s]\n",
      "  4%|███                                                                       | 8056/191926 [02:51<1:13:58, 41.42it/s]\n",
      "  4%|███                                                                       | 8061/191926 [02:51<1:14:45, 40.99it/s]\n",
      "  4%|███                                                                       | 8066/191926 [02:51<1:15:18, 40.69it/s]\n",
      "  4%|███                                                                       | 8071/191926 [02:51<1:21:26, 37.63it/s]\n",
      "  4%|███                                                                       | 8076/191926 [02:51<1:19:32, 38.52it/s]\n",
      "  4%|███                                                                       | 8080/191926 [02:51<1:24:54, 36.09it/s]\n",
      "  4%|███                                                                       | 8084/191926 [02:51<1:29:17, 34.31it/s]\n",
      "  4%|███                                                                       | 8088/191926 [02:52<1:26:51, 35.27it/s]\n",
      "  4%|███                                                                       | 8092/191926 [02:52<1:25:24, 35.87it/s]\n",
      "  4%|███                                                                       | 8097/191926 [02:52<1:19:53, 38.35it/s]"
     ]
    },
    {
     "name": "stdout",
     "output_type": "stream",
     "text": [
      "loss for 8100 is nan\n"
     ]
    },
    {
     "name": "stderr",
     "output_type": "stream",
     "text": [
      "\n",
      "  4%|███                                                                       | 8103/191926 [02:52<1:12:40, 42.16it/s]\n",
      "  4%|███▏                                                                      | 8108/191926 [02:52<1:13:50, 41.49it/s]\n",
      "  4%|███▏                                                                      | 8113/191926 [02:52<1:17:09, 39.71it/s]\n",
      "  4%|███▏                                                                      | 8118/191926 [02:52<1:14:26, 41.16it/s]\n",
      "  4%|███▏                                                                      | 8123/191926 [02:52<1:17:52, 39.33it/s]\n",
      "  4%|███▏                                                                      | 8128/191926 [02:53<1:20:28, 38.06it/s]\n",
      "  4%|███▏                                                                      | 8132/191926 [02:53<1:24:45, 36.14it/s]\n",
      "  4%|███▏                                                                      | 8136/191926 [02:53<1:24:27, 36.27it/s]\n",
      "  4%|███▏                                                                      | 8140/191926 [02:53<1:27:49, 34.88it/s]\n",
      "  4%|███▏                                                                      | 8144/191926 [02:53<1:26:35, 35.37it/s]\n",
      "  4%|███▏                                                                      | 8148/191926 [02:53<1:25:22, 35.88it/s]\n",
      "  4%|███▏                                                                      | 8152/191926 [02:53<1:26:07, 35.56it/s]\n",
      "  4%|███▏                                                                      | 8159/191926 [02:53<1:15:17, 40.68it/s]\n",
      "  4%|███▏                                                                      | 8164/191926 [02:53<1:18:47, 38.87it/s]\n",
      "  4%|███▏                                                                      | 8169/191926 [02:54<1:36:20, 31.79it/s]\n",
      "  4%|███▏                                                                      | 8177/191926 [02:54<1:21:47, 37.44it/s]\n",
      "  4%|███▏                                                                      | 8184/191926 [02:54<1:13:39, 41.58it/s]\n",
      "  4%|███▏                                                                      | 8189/191926 [02:54<1:13:59, 41.38it/s]\n",
      "  4%|███▏                                                                      | 8194/191926 [02:54<1:18:41, 38.91it/s]\n",
      "  4%|███▏                                                                      | 8199/191926 [02:54<1:16:08, 40.22it/s]"
     ]
    },
    {
     "name": "stdout",
     "output_type": "stream",
     "text": [
      "loss for 8200 is nan\n"
     ]
    },
    {
     "name": "stderr",
     "output_type": "stream",
     "text": [
      "\n",
      "  4%|███▏                                                                      | 8205/191926 [02:54<1:09:31, 44.05it/s]\n",
      "  4%|███▏                                                                      | 8210/191926 [02:55<1:14:02, 41.35it/s]\n",
      "  4%|███▏                                                                      | 8215/191926 [02:55<1:12:42, 42.11it/s]\n",
      "  4%|███▏                                                                      | 8220/191926 [02:55<1:13:51, 41.46it/s]\n",
      "  4%|███▏                                                                      | 8225/191926 [02:55<1:14:39, 41.01it/s]\n",
      "  4%|███▏                                                                      | 8230/191926 [02:55<1:15:12, 40.71it/s]\n",
      "  4%|███▏                                                                      | 8235/191926 [02:55<1:16:05, 40.24it/s]\n",
      "  4%|███▏                                                                      | 8240/191926 [02:55<1:24:31, 36.22it/s]\n",
      "  4%|███▏                                                                      | 8244/191926 [02:56<1:30:10, 33.95it/s]\n",
      "  4%|███▏                                                                      | 8250/191926 [02:56<1:19:21, 38.57it/s]\n",
      "  4%|███▏                                                                      | 8258/191926 [02:56<1:08:06, 44.95it/s]\n",
      "  4%|███▏                                                                      | 8264/191926 [02:56<1:06:47, 45.83it/s]\n",
      "  4%|███▎                                                                        | 8273/191926 [02:56<57:54, 52.85it/s]\n",
      "  4%|███▎                                                                        | 8280/191926 [02:56<56:55, 53.76it/s]\n",
      "  4%|███▏                                                                      | 8286/191926 [02:56<1:09:15, 44.19it/s]\n",
      "  4%|███▏                                                                      | 8292/191926 [02:56<1:07:36, 45.27it/s]"
     ]
    },
    {
     "name": "stdout",
     "output_type": "stream",
     "text": [
      "loss for 8300 is nan\n"
     ]
    },
    {
     "name": "stderr",
     "output_type": "stream",
     "text": [
      "\n",
      "  4%|███▎                                                                        | 8303/191926 [02:57<56:30, 54.17it/s]\n",
      "  4%|███▏                                                                      | 8310/191926 [02:57<1:00:42, 50.41it/s]\n",
      "  4%|███▏                                                                      | 8316/191926 [02:57<1:06:23, 46.09it/s]\n",
      "  4%|███▏                                                                      | 8322/191926 [02:57<1:07:59, 45.01it/s]\n",
      "  4%|███▏                                                                      | 8327/191926 [02:57<1:11:31, 42.78it/s]\n",
      "  4%|███▏                                                                      | 8332/191926 [02:57<1:11:52, 42.57it/s]\n",
      "  4%|███▏                                                                      | 8337/191926 [02:57<1:30:04, 33.97it/s]\n",
      "  4%|███▏                                                                      | 8342/191926 [02:58<1:25:16, 35.88it/s]\n",
      "  4%|███▏                                                                      | 8347/191926 [02:58<1:22:44, 36.98it/s]\n",
      "  4%|███▏                                                                      | 8351/191926 [02:58<1:42:21, 29.89it/s]\n",
      "  4%|███▏                                                                      | 8356/191926 [02:58<1:32:19, 33.14it/s]\n",
      "  4%|███▏                                                                      | 8360/191926 [02:58<2:05:17, 24.42it/s]\n",
      "  4%|███▏                                                                      | 8364/191926 [02:58<1:55:03, 26.59it/s]\n",
      "  4%|███▏                                                                      | 8373/191926 [02:58<1:32:25, 33.10it/s]\n",
      "  4%|███▏                                                                      | 8381/191926 [02:59<1:18:20, 39.05it/s]\n",
      "  4%|███▏                                                                      | 8387/191926 [02:59<1:13:24, 41.67it/s]\n",
      "  4%|███▏                                                                      | 8393/191926 [02:59<1:12:53, 41.97it/s]"
     ]
    },
    {
     "name": "stdout",
     "output_type": "stream",
     "text": [
      "loss for 8400 is nan\n"
     ]
    },
    {
     "name": "stderr",
     "output_type": "stream",
     "text": [
      "\n",
      "  4%|███▏                                                                      | 8401/191926 [02:59<1:03:33, 48.12it/s]\n",
      "  4%|███▏                                                                      | 8407/191926 [02:59<1:01:55, 49.40it/s]\n",
      "  4%|███▎                                                                        | 8416/191926 [02:59<55:03, 55.55it/s]\n",
      "  4%|███▎                                                                        | 8423/191926 [02:59<56:37, 54.01it/s]\n",
      "  4%|███▏                                                                      | 8429/191926 [03:00<1:01:54, 49.40it/s]\n",
      "  4%|███▎                                                                        | 8437/191926 [03:00<55:52, 54.73it/s]\n",
      "  4%|███▎                                                                        | 8444/191926 [03:00<53:26, 57.22it/s]\n",
      "  4%|███▎                                                                        | 8453/191926 [03:00<48:33, 62.98it/s]\n",
      "  4%|███▎                                                                        | 8460/191926 [03:00<56:30, 54.12it/s]\n",
      "  4%|███▎                                                                      | 8466/191926 [03:00<1:03:47, 47.93it/s]\n",
      "  4%|███▎                                                                        | 8473/191926 [03:00<59:06, 51.73it/s]\n",
      "  4%|███▎                                                                        | 8479/191926 [03:00<58:51, 51.95it/s]\n",
      "  4%|███▎                                                                        | 8486/191926 [03:00<56:10, 54.42it/s]\n",
      "  4%|███▎                                                                      | 8492/191926 [03:01<1:02:50, 48.65it/s]\n",
      "  4%|███▎                                                                      | 8498/191926 [03:01<1:05:28, 46.69it/s]"
     ]
    },
    {
     "name": "stdout",
     "output_type": "stream",
     "text": [
      "loss for 8500 is nan\n"
     ]
    },
    {
     "name": "stderr",
     "output_type": "stream",
     "text": [
      "\n",
      "  4%|███▎                                                                      | 8504/191926 [03:01<1:04:56, 47.08it/s]\n",
      "  4%|███▎                                                                      | 8509/191926 [03:01<1:05:30, 46.66it/s]\n",
      "  4%|███▎                                                                        | 8517/191926 [03:01<58:10, 52.55it/s]\n",
      "  4%|███▍                                                                        | 8525/191926 [03:01<54:18, 56.29it/s]\n",
      "  4%|███▎                                                                      | 8531/191926 [03:02<1:17:16, 39.56it/s]\n",
      "  4%|███▎                                                                      | 8536/191926 [03:02<1:22:56, 36.85it/s]\n",
      "  4%|███▎                                                                      | 8545/191926 [03:02<1:08:17, 44.75it/s]\n",
      "  4%|███▎                                                                      | 8552/191926 [03:02<1:02:07, 49.19it/s]\n",
      "  4%|███▍                                                                        | 8562/191926 [03:02<54:56, 55.62it/s]\n",
      "  4%|███▍                                                                        | 8570/191926 [03:02<52:30, 58.20it/s]\n",
      "  4%|███▍                                                                        | 8577/191926 [03:02<59:00, 51.78it/s]\n",
      "  4%|███▍                                                                        | 8584/191926 [03:02<56:53, 53.71it/s]\n",
      "  4%|███▍                                                                        | 8590/191926 [03:03<58:24, 52.32it/s]\n",
      "  4%|███▎                                                                      | 8596/191926 [03:03<1:01:52, 49.38it/s]"
     ]
    },
    {
     "name": "stdout",
     "output_type": "stream",
     "text": [
      "loss for 8600 is nan\n"
     ]
    },
    {
     "name": "stderr",
     "output_type": "stream",
     "text": [
      "\n",
      "  4%|███▎                                                                      | 8602/191926 [03:03<1:04:47, 47.16it/s]\n",
      "  4%|███▎                                                                      | 8607/191926 [03:03<1:05:23, 46.72it/s]\n",
      "  4%|███▎                                                                      | 8612/191926 [03:03<1:05:49, 46.42it/s]\n",
      "  4%|███▎                                                                      | 8619/191926 [03:03<1:00:38, 50.38it/s]\n",
      "  4%|███▎                                                                      | 8625/191926 [03:03<1:04:04, 47.68it/s]\n",
      "  4%|███▍                                                                        | 8633/191926 [03:03<58:53, 51.88it/s]\n",
      "  5%|███▍                                                                        | 8641/191926 [03:04<56:04, 54.47it/s]\n",
      "  5%|███▍                                                                        | 8649/191926 [03:04<51:29, 59.33it/s]\n",
      "  5%|███▍                                                                        | 8659/191926 [03:04<46:03, 66.32it/s]\n",
      "  5%|███▍                                                                        | 8667/191926 [03:04<44:45, 68.23it/s]\n",
      "  5%|███▍                                                                        | 8675/191926 [03:04<50:55, 59.97it/s]\n",
      "  5%|███▎                                                                      | 8682/191926 [03:04<1:02:38, 48.76it/s]\n",
      "  5%|███▎                                                                      | 8688/191926 [03:05<1:24:22, 36.20it/s]\n",
      "  5%|███▎                                                                      | 8693/191926 [03:05<1:21:24, 37.52it/s]\n",
      "  5%|███▎                                                                      | 8698/191926 [03:05<1:20:02, 38.15it/s]"
     ]
    },
    {
     "name": "stdout",
     "output_type": "stream",
     "text": [
      "loss for 8700 is nan\n"
     ]
    },
    {
     "name": "stderr",
     "output_type": "stream",
     "text": [
      "\n",
      "  5%|███▎                                                                      | 8703/191926 [03:05<1:16:03, 40.15it/s]\n",
      "  5%|███▎                                                                      | 8714/191926 [03:05<1:03:38, 47.97it/s]\n",
      "  5%|███▎                                                                      | 8720/191926 [03:05<1:07:00, 45.57it/s]\n",
      "  5%|███▎                                                                      | 8727/191926 [03:05<1:00:22, 50.58it/s]\n",
      "  5%|███▎                                                                      | 8733/191926 [03:05<1:00:53, 50.14it/s]\n",
      "  5%|███▍                                                                        | 8740/191926 [03:05<57:37, 52.99it/s]\n",
      "  5%|███▍                                                                        | 8749/191926 [03:06<52:46, 57.85it/s]\n",
      "  5%|███▍                                                                        | 8756/191926 [03:06<51:14, 59.57it/s]\n",
      "  5%|███▍                                                                      | 8763/191926 [03:06<1:02:26, 48.89it/s]\n",
      "  5%|███▍                                                                      | 8770/191926 [03:06<1:00:03, 50.83it/s]\n",
      "  5%|███▍                                                                        | 8778/191926 [03:06<56:05, 54.42it/s]\n",
      "  5%|███▍                                                                      | 8784/191926 [03:06<1:02:06, 49.14it/s]\n",
      "  5%|███▍                                                                      | 8790/191926 [03:06<1:04:34, 47.26it/s]\n",
      "  5%|███▍                                                                      | 8796/191926 [03:07<1:01:35, 49.56it/s]"
     ]
    },
    {
     "name": "stdout",
     "output_type": "stream",
     "text": [
      "loss for 8800 is nan\n"
     ]
    },
    {
     "name": "stderr",
     "output_type": "stream",
     "text": [
      "\n",
      "  5%|███▍                                                                      | 8802/191926 [03:07<1:06:34, 45.84it/s]\n",
      "  5%|███▍                                                                      | 8809/191926 [03:07<1:00:54, 50.11it/s]\n",
      "  5%|███▍                                                                      | 8815/191926 [03:07<1:01:42, 49.46it/s]\n",
      "  5%|███▍                                                                      | 8821/191926 [03:07<1:04:38, 47.21it/s]\n",
      "  5%|███▍                                                                      | 8826/191926 [03:07<1:09:19, 44.02it/s]\n",
      "  5%|███▍                                                                      | 8831/191926 [03:07<1:11:45, 42.53it/s]\n",
      "  5%|███▍                                                                      | 8836/191926 [03:07<1:19:03, 38.59it/s]\n",
      "  5%|███▍                                                                      | 8841/191926 [03:08<1:16:50, 39.71it/s]\n",
      "  5%|███▍                                                                      | 8846/191926 [03:08<1:13:48, 41.34it/s]\n",
      "  5%|███▍                                                                      | 8851/191926 [03:08<1:11:41, 42.57it/s]\n",
      "  5%|███▌                                                                        | 8862/191926 [03:08<59:16, 51.47it/s]\n",
      "  5%|███▌                                                                        | 8873/191926 [03:08<50:35, 60.31it/s]\n",
      "  5%|███▌                                                                        | 8881/191926 [03:08<51:18, 59.46it/s]\n",
      "  5%|███▌                                                                        | 8888/191926 [03:08<52:58, 57.59it/s]\n",
      "  5%|███▌                                                                        | 8895/191926 [03:08<53:02, 57.51it/s]"
     ]
    },
    {
     "name": "stdout",
     "output_type": "stream",
     "text": [
      "loss for 8900 is nan\n"
     ]
    },
    {
     "name": "stderr",
     "output_type": "stream",
     "text": [
      "\n",
      "  5%|███▌                                                                        | 8902/191926 [03:09<59:24, 51.35it/s]\n",
      "  5%|███▌                                                                        | 8909/191926 [03:09<55:52, 54.59it/s]\n",
      "  5%|███▌                                                                        | 8917/191926 [03:09<51:37, 59.09it/s]\n",
      "  5%|███▌                                                                        | 8924/191926 [03:09<52:28, 58.13it/s]\n",
      "  5%|███▌                                                                        | 8931/191926 [03:09<51:01, 59.78it/s]\n",
      "  5%|███▍                                                                      | 8938/191926 [03:09<1:07:24, 45.25it/s]\n",
      "  5%|███▍                                                                      | 8944/191926 [03:09<1:12:39, 41.98it/s]\n",
      "  5%|███▍                                                                      | 8949/191926 [03:10<1:11:00, 42.95it/s]\n",
      "  5%|███▍                                                                      | 8954/191926 [03:10<1:08:20, 44.62it/s]\n",
      "  5%|███▍                                                                      | 8961/191926 [03:10<1:02:07, 49.08it/s]\n",
      "  5%|███▌                                                                        | 8968/191926 [03:10<57:46, 52.78it/s]\n",
      "  5%|███▍                                                                      | 8974/191926 [03:10<1:06:38, 45.75it/s]\n",
      "  5%|███▍                                                                      | 8982/191926 [03:10<1:01:13, 49.81it/s]\n",
      "  5%|███▍                                                                      | 8988/191926 [03:10<1:05:44, 46.38it/s]\n",
      "  5%|███▌                                                                        | 8996/191926 [03:10<59:29, 51.25it/s]"
     ]
    },
    {
     "name": "stdout",
     "output_type": "stream",
     "text": [
      "loss for 9000 is nan\n"
     ]
    },
    {
     "name": "stderr",
     "output_type": "stream",
     "text": [
      "\n",
      "  5%|███▍                                                                      | 9002/191926 [03:11<1:00:29, 50.40it/s]\n",
      "  5%|███▌                                                                        | 9011/191926 [03:11<53:26, 57.04it/s]\n",
      "  5%|███▌                                                                        | 9019/191926 [03:11<49:54, 61.07it/s]\n",
      "  5%|███▌                                                                        | 9026/191926 [03:11<53:18, 57.19it/s]\n",
      "  5%|███▌                                                                        | 9034/191926 [03:11<51:35, 59.08it/s]\n",
      "  5%|███▌                                                                        | 9043/191926 [03:11<48:36, 62.71it/s]\n",
      "  5%|███▌                                                                        | 9050/191926 [03:11<48:40, 62.63it/s]\n",
      "  5%|███▌                                                                        | 9057/191926 [03:11<52:37, 57.91it/s]\n",
      "  5%|███▌                                                                        | 9063/191926 [03:12<54:37, 55.79it/s]\n",
      "  5%|███▍                                                                      | 9069/191926 [03:12<1:00:20, 50.51it/s]\n",
      "  5%|███▌                                                                        | 9075/191926 [03:12<57:46, 52.74it/s]\n",
      "  5%|███▌                                                                        | 9082/191926 [03:12<56:29, 53.94it/s]\n",
      "  5%|███▌                                                                        | 9088/191926 [03:12<58:35, 52.02it/s]\n",
      "  5%|███▌                                                                        | 9095/191926 [03:12<54:31, 55.88it/s]"
     ]
    },
    {
     "name": "stdout",
     "output_type": "stream",
     "text": [
      "loss for 9100 is nan\n"
     ]
    },
    {
     "name": "stderr",
     "output_type": "stream",
     "text": [
      "\n",
      "  5%|███▌                                                                        | 9101/191926 [03:12<57:22, 53.10it/s]\n",
      "  5%|███▌                                                                        | 9107/191926 [03:12<55:48, 54.60it/s]\n",
      "  5%|███▌                                                                        | 9113/191926 [03:13<57:02, 53.42it/s]\n",
      "  5%|███▌                                                                      | 9119/191926 [03:13<1:03:13, 48.19it/s]\n",
      "  5%|███▌                                                                      | 9124/191926 [03:13<1:07:06, 45.41it/s]\n",
      "  5%|███▌                                                                      | 9129/191926 [03:13<1:12:40, 41.92it/s]\n",
      "  5%|███▌                                                                      | 9134/191926 [03:13<1:13:42, 41.33it/s]\n",
      "  5%|███▌                                                                      | 9139/191926 [03:13<1:17:07, 39.50it/s]\n",
      "  5%|███▌                                                                      | 9144/191926 [03:13<1:18:37, 38.75it/s]\n",
      "  5%|███▌                                                                      | 9149/191926 [03:13<1:17:16, 39.42it/s]\n",
      "  5%|███▌                                                                      | 9155/191926 [03:14<1:10:14, 43.36it/s]\n",
      "  5%|███▌                                                                      | 9160/191926 [03:14<1:17:14, 39.44it/s]\n",
      "  5%|███▌                                                                      | 9165/191926 [03:14<1:22:07, 37.09it/s]\n",
      "  5%|███▌                                                                      | 9171/191926 [03:14<1:16:31, 39.81it/s]\n",
      "  5%|███▌                                                                      | 9176/191926 [03:14<1:14:05, 41.11it/s]\n",
      "  5%|███▌                                                                      | 9183/191926 [03:14<1:07:21, 45.21it/s]\n",
      "  5%|███▋                                                                        | 9191/191926 [03:14<59:45, 50.96it/s]\n",
      "  5%|███▋                                                                        | 9199/191926 [03:14<53:28, 56.94it/s]"
     ]
    },
    {
     "name": "stdout",
     "output_type": "stream",
     "text": [
      "loss for 9200 is nan\n"
     ]
    },
    {
     "name": "stderr",
     "output_type": "stream",
     "text": [
      "\n",
      "  5%|███▋                                                                        | 9206/191926 [03:15<53:50, 56.55it/s]\n",
      "  5%|███▋                                                                        | 9215/191926 [03:15<48:35, 62.68it/s]\n",
      "  5%|███▋                                                                        | 9223/191926 [03:15<46:29, 65.49it/s]\n",
      "  5%|███▋                                                                        | 9230/191926 [03:15<50:53, 59.83it/s]\n",
      "  5%|███▋                                                                        | 9237/191926 [03:15<53:58, 56.42it/s]\n",
      "  5%|███▋                                                                        | 9244/191926 [03:15<51:23, 59.24it/s]\n",
      "  5%|███▋                                                                        | 9252/191926 [03:15<51:21, 59.29it/s]\n",
      "  5%|███▋                                                                        | 9259/191926 [03:15<51:55, 58.64it/s]\n",
      "  5%|███▋                                                                        | 9266/191926 [03:16<50:41, 60.06it/s]\n",
      "  5%|███▋                                                                        | 9275/191926 [03:16<46:14, 65.84it/s]\n",
      "  5%|███▋                                                                        | 9284/191926 [03:16<43:27, 70.04it/s]\n",
      "  5%|███▋                                                                        | 9293/191926 [03:16<43:06, 70.62it/s]"
     ]
    },
    {
     "name": "stdout",
     "output_type": "stream",
     "text": [
      "loss for 9300 is nan\n"
     ]
    },
    {
     "name": "stderr",
     "output_type": "stream",
     "text": [
      "\n",
      "  5%|███▋                                                                        | 9305/191926 [03:16<38:29, 79.08it/s]\n",
      "  5%|███▋                                                                        | 9314/191926 [03:16<41:24, 73.50it/s]\n",
      "  5%|███▋                                                                        | 9323/191926 [03:16<39:48, 76.45it/s]\n",
      "  5%|███▋                                                                        | 9331/191926 [03:16<41:24, 73.48it/s]\n",
      "  5%|███▋                                                                        | 9339/191926 [03:17<49:46, 61.14it/s]\n",
      "  5%|███▋                                                                        | 9347/191926 [03:17<46:49, 64.98it/s]\n",
      "  5%|███▋                                                                        | 9355/191926 [03:17<47:02, 64.68it/s]\n",
      "  5%|███▋                                                                        | 9362/191926 [03:17<55:20, 54.99it/s]\n",
      "  5%|███▌                                                                      | 9368/191926 [03:17<1:00:07, 50.61it/s]\n",
      "  5%|███▌                                                                      | 9374/191926 [03:17<1:06:18, 45.88it/s]\n",
      "  5%|███▌                                                                      | 9379/191926 [03:17<1:10:10, 43.36it/s]\n",
      "  5%|███▌                                                                      | 9386/191926 [03:17<1:02:56, 48.33it/s]\n",
      "  5%|███▌                                                                      | 9392/191926 [03:18<1:01:24, 49.54it/s]\n",
      "  5%|███▋                                                                        | 9399/191926 [03:18<56:15, 54.07it/s]"
     ]
    },
    {
     "name": "stdout",
     "output_type": "stream",
     "text": [
      "loss for 9400 is nan\n"
     ]
    },
    {
     "name": "stderr",
     "output_type": "stream",
     "text": [
      "\n",
      "  5%|███▋                                                                      | 9405/191926 [03:18<1:00:46, 50.05it/s]\n",
      "  5%|███▋                                                                        | 9412/191926 [03:18<56:47, 53.56it/s]\n",
      "  5%|███▋                                                                      | 9418/191926 [03:18<1:01:08, 49.76it/s]\n",
      "  5%|███▋                                                                        | 9426/191926 [03:18<55:10, 55.12it/s]\n",
      "  5%|███▋                                                                        | 9432/191926 [03:18<59:44, 50.91it/s]\n",
      "  5%|███▋                                                                        | 9439/191926 [03:18<56:46, 53.57it/s]\n",
      "  5%|███▋                                                                        | 9449/191926 [03:19<51:11, 59.40it/s]\n",
      "  5%|███▋                                                                        | 9456/191926 [03:19<49:32, 61.38it/s]\n",
      "  5%|███▋                                                                        | 9463/191926 [03:19<53:00, 57.37it/s]\n",
      "  5%|███▋                                                                        | 9469/191926 [03:19<53:43, 56.60it/s]\n",
      "  5%|███▊                                                                        | 9475/191926 [03:19<56:36, 53.72it/s]\n",
      "  5%|███▊                                                                        | 9481/191926 [03:19<58:21, 52.11it/s]\n",
      "  5%|███▊                                                                        | 9488/191926 [03:19<58:19, 52.13it/s]\n",
      "  5%|███▋                                                                      | 9494/191926 [03:19<1:01:25, 49.50it/s]"
     ]
    },
    {
     "name": "stdout",
     "output_type": "stream",
     "text": [
      "loss for 9500 is nan\n"
     ]
    },
    {
     "name": "stderr",
     "output_type": "stream",
     "text": [
      "\n",
      "  5%|███▊                                                                        | 9501/191926 [03:20<59:22, 51.21it/s]\n",
      "  5%|███▋                                                                      | 9507/191926 [03:20<1:07:15, 45.20it/s]\n",
      "  5%|███▋                                                                      | 9512/191926 [03:20<1:09:52, 43.51it/s]\n",
      "  5%|███▋                                                                      | 9519/191926 [03:20<1:03:09, 48.13it/s]\n",
      "  5%|███▋                                                                      | 9525/191926 [03:20<1:07:41, 44.91it/s]\n",
      "  5%|███▋                                                                      | 9530/191926 [03:20<1:08:19, 44.49it/s]\n",
      "  5%|███▋                                                                      | 9535/191926 [03:20<1:08:25, 44.43it/s]\n",
      "  5%|███▊                                                                        | 9545/191926 [03:20<57:34, 52.80it/s]\n",
      "  5%|███▊                                                                        | 9552/191926 [03:21<57:43, 52.65it/s]\n",
      "  5%|███▊                                                                        | 9560/191926 [03:21<53:21, 56.96it/s]\n",
      "  5%|███▊                                                                        | 9567/191926 [03:21<51:35, 58.91it/s]\n",
      "  5%|███▊                                                                        | 9574/191926 [03:21<52:23, 58.01it/s]\n",
      "  5%|███▋                                                                      | 9581/191926 [03:21<1:01:34, 49.35it/s]\n",
      "  5%|███▋                                                                      | 9587/191926 [03:21<1:09:55, 43.46it/s]\n",
      "  5%|███▋                                                                      | 9594/191926 [03:21<1:02:29, 48.63it/s]"
     ]
    },
    {
     "name": "stdout",
     "output_type": "stream",
     "text": [
      "loss for 9600 is nan\n"
     ]
    },
    {
     "name": "stderr",
     "output_type": "stream",
     "text": [
      "\n",
      "  5%|███▊                                                                        | 9601/191926 [03:22<57:39, 52.71it/s]\n",
      "  5%|███▋                                                                      | 9607/191926 [03:22<1:04:04, 47.42it/s]\n",
      "  5%|███▊                                                                        | 9614/191926 [03:22<59:05, 51.42it/s]\n",
      "  5%|███▋                                                                      | 9620/191926 [03:22<1:02:18, 48.76it/s]\n",
      "  5%|███▊                                                                        | 9627/191926 [03:22<57:51, 52.52it/s]\n",
      "  5%|███▋                                                                      | 9633/191926 [03:22<1:07:45, 44.84it/s]\n",
      "  5%|███▋                                                                      | 9638/191926 [03:22<1:10:33, 43.06it/s]\n",
      "  5%|███▋                                                                      | 9643/191926 [03:22<1:08:42, 44.21it/s]\n",
      "  5%|███▋                                                                      | 9648/191926 [03:23<1:13:54, 41.11it/s]\n",
      "  5%|███▋                                                                      | 9653/191926 [03:23<1:15:59, 39.98it/s]\n",
      "  5%|███▋                                                                      | 9660/191926 [03:23<1:07:25, 45.05it/s]\n",
      "  5%|███▋                                                                      | 9665/191926 [03:23<1:07:07, 45.25it/s]\n",
      "  5%|███▋                                                                      | 9670/191926 [03:23<1:09:45, 43.54it/s]\n",
      "  5%|███▋                                                                      | 9675/191926 [03:23<1:09:20, 43.81it/s]\n",
      "  5%|███▋                                                                      | 9681/191926 [03:23<1:08:18, 44.47it/s]\n",
      "  5%|███▋                                                                      | 9687/191926 [03:23<1:04:03, 47.42it/s]\n",
      "  5%|███▋                                                                      | 9692/191926 [03:24<1:04:20, 47.20it/s]\n",
      "  5%|███▋                                                                      | 9697/191926 [03:24<1:07:14, 45.17it/s]"
     ]
    },
    {
     "name": "stdout",
     "output_type": "stream",
     "text": [
      "loss for 9700 is nan\n"
     ]
    },
    {
     "name": "stderr",
     "output_type": "stream",
     "text": [
      "\n",
      "  5%|███▋                                                                      | 9703/191926 [03:24<1:06:02, 45.99it/s]\n",
      "  5%|███▋                                                                      | 9708/191926 [03:24<1:08:59, 44.01it/s]\n",
      "  5%|███▋                                                                      | 9713/191926 [03:24<1:11:04, 42.73it/s]\n",
      "  5%|███▋                                                                      | 9718/191926 [03:24<1:09:09, 43.91it/s]\n",
      "  5%|███▊                                                                      | 9726/191926 [03:24<1:01:28, 49.39it/s]\n",
      "  5%|███▊                                                                      | 9732/191926 [03:24<1:02:53, 48.28it/s]\n",
      "  5%|███▊                                                                      | 9738/191926 [03:25<1:04:37, 46.99it/s]\n",
      "  5%|███▊                                                                      | 9743/191926 [03:25<1:10:35, 43.01it/s]\n",
      "  5%|███▊                                                                      | 9749/191926 [03:25<1:06:00, 46.00it/s]\n",
      "  5%|███▊                                                                      | 9756/191926 [03:25<1:02:28, 48.60it/s]\n",
      "  5%|███▊                                                                        | 9764/191926 [03:25<57:57, 52.39it/s]\n",
      "  5%|███▊                                                                        | 9771/191926 [03:25<57:02, 53.23it/s]\n",
      "  5%|███▊                                                                        | 9779/191926 [03:25<51:39, 58.76it/s]\n",
      "  5%|███▉                                                                        | 9786/191926 [03:25<53:40, 56.56it/s]\n",
      "  5%|███▉                                                                        | 9795/191926 [03:25<48:19, 62.81it/s]"
     ]
    },
    {
     "name": "stdout",
     "output_type": "stream",
     "text": [
      "loss for 9800 is nan\n"
     ]
    },
    {
     "name": "stderr",
     "output_type": "stream",
     "text": [
      "\n",
      "  5%|███▉                                                                        | 9802/191926 [03:26<54:05, 56.11it/s]\n",
      "  5%|███▉                                                                        | 9808/191926 [03:26<56:49, 53.41it/s]\n",
      "  5%|███▊                                                                      | 9814/191926 [03:26<1:01:07, 49.66it/s]\n",
      "  5%|███▉                                                                        | 9820/191926 [03:26<59:22, 51.12it/s]\n",
      "  5%|███▊                                                                      | 9826/191926 [03:26<1:05:07, 46.60it/s]\n",
      "  5%|███▊                                                                      | 9831/191926 [03:26<1:08:47, 44.12it/s]\n",
      "  5%|███▊                                                                      | 9839/191926 [03:26<1:01:50, 49.07it/s]\n",
      "  5%|███▊                                                                      | 9845/191926 [03:27<1:04:58, 46.71it/s]\n",
      "  5%|███▉                                                                        | 9854/191926 [03:27<58:12, 52.14it/s]\n",
      "  5%|███▉                                                                        | 9860/191926 [03:27<59:41, 50.83it/s]\n",
      "  5%|███▊                                                                      | 9866/191926 [03:27<1:01:35, 49.26it/s]\n",
      "  5%|███▊                                                                      | 9872/191926 [03:27<1:04:26, 47.08it/s]\n",
      "  5%|███▉                                                                        | 9879/191926 [03:27<59:08, 51.30it/s]\n",
      "  5%|███▊                                                                      | 9885/191926 [03:27<1:02:40, 48.41it/s]\n",
      "  5%|███▉                                                                        | 9892/191926 [03:27<59:45, 50.77it/s]\n",
      "  5%|███▉                                                                        | 9898/191926 [03:28<58:31, 51.83it/s]"
     ]
    },
    {
     "name": "stdout",
     "output_type": "stream",
     "text": [
      "loss for 9900 is nan\n"
     ]
    },
    {
     "name": "stderr",
     "output_type": "stream",
     "text": [
      "\n",
      "  5%|███▉                                                                        | 9904/191926 [03:28<57:03, 53.16it/s]\n",
      "  5%|███▉                                                                        | 9910/191926 [03:28<56:31, 53.66it/s]\n",
      "  5%|███▉                                                                        | 9917/191926 [03:28<53:47, 56.40it/s]\n",
      "  5%|███▉                                                                        | 9923/191926 [03:28<58:58, 51.44it/s]\n",
      "  5%|███▊                                                                      | 9929/191926 [03:28<1:02:18, 48.68it/s]\n",
      "  5%|███▉                                                                        | 9937/191926 [03:28<56:39, 53.54it/s]\n",
      "  5%|███▊                                                                      | 9943/191926 [03:28<1:03:42, 47.61it/s]\n",
      "  5%|███▊                                                                      | 9949/191926 [03:29<1:05:25, 46.36it/s]\n",
      "  5%|███▊                                                                      | 9954/191926 [03:29<1:08:06, 44.53it/s]\n",
      "  5%|███▊                                                                      | 9961/191926 [03:29<1:01:52, 49.01it/s]\n",
      "  5%|███▊                                                                      | 9967/191926 [03:29<1:04:38, 46.92it/s]\n",
      "  5%|███▊                                                                      | 9972/191926 [03:29<1:07:59, 44.61it/s]\n",
      "  5%|███▊                                                                      | 9977/191926 [03:29<1:10:39, 42.92it/s]\n",
      "  5%|███▊                                                                      | 9983/191926 [03:29<1:08:05, 44.53it/s]\n",
      "  5%|███▊                                                                      | 9990/191926 [03:29<1:02:32, 48.48it/s]\n",
      "  5%|███▊                                                                      | 9996/191926 [03:30<1:02:14, 48.72it/s]"
     ]
    },
    {
     "name": "stdout",
     "output_type": "stream",
     "text": [
      "loss for 10000 is nan\n"
     ]
    },
    {
     "name": "stderr",
     "output_type": "stream",
     "text": [
      "\n",
      "  5%|███▉                                                                       | 10002/191926 [03:30<59:46, 50.72it/s]\n",
      "  5%|███▊                                                                     | 10008/191926 [03:30<1:00:47, 49.88it/s]\n",
      "  5%|███▊                                                                     | 10014/191926 [03:30<1:03:51, 47.47it/s]\n",
      "  5%|███▊                                                                     | 10019/191926 [03:30<1:04:35, 46.94it/s]\n",
      "  5%|███▊                                                                     | 10024/191926 [03:30<1:04:46, 46.80it/s]\n",
      "  5%|███▊                                                                     | 10029/191926 [03:30<1:09:00, 43.93it/s]\n",
      "  5%|███▊                                                                     | 10036/191926 [03:30<1:03:09, 47.99it/s]\n",
      "  5%|███▊                                                                     | 10041/191926 [03:31<1:12:20, 41.91it/s]\n",
      "  5%|███▊                                                                     | 10046/191926 [03:31<1:09:14, 43.78it/s]\n",
      "  5%|███▊                                                                     | 10053/191926 [03:31<1:02:40, 48.36it/s]\n",
      "  5%|███▊                                                                     | 10059/191926 [03:31<1:05:10, 46.50it/s]\n",
      "  5%|███▉                                                                       | 10067/191926 [03:31<58:03, 52.21it/s]\n",
      "  5%|███▉                                                                       | 10073/191926 [03:31<56:00, 54.11it/s]\n",
      "  5%|███▊                                                                     | 10079/191926 [03:31<1:04:47, 46.78it/s]\n",
      "  5%|███▊                                                                     | 10085/191926 [03:31<1:05:55, 45.97it/s]\n",
      "  5%|███▊                                                                     | 10091/191926 [03:32<1:05:55, 45.98it/s]\n",
      "  5%|███▊                                                                     | 10096/191926 [03:32<1:08:21, 44.34it/s]"
     ]
    },
    {
     "name": "stdout",
     "output_type": "stream",
     "text": [
      "loss for 10100 is nan\n"
     ]
    },
    {
     "name": "stderr",
     "output_type": "stream",
     "text": [
      "\n",
      "  5%|███▊                                                                     | 10101/191926 [03:32<1:10:33, 42.94it/s]\n",
      "  5%|███▊                                                                     | 10106/191926 [03:32<1:12:34, 41.76it/s]\n",
      "  5%|███▊                                                                     | 10111/191926 [03:32<1:13:31, 41.22it/s]\n",
      "  5%|███▊                                                                     | 10116/191926 [03:32<1:11:00, 42.67it/s]\n",
      "  5%|███▊                                                                     | 10123/191926 [03:32<1:04:02, 47.31it/s]\n",
      "  5%|███▊                                                                     | 10129/191926 [03:32<1:02:13, 48.70it/s]\n",
      "  5%|███▉                                                                       | 10135/191926 [03:32<59:37, 50.82it/s]\n",
      "  5%|███▉                                                                       | 10143/191926 [03:33<55:37, 54.46it/s]\n",
      "  5%|███▉                                                                       | 10149/191926 [03:33<55:30, 54.58it/s]\n",
      "  5%|███▉                                                                       | 10156/191926 [03:33<53:02, 57.11it/s]\n",
      "  5%|███▉                                                                       | 10162/191926 [03:33<53:41, 56.42it/s]\n",
      "  5%|███▉                                                                       | 10169/191926 [03:33<51:46, 58.50it/s]\n",
      "  5%|███▉                                                                       | 10175/191926 [03:33<52:30, 57.70it/s]\n",
      "  5%|███▉                                                                       | 10182/191926 [03:33<51:05, 59.30it/s]\n",
      "  5%|███▉                                                                       | 10189/191926 [03:33<49:35, 61.08it/s]\n",
      "  5%|███▉                                                                       | 10196/191926 [03:33<49:34, 61.10it/s]"
     ]
    },
    {
     "name": "stdout",
     "output_type": "stream",
     "text": [
      "loss for 10200 is nan\n"
     ]
    },
    {
     "name": "stderr",
     "output_type": "stream",
     "text": [
      "\n",
      "  5%|███▉                                                                       | 10203/191926 [03:34<50:35, 59.88it/s]\n",
      "  5%|███▉                                                                       | 10210/191926 [03:34<53:39, 56.45it/s]\n",
      "  5%|███▉                                                                       | 10216/191926 [03:34<54:06, 55.96it/s]\n",
      "  5%|███▉                                                                       | 10223/191926 [03:34<54:05, 55.98it/s]\n",
      "  5%|███▉                                                                       | 10231/191926 [03:34<50:45, 59.66it/s]\n",
      "  5%|████                                                                       | 10238/191926 [03:34<51:58, 58.25it/s]\n",
      "  5%|████                                                                       | 10245/191926 [03:34<50:45, 59.65it/s]\n",
      "  5%|████                                                                       | 10252/191926 [03:34<49:01, 61.77it/s]\n",
      "  5%|████                                                                       | 10259/191926 [03:35<52:38, 57.51it/s]\n",
      "  5%|████                                                                       | 10265/191926 [03:35<53:29, 56.61it/s]\n",
      "  5%|████                                                                       | 10271/191926 [03:35<54:04, 55.98it/s]\n",
      "  5%|████                                                                       | 10278/191926 [03:35<52:02, 58.17it/s]\n",
      "  5%|████                                                                       | 10285/191926 [03:35<50:36, 59.81it/s]\n",
      "  5%|████                                                                       | 10292/191926 [03:35<50:49, 59.56it/s]\n",
      "  5%|████                                                                       | 10298/191926 [03:35<52:57, 57.16it/s]"
     ]
    },
    {
     "name": "stdout",
     "output_type": "stream",
     "text": [
      "loss for 10300 is nan\n"
     ]
    },
    {
     "name": "stderr",
     "output_type": "stream",
     "text": [
      "\n",
      "  5%|████                                                                       | 10305/191926 [03:35<51:54, 58.32it/s]\n",
      "  5%|████                                                                       | 10311/191926 [03:35<54:45, 55.27it/s]\n",
      "  5%|████                                                                       | 10317/191926 [03:36<54:23, 55.64it/s]\n",
      "  5%|████                                                                       | 10323/191926 [03:36<54:05, 55.95it/s]\n",
      "  5%|████                                                                       | 10329/191926 [03:36<54:24, 55.62it/s]\n",
      "  5%|████                                                                       | 10335/191926 [03:36<54:38, 55.40it/s]\n",
      "  5%|████                                                                       | 10342/191926 [03:36<52:25, 57.73it/s]\n",
      "  5%|████                                                                       | 10349/191926 [03:36<51:07, 59.19it/s]\n",
      "  5%|████                                                                       | 10357/191926 [03:36<48:21, 62.58it/s]\n",
      "  5%|████                                                                       | 10364/191926 [03:36<47:07, 64.21it/s]\n",
      "  5%|████                                                                       | 10371/191926 [03:36<50:15, 60.20it/s]\n",
      "  5%|████                                                                       | 10378/191926 [03:37<51:03, 59.27it/s]\n",
      "  5%|████                                                                       | 10384/191926 [03:37<52:16, 57.88it/s]\n",
      "  5%|████                                                                       | 10390/191926 [03:37<53:08, 56.94it/s]\n",
      "  5%|████                                                                       | 10398/191926 [03:37<49:36, 61.00it/s]"
     ]
    },
    {
     "name": "stdout",
     "output_type": "stream",
     "text": [
      "loss for 10400 is nan\n"
     ]
    },
    {
     "name": "stderr",
     "output_type": "stream",
     "text": [
      "\n",
      "  5%|████                                                                       | 10405/191926 [03:37<58:11, 51.98it/s]\n",
      "  5%|███▉                                                                     | 10411/191926 [03:37<1:01:08, 49.47it/s]\n",
      "  5%|███▉                                                                     | 10417/191926 [03:37<1:07:13, 45.00it/s]\n",
      "  5%|███▉                                                                     | 10422/191926 [03:38<1:08:45, 44.00it/s]\n",
      "  5%|███▉                                                                     | 10429/191926 [03:38<1:04:05, 47.20it/s]\n",
      "  5%|███▉                                                                     | 10434/191926 [03:38<1:07:32, 44.79it/s]\n",
      "  5%|███▉                                                                     | 10442/191926 [03:38<1:01:27, 49.22it/s]\n",
      "  5%|████                                                                       | 10449/191926 [03:38<57:11, 52.89it/s]\n",
      "  5%|████                                                                       | 10455/191926 [03:38<55:37, 54.38it/s]\n",
      "  5%|████                                                                       | 10461/191926 [03:38<58:06, 52.05it/s]\n",
      "  5%|████                                                                       | 10467/191926 [03:38<58:42, 51.51it/s]\n",
      "  5%|████                                                                       | 10473/191926 [03:38<57:16, 52.80it/s]\n",
      "  5%|████                                                                       | 10481/191926 [03:39<53:53, 56.11it/s]\n",
      "  5%|████                                                                       | 10487/191926 [03:39<54:27, 55.53it/s]\n",
      "  5%|████                                                                       | 10493/191926 [03:39<55:36, 54.38it/s]\n",
      "  5%|████                                                                       | 10499/191926 [03:39<55:27, 54.53it/s]"
     ]
    },
    {
     "name": "stdout",
     "output_type": "stream",
     "text": [
      "loss for 10500 is nan\n"
     ]
    },
    {
     "name": "stderr",
     "output_type": "stream",
     "text": [
      "\n",
      "  5%|████                                                                       | 10505/191926 [03:39<57:42, 52.39it/s]\n",
      "  5%|████                                                                       | 10511/191926 [03:39<55:34, 54.40it/s]\n",
      "  5%|████                                                                       | 10517/191926 [03:39<58:08, 52.01it/s]\n",
      "  5%|████                                                                       | 10524/191926 [03:39<56:04, 53.91it/s]\n",
      "  5%|████                                                                       | 10530/191926 [03:39<55:28, 54.50it/s]\n",
      "  5%|████                                                                       | 10537/191926 [03:40<53:37, 56.37it/s]\n",
      "  5%|████                                                                       | 10543/191926 [03:40<56:25, 53.57it/s]\n",
      "  5%|████                                                                       | 10549/191926 [03:40<55:38, 54.34it/s]\n",
      "  5%|████                                                                       | 10555/191926 [03:40<57:49, 52.27it/s]\n",
      "  6%|████▏                                                                      | 10561/191926 [03:40<57:00, 53.02it/s]\n",
      "  6%|████▏                                                                      | 10567/191926 [03:40<59:53, 50.47it/s]\n",
      "  6%|████                                                                     | 10573/191926 [03:40<1:01:42, 48.98it/s]\n",
      "  6%|████▏                                                                      | 10580/191926 [03:40<56:30, 53.49it/s]\n",
      "  6%|████▏                                                                      | 10587/191926 [03:41<53:48, 56.17it/s]\n",
      "  6%|████▏                                                                      | 10593/191926 [03:41<53:40, 56.30it/s]\n",
      "  6%|████▏                                                                      | 10599/191926 [03:41<54:05, 55.87it/s]"
     ]
    },
    {
     "name": "stdout",
     "output_type": "stream",
     "text": [
      "loss for 10600 is nan\n"
     ]
    },
    {
     "name": "stderr",
     "output_type": "stream",
     "text": [
      "\n",
      "  6%|████▏                                                                      | 10605/191926 [03:41<54:23, 55.56it/s]\n",
      "  6%|████▏                                                                      | 10611/191926 [03:41<56:57, 53.06it/s]\n",
      "  6%|████▏                                                                      | 10617/191926 [03:41<57:11, 52.83it/s]\n",
      "  6%|████▏                                                                      | 10623/191926 [03:41<56:10, 53.79it/s]\n",
      "  6%|████▏                                                                      | 10629/191926 [03:41<56:40, 53.31it/s]\n",
      "  6%|████▏                                                                      | 10635/191926 [03:41<58:03, 52.05it/s]\n",
      "  6%|████▏                                                                      | 10642/191926 [03:42<54:24, 55.53it/s]\n",
      "  6%|████▏                                                                      | 10648/191926 [03:42<54:42, 55.23it/s]\n",
      "  6%|████▏                                                                      | 10654/191926 [03:42<57:10, 52.84it/s]\n",
      "  6%|████▏                                                                      | 10660/191926 [03:42<58:53, 51.30it/s]\n",
      "  6%|████▏                                                                      | 10666/191926 [03:42<57:44, 52.32it/s]\n",
      "  6%|████▏                                                                      | 10672/191926 [03:42<56:40, 53.29it/s]\n",
      "  6%|████▏                                                                      | 10679/191926 [03:42<56:00, 53.93it/s]\n",
      "  6%|████▏                                                                      | 10685/191926 [03:42<54:40, 55.25it/s]\n",
      "  6%|████▏                                                                      | 10691/191926 [03:42<53:40, 56.28it/s]\n",
      "  6%|████▏                                                                      | 10697/191926 [03:43<54:48, 55.12it/s]"
     ]
    },
    {
     "name": "stdout",
     "output_type": "stream",
     "text": [
      "loss for 10700 is nan\n"
     ]
    },
    {
     "name": "stderr",
     "output_type": "stream",
     "text": [
      "\n",
      "  6%|████▏                                                                      | 10703/191926 [03:43<56:05, 53.84it/s]\n",
      "  6%|████▏                                                                      | 10709/191926 [03:43<58:08, 51.95it/s]\n",
      "  6%|████▏                                                                      | 10715/191926 [03:43<59:34, 50.70it/s]\n",
      "  6%|████                                                                     | 10721/191926 [03:43<1:00:39, 49.78it/s]\n",
      "  6%|████▏                                                                      | 10727/191926 [03:43<59:14, 50.98it/s]\n",
      "  6%|████                                                                     | 10733/191926 [03:43<1:03:55, 47.24it/s]\n",
      "  6%|████                                                                     | 10738/191926 [03:43<1:03:16, 47.72it/s]\n",
      "  6%|████                                                                     | 10744/191926 [03:44<1:00:54, 49.58it/s]\n",
      "  6%|████                                                                     | 10750/191926 [03:44<1:03:21, 47.66it/s]\n",
      "  6%|████▏                                                                      | 10758/191926 [03:44<56:23, 53.54it/s]\n",
      "  6%|████▏                                                                      | 10764/191926 [03:44<55:59, 53.93it/s]\n",
      "  6%|████▏                                                                      | 10770/191926 [03:44<55:41, 54.21it/s]\n",
      "  6%|████▏                                                                      | 10777/191926 [03:44<54:25, 55.48it/s]\n",
      "  6%|████▏                                                                      | 10783/191926 [03:44<56:34, 53.36it/s]\n",
      "  6%|████▏                                                                      | 10791/191926 [03:44<52:32, 57.45it/s]\n",
      "  6%|████▏                                                                      | 10800/191926 [03:44<47:02, 64.18it/s]"
     ]
    },
    {
     "name": "stdout",
     "output_type": "stream",
     "text": [
      "loss for 10800 is nan\n"
     ]
    },
    {
     "name": "stderr",
     "output_type": "stream",
     "text": [
      "\n",
      "  6%|████▏                                                                      | 10809/191926 [03:45<45:23, 66.51it/s]\n",
      "  6%|████▏                                                                      | 10816/191926 [03:45<46:36, 64.76it/s]\n",
      "  6%|████▏                                                                      | 10824/191926 [03:45<45:00, 67.07it/s]\n",
      "  6%|████▏                                                                      | 10831/191926 [03:45<47:51, 63.06it/s]\n",
      "  6%|████▏                                                                      | 10838/191926 [03:45<49:14, 61.30it/s]\n",
      "  6%|████▏                                                                      | 10845/191926 [03:45<47:50, 63.08it/s]\n",
      "  6%|████▏                                                                      | 10852/191926 [03:45<51:21, 58.76it/s]\n",
      "  6%|████▏                                                                      | 10859/191926 [03:45<49:14, 61.28it/s]\n",
      "  6%|████▏                                                                      | 10866/191926 [03:46<52:13, 57.79it/s]\n",
      "  6%|████▏                                                                      | 10872/191926 [03:46<52:32, 57.44it/s]\n",
      "  6%|████▏                                                                    | 10878/191926 [03:46<1:02:41, 48.13it/s]\n",
      "  6%|████▏                                                                    | 10884/191926 [03:46<1:00:23, 49.97it/s]\n",
      "  6%|████▏                                                                    | 10890/191926 [03:46<1:03:28, 47.53it/s]\n",
      "  6%|████▏                                                                    | 10895/191926 [03:46<1:04:33, 46.73it/s]"
     ]
    },
    {
     "name": "stdout",
     "output_type": "stream",
     "text": [
      "loss for 10900 is nan\n"
     ]
    },
    {
     "name": "stderr",
     "output_type": "stream",
     "text": [
      "\n",
      "  6%|████▏                                                                    | 10902/191926 [03:46<1:01:32, 49.02it/s]\n",
      "  6%|████▏                                                                    | 10908/191926 [03:46<1:04:34, 46.72it/s]\n",
      "  6%|████▏                                                                    | 10913/191926 [03:47<1:07:32, 44.66it/s]\n",
      "  6%|████▏                                                                    | 10918/191926 [03:47<1:09:15, 43.56it/s]\n",
      "  6%|████▏                                                                    | 10925/191926 [03:47<1:02:36, 48.18it/s]\n",
      "  6%|████▎                                                                      | 10934/191926 [03:47<56:23, 53.49it/s]\n",
      "  6%|████▎                                                                      | 10945/191926 [03:47<48:28, 62.23it/s]\n",
      "  6%|████▎                                                                      | 10953/191926 [03:47<46:28, 64.90it/s]\n",
      "  6%|████▎                                                                      | 10962/191926 [03:47<44:01, 68.50it/s]\n",
      "  6%|████▎                                                                      | 10970/191926 [03:47<43:23, 69.49it/s]\n",
      "  6%|████▎                                                                      | 10978/191926 [03:48<44:03, 68.44it/s]\n",
      "  6%|████▎                                                                      | 10989/191926 [03:48<40:54, 73.71it/s]\n",
      "  6%|████▎                                                                      | 10997/191926 [03:48<41:00, 73.54it/s]"
     ]
    },
    {
     "name": "stdout",
     "output_type": "stream",
     "text": [
      "loss for 11000 is nan\n"
     ]
    },
    {
     "name": "stderr",
     "output_type": "stream",
     "text": [
      "\n",
      "  6%|████▎                                                                      | 11005/191926 [03:48<46:21, 65.04it/s]\n",
      "  6%|████▎                                                                      | 11012/191926 [03:48<50:37, 59.56it/s]\n",
      "  6%|████▎                                                                      | 11019/191926 [03:48<54:59, 54.83it/s]\n",
      "  6%|████▎                                                                      | 11025/191926 [03:48<56:21, 53.50it/s]\n",
      "  6%|████▎                                                                      | 11031/191926 [03:48<56:10, 53.68it/s]\n",
      "  6%|████▎                                                                      | 11037/191926 [03:49<57:39, 52.29it/s]\n",
      "  6%|████▎                                                                      | 11043/191926 [03:49<58:50, 51.23it/s]\n",
      "  6%|████▎                                                                      | 11049/191926 [03:49<57:40, 52.27it/s]\n",
      "  6%|████▎                                                                      | 11055/191926 [03:49<56:51, 53.02it/s]\n",
      "  6%|████▎                                                                      | 11061/191926 [03:49<58:37, 51.41it/s]\n",
      "  6%|████▎                                                                      | 11067/191926 [03:49<57:57, 52.01it/s]\n",
      "  6%|████▎                                                                      | 11073/191926 [03:49<59:05, 51.01it/s]\n",
      "  6%|████▎                                                                      | 11079/191926 [03:49<56:52, 52.99it/s]\n",
      "  6%|████▎                                                                      | 11085/191926 [03:49<55:10, 54.62it/s]\n",
      "  6%|████▎                                                                      | 11091/191926 [03:50<55:11, 54.60it/s]\n",
      "  6%|████▎                                                                      | 11097/191926 [03:50<56:59, 52.89it/s]"
     ]
    },
    {
     "name": "stdout",
     "output_type": "stream",
     "text": [
      "loss for 11100 is nan\n"
     ]
    },
    {
     "name": "stderr",
     "output_type": "stream",
     "text": [
      "\n",
      "  6%|████▎                                                                      | 11103/191926 [03:50<59:21, 50.77it/s]\n",
      "  6%|████▎                                                                      | 11111/191926 [03:50<53:36, 56.22it/s]\n",
      "  6%|████▎                                                                      | 11119/191926 [03:50<49:52, 60.41it/s]\n",
      "  6%|████▎                                                                      | 11126/191926 [03:50<50:25, 59.77it/s]\n",
      "  6%|████▎                                                                      | 11133/191926 [03:50<54:16, 55.51it/s]\n",
      "  6%|████▎                                                                      | 11139/191926 [03:50<59:27, 50.67it/s]\n",
      "  6%|████▎                                                                      | 11145/191926 [03:51<57:36, 52.30it/s]\n",
      "  6%|████▏                                                                    | 11151/191926 [03:51<1:01:19, 49.14it/s]\n",
      "  6%|████▎                                                                      | 11157/191926 [03:51<59:23, 50.73it/s]\n",
      "  6%|████▎                                                                      | 11163/191926 [03:51<58:02, 51.90it/s]\n",
      "  6%|████▎                                                                      | 11169/191926 [03:51<57:06, 52.76it/s]\n",
      "  6%|████▎                                                                    | 11175/191926 [03:51<1:05:40, 45.88it/s]\n",
      "  6%|████▎                                                                    | 11180/191926 [03:51<1:11:14, 42.29it/s]\n",
      "  6%|████▎                                                                    | 11185/191926 [03:51<1:13:41, 40.87it/s]\n",
      "  6%|████▎                                                                    | 11191/191926 [03:52<1:07:38, 44.53it/s]\n",
      "  6%|████▎                                                                    | 11196/191926 [03:52<1:09:22, 43.41it/s]"
     ]
    },
    {
     "name": "stdout",
     "output_type": "stream",
     "text": [
      "loss for 11200 is nan\n"
     ]
    },
    {
     "name": "stderr",
     "output_type": "stream",
     "text": [
      "\n",
      "  6%|████▎                                                                    | 11201/191926 [03:52<1:13:58, 40.72it/s]\n",
      "  6%|████▎                                                                    | 11207/191926 [03:52<1:12:57, 41.29it/s]\n",
      "  6%|████▎                                                                    | 11212/191926 [03:52<1:10:49, 42.52it/s]\n",
      "  6%|████▎                                                                    | 11217/191926 [03:52<1:15:34, 39.86it/s]\n",
      "  6%|████▎                                                                    | 11223/191926 [03:52<1:08:19, 44.08it/s]\n",
      "  6%|████▎                                                                    | 11228/191926 [03:52<1:09:34, 43.29it/s]\n",
      "  6%|████▎                                                                    | 11236/191926 [03:53<1:02:26, 48.22it/s]\n",
      "  6%|████▍                                                                      | 11242/191926 [03:53<59:52, 50.30it/s]\n",
      "  6%|████▎                                                                    | 11248/191926 [03:53<1:00:43, 49.59it/s]\n",
      "  6%|████▍                                                                      | 11255/191926 [03:53<56:36, 53.19it/s]\n",
      "  6%|████▍                                                                      | 11261/191926 [03:53<58:26, 51.52it/s]\n",
      "  6%|████▍                                                                      | 11267/191926 [03:53<58:48, 51.21it/s]\n",
      "  6%|████▍                                                                      | 11273/191926 [03:53<56:47, 53.01it/s]\n",
      "  6%|████▍                                                                      | 11279/191926 [03:53<58:10, 51.75it/s]\n",
      "  6%|████▍                                                                      | 11285/191926 [03:53<57:17, 52.55it/s]\n",
      "  6%|████▎                                                                    | 11291/191926 [03:54<1:07:34, 44.55it/s]\n",
      "  6%|████▎                                                                    | 11296/191926 [03:54<1:07:03, 44.90it/s]"
     ]
    },
    {
     "name": "stdout",
     "output_type": "stream",
     "text": [
      "loss for 11300 is nan\n"
     ]
    },
    {
     "name": "stderr",
     "output_type": "stream",
     "text": [
      "\n",
      "  6%|████▎                                                                    | 11301/191926 [03:54<1:06:41, 45.14it/s]\n",
      "  6%|████▍                                                                      | 11309/191926 [03:54<59:01, 51.00it/s]\n",
      "  6%|████▎                                                                    | 11315/191926 [03:54<1:02:51, 47.88it/s]\n",
      "  6%|████▍                                                                      | 11321/191926 [03:54<59:30, 50.58it/s]\n",
      "  6%|████▍                                                                      | 11327/191926 [03:54<57:45, 52.12it/s]\n",
      "  6%|████▍                                                                      | 11333/191926 [03:54<58:52, 51.12it/s]\n",
      "  6%|████▎                                                                    | 11339/191926 [03:55<1:00:09, 50.03it/s]\n",
      "  6%|████▍                                                                      | 11347/191926 [03:55<55:51, 53.88it/s]\n",
      "  6%|████▍                                                                      | 11356/191926 [03:55<50:04, 60.11it/s]\n",
      "  6%|████▍                                                                      | 11363/191926 [03:55<54:17, 55.43it/s]\n",
      "  6%|████▍                                                                      | 11371/191926 [03:55<50:20, 59.77it/s]\n",
      "  6%|████▍                                                                      | 11378/191926 [03:55<58:30, 51.43it/s]\n",
      "  6%|████▎                                                                    | 11384/191926 [03:55<1:00:41, 49.58it/s]\n",
      "  6%|████▍                                                                      | 11390/191926 [03:55<59:54, 50.22it/s]\n",
      "  6%|████▍                                                                      | 11396/191926 [03:56<58:29, 51.44it/s]"
     ]
    },
    {
     "name": "stdout",
     "output_type": "stream",
     "text": [
      "loss for 11400 is nan\n"
     ]
    },
    {
     "name": "stderr",
     "output_type": "stream",
     "text": [
      "\n",
      "  6%|████▍                                                                      | 11402/191926 [03:56<57:23, 52.42it/s]\n",
      "  6%|████▍                                                                      | 11409/191926 [03:56<54:16, 55.43it/s]\n",
      "  6%|████▍                                                                      | 11415/191926 [03:56<54:26, 55.26it/s]\n",
      "  6%|████▍                                                                      | 11421/191926 [03:56<56:54, 52.87it/s]\n",
      "  6%|████▍                                                                      | 11427/191926 [03:56<58:27, 51.46it/s]\n",
      "  6%|████▍                                                                      | 11433/191926 [03:56<57:31, 52.29it/s]\n",
      "  6%|████▍                                                                      | 11439/191926 [03:56<59:16, 50.75it/s]\n",
      "  6%|████▍                                                                      | 11447/191926 [03:57<53:37, 56.09it/s]\n",
      "  6%|████▎                                                                    | 11453/191926 [03:57<1:00:40, 49.57it/s]\n",
      "  6%|████▎                                                                    | 11459/191926 [03:57<1:03:36, 47.28it/s]\n",
      "  6%|████▎                                                                    | 11464/191926 [03:57<1:04:15, 46.80it/s]\n",
      "  6%|████▎                                                                    | 11470/191926 [03:57<1:03:46, 47.16it/s]\n",
      "  6%|████▍                                                                      | 11477/191926 [03:57<59:04, 50.91it/s]\n",
      "  6%|████▍                                                                      | 11484/191926 [03:57<55:34, 54.11it/s]\n",
      "  6%|████▎                                                                    | 11490/191926 [03:57<1:07:21, 44.65it/s]\n",
      "  6%|████▎                                                                    | 11495/191926 [03:58<1:09:41, 43.15it/s]"
     ]
    },
    {
     "name": "stdout",
     "output_type": "stream",
     "text": [
      "loss for 11500 is nan\n"
     ]
    },
    {
     "name": "stderr",
     "output_type": "stream",
     "text": [
      "\n",
      "  6%|████▎                                                                    | 11501/191926 [03:58<1:05:13, 46.11it/s]\n",
      "  6%|████▍                                                                    | 11507/191926 [03:58<1:04:26, 46.66it/s]\n",
      "  6%|████▍                                                                    | 11512/191926 [03:58<1:11:00, 42.34it/s]\n",
      "  6%|████▍                                                                    | 11517/191926 [03:58<1:13:13, 41.06it/s]\n",
      "  6%|████▍                                                                    | 11522/191926 [03:58<1:09:18, 43.38it/s]\n",
      "  6%|████▍                                                                    | 11527/191926 [03:58<1:12:18, 41.58it/s]\n",
      "  6%|████▍                                                                    | 11532/191926 [03:58<1:11:49, 41.86it/s]\n",
      "  6%|████▍                                                                    | 11537/191926 [03:59<1:10:11, 42.83it/s]\n",
      "  6%|████▍                                                                    | 11542/191926 [03:59<1:07:33, 44.50it/s]\n",
      "  6%|████▍                                                                    | 11547/191926 [03:59<1:12:38, 41.38it/s]\n",
      "  6%|████▍                                                                    | 11552/191926 [03:59<1:16:12, 39.45it/s]\n",
      "  6%|████▍                                                                    | 11558/191926 [03:59<1:09:46, 43.08it/s]\n",
      "  6%|████▍                                                                    | 11563/191926 [03:59<1:13:18, 41.00it/s]\n",
      "  6%|████▍                                                                    | 11568/191926 [03:59<1:14:08, 40.54it/s]\n",
      "  6%|████▍                                                                    | 11575/191926 [03:59<1:05:36, 45.81it/s]\n",
      "  6%|████▍                                                                    | 11580/191926 [04:00<1:15:46, 39.66it/s]\n",
      "  6%|████▍                                                                    | 11586/191926 [04:00<1:09:28, 43.26it/s]\n",
      "  6%|████▍                                                                    | 11594/191926 [04:00<1:00:57, 49.31it/s]\n",
      "  6%|████▍                                                                    | 11600/191926 [04:00<1:06:08, 45.44it/s]"
     ]
    },
    {
     "name": "stdout",
     "output_type": "stream",
     "text": [
      "loss for 11600 is nan\n"
     ]
    },
    {
     "name": "stderr",
     "output_type": "stream",
     "text": [
      "\n",
      "  6%|████▍                                                                    | 11605/191926 [04:00<1:14:42, 40.23it/s]\n",
      "  6%|████▍                                                                    | 11610/191926 [04:00<1:12:27, 41.48it/s]\n",
      "  6%|████▍                                                                    | 11615/191926 [04:00<1:12:51, 41.25it/s]\n",
      "  6%|████▍                                                                    | 11625/191926 [04:00<1:01:16, 49.04it/s]\n",
      "  6%|████▌                                                                      | 11635/191926 [04:01<53:37, 56.03it/s]\n",
      "  6%|████▌                                                                      | 11642/191926 [04:01<58:12, 51.63it/s]\n",
      "  6%|████▍                                                                    | 11648/191926 [04:01<1:01:51, 48.57it/s]\n",
      "  6%|████▍                                                                    | 11654/191926 [04:01<1:04:25, 46.64it/s]\n",
      "  6%|████▍                                                                    | 11660/191926 [04:01<1:11:21, 42.10it/s]\n",
      "  6%|████▍                                                                    | 11665/191926 [04:01<1:12:04, 41.68it/s]\n",
      "  6%|████▍                                                                    | 11670/191926 [04:01<1:13:19, 40.97it/s]\n",
      "  6%|████▍                                                                    | 11677/191926 [04:02<1:05:04, 46.16it/s]\n",
      "  6%|████▌                                                                      | 11684/191926 [04:02<59:12, 50.73it/s]\n",
      "  6%|████▌                                                                      | 11690/191926 [04:02<57:52, 51.91it/s]\n",
      "  6%|████▍                                                                    | 11696/191926 [04:02<1:06:19, 45.29it/s]"
     ]
    },
    {
     "name": "stdout",
     "output_type": "stream",
     "text": [
      "loss for 11700 is nan\n"
     ]
    },
    {
     "name": "stderr",
     "output_type": "stream",
     "text": [
      "\n",
      "  6%|████▍                                                                    | 11701/191926 [04:02<1:14:45, 40.18it/s]\n",
      "  6%|████▍                                                                    | 11706/191926 [04:02<1:11:38, 41.92it/s]\n",
      "  6%|████▍                                                                    | 11711/191926 [04:02<1:11:40, 41.91it/s]\n",
      "  6%|████▍                                                                    | 11717/191926 [04:02<1:06:04, 45.45it/s]\n",
      "  6%|████▍                                                                    | 11722/191926 [04:03<1:16:09, 39.44it/s]\n",
      "  6%|████▍                                                                    | 11727/191926 [04:03<1:13:00, 41.14it/s]\n",
      "  6%|████▍                                                                    | 11732/191926 [04:03<1:13:37, 40.79it/s]\n",
      "  6%|████▍                                                                    | 11737/191926 [04:03<1:14:03, 40.55it/s]\n",
      "  6%|████▍                                                                    | 11742/191926 [04:03<1:11:32, 41.98it/s]\n",
      "  6%|████▍                                                                    | 11747/191926 [04:03<1:14:25, 40.35it/s]\n",
      "  6%|████▍                                                                    | 11753/191926 [04:03<1:10:41, 42.48it/s]\n",
      "  6%|████▍                                                                    | 11758/191926 [04:03<1:11:23, 42.06it/s]\n",
      "  6%|████▍                                                                    | 11763/191926 [04:04<1:11:55, 41.75it/s]\n",
      "  6%|████▍                                                                    | 11768/191926 [04:04<1:12:24, 41.47it/s]\n",
      "  6%|████▍                                                                    | 11773/191926 [04:04<1:16:00, 39.50it/s]\n",
      "  6%|████▍                                                                    | 11778/191926 [04:04<1:12:54, 41.18it/s]\n",
      "  6%|████▍                                                                    | 11785/191926 [04:04<1:05:06, 46.12it/s]\n",
      "  6%|████▍                                                                    | 11790/191926 [04:04<1:13:17, 40.97it/s]\n",
      "  6%|████▍                                                                    | 11795/191926 [04:04<1:13:23, 40.90it/s]\n",
      "  6%|████▍                                                                    | 11800/191926 [04:04<1:15:22, 39.83it/s]"
     ]
    },
    {
     "name": "stdout",
     "output_type": "stream",
     "text": [
      "loss for 11800 is nan\n"
     ]
    },
    {
     "name": "stderr",
     "output_type": "stream",
     "text": [
      "\n",
      "  6%|████▍                                                                    | 11807/191926 [04:05<1:07:58, 44.16it/s]\n",
      "  6%|████▍                                                                    | 11814/191926 [04:05<1:02:15, 48.22it/s]\n",
      "  6%|████▍                                                                    | 11820/191926 [04:05<1:10:08, 42.79it/s]\n",
      "  6%|████▍                                                                    | 11825/191926 [04:05<1:08:47, 43.63it/s]\n",
      "  6%|████▌                                                                    | 11832/191926 [04:05<1:02:57, 47.68it/s]\n",
      "  6%|████▌                                                                    | 11838/191926 [04:05<1:06:11, 45.34it/s]\n",
      "  6%|████▌                                                                    | 11845/191926 [04:05<1:01:04, 49.14it/s]\n",
      "  6%|████▌                                                                    | 11851/191926 [04:05<1:01:07, 49.10it/s]\n",
      "  6%|████▋                                                                      | 11857/191926 [04:06<58:10, 51.59it/s]\n",
      "  6%|████▌                                                                    | 11863/191926 [04:06<1:18:27, 38.25it/s]\n",
      "  6%|████▌                                                                    | 11868/191926 [04:06<1:18:11, 38.38it/s]\n",
      "  6%|████▌                                                                    | 11875/191926 [04:06<1:09:52, 42.95it/s]\n",
      "  6%|████▌                                                                    | 11880/191926 [04:06<1:13:14, 40.97it/s]\n",
      "  6%|████▌                                                                    | 11885/191926 [04:06<1:09:45, 43.01it/s]\n",
      "  6%|████▌                                                                    | 11890/191926 [04:06<1:09:22, 43.26it/s]\n",
      "  6%|████▌                                                                    | 11897/191926 [04:07<1:02:11, 48.25it/s]"
     ]
    },
    {
     "name": "stdout",
     "output_type": "stream",
     "text": [
      "loss for 11900 is nan\n"
     ]
    },
    {
     "name": "stderr",
     "output_type": "stream",
     "text": [
      "\n",
      "  6%|████▋                                                                      | 11903/191926 [04:07<59:25, 50.48it/s]\n",
      "  6%|████▋                                                                      | 11909/191926 [04:07<58:00, 51.72it/s]\n",
      "  6%|████▋                                                                      | 11916/191926 [04:07<54:39, 54.89it/s]\n",
      "  6%|████▋                                                                      | 11922/191926 [04:07<54:39, 54.88it/s]\n",
      "  6%|████▋                                                                      | 11928/191926 [04:07<57:45, 51.94it/s]\n",
      "  6%|████▌                                                                    | 11934/191926 [04:07<1:01:12, 49.01it/s]\n",
      "  6%|████▋                                                                      | 11940/191926 [04:07<59:28, 50.43it/s]\n",
      "  6%|████▋                                                                      | 11946/191926 [04:07<58:07, 51.60it/s]\n",
      "  6%|████▋                                                                      | 11953/191926 [04:08<55:21, 54.19it/s]\n",
      "  6%|████▋                                                                      | 11959/191926 [04:08<56:26, 53.15it/s]\n",
      "  6%|████▌                                                                    | 11965/191926 [04:08<1:05:09, 46.03it/s]\n",
      "  6%|████▌                                                                    | 11970/191926 [04:08<1:12:21, 41.45it/s]\n",
      "  6%|████▌                                                                    | 11975/191926 [04:08<1:11:25, 41.99it/s]\n",
      "  6%|████▌                                                                    | 11980/191926 [04:08<1:37:08, 30.87it/s]\n",
      "  6%|████▌                                                                    | 11984/191926 [04:09<2:07:22, 23.54it/s]\n",
      "  6%|████▌                                                                    | 11987/191926 [04:09<2:23:08, 20.95it/s]\n",
      "  6%|████▌                                                                    | 11990/191926 [04:09<2:30:35, 19.92it/s]\n",
      "  6%|████▌                                                                    | 11996/191926 [04:09<2:00:59, 24.78it/s]\n",
      "  6%|████▌                                                                    | 12000/191926 [04:09<1:53:29, 26.42it/s]"
     ]
    },
    {
     "name": "stdout",
     "output_type": "stream",
     "text": [
      "loss for 12000 is nan\n"
     ]
    },
    {
     "name": "stderr",
     "output_type": "stream",
     "text": [
      "\n",
      "  6%|████▌                                                                    | 12005/191926 [04:09<1:39:35, 30.11it/s]\n",
      "  6%|████▌                                                                    | 12011/191926 [04:09<1:29:30, 33.50it/s]\n",
      "  6%|████▌                                                                    | 12017/191926 [04:10<1:22:23, 36.39it/s]\n",
      "  6%|████▌                                                                    | 12022/191926 [04:10<1:18:21, 38.27it/s]\n",
      "  6%|████▌                                                                    | 12030/191926 [04:10<1:06:13, 45.28it/s]\n",
      "  6%|████▋                                                                      | 12040/191926 [04:10<55:21, 54.16it/s]\n",
      "  6%|████▋                                                                      | 12048/191926 [04:10<50:07, 59.80it/s]\n",
      "  6%|████▋                                                                      | 12056/191926 [04:10<51:35, 58.11it/s]\n",
      "  6%|████▋                                                                      | 12063/191926 [04:10<55:17, 54.22it/s]\n",
      "  6%|████▋                                                                      | 12070/191926 [04:10<59:00, 50.81it/s]\n",
      "  6%|████▌                                                                    | 12076/191926 [04:11<1:06:27, 45.10it/s]\n",
      "  6%|████▌                                                                    | 12081/191926 [04:11<1:07:30, 44.40it/s]\n",
      "  6%|████▌                                                                    | 12086/191926 [04:11<1:07:04, 44.69it/s]\n",
      "  6%|████▌                                                                    | 12091/191926 [04:11<1:08:48, 43.55it/s]\n",
      "  6%|████▌                                                                    | 12096/191926 [04:11<1:07:24, 44.46it/s]"
     ]
    },
    {
     "name": "stdout",
     "output_type": "stream",
     "text": [
      "loss for 12100 is nan\n"
     ]
    },
    {
     "name": "stderr",
     "output_type": "stream",
     "text": [
      "\n",
      "  6%|████▌                                                                    | 12102/191926 [04:11<1:04:22, 46.55it/s]\n",
      "  6%|████▌                                                                    | 12107/191926 [04:11<1:04:08, 46.72it/s]\n",
      "  6%|████▌                                                                    | 12112/191926 [04:11<1:03:59, 46.83it/s]\n",
      "  6%|████▌                                                                    | 12118/191926 [04:12<1:00:40, 49.39it/s]\n",
      "  6%|████▌                                                                    | 12124/191926 [04:12<1:07:35, 44.33it/s]\n",
      "  6%|████▌                                                                    | 12129/191926 [04:12<1:24:42, 35.37it/s]\n",
      "  6%|████▌                                                                    | 12133/191926 [04:12<1:39:45, 30.04it/s]\n",
      "  6%|████▌                                                                    | 12139/191926 [04:12<1:25:24, 35.08it/s]\n",
      "  6%|████▌                                                                    | 12144/191926 [04:12<1:21:21, 36.83it/s]\n",
      "  6%|████▌                                                                    | 12149/191926 [04:12<1:21:23, 36.81it/s]\n",
      "  6%|████▌                                                                    | 12153/191926 [04:13<1:31:08, 32.88it/s]\n",
      "  6%|████▌                                                                    | 12158/191926 [04:13<1:23:12, 36.01it/s]\n",
      "  6%|████▋                                                                    | 12162/191926 [04:13<1:35:59, 31.21it/s]\n",
      "  6%|████▋                                                                    | 12167/191926 [04:13<1:25:53, 34.88it/s]\n",
      "  6%|████▋                                                                    | 12171/191926 [04:13<1:39:40, 30.06it/s]\n",
      "  6%|████▋                                                                    | 12177/191926 [04:13<1:28:55, 33.69it/s]\n",
      "  6%|████▋                                                                    | 12183/191926 [04:13<1:17:49, 38.49it/s]\n",
      "  6%|████▋                                                                    | 12194/191926 [04:14<1:05:00, 46.07it/s]"
     ]
    },
    {
     "name": "stdout",
     "output_type": "stream",
     "text": [
      "loss for 12200 is nan\n"
     ]
    },
    {
     "name": "stderr",
     "output_type": "stream",
     "text": [
      "\n",
      "  6%|████▋                                                                    | 12201/191926 [04:14<1:00:54, 49.17it/s]\n",
      "  6%|████▋                                                                    | 12207/191926 [04:14<1:07:28, 44.40it/s]\n",
      "  6%|████▋                                                                    | 12213/191926 [04:14<1:10:06, 42.72it/s]\n",
      "  6%|████▋                                                                    | 12218/191926 [04:14<1:09:53, 42.85it/s]\n",
      "  6%|████▋                                                                    | 12223/191926 [04:14<1:35:28, 31.37it/s]\n",
      "  6%|████▋                                                                    | 12227/191926 [04:14<1:36:29, 31.04it/s]\n",
      "  6%|████▋                                                                    | 12232/191926 [04:15<1:31:58, 32.56it/s]\n",
      "  6%|████▋                                                                    | 12236/191926 [04:15<1:33:07, 32.16it/s]\n",
      "  6%|████▋                                                                    | 12240/191926 [04:15<1:42:01, 29.35it/s]\n",
      "  6%|████▋                                                                    | 12244/191926 [04:15<1:48:15, 27.66it/s]\n",
      "  6%|████▋                                                                    | 12247/191926 [04:15<1:58:53, 25.19it/s]\n",
      "  6%|████▋                                                                    | 12250/191926 [04:15<1:53:10, 26.46it/s]\n",
      "  6%|████▋                                                                    | 12253/191926 [04:15<1:51:33, 26.84it/s]\n",
      "  6%|████▋                                                                    | 12256/191926 [04:16<2:03:36, 24.23it/s]\n",
      "  6%|████▋                                                                    | 12259/191926 [04:16<2:02:27, 24.45it/s]\n",
      "  6%|████▋                                                                    | 12264/191926 [04:16<1:48:42, 27.54it/s]\n",
      "  6%|████▋                                                                    | 12269/191926 [04:16<1:36:13, 31.12it/s]\n",
      "  6%|████▋                                                                    | 12274/191926 [04:16<1:28:54, 33.68it/s]\n",
      "  6%|████▋                                                                    | 12278/191926 [04:16<1:24:41, 35.35it/s]\n",
      "  6%|████▋                                                                    | 12285/191926 [04:16<1:12:37, 41.22it/s]\n",
      "  6%|████▋                                                                    | 12290/191926 [04:16<1:10:57, 42.19it/s]\n",
      "  6%|████▋                                                                    | 12296/191926 [04:16<1:05:14, 45.89it/s]"
     ]
    },
    {
     "name": "stdout",
     "output_type": "stream",
     "text": [
      "loss for 12300 is nan\n"
     ]
    },
    {
     "name": "stderr",
     "output_type": "stream",
     "text": [
      "\n",
      "  6%|████▋                                                                    | 12301/191926 [04:17<1:09:00, 43.38it/s]\n",
      "  6%|████▋                                                                    | 12306/191926 [04:17<1:14:10, 40.36it/s]\n",
      "  6%|████▋                                                                    | 12311/191926 [04:17<1:28:33, 33.80it/s]\n",
      "  6%|████▋                                                                    | 12315/191926 [04:17<1:28:55, 33.66it/s]\n",
      "  6%|████▋                                                                    | 12319/191926 [04:17<1:27:23, 34.25it/s]\n",
      "  6%|████▋                                                                    | 12324/191926 [04:17<1:22:43, 36.18it/s]\n",
      "  6%|████▋                                                                    | 12328/191926 [04:17<1:33:49, 31.90it/s]\n",
      "  6%|████▋                                                                    | 12332/191926 [04:18<1:34:24, 31.70it/s]\n",
      "  6%|████▋                                                                    | 12337/191926 [04:18<1:24:45, 35.31it/s]\n",
      "  6%|████▋                                                                    | 12341/191926 [04:18<1:22:27, 36.30it/s]\n",
      "  6%|████▋                                                                    | 12346/191926 [04:18<1:18:38, 38.06it/s]\n",
      "  6%|████▋                                                                    | 12351/191926 [04:18<1:15:09, 39.82it/s]\n",
      "  6%|████▋                                                                    | 12358/191926 [04:18<1:06:27, 45.03it/s]\n",
      "  6%|████▊                                                                      | 12366/191926 [04:18<58:11, 51.43it/s]\n",
      "  6%|████▊                                                                      | 12376/191926 [04:18<51:08, 58.51it/s]\n",
      "  6%|████▊                                                                      | 12383/191926 [04:19<55:48, 53.62it/s]\n",
      "  6%|████▊                                                                      | 12389/191926 [04:19<55:13, 54.19it/s]\n",
      "  6%|████▊                                                                      | 12395/191926 [04:19<59:35, 50.21it/s]"
     ]
    },
    {
     "name": "stdout",
     "output_type": "stream",
     "text": [
      "loss for 12400 is nan\n"
     ]
    },
    {
     "name": "stderr",
     "output_type": "stream",
     "text": [
      "\n",
      "  6%|████▊                                                                      | 12402/191926 [04:19<55:03, 54.35it/s]\n",
      "  6%|████▊                                                                      | 12408/191926 [04:19<55:17, 54.11it/s]\n",
      "  6%|████▊                                                                      | 12415/191926 [04:19<54:36, 54.79it/s]\n",
      "  6%|████▊                                                                      | 12421/191926 [04:19<59:09, 50.57it/s]\n",
      "  6%|████▋                                                                    | 12427/191926 [04:19<1:02:21, 47.98it/s]\n",
      "  6%|████▋                                                                    | 12432/191926 [04:19<1:03:12, 47.33it/s]\n",
      "  6%|████▋                                                                    | 12437/191926 [04:20<1:02:37, 47.77it/s]\n",
      "  6%|████▊                                                                      | 12444/191926 [04:20<57:51, 51.70it/s]\n",
      "  6%|████▊                                                                      | 12450/191926 [04:20<59:11, 50.54it/s]\n",
      "  6%|████▊                                                                      | 12457/191926 [04:20<55:26, 53.94it/s]\n",
      "  6%|████▊                                                                      | 12463/191926 [04:20<59:50, 49.99it/s]\n",
      "  6%|████▋                                                                    | 12469/191926 [04:20<1:02:58, 47.49it/s]\n",
      "  7%|████▉                                                                      | 12477/191926 [04:20<55:36, 53.79it/s]\n",
      "  7%|████▉                                                                      | 12483/191926 [04:20<54:56, 54.43it/s]\n",
      "  7%|████▉                                                                      | 12491/191926 [04:21<50:21, 59.39it/s]\n",
      "  7%|████▉                                                                      | 12498/191926 [04:21<51:13, 58.37it/s]"
     ]
    },
    {
     "name": "stdout",
     "output_type": "stream",
     "text": [
      "loss for 12500 is nan\n"
     ]
    },
    {
     "name": "stderr",
     "output_type": "stream",
     "text": [
      "\n",
      "  7%|████▉                                                                      | 12505/191926 [04:21<49:52, 59.96it/s]\n",
      "  7%|████▉                                                                      | 12512/191926 [04:21<48:55, 61.12it/s]\n",
      "  7%|████▉                                                                      | 12519/191926 [04:21<48:15, 61.96it/s]\n",
      "  7%|████▉                                                                      | 12526/191926 [04:21<53:33, 55.83it/s]\n",
      "  7%|████▉                                                                      | 12533/191926 [04:21<51:48, 57.71it/s]\n",
      "  7%|████▉                                                                      | 12539/191926 [04:21<59:55, 49.90it/s]\n",
      "  7%|████▊                                                                    | 12545/191926 [04:22<1:03:02, 47.42it/s]\n",
      "  7%|████▊                                                                    | 12550/191926 [04:22<1:03:08, 47.35it/s]\n",
      "  7%|████▊                                                                    | 12555/191926 [04:22<1:06:36, 44.88it/s]\n",
      "  7%|████▊                                                                    | 12560/191926 [04:22<1:09:02, 43.30it/s]\n",
      "  7%|████▊                                                                    | 12565/191926 [04:22<1:10:44, 42.26it/s]\n",
      "  7%|████▊                                                                    | 12570/191926 [04:22<1:11:37, 41.74it/s]\n",
      "  7%|████▊                                                                    | 12575/191926 [04:22<1:10:04, 42.66it/s]\n",
      "  7%|████▊                                                                    | 12580/191926 [04:22<1:13:17, 40.78it/s]\n",
      "  7%|████▊                                                                    | 12585/191926 [04:23<1:12:31, 41.21it/s]\n",
      "  7%|████▊                                                                    | 12590/191926 [04:23<1:09:49, 42.81it/s]\n",
      "  7%|████▊                                                                    | 12598/191926 [04:23<1:01:07, 48.89it/s]"
     ]
    },
    {
     "name": "stdout",
     "output_type": "stream",
     "text": [
      "loss for 12600 is nan\n"
     ]
    },
    {
     "name": "stderr",
     "output_type": "stream",
     "text": [
      "\n",
      "  7%|████▉                                                                      | 12606/191926 [04:23<56:07, 53.25it/s]\n",
      "  7%|████▊                                                                    | 12612/191926 [04:23<1:04:59, 45.98it/s]\n",
      "  7%|████▉                                                                      | 12621/191926 [04:23<57:02, 52.39it/s]\n",
      "  7%|████▉                                                                      | 12630/191926 [04:23<52:34, 56.83it/s]\n",
      "  7%|████▉                                                                      | 12637/191926 [04:23<54:51, 54.47it/s]\n",
      "  7%|████▉                                                                      | 12643/191926 [04:24<56:43, 52.67it/s]\n",
      "  7%|████▊                                                                    | 12649/191926 [04:24<1:00:12, 49.63it/s]\n",
      "  7%|████▉                                                                      | 12655/191926 [04:24<58:28, 51.09it/s]\n",
      "  7%|████▉                                                                      | 12661/191926 [04:24<58:51, 50.77it/s]\n",
      "  7%|████▉                                                                      | 12668/191926 [04:24<54:30, 54.81it/s]\n",
      "  7%|████▉                                                                      | 12674/191926 [04:24<57:16, 52.16it/s]\n",
      "  7%|████▉                                                                      | 12680/191926 [04:24<59:48, 49.95it/s]\n",
      "  7%|████▉                                                                      | 12687/191926 [04:24<56:12, 53.15it/s]\n",
      "  7%|████▊                                                                    | 12693/191926 [04:25<1:02:02, 48.15it/s]\n",
      "  7%|████▊                                                                    | 12699/191926 [04:25<1:09:07, 43.22it/s]"
     ]
    },
    {
     "name": "stdout",
     "output_type": "stream",
     "text": [
      "loss for 12700 is nan\n"
     ]
    },
    {
     "name": "stderr",
     "output_type": "stream",
     "text": [
      "\n",
      "  7%|████▊                                                                    | 12704/191926 [04:25<1:24:56, 35.17it/s]\n",
      "  7%|████▊                                                                    | 12708/191926 [04:25<1:25:26, 34.96it/s]\n",
      "  7%|████▊                                                                    | 12713/191926 [04:25<1:20:48, 36.96it/s]\n",
      "  7%|████▊                                                                    | 12717/191926 [04:25<1:27:16, 34.22it/s]\n",
      "  7%|████▊                                                                    | 12721/191926 [04:25<1:27:58, 33.95it/s]\n",
      "  7%|████▊                                                                    | 12725/191926 [04:26<1:30:15, 33.09it/s]\n",
      "  7%|████▊                                                                    | 12729/191926 [04:26<1:37:13, 30.72it/s]\n",
      "  7%|████▊                                                                    | 12733/191926 [04:26<1:33:08, 32.06it/s]\n",
      "  7%|████▊                                                                    | 12737/191926 [04:26<1:33:52, 31.82it/s]\n",
      "  7%|████▊                                                                    | 12741/191926 [04:26<1:38:51, 30.21it/s]\n",
      "  7%|████▊                                                                    | 12745/191926 [04:26<1:35:10, 31.38it/s]\n",
      "  7%|████▊                                                                    | 12749/191926 [04:26<1:32:36, 32.25it/s]\n",
      "  7%|████▊                                                                    | 12753/191926 [04:26<1:35:16, 31.34it/s]\n",
      "  7%|████▊                                                                    | 12757/191926 [04:27<1:31:46, 32.54it/s]\n",
      "  7%|████▊                                                                    | 12761/191926 [04:27<1:31:07, 32.77it/s]\n",
      "  7%|████▊                                                                    | 12766/191926 [04:27<1:25:42, 34.84it/s]\n",
      "  7%|████▊                                                                    | 12771/191926 [04:27<1:18:03, 38.25it/s]\n",
      "  7%|████▊                                                                    | 12778/191926 [04:27<1:08:37, 43.51it/s]\n",
      "  7%|████▊                                                                    | 12783/191926 [04:27<1:08:20, 43.68it/s]\n",
      "  7%|████▊                                                                    | 12788/191926 [04:27<1:15:04, 39.77it/s]\n",
      "  7%|████▊                                                                    | 12793/191926 [04:27<1:16:11, 39.18it/s]\n",
      "  7%|████▊                                                                    | 12798/191926 [04:27<1:12:40, 41.08it/s]"
     ]
    },
    {
     "name": "stdout",
     "output_type": "stream",
     "text": [
      "loss for 12800 is nan\n"
     ]
    },
    {
     "name": "stderr",
     "output_type": "stream",
     "text": [
      "\n",
      "  7%|████▊                                                                    | 12804/191926 [04:28<1:07:35, 44.17it/s]\n",
      "  7%|████▊                                                                    | 12809/191926 [04:28<1:14:32, 40.05it/s]\n",
      "  7%|████▊                                                                    | 12814/191926 [04:28<1:12:57, 40.92it/s]\n",
      "  7%|████▉                                                                    | 12819/191926 [04:28<1:13:59, 40.34it/s]\n",
      "  7%|████▉                                                                    | 12824/191926 [04:28<1:12:34, 41.13it/s]\n",
      "  7%|████▉                                                                    | 12829/191926 [04:28<1:20:10, 37.23it/s]\n",
      "  7%|████▉                                                                    | 12834/191926 [04:28<1:15:27, 39.56it/s]\n",
      "  7%|████▉                                                                    | 12839/191926 [04:29<1:13:35, 40.56it/s]\n",
      "  7%|████▉                                                                    | 12845/191926 [04:29<1:07:02, 44.53it/s]\n",
      "  7%|████▉                                                                    | 12850/191926 [04:29<1:06:58, 44.56it/s]\n",
      "  7%|████▉                                                                    | 12855/191926 [04:29<1:07:39, 44.11it/s]\n",
      "  7%|████▉                                                                    | 12860/191926 [04:29<1:09:33, 42.90it/s]\n",
      "  7%|████▉                                                                    | 12865/191926 [04:29<1:13:45, 40.46it/s]\n",
      "  7%|████▉                                                                    | 12871/191926 [04:29<1:07:08, 44.44it/s]\n",
      "  7%|████▉                                                                    | 12876/191926 [04:29<1:10:38, 42.25it/s]\n",
      "  7%|████▉                                                                    | 12881/191926 [04:29<1:13:47, 40.44it/s]\n",
      "  7%|████▉                                                                    | 12886/191926 [04:30<1:11:42, 41.61it/s]\n",
      "  7%|████▉                                                                    | 12892/191926 [04:30<1:08:41, 43.44it/s]\n",
      "  7%|████▉                                                                    | 12897/191926 [04:30<1:07:25, 44.26it/s]"
     ]
    },
    {
     "name": "stdout",
     "output_type": "stream",
     "text": [
      "loss for 12900 is nan\n"
     ]
    },
    {
     "name": "stderr",
     "output_type": "stream",
     "text": [
      "\n",
      "  7%|████▉                                                                    | 12904/191926 [04:30<1:01:00, 48.91it/s]\n",
      "  7%|████▉                                                                    | 12910/191926 [04:30<1:10:08, 42.53it/s]\n",
      "  7%|████▉                                                                    | 12916/191926 [04:30<1:05:13, 45.75it/s]\n",
      "  7%|████▉                                                                    | 12922/191926 [04:30<1:02:11, 47.98it/s]\n",
      "  7%|█████                                                                      | 12930/191926 [04:30<55:24, 53.84it/s]\n",
      "  7%|████▉                                                                    | 12936/191926 [04:31<1:00:28, 49.33it/s]\n",
      "  7%|█████                                                                      | 12943/191926 [04:31<57:20, 52.02it/s]\n",
      "  7%|█████                                                                      | 12949/191926 [04:31<58:46, 50.75it/s]\n",
      "  7%|████▉                                                                    | 12955/191926 [04:31<1:02:06, 48.02it/s]\n",
      "  7%|████▉                                                                    | 12960/191926 [04:31<1:07:28, 44.21it/s]\n",
      "  7%|████▉                                                                    | 12965/191926 [04:31<1:06:20, 44.96it/s]\n",
      "  7%|████▉                                                                    | 12972/191926 [04:31<1:00:05, 49.64it/s]\n",
      "  7%|█████                                                                      | 12978/191926 [04:31<58:31, 50.96it/s]\n",
      "  7%|█████                                                                      | 12985/191926 [04:32<54:32, 54.68it/s]\n",
      "  7%|█████                                                                      | 12991/191926 [04:32<58:39, 50.84it/s]\n",
      "  7%|████▉                                                                    | 12997/191926 [04:32<1:04:21, 46.34it/s]"
     ]
    },
    {
     "name": "stdout",
     "output_type": "stream",
     "text": [
      "loss for 13000 is nan\n"
     ]
    },
    {
     "name": "stderr",
     "output_type": "stream",
     "text": [
      "\n",
      "  7%|████▉                                                                    | 13002/191926 [04:32<1:04:36, 46.15it/s]\n",
      "  7%|████▉                                                                    | 13007/191926 [04:32<1:10:22, 42.37it/s]\n",
      "  7%|████▉                                                                    | 13012/191926 [04:32<1:11:33, 41.67it/s]\n",
      "  7%|████▉                                                                    | 13017/191926 [04:32<1:11:19, 41.80it/s]\n",
      "  7%|████▉                                                                    | 13022/191926 [04:32<1:09:01, 43.20it/s]\n",
      "  7%|████▉                                                                    | 13028/191926 [04:33<1:04:06, 46.51it/s]\n",
      "  7%|████▉                                                                    | 13033/191926 [04:33<1:03:50, 46.70it/s]\n",
      "  7%|████▉                                                                    | 13038/191926 [04:33<1:04:15, 46.40it/s]\n",
      "  7%|████▉                                                                    | 13043/191926 [04:33<1:04:32, 46.20it/s]\n",
      "  7%|████▉                                                                    | 13048/191926 [04:33<1:04:44, 46.05it/s]\n",
      "  7%|████▉                                                                    | 13053/191926 [04:33<1:04:52, 45.96it/s]\n",
      "  7%|████▉                                                                    | 13058/191926 [04:33<1:24:52, 35.12it/s]\n",
      "  7%|████▉                                                                    | 13062/191926 [04:33<1:27:43, 33.98it/s]\n",
      "  7%|████▉                                                                    | 13066/191926 [04:34<1:29:31, 33.30it/s]\n",
      "  7%|████▉                                                                    | 13073/191926 [04:34<1:18:13, 38.11it/s]\n",
      "  7%|████▉                                                                    | 13078/191926 [04:34<1:17:06, 38.66it/s]\n",
      "  7%|████▉                                                                    | 13083/191926 [04:34<1:16:19, 39.06it/s]\n",
      "  7%|████▉                                                                    | 13088/191926 [04:34<1:12:58, 40.84it/s]\n",
      "  7%|████▉                                                                    | 13093/191926 [04:34<1:13:17, 40.67it/s]\n",
      "  7%|████▉                                                                    | 13098/191926 [04:34<1:11:45, 41.54it/s]"
     ]
    },
    {
     "name": "stdout",
     "output_type": "stream",
     "text": [
      "loss for 13100 is nan\n"
     ]
    },
    {
     "name": "stderr",
     "output_type": "stream",
     "text": [
      "\n",
      "  7%|████▉                                                                    | 13103/191926 [04:34<1:14:59, 39.75it/s]\n",
      "  7%|████▉                                                                    | 13108/191926 [04:35<1:12:20, 41.20it/s]\n",
      "  7%|████▉                                                                    | 13113/191926 [04:35<1:12:24, 41.16it/s]\n",
      "  7%|████▉                                                                    | 13118/191926 [04:35<1:13:01, 40.81it/s]\n",
      "  7%|████▉                                                                    | 13123/191926 [04:35<1:27:19, 34.13it/s]\n",
      "  7%|████▉                                                                    | 13127/191926 [04:35<1:25:33, 34.83it/s]\n",
      "  7%|████▉                                                                    | 13133/191926 [04:35<1:21:54, 36.38it/s]\n",
      "  7%|████▉                                                                    | 13137/191926 [04:35<1:32:05, 32.36it/s]\n",
      "  7%|████▉                                                                    | 13141/191926 [04:36<1:31:53, 32.42it/s]\n",
      "  7%|█████                                                                    | 13146/191926 [04:36<1:26:07, 34.60it/s]\n",
      "  7%|█████                                                                    | 13151/191926 [04:36<1:19:49, 37.32it/s]\n",
      "  7%|█████                                                                    | 13156/191926 [04:36<1:15:25, 39.50it/s]\n",
      "  7%|█████                                                                    | 13161/191926 [04:36<1:17:55, 38.23it/s]\n",
      "  7%|█████                                                                    | 13168/191926 [04:36<1:09:08, 43.09it/s]\n",
      "  7%|█████                                                                    | 13176/191926 [04:36<1:01:39, 48.31it/s]\n",
      "  7%|█████                                                                    | 13182/191926 [04:36<1:00:53, 48.92it/s]\n",
      "  7%|█████                                                                    | 13188/191926 [04:36<1:05:36, 45.40it/s]\n",
      "  7%|█████                                                                    | 13193/191926 [04:37<1:07:04, 44.41it/s]\n",
      "  7%|█████                                                                    | 13198/191926 [04:37<1:09:17, 42.99it/s]"
     ]
    },
    {
     "name": "stdout",
     "output_type": "stream",
     "text": [
      "loss for 13200 is nan\n"
     ]
    },
    {
     "name": "stderr",
     "output_type": "stream",
     "text": [
      "\n",
      "  7%|█████                                                                    | 13206/191926 [04:37<1:02:27, 47.69it/s]\n",
      "  7%|█████                                                                    | 13212/191926 [04:37<1:02:19, 47.79it/s]\n",
      "  7%|█████                                                                    | 13218/191926 [04:37<1:01:20, 48.55it/s]\n",
      "  7%|█████                                                                    | 13223/191926 [04:37<1:05:35, 45.41it/s]\n",
      "  7%|█████                                                                    | 13228/191926 [04:37<1:05:14, 45.66it/s]\n",
      "  7%|█████                                                                    | 13233/191926 [04:37<1:09:27, 42.87it/s]\n",
      "  7%|█████                                                                    | 13238/191926 [04:38<1:09:04, 43.12it/s]\n",
      "  7%|█████                                                                    | 13245/191926 [04:38<1:03:21, 47.00it/s]\n",
      "  7%|█████                                                                    | 13251/191926 [04:38<1:02:57, 47.30it/s]\n",
      "  7%|█████                                                                    | 13256/191926 [04:38<1:20:50, 36.83it/s]\n",
      "  7%|█████                                                                    | 13261/191926 [04:38<1:18:39, 37.86it/s]\n",
      "  7%|█████                                                                    | 13267/191926 [04:38<1:11:37, 41.57it/s]\n",
      "  7%|█████                                                                    | 13273/191926 [04:38<1:07:10, 44.32it/s]\n",
      "  7%|█████                                                                    | 13278/191926 [04:39<1:17:07, 38.61it/s]\n",
      "  7%|█████                                                                    | 13283/191926 [04:39<1:23:59, 35.45it/s]\n",
      "  7%|█████                                                                    | 13287/191926 [04:39<1:22:54, 35.91it/s]\n",
      "  7%|█████                                                                    | 13291/191926 [04:39<1:20:22, 37.05it/s]\n",
      "  7%|█████                                                                    | 13295/191926 [04:39<1:22:09, 36.24it/s]"
     ]
    },
    {
     "name": "stdout",
     "output_type": "stream",
     "text": [
      "loss for 13300 is nan\n"
     ]
    },
    {
     "name": "stderr",
     "output_type": "stream",
     "text": [
      "\n",
      "  7%|█████                                                                    | 13301/191926 [04:39<1:12:23, 41.12it/s]\n",
      "  7%|█████                                                                    | 13306/191926 [04:39<1:12:06, 41.29it/s]\n",
      "  7%|█████                                                                    | 13311/191926 [04:39<1:09:03, 43.11it/s]\n",
      "  7%|█████                                                                    | 13316/191926 [04:39<1:09:03, 43.11it/s]\n",
      "  7%|█████                                                                    | 13323/191926 [04:40<1:02:14, 47.82it/s]\n",
      "  7%|█████                                                                    | 13329/191926 [04:40<1:02:48, 47.39it/s]\n",
      "  7%|█████                                                                    | 13334/191926 [04:40<1:03:29, 46.88it/s]\n",
      "  7%|█████                                                                    | 13339/191926 [04:40<1:09:06, 43.07it/s]\n",
      "  7%|█████                                                                    | 13344/191926 [04:40<1:18:22, 37.98it/s]\n",
      "  7%|█████                                                                    | 13349/191926 [04:40<1:14:51, 39.76it/s]\n",
      "  7%|█████                                                                    | 13354/191926 [04:40<1:20:15, 37.08it/s]\n",
      "  7%|█████                                                                    | 13358/191926 [04:41<1:22:04, 36.26it/s]\n",
      "  7%|█████                                                                    | 13362/191926 [04:41<1:22:26, 36.10it/s]\n",
      "  7%|█████                                                                    | 13367/191926 [04:41<1:20:34, 36.94it/s]\n",
      "  7%|█████                                                                    | 13371/191926 [04:41<1:22:17, 36.17it/s]\n",
      "  7%|█████                                                                    | 13378/191926 [04:41<1:13:55, 40.26it/s]\n",
      "  7%|█████                                                                    | 13383/191926 [04:41<1:12:27, 41.07it/s]\n",
      "  7%|█████                                                                    | 13390/191926 [04:41<1:05:30, 45.42it/s]\n",
      "  7%|█████                                                                    | 13395/191926 [04:41<1:13:42, 40.37it/s]"
     ]
    },
    {
     "name": "stdout",
     "output_type": "stream",
     "text": [
      "loss for 13400 is nan\n"
     ]
    },
    {
     "name": "stderr",
     "output_type": "stream",
     "text": [
      "\n",
      "  7%|█████                                                                    | 13401/191926 [04:42<1:08:15, 43.59it/s]\n",
      "  7%|█████                                                                    | 13406/191926 [04:42<1:17:03, 38.61it/s]\n",
      "  7%|█████                                                                    | 13411/191926 [04:42<1:14:38, 39.86it/s]\n",
      "  7%|█████                                                                    | 13416/191926 [04:42<1:15:05, 39.62it/s]\n",
      "  7%|█████                                                                    | 13421/191926 [04:42<1:13:57, 40.23it/s]\n",
      "  7%|█████                                                                    | 13426/191926 [04:42<1:13:21, 40.56it/s]\n",
      "  7%|█████                                                                    | 13431/191926 [04:42<1:16:53, 38.69it/s]\n",
      "  7%|█████                                                                    | 13438/191926 [04:42<1:08:36, 43.36it/s]\n",
      "  7%|█████                                                                    | 13443/191926 [04:43<1:09:26, 42.84it/s]\n",
      "  7%|█████                                                                    | 13448/191926 [04:43<1:17:09, 38.55it/s]\n",
      "  7%|█████                                                                    | 13453/191926 [04:43<1:16:51, 38.70it/s]\n",
      "  7%|█████                                                                    | 13458/191926 [04:43<1:14:30, 39.93it/s]\n",
      "  7%|█████                                                                    | 13466/191926 [04:43<1:06:19, 44.85it/s]\n",
      "  7%|█████                                                                    | 13473/191926 [04:43<1:00:04, 49.51it/s]\n",
      "  7%|█████▎                                                                     | 13479/191926 [04:43<57:25, 51.79it/s]\n",
      "  7%|█████▏                                                                   | 13485/191926 [04:43<1:05:10, 45.63it/s]\n",
      "  7%|█████▏                                                                   | 13490/191926 [04:44<1:06:19, 44.84it/s]\n",
      "  7%|█████▏                                                                   | 13495/191926 [04:44<1:08:32, 43.38it/s]"
     ]
    },
    {
     "name": "stdout",
     "output_type": "stream",
     "text": [
      "loss for 13500 is nan\n"
     ]
    },
    {
     "name": "stderr",
     "output_type": "stream",
     "text": [
      "\n",
      "  7%|█████▏                                                                   | 13502/191926 [04:44<1:02:15, 47.77it/s]\n",
      "  7%|█████▏                                                                   | 13508/191926 [04:44<1:05:34, 45.34it/s]\n",
      "  7%|█████▎                                                                     | 13515/191926 [04:44<59:50, 49.69it/s]\n",
      "  7%|█████▏                                                                   | 13521/191926 [04:44<1:01:41, 48.19it/s]\n",
      "  7%|█████▏                                                                   | 13527/191926 [04:44<1:02:48, 47.34it/s]\n",
      "  7%|█████▏                                                                   | 13532/191926 [04:44<1:08:13, 43.58it/s]\n",
      "  7%|█████▏                                                                   | 13537/191926 [04:45<1:09:52, 42.55it/s]\n",
      "  7%|█████▏                                                                   | 13543/191926 [04:45<1:06:54, 44.43it/s]\n",
      "  7%|█████▏                                                                   | 13548/191926 [04:45<1:10:26, 42.20it/s]\n",
      "  7%|█████▏                                                                   | 13553/191926 [04:45<1:18:33, 37.84it/s]\n",
      "  7%|█████▏                                                                   | 13558/191926 [04:45<1:17:06, 38.55it/s]\n",
      "  7%|█████▏                                                                   | 13563/191926 [04:45<1:14:41, 39.80it/s]\n",
      "  7%|█████▏                                                                   | 13568/191926 [04:45<1:13:19, 40.54it/s]\n",
      "  7%|█████▏                                                                   | 13573/191926 [04:45<1:13:00, 40.72it/s]\n",
      "  7%|█████▏                                                                   | 13578/191926 [04:46<1:12:32, 40.98it/s]\n",
      "  7%|█████▏                                                                   | 13585/191926 [04:46<1:06:00, 45.03it/s]\n",
      "  7%|█████▏                                                                   | 13590/191926 [04:46<1:11:10, 41.76it/s]\n",
      "  7%|█████▏                                                                   | 13596/191926 [04:46<1:08:14, 43.55it/s]"
     ]
    },
    {
     "name": "stdout",
     "output_type": "stream",
     "text": [
      "loss for 13600 is nan\n"
     ]
    },
    {
     "name": "stderr",
     "output_type": "stream",
     "text": [
      "\n",
      "  7%|█████▏                                                                   | 13603/191926 [04:46<1:00:59, 48.73it/s]\n",
      "  7%|█████▏                                                                   | 13609/191926 [04:46<1:04:36, 46.00it/s]\n",
      "  7%|█████▏                                                                   | 13614/191926 [04:46<1:08:08, 43.61it/s]\n",
      "  7%|█████▏                                                                   | 13621/191926 [04:46<1:01:51, 48.04it/s]\n",
      "  7%|█████▏                                                                   | 13627/191926 [04:47<1:06:06, 44.95it/s]\n",
      "  7%|█████▏                                                                   | 13632/191926 [04:47<1:13:30, 40.43it/s]\n",
      "  7%|█████▏                                                                   | 13637/191926 [04:47<1:17:50, 38.18it/s]\n",
      "  7%|█████▏                                                                   | 13642/191926 [04:47<1:12:47, 40.82it/s]\n",
      "  7%|█████▏                                                                   | 13647/191926 [04:47<1:18:20, 37.93it/s]\n",
      "  7%|█████▏                                                                   | 13651/191926 [04:47<1:24:15, 35.27it/s]\n",
      "  7%|█████▏                                                                   | 13656/191926 [04:47<1:21:40, 36.38it/s]\n",
      "  7%|█████▏                                                                   | 13660/191926 [04:48<1:19:53, 37.19it/s]\n",
      "  7%|█████▏                                                                   | 13664/191926 [04:48<1:28:00, 33.76it/s]\n",
      "  7%|█████▏                                                                   | 13668/191926 [04:48<1:26:33, 34.32it/s]\n",
      "  7%|█████▏                                                                   | 13672/191926 [04:48<1:27:19, 34.02it/s]\n",
      "  7%|█████▏                                                                   | 13679/191926 [04:48<1:15:53, 39.14it/s]\n",
      "  7%|█████▏                                                                   | 13684/191926 [04:48<1:16:39, 38.75it/s]\n",
      "  7%|█████▏                                                                   | 13689/191926 [04:48<1:29:18, 33.26it/s]\n",
      "  7%|█████▏                                                                   | 13693/191926 [04:49<1:33:42, 31.70it/s]\n",
      "  7%|█████▏                                                                   | 13697/191926 [04:49<1:31:25, 32.49it/s]"
     ]
    },
    {
     "name": "stdout",
     "output_type": "stream",
     "text": [
      "loss for 13700 is nan\n"
     ]
    },
    {
     "name": "stderr",
     "output_type": "stream",
     "text": [
      "\n",
      "  7%|█████▏                                                                   | 13704/191926 [04:49<1:17:14, 38.46it/s]\n",
      "  7%|█████▏                                                                   | 13709/191926 [04:49<1:14:01, 40.12it/s]\n",
      "  7%|█████▏                                                                   | 13714/191926 [04:49<1:21:02, 36.65it/s]\n",
      "  7%|█████▏                                                                   | 13720/191926 [04:49<1:11:34, 41.49it/s]\n",
      "  7%|█████▏                                                                   | 13728/191926 [04:49<1:02:40, 47.39it/s]\n",
      "  7%|█████▏                                                                   | 13734/191926 [04:49<1:04:52, 45.78it/s]\n",
      "  7%|█████▎                                                                     | 13741/191926 [04:49<59:18, 50.07it/s]\n",
      "  7%|█████▎                                                                     | 13747/191926 [04:50<59:03, 50.28it/s]\n",
      "  7%|█████▏                                                                   | 13753/191926 [04:50<1:01:18, 48.44it/s]\n",
      "  7%|█████▏                                                                   | 13759/191926 [04:50<1:07:51, 43.76it/s]\n",
      "  7%|█████▏                                                                   | 13764/191926 [04:50<1:14:00, 40.12it/s]\n",
      "  7%|█████▏                                                                   | 13769/191926 [04:50<1:16:44, 38.69it/s]\n",
      "  7%|█████▏                                                                   | 13774/191926 [04:50<1:19:22, 37.41it/s]\n",
      "  7%|█████▏                                                                   | 13778/191926 [04:50<1:18:43, 37.72it/s]\n",
      "  7%|█████▏                                                                   | 13784/191926 [04:51<1:11:08, 41.74it/s]\n",
      "  7%|█████▏                                                                   | 13789/191926 [04:51<1:19:43, 37.24it/s]\n",
      "  7%|█████▏                                                                   | 13793/191926 [04:51<1:18:57, 37.60it/s]\n",
      "  7%|█████▏                                                                   | 13799/191926 [04:51<1:11:53, 41.29it/s]"
     ]
    },
    {
     "name": "stdout",
     "output_type": "stream",
     "text": [
      "loss for 13800 is nan\n"
     ]
    },
    {
     "name": "stderr",
     "output_type": "stream",
     "text": [
      "\n",
      "  7%|█████▎                                                                   | 13804/191926 [04:51<1:19:32, 37.32it/s]\n",
      "  7%|█████▎                                                                   | 13808/191926 [04:51<1:20:33, 36.85it/s]\n",
      "  7%|█████▎                                                                   | 13812/191926 [04:51<1:20:45, 36.76it/s]\n",
      "  7%|█████▎                                                                   | 13817/191926 [04:51<1:16:25, 38.84it/s]\n",
      "  7%|█████▎                                                                   | 13822/191926 [04:52<1:15:15, 39.44it/s]\n",
      "  7%|█████▎                                                                   | 13827/191926 [04:52<1:18:15, 37.93it/s]\n",
      "  7%|█████▎                                                                   | 13831/191926 [04:52<1:25:56, 34.54it/s]\n",
      "  7%|█████▎                                                                   | 13838/191926 [04:52<1:14:24, 39.89it/s]\n",
      "  7%|█████▎                                                                   | 13843/191926 [04:52<1:15:25, 39.35it/s]\n",
      "  7%|█████▎                                                                   | 13848/191926 [04:52<1:24:51, 34.98it/s]\n",
      "  7%|█████▎                                                                   | 13853/191926 [04:52<1:21:29, 36.42it/s]\n",
      "  7%|█████▎                                                                   | 13859/191926 [04:52<1:13:03, 40.62it/s]\n",
      "  7%|█████▎                                                                   | 13864/191926 [04:53<1:13:13, 40.53it/s]\n",
      "  7%|█████▎                                                                   | 13869/191926 [04:53<1:11:11, 41.68it/s]\n",
      "  7%|█████▎                                                                   | 13876/191926 [04:53<1:04:50, 45.77it/s]\n",
      "  7%|█████▎                                                                   | 13881/191926 [04:53<1:04:51, 45.75it/s]\n",
      "  7%|█████▎                                                                   | 13887/191926 [04:53<1:00:58, 48.66it/s]\n",
      "  7%|█████▎                                                                   | 13893/191926 [04:53<1:07:00, 44.28it/s]\n",
      "  7%|█████▎                                                                   | 13899/191926 [04:53<1:02:20, 47.60it/s]"
     ]
    },
    {
     "name": "stdout",
     "output_type": "stream",
     "text": [
      "loss for 13900 is nan\n"
     ]
    },
    {
     "name": "stderr",
     "output_type": "stream",
     "text": [
      "\n",
      "  7%|█████▎                                                                   | 13904/191926 [04:53<1:14:15, 39.96it/s]\n",
      "  7%|█████▎                                                                   | 13909/191926 [04:54<1:11:54, 41.26it/s]\n",
      "  7%|█████▎                                                                   | 13914/191926 [04:54<1:10:59, 41.79it/s]\n",
      "  7%|█████▎                                                                   | 13919/191926 [04:54<1:11:03, 41.76it/s]\n",
      "  7%|█████▎                                                                   | 13924/191926 [04:54<1:14:39, 39.74it/s]\n",
      "  7%|█████▎                                                                   | 13931/191926 [04:54<1:07:08, 44.18it/s]\n",
      "  7%|█████▎                                                                   | 13936/191926 [04:54<1:16:11, 38.93it/s]\n",
      "  7%|█████▎                                                                   | 13941/191926 [04:54<1:21:53, 36.22it/s]\n",
      "  7%|█████▎                                                                   | 13946/191926 [04:55<1:16:12, 38.93it/s]\n",
      "  7%|█████▎                                                                   | 13951/191926 [04:55<1:26:57, 34.11it/s]\n",
      "  7%|█████▎                                                                   | 13955/191926 [04:55<1:26:40, 34.22it/s]\n",
      "  7%|█████▎                                                                   | 13959/191926 [04:55<1:23:10, 35.66it/s]\n",
      "  7%|█████▎                                                                   | 13964/191926 [04:55<1:20:27, 36.86it/s]\n",
      "  7%|█████▎                                                                   | 13969/191926 [04:55<1:18:53, 37.60it/s]\n",
      "  7%|█████▎                                                                   | 13973/191926 [04:55<1:21:54, 36.21it/s]\n",
      "  7%|█████▎                                                                   | 13977/191926 [04:55<1:22:15, 36.06it/s]\n",
      "  7%|█████▎                                                                   | 13981/191926 [04:56<2:21:12, 21.00it/s]\n",
      "  7%|█████▎                                                                   | 13984/191926 [04:56<2:16:48, 21.68it/s]\n",
      "  7%|█████▎                                                                   | 13988/191926 [04:56<2:05:07, 23.70it/s]\n",
      "  7%|█████▎                                                                   | 13991/191926 [04:56<2:11:28, 22.56it/s]\n",
      "  7%|█████▎                                                                   | 13994/191926 [04:56<2:06:25, 23.46it/s]\n",
      "  7%|█████▎                                                                   | 13998/191926 [04:56<1:56:04, 25.55it/s]"
     ]
    },
    {
     "name": "stdout",
     "output_type": "stream",
     "text": [
      "loss for 14000 is nan\n"
     ]
    },
    {
     "name": "stderr",
     "output_type": "stream",
     "text": [
      "\n",
      "  7%|█████▎                                                                   | 14002/191926 [04:57<1:47:56, 27.47it/s]\n",
      "  7%|█████▎                                                                   | 14008/191926 [04:57<1:32:09, 32.17it/s]\n",
      "  7%|█████▎                                                                   | 14012/191926 [04:57<1:32:05, 32.20it/s]\n",
      "  7%|█████▎                                                                   | 14017/191926 [04:57<1:23:40, 35.44it/s]\n",
      "  7%|█████▎                                                                   | 14025/191926 [04:57<1:12:27, 40.92it/s]\n",
      "  7%|█████▎                                                                   | 14030/191926 [04:57<1:15:08, 39.46it/s]\n",
      "  7%|█████▎                                                                   | 14035/191926 [04:57<1:12:15, 41.03it/s]\n",
      "  7%|█████▎                                                                   | 14040/191926 [04:57<1:16:45, 38.62it/s]\n",
      "  7%|█████▎                                                                   | 14047/191926 [04:58<1:10:06, 42.29it/s]\n",
      "  7%|█████▎                                                                   | 14052/191926 [04:58<1:13:10, 40.52it/s]\n",
      "  7%|█████▎                                                                   | 14057/191926 [04:58<1:10:20, 42.14it/s]\n",
      "  7%|█████▎                                                                   | 14062/191926 [04:58<1:08:52, 43.05it/s]\n",
      "  7%|█████▎                                                                   | 14068/191926 [04:58<1:05:33, 45.21it/s]\n",
      "  7%|█████▎                                                                   | 14073/191926 [04:58<1:07:40, 43.80it/s]\n",
      "  7%|█████▎                                                                   | 14078/191926 [04:58<1:05:25, 45.31it/s]\n",
      "  7%|█████▎                                                                   | 14083/191926 [04:58<1:07:14, 44.08it/s]\n",
      "  7%|█████▎                                                                   | 14088/191926 [04:58<1:08:51, 43.05it/s]\n",
      "  7%|█████▎                                                                   | 14093/191926 [04:59<1:11:04, 41.70it/s]\n",
      "  7%|█████▎                                                                   | 14098/191926 [04:59<1:14:58, 39.53it/s]"
     ]
    },
    {
     "name": "stdout",
     "output_type": "stream",
     "text": [
      "loss for 14100 is nan\n"
     ]
    },
    {
     "name": "stderr",
     "output_type": "stream",
     "text": [
      "\n",
      "  7%|█████▎                                                                   | 14103/191926 [04:59<1:15:39, 39.17it/s]\n",
      "  7%|█████▎                                                                   | 14107/191926 [04:59<1:22:55, 35.74it/s]\n",
      "  7%|█████▎                                                                   | 14112/191926 [04:59<1:18:17, 37.85it/s]\n",
      "  7%|█████▎                                                                   | 14116/191926 [04:59<1:17:49, 38.08it/s]\n",
      "  7%|█████▎                                                                   | 14121/191926 [04:59<1:15:36, 39.19it/s]\n",
      "  7%|█████▎                                                                   | 14126/191926 [04:59<1:11:47, 41.28it/s]\n",
      "  7%|█████▎                                                                   | 14131/191926 [05:00<1:11:54, 41.21it/s]\n",
      "  7%|█████▍                                                                   | 14139/191926 [05:00<1:02:05, 47.72it/s]\n",
      "  7%|█████▍                                                                   | 14145/191926 [05:00<1:04:17, 46.09it/s]\n",
      "  7%|█████▍                                                                   | 14150/191926 [05:00<1:08:06, 43.51it/s]\n",
      "  7%|█████▍                                                                   | 14155/191926 [05:00<1:07:06, 44.15it/s]\n",
      "  7%|█████▍                                                                   | 14160/191926 [05:00<1:06:01, 44.87it/s]\n",
      "  7%|█████▍                                                                   | 14167/191926 [05:00<1:00:13, 49.19it/s]\n",
      "  7%|█████▍                                                                   | 14173/191926 [05:00<1:05:32, 45.20it/s]\n",
      "  7%|█████▍                                                                   | 14178/191926 [05:01<1:07:33, 43.85it/s]\n",
      "  7%|█████▍                                                                   | 14183/191926 [05:01<1:07:01, 44.20it/s]\n",
      "  7%|█████▍                                                                   | 14188/191926 [05:01<1:06:21, 44.64it/s]\n",
      "  7%|█████▍                                                                   | 14193/191926 [05:01<1:05:52, 44.96it/s]\n",
      "  7%|█████▌                                                                     | 14200/191926 [05:01<59:59, 49.37it/s]"
     ]
    },
    {
     "name": "stdout",
     "output_type": "stream",
     "text": [
      "loss for 14200 is nan\n"
     ]
    },
    {
     "name": "stderr",
     "output_type": "stream",
     "text": [
      "\n",
      "  7%|█████▍                                                                   | 14206/191926 [05:01<1:09:02, 42.90it/s]\n",
      "  7%|█████▍                                                                   | 14212/191926 [05:01<1:03:43, 46.48it/s]\n",
      "  7%|█████▍                                                                   | 14217/191926 [05:01<1:10:59, 41.72it/s]\n",
      "  7%|█████▍                                                                   | 14222/191926 [05:02<1:09:34, 42.57it/s]\n",
      "  7%|█████▍                                                                   | 14227/191926 [05:02<1:07:43, 43.74it/s]\n",
      "  7%|█████▍                                                                   | 14232/191926 [05:02<1:12:42, 40.73it/s]\n",
      "  7%|█████▍                                                                   | 14237/191926 [05:02<1:12:45, 40.70it/s]\n",
      "  7%|█████▍                                                                   | 14242/191926 [05:02<1:13:33, 40.26it/s]\n",
      "  7%|█████▍                                                                   | 14247/191926 [05:02<1:13:00, 40.56it/s]\n",
      "  7%|█████▍                                                                   | 14252/191926 [05:02<1:13:55, 40.06it/s]\n",
      "  7%|█████▍                                                                   | 14257/191926 [05:02<1:11:46, 41.26it/s]\n",
      "  7%|█████▍                                                                   | 14263/191926 [05:03<1:05:38, 45.11it/s]\n",
      "  7%|█████▍                                                                   | 14270/191926 [05:03<1:02:26, 47.42it/s]\n",
      "  7%|█████▍                                                                   | 14275/191926 [05:03<1:04:14, 46.09it/s]\n",
      "  7%|█████▌                                                                     | 14282/191926 [05:03<58:50, 50.32it/s]\n",
      "  7%|█████▌                                                                     | 14289/191926 [05:03<55:02, 53.79it/s]\n",
      "  7%|█████▌                                                                     | 14295/191926 [05:03<54:42, 54.11it/s]"
     ]
    },
    {
     "name": "stdout",
     "output_type": "stream",
     "text": [
      "loss for 14300 is nan\n"
     ]
    },
    {
     "name": "stderr",
     "output_type": "stream",
     "text": [
      "\n",
      "  7%|█████▌                                                                     | 14301/191926 [05:03<53:06, 55.74it/s]\n",
      "  7%|█████▌                                                                     | 14307/191926 [05:03<55:41, 53.15it/s]\n",
      "  7%|█████▌                                                                     | 14314/191926 [05:03<54:58, 53.85it/s]\n",
      "  7%|█████▍                                                                   | 14320/191926 [05:04<1:01:36, 48.05it/s]\n",
      "  7%|█████▍                                                                   | 14325/191926 [05:04<1:02:32, 47.33it/s]\n",
      "  7%|█████▍                                                                   | 14330/191926 [05:04<1:05:58, 44.86it/s]\n",
      "  7%|█████▍                                                                   | 14335/191926 [05:04<1:05:36, 45.12it/s]\n",
      "  7%|█████▍                                                                   | 14340/191926 [05:04<1:09:45, 42.43it/s]\n",
      "  7%|█████▍                                                                   | 14345/191926 [05:04<1:11:24, 41.45it/s]\n",
      "  7%|█████▍                                                                   | 14350/191926 [05:04<1:11:54, 41.15it/s]\n",
      "  7%|█████▍                                                                   | 14356/191926 [05:04<1:05:25, 45.24it/s]\n",
      "  7%|█████▍                                                                   | 14361/191926 [05:05<1:04:38, 45.79it/s]\n",
      "  7%|█████▍                                                                   | 14366/191926 [05:05<1:06:52, 44.26it/s]\n",
      "  7%|█████▍                                                                   | 14371/191926 [05:05<1:06:13, 44.69it/s]\n",
      "  7%|█████▍                                                                   | 14377/191926 [05:05<1:04:38, 45.78it/s]\n",
      "  7%|█████▍                                                                   | 14382/191926 [05:05<1:24:18, 35.10it/s]\n",
      "  7%|█████▍                                                                   | 14386/191926 [05:05<1:42:30, 28.87it/s]\n",
      "  7%|█████▍                                                                   | 14390/191926 [05:05<1:42:49, 28.78it/s]\n",
      "  7%|█████▍                                                                   | 14394/191926 [05:06<1:35:56, 30.84it/s]\n",
      "  8%|█████▍                                                                   | 14398/191926 [05:06<1:31:07, 32.47it/s]"
     ]
    },
    {
     "name": "stdout",
     "output_type": "stream",
     "text": [
      "loss for 14400 is nan\n"
     ]
    },
    {
     "name": "stderr",
     "output_type": "stream",
     "text": [
      "\n",
      "  8%|█████▍                                                                   | 14402/191926 [05:06<1:34:51, 31.19it/s]\n",
      "  8%|█████▍                                                                   | 14406/191926 [05:06<1:33:01, 31.81it/s]\n",
      "  8%|█████▍                                                                   | 14410/191926 [05:06<1:29:04, 33.21it/s]\n",
      "  8%|█████▍                                                                   | 14414/191926 [05:06<1:28:05, 33.58it/s]\n",
      "  8%|█████▍                                                                   | 14418/191926 [05:06<1:36:16, 30.73it/s]\n",
      "  8%|█████▍                                                                   | 14423/191926 [05:06<1:27:18, 33.88it/s]\n",
      "  8%|█████▍                                                                   | 14428/191926 [05:07<1:21:00, 36.52it/s]\n",
      "  8%|█████▍                                                                   | 14435/191926 [05:07<1:09:43, 42.43it/s]\n",
      "  8%|█████▍                                                                   | 14440/191926 [05:07<1:09:52, 42.34it/s]\n",
      "  8%|█████▍                                                                   | 14448/191926 [05:07<1:01:02, 48.46it/s]\n",
      "  8%|█████▍                                                                   | 14454/191926 [05:07<1:02:27, 47.36it/s]\n",
      "  8%|█████▍                                                                   | 14460/191926 [05:07<1:02:49, 47.08it/s]\n",
      "  8%|█████▌                                                                   | 14465/191926 [05:07<1:10:56, 41.69it/s]\n",
      "  8%|█████▌                                                                   | 14470/191926 [05:07<1:12:22, 40.87it/s]\n",
      "  8%|█████▌                                                                   | 14475/191926 [05:08<1:15:17, 39.28it/s]\n",
      "  8%|█████▌                                                                   | 14480/191926 [05:08<1:23:56, 35.23it/s]\n",
      "  8%|█████▌                                                                   | 14484/191926 [05:08<1:29:48, 32.93it/s]\n",
      "  8%|█████▌                                                                   | 14488/191926 [05:08<1:30:21, 32.73it/s]\n",
      "  8%|█████▌                                                                   | 14492/191926 [05:08<1:30:45, 32.58it/s]\n",
      "  8%|█████▌                                                                   | 14496/191926 [05:08<1:25:42, 34.50it/s]"
     ]
    },
    {
     "name": "stdout",
     "output_type": "stream",
     "text": [
      "loss for 14500 is nan\n"
     ]
    },
    {
     "name": "stderr",
     "output_type": "stream",
     "text": [
      "\n",
      "  8%|█████▌                                                                   | 14505/191926 [05:08<1:11:25, 41.40it/s]\n",
      "  8%|█████▌                                                                   | 14511/191926 [05:08<1:04:58, 45.51it/s]\n",
      "  8%|█████▌                                                                   | 14517/191926 [05:09<1:12:40, 40.68it/s]\n",
      "  8%|█████▌                                                                   | 14522/191926 [05:09<1:35:34, 30.93it/s]\n",
      "  8%|█████▌                                                                   | 14526/191926 [05:09<1:37:57, 30.19it/s]\n",
      "  8%|█████▌                                                                   | 14530/191926 [05:09<1:40:29, 29.42it/s]\n",
      "  8%|█████▌                                                                   | 14534/191926 [05:09<1:48:29, 27.25it/s]\n",
      "  8%|█████▌                                                                   | 14538/191926 [05:09<1:57:37, 25.13it/s]\n",
      "  8%|█████▌                                                                   | 14543/191926 [05:10<1:41:29, 29.13it/s]\n",
      "  8%|█████▌                                                                   | 14547/191926 [05:10<1:42:05, 28.96it/s]\n",
      "  8%|█████▌                                                                   | 14551/191926 [05:10<1:40:43, 29.35it/s]\n",
      "  8%|█████▌                                                                   | 14555/191926 [05:10<1:55:44, 25.54it/s]\n",
      "  8%|█████▌                                                                   | 14558/191926 [05:10<2:00:01, 24.63it/s]\n",
      "  8%|█████▌                                                                   | 14561/191926 [05:10<1:57:07, 25.24it/s]\n",
      "  8%|█████▌                                                                   | 14566/191926 [05:10<1:39:43, 29.64it/s]\n",
      "  8%|█████▌                                                                   | 14570/191926 [05:11<1:41:43, 29.06it/s]\n",
      "  8%|█████▌                                                                   | 14574/191926 [05:11<1:44:01, 28.42it/s]\n",
      "  8%|█████▌                                                                   | 14578/191926 [05:11<1:43:50, 28.46it/s]\n",
      "  8%|█████▌                                                                   | 14585/191926 [05:11<1:27:53, 33.63it/s]\n",
      "  8%|█████▌                                                                   | 14589/191926 [05:11<1:30:51, 32.53it/s]\n",
      "  8%|█████▌                                                                   | 14593/191926 [05:11<1:39:57, 29.57it/s]\n",
      "  8%|█████▌                                                                   | 14597/191926 [05:11<1:34:47, 31.18it/s]"
     ]
    },
    {
     "name": "stdout",
     "output_type": "stream",
     "text": [
      "loss for 14600 is nan\n"
     ]
    },
    {
     "name": "stderr",
     "output_type": "stream",
     "text": [
      "\n",
      "  8%|█████▌                                                                   | 14601/191926 [05:12<1:33:04, 31.75it/s]\n",
      "  8%|█████▌                                                                   | 14605/191926 [05:12<1:33:31, 31.60it/s]\n",
      "  8%|█████▌                                                                   | 14609/191926 [05:12<1:36:29, 30.63it/s]\n",
      "  8%|█████▌                                                                   | 14613/191926 [05:12<1:35:55, 30.81it/s]\n",
      "  8%|█████▌                                                                   | 14617/191926 [05:12<1:38:10, 30.10it/s]\n",
      "  8%|█████▌                                                                   | 14621/191926 [05:12<1:34:25, 31.30it/s]\n",
      "  8%|█████▌                                                                   | 14627/191926 [05:12<1:24:04, 35.15it/s]\n",
      "  8%|█████▌                                                                   | 14631/191926 [05:12<1:32:32, 31.93it/s]\n",
      "  8%|█████▌                                                                   | 14635/191926 [05:13<1:27:49, 33.64it/s]\n",
      "  8%|█████▌                                                                   | 14639/191926 [05:13<1:25:24, 34.60it/s]\n",
      "  8%|█████▌                                                                   | 14644/191926 [05:13<1:18:55, 37.43it/s]\n",
      "  8%|█████▌                                                                   | 14648/191926 [05:13<1:18:54, 37.45it/s]\n",
      "  8%|█████▌                                                                   | 14652/191926 [05:13<1:24:34, 34.93it/s]\n",
      "  8%|█████▌                                                                   | 14656/191926 [05:13<1:23:23, 35.43it/s]\n",
      "  8%|█████▌                                                                   | 14661/191926 [05:13<1:18:01, 37.87it/s]\n",
      "  8%|█████▌                                                                   | 14665/191926 [05:13<1:22:27, 35.82it/s]\n",
      "  8%|█████▌                                                                   | 14671/191926 [05:13<1:13:05, 40.42it/s]\n",
      "  8%|█████▌                                                                   | 14676/191926 [05:14<1:14:33, 39.62it/s]\n",
      "  8%|█████▌                                                                   | 14681/191926 [05:14<1:13:27, 40.22it/s]\n",
      "  8%|█████▌                                                                   | 14686/191926 [05:14<1:12:41, 40.64it/s]\n",
      "  8%|█████▌                                                                   | 14696/191926 [05:14<1:01:30, 48.02it/s]"
     ]
    },
    {
     "name": "stdout",
     "output_type": "stream",
     "text": [
      "loss for 14700 is nan\n"
     ]
    },
    {
     "name": "stderr",
     "output_type": "stream",
     "text": [
      "\n",
      "  8%|█████▌                                                                   | 14702/191926 [05:14<1:05:24, 45.16it/s]\n",
      "  8%|█████▌                                                                   | 14707/191926 [05:14<1:04:26, 45.84it/s]\n",
      "  8%|█████▊                                                                     | 14715/191926 [05:14<57:28, 51.39it/s]\n",
      "  8%|█████▊                                                                     | 14724/191926 [05:14<50:45, 58.19it/s]\n",
      "  8%|█████▊                                                                     | 14731/191926 [05:15<51:31, 57.31it/s]\n",
      "  8%|█████▊                                                                     | 14738/191926 [05:15<53:27, 55.23it/s]\n",
      "  8%|█████▊                                                                     | 14747/191926 [05:15<48:11, 61.28it/s]\n",
      "  8%|█████▊                                                                     | 14754/191926 [05:15<51:23, 57.46it/s]\n",
      "  8%|█████▊                                                                     | 14761/191926 [05:15<49:48, 59.28it/s]\n",
      "  8%|█████▊                                                                     | 14768/191926 [05:15<54:59, 53.69it/s]\n",
      "  8%|█████▌                                                                   | 14774/191926 [05:15<1:00:13, 49.03it/s]\n",
      "  8%|█████▌                                                                   | 14780/191926 [05:15<1:02:27, 47.27it/s]\n",
      "  8%|█████▌                                                                   | 14785/191926 [05:16<1:04:41, 45.64it/s]\n",
      "  8%|█████▋                                                                   | 14790/191926 [05:16<1:08:00, 43.42it/s]\n",
      "  8%|█████▋                                                                   | 14796/191926 [05:16<1:05:18, 45.20it/s]"
     ]
    },
    {
     "name": "stdout",
     "output_type": "stream",
     "text": [
      "loss for 14800 is nan\n"
     ]
    },
    {
     "name": "stderr",
     "output_type": "stream",
     "text": [
      "\n",
      "  8%|█████▊                                                                     | 14803/191926 [05:16<59:53, 49.29it/s]\n",
      "  8%|█████▋                                                                   | 14809/191926 [05:16<1:08:29, 43.10it/s]\n",
      "  8%|█████▋                                                                   | 14814/191926 [05:16<1:16:16, 38.70it/s]\n",
      "  8%|█████▋                                                                   | 14820/191926 [05:16<1:09:55, 42.22it/s]\n",
      "  8%|█████▋                                                                   | 14825/191926 [05:17<1:10:54, 41.63it/s]\n",
      "  8%|█████▋                                                                   | 14830/191926 [05:17<1:20:05, 36.85it/s]\n",
      "  8%|█████▋                                                                   | 14834/191926 [05:17<1:20:51, 36.50it/s]\n",
      "  8%|█████▋                                                                   | 14838/191926 [05:17<1:21:23, 36.26it/s]\n",
      "  8%|█████▋                                                                   | 14842/191926 [05:17<1:26:11, 34.24it/s]\n",
      "  8%|█████▋                                                                   | 14846/191926 [05:17<1:25:07, 34.67it/s]\n",
      "  8%|█████▋                                                                   | 14851/191926 [05:17<1:17:57, 37.86it/s]\n",
      "  8%|█████▋                                                                   | 14855/191926 [05:17<1:18:11, 37.74it/s]\n",
      "  8%|█████▋                                                                   | 14862/191926 [05:17<1:08:09, 43.30it/s]\n",
      "  8%|█████▋                                                                   | 14867/191926 [05:18<1:16:44, 38.45it/s]\n",
      "  8%|█████▋                                                                   | 14872/191926 [05:18<1:15:40, 38.99it/s]\n",
      "  8%|█████▋                                                                   | 14877/191926 [05:18<1:10:40, 41.75it/s]\n",
      "  8%|█████▋                                                                   | 14882/191926 [05:18<1:19:55, 36.92it/s]\n",
      "  8%|█████▋                                                                   | 14886/191926 [05:18<1:19:50, 36.95it/s]\n",
      "  8%|█████▋                                                                   | 14890/191926 [05:18<1:24:13, 35.04it/s]\n",
      "  8%|█████▋                                                                   | 14894/191926 [05:18<1:25:30, 34.51it/s]\n",
      "  8%|█████▋                                                                   | 14898/191926 [05:19<1:24:38, 34.86it/s]"
     ]
    },
    {
     "name": "stdout",
     "output_type": "stream",
     "text": [
      "loss for 14900 is nan\n"
     ]
    },
    {
     "name": "stderr",
     "output_type": "stream",
     "text": [
      "\n",
      "  8%|█████▋                                                                   | 14902/191926 [05:19<1:24:01, 35.11it/s]\n",
      "  8%|█████▋                                                                   | 14906/191926 [05:19<1:23:36, 35.29it/s]\n",
      "  8%|█████▋                                                                   | 14911/191926 [05:19<1:20:28, 36.66it/s]\n",
      "  8%|█████▋                                                                   | 14918/191926 [05:19<1:09:58, 42.16it/s]\n",
      "  8%|█████▋                                                                   | 14923/191926 [05:19<1:13:03, 40.38it/s]\n",
      "  8%|█████▋                                                                   | 14928/191926 [05:19<1:13:47, 39.98it/s]\n",
      "  8%|█████▋                                                                   | 14933/191926 [05:19<1:12:11, 40.86it/s]\n",
      "  8%|█████▋                                                                   | 14938/191926 [05:19<1:14:35, 39.54it/s]\n",
      "  8%|█████▋                                                                   | 14943/191926 [05:20<1:14:52, 39.40it/s]\n",
      "  8%|█████▋                                                                   | 14948/191926 [05:20<1:20:01, 36.86it/s]\n",
      "  8%|█████▋                                                                   | 14952/191926 [05:20<1:22:33, 35.73it/s]\n",
      "  8%|█████▋                                                                   | 14956/191926 [05:20<1:22:33, 35.72it/s]\n",
      "  8%|█████▋                                                                   | 14960/191926 [05:20<1:25:13, 34.61it/s]\n",
      "  8%|█████▋                                                                   | 14964/191926 [05:20<1:21:51, 36.03it/s]\n",
      "  8%|█████▋                                                                   | 14968/191926 [05:20<1:24:21, 34.96it/s]\n",
      "  8%|█████▋                                                                   | 14972/191926 [05:20<1:31:46, 32.13it/s]\n",
      "  8%|█████▋                                                                   | 14977/191926 [05:21<1:26:53, 33.94it/s]\n",
      "  8%|█████▋                                                                   | 14981/191926 [05:21<1:26:28, 34.10it/s]\n",
      "  8%|█████▋                                                                   | 14985/191926 [05:21<1:23:32, 35.30it/s]\n",
      "  8%|█████▋                                                                   | 14990/191926 [05:21<1:18:59, 37.33it/s]\n",
      "  8%|█████▋                                                                   | 14994/191926 [05:21<1:20:57, 36.43it/s]"
     ]
    },
    {
     "name": "stdout",
     "output_type": "stream",
     "text": [
      "loss for 15000 is nan\n"
     ]
    },
    {
     "name": "stderr",
     "output_type": "stream",
     "text": [
      "\n",
      "  8%|█████▋                                                                   | 15002/191926 [05:21<1:08:25, 43.10it/s]\n",
      "  8%|█████▋                                                                   | 15010/191926 [05:21<1:02:20, 47.30it/s]\n",
      "  8%|█████▊                                                                     | 15016/191926 [05:21<59:55, 49.20it/s]\n",
      "  8%|█████▊                                                                     | 15023/191926 [05:22<56:43, 51.97it/s]\n",
      "  8%|█████▋                                                                   | 15029/191926 [05:22<1:08:36, 42.98it/s]\n",
      "  8%|█████▋                                                                   | 15034/191926 [05:22<1:18:26, 37.58it/s]\n",
      "  8%|█████▋                                                                   | 15039/191926 [05:22<1:23:12, 35.43it/s]\n",
      "  8%|█████▋                                                                   | 15043/191926 [05:22<1:30:05, 32.72it/s]\n",
      "  8%|█████▋                                                                   | 15047/191926 [05:22<1:29:35, 32.90it/s]\n",
      "  8%|█████▋                                                                   | 15053/191926 [05:22<1:18:35, 37.51it/s]\n",
      "  8%|█████▋                                                                   | 15058/191926 [05:23<1:16:32, 38.51it/s]\n",
      "  8%|█████▋                                                                   | 15063/191926 [05:23<1:15:26, 39.07it/s]\n",
      "  8%|█████▋                                                                   | 15068/191926 [05:23<1:15:26, 39.07it/s]\n",
      "  8%|█████▋                                                                   | 15073/191926 [05:23<1:11:12, 41.40it/s]\n",
      "  8%|█████▋                                                                   | 15078/191926 [05:23<1:17:25, 38.07it/s]\n",
      "  8%|█████▋                                                                   | 15082/191926 [05:23<1:19:50, 36.92it/s]\n",
      "  8%|█████▋                                                                   | 15090/191926 [05:23<1:08:42, 42.90it/s]\n",
      "  8%|█████▉                                                                     | 15100/191926 [05:23<57:38, 51.13it/s]"
     ]
    },
    {
     "name": "stdout",
     "output_type": "stream",
     "text": [
      "loss for 15100 is nan\n"
     ]
    },
    {
     "name": "stderr",
     "output_type": "stream",
     "text": [
      "\n",
      "  8%|█████▋                                                                   | 15107/191926 [05:24<1:01:03, 48.26it/s]\n",
      "  8%|█████▉                                                                     | 15114/191926 [05:24<55:52, 52.74it/s]\n",
      "  8%|█████▉                                                                     | 15120/191926 [05:24<56:47, 51.89it/s]\n",
      "  8%|█████▉                                                                     | 15126/191926 [05:24<58:36, 50.27it/s]\n",
      "  8%|█████▊                                                                   | 15132/191926 [05:24<1:02:49, 46.90it/s]\n",
      "  8%|█████▉                                                                     | 15140/191926 [05:24<56:20, 52.30it/s]\n",
      "  8%|█████▉                                                                     | 15148/191926 [05:24<52:32, 56.08it/s]\n",
      "  8%|█████▉                                                                     | 15154/191926 [05:24<54:20, 54.21it/s]\n",
      "  8%|█████▉                                                                     | 15160/191926 [05:25<55:07, 53.44it/s]\n",
      "  8%|█████▊                                                                   | 15166/191926 [05:25<1:02:09, 47.40it/s]\n",
      "  8%|█████▊                                                                   | 15171/191926 [05:25<1:06:08, 44.54it/s]\n",
      "  8%|█████▊                                                                   | 15176/191926 [05:25<1:09:37, 42.31it/s]\n",
      "  8%|█████▊                                                                   | 15181/191926 [05:25<1:17:43, 37.90it/s]\n",
      "  8%|█████▊                                                                   | 15185/191926 [05:25<1:20:54, 36.40it/s]\n",
      "  8%|█████▊                                                                   | 15189/191926 [05:25<1:20:29, 36.59it/s]\n",
      "  8%|█████▊                                                                   | 15196/191926 [05:25<1:10:29, 41.79it/s]"
     ]
    },
    {
     "name": "stdout",
     "output_type": "stream",
     "text": [
      "loss for 15200 is nan\n"
     ]
    },
    {
     "name": "stderr",
     "output_type": "stream",
     "text": [
      "\n",
      "  8%|█████▊                                                                   | 15201/191926 [05:26<1:09:55, 42.12it/s]\n",
      "  8%|█████▊                                                                   | 15206/191926 [05:26<1:13:14, 40.21it/s]\n",
      "  8%|█████▊                                                                   | 15211/191926 [05:26<1:15:18, 39.11it/s]\n",
      "  8%|█████▊                                                                   | 15217/191926 [05:26<1:08:36, 42.92it/s]\n",
      "  8%|█████▊                                                                   | 15223/191926 [05:26<1:05:06, 45.23it/s]\n",
      "  8%|█████▊                                                                   | 15228/191926 [05:26<1:05:22, 45.05it/s]\n",
      "  8%|█████▉                                                                     | 15236/191926 [05:26<57:40, 51.05it/s]\n",
      "  8%|█████▊                                                                   | 15242/191926 [05:26<1:00:18, 48.83it/s]\n",
      "  8%|█████▉                                                                     | 15249/191926 [05:27<55:46, 52.79it/s]\n",
      "  8%|█████▉                                                                     | 15256/191926 [05:27<52:52, 55.69it/s]\n",
      "  8%|█████▊                                                                   | 15262/191926 [05:27<1:05:51, 44.70it/s]\n",
      "  8%|█████▊                                                                   | 15267/191926 [05:27<1:07:18, 43.75it/s]\n",
      "  8%|█████▊                                                                   | 15272/191926 [05:27<1:09:43, 42.23it/s]\n",
      "  8%|█████▊                                                                   | 15277/191926 [05:27<1:11:24, 41.23it/s]\n",
      "  8%|█████▊                                                                   | 15282/191926 [05:27<1:12:36, 40.55it/s]\n",
      "  8%|█████▊                                                                   | 15287/191926 [05:27<1:11:18, 41.29it/s]\n",
      "  8%|█████▊                                                                   | 15292/191926 [05:28<1:10:58, 41.48it/s]\n",
      "  8%|█████▊                                                                   | 15298/191926 [05:28<1:06:13, 44.45it/s]"
     ]
    },
    {
     "name": "stdout",
     "output_type": "stream",
     "text": [
      "loss for 15300 is nan\n"
     ]
    },
    {
     "name": "stderr",
     "output_type": "stream",
     "text": [
      "\n",
      "  8%|█████▊                                                                   | 15303/191926 [05:28<1:11:04, 41.41it/s]\n",
      "  8%|█████▊                                                                   | 15310/191926 [05:28<1:04:53, 45.36it/s]\n",
      "  8%|█████▊                                                                   | 15315/191926 [05:28<1:12:16, 40.73it/s]\n",
      "  8%|█████▊                                                                   | 15320/191926 [05:28<1:13:53, 39.83it/s]\n",
      "  8%|█████▊                                                                   | 15325/191926 [05:28<1:14:22, 39.58it/s]\n",
      "  8%|█████▊                                                                   | 15333/191926 [05:29<1:05:59, 44.60it/s]\n",
      "  8%|█████▊                                                                   | 15338/191926 [05:29<1:05:45, 44.75it/s]\n",
      "  8%|█████▊                                                                   | 15343/191926 [05:29<1:08:38, 42.88it/s]\n",
      "  8%|█████▊                                                                   | 15348/191926 [05:29<1:11:21, 41.25it/s]\n",
      "  8%|█████▊                                                                   | 15353/191926 [05:29<1:12:32, 40.57it/s]\n",
      "  8%|█████▊                                                                   | 15358/191926 [05:29<1:10:44, 41.60it/s]\n",
      "  8%|█████▊                                                                   | 15365/191926 [05:29<1:04:13, 45.82it/s]\n",
      "  8%|█████▊                                                                   | 15370/191926 [05:29<1:05:52, 44.67it/s]\n",
      "  8%|█████▊                                                                   | 15375/191926 [05:29<1:07:35, 43.54it/s]\n",
      "  8%|█████▊                                                                   | 15381/191926 [05:30<1:04:41, 45.49it/s]\n",
      "  8%|█████▊                                                                   | 15386/191926 [05:30<1:08:03, 43.23it/s]\n",
      "  8%|█████▊                                                                   | 15391/191926 [05:30<1:06:56, 43.95it/s]\n",
      "  8%|█████▊                                                                   | 15398/191926 [05:30<1:02:39, 46.96it/s]"
     ]
    },
    {
     "name": "stdout",
     "output_type": "stream",
     "text": [
      "loss for 15400 is nan\n"
     ]
    },
    {
     "name": "stderr",
     "output_type": "stream",
     "text": [
      "\n",
      "  8%|██████                                                                     | 15405/191926 [05:30<57:44, 50.96it/s]\n",
      "  8%|██████                                                                     | 15412/191926 [05:30<53:37, 54.86it/s]\n",
      "  8%|█████▊                                                                   | 15418/191926 [05:30<1:03:25, 46.38it/s]\n",
      "  8%|██████                                                                     | 15428/191926 [05:30<55:20, 53.16it/s]\n",
      "  8%|██████                                                                     | 15434/191926 [05:31<58:08, 50.59it/s]\n",
      "  8%|██████                                                                     | 15440/191926 [05:31<59:05, 49.78it/s]\n",
      "  8%|██████                                                                     | 15446/191926 [05:31<59:13, 49.67it/s]\n",
      "  8%|█████▉                                                                   | 15452/191926 [05:31<1:04:59, 45.25it/s]\n",
      "  8%|██████                                                                     | 15459/191926 [05:31<59:36, 49.34it/s]\n",
      "  8%|█████▉                                                                   | 15465/191926 [05:31<1:01:57, 47.47it/s]\n",
      "  8%|██████                                                                     | 15473/191926 [05:31<55:10, 53.30it/s]\n",
      "  8%|██████                                                                     | 15482/191926 [05:31<49:23, 59.54it/s]\n",
      "  8%|██████                                                                     | 15489/191926 [05:32<53:26, 55.03it/s]\n",
      "  8%|█████▉                                                                   | 15495/191926 [05:32<1:00:22, 48.71it/s]"
     ]
    },
    {
     "name": "stdout",
     "output_type": "stream",
     "text": [
      "loss for 15500 is nan\n"
     ]
    },
    {
     "name": "stderr",
     "output_type": "stream",
     "text": [
      "\n",
      "  8%|█████▉                                                                   | 15501/191926 [05:32<1:02:55, 46.73it/s]\n",
      "  8%|█████▉                                                                   | 15506/191926 [05:32<1:03:20, 46.42it/s]\n",
      "  8%|█████▉                                                                   | 15511/191926 [05:32<1:06:41, 44.08it/s]\n",
      "  8%|█████▉                                                                   | 15516/191926 [05:32<1:13:19, 40.09it/s]\n",
      "  8%|█████▉                                                                   | 15521/191926 [05:32<1:16:43, 38.32it/s]\n",
      "  8%|█████▉                                                                   | 15528/191926 [05:33<1:06:48, 44.00it/s]\n",
      "  8%|██████                                                                     | 15536/191926 [05:33<58:19, 50.41it/s]\n",
      "  8%|█████▉                                                                   | 15542/191926 [05:33<1:09:07, 42.53it/s]\n",
      "  8%|█████▉                                                                   | 15549/191926 [05:33<1:01:59, 47.42it/s]\n",
      "  8%|█████▉                                                                   | 15555/191926 [05:33<1:03:58, 45.95it/s]\n",
      "  8%|█████▉                                                                   | 15561/191926 [05:33<1:04:36, 45.49it/s]\n",
      "  8%|█████▉                                                                   | 15566/191926 [05:33<1:10:08, 41.90it/s]\n",
      "  8%|█████▉                                                                   | 15571/191926 [05:33<1:06:44, 44.04it/s]\n",
      "  8%|█████▉                                                                   | 15577/191926 [05:34<1:02:07, 47.31it/s]\n",
      "  8%|██████                                                                     | 15585/191926 [05:34<55:41, 52.78it/s]\n",
      "  8%|██████                                                                     | 15593/191926 [05:34<51:01, 57.59it/s]"
     ]
    },
    {
     "name": "stdout",
     "output_type": "stream",
     "text": [
      "loss for 15600 is nan\n"
     ]
    },
    {
     "name": "stderr",
     "output_type": "stream",
     "text": [
      "\n",
      "  8%|██████                                                                     | 15601/191926 [05:34<50:28, 58.22it/s]\n",
      "  8%|█████▉                                                                   | 15608/191926 [05:34<1:07:24, 43.60it/s]\n",
      "  8%|█████▉                                                                   | 15614/191926 [05:34<1:13:04, 40.21it/s]\n",
      "  8%|█████▉                                                                   | 15619/191926 [05:35<1:30:25, 32.50it/s]\n",
      "  8%|█████▉                                                                   | 15624/191926 [05:35<1:26:03, 34.14it/s]\n",
      "  8%|█████▉                                                                   | 15632/191926 [05:35<1:14:00, 39.70it/s]\n",
      "  8%|█████▉                                                                   | 15637/191926 [05:35<1:11:04, 41.33it/s]\n",
      "  8%|█████▉                                                                   | 15642/191926 [05:35<1:09:45, 42.12it/s]\n",
      "  8%|█████▉                                                                   | 15647/191926 [05:35<1:07:02, 43.82it/s]\n",
      "  8%|█████▉                                                                   | 15653/191926 [05:35<1:06:13, 44.37it/s]\n",
      "  8%|█████▉                                                                   | 15658/191926 [05:35<1:05:10, 45.08it/s]\n",
      "  8%|██████                                                                     | 15665/191926 [05:36<59:09, 49.66it/s]\n",
      "  8%|██████                                                                     | 15671/191926 [05:36<57:33, 51.03it/s]\n",
      "  8%|██████▏                                                                    | 15680/191926 [05:36<52:31, 55.92it/s]\n",
      "  8%|██████▏                                                                    | 15686/191926 [05:36<55:07, 53.29it/s]\n",
      "  8%|██████▏                                                                    | 15695/191926 [05:36<49:17, 59.59it/s]"
     ]
    },
    {
     "name": "stdout",
     "output_type": "stream",
     "text": [
      "loss for 15700 is nan\n"
     ]
    },
    {
     "name": "stderr",
     "output_type": "stream",
     "text": [
      "\n",
      "  8%|██████▏                                                                    | 15702/191926 [05:36<51:27, 57.07it/s]\n",
      "  8%|██████▏                                                                    | 15710/191926 [05:36<48:39, 60.35it/s]\n",
      "  8%|██████▏                                                                    | 15718/191926 [05:36<45:23, 64.69it/s]\n",
      "  8%|██████▏                                                                    | 15725/191926 [05:36<46:34, 63.04it/s]\n",
      "  8%|██████▏                                                                    | 15732/191926 [05:37<46:26, 63.23it/s]\n",
      "  8%|██████▏                                                                    | 15739/191926 [05:37<56:25, 52.05it/s]\n",
      "  8%|█████▉                                                                   | 15745/191926 [05:37<1:07:40, 43.39it/s]\n",
      "  8%|█████▉                                                                   | 15750/191926 [05:37<1:06:37, 44.07it/s]\n",
      "  8%|██████▏                                                                    | 15759/191926 [05:37<57:59, 50.64it/s]\n",
      "  8%|██████▏                                                                    | 15768/191926 [05:37<51:23, 57.13it/s]\n",
      "  8%|██████▏                                                                    | 15776/191926 [05:37<47:14, 62.15it/s]\n",
      "  8%|██████▏                                                                    | 15783/191926 [05:37<46:26, 63.21it/s]\n",
      "  8%|██████▏                                                                    | 15792/191926 [05:38<44:05, 66.58it/s]"
     ]
    },
    {
     "name": "stdout",
     "output_type": "stream",
     "text": [
      "loss for 15800 is nan\n"
     ]
    },
    {
     "name": "stderr",
     "output_type": "stream",
     "text": [
      "\n",
      "  8%|██████▏                                                                    | 15801/191926 [05:38<42:24, 69.21it/s]\n",
      "  8%|██████▏                                                                    | 15813/191926 [05:38<39:18, 74.66it/s]\n",
      "  8%|██████▏                                                                    | 15821/191926 [05:38<39:33, 74.20it/s]\n",
      "  8%|██████▏                                                                    | 15829/191926 [05:38<44:37, 65.77it/s]\n",
      "  8%|██████▏                                                                    | 15836/191926 [05:38<55:34, 52.80it/s]\n",
      "  8%|██████▏                                                                    | 15842/191926 [05:38<59:52, 49.01it/s]\n",
      "  8%|██████                                                                   | 15848/191926 [05:39<1:08:42, 42.71it/s]\n",
      "  8%|██████                                                                   | 15853/191926 [05:39<1:07:20, 43.58it/s]\n",
      "  8%|██████                                                                   | 15858/191926 [05:39<1:09:08, 42.44it/s]\n",
      "  8%|██████                                                                   | 15863/191926 [05:39<1:18:39, 37.31it/s]\n",
      "  8%|██████                                                                   | 15869/191926 [05:39<1:10:52, 41.40it/s]\n",
      "  8%|██████                                                                   | 15874/191926 [05:39<1:20:06, 36.63it/s]\n",
      "  8%|██████                                                                   | 15879/191926 [05:39<1:15:58, 38.62it/s]\n",
      "  8%|██████                                                                   | 15884/191926 [05:40<1:19:30, 36.90it/s]\n",
      "  8%|██████                                                                   | 15891/191926 [05:40<1:09:57, 41.93it/s]\n",
      "  8%|██████                                                                   | 15896/191926 [05:40<1:16:28, 38.36it/s]"
     ]
    },
    {
     "name": "stdout",
     "output_type": "stream",
     "text": [
      "loss for 15900 is nan\n"
     ]
    },
    {
     "name": "stderr",
     "output_type": "stream",
     "text": [
      "\n",
      "  8%|██████                                                                   | 15901/191926 [05:40<1:15:31, 38.84it/s]\n",
      "  8%|██████                                                                   | 15906/191926 [05:40<1:15:45, 38.72it/s]\n",
      "  8%|██████                                                                   | 15911/191926 [05:40<1:14:42, 39.27it/s]\n",
      "  8%|██████                                                                   | 15919/191926 [05:40<1:06:35, 44.05it/s]\n",
      "  8%|██████                                                                   | 15924/191926 [05:41<1:13:07, 40.12it/s]\n",
      "  8%|██████                                                                   | 15930/191926 [05:41<1:06:43, 43.96it/s]\n",
      "  8%|██████                                                                   | 15935/191926 [05:41<1:05:57, 44.47it/s]\n",
      "  8%|██████▏                                                                    | 15942/191926 [05:41<59:54, 48.96it/s]\n",
      "  8%|██████▏                                                                    | 15950/191926 [05:41<53:57, 54.35it/s]\n",
      "  8%|██████                                                                   | 15956/191926 [05:41<1:01:30, 47.68it/s]\n",
      "  8%|██████                                                                   | 15962/191926 [05:41<1:01:06, 48.00it/s]\n",
      "  8%|██████▏                                                                    | 15971/191926 [05:41<54:00, 54.30it/s]\n",
      "  8%|██████▏                                                                    | 15977/191926 [05:41<58:09, 50.43it/s]\n",
      "  8%|██████                                                                   | 15983/191926 [05:42<1:02:35, 46.84it/s]\n",
      "  8%|██████▏                                                                    | 15989/191926 [05:42<59:51, 48.99it/s]\n",
      "  8%|██████                                                                   | 15995/191926 [05:42<1:00:13, 48.69it/s]"
     ]
    },
    {
     "name": "stdout",
     "output_type": "stream",
     "text": [
      "loss for 16000 is nan\n"
     ]
    },
    {
     "name": "stderr",
     "output_type": "stream",
     "text": [
      "\n",
      "  8%|██████                                                                   | 16001/191926 [05:42<1:00:28, 48.49it/s]\n",
      "  8%|██████                                                                   | 16006/191926 [05:42<1:01:48, 47.44it/s]\n",
      "  8%|██████                                                                   | 16011/191926 [05:42<1:03:26, 46.22it/s]\n",
      "  8%|██████                                                                   | 16016/191926 [05:42<1:03:54, 45.87it/s]\n",
      "  8%|██████                                                                   | 16022/191926 [05:42<1:00:16, 48.64it/s]\n",
      "  8%|██████                                                                   | 16027/191926 [05:43<1:08:29, 42.80it/s]\n",
      "  8%|██████                                                                   | 16032/191926 [05:43<1:09:55, 41.92it/s]\n",
      "  8%|██████                                                                   | 16037/191926 [05:43<1:13:40, 39.79it/s]\n",
      "  8%|██████                                                                   | 16042/191926 [05:43<1:10:48, 41.40it/s]\n",
      "  8%|██████                                                                   | 16047/191926 [05:43<1:08:47, 42.61it/s]\n",
      "  8%|██████                                                                   | 16052/191926 [05:43<1:07:54, 43.17it/s]\n",
      "  8%|██████                                                                   | 16057/191926 [05:43<1:09:50, 41.97it/s]\n",
      "  8%|██████                                                                   | 16063/191926 [05:43<1:04:38, 45.34it/s]\n",
      "  8%|██████                                                                   | 16068/191926 [05:44<1:07:20, 43.53it/s]\n",
      "  8%|██████                                                                   | 16073/191926 [05:44<1:08:31, 42.77it/s]\n",
      "  8%|██████                                                                   | 16078/191926 [05:44<1:09:21, 42.25it/s]\n",
      "  8%|██████                                                                   | 16084/191926 [05:44<1:04:34, 45.38it/s]\n",
      "  8%|██████▎                                                                    | 16092/191926 [05:44<57:13, 51.22it/s]\n",
      "  8%|██████                                                                   | 16098/191926 [05:44<1:00:58, 48.06it/s]"
     ]
    },
    {
     "name": "stdout",
     "output_type": "stream",
     "text": [
      "loss for 16100 is nan\n"
     ]
    },
    {
     "name": "stderr",
     "output_type": "stream",
     "text": [
      "\n",
      "  8%|██████▎                                                                    | 16106/191926 [05:44<55:15, 53.03it/s]\n",
      "  8%|██████▎                                                                    | 16112/191926 [05:44<55:28, 52.82it/s]\n",
      "  8%|██████▎                                                                    | 16118/191926 [05:44<54:58, 53.30it/s]\n",
      "  8%|██████▎                                                                    | 16124/191926 [05:45<59:47, 49.01it/s]\n",
      "  8%|██████▏                                                                  | 16130/191926 [05:45<1:04:51, 45.17it/s]\n",
      "  8%|██████▎                                                                    | 16138/191926 [05:45<57:25, 51.03it/s]\n",
      "  8%|██████▎                                                                    | 16146/191926 [05:45<53:55, 54.33it/s]\n",
      "  8%|██████▎                                                                    | 16152/191926 [05:45<53:48, 54.45it/s]\n",
      "  8%|██████▎                                                                    | 16160/191926 [05:45<51:35, 56.78it/s]\n",
      "  8%|██████▎                                                                    | 16168/191926 [05:45<48:14, 60.72it/s]\n",
      "  8%|██████▎                                                                    | 16178/191926 [05:45<43:47, 66.88it/s]\n",
      "  8%|██████▎                                                                    | 16186/191926 [05:46<41:54, 69.88it/s]\n",
      "  8%|██████▎                                                                    | 16194/191926 [05:46<48:12, 60.75it/s]"
     ]
    },
    {
     "name": "stdout",
     "output_type": "stream",
     "text": [
      "loss for 16200 is nan\n"
     ]
    },
    {
     "name": "stderr",
     "output_type": "stream",
     "text": [
      "\n",
      "  8%|██████▎                                                                    | 16201/191926 [05:46<59:14, 49.44it/s]\n",
      "  8%|██████▏                                                                  | 16207/191926 [05:46<1:03:33, 46.08it/s]\n",
      "  8%|██████▏                                                                  | 16213/191926 [05:46<1:06:28, 44.06it/s]\n",
      "  8%|██████▏                                                                  | 16218/191926 [05:46<1:06:09, 44.26it/s]\n",
      "  8%|██████▏                                                                  | 16225/191926 [05:46<1:00:38, 48.29it/s]\n",
      "  8%|██████▏                                                                  | 16231/191926 [05:47<1:03:43, 45.96it/s]\n",
      "  8%|██████▏                                                                  | 16236/191926 [05:47<1:03:48, 45.89it/s]\n",
      "  8%|██████▏                                                                  | 16241/191926 [05:47<1:06:37, 43.95it/s]\n",
      "  8%|██████▏                                                                  | 16246/191926 [05:47<1:08:35, 42.69it/s]\n",
      "  8%|██████▏                                                                  | 16251/191926 [05:47<1:10:53, 41.30it/s]\n",
      "  8%|██████▏                                                                  | 16256/191926 [05:47<1:08:24, 42.79it/s]\n",
      "  8%|██████▏                                                                  | 16261/191926 [05:47<1:10:44, 41.39it/s]\n",
      "  8%|██████▏                                                                  | 16267/191926 [05:47<1:07:26, 43.41it/s]\n",
      "  8%|██████▏                                                                  | 16272/191926 [05:48<1:05:14, 44.87it/s]\n",
      "  8%|██████▏                                                                  | 16277/191926 [05:48<1:04:52, 45.13it/s]\n",
      "  8%|██████▏                                                                  | 16282/191926 [05:48<1:07:21, 43.46it/s]\n",
      "  8%|██████▏                                                                  | 16287/191926 [05:48<1:09:06, 42.36it/s]\n",
      "  8%|██████▎                                                                    | 16297/191926 [05:48<57:58, 50.49it/s]"
     ]
    },
    {
     "name": "stdout",
     "output_type": "stream",
     "text": [
      "loss for 16300 is nan\n"
     ]
    },
    {
     "name": "stderr",
     "output_type": "stream",
     "text": [
      "\n",
      "  8%|██████▏                                                                  | 16303/191926 [05:48<1:04:26, 45.42it/s]\n",
      "  8%|██████▏                                                                  | 16309/191926 [05:48<1:00:43, 48.20it/s]\n",
      "  9%|██████▍                                                                    | 16319/191926 [05:48<53:33, 54.65it/s]\n",
      "  9%|██████▍                                                                    | 16328/191926 [05:49<49:45, 58.82it/s]\n",
      "  9%|██████▍                                                                    | 16335/191926 [05:49<48:06, 60.83it/s]\n",
      "  9%|██████▍                                                                    | 16342/191926 [05:49<55:13, 52.99it/s]\n",
      "  9%|██████▍                                                                    | 16348/191926 [05:49<59:13, 49.41it/s]\n",
      "  9%|██████▏                                                                  | 16354/191926 [05:49<1:01:45, 47.39it/s]\n",
      "  9%|██████▍                                                                    | 16361/191926 [05:49<57:23, 50.99it/s]\n",
      "  9%|██████▏                                                                  | 16367/191926 [05:49<1:03:16, 46.24it/s]\n",
      "  9%|██████▏                                                                  | 16372/191926 [05:50<1:08:25, 42.76it/s]\n",
      "  9%|██████▏                                                                  | 16377/191926 [05:50<1:09:56, 41.83it/s]\n",
      "  9%|██████▏                                                                  | 16382/191926 [05:50<1:08:09, 42.93it/s]\n",
      "  9%|██████▏                                                                  | 16387/191926 [05:50<1:09:38, 42.01it/s]\n",
      "  9%|██████▏                                                                  | 16392/191926 [05:50<1:07:56, 43.06it/s]\n",
      "  9%|██████▏                                                                  | 16397/191926 [05:50<1:11:58, 40.65it/s]"
     ]
    },
    {
     "name": "stdout",
     "output_type": "stream",
     "text": [
      "loss for 16400 is nan\n"
     ]
    },
    {
     "name": "stderr",
     "output_type": "stream",
     "text": [
      "\n",
      "  9%|██████▏                                                                  | 16403/191926 [05:50<1:05:27, 44.70it/s]\n",
      "  9%|██████▏                                                                  | 16409/191926 [05:50<1:03:28, 46.09it/s]\n",
      "  9%|██████▏                                                                  | 16414/191926 [05:51<1:05:52, 44.41it/s]\n",
      "  9%|██████▍                                                                    | 16421/191926 [05:51<59:23, 49.25it/s]\n",
      "  9%|██████▏                                                                  | 16427/191926 [05:51<1:04:25, 45.40it/s]\n",
      "  9%|██████▏                                                                  | 16432/191926 [05:51<1:07:01, 43.64it/s]\n",
      "  9%|██████▍                                                                    | 16440/191926 [05:51<58:54, 49.65it/s]\n",
      "  9%|██████▍                                                                    | 16449/191926 [05:51<53:05, 55.09it/s]\n",
      "  9%|██████▍                                                                    | 16455/191926 [05:51<53:58, 54.19it/s]\n",
      "  9%|██████▍                                                                    | 16465/191926 [05:51<46:46, 62.52it/s]\n",
      "  9%|██████▍                                                                    | 16473/191926 [05:51<43:55, 66.56it/s]\n",
      "  9%|██████▍                                                                    | 16482/191926 [05:52<41:30, 70.45it/s]\n",
      "  9%|██████▍                                                                    | 16491/191926 [05:52<39:26, 74.13it/s]\n",
      "  9%|██████▍                                                                    | 16499/191926 [05:52<43:01, 67.96it/s]"
     ]
    },
    {
     "name": "stdout",
     "output_type": "stream",
     "text": [
      "loss for 16500 is nan\n"
     ]
    },
    {
     "name": "stderr",
     "output_type": "stream",
     "text": [
      "\n",
      "  9%|██████▍                                                                    | 16507/191926 [05:52<42:06, 69.44it/s]\n",
      "  9%|██████▍                                                                    | 16515/191926 [05:52<51:26, 56.84it/s]\n",
      "  9%|██████▍                                                                    | 16522/191926 [05:52<52:25, 55.77it/s]\n",
      "  9%|██████▍                                                                    | 16531/191926 [05:52<47:29, 61.55it/s]\n",
      "  9%|██████▍                                                                    | 16542/191926 [05:52<41:48, 69.93it/s]\n",
      "  9%|██████▍                                                                    | 16551/191926 [05:53<39:58, 73.12it/s]\n",
      "  9%|██████▍                                                                    | 16559/191926 [05:53<41:20, 70.69it/s]\n",
      "  9%|██████▍                                                                    | 16567/191926 [05:53<40:55, 71.42it/s]\n",
      "  9%|██████▍                                                                    | 16575/191926 [05:53<47:28, 61.56it/s]\n",
      "  9%|██████▍                                                                    | 16582/191926 [05:53<48:34, 60.17it/s]\n",
      "  9%|██████▍                                                                    | 16589/191926 [05:53<49:18, 59.27it/s]\n",
      "  9%|██████▍                                                                    | 16596/191926 [05:53<54:50, 53.29it/s]"
     ]
    },
    {
     "name": "stdout",
     "output_type": "stream",
     "text": [
      "loss for 16600 is nan\n"
     ]
    },
    {
     "name": "stderr",
     "output_type": "stream",
     "text": [
      "\n",
      "  9%|██████▎                                                                  | 16602/191926 [05:54<1:01:36, 47.44it/s]\n",
      "  9%|██████▍                                                                    | 16609/191926 [05:54<58:21, 50.07it/s]\n",
      "  9%|██████▎                                                                  | 16615/191926 [05:54<1:01:23, 47.60it/s]\n",
      "  9%|██████▎                                                                  | 16620/191926 [05:54<1:07:36, 43.21it/s]\n",
      "  9%|██████▎                                                                  | 16625/191926 [05:54<1:13:24, 39.80it/s]\n",
      "  9%|██████▎                                                                  | 16634/191926 [05:54<1:02:57, 46.41it/s]\n",
      "  9%|██████▌                                                                    | 16642/191926 [05:54<56:17, 51.90it/s]\n",
      "  9%|██████▌                                                                    | 16651/191926 [05:54<51:17, 56.95it/s]\n",
      "  9%|██████▌                                                                    | 16658/191926 [05:55<59:01, 49.49it/s]\n",
      "  9%|██████▎                                                                  | 16664/191926 [05:55<1:04:07, 45.55it/s]\n",
      "  9%|██████▎                                                                  | 16671/191926 [05:55<1:00:31, 48.25it/s]\n",
      "  9%|██████▎                                                                  | 16677/191926 [05:55<1:00:37, 48.18it/s]\n",
      "  9%|██████▎                                                                  | 16683/191926 [05:55<1:01:02, 47.84it/s]\n",
      "  9%|██████▌                                                                    | 16691/191926 [05:55<54:52, 53.22it/s]\n",
      "  9%|██████▌                                                                    | 16698/191926 [05:55<52:44, 55.37it/s]"
     ]
    },
    {
     "name": "stdout",
     "output_type": "stream",
     "text": [
      "loss for 16700 is nan\n"
     ]
    },
    {
     "name": "stderr",
     "output_type": "stream",
     "text": [
      "\n",
      "  9%|██████▌                                                                    | 16705/191926 [05:55<51:13, 57.02it/s]\n",
      "  9%|██████▌                                                                    | 16713/191926 [05:56<47:57, 60.88it/s]\n",
      "  9%|██████▌                                                                    | 16720/191926 [05:56<53:07, 54.97it/s]\n",
      "  9%|██████▌                                                                    | 16727/191926 [05:56<50:52, 57.40it/s]\n",
      "  9%|██████▌                                                                    | 16737/191926 [05:56<45:11, 64.62it/s]\n",
      "  9%|██████▌                                                                    | 16744/191926 [05:56<51:26, 56.75it/s]\n",
      "  9%|██████▌                                                                    | 16751/191926 [05:56<49:49, 58.60it/s]\n",
      "  9%|██████▌                                                                    | 16763/191926 [05:56<44:21, 65.81it/s]\n",
      "  9%|██████▌                                                                    | 16771/191926 [05:57<45:47, 63.75it/s]\n",
      "  9%|██████▌                                                                    | 16778/191926 [05:57<51:16, 56.93it/s]\n",
      "  9%|██████▌                                                                    | 16785/191926 [05:57<49:34, 58.89it/s]\n",
      "  9%|██████▌                                                                    | 16792/191926 [05:57<52:17, 55.83it/s]"
     ]
    },
    {
     "name": "stdout",
     "output_type": "stream",
     "text": [
      "loss for 16800 is nan\n"
     ]
    },
    {
     "name": "stderr",
     "output_type": "stream",
     "text": [
      "\n",
      "  9%|██████▌                                                                    | 16802/191926 [05:57<46:10, 63.21it/s]\n",
      "  9%|██████▌                                                                    | 16809/191926 [05:57<44:55, 64.97it/s]\n",
      "  9%|██████▌                                                                    | 16817/191926 [05:57<44:50, 65.08it/s]\n",
      "  9%|██████▌                                                                    | 16824/191926 [05:57<45:42, 63.85it/s]\n",
      "  9%|██████▌                                                                    | 16831/191926 [05:58<54:35, 53.46it/s]\n",
      "  9%|██████▌                                                                    | 16838/191926 [05:58<51:58, 56.15it/s]\n",
      "  9%|██████▌                                                                    | 16846/191926 [05:58<48:20, 60.36it/s]\n",
      "  9%|██████▌                                                                    | 16853/191926 [05:58<51:25, 56.75it/s]\n",
      "  9%|██████▌                                                                    | 16860/191926 [05:58<49:39, 58.75it/s]\n",
      "  9%|██████▌                                                                    | 16867/191926 [05:58<54:02, 53.99it/s]\n",
      "  9%|██████▌                                                                    | 16873/191926 [05:58<58:33, 49.82it/s]\n",
      "  9%|██████▌                                                                    | 16879/191926 [05:58<59:25, 49.10it/s]\n",
      "  9%|██████▍                                                                  | 16885/191926 [05:59<1:03:22, 46.03it/s]\n",
      "  9%|██████▍                                                                  | 16890/191926 [05:59<1:04:15, 45.40it/s]\n",
      "  9%|██████▍                                                                  | 16895/191926 [05:59<1:04:06, 45.50it/s]"
     ]
    },
    {
     "name": "stdout",
     "output_type": "stream",
     "text": [
      "loss for 16900 is nan\n"
     ]
    },
    {
     "name": "stderr",
     "output_type": "stream",
     "text": [
      "\n",
      "  9%|██████▌                                                                    | 16903/191926 [05:59<56:50, 51.32it/s]\n",
      "  9%|██████▌                                                                    | 16909/191926 [05:59<58:00, 50.28it/s]\n",
      "  9%|██████▌                                                                    | 16917/191926 [05:59<54:15, 53.77it/s]\n",
      "  9%|██████▌                                                                    | 16923/191926 [05:59<58:16, 50.06it/s]\n",
      "  9%|██████▌                                                                    | 16929/191926 [05:59<59:48, 48.77it/s]\n",
      "  9%|██████▍                                                                  | 16935/191926 [06:00<1:00:10, 48.47it/s]\n",
      "  9%|██████▌                                                                    | 16941/191926 [06:00<57:34, 50.65it/s]\n",
      "  9%|██████▌                                                                    | 16949/191926 [06:00<52:15, 55.80it/s]\n",
      "  9%|██████▋                                                                    | 16955/191926 [06:00<54:48, 53.21it/s]\n",
      "  9%|██████▋                                                                    | 16961/191926 [06:00<54:18, 53.70it/s]\n",
      "  9%|██████▋                                                                    | 16968/191926 [06:00<50:54, 57.28it/s]\n",
      "  9%|██████▋                                                                    | 16976/191926 [06:00<48:10, 60.52it/s]\n",
      "  9%|██████▋                                                                    | 16983/191926 [06:00<52:04, 55.99it/s]\n",
      "  9%|██████▋                                                                    | 16989/191926 [06:01<56:44, 51.38it/s]\n",
      "  9%|██████▋                                                                    | 16996/191926 [06:01<54:37, 53.37it/s]"
     ]
    },
    {
     "name": "stdout",
     "output_type": "stream",
     "text": [
      "loss for 17000 is nan\n"
     ]
    },
    {
     "name": "stderr",
     "output_type": "stream",
     "text": [
      "\n",
      "  9%|██████▍                                                                  | 17002/191926 [06:01<1:01:02, 47.76it/s]\n",
      "  9%|██████▍                                                                  | 17007/191926 [06:01<1:00:43, 48.01it/s]\n",
      "  9%|██████▍                                                                  | 17012/191926 [06:01<1:04:22, 45.29it/s]\n",
      "  9%|██████▍                                                                  | 17017/191926 [06:01<1:07:54, 42.93it/s]\n",
      "  9%|██████▍                                                                  | 17022/191926 [06:01<1:10:16, 41.48it/s]\n",
      "  9%|██████▍                                                                  | 17030/191926 [06:01<1:03:02, 46.24it/s]\n",
      "  9%|██████▍                                                                  | 17035/191926 [06:02<1:08:08, 42.77it/s]\n",
      "  9%|██████▍                                                                  | 17042/191926 [06:02<1:00:59, 47.78it/s]\n",
      "  9%|██████▋                                                                    | 17049/191926 [06:02<56:21, 51.72it/s]\n",
      "  9%|██████▍                                                                  | 17055/191926 [06:02<1:01:13, 47.60it/s]\n",
      "  9%|██████▋                                                                    | 17061/191926 [06:02<58:47, 49.57it/s]\n",
      "  9%|██████▋                                                                    | 17068/191926 [06:02<55:32, 52.47it/s]\n",
      "  9%|██████▋                                                                    | 17077/191926 [06:02<51:32, 56.54it/s]\n",
      "  9%|██████▋                                                                    | 17083/191926 [06:02<50:42, 57.47it/s]\n",
      "  9%|██████▋                                                                    | 17089/191926 [06:02<52:48, 55.19it/s]\n",
      "  9%|██████▋                                                                    | 17098/191926 [06:03<47:19, 61.57it/s]"
     ]
    },
    {
     "name": "stdout",
     "output_type": "stream",
     "text": [
      "loss for 17100 is nan\n"
     ]
    },
    {
     "name": "stderr",
     "output_type": "stream",
     "text": [
      "\n",
      "  9%|██████▋                                                                    | 17105/191926 [06:03<46:46, 62.28it/s]\n",
      "  9%|██████▋                                                                    | 17112/191926 [06:03<48:21, 60.26it/s]\n",
      "  9%|██████▋                                                                    | 17119/191926 [06:03<47:29, 61.34it/s]\n",
      "  9%|██████▋                                                                    | 17126/191926 [06:03<50:48, 57.35it/s]\n",
      "  9%|██████▋                                                                    | 17135/191926 [06:03<46:01, 63.29it/s]\n",
      "  9%|██████▋                                                                    | 17142/191926 [06:03<48:30, 60.06it/s]\n",
      "  9%|██████▋                                                                    | 17149/191926 [06:03<47:45, 61.00it/s]\n",
      "  9%|██████▋                                                                    | 17158/191926 [06:04<43:43, 66.62it/s]\n",
      "  9%|██████▋                                                                    | 17168/191926 [06:04<39:52, 73.05it/s]\n",
      "  9%|██████▋                                                                    | 17177/191926 [06:04<38:31, 75.60it/s]\n",
      "  9%|██████▋                                                                    | 17187/191926 [06:04<36:31, 79.75it/s]\n",
      "  9%|██████▋                                                                    | 17196/191926 [06:04<37:41, 77.26it/s]"
     ]
    },
    {
     "name": "stdout",
     "output_type": "stream",
     "text": [
      "loss for 17200 is nan\n"
     ]
    },
    {
     "name": "stderr",
     "output_type": "stream",
     "text": [
      "\n",
      "  9%|██████▋                                                                    | 17204/191926 [06:04<47:02, 61.90it/s]\n",
      "  9%|██████▋                                                                    | 17211/191926 [06:04<53:13, 54.71it/s]\n",
      "  9%|██████▋                                                                    | 17218/191926 [06:04<50:29, 57.67it/s]\n",
      "  9%|██████▋                                                                    | 17226/191926 [06:05<47:21, 61.49it/s]\n",
      "  9%|██████▋                                                                    | 17233/191926 [06:05<46:22, 62.78it/s]\n",
      "  9%|██████▋                                                                    | 17240/191926 [06:05<51:57, 56.04it/s]\n",
      "  9%|██████▋                                                                    | 17249/191926 [06:05<46:58, 61.97it/s]\n",
      "  9%|██████▋                                                                    | 17258/191926 [06:05<43:29, 66.93it/s]\n",
      "  9%|██████▋                                                                    | 17266/191926 [06:05<49:29, 58.82it/s]\n",
      "  9%|██████▋                                                                    | 17273/191926 [06:05<52:55, 55.00it/s]\n",
      "  9%|██████▊                                                                    | 17279/191926 [06:05<51:53, 56.10it/s]\n",
      "  9%|██████▊                                                                    | 17285/191926 [06:06<56:57, 51.10it/s]\n",
      "  9%|██████▌                                                                  | 17291/191926 [06:06<1:00:55, 47.77it/s]\n",
      "  9%|██████▌                                                                  | 17297/191926 [06:06<1:05:22, 44.52it/s]"
     ]
    },
    {
     "name": "stdout",
     "output_type": "stream",
     "text": [
      "loss for 17300 is nan\n"
     ]
    },
    {
     "name": "stderr",
     "output_type": "stream",
     "text": [
      "\n",
      "  9%|██████▌                                                                  | 17302/191926 [06:06<1:07:35, 43.06it/s]\n",
      "  9%|██████▊                                                                    | 17311/191926 [06:06<57:01, 51.03it/s]\n",
      "  9%|██████▊                                                                    | 17317/191926 [06:06<56:37, 51.39it/s]\n",
      "  9%|██████▊                                                                    | 17324/191926 [06:06<52:56, 54.96it/s]\n",
      "  9%|██████▊                                                                    | 17330/191926 [06:06<58:53, 49.41it/s]\n",
      "  9%|██████▊                                                                    | 17337/191926 [06:07<55:34, 52.36it/s]\n",
      "  9%|██████▊                                                                    | 17345/191926 [06:07<50:50, 57.24it/s]\n",
      "  9%|██████▊                                                                    | 17352/191926 [06:07<53:48, 54.07it/s]\n",
      "  9%|██████▊                                                                    | 17360/191926 [06:07<51:18, 56.71it/s]\n",
      "  9%|██████▊                                                                    | 17368/191926 [06:07<48:30, 59.98it/s]\n",
      "  9%|██████▊                                                                    | 17375/191926 [06:07<54:10, 53.70it/s]\n",
      "  9%|██████▊                                                                    | 17381/191926 [06:07<58:36, 49.63it/s]\n",
      "  9%|██████▊                                                                    | 17387/191926 [06:08<57:01, 51.01it/s]\n",
      "  9%|██████▊                                                                    | 17393/191926 [06:08<59:53, 48.57it/s]\n",
      "  9%|██████▌                                                                  | 17399/191926 [06:08<1:04:38, 45.00it/s]"
     ]
    },
    {
     "name": "stdout",
     "output_type": "stream",
     "text": [
      "loss for 17400 is nan\n"
     ]
    },
    {
     "name": "stderr",
     "output_type": "stream",
     "text": [
      "\n",
      "  9%|██████▊                                                                    | 17407/191926 [06:08<57:10, 50.87it/s]\n",
      "  9%|██████▌                                                                  | 17413/191926 [06:08<1:00:27, 48.10it/s]\n",
      "  9%|██████▊                                                                    | 17420/191926 [06:08<55:43, 52.18it/s]\n",
      "  9%|██████▊                                                                    | 17426/191926 [06:08<59:11, 49.13it/s]\n",
      "  9%|██████▋                                                                  | 17432/191926 [06:08<1:00:35, 48.00it/s]\n",
      "  9%|██████▋                                                                  | 17438/191926 [06:09<1:00:06, 48.38it/s]\n",
      "  9%|██████▋                                                                  | 17443/191926 [06:09<1:06:36, 43.66it/s]\n",
      "  9%|██████▋                                                                  | 17450/191926 [06:09<1:00:15, 48.26it/s]\n",
      "  9%|██████▋                                                                  | 17456/191926 [06:09<1:02:36, 46.44it/s]\n",
      "  9%|██████▊                                                                    | 17464/191926 [06:09<57:27, 50.61it/s]\n",
      "  9%|██████▊                                                                    | 17471/191926 [06:09<53:37, 54.22it/s]\n",
      "  9%|██████▋                                                                  | 17477/191926 [06:09<1:01:43, 47.10it/s]\n",
      "  9%|██████▋                                                                  | 17483/191926 [06:09<1:03:46, 45.58it/s]\n",
      "  9%|██████▋                                                                  | 17488/191926 [06:10<1:04:33, 45.04it/s]\n",
      "  9%|██████▋                                                                  | 17493/191926 [06:10<1:06:59, 43.40it/s]\n",
      "  9%|██████▋                                                                  | 17498/191926 [06:10<1:08:41, 42.33it/s]"
     ]
    },
    {
     "name": "stdout",
     "output_type": "stream",
     "text": [
      "loss for 17500 is nan\n"
     ]
    },
    {
     "name": "stderr",
     "output_type": "stream",
     "text": [
      "\n",
      "  9%|██████▋                                                                  | 17503/191926 [06:10<1:15:19, 38.59it/s]\n",
      "  9%|██████▋                                                                  | 17508/191926 [06:10<1:13:25, 39.59it/s]\n",
      "  9%|██████▋                                                                  | 17514/191926 [06:10<1:08:38, 42.35it/s]\n",
      "  9%|██████▋                                                                  | 17519/191926 [06:10<1:15:36, 38.45it/s]\n",
      "  9%|██████▋                                                                  | 17524/191926 [06:11<1:20:29, 36.11it/s]\n",
      "  9%|██████▋                                                                  | 17528/191926 [06:11<1:25:22, 34.04it/s]\n",
      "  9%|██████▋                                                                  | 17532/191926 [06:11<1:33:49, 30.98it/s]\n",
      "  9%|██████▋                                                                  | 17536/191926 [06:11<1:36:18, 30.18it/s]\n",
      "  9%|██████▋                                                                  | 17540/191926 [06:11<1:37:25, 29.83it/s]\n",
      "  9%|██████▋                                                                  | 17549/191926 [06:11<1:19:21, 36.62it/s]\n",
      "  9%|██████▋                                                                  | 17554/191926 [06:11<1:21:04, 35.85it/s]\n",
      "  9%|██████▋                                                                  | 17561/191926 [06:12<1:10:02, 41.49it/s]\n",
      "  9%|██████▋                                                                  | 17566/191926 [06:12<1:12:58, 39.82it/s]\n",
      "  9%|██████▋                                                                  | 17576/191926 [06:12<1:00:36, 47.94it/s]\n",
      "  9%|██████▋                                                                  | 17582/191926 [06:12<1:02:51, 46.23it/s]\n",
      "  9%|██████▊                                                                    | 17589/191926 [06:12<59:33, 48.79it/s]\n",
      "  9%|██████▋                                                                  | 17595/191926 [06:12<1:04:08, 45.30it/s]"
     ]
    },
    {
     "name": "stdout",
     "output_type": "stream",
     "text": [
      "loss for 17600 is nan\n"
     ]
    },
    {
     "name": "stderr",
     "output_type": "stream",
     "text": [
      "\n",
      "  9%|██████▉                                                                    | 17603/191926 [06:12<57:08, 50.84it/s]\n",
      "  9%|██████▋                                                                  | 17609/191926 [06:12<1:03:14, 45.94it/s]\n",
      "  9%|██████▋                                                                  | 17615/191926 [06:13<1:01:56, 46.90it/s]\n",
      "  9%|██████▉                                                                    | 17622/191926 [06:13<56:33, 51.37it/s]\n",
      "  9%|██████▋                                                                  | 17628/191926 [06:13<1:04:32, 45.01it/s]\n",
      "  9%|██████▋                                                                  | 17635/191926 [06:13<1:00:44, 47.83it/s]\n",
      "  9%|██████▋                                                                  | 17641/191926 [06:13<1:07:37, 42.95it/s]\n",
      "  9%|██████▉                                                                    | 17650/191926 [06:13<58:01, 50.06it/s]\n",
      "  9%|██████▉                                                                    | 17658/191926 [06:13<54:46, 53.03it/s]\n",
      "  9%|██████▉                                                                    | 17664/191926 [06:13<54:32, 53.25it/s]\n",
      "  9%|██████▉                                                                    | 17670/191926 [06:14<59:35, 48.73it/s]\n",
      "  9%|██████▉                                                                    | 17676/191926 [06:14<57:35, 50.42it/s]\n",
      "  9%|██████▉                                                                    | 17683/191926 [06:14<53:35, 54.19it/s]\n",
      "  9%|██████▉                                                                    | 17691/191926 [06:14<49:25, 58.76it/s]"
     ]
    },
    {
     "name": "stdout",
     "output_type": "stream",
     "text": [
      "loss for 17700 is nan\n"
     ]
    },
    {
     "name": "stderr",
     "output_type": "stream",
     "text": [
      "\n",
      "  9%|██████▉                                                                    | 17701/191926 [06:14<44:07, 65.82it/s]\n",
      "  9%|██████▉                                                                    | 17709/191926 [06:14<48:39, 59.68it/s]\n",
      "  9%|██████▉                                                                    | 17716/191926 [06:14<55:18, 52.50it/s]\n",
      "  9%|██████▉                                                                    | 17723/191926 [06:15<54:26, 53.32it/s]\n",
      "  9%|██████▉                                                                    | 17730/191926 [06:15<51:18, 56.58it/s]\n",
      "  9%|██████▉                                                                    | 17736/191926 [06:15<58:35, 49.55it/s]\n",
      "  9%|██████▉                                                                    | 17742/191926 [06:15<57:50, 50.20it/s]\n",
      "  9%|██████▊                                                                  | 17748/191926 [06:15<1:00:53, 47.68it/s]\n",
      "  9%|██████▊                                                                  | 17753/191926 [06:15<1:10:54, 40.94it/s]\n",
      "  9%|██████▊                                                                  | 17758/191926 [06:15<1:10:21, 41.26it/s]\n",
      "  9%|██████▊                                                                  | 17763/191926 [06:15<1:10:26, 41.21it/s]\n",
      "  9%|██████▊                                                                  | 17768/191926 [06:16<1:13:19, 39.58it/s]\n",
      "  9%|██████▊                                                                  | 17773/191926 [06:16<1:10:22, 41.24it/s]\n",
      "  9%|██████▊                                                                  | 17778/191926 [06:16<1:11:01, 40.87it/s]\n",
      "  9%|██████▊                                                                  | 17783/191926 [06:16<1:11:28, 40.60it/s]\n",
      "  9%|██████▊                                                                  | 17790/191926 [06:16<1:05:34, 44.26it/s]\n",
      "  9%|██████▊                                                                  | 17795/191926 [06:16<1:09:28, 41.78it/s]\n",
      "  9%|██████▊                                                                  | 17800/191926 [06:16<1:10:02, 41.43it/s]"
     ]
    },
    {
     "name": "stdout",
     "output_type": "stream",
     "text": [
      "loss for 17800 is nan\n"
     ]
    },
    {
     "name": "stderr",
     "output_type": "stream",
     "text": [
      "\n",
      "  9%|██████▊                                                                  | 17805/191926 [06:16<1:12:15, 40.16it/s]\n",
      "  9%|██████▊                                                                  | 17810/191926 [06:17<1:13:17, 39.60it/s]\n",
      "  9%|██████▊                                                                  | 17815/191926 [06:17<1:13:51, 39.29it/s]\n",
      "  9%|██████▊                                                                  | 17820/191926 [06:17<1:13:27, 39.50it/s]\n",
      "  9%|██████▊                                                                  | 17824/191926 [06:17<1:15:13, 38.58it/s]\n",
      "  9%|██████▊                                                                  | 17828/191926 [06:17<1:15:21, 38.50it/s]\n",
      "  9%|██████▊                                                                  | 17832/191926 [06:17<1:17:45, 37.31it/s]\n",
      "  9%|██████▊                                                                  | 17837/191926 [06:17<1:16:29, 37.93it/s]\n",
      "  9%|██████▊                                                                  | 17842/191926 [06:17<1:13:30, 39.47it/s]\n",
      "  9%|██████▊                                                                  | 17847/191926 [06:18<1:12:38, 39.94it/s]\n",
      "  9%|██████▊                                                                  | 17852/191926 [06:18<1:12:07, 40.22it/s]\n",
      "  9%|██████▊                                                                  | 17857/191926 [06:18<1:09:31, 41.73it/s]\n",
      "  9%|██████▊                                                                  | 17862/191926 [06:18<1:13:08, 39.67it/s]\n",
      "  9%|██████▊                                                                  | 17869/191926 [06:18<1:04:47, 44.78it/s]\n",
      "  9%|██████▊                                                                  | 17874/191926 [06:18<1:03:21, 45.79it/s]\n",
      "  9%|██████▉                                                                    | 17883/191926 [06:18<54:17, 53.43it/s]\n",
      "  9%|██████▉                                                                    | 17890/191926 [06:18<50:44, 57.17it/s]"
     ]
    },
    {
     "ename": "KeyboardInterrupt",
     "evalue": "",
     "output_type": "error",
     "traceback": [
      "\u001b[1;31m---------------------------------------------------------------------------\u001b[0m",
      "\u001b[1;31mKeyboardInterrupt\u001b[0m                         Traceback (most recent call last)",
      "\u001b[1;32m<ipython-input-49-c12f4bd2563c>\u001b[0m in \u001b[0;36m<module>\u001b[1;34m()\u001b[0m\n\u001b[1;32m----> 1\u001b[1;33m \u001b[0mgeneral_train_function\u001b[0m\u001b[1;33m(\u001b[0m\u001b[0mreuters_dataset\u001b[0m\u001b[1;33m)\u001b[0m\u001b[1;33m\u001b[0m\u001b[0m\n\u001b[0m",
      "\u001b[1;32m<ipython-input-47-a97d9bd6307f>\u001b[0m in \u001b[0;36mgeneral_train_function\u001b[1;34m(dataset)\u001b[0m\n\u001b[0;32m     23\u001b[0m         \u001b[1;31m#     print(x)\u001b[0m\u001b[1;33m\u001b[0m\u001b[1;33m\u001b[0m\u001b[0m\n\u001b[0;32m     24\u001b[0m         \u001b[1;31m#     print(y)\u001b[0m\u001b[1;33m\u001b[0m\u001b[1;33m\u001b[0m\u001b[0m\n\u001b[1;32m---> 25\u001b[1;33m             \u001b[0m_\u001b[0m\u001b[1;33m,\u001b[0m \u001b[0mloss\u001b[0m \u001b[1;33m=\u001b[0m \u001b[0mtrain\u001b[0m\u001b[1;33m(\u001b[0m\u001b[0mx\u001b[0m\u001b[1;33m,\u001b[0m\u001b[0my\u001b[0m\u001b[1;33m)\u001b[0m\u001b[1;33m\u001b[0m\u001b[0m\n\u001b[0m\u001b[0;32m     26\u001b[0m             \u001b[0mepoch_loss\u001b[0m \u001b[1;33m+=\u001b[0m \u001b[0mloss\u001b[0m\u001b[1;33m\u001b[0m\u001b[0m\n\u001b[0;32m     27\u001b[0m             \u001b[0mepoch_length\u001b[0m \u001b[1;33m+=\u001b[0m \u001b[0mx\u001b[0m\u001b[1;33m.\u001b[0m\u001b[0msize\u001b[0m\u001b[1;33m(\u001b[0m\u001b[1;33m)\u001b[0m\u001b[1;33m[\u001b[0m\u001b[1;36m0\u001b[0m\u001b[1;33m]\u001b[0m\u001b[1;33m\u001b[0m\u001b[0m\n",
      "\u001b[1;32m<ipython-input-12-b3ce4af2b6f3>\u001b[0m in \u001b[0;36mtrain\u001b[1;34m(input_tensor, target_tensor)\u001b[0m\n\u001b[0;32m     35\u001b[0m \u001b[1;31m#\u001b[0m\u001b[1;33m\u001b[0m\u001b[1;33m\u001b[0m\u001b[0m\n\u001b[0;32m     36\u001b[0m \u001b[1;31m#         torch.tensor([all_categories.index(category)], dtype=torch.long)\u001b[0m\u001b[1;33m\u001b[0m\u001b[1;33m\u001b[0m\u001b[0m\n\u001b[1;32m---> 37\u001b[1;33m         \u001b[0mmax_tensor\u001b[0m \u001b[1;33m=\u001b[0m \u001b[0mtorch\u001b[0m\u001b[1;33m.\u001b[0m\u001b[0margmax\u001b[0m\u001b[1;33m(\u001b[0m\u001b[0mtarget_tensor\u001b[0m\u001b[1;33m[\u001b[0m\u001b[0mi\u001b[0m\u001b[1;33m]\u001b[0m\u001b[1;33m)\u001b[0m\u001b[1;33m\u001b[0m\u001b[0m\n\u001b[0m\u001b[0;32m     38\u001b[0m \u001b[1;31m#         print(max_tensor)\u001b[0m\u001b[1;33m\u001b[0m\u001b[1;33m\u001b[0m\u001b[0m\n\u001b[0;32m     39\u001b[0m         \u001b[0mind\u001b[0m \u001b[1;33m=\u001b[0m \u001b[1;33m(\u001b[0m\u001b[0mtorch\u001b[0m\u001b[1;33m.\u001b[0m\u001b[0margmax\u001b[0m\u001b[1;33m(\u001b[0m\u001b[0mtarget_tensor\u001b[0m\u001b[1;33m[\u001b[0m\u001b[0mi\u001b[0m\u001b[1;33m]\u001b[0m\u001b[1;33m)\u001b[0m\u001b[1;33m)\u001b[0m\u001b[1;33m.\u001b[0m\u001b[0mitem\u001b[0m\u001b[1;33m(\u001b[0m\u001b[1;33m)\u001b[0m\u001b[1;33m\u001b[0m\u001b[0m\n",
      "\u001b[1;32m~\\AppData\\Local\\conda\\conda\\envs\\def\\lib\\site-packages\\torch\\functional.py\u001b[0m in \u001b[0;36margmax\u001b[1;34m(input, dim, keepdim)\u001b[0m\n\u001b[0;32m    371\u001b[0m     \"\"\"\n\u001b[0;32m    372\u001b[0m     \u001b[1;32mif\u001b[0m \u001b[0mdim\u001b[0m \u001b[1;32mis\u001b[0m \u001b[1;32mNone\u001b[0m\u001b[1;33m:\u001b[0m\u001b[1;33m\u001b[0m\u001b[0m\n\u001b[1;32m--> 373\u001b[1;33m         \u001b[1;32mreturn\u001b[0m \u001b[0mtorch\u001b[0m\u001b[1;33m.\u001b[0m\u001b[0m_argmax\u001b[0m\u001b[1;33m(\u001b[0m\u001b[0minput\u001b[0m\u001b[1;33m.\u001b[0m\u001b[0mcontiguous\u001b[0m\u001b[1;33m(\u001b[0m\u001b[1;33m)\u001b[0m\u001b[1;33m.\u001b[0m\u001b[0mview\u001b[0m\u001b[1;33m(\u001b[0m\u001b[1;33m-\u001b[0m\u001b[1;36m1\u001b[0m\u001b[1;33m)\u001b[0m\u001b[1;33m,\u001b[0m \u001b[0mdim\u001b[0m\u001b[1;33m=\u001b[0m\u001b[1;36m0\u001b[0m\u001b[1;33m,\u001b[0m \u001b[0mkeepdim\u001b[0m\u001b[1;33m=\u001b[0m\u001b[1;32mFalse\u001b[0m\u001b[1;33m)\u001b[0m\u001b[1;33m\u001b[0m\u001b[0m\n\u001b[0m\u001b[0;32m    374\u001b[0m     \u001b[1;32mreturn\u001b[0m \u001b[0mtorch\u001b[0m\u001b[1;33m.\u001b[0m\u001b[0m_argmax\u001b[0m\u001b[1;33m(\u001b[0m\u001b[0minput\u001b[0m\u001b[1;33m,\u001b[0m \u001b[0mdim\u001b[0m\u001b[1;33m,\u001b[0m \u001b[0mkeepdim\u001b[0m\u001b[1;33m)\u001b[0m\u001b[1;33m\u001b[0m\u001b[0m\n\u001b[0;32m    375\u001b[0m \u001b[1;33m\u001b[0m\u001b[0m\n",
      "\u001b[1;31mKeyboardInterrupt\u001b[0m: "
     ]
    },
    {
     "name": "stderr",
     "output_type": "stream",
     "text": [
      "\n",
      "  9%|██████▉                                                                    | 17890/191926 [06:33<50:44, 57.17it/s]"
     ]
    }
   ],
   "source": [
    "general_train_function(reuters_dataset)\n",
    "\n"
   ]
  },
  {
   "cell_type": "code",
   "execution_count": null,
   "metadata": {},
   "outputs": [],
   "source": [
    "\n",
    "# returns the loss for a line, evaluating on a BASIC rnn, and using the provided optimizer\n",
    "def prototype_general_train(input_tensor, target_tensor, basic_rnn, optimizer):\n",
    "    \n",
    "        \n",
    "    \n",
    "    optimizer.zero_grad()\n",
    "    \n",
    "    criterion = nn.NLLLoss()    \n",
    "    hidden = rnn.initHidden()\n",
    "    loss = 0\n",
    "    basic_rnn.zero_grad()\n",
    "    for i in range(input_tensor.size()[0]):\n",
    "        output, hidden = basic_rnn(input_tensor[i], hidden)\n",
    "        \n",
    "        max_tensor = torch.argmax(target_tensor[i])\n",
    "        ind = (torch.argmax(target_tensor[i])).item()\n",
    "        true_target_tensor = torch.tensor([ind], dtype=torch.long)\n",
    "        #     Evaluate the loss on each character!\n",
    "        loss += criterion(output, true_target_tensor)\n",
    "        \n",
    "    loss.backward()\n",
    "    optimizer.step()\n",
    "\n",
    "    return output, loss.item()\n"
   ]
  },
  {
   "cell_type": "code",
   "execution_count": null,
   "metadata": {},
   "outputs": [],
   "source": []
  }
 ],
 "metadata": {
  "kernelspec": {
   "display_name": "def",
   "language": "python",
   "name": "def"
  },
  "language_info": {
   "codemirror_mode": {
    "name": "ipython",
    "version": 3
   },
   "file_extension": ".py",
   "mimetype": "text/x-python",
   "name": "python",
   "nbconvert_exporter": "python",
   "pygments_lexer": "ipython3",
   "version": "3.6.6"
  }
 },
 "nbformat": 4,
 "nbformat_minor": 2
}
